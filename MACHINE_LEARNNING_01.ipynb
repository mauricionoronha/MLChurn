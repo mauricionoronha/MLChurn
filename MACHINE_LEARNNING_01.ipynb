{
  "nbformat": 4,
  "nbformat_minor": 0,
  "metadata": {
    "colab": {
      "provenance": [],
      "collapsed_sections": [
        "dVHP00STLaPE",
        "4In6vP1AYx1B",
        "j7G_rcQFbISq",
        "PE2G2kqleHsj",
        "1zqbPmD2hcRL",
        "A7IucIMLkdky",
        "m92hY2uDDXf_",
        "CUwRAwTzEeIq",
        "kjHi2lYBOyKP",
        "q83dWwXQQD_A",
        "wPNmm387QLN2",
        "zbIwUts-ReKG",
        "FPwoyhjeabWc",
        "rue6IPkAbmQQ",
        "QTUew3hSsqnH",
        "dV_VpFTjApm-",
        "23vqld4WyzZ1",
        "uT4ymF2Y4NlO",
        "X62YudWl9jvN",
        "KywuOYDJaUyA",
        "Ms0obJ7admmr",
        "cnNjm7kurFdQ",
        "W59xZsxx73LL",
        "oWA-fnm7F8wr"
      ],
      "mount_file_id": "1t4H4f9vtdCn-Z5HkbjofWnvEpzfunZeB",
      "authorship_tag": "ABX9TyMndHBU1LFYKntz/0klMXx6"
    },
    "kernelspec": {
      "name": "python3",
      "display_name": "Python 3"
    },
    "language_info": {
      "name": "python"
    },
    "widgets": {
      "application/vnd.jupyter.widget-state+json": {
        "12d6839f80324b4baca6b43547ea826e": {
          "model_module": "catboost-widget",
          "model_name": "CatboostWidgetModel",
          "model_module_version": "^1.0.0",
          "state": {
            "_dom_classes": [],
            "_model_module": "catboost-widget",
            "_model_module_version": "^1.0.0",
            "_model_name": "CatboostWidgetModel",
            "_view_count": null,
            "_view_module": "catboost-widget",
            "_view_module_version": "^1.0.0",
            "_view_name": "CatboostWidgetView",
            "data": {
              "catboost_info": {
                "path": "catboost_info",
                "name": "catboost_info",
                "content": {
                  "passed_iterations": 119,
                  "total_iterations": 120,
                  "data": {
                    "iterations": [
                      {
                        "learn": [
                          0.8861154446,
                          0.6626826072
                        ],
                        "iteration": 0,
                        "passed_time": 0.05367011919,
                        "remaining_time": 6.386744183,
                        "test": [
                          0.7789855072,
                          0.6675048102
                        ]
                      },
                      {
                        "learn": [
                          0.8689547582,
                          0.6275769096
                        ],
                        "iteration": 1,
                        "passed_time": 0.05838551047,
                        "remaining_time": 3.444745118,
                        "test": [
                          0.7934782609,
                          0.6349051355
                        ]
                      },
                      {
                        "learn": [
                          0.8471138846,
                          0.5982421891
                        ],
                        "iteration": 2,
                        "passed_time": 0.06042420187,
                        "remaining_time": 2.356543873,
                        "test": [
                          0.7971014493,
                          0.6093358462
                        ]
                      },
                      {
                        "learn": [
                          0.8549141966,
                          0.5748694569
                        ],
                        "iteration": 3,
                        "passed_time": 0.06397405877,
                        "remaining_time": 1.855247704,
                        "test": [
                          0.8043478261,
                          0.5897324919
                        ]
                      },
                      {
                        "learn": [
                          0.8517940718,
                          0.5520917676
                        ],
                        "iteration": 4,
                        "passed_time": 0.0678362978,
                        "remaining_time": 1.560234849,
                        "test": [
                          0.8043478261,
                          0.5691018549
                        ]
                      },
                      {
                        "learn": [
                          0.848673947,
                          0.5326351804
                        ],
                        "iteration": 5,
                        "passed_time": 0.07138858427,
                        "remaining_time": 1.356383101,
                        "test": [
                          0.8043478261,
                          0.5529096713
                        ]
                      },
                      {
                        "learn": [
                          0.8580343214,
                          0.5160505132
                        ],
                        "iteration": 6,
                        "passed_time": 0.07507699363,
                        "remaining_time": 1.211957183,
                        "test": [
                          0.8115942029,
                          0.5378075361
                        ]
                      },
                      {
                        "learn": [
                          0.864274571,
                          0.5007304758
                        ],
                        "iteration": 7,
                        "passed_time": 0.07876400798,
                        "remaining_time": 1.102696112,
                        "test": [
                          0.8043478261,
                          0.5251715252
                        ]
                      },
                      {
                        "learn": [
                          0.8533541342,
                          0.4860348072
                        ],
                        "iteration": 8,
                        "passed_time": 0.08251624123,
                        "remaining_time": 1.017700309,
                        "test": [
                          0.8043478261,
                          0.5134922093
                        ]
                      },
                      {
                        "learn": [
                          0.8611544462,
                          0.47137833
                        ],
                        "iteration": 9,
                        "passed_time": 0.08618392991,
                        "remaining_time": 0.948023229,
                        "test": [
                          0.8115942029,
                          0.5018339467
                        ]
                      },
                      {
                        "learn": [
                          0.864274571,
                          0.4597555989
                        ],
                        "iteration": 10,
                        "passed_time": 0.089701396,
                        "remaining_time": 0.8888592876,
                        "test": [
                          0.8079710145,
                          0.4919852604
                        ]
                      },
                      {
                        "learn": [
                          0.8658346334,
                          0.4482594614
                        ],
                        "iteration": 11,
                        "passed_time": 0.09364617413,
                        "remaining_time": 0.8428155672,
                        "test": [
                          0.8043478261,
                          0.4835940967
                        ]
                      },
                      {
                        "learn": [
                          0.8689547582,
                          0.4388331706
                        ],
                        "iteration": 12,
                        "passed_time": 0.09777056836,
                        "remaining_time": 0.8047269857,
                        "test": [
                          0.8043478261,
                          0.4764189132
                        ]
                      },
                      {
                        "learn": [
                          0.8611544462,
                          0.4308307991
                        ],
                        "iteration": 13,
                        "passed_time": 0.09913360039,
                        "remaining_time": 0.7505829744,
                        "test": [
                          0.8007246377,
                          0.4703767828
                        ]
                      },
                      {
                        "learn": [
                          0.8611544462,
                          0.4223421156
                        ],
                        "iteration": 14,
                        "passed_time": 0.1031120894,
                        "remaining_time": 0.7217846255,
                        "test": [
                          0.8007246377,
                          0.4641384607
                        ]
                      },
                      {
                        "learn": [
                          0.8658346334,
                          0.4137269863
                        ],
                        "iteration": 15,
                        "passed_time": 0.1060901185,
                        "remaining_time": 0.6895857703,
                        "test": [
                          0.7971014493,
                          0.4574870021
                        ]
                      },
                      {
                        "learn": [
                          0.8673946958,
                          0.4069773542
                        ],
                        "iteration": 16,
                        "passed_time": 0.1095366952,
                        "remaining_time": 0.663663506,
                        "test": [
                          0.7971014493,
                          0.4529477525
                        ]
                      },
                      {
                        "learn": [
                          0.8689547582,
                          0.3987977771
                        ],
                        "iteration": 17,
                        "passed_time": 0.1131462723,
                        "remaining_time": 0.6411622096,
                        "test": [
                          0.8007246377,
                          0.4453656732
                        ]
                      },
                      {
                        "learn": [
                          0.872074883,
                          0.3913511925
                        ],
                        "iteration": 18,
                        "passed_time": 0.1165654309,
                        "remaining_time": 0.6196372906,
                        "test": [
                          0.8007246377,
                          0.4391245485
                        ]
                      },
                      {
                        "learn": [
                          0.8767550702,
                          0.3843707693
                        ],
                        "iteration": 19,
                        "passed_time": 0.1205541236,
                        "remaining_time": 0.6027706181,
                        "test": [
                          0.8007246377,
                          0.4347392958
                        ]
                      },
                      {
                        "learn": [
                          0.8767550702,
                          0.3779007129
                        ],
                        "iteration": 20,
                        "passed_time": 0.1243734654,
                        "remaining_time": 0.586332051,
                        "test": [
                          0.8079710145,
                          0.4305103987
                        ]
                      },
                      {
                        "learn": [
                          0.879875195,
                          0.3709417258
                        ],
                        "iteration": 21,
                        "passed_time": 0.1280352899,
                        "remaining_time": 0.5703390185,
                        "test": [
                          0.8079710145,
                          0.4243822961
                        ]
                      },
                      {
                        "learn": [
                          0.8814352574,
                          0.3639934051
                        ],
                        "iteration": 22,
                        "passed_time": 0.1315333548,
                        "remaining_time": 0.5547276269,
                        "test": [
                          0.8079710145,
                          0.4177587811
                        ]
                      },
                      {
                        "learn": [
                          0.8814352574,
                          0.3583287866
                        ],
                        "iteration": 23,
                        "passed_time": 0.134803495,
                        "remaining_time": 0.5392139799,
                        "test": [
                          0.8079710145,
                          0.4137979066
                        ]
                      },
                      {
                        "learn": [
                          0.8814352574,
                          0.3520073217
                        ],
                        "iteration": 24,
                        "passed_time": 0.138095579,
                        "remaining_time": 0.5247632002,
                        "test": [
                          0.8079710145,
                          0.4068056454
                        ]
                      },
                      {
                        "learn": [
                          0.8829953198,
                          0.3461088183
                        ],
                        "iteration": 25,
                        "passed_time": 0.1414079419,
                        "remaining_time": 0.5112440976,
                        "test": [
                          0.8115942029,
                          0.402050749
                        ]
                      },
                      {
                        "learn": [
                          0.8845553822,
                          0.3410872652
                        ],
                        "iteration": 26,
                        "passed_time": 0.1446456494,
                        "remaining_time": 0.4982239035,
                        "test": [
                          0.8152173913,
                          0.3980344479
                        ]
                      },
                      {
                        "learn": [
                          0.8829953198,
                          0.3362208985
                        ],
                        "iteration": 27,
                        "passed_time": 0.1454998699,
                        "remaining_time": 0.478071001,
                        "test": [
                          0.8152173913,
                          0.3936701533
                        ]
                      },
                      {
                        "learn": [
                          0.8861154446,
                          0.3324571127
                        ],
                        "iteration": 28,
                        "passed_time": 0.1491650049,
                        "remaining_time": 0.468069498,
                        "test": [
                          0.8115942029,
                          0.3920888706
                        ]
                      },
                      {
                        "learn": [
                          0.8939157566,
                          0.3279842954
                        ],
                        "iteration": 29,
                        "passed_time": 0.1526499315,
                        "remaining_time": 0.4579497945,
                        "test": [
                          0.8115942029,
                          0.3898455071
                        ]
                      },
                      {
                        "learn": [
                          0.895475819,
                          0.3240224419
                        ],
                        "iteration": 30,
                        "passed_time": 0.1608339906,
                        "remaining_time": 0.4617491988,
                        "test": [
                          0.8115942029,
                          0.3862380151
                        ]
                      },
                      {
                        "learn": [
                          0.895475819,
                          0.3202221632
                        ],
                        "iteration": 31,
                        "passed_time": 0.1721465987,
                        "remaining_time": 0.4734031465,
                        "test": [
                          0.8152173913,
                          0.3821803703
                        ]
                      },
                      {
                        "learn": [
                          0.8970358814,
                          0.3148840518
                        ],
                        "iteration": 32,
                        "passed_time": 0.1786495636,
                        "remaining_time": 0.4709852131,
                        "test": [
                          0.8115942029,
                          0.3774935687
                        ]
                      },
                      {
                        "learn": [
                          0.9001560062,
                          0.3108740643
                        ],
                        "iteration": 33,
                        "passed_time": 0.1823781848,
                        "remaining_time": 0.4613095261,
                        "test": [
                          0.8152173913,
                          0.3761316017
                        ]
                      },
                      {
                        "learn": [
                          0.9048361934,
                          0.3069658534
                        ],
                        "iteration": 34,
                        "passed_time": 0.186236386,
                        "remaining_time": 0.452288366,
                        "test": [
                          0.8188405797,
                          0.3741827307
                        ]
                      },
                      {
                        "learn": [
                          0.9095163807,
                          0.3037930252
                        ],
                        "iteration": 35,
                        "passed_time": 0.190050855,
                        "remaining_time": 0.4434519949,
                        "test": [
                          0.8297101449,
                          0.3706273161
                        ]
                      },
                      {
                        "learn": [
                          0.9110764431,
                          0.30025225
                        ],
                        "iteration": 36,
                        "passed_time": 0.1937871199,
                        "remaining_time": 0.4347116472,
                        "test": [
                          0.8224637681,
                          0.3696544242
                        ]
                      },
                      {
                        "learn": [
                          0.9157566303,
                          0.2968983012
                        ],
                        "iteration": 37,
                        "passed_time": 0.1974363292,
                        "remaining_time": 0.4260468157,
                        "test": [
                          0.8260869565,
                          0.3685536583
                        ]
                      },
                      {
                        "learn": [
                          0.9157566303,
                          0.2945919334
                        ],
                        "iteration": 38,
                        "passed_time": 0.1987598849,
                        "remaining_time": 0.4128089918,
                        "test": [
                          0.8333333333,
                          0.3653830634
                        ]
                      },
                      {
                        "learn": [
                          0.9173166927,
                          0.2913767476
                        ],
                        "iteration": 39,
                        "passed_time": 0.2022205986,
                        "remaining_time": 0.4044411971,
                        "test": [
                          0.8333333333,
                          0.3641227319
                        ]
                      },
                      {
                        "learn": [
                          0.9141965679,
                          0.289456751
                        ],
                        "iteration": 40,
                        "passed_time": 0.2036016022,
                        "remaining_time": 0.3923055261,
                        "test": [
                          0.8369565217,
                          0.3622697342
                        ]
                      },
                      {
                        "learn": [
                          0.9141965679,
                          0.2869442964
                        ],
                        "iteration": 41,
                        "passed_time": 0.2069686361,
                        "remaining_time": 0.3843703242,
                        "test": [
                          0.8405797101,
                          0.3609339224
                        ]
                      },
                      {
                        "learn": [
                          0.9173166927,
                          0.2837698917
                        ],
                        "iteration": 42,
                        "passed_time": 0.2103742619,
                        "remaining_time": 0.3767167015,
                        "test": [
                          0.8442028986,
                          0.3595109943
                        ]
                      },
                      {
                        "learn": [
                          0.9173166927,
                          0.2813903101
                        ],
                        "iteration": 43,
                        "passed_time": 0.2138466934,
                        "remaining_time": 0.3693715612,
                        "test": [
                          0.8514492754,
                          0.3579255733
                        ]
                      },
                      {
                        "learn": [
                          0.9173166927,
                          0.2788097285
                        ],
                        "iteration": 44,
                        "passed_time": 0.2172573496,
                        "remaining_time": 0.3620955827,
                        "test": [
                          0.847826087,
                          0.3557611056
                        ]
                      },
                      {
                        "learn": [
                          0.9188767551,
                          0.2769328753
                        ],
                        "iteration": 45,
                        "passed_time": 0.2208033219,
                        "remaining_time": 0.355205344,
                        "test": [
                          0.847826087,
                          0.3546031439
                        ]
                      },
                      {
                        "learn": [
                          0.9204368175,
                          0.2751872661
                        ],
                        "iteration": 46,
                        "passed_time": 0.2243204839,
                        "remaining_time": 0.3484126665,
                        "test": [
                          0.8514492754,
                          0.3539126123
                        ]
                      },
                      {
                        "learn": [
                          0.9204368175,
                          0.272481878
                        ],
                        "iteration": 47,
                        "passed_time": 0.2278600025,
                        "remaining_time": 0.3417900038,
                        "test": [
                          0.8550724638,
                          0.3529759988
                        ]
                      },
                      {
                        "learn": [
                          0.9219968799,
                          0.2705831712
                        ],
                        "iteration": 48,
                        "passed_time": 0.2313701922,
                        "remaining_time": 0.3352506866,
                        "test": [
                          0.8623188406,
                          0.3524249728
                        ]
                      },
                      {
                        "learn": [
                          0.9188767551,
                          0.2700574144
                        ],
                        "iteration": 49,
                        "passed_time": 0.2331657868,
                        "remaining_time": 0.3264321015,
                        "test": [
                          0.8623188406,
                          0.3521626989
                        ]
                      },
                      {
                        "learn": [
                          0.9204368175,
                          0.2681586854
                        ],
                        "iteration": 50,
                        "passed_time": 0.2418052314,
                        "remaining_time": 0.3271482542,
                        "test": [
                          0.865942029,
                          0.3511197818
                        ]
                      },
                      {
                        "learn": [
                          0.9235569423,
                          0.2666719073
                        ],
                        "iteration": 51,
                        "passed_time": 0.2443624727,
                        "remaining_time": 0.3195509258,
                        "test": [
                          0.865942029,
                          0.349340156
                        ]
                      },
                      {
                        "learn": [
                          0.9235569423,
                          0.2666036054
                        ],
                        "iteration": 52,
                        "passed_time": 0.2455437481,
                        "remaining_time": 0.3104043609,
                        "test": [
                          0.865942029,
                          0.3493595959
                        ]
                      },
                      {
                        "learn": [
                          0.9251170047,
                          0.2645592762
                        ],
                        "iteration": 53,
                        "passed_time": 0.2490578287,
                        "remaining_time": 0.3044040129,
                        "test": [
                          0.865942029,
                          0.3490459842
                        ]
                      },
                      {
                        "learn": [
                          0.9235569423,
                          0.2627439721
                        ],
                        "iteration": 54,
                        "passed_time": 0.2532392677,
                        "remaining_time": 0.2992827709,
                        "test": [
                          0.8695652174,
                          0.3477167567
                        ]
                      },
                      {
                        "learn": [
                          0.9204368175,
                          0.2604398393
                        ],
                        "iteration": 55,
                        "passed_time": 0.2572122775,
                        "remaining_time": 0.2939568886,
                        "test": [
                          0.8695652174,
                          0.3454843825
                        ]
                      },
                      {
                        "learn": [
                          0.9219968799,
                          0.2582866023
                        ],
                        "iteration": 56,
                        "passed_time": 0.2610242623,
                        "remaining_time": 0.2885005005,
                        "test": [
                          0.8695652174,
                          0.3450239524
                        ]
                      },
                      {
                        "learn": [
                          0.9251170047,
                          0.2562807224
                        ],
                        "iteration": 57,
                        "passed_time": 0.2646368086,
                        "remaining_time": 0.282887623,
                        "test": [
                          0.8695652174,
                          0.3444577176
                        ]
                      },
                      {
                        "learn": [
                          0.9266770671,
                          0.2542834902
                        ],
                        "iteration": 58,
                        "passed_time": 0.2681572324,
                        "remaining_time": 0.2772473081,
                        "test": [
                          0.8695652174,
                          0.343915083
                        ]
                      },
                      {
                        "learn": [
                          0.9282371295,
                          0.2523660925
                        ],
                        "iteration": 59,
                        "passed_time": 0.2718627906,
                        "remaining_time": 0.2718627906,
                        "test": [
                          0.8695652174,
                          0.3436779511
                        ]
                      },
                      {
                        "learn": [
                          0.9282371295,
                          0.2509960139
                        ],
                        "iteration": 60,
                        "passed_time": 0.2753415358,
                        "remaining_time": 0.2663139445,
                        "test": [
                          0.8695652174,
                          0.3436278122
                        ]
                      },
                      {
                        "learn": [
                          0.9282371295,
                          0.250405833
                        ],
                        "iteration": 61,
                        "passed_time": 0.2789123248,
                        "remaining_time": 0.2609179812,
                        "test": [
                          0.8695652174,
                          0.3435450069
                        ]
                      },
                      {
                        "learn": [
                          0.9251170047,
                          0.2498773615
                        ],
                        "iteration": 62,
                        "passed_time": 0.2824656963,
                        "remaining_time": 0.2555642014,
                        "test": [
                          0.8695652174,
                          0.3427716822
                        ]
                      },
                      {
                        "learn": [
                          0.9251170047,
                          0.2486703651
                        ],
                        "iteration": 63,
                        "passed_time": 0.2860569609,
                        "remaining_time": 0.2502998408,
                        "test": [
                          0.8695652174,
                          0.3430008534
                        ]
                      },
                      {
                        "learn": [
                          0.9251170047,
                          0.2486372614
                        ],
                        "iteration": 64,
                        "passed_time": 0.287149904,
                        "remaining_time": 0.2429729957,
                        "test": [
                          0.8695652174,
                          0.3430531021
                        ]
                      },
                      {
                        "learn": [
                          0.9251170047,
                          0.2484863439
                        ],
                        "iteration": 65,
                        "passed_time": 0.2906920081,
                        "remaining_time": 0.2378389157,
                        "test": [
                          0.8695652174,
                          0.34309368
                        ]
                      },
                      {
                        "learn": [
                          0.9251170047,
                          0.2471594192
                        ],
                        "iteration": 66,
                        "passed_time": 0.2943872798,
                        "remaining_time": 0.2328735198,
                        "test": [
                          0.8695652174,
                          0.3427357656
                        ]
                      },
                      {
                        "learn": [
                          0.9266770671,
                          0.2465195216
                        ],
                        "iteration": 67,
                        "passed_time": 0.2956618145,
                        "remaining_time": 0.2260943287,
                        "test": [
                          0.8695652174,
                          0.3414682848
                        ]
                      },
                      {
                        "learn": [
                          0.9266770671,
                          0.2464607174
                        ],
                        "iteration": 68,
                        "passed_time": 0.2967206263,
                        "remaining_time": 0.2193152455,
                        "test": [
                          0.8695652174,
                          0.3415529189
                        ]
                      },
                      {
                        "learn": [
                          0.9266770671,
                          0.2463911279
                        ],
                        "iteration": 69,
                        "passed_time": 0.2983064172,
                        "remaining_time": 0.2130760123,
                        "test": [
                          0.8695652174,
                          0.3416145452
                        ]
                      },
                      {
                        "learn": [
                          0.9266770671,
                          0.2462418598
                        ],
                        "iteration": 70,
                        "passed_time": 0.3021254698,
                        "remaining_time": 0.2085091271,
                        "test": [
                          0.8695652174,
                          0.3416493773
                        ]
                      },
                      {
                        "learn": [
                          0.9266770671,
                          0.2461348353
                        ],
                        "iteration": 71,
                        "passed_time": 0.3037841988,
                        "remaining_time": 0.2025227992,
                        "test": [
                          0.8695652174,
                          0.341582727
                        ]
                      },
                      {
                        "learn": [
                          0.9266770671,
                          0.246063961
                        ],
                        "iteration": 72,
                        "passed_time": 0.3051717538,
                        "remaining_time": 0.1964804443,
                        "test": [
                          0.8695652174,
                          0.3415979886
                        ]
                      },
                      {
                        "learn": [
                          0.9251170047,
                          0.2446729501
                        ],
                        "iteration": 73,
                        "passed_time": 0.3091941337,
                        "remaining_time": 0.1922017588,
                        "test": [
                          0.8695652174,
                          0.3411563289
                        ]
                      },
                      {
                        "learn": [
                          0.9251170047,
                          0.2446120814
                        ],
                        "iteration": 74,
                        "passed_time": 0.310601204,
                        "remaining_time": 0.1863607224,
                        "test": [
                          0.8695652174,
                          0.3412076031
                        ]
                      },
                      {
                        "learn": [
                          0.9266770671,
                          0.2444639576
                        ],
                        "iteration": 75,
                        "passed_time": 0.3124853023,
                        "remaining_time": 0.1809125434,
                        "test": [
                          0.8695652174,
                          0.3412676102
                        ]
                      },
                      {
                        "learn": [
                          0.9266770671,
                          0.2442533077
                        ],
                        "iteration": 76,
                        "passed_time": 0.3160653068,
                        "remaining_time": 0.1765040025,
                        "test": [
                          0.8695652174,
                          0.34140487
                        ]
                      },
                      {
                        "learn": [
                          0.9266770671,
                          0.243853084
                        ],
                        "iteration": 77,
                        "passed_time": 0.3195612177,
                        "remaining_time": 0.1720714249,
                        "test": [
                          0.8695652174,
                          0.3415578693
                        ]
                      },
                      {
                        "learn": [
                          0.9266770671,
                          0.2430663779
                        ],
                        "iteration": 78,
                        "passed_time": 0.3231384694,
                        "remaining_time": 0.1677047753,
                        "test": [
                          0.865942029,
                          0.3410432328
                        ]
                      },
                      {
                        "learn": [
                          0.9266770671,
                          0.2430122927
                        ],
                        "iteration": 79,
                        "passed_time": 0.3246497799,
                        "remaining_time": 0.16232489,
                        "test": [
                          0.865942029,
                          0.3411383277
                        ]
                      },
                      {
                        "learn": [
                          0.9266770671,
                          0.2426571315
                        ],
                        "iteration": 80,
                        "passed_time": 0.3281050431,
                        "remaining_time": 0.1579765022,
                        "test": [
                          0.865942029,
                          0.3413636675
                        ]
                      },
                      {
                        "learn": [
                          0.9266770671,
                          0.2425607465
                        ],
                        "iteration": 81,
                        "passed_time": 0.3305153122,
                        "remaining_time": 0.1531656325,
                        "test": [
                          0.865942029,
                          0.3414556138
                        ]
                      },
                      {
                        "learn": [
                          0.9266770671,
                          0.2412987363
                        ],
                        "iteration": 82,
                        "passed_time": 0.3341397291,
                        "remaining_time": 0.1489538551,
                        "test": [
                          0.865942029,
                          0.3405980585
                        ]
                      },
                      {
                        "learn": [
                          0.9266770671,
                          0.2407483933
                        ],
                        "iteration": 83,
                        "passed_time": 0.337751458,
                        "remaining_time": 0.1447506249,
                        "test": [
                          0.865942029,
                          0.3397418284
                        ]
                      },
                      {
                        "learn": [
                          0.9297971919,
                          0.2400541061
                        ],
                        "iteration": 84,
                        "passed_time": 0.341479141,
                        "remaining_time": 0.1406090581,
                        "test": [
                          0.865942029,
                          0.3386435517
                        ]
                      },
                      {
                        "learn": [
                          0.9297971919,
                          0.2399235032
                        ],
                        "iteration": 85,
                        "passed_time": 0.3454407534,
                        "remaining_time": 0.1365696002,
                        "test": [
                          0.865942029,
                          0.3387265422
                        ]
                      },
                      {
                        "learn": [
                          0.9282371295,
                          0.2391622568
                        ],
                        "iteration": 86,
                        "passed_time": 0.34916354,
                        "remaining_time": 0.1324413427,
                        "test": [
                          0.865942029,
                          0.3382546427
                        ]
                      },
                      {
                        "learn": [
                          0.9282371295,
                          0.2390988161
                        ],
                        "iteration": 87,
                        "passed_time": 0.3530837315,
                        "remaining_time": 0.1283940842,
                        "test": [
                          0.865942029,
                          0.3382788494
                        ]
                      },
                      {
                        "learn": [
                          0.9282371295,
                          0.2379011404
                        ],
                        "iteration": 88,
                        "passed_time": 0.3566318447,
                        "remaining_time": 0.1242200807,
                        "test": [
                          0.865942029,
                          0.3377672164
                        ]
                      },
                      {
                        "learn": [
                          0.9282371295,
                          0.2378485222
                        ],
                        "iteration": 89,
                        "passed_time": 0.3579270515,
                        "remaining_time": 0.1193090172,
                        "test": [
                          0.865942029,
                          0.3377713275
                        ]
                      },
                      {
                        "learn": [
                          0.9282371295,
                          0.237400346
                        ],
                        "iteration": 90,
                        "passed_time": 0.3613920279,
                        "remaining_time": 0.115168888,
                        "test": [
                          0.865942029,
                          0.3376571222
                        ]
                      },
                      {
                        "learn": [
                          0.9282371295,
                          0.2372635123
                        ],
                        "iteration": 91,
                        "passed_time": 0.3649526667,
                        "remaining_time": 0.1110725507,
                        "test": [
                          0.865942029,
                          0.3377060683
                        ]
                      },
                      {
                        "learn": [
                          0.9282371295,
                          0.2371493264
                        ],
                        "iteration": 92,
                        "passed_time": 0.3674734498,
                        "remaining_time": 0.1066858403,
                        "test": [
                          0.865942029,
                          0.337797211
                        ]
                      },
                      {
                        "learn": [
                          0.9282371295,
                          0.2366078482
                        ],
                        "iteration": 93,
                        "passed_time": 0.3710179412,
                        "remaining_time": 0.1026219837,
                        "test": [
                          0.865942029,
                          0.3370061555
                        ]
                      },
                      {
                        "learn": [
                          0.9282371295,
                          0.2364829455
                        ],
                        "iteration": 94,
                        "passed_time": 0.3745738764,
                        "remaining_time": 0.09857207273,
                        "test": [
                          0.865942029,
                          0.3370555219
                        ]
                      },
                      {
                        "learn": [
                          0.9282371295,
                          0.2363571049
                        ],
                        "iteration": 95,
                        "passed_time": 0.3781371803,
                        "remaining_time": 0.09453429507,
                        "test": [
                          0.865942029,
                          0.3369962948
                        ]
                      },
                      {
                        "learn": [
                          0.9282371295,
                          0.2361979614
                        ],
                        "iteration": 96,
                        "passed_time": 0.3817116224,
                        "remaining_time": 0.0905089414,
                        "test": [
                          0.865942029,
                          0.3371264494
                        ]
                      },
                      {
                        "learn": [
                          0.9282371295,
                          0.2361089913
                        ],
                        "iteration": 97,
                        "passed_time": 0.3852550925,
                        "remaining_time": 0.08648583708,
                        "test": [
                          0.865942029,
                          0.3372409168
                        ]
                      },
                      {
                        "learn": [
                          0.9282371295,
                          0.2359693352
                        ],
                        "iteration": 98,
                        "passed_time": 0.3888760879,
                        "remaining_time": 0.08248886713,
                        "test": [
                          0.865942029,
                          0.3374328376
                        ]
                      },
                      {
                        "learn": [
                          0.9297971919,
                          0.2357508896
                        ],
                        "iteration": 99,
                        "passed_time": 0.3927874656,
                        "remaining_time": 0.07855749313,
                        "test": [
                          0.865942029,
                          0.3374773929
                        ]
                      },
                      {
                        "learn": [
                          0.9282371295,
                          0.2341596427
                        ],
                        "iteration": 100,
                        "passed_time": 0.3966425732,
                        "remaining_time": 0.07461592962,
                        "test": [
                          0.865942029,
                          0.3365155739
                        ]
                      },
                      {
                        "learn": [
                          0.9282371295,
                          0.2340825606
                        ],
                        "iteration": 101,
                        "passed_time": 0.4006147008,
                        "remaining_time": 0.0706967119,
                        "test": [
                          0.865942029,
                          0.3365519377
                        ]
                      },
                      {
                        "learn": [
                          0.9282371295,
                          0.2338790981
                        ],
                        "iteration": 102,
                        "passed_time": 0.4043934211,
                        "remaining_time": 0.06674454523,
                        "test": [
                          0.865942029,
                          0.3366305735
                        ]
                      },
                      {
                        "learn": [
                          0.9282371295,
                          0.2337945328
                        ],
                        "iteration": 103,
                        "passed_time": 0.4081978104,
                        "remaining_time": 0.06279966314,
                        "test": [
                          0.8623188406,
                          0.3366552207
                        ]
                      },
                      {
                        "learn": [
                          0.9282371295,
                          0.2334926967
                        ],
                        "iteration": 104,
                        "passed_time": 0.4119209502,
                        "remaining_time": 0.05884585002,
                        "test": [
                          0.8623188406,
                          0.3365125805
                        ]
                      },
                      {
                        "learn": [
                          0.9282371295,
                          0.2334256365
                        ],
                        "iteration": 105,
                        "passed_time": 0.4173202377,
                        "remaining_time": 0.05511776725,
                        "test": [
                          0.8623188406,
                          0.3365480357
                        ]
                      },
                      {
                        "learn": [
                          0.9282371295,
                          0.2328856329
                        ],
                        "iteration": 106,
                        "passed_time": 0.4218032487,
                        "remaining_time": 0.05124712367,
                        "test": [
                          0.865942029,
                          0.3368470166
                        ]
                      },
                      {
                        "learn": [
                          0.9282371295,
                          0.23280477
                        ],
                        "iteration": 107,
                        "passed_time": 0.4251802173,
                        "remaining_time": 0.04724224636,
                        "test": [
                          0.865942029,
                          0.3368475932
                        ]
                      },
                      {
                        "learn": [
                          0.9282371295,
                          0.2326562548
                        ],
                        "iteration": 108,
                        "passed_time": 0.4331788148,
                        "remaining_time": 0.04371529323,
                        "test": [
                          0.865942029,
                          0.3367529312
                        ]
                      },
                      {
                        "learn": [
                          0.9282371295,
                          0.232524329
                        ],
                        "iteration": 109,
                        "passed_time": 0.4385189298,
                        "remaining_time": 0.03986535726,
                        "test": [
                          0.865942029,
                          0.336702531
                        ]
                      },
                      {
                        "learn": [
                          0.9297971919,
                          0.230888985
                        ],
                        "iteration": 110,
                        "passed_time": 0.4422975979,
                        "remaining_time": 0.0358619674,
                        "test": [
                          0.865942029,
                          0.3361766748
                        ]
                      },
                      {
                        "learn": [
                          0.9297971919,
                          0.2307612942
                        ],
                        "iteration": 111,
                        "passed_time": 0.4509208751,
                        "remaining_time": 0.03220863394,
                        "test": [
                          0.865942029,
                          0.3362063563
                        ]
                      },
                      {
                        "learn": [
                          0.9282371295,
                          0.2303425585
                        ],
                        "iteration": 112,
                        "passed_time": 0.4540908314,
                        "remaining_time": 0.02812952053,
                        "test": [
                          0.865942029,
                          0.3360259161
                        ]
                      },
                      {
                        "learn": [
                          0.9282371295,
                          0.2301584568
                        ],
                        "iteration": 113,
                        "passed_time": 0.4571235944,
                        "remaining_time": 0.02405913655,
                        "test": [
                          0.865942029,
                          0.3360876498
                        ]
                      },
                      {
                        "learn": [
                          0.9282371295,
                          0.2300024987
                        ],
                        "iteration": 114,
                        "passed_time": 0.460452237,
                        "remaining_time": 0.02001966248,
                        "test": [
                          0.865942029,
                          0.3363005342
                        ]
                      },
                      {
                        "learn": [
                          0.9282371295,
                          0.2299425215
                        ],
                        "iteration": 115,
                        "passed_time": 0.4625592023,
                        "remaining_time": 0.01595031732,
                        "test": [
                          0.865942029,
                          0.3363874339
                        ]
                      },
                      {
                        "learn": [
                          0.9297971919,
                          0.2294196869
                        ],
                        "iteration": 116,
                        "passed_time": 0.4657967548,
                        "remaining_time": 0.01194350653,
                        "test": [
                          0.865942029,
                          0.3361181912
                        ]
                      },
                      {
                        "learn": [
                          0.9297971919,
                          0.2293398021
                        ],
                        "iteration": 117,
                        "passed_time": 0.4689890177,
                        "remaining_time": 0.007948966402,
                        "test": [
                          0.865942029,
                          0.3361461266
                        ]
                      },
                      {
                        "learn": [
                          0.9297971919,
                          0.2292590206
                        ],
                        "iteration": 118,
                        "passed_time": 0.4725625217,
                        "remaining_time": 0.003971113628,
                        "test": [
                          0.865942029,
                          0.336205416
                        ]
                      },
                      {
                        "learn": [
                          0.9297971919,
                          0.2291720634
                        ],
                        "iteration": 119,
                        "passed_time": 0.4763165018,
                        "remaining_time": 0,
                        "test": [
                          0.865942029,
                          0.3363429468
                        ]
                      }
                    ],
                    "meta": {
                      "test_sets": [
                        "test"
                      ],
                      "test_metrics": [
                        {
                          "best_value": "Max",
                          "name": "Accuracy"
                        },
                        {
                          "best_value": "Min",
                          "name": "Logloss"
                        }
                      ],
                      "learn_metrics": [
                        {
                          "best_value": "Max",
                          "name": "Accuracy"
                        },
                        {
                          "best_value": "Min",
                          "name": "Logloss"
                        }
                      ],
                      "launch_mode": "Train",
                      "parameters": "",
                      "iteration_count": 120,
                      "learn_sets": [
                        "learn"
                      ],
                      "name": "experiment"
                    }
                  }
                }
              }
            },
            "layout": "IPY_MODEL_8e8d61bccceb49e7a691b15157fd3e92"
          }
        }
      }
    }
  },
  "cells": [
    {
      "cell_type": "markdown",
      "source": [
        "#**EXPLORAÇÃO, ANÁLISE E TRATAMENTO DE DADOS: PROJETO DE PREVISÃO DE DOENÇA CARDÍACA:**\n",
        "\n",
        "Este projeto tem como objetivo desenvolver um algoritmo de machine lernning para prever a tendência de uma pessoa em desenvolver algum tipo de doença cardíaca com base em alguns fatores clínicos e laboratoriais de referência.\n",
        "\n",
        "Os dados foram extraídos do site Kaggle\n",
        "\n",
        "-------------------------------------------------------------\n"
      ],
      "metadata": {
        "id": "dVHP00STLaPE"
      }
    },
    {
      "cell_type": "markdown",
      "source": [
        "1º passo: importar as bibliotecas numpy e pandas e carregar o dataset csv."
      ],
      "metadata": {
        "id": "GrCMHJlZNwNx"
      }
    },
    {
      "cell_type": "code",
      "execution_count": 1,
      "metadata": {
        "id": "5myRJ35VLRAt"
      },
      "outputs": [],
      "source": [
        "#@title\n",
        "import numpy as np\n",
        "import pandas as pd\n",
        "\n",
        "dados = pd.read_csv(\"/content/drive/MyDrive/MACHINE_LEARNNING/heart.csv\",sep=\",\",encoding=\"iso-8859-1\")"
      ]
    },
    {
      "cell_type": "markdown",
      "source": [
        "Verificando a base de dados"
      ],
      "metadata": {
        "id": "VOIuJQ2BOikA"
      }
    },
    {
      "cell_type": "code",
      "source": [
        "#@title\n",
        "dados.head()"
      ],
      "metadata": {
        "id": "S8OBQOy_OnQZ",
        "colab": {
          "base_uri": "https://localhost:8080/",
          "height": 206
        },
        "outputId": "c3f96793-910d-4dc4-e09e-bb509053c4b0"
      },
      "execution_count": 2,
      "outputs": [
        {
          "output_type": "execute_result",
          "data": {
            "text/plain": [
              "   Age Sex ChestPainType  RestingBP  Cholesterol  FastingBS RestingECG  MaxHR  \\\n",
              "0   40   M           ATA        140          289          0     Normal    172   \n",
              "1   49   F           NAP        160          180          0     Normal    156   \n",
              "2   37   M           ATA        130          283          0         ST     98   \n",
              "3   48   F           ASY        138          214          0     Normal    108   \n",
              "4   54   M           NAP        150          195          0     Normal    122   \n",
              "\n",
              "  ExerciseAngina  Oldpeak ST_Slope  HeartDisease  \n",
              "0              N      0.0       Up             0  \n",
              "1              N      1.0     Flat             1  \n",
              "2              N      0.0       Up             0  \n",
              "3              Y      1.5     Flat             1  \n",
              "4              N      0.0       Up             0  "
            ],
            "text/html": [
              "\n",
              "  <div id=\"df-e6f88a2b-689f-49ec-93bf-00531413ab13\">\n",
              "    <div class=\"colab-df-container\">\n",
              "      <div>\n",
              "<style scoped>\n",
              "    .dataframe tbody tr th:only-of-type {\n",
              "        vertical-align: middle;\n",
              "    }\n",
              "\n",
              "    .dataframe tbody tr th {\n",
              "        vertical-align: top;\n",
              "    }\n",
              "\n",
              "    .dataframe thead th {\n",
              "        text-align: right;\n",
              "    }\n",
              "</style>\n",
              "<table border=\"1\" class=\"dataframe\">\n",
              "  <thead>\n",
              "    <tr style=\"text-align: right;\">\n",
              "      <th></th>\n",
              "      <th>Age</th>\n",
              "      <th>Sex</th>\n",
              "      <th>ChestPainType</th>\n",
              "      <th>RestingBP</th>\n",
              "      <th>Cholesterol</th>\n",
              "      <th>FastingBS</th>\n",
              "      <th>RestingECG</th>\n",
              "      <th>MaxHR</th>\n",
              "      <th>ExerciseAngina</th>\n",
              "      <th>Oldpeak</th>\n",
              "      <th>ST_Slope</th>\n",
              "      <th>HeartDisease</th>\n",
              "    </tr>\n",
              "  </thead>\n",
              "  <tbody>\n",
              "    <tr>\n",
              "      <th>0</th>\n",
              "      <td>40</td>\n",
              "      <td>M</td>\n",
              "      <td>ATA</td>\n",
              "      <td>140</td>\n",
              "      <td>289</td>\n",
              "      <td>0</td>\n",
              "      <td>Normal</td>\n",
              "      <td>172</td>\n",
              "      <td>N</td>\n",
              "      <td>0.0</td>\n",
              "      <td>Up</td>\n",
              "      <td>0</td>\n",
              "    </tr>\n",
              "    <tr>\n",
              "      <th>1</th>\n",
              "      <td>49</td>\n",
              "      <td>F</td>\n",
              "      <td>NAP</td>\n",
              "      <td>160</td>\n",
              "      <td>180</td>\n",
              "      <td>0</td>\n",
              "      <td>Normal</td>\n",
              "      <td>156</td>\n",
              "      <td>N</td>\n",
              "      <td>1.0</td>\n",
              "      <td>Flat</td>\n",
              "      <td>1</td>\n",
              "    </tr>\n",
              "    <tr>\n",
              "      <th>2</th>\n",
              "      <td>37</td>\n",
              "      <td>M</td>\n",
              "      <td>ATA</td>\n",
              "      <td>130</td>\n",
              "      <td>283</td>\n",
              "      <td>0</td>\n",
              "      <td>ST</td>\n",
              "      <td>98</td>\n",
              "      <td>N</td>\n",
              "      <td>0.0</td>\n",
              "      <td>Up</td>\n",
              "      <td>0</td>\n",
              "    </tr>\n",
              "    <tr>\n",
              "      <th>3</th>\n",
              "      <td>48</td>\n",
              "      <td>F</td>\n",
              "      <td>ASY</td>\n",
              "      <td>138</td>\n",
              "      <td>214</td>\n",
              "      <td>0</td>\n",
              "      <td>Normal</td>\n",
              "      <td>108</td>\n",
              "      <td>Y</td>\n",
              "      <td>1.5</td>\n",
              "      <td>Flat</td>\n",
              "      <td>1</td>\n",
              "    </tr>\n",
              "    <tr>\n",
              "      <th>4</th>\n",
              "      <td>54</td>\n",
              "      <td>M</td>\n",
              "      <td>NAP</td>\n",
              "      <td>150</td>\n",
              "      <td>195</td>\n",
              "      <td>0</td>\n",
              "      <td>Normal</td>\n",
              "      <td>122</td>\n",
              "      <td>N</td>\n",
              "      <td>0.0</td>\n",
              "      <td>Up</td>\n",
              "      <td>0</td>\n",
              "    </tr>\n",
              "  </tbody>\n",
              "</table>\n",
              "</div>\n",
              "      <button class=\"colab-df-convert\" onclick=\"convertToInteractive('df-e6f88a2b-689f-49ec-93bf-00531413ab13')\"\n",
              "              title=\"Convert this dataframe to an interactive table.\"\n",
              "              style=\"display:none;\">\n",
              "        \n",
              "  <svg xmlns=\"http://www.w3.org/2000/svg\" height=\"24px\"viewBox=\"0 0 24 24\"\n",
              "       width=\"24px\">\n",
              "    <path d=\"M0 0h24v24H0V0z\" fill=\"none\"/>\n",
              "    <path d=\"M18.56 5.44l.94 2.06.94-2.06 2.06-.94-2.06-.94-.94-2.06-.94 2.06-2.06.94zm-11 1L8.5 8.5l.94-2.06 2.06-.94-2.06-.94L8.5 2.5l-.94 2.06-2.06.94zm10 10l.94 2.06.94-2.06 2.06-.94-2.06-.94-.94-2.06-.94 2.06-2.06.94z\"/><path d=\"M17.41 7.96l-1.37-1.37c-.4-.4-.92-.59-1.43-.59-.52 0-1.04.2-1.43.59L10.3 9.45l-7.72 7.72c-.78.78-.78 2.05 0 2.83L4 21.41c.39.39.9.59 1.41.59.51 0 1.02-.2 1.41-.59l7.78-7.78 2.81-2.81c.8-.78.8-2.07 0-2.86zM5.41 20L4 18.59l7.72-7.72 1.47 1.35L5.41 20z\"/>\n",
              "  </svg>\n",
              "      </button>\n",
              "      \n",
              "  <style>\n",
              "    .colab-df-container {\n",
              "      display:flex;\n",
              "      flex-wrap:wrap;\n",
              "      gap: 12px;\n",
              "    }\n",
              "\n",
              "    .colab-df-convert {\n",
              "      background-color: #E8F0FE;\n",
              "      border: none;\n",
              "      border-radius: 50%;\n",
              "      cursor: pointer;\n",
              "      display: none;\n",
              "      fill: #1967D2;\n",
              "      height: 32px;\n",
              "      padding: 0 0 0 0;\n",
              "      width: 32px;\n",
              "    }\n",
              "\n",
              "    .colab-df-convert:hover {\n",
              "      background-color: #E2EBFA;\n",
              "      box-shadow: 0px 1px 2px rgba(60, 64, 67, 0.3), 0px 1px 3px 1px rgba(60, 64, 67, 0.15);\n",
              "      fill: #174EA6;\n",
              "    }\n",
              "\n",
              "    [theme=dark] .colab-df-convert {\n",
              "      background-color: #3B4455;\n",
              "      fill: #D2E3FC;\n",
              "    }\n",
              "\n",
              "    [theme=dark] .colab-df-convert:hover {\n",
              "      background-color: #434B5C;\n",
              "      box-shadow: 0px 1px 3px 1px rgba(0, 0, 0, 0.15);\n",
              "      filter: drop-shadow(0px 1px 2px rgba(0, 0, 0, 0.3));\n",
              "      fill: #FFFFFF;\n",
              "    }\n",
              "  </style>\n",
              "\n",
              "      <script>\n",
              "        const buttonEl =\n",
              "          document.querySelector('#df-e6f88a2b-689f-49ec-93bf-00531413ab13 button.colab-df-convert');\n",
              "        buttonEl.style.display =\n",
              "          google.colab.kernel.accessAllowed ? 'block' : 'none';\n",
              "\n",
              "        async function convertToInteractive(key) {\n",
              "          const element = document.querySelector('#df-e6f88a2b-689f-49ec-93bf-00531413ab13');\n",
              "          const dataTable =\n",
              "            await google.colab.kernel.invokeFunction('convertToInteractive',\n",
              "                                                     [key], {});\n",
              "          if (!dataTable) return;\n",
              "\n",
              "          const docLinkHtml = 'Like what you see? Visit the ' +\n",
              "            '<a target=\"_blank\" href=https://colab.research.google.com/notebooks/data_table.ipynb>data table notebook</a>'\n",
              "            + ' to learn more about interactive tables.';\n",
              "          element.innerHTML = '';\n",
              "          dataTable['output_type'] = 'display_data';\n",
              "          await google.colab.output.renderOutput(dataTable, element);\n",
              "          const docLink = document.createElement('div');\n",
              "          docLink.innerHTML = docLinkHtml;\n",
              "          element.appendChild(docLink);\n",
              "        }\n",
              "      </script>\n",
              "    </div>\n",
              "  </div>\n",
              "  "
            ]
          },
          "metadata": {},
          "execution_count": 2
        }
      ]
    },
    {
      "cell_type": "code",
      "source": [
        "#@title\n",
        "dados.tail()"
      ],
      "metadata": {
        "id": "5KqIy9d1WAPS",
        "colab": {
          "base_uri": "https://localhost:8080/",
          "height": 206
        },
        "outputId": "d93bd6ad-6522-42c1-c2be-b93c3ba311e3"
      },
      "execution_count": 3,
      "outputs": [
        {
          "output_type": "execute_result",
          "data": {
            "text/plain": [
              "     Age Sex ChestPainType  RestingBP  Cholesterol  FastingBS RestingECG  \\\n",
              "913   45   M            TA        110          264          0     Normal   \n",
              "914   68   M           ASY        144          193          1     Normal   \n",
              "915   57   M           ASY        130          131          0     Normal   \n",
              "916   57   F           ATA        130          236          0        LVH   \n",
              "917   38   M           NAP        138          175          0     Normal   \n",
              "\n",
              "     MaxHR ExerciseAngina  Oldpeak ST_Slope  HeartDisease  \n",
              "913    132              N      1.2     Flat             1  \n",
              "914    141              N      3.4     Flat             1  \n",
              "915    115              Y      1.2     Flat             1  \n",
              "916    174              N      0.0     Flat             1  \n",
              "917    173              N      0.0       Up             0  "
            ],
            "text/html": [
              "\n",
              "  <div id=\"df-f0696d86-b04c-489b-99d9-91b3f3ca8ba1\">\n",
              "    <div class=\"colab-df-container\">\n",
              "      <div>\n",
              "<style scoped>\n",
              "    .dataframe tbody tr th:only-of-type {\n",
              "        vertical-align: middle;\n",
              "    }\n",
              "\n",
              "    .dataframe tbody tr th {\n",
              "        vertical-align: top;\n",
              "    }\n",
              "\n",
              "    .dataframe thead th {\n",
              "        text-align: right;\n",
              "    }\n",
              "</style>\n",
              "<table border=\"1\" class=\"dataframe\">\n",
              "  <thead>\n",
              "    <tr style=\"text-align: right;\">\n",
              "      <th></th>\n",
              "      <th>Age</th>\n",
              "      <th>Sex</th>\n",
              "      <th>ChestPainType</th>\n",
              "      <th>RestingBP</th>\n",
              "      <th>Cholesterol</th>\n",
              "      <th>FastingBS</th>\n",
              "      <th>RestingECG</th>\n",
              "      <th>MaxHR</th>\n",
              "      <th>ExerciseAngina</th>\n",
              "      <th>Oldpeak</th>\n",
              "      <th>ST_Slope</th>\n",
              "      <th>HeartDisease</th>\n",
              "    </tr>\n",
              "  </thead>\n",
              "  <tbody>\n",
              "    <tr>\n",
              "      <th>913</th>\n",
              "      <td>45</td>\n",
              "      <td>M</td>\n",
              "      <td>TA</td>\n",
              "      <td>110</td>\n",
              "      <td>264</td>\n",
              "      <td>0</td>\n",
              "      <td>Normal</td>\n",
              "      <td>132</td>\n",
              "      <td>N</td>\n",
              "      <td>1.2</td>\n",
              "      <td>Flat</td>\n",
              "      <td>1</td>\n",
              "    </tr>\n",
              "    <tr>\n",
              "      <th>914</th>\n",
              "      <td>68</td>\n",
              "      <td>M</td>\n",
              "      <td>ASY</td>\n",
              "      <td>144</td>\n",
              "      <td>193</td>\n",
              "      <td>1</td>\n",
              "      <td>Normal</td>\n",
              "      <td>141</td>\n",
              "      <td>N</td>\n",
              "      <td>3.4</td>\n",
              "      <td>Flat</td>\n",
              "      <td>1</td>\n",
              "    </tr>\n",
              "    <tr>\n",
              "      <th>915</th>\n",
              "      <td>57</td>\n",
              "      <td>M</td>\n",
              "      <td>ASY</td>\n",
              "      <td>130</td>\n",
              "      <td>131</td>\n",
              "      <td>0</td>\n",
              "      <td>Normal</td>\n",
              "      <td>115</td>\n",
              "      <td>Y</td>\n",
              "      <td>1.2</td>\n",
              "      <td>Flat</td>\n",
              "      <td>1</td>\n",
              "    </tr>\n",
              "    <tr>\n",
              "      <th>916</th>\n",
              "      <td>57</td>\n",
              "      <td>F</td>\n",
              "      <td>ATA</td>\n",
              "      <td>130</td>\n",
              "      <td>236</td>\n",
              "      <td>0</td>\n",
              "      <td>LVH</td>\n",
              "      <td>174</td>\n",
              "      <td>N</td>\n",
              "      <td>0.0</td>\n",
              "      <td>Flat</td>\n",
              "      <td>1</td>\n",
              "    </tr>\n",
              "    <tr>\n",
              "      <th>917</th>\n",
              "      <td>38</td>\n",
              "      <td>M</td>\n",
              "      <td>NAP</td>\n",
              "      <td>138</td>\n",
              "      <td>175</td>\n",
              "      <td>0</td>\n",
              "      <td>Normal</td>\n",
              "      <td>173</td>\n",
              "      <td>N</td>\n",
              "      <td>0.0</td>\n",
              "      <td>Up</td>\n",
              "      <td>0</td>\n",
              "    </tr>\n",
              "  </tbody>\n",
              "</table>\n",
              "</div>\n",
              "      <button class=\"colab-df-convert\" onclick=\"convertToInteractive('df-f0696d86-b04c-489b-99d9-91b3f3ca8ba1')\"\n",
              "              title=\"Convert this dataframe to an interactive table.\"\n",
              "              style=\"display:none;\">\n",
              "        \n",
              "  <svg xmlns=\"http://www.w3.org/2000/svg\" height=\"24px\"viewBox=\"0 0 24 24\"\n",
              "       width=\"24px\">\n",
              "    <path d=\"M0 0h24v24H0V0z\" fill=\"none\"/>\n",
              "    <path d=\"M18.56 5.44l.94 2.06.94-2.06 2.06-.94-2.06-.94-.94-2.06-.94 2.06-2.06.94zm-11 1L8.5 8.5l.94-2.06 2.06-.94-2.06-.94L8.5 2.5l-.94 2.06-2.06.94zm10 10l.94 2.06.94-2.06 2.06-.94-2.06-.94-.94-2.06-.94 2.06-2.06.94z\"/><path d=\"M17.41 7.96l-1.37-1.37c-.4-.4-.92-.59-1.43-.59-.52 0-1.04.2-1.43.59L10.3 9.45l-7.72 7.72c-.78.78-.78 2.05 0 2.83L4 21.41c.39.39.9.59 1.41.59.51 0 1.02-.2 1.41-.59l7.78-7.78 2.81-2.81c.8-.78.8-2.07 0-2.86zM5.41 20L4 18.59l7.72-7.72 1.47 1.35L5.41 20z\"/>\n",
              "  </svg>\n",
              "      </button>\n",
              "      \n",
              "  <style>\n",
              "    .colab-df-container {\n",
              "      display:flex;\n",
              "      flex-wrap:wrap;\n",
              "      gap: 12px;\n",
              "    }\n",
              "\n",
              "    .colab-df-convert {\n",
              "      background-color: #E8F0FE;\n",
              "      border: none;\n",
              "      border-radius: 50%;\n",
              "      cursor: pointer;\n",
              "      display: none;\n",
              "      fill: #1967D2;\n",
              "      height: 32px;\n",
              "      padding: 0 0 0 0;\n",
              "      width: 32px;\n",
              "    }\n",
              "\n",
              "    .colab-df-convert:hover {\n",
              "      background-color: #E2EBFA;\n",
              "      box-shadow: 0px 1px 2px rgba(60, 64, 67, 0.3), 0px 1px 3px 1px rgba(60, 64, 67, 0.15);\n",
              "      fill: #174EA6;\n",
              "    }\n",
              "\n",
              "    [theme=dark] .colab-df-convert {\n",
              "      background-color: #3B4455;\n",
              "      fill: #D2E3FC;\n",
              "    }\n",
              "\n",
              "    [theme=dark] .colab-df-convert:hover {\n",
              "      background-color: #434B5C;\n",
              "      box-shadow: 0px 1px 3px 1px rgba(0, 0, 0, 0.15);\n",
              "      filter: drop-shadow(0px 1px 2px rgba(0, 0, 0, 0.3));\n",
              "      fill: #FFFFFF;\n",
              "    }\n",
              "  </style>\n",
              "\n",
              "      <script>\n",
              "        const buttonEl =\n",
              "          document.querySelector('#df-f0696d86-b04c-489b-99d9-91b3f3ca8ba1 button.colab-df-convert');\n",
              "        buttonEl.style.display =\n",
              "          google.colab.kernel.accessAllowed ? 'block' : 'none';\n",
              "\n",
              "        async function convertToInteractive(key) {\n",
              "          const element = document.querySelector('#df-f0696d86-b04c-489b-99d9-91b3f3ca8ba1');\n",
              "          const dataTable =\n",
              "            await google.colab.kernel.invokeFunction('convertToInteractive',\n",
              "                                                     [key], {});\n",
              "          if (!dataTable) return;\n",
              "\n",
              "          const docLinkHtml = 'Like what you see? Visit the ' +\n",
              "            '<a target=\"_blank\" href=https://colab.research.google.com/notebooks/data_table.ipynb>data table notebook</a>'\n",
              "            + ' to learn more about interactive tables.';\n",
              "          element.innerHTML = '';\n",
              "          dataTable['output_type'] = 'display_data';\n",
              "          await google.colab.output.renderOutput(dataTable, element);\n",
              "          const docLink = document.createElement('div');\n",
              "          docLink.innerHTML = docLinkHtml;\n",
              "          element.appendChild(docLink);\n",
              "        }\n",
              "      </script>\n",
              "    </div>\n",
              "  </div>\n",
              "  "
            ]
          },
          "metadata": {},
          "execution_count": 3
        }
      ]
    },
    {
      "cell_type": "code",
      "source": [
        "#@title\n",
        "dados.shape"
      ],
      "metadata": {
        "colab": {
          "base_uri": "https://localhost:8080/"
        },
        "id": "wfFOCGDoWLg7",
        "outputId": "fe8dd194-01fb-4bea-a38e-12ce48a98d36"
      },
      "execution_count": 4,
      "outputs": [
        {
          "output_type": "execute_result",
          "data": {
            "text/plain": [
              "(918, 12)"
            ]
          },
          "metadata": {},
          "execution_count": 4
        }
      ]
    },
    {
      "cell_type": "markdown",
      "source": [
        "#**ANALISE DE VARIÁVEIS ( TRIBUTOS )**\n",
        "\n",
        "--------------------------------------------------------------------------------\n"
      ],
      "metadata": {
        "id": "4In6vP1AYx1B"
      }
    },
    {
      "cell_type": "markdown",
      "source": [
        "AGE = IDADE"
      ],
      "metadata": {
        "id": "JMworQjMY9GI"
      }
    },
    {
      "cell_type": "code",
      "source": [
        "#@title\n",
        "dados[\"Age\"].value_counts()    # esse comando irá contar o quanto cada elemento ( idade ) aparece na coluna \"Age\""
      ],
      "metadata": {
        "id": "qkdcasTKY8U5",
        "colab": {
          "base_uri": "https://localhost:8080/"
        },
        "outputId": "33bf1021-6c9c-497f-9ff7-fbec92f881cf"
      },
      "execution_count": 5,
      "outputs": [
        {
          "output_type": "execute_result",
          "data": {
            "text/plain": [
              "54    51\n",
              "58    42\n",
              "55    41\n",
              "56    38\n",
              "57    38\n",
              "52    36\n",
              "51    35\n",
              "59    35\n",
              "62    35\n",
              "53    33\n",
              "60    32\n",
              "48    31\n",
              "61    31\n",
              "63    30\n",
              "50    25\n",
              "46    24\n",
              "41    24\n",
              "43    24\n",
              "64    22\n",
              "65    21\n",
              "49    21\n",
              "47    19\n",
              "44    19\n",
              "42    18\n",
              "45    18\n",
              "38    16\n",
              "67    15\n",
              "39    15\n",
              "66    13\n",
              "69    13\n",
              "40    13\n",
              "35    11\n",
              "37    11\n",
              "68    10\n",
              "34     7\n",
              "74     7\n",
              "70     7\n",
              "36     6\n",
              "71     5\n",
              "32     5\n",
              "72     4\n",
              "29     3\n",
              "75     3\n",
              "33     2\n",
              "77     2\n",
              "76     2\n",
              "31     2\n",
              "30     1\n",
              "28     1\n",
              "73     1\n",
              "Name: Age, dtype: int64"
            ]
          },
          "metadata": {},
          "execution_count": 5
        }
      ]
    },
    {
      "cell_type": "code",
      "source": [
        "#@title\n",
        "dados[\"Age\"].value_counts().sort_index()  # o comando para contar elementos repetidos na coluna Age acrescido do comando SORT_INDEX() \n",
        "                                          # coloca os dados em ordem crescente"
      ],
      "metadata": {
        "id": "6g86o6GzZjZB",
        "colab": {
          "base_uri": "https://localhost:8080/"
        },
        "outputId": "d6529bea-7030-4f2a-81e1-ab1a7e4a023e"
      },
      "execution_count": 6,
      "outputs": [
        {
          "output_type": "execute_result",
          "data": {
            "text/plain": [
              "28     1\n",
              "29     3\n",
              "30     1\n",
              "31     2\n",
              "32     5\n",
              "33     2\n",
              "34     7\n",
              "35    11\n",
              "36     6\n",
              "37    11\n",
              "38    16\n",
              "39    15\n",
              "40    13\n",
              "41    24\n",
              "42    18\n",
              "43    24\n",
              "44    19\n",
              "45    18\n",
              "46    24\n",
              "47    19\n",
              "48    31\n",
              "49    21\n",
              "50    25\n",
              "51    35\n",
              "52    36\n",
              "53    33\n",
              "54    51\n",
              "55    41\n",
              "56    38\n",
              "57    38\n",
              "58    42\n",
              "59    35\n",
              "60    32\n",
              "61    31\n",
              "62    35\n",
              "63    30\n",
              "64    22\n",
              "65    21\n",
              "66    13\n",
              "67    15\n",
              "68    10\n",
              "69    13\n",
              "70     7\n",
              "71     5\n",
              "72     4\n",
              "73     1\n",
              "74     7\n",
              "75     3\n",
              "76     2\n",
              "77     2\n",
              "Name: Age, dtype: int64"
            ]
          },
          "metadata": {},
          "execution_count": 6
        }
      ]
    },
    {
      "cell_type": "markdown",
      "source": [
        "IMPORTANDO A BIBLIOTECA PLOTLY "
      ],
      "metadata": {
        "id": "EkhhZHE6avOa"
      }
    },
    {
      "cell_type": "code",
      "source": [
        "#@title\n",
        "import plotly.express as px"
      ],
      "metadata": {
        "id": "QXlUAx6Ja0XR"
      },
      "execution_count": 7,
      "outputs": []
    },
    {
      "cell_type": "markdown",
      "source": [
        "##FAZENDO UM GRAFICO COM AS IDADES"
      ],
      "metadata": {
        "id": "j7G_rcQFbISq"
      }
    },
    {
      "cell_type": "code",
      "source": [
        "#@title\n",
        "hist1 = px.histogram(dados,x=\"Age\",nbins=60)\n",
        "hist1.update_layout(width=800,height=500,title_text=\"Distribuição de Idades\")\n",
        "hist1.show()"
      ],
      "metadata": {
        "colab": {
          "base_uri": "https://localhost:8080/",
          "height": 0
        },
        "id": "B_3mm07xbMXS",
        "outputId": "58249307-dc3d-4aae-e327-490878436941"
      },
      "execution_count": 8,
      "outputs": [
        {
          "output_type": "display_data",
          "data": {
            "text/html": [
              "<html>\n",
              "<head><meta charset=\"utf-8\" /></head>\n",
              "<body>\n",
              "    <div>            <script src=\"https://cdnjs.cloudflare.com/ajax/libs/mathjax/2.7.5/MathJax.js?config=TeX-AMS-MML_SVG\"></script><script type=\"text/javascript\">if (window.MathJax) {MathJax.Hub.Config({SVG: {font: \"STIX-Web\"}});}</script>                <script type=\"text/javascript\">window.PlotlyConfig = {MathJaxConfig: 'local'};</script>\n",
              "        <script src=\"https://cdn.plot.ly/plotly-2.8.3.min.js\"></script>                <div id=\"bba4b531-5529-450c-8b63-d43154f86440\" class=\"plotly-graph-div\" style=\"height:500px; width:800px;\"></div>            <script type=\"text/javascript\">                                    window.PLOTLYENV=window.PLOTLYENV || {};                                    if (document.getElementById(\"bba4b531-5529-450c-8b63-d43154f86440\")) {                    Plotly.newPlot(                        \"bba4b531-5529-450c-8b63-d43154f86440\",                        [{\"alignmentgroup\":\"True\",\"bingroup\":\"x\",\"hovertemplate\":\"Age=%{x}<br>count=%{y}<extra></extra>\",\"legendgroup\":\"\",\"marker\":{\"color\":\"#636efa\",\"pattern\":{\"shape\":\"\"}},\"name\":\"\",\"nbinsx\":60,\"offsetgroup\":\"\",\"orientation\":\"v\",\"showlegend\":false,\"x\":[40,49,37,48,54,39,45,54,37,48,37,58,39,49,42,54,38,43,60,36,43,44,49,44,40,36,53,52,53,51,53,56,54,41,43,32,65,41,48,48,54,54,35,52,43,59,37,50,36,41,50,47,45,41,52,51,31,58,54,52,49,43,45,46,50,37,45,32,52,44,57,44,52,44,55,46,32,35,52,49,55,54,63,52,56,66,65,53,43,55,49,39,52,48,39,58,43,39,56,41,65,51,40,40,46,57,48,34,50,39,59,57,47,38,49,33,38,59,35,34,47,52,46,58,58,54,34,48,54,42,38,46,56,56,61,49,43,39,54,43,52,50,47,53,56,39,42,43,50,54,39,48,40,55,41,56,38,49,44,54,59,49,47,42,52,46,50,48,58,58,29,40,53,49,52,43,54,59,37,46,52,51,52,46,54,58,58,41,50,53,46,50,48,45,41,62,49,42,53,57,47,46,42,31,56,50,35,35,28,54,48,50,56,56,47,30,39,54,55,29,46,51,48,33,55,50,53,38,41,37,37,40,38,41,54,39,41,55,48,48,55,54,55,43,48,54,54,48,45,49,44,48,61,62,55,53,55,36,51,55,46,54,46,59,47,54,52,34,54,47,45,32,55,55,45,59,51,52,57,54,60,49,51,55,42,51,59,53,48,36,48,47,53,65,32,61,50,57,51,47,60,55,53,62,51,51,55,53,58,57,65,60,41,34,53,74,57,56,61,68,59,63,38,62,46,42,45,59,52,60,60,56,38,40,51,62,72,63,63,64,43,64,61,52,51,69,59,48,69,36,53,43,56,58,55,67,46,53,38,53,62,47,56,56,56,64,61,68,57,63,60,66,63,59,61,73,47,65,70,50,60,50,43,38,54,61,42,53,55,61,51,70,61,38,57,38,62,58,52,61,50,51,65,52,47,35,57,62,59,53,62,54,56,56,54,66,63,44,60,55,66,66,65,60,60,60,56,59,62,63,57,62,63,46,63,60,58,64,63,74,52,69,51,60,56,55,54,77,63,55,52,64,60,60,58,59,61,40,61,41,57,63,59,51,59,42,55,63,62,56,53,68,53,60,62,59,51,61,57,56,58,69,67,58,65,63,55,57,65,54,72,75,49,51,60,64,58,61,67,62,65,63,69,51,62,55,75,40,67,58,60,63,35,62,43,63,68,65,48,63,64,61,50,59,55,45,65,61,49,72,50,64,55,63,59,56,62,74,54,57,62,76,54,70,61,48,48,61,66,68,55,62,71,74,53,58,75,56,58,64,54,54,59,55,57,61,41,71,38,55,56,69,64,72,69,56,62,67,57,69,51,48,69,69,64,57,53,37,67,74,63,58,61,64,58,60,57,55,55,56,57,61,61,74,68,51,62,53,62,46,54,62,55,58,62,70,67,57,64,74,65,56,59,60,63,59,53,44,61,57,71,46,53,64,40,67,48,43,47,54,48,46,51,58,71,57,66,37,59,50,48,61,59,42,48,40,62,44,46,59,58,49,44,66,65,42,52,65,63,45,41,61,60,59,62,57,51,44,60,63,57,51,58,44,47,61,57,70,76,67,45,45,39,42,56,58,35,58,41,57,42,62,59,41,50,59,61,54,54,52,47,66,58,64,50,44,67,49,57,63,48,51,60,59,45,55,41,60,54,42,49,46,56,66,56,49,54,57,65,54,54,62,52,52,60,63,66,42,64,54,46,67,56,34,57,64,59,50,51,54,53,52,40,58,41,41,50,54,64,51,46,55,45,56,66,38,62,55,58,43,64,50,53,45,65,69,69,67,68,34,62,51,46,67,50,42,56,41,42,53,43,56,52,62,70,54,70,54,35,48,55,58,54,69,77,68,58,60,51,55,52,60,58,64,37,59,51,43,58,29,41,63,51,54,44,54,65,57,63,35,41,62,43,58,52,61,39,45,52,62,62,53,43,47,52,68,39,53,62,51,60,65,65,60,60,54,44,44,51,59,71,61,55,64,43,58,60,58,49,48,52,44,56,57,67,53,52,43,52,59,64,66,39,57,58,57,47,55,35,61,58,58,58,56,56,67,55,44,63,63,41,59,57,45,68,57,57,38],\"xaxis\":\"x\",\"yaxis\":\"y\",\"type\":\"histogram\"}],                        {\"template\":{\"data\":{\"bar\":[{\"error_x\":{\"color\":\"#2a3f5f\"},\"error_y\":{\"color\":\"#2a3f5f\"},\"marker\":{\"line\":{\"color\":\"#E5ECF6\",\"width\":0.5},\"pattern\":{\"fillmode\":\"overlay\",\"size\":10,\"solidity\":0.2}},\"type\":\"bar\"}],\"barpolar\":[{\"marker\":{\"line\":{\"color\":\"#E5ECF6\",\"width\":0.5},\"pattern\":{\"fillmode\":\"overlay\",\"size\":10,\"solidity\":0.2}},\"type\":\"barpolar\"}],\"carpet\":[{\"aaxis\":{\"endlinecolor\":\"#2a3f5f\",\"gridcolor\":\"white\",\"linecolor\":\"white\",\"minorgridcolor\":\"white\",\"startlinecolor\":\"#2a3f5f\"},\"baxis\":{\"endlinecolor\":\"#2a3f5f\",\"gridcolor\":\"white\",\"linecolor\":\"white\",\"minorgridcolor\":\"white\",\"startlinecolor\":\"#2a3f5f\"},\"type\":\"carpet\"}],\"choropleth\":[{\"colorbar\":{\"outlinewidth\":0,\"ticks\":\"\"},\"type\":\"choropleth\"}],\"contour\":[{\"colorbar\":{\"outlinewidth\":0,\"ticks\":\"\"},\"colorscale\":[[0.0,\"#0d0887\"],[0.1111111111111111,\"#46039f\"],[0.2222222222222222,\"#7201a8\"],[0.3333333333333333,\"#9c179e\"],[0.4444444444444444,\"#bd3786\"],[0.5555555555555556,\"#d8576b\"],[0.6666666666666666,\"#ed7953\"],[0.7777777777777778,\"#fb9f3a\"],[0.8888888888888888,\"#fdca26\"],[1.0,\"#f0f921\"]],\"type\":\"contour\"}],\"contourcarpet\":[{\"colorbar\":{\"outlinewidth\":0,\"ticks\":\"\"},\"type\":\"contourcarpet\"}],\"heatmap\":[{\"colorbar\":{\"outlinewidth\":0,\"ticks\":\"\"},\"colorscale\":[[0.0,\"#0d0887\"],[0.1111111111111111,\"#46039f\"],[0.2222222222222222,\"#7201a8\"],[0.3333333333333333,\"#9c179e\"],[0.4444444444444444,\"#bd3786\"],[0.5555555555555556,\"#d8576b\"],[0.6666666666666666,\"#ed7953\"],[0.7777777777777778,\"#fb9f3a\"],[0.8888888888888888,\"#fdca26\"],[1.0,\"#f0f921\"]],\"type\":\"heatmap\"}],\"heatmapgl\":[{\"colorbar\":{\"outlinewidth\":0,\"ticks\":\"\"},\"colorscale\":[[0.0,\"#0d0887\"],[0.1111111111111111,\"#46039f\"],[0.2222222222222222,\"#7201a8\"],[0.3333333333333333,\"#9c179e\"],[0.4444444444444444,\"#bd3786\"],[0.5555555555555556,\"#d8576b\"],[0.6666666666666666,\"#ed7953\"],[0.7777777777777778,\"#fb9f3a\"],[0.8888888888888888,\"#fdca26\"],[1.0,\"#f0f921\"]],\"type\":\"heatmapgl\"}],\"histogram\":[{\"marker\":{\"pattern\":{\"fillmode\":\"overlay\",\"size\":10,\"solidity\":0.2}},\"type\":\"histogram\"}],\"histogram2d\":[{\"colorbar\":{\"outlinewidth\":0,\"ticks\":\"\"},\"colorscale\":[[0.0,\"#0d0887\"],[0.1111111111111111,\"#46039f\"],[0.2222222222222222,\"#7201a8\"],[0.3333333333333333,\"#9c179e\"],[0.4444444444444444,\"#bd3786\"],[0.5555555555555556,\"#d8576b\"],[0.6666666666666666,\"#ed7953\"],[0.7777777777777778,\"#fb9f3a\"],[0.8888888888888888,\"#fdca26\"],[1.0,\"#f0f921\"]],\"type\":\"histogram2d\"}],\"histogram2dcontour\":[{\"colorbar\":{\"outlinewidth\":0,\"ticks\":\"\"},\"colorscale\":[[0.0,\"#0d0887\"],[0.1111111111111111,\"#46039f\"],[0.2222222222222222,\"#7201a8\"],[0.3333333333333333,\"#9c179e\"],[0.4444444444444444,\"#bd3786\"],[0.5555555555555556,\"#d8576b\"],[0.6666666666666666,\"#ed7953\"],[0.7777777777777778,\"#fb9f3a\"],[0.8888888888888888,\"#fdca26\"],[1.0,\"#f0f921\"]],\"type\":\"histogram2dcontour\"}],\"mesh3d\":[{\"colorbar\":{\"outlinewidth\":0,\"ticks\":\"\"},\"type\":\"mesh3d\"}],\"parcoords\":[{\"line\":{\"colorbar\":{\"outlinewidth\":0,\"ticks\":\"\"}},\"type\":\"parcoords\"}],\"pie\":[{\"automargin\":true,\"type\":\"pie\"}],\"scatter\":[{\"marker\":{\"colorbar\":{\"outlinewidth\":0,\"ticks\":\"\"}},\"type\":\"scatter\"}],\"scatter3d\":[{\"line\":{\"colorbar\":{\"outlinewidth\":0,\"ticks\":\"\"}},\"marker\":{\"colorbar\":{\"outlinewidth\":0,\"ticks\":\"\"}},\"type\":\"scatter3d\"}],\"scattercarpet\":[{\"marker\":{\"colorbar\":{\"outlinewidth\":0,\"ticks\":\"\"}},\"type\":\"scattercarpet\"}],\"scattergeo\":[{\"marker\":{\"colorbar\":{\"outlinewidth\":0,\"ticks\":\"\"}},\"type\":\"scattergeo\"}],\"scattergl\":[{\"marker\":{\"colorbar\":{\"outlinewidth\":0,\"ticks\":\"\"}},\"type\":\"scattergl\"}],\"scattermapbox\":[{\"marker\":{\"colorbar\":{\"outlinewidth\":0,\"ticks\":\"\"}},\"type\":\"scattermapbox\"}],\"scatterpolar\":[{\"marker\":{\"colorbar\":{\"outlinewidth\":0,\"ticks\":\"\"}},\"type\":\"scatterpolar\"}],\"scatterpolargl\":[{\"marker\":{\"colorbar\":{\"outlinewidth\":0,\"ticks\":\"\"}},\"type\":\"scatterpolargl\"}],\"scatterternary\":[{\"marker\":{\"colorbar\":{\"outlinewidth\":0,\"ticks\":\"\"}},\"type\":\"scatterternary\"}],\"surface\":[{\"colorbar\":{\"outlinewidth\":0,\"ticks\":\"\"},\"colorscale\":[[0.0,\"#0d0887\"],[0.1111111111111111,\"#46039f\"],[0.2222222222222222,\"#7201a8\"],[0.3333333333333333,\"#9c179e\"],[0.4444444444444444,\"#bd3786\"],[0.5555555555555556,\"#d8576b\"],[0.6666666666666666,\"#ed7953\"],[0.7777777777777778,\"#fb9f3a\"],[0.8888888888888888,\"#fdca26\"],[1.0,\"#f0f921\"]],\"type\":\"surface\"}],\"table\":[{\"cells\":{\"fill\":{\"color\":\"#EBF0F8\"},\"line\":{\"color\":\"white\"}},\"header\":{\"fill\":{\"color\":\"#C8D4E3\"},\"line\":{\"color\":\"white\"}},\"type\":\"table\"}]},\"layout\":{\"annotationdefaults\":{\"arrowcolor\":\"#2a3f5f\",\"arrowhead\":0,\"arrowwidth\":1},\"autotypenumbers\":\"strict\",\"coloraxis\":{\"colorbar\":{\"outlinewidth\":0,\"ticks\":\"\"}},\"colorscale\":{\"diverging\":[[0,\"#8e0152\"],[0.1,\"#c51b7d\"],[0.2,\"#de77ae\"],[0.3,\"#f1b6da\"],[0.4,\"#fde0ef\"],[0.5,\"#f7f7f7\"],[0.6,\"#e6f5d0\"],[0.7,\"#b8e186\"],[0.8,\"#7fbc41\"],[0.9,\"#4d9221\"],[1,\"#276419\"]],\"sequential\":[[0.0,\"#0d0887\"],[0.1111111111111111,\"#46039f\"],[0.2222222222222222,\"#7201a8\"],[0.3333333333333333,\"#9c179e\"],[0.4444444444444444,\"#bd3786\"],[0.5555555555555556,\"#d8576b\"],[0.6666666666666666,\"#ed7953\"],[0.7777777777777778,\"#fb9f3a\"],[0.8888888888888888,\"#fdca26\"],[1.0,\"#f0f921\"]],\"sequentialminus\":[[0.0,\"#0d0887\"],[0.1111111111111111,\"#46039f\"],[0.2222222222222222,\"#7201a8\"],[0.3333333333333333,\"#9c179e\"],[0.4444444444444444,\"#bd3786\"],[0.5555555555555556,\"#d8576b\"],[0.6666666666666666,\"#ed7953\"],[0.7777777777777778,\"#fb9f3a\"],[0.8888888888888888,\"#fdca26\"],[1.0,\"#f0f921\"]]},\"colorway\":[\"#636efa\",\"#EF553B\",\"#00cc96\",\"#ab63fa\",\"#FFA15A\",\"#19d3f3\",\"#FF6692\",\"#B6E880\",\"#FF97FF\",\"#FECB52\"],\"font\":{\"color\":\"#2a3f5f\"},\"geo\":{\"bgcolor\":\"white\",\"lakecolor\":\"white\",\"landcolor\":\"#E5ECF6\",\"showlakes\":true,\"showland\":true,\"subunitcolor\":\"white\"},\"hoverlabel\":{\"align\":\"left\"},\"hovermode\":\"closest\",\"mapbox\":{\"style\":\"light\"},\"paper_bgcolor\":\"white\",\"plot_bgcolor\":\"#E5ECF6\",\"polar\":{\"angularaxis\":{\"gridcolor\":\"white\",\"linecolor\":\"white\",\"ticks\":\"\"},\"bgcolor\":\"#E5ECF6\",\"radialaxis\":{\"gridcolor\":\"white\",\"linecolor\":\"white\",\"ticks\":\"\"}},\"scene\":{\"xaxis\":{\"backgroundcolor\":\"#E5ECF6\",\"gridcolor\":\"white\",\"gridwidth\":2,\"linecolor\":\"white\",\"showbackground\":true,\"ticks\":\"\",\"zerolinecolor\":\"white\"},\"yaxis\":{\"backgroundcolor\":\"#E5ECF6\",\"gridcolor\":\"white\",\"gridwidth\":2,\"linecolor\":\"white\",\"showbackground\":true,\"ticks\":\"\",\"zerolinecolor\":\"white\"},\"zaxis\":{\"backgroundcolor\":\"#E5ECF6\",\"gridcolor\":\"white\",\"gridwidth\":2,\"linecolor\":\"white\",\"showbackground\":true,\"ticks\":\"\",\"zerolinecolor\":\"white\"}},\"shapedefaults\":{\"line\":{\"color\":\"#2a3f5f\"}},\"ternary\":{\"aaxis\":{\"gridcolor\":\"white\",\"linecolor\":\"white\",\"ticks\":\"\"},\"baxis\":{\"gridcolor\":\"white\",\"linecolor\":\"white\",\"ticks\":\"\"},\"bgcolor\":\"#E5ECF6\",\"caxis\":{\"gridcolor\":\"white\",\"linecolor\":\"white\",\"ticks\":\"\"}},\"title\":{\"x\":0.05},\"xaxis\":{\"automargin\":true,\"gridcolor\":\"white\",\"linecolor\":\"white\",\"ticks\":\"\",\"title\":{\"standoff\":15},\"zerolinecolor\":\"white\",\"zerolinewidth\":2},\"yaxis\":{\"automargin\":true,\"gridcolor\":\"white\",\"linecolor\":\"white\",\"ticks\":\"\",\"title\":{\"standoff\":15},\"zerolinecolor\":\"white\",\"zerolinewidth\":2}}},\"xaxis\":{\"anchor\":\"y\",\"domain\":[0.0,1.0],\"title\":{\"text\":\"Age\"}},\"yaxis\":{\"anchor\":\"x\",\"domain\":[0.0,1.0],\"title\":{\"text\":\"count\"}},\"legend\":{\"tracegroupgap\":0},\"margin\":{\"t\":60},\"barmode\":\"relative\",\"title\":{\"text\":\"Distribui\\u00e7\\u00e3o de Idades\"},\"width\":800,\"height\":500},                        {\"responsive\": true}                    ).then(function(){\n",
              "                            \n",
              "var gd = document.getElementById('bba4b531-5529-450c-8b63-d43154f86440');\n",
              "var x = new MutationObserver(function (mutations, observer) {{\n",
              "        var display = window.getComputedStyle(gd).display;\n",
              "        if (!display || display === 'none') {{\n",
              "            console.log([gd, 'removed!']);\n",
              "            Plotly.purge(gd);\n",
              "            observer.disconnect();\n",
              "        }}\n",
              "}});\n",
              "\n",
              "// Listen for the removal of the full notebook cells\n",
              "var notebookContainer = gd.closest('#notebook-container');\n",
              "if (notebookContainer) {{\n",
              "    x.observe(notebookContainer, {childList: true});\n",
              "}}\n",
              "\n",
              "// Listen for the clearing of the current output cell\n",
              "var outputEl = gd.closest('.output');\n",
              "if (outputEl) {{\n",
              "    x.observe(outputEl, {childList: true});\n",
              "}}\n",
              "\n",
              "                        })                };                            </script>        </div>\n",
              "</body>\n",
              "</html>"
            ]
          },
          "metadata": {}
        }
      ]
    },
    {
      "cell_type": "markdown",
      "source": [
        "##**CRIANDO O MESMO GRAFICO COM O SEABORN**\n",
        "\n",
        "--------------------------------------------------------------------------------\n"
      ],
      "metadata": {
        "id": "PE2G2kqleHsj"
      }
    },
    {
      "cell_type": "markdown",
      "source": [
        "IMPORTANDO E CRIANDO O GRÁFICO"
      ],
      "metadata": {
        "id": "Mkt4bdmJeYwj"
      }
    },
    {
      "cell_type": "code",
      "source": [
        "#@title\n",
        "import seaborn as sns"
      ],
      "metadata": {
        "id": "dBSDlmipedTN"
      },
      "execution_count": 9,
      "outputs": []
    },
    {
      "cell_type": "code",
      "source": [
        "#@title\n",
        "sns.histplot(dados,x=\"Age\",bins=30,color=\"orange\",kde=True,stat=\"count\");"
      ],
      "metadata": {
        "colab": {
          "base_uri": "https://localhost:8080/",
          "height": 0
        },
        "id": "nGQppxTqejqs",
        "outputId": "feec99a5-7172-4748-fbfb-2986705bae84"
      },
      "execution_count": 10,
      "outputs": [
        {
          "output_type": "display_data",
          "data": {
            "text/plain": [
              "<Figure size 432x288 with 1 Axes>"
            ],
            "image/png": "[encoded data removed]"
          },
          "metadata": {
            "needs_background": "light"
          }
        }
      ]
    },
    {
      "cell_type": "markdown",
      "source": [
        "#**ESTUDANDO OS TIPOS DE DOR NO PEITO E SUAS CATEGORIAS**\n",
        "\n",
        "--------------------------------------------------------------------------------\n",
        "\n",
        "Só para lembrar que:\n",
        "\n",
        "A coluna Idade é uma variável numérica discreta pois não existe idade fracionada, exemplo: 22.5 anos\n",
        "\n",
        "A coluna Sexo é uma **variável categórica nominal** pois tem duas categorias ( Masculino e Feminino )\n",
        "\n",
        "A coluna Chest Pain Type ( Tipo de dor no peito  ) é uma variável categórica pois existem categorias, a seguir:\n",
        "\n",
        "ASY : assintomático\n",
        "\n",
        "NAP: dor não anginosa\n",
        "\n",
        "ATA: angina atípica\n",
        "\n",
        "TA: angia típica\n",
        "\n",
        "Angina = dor no peito causada pela diminuição do fluxo de sangue no coração.\n",
        "\n"
      ],
      "metadata": {
        "id": "1zqbPmD2hcRL"
      }
    },
    {
      "cell_type": "code",
      "source": [
        "#@title\n",
        "dados[\"ChestPainType\"].value_counts()  # retorna a quantidade total por elemento ( categoria )"
      ],
      "metadata": {
        "colab": {
          "base_uri": "https://localhost:8080/"
        },
        "id": "xEbALctYjZSC",
        "outputId": "42b40f17-41f6-4e9c-e8ee-98e9f13e3417"
      },
      "execution_count": 11,
      "outputs": [
        {
          "output_type": "execute_result",
          "data": {
            "text/plain": [
              "ASY    496\n",
              "NAP    203\n",
              "ATA    173\n",
              "TA      46\n",
              "Name: ChestPainType, dtype: int64"
            ]
          },
          "metadata": {},
          "execution_count": 11
        }
      ]
    },
    {
      "cell_type": "code",
      "source": [
        "#@title\n",
        "sns.countplot(x=\"ChestPainType\",data=dados);"
      ],
      "metadata": {
        "colab": {
          "base_uri": "https://localhost:8080/",
          "height": 0
        },
        "id": "hVogIAs7j3Wa",
        "outputId": "603379b5-9ef5-4918-e9a7-f83136d37726"
      },
      "execution_count": 12,
      "outputs": [
        {
          "output_type": "display_data",
          "data": {
            "text/plain": [
              "<Figure size 432x288 with 1 Axes>"
            ],
            "image/png": "[encoded data removed]"
          },
          "metadata": {
            "needs_background": "light"
          }
        }
      ]
    },
    {
      "cell_type": "markdown",
      "source": [
        "##ESTUDANDO BP ( BLOOD PRESSURE ) = PRESSÃO SANGUÍNIA EM REPOUSO EM mmHg ( SISTÓLICA )"
      ],
      "metadata": {
        "id": "A7IucIMLkdky"
      }
    },
    {
      "cell_type": "code",
      "source": [
        "#@title\n",
        "dados.RestingBP.value_counts().sort_index()"
      ],
      "metadata": {
        "id": "-CVLBEhOk0BX",
        "colab": {
          "base_uri": "https://localhost:8080/"
        },
        "outputId": "6153b6e8-f44f-412f-bf51-3ca763266f78"
      },
      "execution_count": 13,
      "outputs": [
        {
          "output_type": "execute_result",
          "data": {
            "text/plain": [
              "0       1\n",
              "80      1\n",
              "92      1\n",
              "94      2\n",
              "95      6\n",
              "       ..\n",
              "180    12\n",
              "185     1\n",
              "190     2\n",
              "192     1\n",
              "200     4\n",
              "Name: RestingBP, Length: 67, dtype: int64"
            ]
          },
          "metadata": {},
          "execution_count": 13
        }
      ]
    },
    {
      "cell_type": "code",
      "source": [
        "#@title\n",
        "sns.histplot(dados, x=\"RestingBP\", bins=30, color =\"orange\",kde = True,stat=\"count\")"
      ],
      "metadata": {
        "colab": {
          "base_uri": "https://localhost:8080/",
          "height": 0
        },
        "id": "RrGBWWLulU70",
        "outputId": "cf9fba54-2f4b-42f1-8aae-33a7c42a01fb"
      },
      "execution_count": 14,
      "outputs": [
        {
          "output_type": "execute_result",
          "data": {
            "text/plain": [
              "<matplotlib.axes._subplots.AxesSubplot at 0x7fbf89516250>"
            ]
          },
          "metadata": {},
          "execution_count": 14
        },
        {
          "output_type": "display_data",
          "data": {
            "text/plain": [
              "<Figure size 432x288 with 1 Axes>"
            ],
            "image/png": "[encoded data removed]"
          },
          "metadata": {
            "needs_background": "light"
          }
        }
      ]
    },
    {
      "cell_type": "markdown",
      "source": [
        "#ANÁLISE DE TIPOS DE ATRIBUTOS\n",
        "\n",
        "--------------------------------------------------------------------------------\n"
      ],
      "metadata": {
        "id": "m92hY2uDDXf_"
      }
    },
    {
      "cell_type": "code",
      "source": [
        "#@title\n",
        "# object: strings\n",
        "# int64: inteiros\n",
        "# float64: reais\n",
        "# complex: complexos"
      ],
      "metadata": {
        "id": "suA9IOtqDfee"
      },
      "execution_count": 15,
      "outputs": []
    },
    {
      "cell_type": "code",
      "source": [
        "#@title\n",
        "dados.dtypes"
      ],
      "metadata": {
        "colab": {
          "base_uri": "https://localhost:8080/"
        },
        "id": "3PobTAiUD-Uy",
        "outputId": "52364461-1fc4-44d8-e5f8-710b5dfdb7b8"
      },
      "execution_count": 16,
      "outputs": [
        {
          "output_type": "execute_result",
          "data": {
            "text/plain": [
              "Age                 int64\n",
              "Sex                object\n",
              "ChestPainType      object\n",
              "RestingBP           int64\n",
              "Cholesterol         int64\n",
              "FastingBS           int64\n",
              "RestingECG         object\n",
              "MaxHR               int64\n",
              "ExerciseAngina     object\n",
              "Oldpeak           float64\n",
              "ST_Slope           object\n",
              "HeartDisease        int64\n",
              "dtype: object"
            ]
          },
          "metadata": {},
          "execution_count": 16
        }
      ]
    },
    {
      "cell_type": "markdown",
      "source": [
        "IMPORTANTE: PARA GERAR OS ALGORITMOS O TIPO DE DADOS CATEGORICOS  DEVEM SER CONVERTIDOS PARA ORDINAIS OU NUMÉRICOS "
      ],
      "metadata": {
        "id": "HSG0TLYxEHmL"
      }
    },
    {
      "cell_type": "markdown",
      "source": [
        "#VALORES MISSING ( NAN )\n",
        "\n",
        "--------------------------------------------------------------------------------\n"
      ],
      "metadata": {
        "id": "CUwRAwTzEeIq"
      }
    },
    {
      "cell_type": "code",
      "source": [
        "#@title\n",
        "# Relação de quantidade\n",
        "dados.isnull().sum()   # soma por categoria ( coluna ) todos os valores nulos ( NAN )"
      ],
      "metadata": {
        "colab": {
          "base_uri": "https://localhost:8080/"
        },
        "id": "Xr1x0PsUEmte",
        "outputId": "1b445aea-847e-4c83-98f1-9743183ab6e6"
      },
      "execution_count": 17,
      "outputs": [
        {
          "output_type": "execute_result",
          "data": {
            "text/plain": [
              "Age               0\n",
              "Sex               0\n",
              "ChestPainType     0\n",
              "RestingBP         0\n",
              "Cholesterol       0\n",
              "FastingBS         0\n",
              "RestingECG        0\n",
              "MaxHR             0\n",
              "ExerciseAngina    0\n",
              "Oldpeak           0\n",
              "ST_Slope          0\n",
              "HeartDisease      0\n",
              "dtype: int64"
            ]
          },
          "metadata": {},
          "execution_count": 17
        }
      ]
    },
    {
      "cell_type": "code",
      "source": [
        "#@title\n"
      ],
      "metadata": {
        "id": "IjtpUKv4E-43"
      },
      "execution_count": 18,
      "outputs": []
    },
    {
      "cell_type": "markdown",
      "source": [
        "IMPORTANTE\n",
        "--------------------------------------------------------------------------------\n",
        "\n",
        "\n",
        "* EXCLUIR VALORES MISSING ( NAN ):  dados2 = dados.dropna()    \n",
        "\n",
        "OBS: criar um novo dataset para receber o dataset atual com os dados NAN excluidos pois mantem a integridade do dataset original.\n",
        "\n",
        "* SUBSTITUIR OS VALORES MISSING PELA MÉDIA:  dados2 [\"Age\"] . fillna ( dados2[\"Age\"].mean( ) , inplace = True )\n",
        "\n",
        "* SUBSTITUIR OS VALORES MISSING POR QUALQUER VALOR:  dados2 [\"Age\"] . fillna ( 10 , inplace = True )\n",
        "\n",
        "--------------------------------------------------------------------------------\n",
        "\n",
        "\n",
        "\n",
        "\n"
      ],
      "metadata": {
        "id": "Av5pccFWFp4f"
      }
    },
    {
      "cell_type": "markdown",
      "source": [
        "#ANALISES ESTATISTICAS DESCRITIVAS"
      ],
      "metadata": {
        "id": "kjHi2lYBOyKP"
      }
    },
    {
      "cell_type": "code",
      "source": [
        "#@title\n",
        "dados.describe()   # resumo estatistico descritivo usando apenas as colunas com dados numéricos"
      ],
      "metadata": {
        "colab": {
          "base_uri": "https://localhost:8080/",
          "height": 0
        },
        "id": "d8EdmAJpO9fg",
        "outputId": "ceab89b5-9e74-4732-f157-810012bbdd97"
      },
      "execution_count": 19,
      "outputs": [
        {
          "output_type": "execute_result",
          "data": {
            "text/plain": [
              "              Age   RestingBP  Cholesterol   FastingBS       MaxHR  \\\n",
              "count  918.000000  918.000000   918.000000  918.000000  918.000000   \n",
              "mean    53.510893  132.396514   198.799564    0.233115  136.809368   \n",
              "std      9.432617   18.514154   109.384145    0.423046   25.460334   \n",
              "min     28.000000    0.000000     0.000000    0.000000   60.000000   \n",
              "25%     47.000000  120.000000   173.250000    0.000000  120.000000   \n",
              "50%     54.000000  130.000000   223.000000    0.000000  138.000000   \n",
              "75%     60.000000  140.000000   267.000000    0.000000  156.000000   \n",
              "max     77.000000  200.000000   603.000000    1.000000  202.000000   \n",
              "\n",
              "          Oldpeak  HeartDisease  \n",
              "count  918.000000    918.000000  \n",
              "mean     0.887364      0.553377  \n",
              "std      1.066570      0.497414  \n",
              "min     -2.600000      0.000000  \n",
              "25%      0.000000      0.000000  \n",
              "50%      0.600000      1.000000  \n",
              "75%      1.500000      1.000000  \n",
              "max      6.200000      1.000000  "
            ],
            "text/html": [
              "\n",
              "  <div id=\"df-bd1c54ac-80be-4af9-b92d-c894586368e8\">\n",
              "    <div class=\"colab-df-container\">\n",
              "      <div>\n",
              "<style scoped>\n",
              "    .dataframe tbody tr th:only-of-type {\n",
              "        vertical-align: middle;\n",
              "    }\n",
              "\n",
              "    .dataframe tbody tr th {\n",
              "        vertical-align: top;\n",
              "    }\n",
              "\n",
              "    .dataframe thead th {\n",
              "        text-align: right;\n",
              "    }\n",
              "</style>\n",
              "<table border=\"1\" class=\"dataframe\">\n",
              "  <thead>\n",
              "    <tr style=\"text-align: right;\">\n",
              "      <th></th>\n",
              "      <th>Age</th>\n",
              "      <th>RestingBP</th>\n",
              "      <th>Cholesterol</th>\n",
              "      <th>FastingBS</th>\n",
              "      <th>MaxHR</th>\n",
              "      <th>Oldpeak</th>\n",
              "      <th>HeartDisease</th>\n",
              "    </tr>\n",
              "  </thead>\n",
              "  <tbody>\n",
              "    <tr>\n",
              "      <th>count</th>\n",
              "      <td>918.000000</td>\n",
              "      <td>918.000000</td>\n",
              "      <td>918.000000</td>\n",
              "      <td>918.000000</td>\n",
              "      <td>918.000000</td>\n",
              "      <td>918.000000</td>\n",
              "      <td>918.000000</td>\n",
              "    </tr>\n",
              "    <tr>\n",
              "      <th>mean</th>\n",
              "      <td>53.510893</td>\n",
              "      <td>132.396514</td>\n",
              "      <td>198.799564</td>\n",
              "      <td>0.233115</td>\n",
              "      <td>136.809368</td>\n",
              "      <td>0.887364</td>\n",
              "      <td>0.553377</td>\n",
              "    </tr>\n",
              "    <tr>\n",
              "      <th>std</th>\n",
              "      <td>9.432617</td>\n",
              "      <td>18.514154</td>\n",
              "      <td>109.384145</td>\n",
              "      <td>0.423046</td>\n",
              "      <td>25.460334</td>\n",
              "      <td>1.066570</td>\n",
              "      <td>0.497414</td>\n",
              "    </tr>\n",
              "    <tr>\n",
              "      <th>min</th>\n",
              "      <td>28.000000</td>\n",
              "      <td>0.000000</td>\n",
              "      <td>0.000000</td>\n",
              "      <td>0.000000</td>\n",
              "      <td>60.000000</td>\n",
              "      <td>-2.600000</td>\n",
              "      <td>0.000000</td>\n",
              "    </tr>\n",
              "    <tr>\n",
              "      <th>25%</th>\n",
              "      <td>47.000000</td>\n",
              "      <td>120.000000</td>\n",
              "      <td>173.250000</td>\n",
              "      <td>0.000000</td>\n",
              "      <td>120.000000</td>\n",
              "      <td>0.000000</td>\n",
              "      <td>0.000000</td>\n",
              "    </tr>\n",
              "    <tr>\n",
              "      <th>50%</th>\n",
              "      <td>54.000000</td>\n",
              "      <td>130.000000</td>\n",
              "      <td>223.000000</td>\n",
              "      <td>0.000000</td>\n",
              "      <td>138.000000</td>\n",
              "      <td>0.600000</td>\n",
              "      <td>1.000000</td>\n",
              "    </tr>\n",
              "    <tr>\n",
              "      <th>75%</th>\n",
              "      <td>60.000000</td>\n",
              "      <td>140.000000</td>\n",
              "      <td>267.000000</td>\n",
              "      <td>0.000000</td>\n",
              "      <td>156.000000</td>\n",
              "      <td>1.500000</td>\n",
              "      <td>1.000000</td>\n",
              "    </tr>\n",
              "    <tr>\n",
              "      <th>max</th>\n",
              "      <td>77.000000</td>\n",
              "      <td>200.000000</td>\n",
              "      <td>603.000000</td>\n",
              "      <td>1.000000</td>\n",
              "      <td>202.000000</td>\n",
              "      <td>6.200000</td>\n",
              "      <td>1.000000</td>\n",
              "    </tr>\n",
              "  </tbody>\n",
              "</table>\n",
              "</div>\n",
              "      <button class=\"colab-df-convert\" onclick=\"convertToInteractive('df-bd1c54ac-80be-4af9-b92d-c894586368e8')\"\n",
              "              title=\"Convert this dataframe to an interactive table.\"\n",
              "              style=\"display:none;\">\n",
              "        \n",
              "  <svg xmlns=\"http://www.w3.org/2000/svg\" height=\"24px\"viewBox=\"0 0 24 24\"\n",
              "       width=\"24px\">\n",
              "    <path d=\"M0 0h24v24H0V0z\" fill=\"none\"/>\n",
              "    <path d=\"M18.56 5.44l.94 2.06.94-2.06 2.06-.94-2.06-.94-.94-2.06-.94 2.06-2.06.94zm-11 1L8.5 8.5l.94-2.06 2.06-.94-2.06-.94L8.5 2.5l-.94 2.06-2.06.94zm10 10l.94 2.06.94-2.06 2.06-.94-2.06-.94-.94-2.06-.94 2.06-2.06.94z\"/><path d=\"M17.41 7.96l-1.37-1.37c-.4-.4-.92-.59-1.43-.59-.52 0-1.04.2-1.43.59L10.3 9.45l-7.72 7.72c-.78.78-.78 2.05 0 2.83L4 21.41c.39.39.9.59 1.41.59.51 0 1.02-.2 1.41-.59l7.78-7.78 2.81-2.81c.8-.78.8-2.07 0-2.86zM5.41 20L4 18.59l7.72-7.72 1.47 1.35L5.41 20z\"/>\n",
              "  </svg>\n",
              "      </button>\n",
              "      \n",
              "  <style>\n",
              "    .colab-df-container {\n",
              "      display:flex;\n",
              "      flex-wrap:wrap;\n",
              "      gap: 12px;\n",
              "    }\n",
              "\n",
              "    .colab-df-convert {\n",
              "      background-color: #E8F0FE;\n",
              "      border: none;\n",
              "      border-radius: 50%;\n",
              "      cursor: pointer;\n",
              "      display: none;\n",
              "      fill: #1967D2;\n",
              "      height: 32px;\n",
              "      padding: 0 0 0 0;\n",
              "      width: 32px;\n",
              "    }\n",
              "\n",
              "    .colab-df-convert:hover {\n",
              "      background-color: #E2EBFA;\n",
              "      box-shadow: 0px 1px 2px rgba(60, 64, 67, 0.3), 0px 1px 3px 1px rgba(60, 64, 67, 0.15);\n",
              "      fill: #174EA6;\n",
              "    }\n",
              "\n",
              "    [theme=dark] .colab-df-convert {\n",
              "      background-color: #3B4455;\n",
              "      fill: #D2E3FC;\n",
              "    }\n",
              "\n",
              "    [theme=dark] .colab-df-convert:hover {\n",
              "      background-color: #434B5C;\n",
              "      box-shadow: 0px 1px 3px 1px rgba(0, 0, 0, 0.15);\n",
              "      filter: drop-shadow(0px 1px 2px rgba(0, 0, 0, 0.3));\n",
              "      fill: #FFFFFF;\n",
              "    }\n",
              "  </style>\n",
              "\n",
              "      <script>\n",
              "        const buttonEl =\n",
              "          document.querySelector('#df-bd1c54ac-80be-4af9-b92d-c894586368e8 button.colab-df-convert');\n",
              "        buttonEl.style.display =\n",
              "          google.colab.kernel.accessAllowed ? 'block' : 'none';\n",
              "\n",
              "        async function convertToInteractive(key) {\n",
              "          const element = document.querySelector('#df-bd1c54ac-80be-4af9-b92d-c894586368e8');\n",
              "          const dataTable =\n",
              "            await google.colab.kernel.invokeFunction('convertToInteractive',\n",
              "                                                     [key], {});\n",
              "          if (!dataTable) return;\n",
              "\n",
              "          const docLinkHtml = 'Like what you see? Visit the ' +\n",
              "            '<a target=\"_blank\" href=https://colab.research.google.com/notebooks/data_table.ipynb>data table notebook</a>'\n",
              "            + ' to learn more about interactive tables.';\n",
              "          element.innerHTML = '';\n",
              "          dataTable['output_type'] = 'display_data';\n",
              "          await google.colab.output.renderOutput(dataTable, element);\n",
              "          const docLink = document.createElement('div');\n",
              "          docLink.innerHTML = docLinkHtml;\n",
              "          element.appendChild(docLink);\n",
              "        }\n",
              "      </script>\n",
              "    </div>\n",
              "  </div>\n",
              "  "
            ]
          },
          "metadata": {},
          "execution_count": 19
        }
      ]
    },
    {
      "cell_type": "code",
      "source": [
        "#@title\n",
        "dados.mode()  # moda dos elementos por categoria ( coluna )"
      ],
      "metadata": {
        "colab": {
          "base_uri": "https://localhost:8080/",
          "height": 0
        },
        "id": "vh-NC4e7PyUR",
        "outputId": "17f60ff4-33a6-409e-a954-2b4cf4e9f295"
      },
      "execution_count": 20,
      "outputs": [
        {
          "output_type": "execute_result",
          "data": {
            "text/plain": [
              "   Age Sex ChestPainType  RestingBP  Cholesterol  FastingBS RestingECG  MaxHR  \\\n",
              "0   54   M           ASY        120            0          0     Normal    150   \n",
              "\n",
              "  ExerciseAngina  Oldpeak ST_Slope  HeartDisease  \n",
              "0              N      0.0     Flat             1  "
            ],
            "text/html": [
              "\n",
              "  <div id=\"df-7d84cf44-afb9-47ee-9d8a-a1a8ea545cb3\">\n",
              "    <div class=\"colab-df-container\">\n",
              "      <div>\n",
              "<style scoped>\n",
              "    .dataframe tbody tr th:only-of-type {\n",
              "        vertical-align: middle;\n",
              "    }\n",
              "\n",
              "    .dataframe tbody tr th {\n",
              "        vertical-align: top;\n",
              "    }\n",
              "\n",
              "    .dataframe thead th {\n",
              "        text-align: right;\n",
              "    }\n",
              "</style>\n",
              "<table border=\"1\" class=\"dataframe\">\n",
              "  <thead>\n",
              "    <tr style=\"text-align: right;\">\n",
              "      <th></th>\n",
              "      <th>Age</th>\n",
              "      <th>Sex</th>\n",
              "      <th>ChestPainType</th>\n",
              "      <th>RestingBP</th>\n",
              "      <th>Cholesterol</th>\n",
              "      <th>FastingBS</th>\n",
              "      <th>RestingECG</th>\n",
              "      <th>MaxHR</th>\n",
              "      <th>ExerciseAngina</th>\n",
              "      <th>Oldpeak</th>\n",
              "      <th>ST_Slope</th>\n",
              "      <th>HeartDisease</th>\n",
              "    </tr>\n",
              "  </thead>\n",
              "  <tbody>\n",
              "    <tr>\n",
              "      <th>0</th>\n",
              "      <td>54</td>\n",
              "      <td>M</td>\n",
              "      <td>ASY</td>\n",
              "      <td>120</td>\n",
              "      <td>0</td>\n",
              "      <td>0</td>\n",
              "      <td>Normal</td>\n",
              "      <td>150</td>\n",
              "      <td>N</td>\n",
              "      <td>0.0</td>\n",
              "      <td>Flat</td>\n",
              "      <td>1</td>\n",
              "    </tr>\n",
              "  </tbody>\n",
              "</table>\n",
              "</div>\n",
              "      <button class=\"colab-df-convert\" onclick=\"convertToInteractive('df-7d84cf44-afb9-47ee-9d8a-a1a8ea545cb3')\"\n",
              "              title=\"Convert this dataframe to an interactive table.\"\n",
              "              style=\"display:none;\">\n",
              "        \n",
              "  <svg xmlns=\"http://www.w3.org/2000/svg\" height=\"24px\"viewBox=\"0 0 24 24\"\n",
              "       width=\"24px\">\n",
              "    <path d=\"M0 0h24v24H0V0z\" fill=\"none\"/>\n",
              "    <path d=\"M18.56 5.44l.94 2.06.94-2.06 2.06-.94-2.06-.94-.94-2.06-.94 2.06-2.06.94zm-11 1L8.5 8.5l.94-2.06 2.06-.94-2.06-.94L8.5 2.5l-.94 2.06-2.06.94zm10 10l.94 2.06.94-2.06 2.06-.94-2.06-.94-.94-2.06-.94 2.06-2.06.94z\"/><path d=\"M17.41 7.96l-1.37-1.37c-.4-.4-.92-.59-1.43-.59-.52 0-1.04.2-1.43.59L10.3 9.45l-7.72 7.72c-.78.78-.78 2.05 0 2.83L4 21.41c.39.39.9.59 1.41.59.51 0 1.02-.2 1.41-.59l7.78-7.78 2.81-2.81c.8-.78.8-2.07 0-2.86zM5.41 20L4 18.59l7.72-7.72 1.47 1.35L5.41 20z\"/>\n",
              "  </svg>\n",
              "      </button>\n",
              "      \n",
              "  <style>\n",
              "    .colab-df-container {\n",
              "      display:flex;\n",
              "      flex-wrap:wrap;\n",
              "      gap: 12px;\n",
              "    }\n",
              "\n",
              "    .colab-df-convert {\n",
              "      background-color: #E8F0FE;\n",
              "      border: none;\n",
              "      border-radius: 50%;\n",
              "      cursor: pointer;\n",
              "      display: none;\n",
              "      fill: #1967D2;\n",
              "      height: 32px;\n",
              "      padding: 0 0 0 0;\n",
              "      width: 32px;\n",
              "    }\n",
              "\n",
              "    .colab-df-convert:hover {\n",
              "      background-color: #E2EBFA;\n",
              "      box-shadow: 0px 1px 2px rgba(60, 64, 67, 0.3), 0px 1px 3px 1px rgba(60, 64, 67, 0.15);\n",
              "      fill: #174EA6;\n",
              "    }\n",
              "\n",
              "    [theme=dark] .colab-df-convert {\n",
              "      background-color: #3B4455;\n",
              "      fill: #D2E3FC;\n",
              "    }\n",
              "\n",
              "    [theme=dark] .colab-df-convert:hover {\n",
              "      background-color: #434B5C;\n",
              "      box-shadow: 0px 1px 3px 1px rgba(0, 0, 0, 0.15);\n",
              "      filter: drop-shadow(0px 1px 2px rgba(0, 0, 0, 0.3));\n",
              "      fill: #FFFFFF;\n",
              "    }\n",
              "  </style>\n",
              "\n",
              "      <script>\n",
              "        const buttonEl =\n",
              "          document.querySelector('#df-7d84cf44-afb9-47ee-9d8a-a1a8ea545cb3 button.colab-df-convert');\n",
              "        buttonEl.style.display =\n",
              "          google.colab.kernel.accessAllowed ? 'block' : 'none';\n",
              "\n",
              "        async function convertToInteractive(key) {\n",
              "          const element = document.querySelector('#df-7d84cf44-afb9-47ee-9d8a-a1a8ea545cb3');\n",
              "          const dataTable =\n",
              "            await google.colab.kernel.invokeFunction('convertToInteractive',\n",
              "                                                     [key], {});\n",
              "          if (!dataTable) return;\n",
              "\n",
              "          const docLinkHtml = 'Like what you see? Visit the ' +\n",
              "            '<a target=\"_blank\" href=https://colab.research.google.com/notebooks/data_table.ipynb>data table notebook</a>'\n",
              "            + ' to learn more about interactive tables.';\n",
              "          element.innerHTML = '';\n",
              "          dataTable['output_type'] = 'display_data';\n",
              "          await google.colab.output.renderOutput(dataTable, element);\n",
              "          const docLink = document.createElement('div');\n",
              "          docLink.innerHTML = docLinkHtml;\n",
              "          element.appendChild(docLink);\n",
              "        }\n",
              "      </script>\n",
              "    </div>\n",
              "  </div>\n",
              "  "
            ]
          },
          "metadata": {},
          "execution_count": 20
        }
      ]
    },
    {
      "cell_type": "markdown",
      "source": [
        "#TRATANDO DADOS COM VALORES INCOERENTES\n",
        "--------------------------------------------------------------------------------\n"
      ],
      "metadata": {
        "id": "q83dWwXQQD_A"
      }
    },
    {
      "cell_type": "markdown",
      "source": [
        "##EXCLUINDO REGISTROS COM PRESSÃO ZERO"
      ],
      "metadata": {
        "id": "wPNmm387QLN2"
      }
    },
    {
      "cell_type": "code",
      "source": [
        "dados2 = dados.loc[dados.RestingBP!=0]  # cria uma veriavel dados2 com todos os dados de RestingBP diferente de zero"
      ],
      "metadata": {
        "id": "1Uld-aQzQVAD"
      },
      "execution_count": 21,
      "outputs": []
    },
    {
      "cell_type": "code",
      "source": [
        "dados2.shape"
      ],
      "metadata": {
        "colab": {
          "base_uri": "https://localhost:8080/"
        },
        "id": "Lz-GrBXXQfL5",
        "outputId": "d514dc27-56e0-47f9-ec6c-7c5f8efccb67"
      },
      "execution_count": 22,
      "outputs": [
        {
          "output_type": "execute_result",
          "data": {
            "text/plain": [
              "(917, 12)"
            ]
          },
          "metadata": {},
          "execution_count": 22
        }
      ]
    },
    {
      "cell_type": "code",
      "source": [
        "dados2.describe()"
      ],
      "metadata": {
        "colab": {
          "base_uri": "https://localhost:8080/",
          "height": 0
        },
        "id": "f9fXlLtpQwEA",
        "outputId": "8d719ca1-43a4-472c-a5b8-bffd82fc17aa"
      },
      "execution_count": 23,
      "outputs": [
        {
          "output_type": "execute_result",
          "data": {
            "text/plain": [
              "              Age   RestingBP  Cholesterol   FastingBS       MaxHR  \\\n",
              "count  917.000000  917.000000   917.000000  917.000000  917.000000   \n",
              "mean    53.509269  132.540894   199.016358    0.233370  136.789531   \n",
              "std      9.437636   17.999749   109.246330    0.423206   25.467129   \n",
              "min     28.000000   80.000000     0.000000    0.000000   60.000000   \n",
              "25%     47.000000  120.000000   174.000000    0.000000  120.000000   \n",
              "50%     54.000000  130.000000   223.000000    0.000000  138.000000   \n",
              "75%     60.000000  140.000000   267.000000    0.000000  156.000000   \n",
              "max     77.000000  200.000000   603.000000    1.000000  202.000000   \n",
              "\n",
              "          Oldpeak  HeartDisease  \n",
              "count  917.000000    917.000000  \n",
              "mean     0.886696      0.552890  \n",
              "std      1.066960      0.497466  \n",
              "min     -2.600000      0.000000  \n",
              "25%      0.000000      0.000000  \n",
              "50%      0.600000      1.000000  \n",
              "75%      1.500000      1.000000  \n",
              "max      6.200000      1.000000  "
            ],
            "text/html": [
              "\n",
              "  <div id=\"df-09ca01e5-81c2-4e36-8600-ac4d761dba6d\">\n",
              "    <div class=\"colab-df-container\">\n",
              "      <div>\n",
              "<style scoped>\n",
              "    .dataframe tbody tr th:only-of-type {\n",
              "        vertical-align: middle;\n",
              "    }\n",
              "\n",
              "    .dataframe tbody tr th {\n",
              "        vertical-align: top;\n",
              "    }\n",
              "\n",
              "    .dataframe thead th {\n",
              "        text-align: right;\n",
              "    }\n",
              "</style>\n",
              "<table border=\"1\" class=\"dataframe\">\n",
              "  <thead>\n",
              "    <tr style=\"text-align: right;\">\n",
              "      <th></th>\n",
              "      <th>Age</th>\n",
              "      <th>RestingBP</th>\n",
              "      <th>Cholesterol</th>\n",
              "      <th>FastingBS</th>\n",
              "      <th>MaxHR</th>\n",
              "      <th>Oldpeak</th>\n",
              "      <th>HeartDisease</th>\n",
              "    </tr>\n",
              "  </thead>\n",
              "  <tbody>\n",
              "    <tr>\n",
              "      <th>count</th>\n",
              "      <td>917.000000</td>\n",
              "      <td>917.000000</td>\n",
              "      <td>917.000000</td>\n",
              "      <td>917.000000</td>\n",
              "      <td>917.000000</td>\n",
              "      <td>917.000000</td>\n",
              "      <td>917.000000</td>\n",
              "    </tr>\n",
              "    <tr>\n",
              "      <th>mean</th>\n",
              "      <td>53.509269</td>\n",
              "      <td>132.540894</td>\n",
              "      <td>199.016358</td>\n",
              "      <td>0.233370</td>\n",
              "      <td>136.789531</td>\n",
              "      <td>0.886696</td>\n",
              "      <td>0.552890</td>\n",
              "    </tr>\n",
              "    <tr>\n",
              "      <th>std</th>\n",
              "      <td>9.437636</td>\n",
              "      <td>17.999749</td>\n",
              "      <td>109.246330</td>\n",
              "      <td>0.423206</td>\n",
              "      <td>25.467129</td>\n",
              "      <td>1.066960</td>\n",
              "      <td>0.497466</td>\n",
              "    </tr>\n",
              "    <tr>\n",
              "      <th>min</th>\n",
              "      <td>28.000000</td>\n",
              "      <td>80.000000</td>\n",
              "      <td>0.000000</td>\n",
              "      <td>0.000000</td>\n",
              "      <td>60.000000</td>\n",
              "      <td>-2.600000</td>\n",
              "      <td>0.000000</td>\n",
              "    </tr>\n",
              "    <tr>\n",
              "      <th>25%</th>\n",
              "      <td>47.000000</td>\n",
              "      <td>120.000000</td>\n",
              "      <td>174.000000</td>\n",
              "      <td>0.000000</td>\n",
              "      <td>120.000000</td>\n",
              "      <td>0.000000</td>\n",
              "      <td>0.000000</td>\n",
              "    </tr>\n",
              "    <tr>\n",
              "      <th>50%</th>\n",
              "      <td>54.000000</td>\n",
              "      <td>130.000000</td>\n",
              "      <td>223.000000</td>\n",
              "      <td>0.000000</td>\n",
              "      <td>138.000000</td>\n",
              "      <td>0.600000</td>\n",
              "      <td>1.000000</td>\n",
              "    </tr>\n",
              "    <tr>\n",
              "      <th>75%</th>\n",
              "      <td>60.000000</td>\n",
              "      <td>140.000000</td>\n",
              "      <td>267.000000</td>\n",
              "      <td>0.000000</td>\n",
              "      <td>156.000000</td>\n",
              "      <td>1.500000</td>\n",
              "      <td>1.000000</td>\n",
              "    </tr>\n",
              "    <tr>\n",
              "      <th>max</th>\n",
              "      <td>77.000000</td>\n",
              "      <td>200.000000</td>\n",
              "      <td>603.000000</td>\n",
              "      <td>1.000000</td>\n",
              "      <td>202.000000</td>\n",
              "      <td>6.200000</td>\n",
              "      <td>1.000000</td>\n",
              "    </tr>\n",
              "  </tbody>\n",
              "</table>\n",
              "</div>\n",
              "      <button class=\"colab-df-convert\" onclick=\"convertToInteractive('df-09ca01e5-81c2-4e36-8600-ac4d761dba6d')\"\n",
              "              title=\"Convert this dataframe to an interactive table.\"\n",
              "              style=\"display:none;\">\n",
              "        \n",
              "  <svg xmlns=\"http://www.w3.org/2000/svg\" height=\"24px\"viewBox=\"0 0 24 24\"\n",
              "       width=\"24px\">\n",
              "    <path d=\"M0 0h24v24H0V0z\" fill=\"none\"/>\n",
              "    <path d=\"M18.56 5.44l.94 2.06.94-2.06 2.06-.94-2.06-.94-.94-2.06-.94 2.06-2.06.94zm-11 1L8.5 8.5l.94-2.06 2.06-.94-2.06-.94L8.5 2.5l-.94 2.06-2.06.94zm10 10l.94 2.06.94-2.06 2.06-.94-2.06-.94-.94-2.06-.94 2.06-2.06.94z\"/><path d=\"M17.41 7.96l-1.37-1.37c-.4-.4-.92-.59-1.43-.59-.52 0-1.04.2-1.43.59L10.3 9.45l-7.72 7.72c-.78.78-.78 2.05 0 2.83L4 21.41c.39.39.9.59 1.41.59.51 0 1.02-.2 1.41-.59l7.78-7.78 2.81-2.81c.8-.78.8-2.07 0-2.86zM5.41 20L4 18.59l7.72-7.72 1.47 1.35L5.41 20z\"/>\n",
              "  </svg>\n",
              "      </button>\n",
              "      \n",
              "  <style>\n",
              "    .colab-df-container {\n",
              "      display:flex;\n",
              "      flex-wrap:wrap;\n",
              "      gap: 12px;\n",
              "    }\n",
              "\n",
              "    .colab-df-convert {\n",
              "      background-color: #E8F0FE;\n",
              "      border: none;\n",
              "      border-radius: 50%;\n",
              "      cursor: pointer;\n",
              "      display: none;\n",
              "      fill: #1967D2;\n",
              "      height: 32px;\n",
              "      padding: 0 0 0 0;\n",
              "      width: 32px;\n",
              "    }\n",
              "\n",
              "    .colab-df-convert:hover {\n",
              "      background-color: #E2EBFA;\n",
              "      box-shadow: 0px 1px 2px rgba(60, 64, 67, 0.3), 0px 1px 3px 1px rgba(60, 64, 67, 0.15);\n",
              "      fill: #174EA6;\n",
              "    }\n",
              "\n",
              "    [theme=dark] .colab-df-convert {\n",
              "      background-color: #3B4455;\n",
              "      fill: #D2E3FC;\n",
              "    }\n",
              "\n",
              "    [theme=dark] .colab-df-convert:hover {\n",
              "      background-color: #434B5C;\n",
              "      box-shadow: 0px 1px 3px 1px rgba(0, 0, 0, 0.15);\n",
              "      filter: drop-shadow(0px 1px 2px rgba(0, 0, 0, 0.3));\n",
              "      fill: #FFFFFF;\n",
              "    }\n",
              "  </style>\n",
              "\n",
              "      <script>\n",
              "        const buttonEl =\n",
              "          document.querySelector('#df-09ca01e5-81c2-4e36-8600-ac4d761dba6d button.colab-df-convert');\n",
              "        buttonEl.style.display =\n",
              "          google.colab.kernel.accessAllowed ? 'block' : 'none';\n",
              "\n",
              "        async function convertToInteractive(key) {\n",
              "          const element = document.querySelector('#df-09ca01e5-81c2-4e36-8600-ac4d761dba6d');\n",
              "          const dataTable =\n",
              "            await google.colab.kernel.invokeFunction('convertToInteractive',\n",
              "                                                     [key], {});\n",
              "          if (!dataTable) return;\n",
              "\n",
              "          const docLinkHtml = 'Like what you see? Visit the ' +\n",
              "            '<a target=\"_blank\" href=https://colab.research.google.com/notebooks/data_table.ipynb>data table notebook</a>'\n",
              "            + ' to learn more about interactive tables.';\n",
              "          element.innerHTML = '';\n",
              "          dataTable['output_type'] = 'display_data';\n",
              "          await google.colab.output.renderOutput(dataTable, element);\n",
              "          const docLink = document.createElement('div');\n",
              "          docLink.innerHTML = docLinkHtml;\n",
              "          element.appendChild(docLink);\n",
              "        }\n",
              "      </script>\n",
              "    </div>\n",
              "  </div>\n",
              "  "
            ]
          },
          "metadata": {},
          "execution_count": 23
        }
      ]
    },
    {
      "cell_type": "markdown",
      "source": [
        "##ALTERANDO OS VALORES DE COLESTEROL PELA MÉDIA"
      ],
      "metadata": {
        "id": "zbIwUts-ReKG"
      }
    },
    {
      "cell_type": "code",
      "source": [
        "dados2.Cholesterol.value_counts()   # contar os valores de Cholesterol. Percebe-se que o valor 0 tem 171 entradas, o que é um erro."
      ],
      "metadata": {
        "colab": {
          "base_uri": "https://localhost:8080/"
        },
        "id": "P50W6icfRqs2",
        "outputId": "07ad7d7c-14ce-47f6-cc11-b7f94dbacb7a"
      },
      "execution_count": 24,
      "outputs": [
        {
          "output_type": "execute_result",
          "data": {
            "text/plain": [
              "0      171\n",
              "254     11\n",
              "223     10\n",
              "220     10\n",
              "230      9\n",
              "      ... \n",
              "392      1\n",
              "316      1\n",
              "153      1\n",
              "466      1\n",
              "131      1\n",
              "Name: Cholesterol, Length: 222, dtype: int64"
            ]
          },
          "metadata": {},
          "execution_count": 24
        }
      ]
    },
    {
      "cell_type": "code",
      "source": [
        "dados.Cholesterol.mean()  # calculando a média de Cholesterol, porem as entradas zeradas deturpam o calculo"
      ],
      "metadata": {
        "colab": {
          "base_uri": "https://localhost:8080/"
        },
        "id": "0vX-fIKNSBye",
        "outputId": "5e7d8e8a-ff3b-438a-a7df-892027be694a"
      },
      "execution_count": 25,
      "outputs": [
        {
          "output_type": "execute_result",
          "data": {
            "text/plain": [
              "198.7995642701525"
            ]
          },
          "metadata": {},
          "execution_count": 25
        }
      ]
    },
    {
      "cell_type": "code",
      "source": [
        "dados2.Cholesterol.replace(0,np.NaN, inplace = True)  # altera os valores 0 para NaN ( Valores missing )"
      ],
      "metadata": {
        "colab": {
          "base_uri": "https://localhost:8080/"
        },
        "id": "R1u7ijeuSO7H",
        "outputId": "4be3e889-5efe-4328-ff0c-507332360e75"
      },
      "execution_count": 26,
      "outputs": [
        {
          "output_type": "stream",
          "name": "stderr",
          "text": [
            "/usr/local/lib/python3.7/dist-packages/pandas/core/generic.py:6619: SettingWithCopyWarning:\n",
            "\n",
            "\n",
            "A value is trying to be set on a copy of a slice from a DataFrame\n",
            "\n",
            "See the caveats in the documentation: https://pandas.pydata.org/pandas-docs/stable/user_guide/indexing.html#returning-a-view-versus-a-copy\n",
            "\n"
          ]
        }
      ]
    },
    {
      "cell_type": "code",
      "source": [
        "dados2.Cholesterol.value_counts()"
      ],
      "metadata": {
        "colab": {
          "base_uri": "https://localhost:8080/"
        },
        "id": "FYsTn8LnSqYv",
        "outputId": "a0537c48-f52d-497c-897b-5dba4a14ee59"
      },
      "execution_count": 27,
      "outputs": [
        {
          "output_type": "execute_result",
          "data": {
            "text/plain": [
              "254.0    11\n",
              "223.0    10\n",
              "220.0    10\n",
              "216.0     9\n",
              "230.0     9\n",
              "         ..\n",
              "347.0     1\n",
              "365.0     1\n",
              "412.0     1\n",
              "491.0     1\n",
              "131.0     1\n",
              "Name: Cholesterol, Length: 221, dtype: int64"
            ]
          },
          "metadata": {},
          "execution_count": 27
        }
      ]
    },
    {
      "cell_type": "code",
      "source": [
        "dados2.isnull().sum()"
      ],
      "metadata": {
        "colab": {
          "base_uri": "https://localhost:8080/"
        },
        "id": "TFBKHXGUSx3O",
        "outputId": "2ea0209d-56fd-4b6b-988c-2b01d4c73390"
      },
      "execution_count": 28,
      "outputs": [
        {
          "output_type": "execute_result",
          "data": {
            "text/plain": [
              "Age                 0\n",
              "Sex                 0\n",
              "ChestPainType       0\n",
              "RestingBP           0\n",
              "Cholesterol       171\n",
              "FastingBS           0\n",
              "RestingECG          0\n",
              "MaxHR               0\n",
              "ExerciseAngina      0\n",
              "Oldpeak             0\n",
              "ST_Slope            0\n",
              "HeartDisease        0\n",
              "dtype: int64"
            ]
          },
          "metadata": {},
          "execution_count": 28
        }
      ]
    },
    {
      "cell_type": "code",
      "source": [
        "dados2[\"Cholesterol\"].fillna(dados2[\"Cholesterol\"].mean(),inplace = True)  # Substituindo os valores MISSING pela média."
      ],
      "metadata": {
        "colab": {
          "base_uri": "https://localhost:8080/"
        },
        "id": "cGXp8fiqTCwP",
        "outputId": "c0edd961-5ddd-4f9e-943e-a6c9526a00ac"
      },
      "execution_count": 29,
      "outputs": [
        {
          "output_type": "stream",
          "name": "stderr",
          "text": [
            "/usr/local/lib/python3.7/dist-packages/pandas/core/generic.py:6392: SettingWithCopyWarning:\n",
            "\n",
            "\n",
            "A value is trying to be set on a copy of a slice from a DataFrame\n",
            "\n",
            "See the caveats in the documentation: https://pandas.pydata.org/pandas-docs/stable/user_guide/indexing.html#returning-a-view-versus-a-copy\n",
            "\n"
          ]
        }
      ]
    },
    {
      "cell_type": "code",
      "source": [
        "dados2.isnull().sum()"
      ],
      "metadata": {
        "colab": {
          "base_uri": "https://localhost:8080/"
        },
        "id": "qcpeQ0rRYOKK",
        "outputId": "c1d6aa76-c71b-494d-b250-ddfc43e52a6c"
      },
      "execution_count": 30,
      "outputs": [
        {
          "output_type": "execute_result",
          "data": {
            "text/plain": [
              "Age               0\n",
              "Sex               0\n",
              "ChestPainType     0\n",
              "RestingBP         0\n",
              "Cholesterol       0\n",
              "FastingBS         0\n",
              "RestingECG        0\n",
              "MaxHR             0\n",
              "ExerciseAngina    0\n",
              "Oldpeak           0\n",
              "ST_Slope          0\n",
              "HeartDisease      0\n",
              "dtype: int64"
            ]
          },
          "metadata": {},
          "execution_count": 30
        }
      ]
    },
    {
      "cell_type": "code",
      "source": [
        "dados2.describe()"
      ],
      "metadata": {
        "colab": {
          "base_uri": "https://localhost:8080/",
          "height": 0
        },
        "id": "fBPeDsO1YnlR",
        "outputId": "327024b5-fb43-466e-da16-e1b98983e002"
      },
      "execution_count": 31,
      "outputs": [
        {
          "output_type": "execute_result",
          "data": {
            "text/plain": [
              "              Age   RestingBP  Cholesterol   FastingBS       MaxHR  \\\n",
              "count  917.000000  917.000000   917.000000  917.000000  917.000000   \n",
              "mean    53.509269  132.540894   244.635389    0.233370  136.789531   \n",
              "std      9.437636   17.999749    53.347125    0.423206   25.467129   \n",
              "min     28.000000   80.000000    85.000000    0.000000   60.000000   \n",
              "25%     47.000000  120.000000   214.000000    0.000000  120.000000   \n",
              "50%     54.000000  130.000000   244.635389    0.000000  138.000000   \n",
              "75%     60.000000  140.000000   267.000000    0.000000  156.000000   \n",
              "max     77.000000  200.000000   603.000000    1.000000  202.000000   \n",
              "\n",
              "          Oldpeak  HeartDisease  \n",
              "count  917.000000    917.000000  \n",
              "mean     0.886696      0.552890  \n",
              "std      1.066960      0.497466  \n",
              "min     -2.600000      0.000000  \n",
              "25%      0.000000      0.000000  \n",
              "50%      0.600000      1.000000  \n",
              "75%      1.500000      1.000000  \n",
              "max      6.200000      1.000000  "
            ],
            "text/html": [
              "\n",
              "  <div id=\"df-5fbc8663-b859-44b2-8ff5-cba7960d72ad\">\n",
              "    <div class=\"colab-df-container\">\n",
              "      <div>\n",
              "<style scoped>\n",
              "    .dataframe tbody tr th:only-of-type {\n",
              "        vertical-align: middle;\n",
              "    }\n",
              "\n",
              "    .dataframe tbody tr th {\n",
              "        vertical-align: top;\n",
              "    }\n",
              "\n",
              "    .dataframe thead th {\n",
              "        text-align: right;\n",
              "    }\n",
              "</style>\n",
              "<table border=\"1\" class=\"dataframe\">\n",
              "  <thead>\n",
              "    <tr style=\"text-align: right;\">\n",
              "      <th></th>\n",
              "      <th>Age</th>\n",
              "      <th>RestingBP</th>\n",
              "      <th>Cholesterol</th>\n",
              "      <th>FastingBS</th>\n",
              "      <th>MaxHR</th>\n",
              "      <th>Oldpeak</th>\n",
              "      <th>HeartDisease</th>\n",
              "    </tr>\n",
              "  </thead>\n",
              "  <tbody>\n",
              "    <tr>\n",
              "      <th>count</th>\n",
              "      <td>917.000000</td>\n",
              "      <td>917.000000</td>\n",
              "      <td>917.000000</td>\n",
              "      <td>917.000000</td>\n",
              "      <td>917.000000</td>\n",
              "      <td>917.000000</td>\n",
              "      <td>917.000000</td>\n",
              "    </tr>\n",
              "    <tr>\n",
              "      <th>mean</th>\n",
              "      <td>53.509269</td>\n",
              "      <td>132.540894</td>\n",
              "      <td>244.635389</td>\n",
              "      <td>0.233370</td>\n",
              "      <td>136.789531</td>\n",
              "      <td>0.886696</td>\n",
              "      <td>0.552890</td>\n",
              "    </tr>\n",
              "    <tr>\n",
              "      <th>std</th>\n",
              "      <td>9.437636</td>\n",
              "      <td>17.999749</td>\n",
              "      <td>53.347125</td>\n",
              "      <td>0.423206</td>\n",
              "      <td>25.467129</td>\n",
              "      <td>1.066960</td>\n",
              "      <td>0.497466</td>\n",
              "    </tr>\n",
              "    <tr>\n",
              "      <th>min</th>\n",
              "      <td>28.000000</td>\n",
              "      <td>80.000000</td>\n",
              "      <td>85.000000</td>\n",
              "      <td>0.000000</td>\n",
              "      <td>60.000000</td>\n",
              "      <td>-2.600000</td>\n",
              "      <td>0.000000</td>\n",
              "    </tr>\n",
              "    <tr>\n",
              "      <th>25%</th>\n",
              "      <td>47.000000</td>\n",
              "      <td>120.000000</td>\n",
              "      <td>214.000000</td>\n",
              "      <td>0.000000</td>\n",
              "      <td>120.000000</td>\n",
              "      <td>0.000000</td>\n",
              "      <td>0.000000</td>\n",
              "    </tr>\n",
              "    <tr>\n",
              "      <th>50%</th>\n",
              "      <td>54.000000</td>\n",
              "      <td>130.000000</td>\n",
              "      <td>244.635389</td>\n",
              "      <td>0.000000</td>\n",
              "      <td>138.000000</td>\n",
              "      <td>0.600000</td>\n",
              "      <td>1.000000</td>\n",
              "    </tr>\n",
              "    <tr>\n",
              "      <th>75%</th>\n",
              "      <td>60.000000</td>\n",
              "      <td>140.000000</td>\n",
              "      <td>267.000000</td>\n",
              "      <td>0.000000</td>\n",
              "      <td>156.000000</td>\n",
              "      <td>1.500000</td>\n",
              "      <td>1.000000</td>\n",
              "    </tr>\n",
              "    <tr>\n",
              "      <th>max</th>\n",
              "      <td>77.000000</td>\n",
              "      <td>200.000000</td>\n",
              "      <td>603.000000</td>\n",
              "      <td>1.000000</td>\n",
              "      <td>202.000000</td>\n",
              "      <td>6.200000</td>\n",
              "      <td>1.000000</td>\n",
              "    </tr>\n",
              "  </tbody>\n",
              "</table>\n",
              "</div>\n",
              "      <button class=\"colab-df-convert\" onclick=\"convertToInteractive('df-5fbc8663-b859-44b2-8ff5-cba7960d72ad')\"\n",
              "              title=\"Convert this dataframe to an interactive table.\"\n",
              "              style=\"display:none;\">\n",
              "        \n",
              "  <svg xmlns=\"http://www.w3.org/2000/svg\" height=\"24px\"viewBox=\"0 0 24 24\"\n",
              "       width=\"24px\">\n",
              "    <path d=\"M0 0h24v24H0V0z\" fill=\"none\"/>\n",
              "    <path d=\"M18.56 5.44l.94 2.06.94-2.06 2.06-.94-2.06-.94-.94-2.06-.94 2.06-2.06.94zm-11 1L8.5 8.5l.94-2.06 2.06-.94-2.06-.94L8.5 2.5l-.94 2.06-2.06.94zm10 10l.94 2.06.94-2.06 2.06-.94-2.06-.94-.94-2.06-.94 2.06-2.06.94z\"/><path d=\"M17.41 7.96l-1.37-1.37c-.4-.4-.92-.59-1.43-.59-.52 0-1.04.2-1.43.59L10.3 9.45l-7.72 7.72c-.78.78-.78 2.05 0 2.83L4 21.41c.39.39.9.59 1.41.59.51 0 1.02-.2 1.41-.59l7.78-7.78 2.81-2.81c.8-.78.8-2.07 0-2.86zM5.41 20L4 18.59l7.72-7.72 1.47 1.35L5.41 20z\"/>\n",
              "  </svg>\n",
              "      </button>\n",
              "      \n",
              "  <style>\n",
              "    .colab-df-container {\n",
              "      display:flex;\n",
              "      flex-wrap:wrap;\n",
              "      gap: 12px;\n",
              "    }\n",
              "\n",
              "    .colab-df-convert {\n",
              "      background-color: #E8F0FE;\n",
              "      border: none;\n",
              "      border-radius: 50%;\n",
              "      cursor: pointer;\n",
              "      display: none;\n",
              "      fill: #1967D2;\n",
              "      height: 32px;\n",
              "      padding: 0 0 0 0;\n",
              "      width: 32px;\n",
              "    }\n",
              "\n",
              "    .colab-df-convert:hover {\n",
              "      background-color: #E2EBFA;\n",
              "      box-shadow: 0px 1px 2px rgba(60, 64, 67, 0.3), 0px 1px 3px 1px rgba(60, 64, 67, 0.15);\n",
              "      fill: #174EA6;\n",
              "    }\n",
              "\n",
              "    [theme=dark] .colab-df-convert {\n",
              "      background-color: #3B4455;\n",
              "      fill: #D2E3FC;\n",
              "    }\n",
              "\n",
              "    [theme=dark] .colab-df-convert:hover {\n",
              "      background-color: #434B5C;\n",
              "      box-shadow: 0px 1px 3px 1px rgba(0, 0, 0, 0.15);\n",
              "      filter: drop-shadow(0px 1px 2px rgba(0, 0, 0, 0.3));\n",
              "      fill: #FFFFFF;\n",
              "    }\n",
              "  </style>\n",
              "\n",
              "      <script>\n",
              "        const buttonEl =\n",
              "          document.querySelector('#df-5fbc8663-b859-44b2-8ff5-cba7960d72ad button.colab-df-convert');\n",
              "        buttonEl.style.display =\n",
              "          google.colab.kernel.accessAllowed ? 'block' : 'none';\n",
              "\n",
              "        async function convertToInteractive(key) {\n",
              "          const element = document.querySelector('#df-5fbc8663-b859-44b2-8ff5-cba7960d72ad');\n",
              "          const dataTable =\n",
              "            await google.colab.kernel.invokeFunction('convertToInteractive',\n",
              "                                                     [key], {});\n",
              "          if (!dataTable) return;\n",
              "\n",
              "          const docLinkHtml = 'Like what you see? Visit the ' +\n",
              "            '<a target=\"_blank\" href=https://colab.research.google.com/notebooks/data_table.ipynb>data table notebook</a>'\n",
              "            + ' to learn more about interactive tables.';\n",
              "          element.innerHTML = '';\n",
              "          dataTable['output_type'] = 'display_data';\n",
              "          await google.colab.output.renderOutput(dataTable, element);\n",
              "          const docLink = document.createElement('div');\n",
              "          docLink.innerHTML = docLinkHtml;\n",
              "          element.appendChild(docLink);\n",
              "        }\n",
              "      </script>\n",
              "    </div>\n",
              "  </div>\n",
              "  "
            ]
          },
          "metadata": {},
          "execution_count": 31
        }
      ]
    },
    {
      "cell_type": "code",
      "source": [
        "dados2.mode()"
      ],
      "metadata": {
        "colab": {
          "base_uri": "https://localhost:8080/",
          "height": 0
        },
        "id": "5zSvRTuBZKuI",
        "outputId": "3d248dd0-bac1-4329-9769-3674d6218671"
      },
      "execution_count": 32,
      "outputs": [
        {
          "output_type": "execute_result",
          "data": {
            "text/plain": [
              "   Age Sex ChestPainType  RestingBP  Cholesterol  FastingBS RestingECG  MaxHR  \\\n",
              "0   54   M           ASY        120   244.635389          0     Normal    150   \n",
              "\n",
              "  ExerciseAngina  Oldpeak ST_Slope  HeartDisease  \n",
              "0              N      0.0     Flat             1  "
            ],
            "text/html": [
              "\n",
              "  <div id=\"df-f47b7bfc-70fa-47e2-bb5f-afbff3250c0b\">\n",
              "    <div class=\"colab-df-container\">\n",
              "      <div>\n",
              "<style scoped>\n",
              "    .dataframe tbody tr th:only-of-type {\n",
              "        vertical-align: middle;\n",
              "    }\n",
              "\n",
              "    .dataframe tbody tr th {\n",
              "        vertical-align: top;\n",
              "    }\n",
              "\n",
              "    .dataframe thead th {\n",
              "        text-align: right;\n",
              "    }\n",
              "</style>\n",
              "<table border=\"1\" class=\"dataframe\">\n",
              "  <thead>\n",
              "    <tr style=\"text-align: right;\">\n",
              "      <th></th>\n",
              "      <th>Age</th>\n",
              "      <th>Sex</th>\n",
              "      <th>ChestPainType</th>\n",
              "      <th>RestingBP</th>\n",
              "      <th>Cholesterol</th>\n",
              "      <th>FastingBS</th>\n",
              "      <th>RestingECG</th>\n",
              "      <th>MaxHR</th>\n",
              "      <th>ExerciseAngina</th>\n",
              "      <th>Oldpeak</th>\n",
              "      <th>ST_Slope</th>\n",
              "      <th>HeartDisease</th>\n",
              "    </tr>\n",
              "  </thead>\n",
              "  <tbody>\n",
              "    <tr>\n",
              "      <th>0</th>\n",
              "      <td>54</td>\n",
              "      <td>M</td>\n",
              "      <td>ASY</td>\n",
              "      <td>120</td>\n",
              "      <td>244.635389</td>\n",
              "      <td>0</td>\n",
              "      <td>Normal</td>\n",
              "      <td>150</td>\n",
              "      <td>N</td>\n",
              "      <td>0.0</td>\n",
              "      <td>Flat</td>\n",
              "      <td>1</td>\n",
              "    </tr>\n",
              "  </tbody>\n",
              "</table>\n",
              "</div>\n",
              "      <button class=\"colab-df-convert\" onclick=\"convertToInteractive('df-f47b7bfc-70fa-47e2-bb5f-afbff3250c0b')\"\n",
              "              title=\"Convert this dataframe to an interactive table.\"\n",
              "              style=\"display:none;\">\n",
              "        \n",
              "  <svg xmlns=\"http://www.w3.org/2000/svg\" height=\"24px\"viewBox=\"0 0 24 24\"\n",
              "       width=\"24px\">\n",
              "    <path d=\"M0 0h24v24H0V0z\" fill=\"none\"/>\n",
              "    <path d=\"M18.56 5.44l.94 2.06.94-2.06 2.06-.94-2.06-.94-.94-2.06-.94 2.06-2.06.94zm-11 1L8.5 8.5l.94-2.06 2.06-.94-2.06-.94L8.5 2.5l-.94 2.06-2.06.94zm10 10l.94 2.06.94-2.06 2.06-.94-2.06-.94-.94-2.06-.94 2.06-2.06.94z\"/><path d=\"M17.41 7.96l-1.37-1.37c-.4-.4-.92-.59-1.43-.59-.52 0-1.04.2-1.43.59L10.3 9.45l-7.72 7.72c-.78.78-.78 2.05 0 2.83L4 21.41c.39.39.9.59 1.41.59.51 0 1.02-.2 1.41-.59l7.78-7.78 2.81-2.81c.8-.78.8-2.07 0-2.86zM5.41 20L4 18.59l7.72-7.72 1.47 1.35L5.41 20z\"/>\n",
              "  </svg>\n",
              "      </button>\n",
              "      \n",
              "  <style>\n",
              "    .colab-df-container {\n",
              "      display:flex;\n",
              "      flex-wrap:wrap;\n",
              "      gap: 12px;\n",
              "    }\n",
              "\n",
              "    .colab-df-convert {\n",
              "      background-color: #E8F0FE;\n",
              "      border: none;\n",
              "      border-radius: 50%;\n",
              "      cursor: pointer;\n",
              "      display: none;\n",
              "      fill: #1967D2;\n",
              "      height: 32px;\n",
              "      padding: 0 0 0 0;\n",
              "      width: 32px;\n",
              "    }\n",
              "\n",
              "    .colab-df-convert:hover {\n",
              "      background-color: #E2EBFA;\n",
              "      box-shadow: 0px 1px 2px rgba(60, 64, 67, 0.3), 0px 1px 3px 1px rgba(60, 64, 67, 0.15);\n",
              "      fill: #174EA6;\n",
              "    }\n",
              "\n",
              "    [theme=dark] .colab-df-convert {\n",
              "      background-color: #3B4455;\n",
              "      fill: #D2E3FC;\n",
              "    }\n",
              "\n",
              "    [theme=dark] .colab-df-convert:hover {\n",
              "      background-color: #434B5C;\n",
              "      box-shadow: 0px 1px 3px 1px rgba(0, 0, 0, 0.15);\n",
              "      filter: drop-shadow(0px 1px 2px rgba(0, 0, 0, 0.3));\n",
              "      fill: #FFFFFF;\n",
              "    }\n",
              "  </style>\n",
              "\n",
              "      <script>\n",
              "        const buttonEl =\n",
              "          document.querySelector('#df-f47b7bfc-70fa-47e2-bb5f-afbff3250c0b button.colab-df-convert');\n",
              "        buttonEl.style.display =\n",
              "          google.colab.kernel.accessAllowed ? 'block' : 'none';\n",
              "\n",
              "        async function convertToInteractive(key) {\n",
              "          const element = document.querySelector('#df-f47b7bfc-70fa-47e2-bb5f-afbff3250c0b');\n",
              "          const dataTable =\n",
              "            await google.colab.kernel.invokeFunction('convertToInteractive',\n",
              "                                                     [key], {});\n",
              "          if (!dataTable) return;\n",
              "\n",
              "          const docLinkHtml = 'Like what you see? Visit the ' +\n",
              "            '<a target=\"_blank\" href=https://colab.research.google.com/notebooks/data_table.ipynb>data table notebook</a>'\n",
              "            + ' to learn more about interactive tables.';\n",
              "          element.innerHTML = '';\n",
              "          dataTable['output_type'] = 'display_data';\n",
              "          await google.colab.output.renderOutput(dataTable, element);\n",
              "          const docLink = document.createElement('div');\n",
              "          docLink.innerHTML = docLinkHtml;\n",
              "          element.appendChild(docLink);\n",
              "        }\n",
              "      </script>\n",
              "    </div>\n",
              "  </div>\n",
              "  "
            ]
          },
          "metadata": {},
          "execution_count": 32
        }
      ]
    },
    {
      "cell_type": "markdown",
      "source": [
        "##ANALISE DE OUTLIERS ( DISCREPÂNCIAS )\n",
        "\n",
        "________________________________________________________________________________\n"
      ],
      "metadata": {
        "id": "FPwoyhjeabWc"
      }
    },
    {
      "cell_type": "code",
      "source": [
        "# Idade\n",
        "px.box ( dados2, y = \"Age\")"
      ],
      "metadata": {
        "colab": {
          "base_uri": "https://localhost:8080/",
          "height": 0
        },
        "id": "-h7Fm_MXalmr",
        "outputId": "8b29b0a3-ba8a-4ca0-a623-6ec6abc47db9"
      },
      "execution_count": 33,
      "outputs": [
        {
          "output_type": "display_data",
          "data": {
            "text/html": [
              "<html>\n",
              "<head><meta charset=\"utf-8\" /></head>\n",
              "<body>\n",
              "    <div>            <script src=\"https://cdnjs.cloudflare.com/ajax/libs/mathjax/2.7.5/MathJax.js?config=TeX-AMS-MML_SVG\"></script><script type=\"text/javascript\">if (window.MathJax) {MathJax.Hub.Config({SVG: {font: \"STIX-Web\"}});}</script>                <script type=\"text/javascript\">window.PlotlyConfig = {MathJaxConfig: 'local'};</script>\n",
              "        <script src=\"https://cdn.plot.ly/plotly-2.8.3.min.js\"></script>                <div id=\"d2c66866-e5f6-42d1-a256-7a3b459a67fa\" class=\"plotly-graph-div\" style=\"height:525px; width:100%;\"></div>            <script type=\"text/javascript\">                                    window.PLOTLYENV=window.PLOTLYENV || {};                                    if (document.getElementById(\"d2c66866-e5f6-42d1-a256-7a3b459a67fa\")) {                    Plotly.newPlot(                        \"d2c66866-e5f6-42d1-a256-7a3b459a67fa\",                        [{\"alignmentgroup\":\"True\",\"hovertemplate\":\"Age=%{y}<extra></extra>\",\"legendgroup\":\"\",\"marker\":{\"color\":\"#636efa\"},\"name\":\"\",\"notched\":false,\"offsetgroup\":\"\",\"orientation\":\"v\",\"showlegend\":false,\"x0\":\" \",\"xaxis\":\"x\",\"y\":[40,49,37,48,54,39,45,54,37,48,37,58,39,49,42,54,38,43,60,36,43,44,49,44,40,36,53,52,53,51,53,56,54,41,43,32,65,41,48,48,54,54,35,52,43,59,37,50,36,41,50,47,45,41,52,51,31,58,54,52,49,43,45,46,50,37,45,32,52,44,57,44,52,44,55,46,32,35,52,49,55,54,63,52,56,66,65,53,43,55,49,39,52,48,39,58,43,39,56,41,65,51,40,40,46,57,48,34,50,39,59,57,47,38,49,33,38,59,35,34,47,52,46,58,58,54,34,48,54,42,38,46,56,56,61,49,43,39,54,43,52,50,47,53,56,39,42,43,50,54,39,48,40,55,41,56,38,49,44,54,59,49,47,42,52,46,50,48,58,58,29,40,53,49,52,43,54,59,37,46,52,51,52,46,54,58,58,41,50,53,46,50,48,45,41,62,49,42,53,57,47,46,42,31,56,50,35,35,28,54,48,50,56,56,47,30,39,54,55,29,46,51,48,33,55,50,53,38,41,37,37,40,38,41,54,39,41,55,48,48,55,54,55,43,48,54,54,48,45,49,44,48,61,62,55,53,55,36,51,55,46,54,46,59,47,54,52,34,54,47,45,32,55,55,45,59,51,52,57,54,60,49,51,55,42,51,59,53,48,36,48,47,53,65,32,61,50,57,51,47,60,55,53,62,51,51,55,53,58,57,65,60,41,34,53,74,57,56,61,68,59,63,38,62,46,42,45,59,52,60,60,56,38,40,51,62,72,63,63,64,43,64,61,52,51,69,59,48,69,36,53,43,56,58,55,67,46,53,38,53,62,47,56,56,56,64,61,68,57,63,60,66,63,59,61,73,47,65,70,50,60,50,43,38,54,61,42,53,55,61,51,70,61,38,57,38,62,58,52,61,50,51,65,52,47,35,57,62,59,53,62,54,56,56,54,66,63,44,60,55,66,66,65,60,60,60,56,59,62,63,57,62,63,46,63,60,58,64,63,74,52,69,51,60,56,55,54,77,63,52,64,60,60,58,59,61,40,61,41,57,63,59,51,59,42,55,63,62,56,53,68,53,60,62,59,51,61,57,56,58,69,67,58,65,63,55,57,65,54,72,75,49,51,60,64,58,61,67,62,65,63,69,51,62,55,75,40,67,58,60,63,35,62,43,63,68,65,48,63,64,61,50,59,55,45,65,61,49,72,50,64,55,63,59,56,62,74,54,57,62,76,54,70,61,48,48,61,66,68,55,62,71,74,53,58,75,56,58,64,54,54,59,55,57,61,41,71,38,55,56,69,64,72,69,56,62,67,57,69,51,48,69,69,64,57,53,37,67,74,63,58,61,64,58,60,57,55,55,56,57,61,61,74,68,51,62,53,62,46,54,62,55,58,62,70,67,57,64,74,65,56,59,60,63,59,53,44,61,57,71,46,53,64,40,67,48,43,47,54,48,46,51,58,71,57,66,37,59,50,48,61,59,42,48,40,62,44,46,59,58,49,44,66,65,42,52,65,63,45,41,61,60,59,62,57,51,44,60,63,57,51,58,44,47,61,57,70,76,67,45,45,39,42,56,58,35,58,41,57,42,62,59,41,50,59,61,54,54,52,47,66,58,64,50,44,67,49,57,63,48,51,60,59,45,55,41,60,54,42,49,46,56,66,56,49,54,57,65,54,54,62,52,52,60,63,66,42,64,54,46,67,56,34,57,64,59,50,51,54,53,52,40,58,41,41,50,54,64,51,46,55,45,56,66,38,62,55,58,43,64,50,53,45,65,69,69,67,68,34,62,51,46,67,50,42,56,41,42,53,43,56,52,62,70,54,70,54,35,48,55,58,54,69,77,68,58,60,51,55,52,60,58,64,37,59,51,43,58,29,41,63,51,54,44,54,65,57,63,35,41,62,43,58,52,61,39,45,52,62,62,53,43,47,52,68,39,53,62,51,60,65,65,60,60,54,44,44,51,59,71,61,55,64,43,58,60,58,49,48,52,44,56,57,67,53,52,43,52,59,64,66,39,57,58,57,47,55,35,61,58,58,58,56,56,67,55,44,63,63,41,59,57,45,68,57,57,38],\"y0\":\" \",\"yaxis\":\"y\",\"type\":\"box\"}],                        {\"template\":{\"data\":{\"bar\":[{\"error_x\":{\"color\":\"#2a3f5f\"},\"error_y\":{\"color\":\"#2a3f5f\"},\"marker\":{\"line\":{\"color\":\"#E5ECF6\",\"width\":0.5},\"pattern\":{\"fillmode\":\"overlay\",\"size\":10,\"solidity\":0.2}},\"type\":\"bar\"}],\"barpolar\":[{\"marker\":{\"line\":{\"color\":\"#E5ECF6\",\"width\":0.5},\"pattern\":{\"fillmode\":\"overlay\",\"size\":10,\"solidity\":0.2}},\"type\":\"barpolar\"}],\"carpet\":[{\"aaxis\":{\"endlinecolor\":\"#2a3f5f\",\"gridcolor\":\"white\",\"linecolor\":\"white\",\"minorgridcolor\":\"white\",\"startlinecolor\":\"#2a3f5f\"},\"baxis\":{\"endlinecolor\":\"#2a3f5f\",\"gridcolor\":\"white\",\"linecolor\":\"white\",\"minorgridcolor\":\"white\",\"startlinecolor\":\"#2a3f5f\"},\"type\":\"carpet\"}],\"choropleth\":[{\"colorbar\":{\"outlinewidth\":0,\"ticks\":\"\"},\"type\":\"choropleth\"}],\"contour\":[{\"colorbar\":{\"outlinewidth\":0,\"ticks\":\"\"},\"colorscale\":[[0.0,\"#0d0887\"],[0.1111111111111111,\"#46039f\"],[0.2222222222222222,\"#7201a8\"],[0.3333333333333333,\"#9c179e\"],[0.4444444444444444,\"#bd3786\"],[0.5555555555555556,\"#d8576b\"],[0.6666666666666666,\"#ed7953\"],[0.7777777777777778,\"#fb9f3a\"],[0.8888888888888888,\"#fdca26\"],[1.0,\"#f0f921\"]],\"type\":\"contour\"}],\"contourcarpet\":[{\"colorbar\":{\"outlinewidth\":0,\"ticks\":\"\"},\"type\":\"contourcarpet\"}],\"heatmap\":[{\"colorbar\":{\"outlinewidth\":0,\"ticks\":\"\"},\"colorscale\":[[0.0,\"#0d0887\"],[0.1111111111111111,\"#46039f\"],[0.2222222222222222,\"#7201a8\"],[0.3333333333333333,\"#9c179e\"],[0.4444444444444444,\"#bd3786\"],[0.5555555555555556,\"#d8576b\"],[0.6666666666666666,\"#ed7953\"],[0.7777777777777778,\"#fb9f3a\"],[0.8888888888888888,\"#fdca26\"],[1.0,\"#f0f921\"]],\"type\":\"heatmap\"}],\"heatmapgl\":[{\"colorbar\":{\"outlinewidth\":0,\"ticks\":\"\"},\"colorscale\":[[0.0,\"#0d0887\"],[0.1111111111111111,\"#46039f\"],[0.2222222222222222,\"#7201a8\"],[0.3333333333333333,\"#9c179e\"],[0.4444444444444444,\"#bd3786\"],[0.5555555555555556,\"#d8576b\"],[0.6666666666666666,\"#ed7953\"],[0.7777777777777778,\"#fb9f3a\"],[0.8888888888888888,\"#fdca26\"],[1.0,\"#f0f921\"]],\"type\":\"heatmapgl\"}],\"histogram\":[{\"marker\":{\"pattern\":{\"fillmode\":\"overlay\",\"size\":10,\"solidity\":0.2}},\"type\":\"histogram\"}],\"histogram2d\":[{\"colorbar\":{\"outlinewidth\":0,\"ticks\":\"\"},\"colorscale\":[[0.0,\"#0d0887\"],[0.1111111111111111,\"#46039f\"],[0.2222222222222222,\"#7201a8\"],[0.3333333333333333,\"#9c179e\"],[0.4444444444444444,\"#bd3786\"],[0.5555555555555556,\"#d8576b\"],[0.6666666666666666,\"#ed7953\"],[0.7777777777777778,\"#fb9f3a\"],[0.8888888888888888,\"#fdca26\"],[1.0,\"#f0f921\"]],\"type\":\"histogram2d\"}],\"histogram2dcontour\":[{\"colorbar\":{\"outlinewidth\":0,\"ticks\":\"\"},\"colorscale\":[[0.0,\"#0d0887\"],[0.1111111111111111,\"#46039f\"],[0.2222222222222222,\"#7201a8\"],[0.3333333333333333,\"#9c179e\"],[0.4444444444444444,\"#bd3786\"],[0.5555555555555556,\"#d8576b\"],[0.6666666666666666,\"#ed7953\"],[0.7777777777777778,\"#fb9f3a\"],[0.8888888888888888,\"#fdca26\"],[1.0,\"#f0f921\"]],\"type\":\"histogram2dcontour\"}],\"mesh3d\":[{\"colorbar\":{\"outlinewidth\":0,\"ticks\":\"\"},\"type\":\"mesh3d\"}],\"parcoords\":[{\"line\":{\"colorbar\":{\"outlinewidth\":0,\"ticks\":\"\"}},\"type\":\"parcoords\"}],\"pie\":[{\"automargin\":true,\"type\":\"pie\"}],\"scatter\":[{\"marker\":{\"colorbar\":{\"outlinewidth\":0,\"ticks\":\"\"}},\"type\":\"scatter\"}],\"scatter3d\":[{\"line\":{\"colorbar\":{\"outlinewidth\":0,\"ticks\":\"\"}},\"marker\":{\"colorbar\":{\"outlinewidth\":0,\"ticks\":\"\"}},\"type\":\"scatter3d\"}],\"scattercarpet\":[{\"marker\":{\"colorbar\":{\"outlinewidth\":0,\"ticks\":\"\"}},\"type\":\"scattercarpet\"}],\"scattergeo\":[{\"marker\":{\"colorbar\":{\"outlinewidth\":0,\"ticks\":\"\"}},\"type\":\"scattergeo\"}],\"scattergl\":[{\"marker\":{\"colorbar\":{\"outlinewidth\":0,\"ticks\":\"\"}},\"type\":\"scattergl\"}],\"scattermapbox\":[{\"marker\":{\"colorbar\":{\"outlinewidth\":0,\"ticks\":\"\"}},\"type\":\"scattermapbox\"}],\"scatterpolar\":[{\"marker\":{\"colorbar\":{\"outlinewidth\":0,\"ticks\":\"\"}},\"type\":\"scatterpolar\"}],\"scatterpolargl\":[{\"marker\":{\"colorbar\":{\"outlinewidth\":0,\"ticks\":\"\"}},\"type\":\"scatterpolargl\"}],\"scatterternary\":[{\"marker\":{\"colorbar\":{\"outlinewidth\":0,\"ticks\":\"\"}},\"type\":\"scatterternary\"}],\"surface\":[{\"colorbar\":{\"outlinewidth\":0,\"ticks\":\"\"},\"colorscale\":[[0.0,\"#0d0887\"],[0.1111111111111111,\"#46039f\"],[0.2222222222222222,\"#7201a8\"],[0.3333333333333333,\"#9c179e\"],[0.4444444444444444,\"#bd3786\"],[0.5555555555555556,\"#d8576b\"],[0.6666666666666666,\"#ed7953\"],[0.7777777777777778,\"#fb9f3a\"],[0.8888888888888888,\"#fdca26\"],[1.0,\"#f0f921\"]],\"type\":\"surface\"}],\"table\":[{\"cells\":{\"fill\":{\"color\":\"#EBF0F8\"},\"line\":{\"color\":\"white\"}},\"header\":{\"fill\":{\"color\":\"#C8D4E3\"},\"line\":{\"color\":\"white\"}},\"type\":\"table\"}]},\"layout\":{\"annotationdefaults\":{\"arrowcolor\":\"#2a3f5f\",\"arrowhead\":0,\"arrowwidth\":1},\"autotypenumbers\":\"strict\",\"coloraxis\":{\"colorbar\":{\"outlinewidth\":0,\"ticks\":\"\"}},\"colorscale\":{\"diverging\":[[0,\"#8e0152\"],[0.1,\"#c51b7d\"],[0.2,\"#de77ae\"],[0.3,\"#f1b6da\"],[0.4,\"#fde0ef\"],[0.5,\"#f7f7f7\"],[0.6,\"#e6f5d0\"],[0.7,\"#b8e186\"],[0.8,\"#7fbc41\"],[0.9,\"#4d9221\"],[1,\"#276419\"]],\"sequential\":[[0.0,\"#0d0887\"],[0.1111111111111111,\"#46039f\"],[0.2222222222222222,\"#7201a8\"],[0.3333333333333333,\"#9c179e\"],[0.4444444444444444,\"#bd3786\"],[0.5555555555555556,\"#d8576b\"],[0.6666666666666666,\"#ed7953\"],[0.7777777777777778,\"#fb9f3a\"],[0.8888888888888888,\"#fdca26\"],[1.0,\"#f0f921\"]],\"sequentialminus\":[[0.0,\"#0d0887\"],[0.1111111111111111,\"#46039f\"],[0.2222222222222222,\"#7201a8\"],[0.3333333333333333,\"#9c179e\"],[0.4444444444444444,\"#bd3786\"],[0.5555555555555556,\"#d8576b\"],[0.6666666666666666,\"#ed7953\"],[0.7777777777777778,\"#fb9f3a\"],[0.8888888888888888,\"#fdca26\"],[1.0,\"#f0f921\"]]},\"colorway\":[\"#636efa\",\"#EF553B\",\"#00cc96\",\"#ab63fa\",\"#FFA15A\",\"#19d3f3\",\"#FF6692\",\"#B6E880\",\"#FF97FF\",\"#FECB52\"],\"font\":{\"color\":\"#2a3f5f\"},\"geo\":{\"bgcolor\":\"white\",\"lakecolor\":\"white\",\"landcolor\":\"#E5ECF6\",\"showlakes\":true,\"showland\":true,\"subunitcolor\":\"white\"},\"hoverlabel\":{\"align\":\"left\"},\"hovermode\":\"closest\",\"mapbox\":{\"style\":\"light\"},\"paper_bgcolor\":\"white\",\"plot_bgcolor\":\"#E5ECF6\",\"polar\":{\"angularaxis\":{\"gridcolor\":\"white\",\"linecolor\":\"white\",\"ticks\":\"\"},\"bgcolor\":\"#E5ECF6\",\"radialaxis\":{\"gridcolor\":\"white\",\"linecolor\":\"white\",\"ticks\":\"\"}},\"scene\":{\"xaxis\":{\"backgroundcolor\":\"#E5ECF6\",\"gridcolor\":\"white\",\"gridwidth\":2,\"linecolor\":\"white\",\"showbackground\":true,\"ticks\":\"\",\"zerolinecolor\":\"white\"},\"yaxis\":{\"backgroundcolor\":\"#E5ECF6\",\"gridcolor\":\"white\",\"gridwidth\":2,\"linecolor\":\"white\",\"showbackground\":true,\"ticks\":\"\",\"zerolinecolor\":\"white\"},\"zaxis\":{\"backgroundcolor\":\"#E5ECF6\",\"gridcolor\":\"white\",\"gridwidth\":2,\"linecolor\":\"white\",\"showbackground\":true,\"ticks\":\"\",\"zerolinecolor\":\"white\"}},\"shapedefaults\":{\"line\":{\"color\":\"#2a3f5f\"}},\"ternary\":{\"aaxis\":{\"gridcolor\":\"white\",\"linecolor\":\"white\",\"ticks\":\"\"},\"baxis\":{\"gridcolor\":\"white\",\"linecolor\":\"white\",\"ticks\":\"\"},\"bgcolor\":\"#E5ECF6\",\"caxis\":{\"gridcolor\":\"white\",\"linecolor\":\"white\",\"ticks\":\"\"}},\"title\":{\"x\":0.05},\"xaxis\":{\"automargin\":true,\"gridcolor\":\"white\",\"linecolor\":\"white\",\"ticks\":\"\",\"title\":{\"standoff\":15},\"zerolinecolor\":\"white\",\"zerolinewidth\":2},\"yaxis\":{\"automargin\":true,\"gridcolor\":\"white\",\"linecolor\":\"white\",\"ticks\":\"\",\"title\":{\"standoff\":15},\"zerolinecolor\":\"white\",\"zerolinewidth\":2}}},\"xaxis\":{\"anchor\":\"y\",\"domain\":[0.0,1.0]},\"yaxis\":{\"anchor\":\"x\",\"domain\":[0.0,1.0],\"title\":{\"text\":\"Age\"}},\"legend\":{\"tracegroupgap\":0},\"margin\":{\"t\":60},\"boxmode\":\"group\"},                        {\"responsive\": true}                    ).then(function(){\n",
              "                            \n",
              "var gd = document.getElementById('d2c66866-e5f6-42d1-a256-7a3b459a67fa');\n",
              "var x = new MutationObserver(function (mutations, observer) {{\n",
              "        var display = window.getComputedStyle(gd).display;\n",
              "        if (!display || display === 'none') {{\n",
              "            console.log([gd, 'removed!']);\n",
              "            Plotly.purge(gd);\n",
              "            observer.disconnect();\n",
              "        }}\n",
              "}});\n",
              "\n",
              "// Listen for the removal of the full notebook cells\n",
              "var notebookContainer = gd.closest('#notebook-container');\n",
              "if (notebookContainer) {{\n",
              "    x.observe(notebookContainer, {childList: true});\n",
              "}}\n",
              "\n",
              "// Listen for the clearing of the current output cell\n",
              "var outputEl = gd.closest('.output');\n",
              "if (outputEl) {{\n",
              "    x.observe(outputEl, {childList: true});\n",
              "}}\n",
              "\n",
              "                        })                };                            </script>        </div>\n",
              "</body>\n",
              "</html>"
            ]
          },
          "metadata": {}
        }
      ]
    },
    {
      "cell_type": "code",
      "source": [
        "# Pressão sanguinia em repouso\n",
        "px.box ( dados2, y = \"RestingECG\")"
      ],
      "metadata": {
        "colab": {
          "base_uri": "https://localhost:8080/",
          "height": 0
        },
        "id": "frosuSDsa1hP",
        "outputId": "fd607def-6661-4b01-af90-9a9477b41562"
      },
      "execution_count": 34,
      "outputs": [
        {
          "output_type": "display_data",
          "data": {
            "text/html": [
              "<html>\n",
              "<head><meta charset=\"utf-8\" /></head>\n",
              "<body>\n",
              "    <div>            <script src=\"https://cdnjs.cloudflare.com/ajax/libs/mathjax/2.7.5/MathJax.js?config=TeX-AMS-MML_SVG\"></script><script type=\"text/javascript\">if (window.MathJax) {MathJax.Hub.Config({SVG: {font: \"STIX-Web\"}});}</script>                <script type=\"text/javascript\">window.PlotlyConfig = {MathJaxConfig: 'local'};</script>\n",
              "        <script src=\"https://cdn.plot.ly/plotly-2.8.3.min.js\"></script>                <div id=\"3829d998-8fb0-4505-a565-01f3e23b8f03\" class=\"plotly-graph-div\" style=\"height:525px; width:100%;\"></div>            <script type=\"text/javascript\">                                    window.PLOTLYENV=window.PLOTLYENV || {};                                    if (document.getElementById(\"3829d998-8fb0-4505-a565-01f3e23b8f03\")) {                    Plotly.newPlot(                        \"3829d998-8fb0-4505-a565-01f3e23b8f03\",                        [{\"alignmentgroup\":\"True\",\"hovertemplate\":\"RestingECG=%{y}<extra></extra>\",\"legendgroup\":\"\",\"marker\":{\"color\":\"#636efa\"},\"name\":\"\",\"notched\":false,\"offsetgroup\":\"\",\"orientation\":\"v\",\"showlegend\":false,\"x0\":\" \",\"xaxis\":\"x\",\"y\":[\"Normal\",\"Normal\",\"ST\",\"Normal\",\"Normal\",\"Normal\",\"Normal\",\"Normal\",\"Normal\",\"Normal\",\"Normal\",\"ST\",\"Normal\",\"Normal\",\"ST\",\"Normal\",\"Normal\",\"Normal\",\"Normal\",\"Normal\",\"Normal\",\"Normal\",\"Normal\",\"Normal\",\"Normal\",\"Normal\",\"ST\",\"Normal\",\"Normal\",\"Normal\",\"Normal\",\"Normal\",\"Normal\",\"ST\",\"Normal\",\"Normal\",\"Normal\",\"ST\",\"ST\",\"Normal\",\"Normal\",\"ST\",\"Normal\",\"ST\",\"Normal\",\"Normal\",\"Normal\",\"Normal\",\"Normal\",\"Normal\",\"Normal\",\"Normal\",\"Normal\",\"Normal\",\"Normal\",\"Normal\",\"Normal\",\"ST\",\"ST\",\"ST\",\"Normal\",\"Normal\",\"Normal\",\"Normal\",\"Normal\",\"Normal\",\"Normal\",\"Normal\",\"ST\",\"Normal\",\"ST\",\"Normal\",\"Normal\",\"ST\",\"Normal\",\"Normal\",\"Normal\",\"Normal\",\"Normal\",\"Normal\",\"Normal\",\"Normal\",\"Normal\",\"Normal\",\"Normal\",\"Normal\",\"Normal\",\"Normal\",\"ST\",\"Normal\",\"Normal\",\"Normal\",\"Normal\",\"Normal\",\"ST\",\"Normal\",\"Normal\",\"Normal\",\"Normal\",\"Normal\",\"ST\",\"Normal\",\"Normal\",\"Normal\",\"Normal\",\"Normal\",\"ST\",\"ST\",\"Normal\",\"Normal\",\"Normal\",\"Normal\",\"Normal\",\"Normal\",\"ST\",\"Normal\",\"Normal\",\"ST\",\"ST\",\"Normal\",\"Normal\",\"Normal\",\"ST\",\"Normal\",\"Normal\",\"Normal\",\"Normal\",\"Normal\",\"Normal\",\"Normal\",\"Normal\",\"Normal\",\"ST\",\"ST\",\"ST\",\"Normal\",\"ST\",\"ST\",\"Normal\",\"Normal\",\"Normal\",\"ST\",\"ST\",\"Normal\",\"Normal\",\"Normal\",\"Normal\",\"ST\",\"Normal\",\"Normal\",\"Normal\",\"Normal\",\"Normal\",\"Normal\",\"ST\",\"Normal\",\"Normal\",\"Normal\",\"Normal\",\"ST\",\"LVH\",\"Normal\",\"Normal\",\"Normal\",\"Normal\",\"Normal\",\"ST\",\"Normal\",\"Normal\",\"Normal\",\"Normal\",\"Normal\",\"Normal\",\"Normal\",\"Normal\",\"Normal\",\"Normal\",\"Normal\",\"Normal\",\"Normal\",\"Normal\",\"Normal\",\"Normal\",\"ST\",\"Normal\",\"ST\",\"Normal\",\"Normal\",\"Normal\",\"ST\",\"ST\",\"ST\",\"Normal\",\"Normal\",\"Normal\",\"Normal\",\"Normal\",\"Normal\",\"Normal\",\"Normal\",\"Normal\",\"Normal\",\"Normal\",\"ST\",\"Normal\",\"Normal\",\"LVH\",\"Normal\",\"LVH\",\"Normal\",\"Normal\",\"Normal\",\"Normal\",\"ST\",\"Normal\",\"ST\",\"Normal\",\"Normal\",\"Normal\",\"Normal\",\"Normal\",\"Normal\",\"Normal\",\"Normal\",\"Normal\",\"Normal\",\"Normal\",\"Normal\",\"Normal\",\"ST\",\"Normal\",\"Normal\",\"Normal\",\"Normal\",\"ST\",\"Normal\",\"Normal\",\"Normal\",\"Normal\",\"Normal\",\"Normal\",\"Normal\",\"Normal\",\"Normal\",\"Normal\",\"Normal\",\"Normal\",\"ST\",\"ST\",\"Normal\",\"Normal\",\"Normal\",\"ST\",\"Normal\",\"Normal\",\"Normal\",\"LVH\",\"Normal\",\"Normal\",\"Normal\",\"Normal\",\"Normal\",\"Normal\",\"Normal\",\"Normal\",\"Normal\",\"Normal\",\"Normal\",\"Normal\",\"Normal\",\"Normal\",\"Normal\",\"Normal\",\"LVH\",\"Normal\",\"Normal\",\"Normal\",\"Normal\",\"ST\",\"ST\",\"LVH\",\"Normal\",\"Normal\",\"ST\",\"Normal\",\"Normal\",\"Normal\",\"Normal\",\"ST\",\"Normal\",\"Normal\",\"Normal\",\"Normal\",\"Normal\",\"Normal\",\"Normal\",\"Normal\",\"ST\",\"Normal\",\"ST\",\"Normal\",\"ST\",\"Normal\",\"ST\",\"Normal\",\"Normal\",\"Normal\",\"ST\",\"Normal\",\"Normal\",\"Normal\",\"Normal\",\"Normal\",\"Normal\",\"Normal\",\"ST\",\"Normal\",\"Normal\",\"Normal\",\"Normal\",\"Normal\",\"Normal\",\"Normal\",\"Normal\",\"ST\",\"Normal\",\"Normal\",\"Normal\",\"Normal\",\"ST\",\"Normal\",\"ST\",\"Normal\",\"ST\",\"Normal\",\"LVH\",\"LVH\",\"ST\",\"LVH\",\"Normal\",\"Normal\",\"Normal\",\"Normal\",\"Normal\",\"Normal\",\"Normal\",\"Normal\",\"Normal\",\"ST\",\"Normal\",\"Normal\",\"ST\",\"ST\",\"ST\",\"ST\",\"LVH\",\"Normal\",\"Normal\",\"Normal\",\"Normal\",\"Normal\",\"Normal\",\"ST\",\"ST\",\"Normal\",\"Normal\",\"Normal\",\"ST\",\"Normal\",\"Normal\",\"Normal\",\"Normal\",\"Normal\",\"Normal\",\"Normal\",\"ST\",\"Normal\",\"ST\",\"Normal\",\"ST\",\"ST\",\"Normal\",\"Normal\",\"Normal\",\"Normal\",\"Normal\",\"Normal\",\"LVH\",\"Normal\",\"ST\",\"Normal\",\"ST\",\"LVH\",\"Normal\",\"Normal\",\"Normal\",\"Normal\",\"ST\",\"Normal\",\"ST\",\"Normal\",\"ST\",\"ST\",\"Normal\",\"Normal\",\"Normal\",\"Normal\",\"Normal\",\"Normal\",\"LVH\",\"ST\",\"Normal\",\"Normal\",\"Normal\",\"Normal\",\"Normal\",\"ST\",\"ST\",\"ST\",\"ST\",\"LVH\",\"ST\",\"ST\",\"ST\",\"Normal\",\"ST\",\"ST\",\"ST\",\"Normal\",\"LVH\",\"ST\",\"ST\",\"Normal\",\"Normal\",\"ST\",\"ST\",\"Normal\",\"ST\",\"ST\",\"Normal\",\"ST\",\"ST\",\"ST\",\"ST\",\"Normal\",\"ST\",\"ST\",\"ST\",\"Normal\",\"Normal\",\"ST\",\"ST\",\"Normal\",\"Normal\",\"ST\",\"Normal\",\"Normal\",\"ST\",\"ST\",\"ST\",\"Normal\",\"Normal\",\"Normal\",\"Normal\",\"Normal\",\"ST\",\"Normal\",\"ST\",\"Normal\",\"Normal\",\"Normal\",\"ST\",\"ST\",\"Normal\",\"LVH\",\"LVH\",\"Normal\",\"ST\",\"LVH\",\"Normal\",\"ST\",\"Normal\",\"LVH\",\"Normal\",\"ST\",\"ST\",\"ST\",\"Normal\",\"Normal\",\"Normal\",\"ST\",\"ST\",\"Normal\",\"Normal\",\"Normal\",\"Normal\",\"Normal\",\"ST\",\"Normal\",\"Normal\",\"Normal\",\"ST\",\"ST\",\"Normal\",\"ST\",\"Normal\",\"Normal\",\"Normal\",\"Normal\",\"Normal\",\"ST\",\"ST\",\"ST\",\"Normal\",\"ST\",\"Normal\",\"Normal\",\"ST\",\"ST\",\"ST\",\"ST\",\"LVH\",\"Normal\",\"ST\",\"Normal\",\"LVH\",\"Normal\",\"Normal\",\"Normal\",\"Normal\",\"ST\",\"ST\",\"ST\",\"Normal\",\"LVH\",\"ST\",\"ST\",\"Normal\",\"LVH\",\"ST\",\"LVH\",\"Normal\",\"ST\",\"Normal\",\"ST\",\"ST\",\"ST\",\"Normal\",\"ST\",\"Normal\",\"LVH\",\"Normal\",\"Normal\",\"ST\",\"ST\",\"Normal\",\"ST\",\"ST\",\"Normal\",\"ST\",\"ST\",\"Normal\",\"ST\",\"ST\",\"ST\",\"Normal\",\"ST\",\"Normal\",\"Normal\",\"ST\",\"Normal\",\"ST\",\"LVH\",\"ST\",\"Normal\",\"ST\",\"Normal\",\"LVH\",\"ST\",\"LVH\",\"Normal\",\"LVH\",\"LVH\",\"ST\",\"ST\",\"Normal\",\"LVH\",\"ST\",\"Normal\",\"ST\",\"ST\",\"LVH\",\"LVH\",\"LVH\",\"LVH\",\"LVH\",\"ST\",\"LVH\",\"Normal\",\"ST\",\"Normal\",\"Normal\",\"Normal\",\"Normal\",\"LVH\",\"ST\",\"ST\",\"ST\",\"Normal\",\"ST\",\"ST\",\"ST\",\"LVH\",\"LVH\",\"LVH\",\"LVH\",\"Normal\",\"Normal\",\"LVH\",\"Normal\",\"LVH\",\"LVH\",\"LVH\",\"LVH\",\"Normal\",\"LVH\",\"LVH\",\"Normal\",\"LVH\",\"Normal\",\"Normal\",\"LVH\",\"LVH\",\"Normal\",\"LVH\",\"LVH\",\"Normal\",\"Normal\",\"LVH\",\"Normal\",\"LVH\",\"LVH\",\"LVH\",\"LVH\",\"LVH\",\"LVH\",\"Normal\",\"LVH\",\"LVH\",\"LVH\",\"LVH\",\"LVH\",\"Normal\",\"LVH\",\"Normal\",\"Normal\",\"Normal\",\"Normal\",\"Normal\",\"LVH\",\"LVH\",\"LVH\",\"Normal\",\"LVH\",\"Normal\",\"Normal\",\"LVH\",\"Normal\",\"LVH\",\"Normal\",\"LVH\",\"Normal\",\"Normal\",\"LVH\",\"Normal\",\"Normal\",\"Normal\",\"Normal\",\"LVH\",\"LVH\",\"LVH\",\"LVH\",\"Normal\",\"Normal\",\"Normal\",\"Normal\",\"LVH\",\"ST\",\"Normal\",\"LVH\",\"LVH\",\"Normal\",\"Normal\",\"Normal\",\"Normal\",\"Normal\",\"LVH\",\"LVH\",\"Normal\",\"LVH\",\"LVH\",\"LVH\",\"Normal\",\"LVH\",\"Normal\",\"LVH\",\"LVH\",\"LVH\",\"Normal\",\"LVH\",\"LVH\",\"Normal\",\"Normal\",\"Normal\",\"Normal\",\"Normal\",\"Normal\",\"LVH\",\"LVH\",\"LVH\",\"Normal\",\"LVH\",\"Normal\",\"Normal\",\"ST\",\"Normal\",\"LVH\",\"Normal\",\"Normal\",\"Normal\",\"LVH\",\"LVH\",\"Normal\",\"LVH\",\"Normal\",\"LVH\",\"Normal\",\"LVH\",\"LVH\",\"Normal\",\"Normal\",\"LVH\",\"Normal\",\"Normal\",\"Normal\",\"LVH\",\"Normal\",\"LVH\",\"LVH\",\"LVH\",\"Normal\",\"LVH\",\"Normal\",\"Normal\",\"LVH\",\"LVH\",\"Normal\",\"LVH\",\"LVH\",\"Normal\",\"Normal\",\"LVH\",\"LVH\",\"LVH\",\"Normal\",\"Normal\",\"LVH\",\"Normal\",\"LVH\",\"Normal\",\"Normal\",\"LVH\",\"LVH\",\"Normal\",\"Normal\",\"Normal\",\"Normal\",\"LVH\",\"Normal\",\"Normal\",\"LVH\",\"LVH\",\"LVH\",\"LVH\",\"LVH\",\"LVH\",\"LVH\",\"LVH\",\"LVH\",\"Normal\",\"Normal\",\"Normal\",\"Normal\",\"Normal\",\"Normal\",\"LVH\",\"LVH\",\"LVH\",\"LVH\",\"Normal\",\"LVH\",\"Normal\",\"LVH\",\"Normal\",\"Normal\",\"Normal\",\"Normal\",\"LVH\",\"Normal\",\"LVH\",\"LVH\",\"Normal\",\"Normal\",\"LVH\",\"Normal\",\"LVH\",\"LVH\",\"Normal\",\"LVH\",\"Normal\",\"Normal\",\"LVH\",\"Normal\",\"Normal\",\"LVH\",\"LVH\",\"Normal\",\"LVH\",\"LVH\",\"LVH\",\"LVH\",\"Normal\",\"LVH\",\"Normal\",\"Normal\",\"LVH\",\"Normal\",\"LVH\",\"Normal\",\"Normal\",\"Normal\",\"LVH\",\"LVH\",\"LVH\",\"LVH\",\"Normal\",\"LVH\",\"Normal\",\"Normal\",\"LVH\",\"LVH\",\"LVH\",\"LVH\",\"Normal\",\"LVH\",\"LVH\",\"LVH\",\"LVH\",\"LVH\",\"Normal\",\"LVH\",\"Normal\",\"LVH\",\"LVH\",\"Normal\",\"LVH\",\"LVH\",\"Normal\",\"Normal\",\"Normal\",\"Normal\",\"Normal\",\"Normal\",\"Normal\",\"Normal\",\"LVH\",\"LVH\",\"Normal\",\"Normal\",\"Normal\",\"Normal\",\"LVH\",\"Normal\",\"LVH\",\"LVH\",\"Normal\",\"LVH\",\"Normal\",\"Normal\",\"LVH\",\"LVH\",\"Normal\",\"LVH\",\"Normal\",\"Normal\",\"Normal\",\"ST\",\"Normal\",\"Normal\",\"ST\",\"LVH\",\"Normal\",\"LVH\",\"Normal\",\"LVH\",\"Normal\",\"Normal\",\"LVH\",\"Normal\",\"Normal\",\"LVH\",\"Normal\",\"Normal\",\"Normal\",\"Normal\",\"LVH\",\"Normal\"],\"y0\":\" \",\"yaxis\":\"y\",\"type\":\"box\"}],                        {\"template\":{\"data\":{\"bar\":[{\"error_x\":{\"color\":\"#2a3f5f\"},\"error_y\":{\"color\":\"#2a3f5f\"},\"marker\":{\"line\":{\"color\":\"#E5ECF6\",\"width\":0.5},\"pattern\":{\"fillmode\":\"overlay\",\"size\":10,\"solidity\":0.2}},\"type\":\"bar\"}],\"barpolar\":[{\"marker\":{\"line\":{\"color\":\"#E5ECF6\",\"width\":0.5},\"pattern\":{\"fillmode\":\"overlay\",\"size\":10,\"solidity\":0.2}},\"type\":\"barpolar\"}],\"carpet\":[{\"aaxis\":{\"endlinecolor\":\"#2a3f5f\",\"gridcolor\":\"white\",\"linecolor\":\"white\",\"minorgridcolor\":\"white\",\"startlinecolor\":\"#2a3f5f\"},\"baxis\":{\"endlinecolor\":\"#2a3f5f\",\"gridcolor\":\"white\",\"linecolor\":\"white\",\"minorgridcolor\":\"white\",\"startlinecolor\":\"#2a3f5f\"},\"type\":\"carpet\"}],\"choropleth\":[{\"colorbar\":{\"outlinewidth\":0,\"ticks\":\"\"},\"type\":\"choropleth\"}],\"contour\":[{\"colorbar\":{\"outlinewidth\":0,\"ticks\":\"\"},\"colorscale\":[[0.0,\"#0d0887\"],[0.1111111111111111,\"#46039f\"],[0.2222222222222222,\"#7201a8\"],[0.3333333333333333,\"#9c179e\"],[0.4444444444444444,\"#bd3786\"],[0.5555555555555556,\"#d8576b\"],[0.6666666666666666,\"#ed7953\"],[0.7777777777777778,\"#fb9f3a\"],[0.8888888888888888,\"#fdca26\"],[1.0,\"#f0f921\"]],\"type\":\"contour\"}],\"contourcarpet\":[{\"colorbar\":{\"outlinewidth\":0,\"ticks\":\"\"},\"type\":\"contourcarpet\"}],\"heatmap\":[{\"colorbar\":{\"outlinewidth\":0,\"ticks\":\"\"},\"colorscale\":[[0.0,\"#0d0887\"],[0.1111111111111111,\"#46039f\"],[0.2222222222222222,\"#7201a8\"],[0.3333333333333333,\"#9c179e\"],[0.4444444444444444,\"#bd3786\"],[0.5555555555555556,\"#d8576b\"],[0.6666666666666666,\"#ed7953\"],[0.7777777777777778,\"#fb9f3a\"],[0.8888888888888888,\"#fdca26\"],[1.0,\"#f0f921\"]],\"type\":\"heatmap\"}],\"heatmapgl\":[{\"colorbar\":{\"outlinewidth\":0,\"ticks\":\"\"},\"colorscale\":[[0.0,\"#0d0887\"],[0.1111111111111111,\"#46039f\"],[0.2222222222222222,\"#7201a8\"],[0.3333333333333333,\"#9c179e\"],[0.4444444444444444,\"#bd3786\"],[0.5555555555555556,\"#d8576b\"],[0.6666666666666666,\"#ed7953\"],[0.7777777777777778,\"#fb9f3a\"],[0.8888888888888888,\"#fdca26\"],[1.0,\"#f0f921\"]],\"type\":\"heatmapgl\"}],\"histogram\":[{\"marker\":{\"pattern\":{\"fillmode\":\"overlay\",\"size\":10,\"solidity\":0.2}},\"type\":\"histogram\"}],\"histogram2d\":[{\"colorbar\":{\"outlinewidth\":0,\"ticks\":\"\"},\"colorscale\":[[0.0,\"#0d0887\"],[0.1111111111111111,\"#46039f\"],[0.2222222222222222,\"#7201a8\"],[0.3333333333333333,\"#9c179e\"],[0.4444444444444444,\"#bd3786\"],[0.5555555555555556,\"#d8576b\"],[0.6666666666666666,\"#ed7953\"],[0.7777777777777778,\"#fb9f3a\"],[0.8888888888888888,\"#fdca26\"],[1.0,\"#f0f921\"]],\"type\":\"histogram2d\"}],\"histogram2dcontour\":[{\"colorbar\":{\"outlinewidth\":0,\"ticks\":\"\"},\"colorscale\":[[0.0,\"#0d0887\"],[0.1111111111111111,\"#46039f\"],[0.2222222222222222,\"#7201a8\"],[0.3333333333333333,\"#9c179e\"],[0.4444444444444444,\"#bd3786\"],[0.5555555555555556,\"#d8576b\"],[0.6666666666666666,\"#ed7953\"],[0.7777777777777778,\"#fb9f3a\"],[0.8888888888888888,\"#fdca26\"],[1.0,\"#f0f921\"]],\"type\":\"histogram2dcontour\"}],\"mesh3d\":[{\"colorbar\":{\"outlinewidth\":0,\"ticks\":\"\"},\"type\":\"mesh3d\"}],\"parcoords\":[{\"line\":{\"colorbar\":{\"outlinewidth\":0,\"ticks\":\"\"}},\"type\":\"parcoords\"}],\"pie\":[{\"automargin\":true,\"type\":\"pie\"}],\"scatter\":[{\"marker\":{\"colorbar\":{\"outlinewidth\":0,\"ticks\":\"\"}},\"type\":\"scatter\"}],\"scatter3d\":[{\"line\":{\"colorbar\":{\"outlinewidth\":0,\"ticks\":\"\"}},\"marker\":{\"colorbar\":{\"outlinewidth\":0,\"ticks\":\"\"}},\"type\":\"scatter3d\"}],\"scattercarpet\":[{\"marker\":{\"colorbar\":{\"outlinewidth\":0,\"ticks\":\"\"}},\"type\":\"scattercarpet\"}],\"scattergeo\":[{\"marker\":{\"colorbar\":{\"outlinewidth\":0,\"ticks\":\"\"}},\"type\":\"scattergeo\"}],\"scattergl\":[{\"marker\":{\"colorbar\":{\"outlinewidth\":0,\"ticks\":\"\"}},\"type\":\"scattergl\"}],\"scattermapbox\":[{\"marker\":{\"colorbar\":{\"outlinewidth\":0,\"ticks\":\"\"}},\"type\":\"scattermapbox\"}],\"scatterpolar\":[{\"marker\":{\"colorbar\":{\"outlinewidth\":0,\"ticks\":\"\"}},\"type\":\"scatterpolar\"}],\"scatterpolargl\":[{\"marker\":{\"colorbar\":{\"outlinewidth\":0,\"ticks\":\"\"}},\"type\":\"scatterpolargl\"}],\"scatterternary\":[{\"marker\":{\"colorbar\":{\"outlinewidth\":0,\"ticks\":\"\"}},\"type\":\"scatterternary\"}],\"surface\":[{\"colorbar\":{\"outlinewidth\":0,\"ticks\":\"\"},\"colorscale\":[[0.0,\"#0d0887\"],[0.1111111111111111,\"#46039f\"],[0.2222222222222222,\"#7201a8\"],[0.3333333333333333,\"#9c179e\"],[0.4444444444444444,\"#bd3786\"],[0.5555555555555556,\"#d8576b\"],[0.6666666666666666,\"#ed7953\"],[0.7777777777777778,\"#fb9f3a\"],[0.8888888888888888,\"#fdca26\"],[1.0,\"#f0f921\"]],\"type\":\"surface\"}],\"table\":[{\"cells\":{\"fill\":{\"color\":\"#EBF0F8\"},\"line\":{\"color\":\"white\"}},\"header\":{\"fill\":{\"color\":\"#C8D4E3\"},\"line\":{\"color\":\"white\"}},\"type\":\"table\"}]},\"layout\":{\"annotationdefaults\":{\"arrowcolor\":\"#2a3f5f\",\"arrowhead\":0,\"arrowwidth\":1},\"autotypenumbers\":\"strict\",\"coloraxis\":{\"colorbar\":{\"outlinewidth\":0,\"ticks\":\"\"}},\"colorscale\":{\"diverging\":[[0,\"#8e0152\"],[0.1,\"#c51b7d\"],[0.2,\"#de77ae\"],[0.3,\"#f1b6da\"],[0.4,\"#fde0ef\"],[0.5,\"#f7f7f7\"],[0.6,\"#e6f5d0\"],[0.7,\"#b8e186\"],[0.8,\"#7fbc41\"],[0.9,\"#4d9221\"],[1,\"#276419\"]],\"sequential\":[[0.0,\"#0d0887\"],[0.1111111111111111,\"#46039f\"],[0.2222222222222222,\"#7201a8\"],[0.3333333333333333,\"#9c179e\"],[0.4444444444444444,\"#bd3786\"],[0.5555555555555556,\"#d8576b\"],[0.6666666666666666,\"#ed7953\"],[0.7777777777777778,\"#fb9f3a\"],[0.8888888888888888,\"#fdca26\"],[1.0,\"#f0f921\"]],\"sequentialminus\":[[0.0,\"#0d0887\"],[0.1111111111111111,\"#46039f\"],[0.2222222222222222,\"#7201a8\"],[0.3333333333333333,\"#9c179e\"],[0.4444444444444444,\"#bd3786\"],[0.5555555555555556,\"#d8576b\"],[0.6666666666666666,\"#ed7953\"],[0.7777777777777778,\"#fb9f3a\"],[0.8888888888888888,\"#fdca26\"],[1.0,\"#f0f921\"]]},\"colorway\":[\"#636efa\",\"#EF553B\",\"#00cc96\",\"#ab63fa\",\"#FFA15A\",\"#19d3f3\",\"#FF6692\",\"#B6E880\",\"#FF97FF\",\"#FECB52\"],\"font\":{\"color\":\"#2a3f5f\"},\"geo\":{\"bgcolor\":\"white\",\"lakecolor\":\"white\",\"landcolor\":\"#E5ECF6\",\"showlakes\":true,\"showland\":true,\"subunitcolor\":\"white\"},\"hoverlabel\":{\"align\":\"left\"},\"hovermode\":\"closest\",\"mapbox\":{\"style\":\"light\"},\"paper_bgcolor\":\"white\",\"plot_bgcolor\":\"#E5ECF6\",\"polar\":{\"angularaxis\":{\"gridcolor\":\"white\",\"linecolor\":\"white\",\"ticks\":\"\"},\"bgcolor\":\"#E5ECF6\",\"radialaxis\":{\"gridcolor\":\"white\",\"linecolor\":\"white\",\"ticks\":\"\"}},\"scene\":{\"xaxis\":{\"backgroundcolor\":\"#E5ECF6\",\"gridcolor\":\"white\",\"gridwidth\":2,\"linecolor\":\"white\",\"showbackground\":true,\"ticks\":\"\",\"zerolinecolor\":\"white\"},\"yaxis\":{\"backgroundcolor\":\"#E5ECF6\",\"gridcolor\":\"white\",\"gridwidth\":2,\"linecolor\":\"white\",\"showbackground\":true,\"ticks\":\"\",\"zerolinecolor\":\"white\"},\"zaxis\":{\"backgroundcolor\":\"#E5ECF6\",\"gridcolor\":\"white\",\"gridwidth\":2,\"linecolor\":\"white\",\"showbackground\":true,\"ticks\":\"\",\"zerolinecolor\":\"white\"}},\"shapedefaults\":{\"line\":{\"color\":\"#2a3f5f\"}},\"ternary\":{\"aaxis\":{\"gridcolor\":\"white\",\"linecolor\":\"white\",\"ticks\":\"\"},\"baxis\":{\"gridcolor\":\"white\",\"linecolor\":\"white\",\"ticks\":\"\"},\"bgcolor\":\"#E5ECF6\",\"caxis\":{\"gridcolor\":\"white\",\"linecolor\":\"white\",\"ticks\":\"\"}},\"title\":{\"x\":0.05},\"xaxis\":{\"automargin\":true,\"gridcolor\":\"white\",\"linecolor\":\"white\",\"ticks\":\"\",\"title\":{\"standoff\":15},\"zerolinecolor\":\"white\",\"zerolinewidth\":2},\"yaxis\":{\"automargin\":true,\"gridcolor\":\"white\",\"linecolor\":\"white\",\"ticks\":\"\",\"title\":{\"standoff\":15},\"zerolinecolor\":\"white\",\"zerolinewidth\":2}}},\"xaxis\":{\"anchor\":\"y\",\"domain\":[0.0,1.0]},\"yaxis\":{\"anchor\":\"x\",\"domain\":[0.0,1.0],\"title\":{\"text\":\"RestingECG\"}},\"legend\":{\"tracegroupgap\":0},\"margin\":{\"t\":60},\"boxmode\":\"group\"},                        {\"responsive\": true}                    ).then(function(){\n",
              "                            \n",
              "var gd = document.getElementById('3829d998-8fb0-4505-a565-01f3e23b8f03');\n",
              "var x = new MutationObserver(function (mutations, observer) {{\n",
              "        var display = window.getComputedStyle(gd).display;\n",
              "        if (!display || display === 'none') {{\n",
              "            console.log([gd, 'removed!']);\n",
              "            Plotly.purge(gd);\n",
              "            observer.disconnect();\n",
              "        }}\n",
              "}});\n",
              "\n",
              "// Listen for the removal of the full notebook cells\n",
              "var notebookContainer = gd.closest('#notebook-container');\n",
              "if (notebookContainer) {{\n",
              "    x.observe(notebookContainer, {childList: true});\n",
              "}}\n",
              "\n",
              "// Listen for the clearing of the current output cell\n",
              "var outputEl = gd.closest('.output');\n",
              "if (outputEl) {{\n",
              "    x.observe(outputEl, {childList: true});\n",
              "}}\n",
              "\n",
              "                        })                };                            </script>        </div>\n",
              "</body>\n",
              "</html>"
            ]
          },
          "metadata": {}
        }
      ]
    },
    {
      "cell_type": "code",
      "source": [
        "# Colesterol\n",
        "px.box ( dados2, y = \"Cholesterol\")"
      ],
      "metadata": {
        "colab": {
          "base_uri": "https://localhost:8080/",
          "height": 0
        },
        "id": "t0KT0glWbCS3",
        "outputId": "5819738b-04e0-4faf-ca19-cd4fb0f64cda"
      },
      "execution_count": 35,
      "outputs": [
        {
          "output_type": "display_data",
          "data": {
            "text/html": [
              "<html>\n",
              "<head><meta charset=\"utf-8\" /></head>\n",
              "<body>\n",
              "    <div>            <script src=\"https://cdnjs.cloudflare.com/ajax/libs/mathjax/2.7.5/MathJax.js?config=TeX-AMS-MML_SVG\"></script><script type=\"text/javascript\">if (window.MathJax) {MathJax.Hub.Config({SVG: {font: \"STIX-Web\"}});}</script>                <script type=\"text/javascript\">window.PlotlyConfig = {MathJaxConfig: 'local'};</script>\n",
              "        <script src=\"https://cdn.plot.ly/plotly-2.8.3.min.js\"></script>                <div id=\"7437c0a6-ee37-4541-be80-96b0cc7537fb\" class=\"plotly-graph-div\" style=\"height:525px; width:100%;\"></div>            <script type=\"text/javascript\">                                    window.PLOTLYENV=window.PLOTLYENV || {};                                    if (document.getElementById(\"7437c0a6-ee37-4541-be80-96b0cc7537fb\")) {                    Plotly.newPlot(                        \"7437c0a6-ee37-4541-be80-96b0cc7537fb\",                        [{\"alignmentgroup\":\"True\",\"hovertemplate\":\"Cholesterol=%{y}<extra></extra>\",\"legendgroup\":\"\",\"marker\":{\"color\":\"#636efa\"},\"name\":\"\",\"notched\":false,\"offsetgroup\":\"\",\"orientation\":\"v\",\"showlegend\":false,\"x0\":\" \",\"xaxis\":\"x\",\"y\":[289.0,180.0,283.0,214.0,195.0,339.0,237.0,208.0,207.0,284.0,211.0,164.0,204.0,234.0,211.0,273.0,196.0,201.0,248.0,267.0,223.0,184.0,201.0,288.0,215.0,209.0,260.0,284.0,468.0,188.0,518.0,167.0,224.0,172.0,186.0,254.0,306.0,250.0,177.0,227.0,230.0,294.0,264.0,259.0,175.0,318.0,223.0,216.0,340.0,289.0,233.0,205.0,224.0,245.0,180.0,194.0,270.0,213.0,365.0,342.0,253.0,254.0,224.0,277.0,202.0,260.0,297.0,225.0,246.0,412.0,265.0,215.0,182.0,218.0,268.0,163.0,529.0,167.0,100.0,206.0,277.0,238.0,223.0,196.0,213.0,139.0,263.0,216.0,291.0,229.0,208.0,307.0,210.0,329.0,182.0,263.0,207.0,147.0,85.0,269.0,275.0,179.0,392.0,466.0,186.0,260.0,254.0,214.0,129.0,241.0,188.0,255.0,276.0,297.0,207.0,246.0,282.0,338.0,160.0,156.0,248.0,272.0,240.0,393.0,230.0,246.0,161.0,163.0,230.0,228.0,292.0,202.0,388.0,230.0,294.0,265.0,215.0,241.0,166.0,247.0,331.0,341.0,291.0,243.0,279.0,273.0,198.0,249.0,168.0,603.0,215.0,159.0,275.0,270.0,291.0,342.0,190.0,185.0,290.0,195.0,264.0,212.0,263.0,196.0,225.0,272.0,231.0,238.0,222.0,179.0,243.0,235.0,320.0,187.0,266.0,288.0,216.0,287.0,194.0,238.0,225.0,224.0,404.0,238.0,312.0,211.0,251.0,237.0,328.0,285.0,280.0,209.0,245.0,192.0,184.0,193.0,297.0,268.0,246.0,308.0,249.0,230.0,147.0,219.0,184.0,215.0,308.0,257.0,132.0,216.0,263.0,288.0,276.0,219.0,226.0,237.0,280.0,217.0,196.0,263.0,222.0,303.0,195.0,298.0,256.0,264.0,195.0,117.0,295.0,173.0,315.0,281.0,275.0,250.0,309.0,200.0,336.0,295.0,355.0,193.0,326.0,198.0,292.0,266.0,268.0,171.0,237.0,275.0,219.0,341.0,491.0,260.0,292.0,271.0,248.0,274.0,394.0,160.0,200.0,320.0,275.0,221.0,231.0,126.0,193.0,305.0,298.0,220.0,242.0,235.0,225.0,198.0,201.0,220.0,295.0,213.0,160.0,223.0,347.0,253.0,246.0,222.0,220.0,344.0,358.0,190.0,169.0,181.0,308.0,166.0,211.0,257.0,182.0,244.6353887399464,244.6353887399464,244.6353887399464,244.6353887399464,244.6353887399464,244.6353887399464,244.6353887399464,244.6353887399464,244.6353887399464,244.6353887399464,244.6353887399464,244.6353887399464,244.6353887399464,244.6353887399464,244.6353887399464,244.6353887399464,244.6353887399464,244.6353887399464,244.6353887399464,244.6353887399464,244.6353887399464,244.6353887399464,244.6353887399464,244.6353887399464,244.6353887399464,244.6353887399464,244.6353887399464,244.6353887399464,244.6353887399464,244.6353887399464,244.6353887399464,244.6353887399464,244.6353887399464,244.6353887399464,244.6353887399464,244.6353887399464,244.6353887399464,244.6353887399464,244.6353887399464,244.6353887399464,244.6353887399464,244.6353887399464,244.6353887399464,244.6353887399464,244.6353887399464,244.6353887399464,244.6353887399464,244.6353887399464,244.6353887399464,244.6353887399464,244.6353887399464,244.6353887399464,244.6353887399464,244.6353887399464,244.6353887399464,244.6353887399464,244.6353887399464,244.6353887399464,244.6353887399464,244.6353887399464,244.6353887399464,244.6353887399464,244.6353887399464,244.6353887399464,244.6353887399464,244.6353887399464,244.6353887399464,244.6353887399464,244.6353887399464,244.6353887399464,244.6353887399464,244.6353887399464,244.6353887399464,244.6353887399464,244.6353887399464,244.6353887399464,244.6353887399464,244.6353887399464,244.6353887399464,244.6353887399464,244.6353887399464,244.6353887399464,244.6353887399464,244.6353887399464,244.6353887399464,244.6353887399464,244.6353887399464,244.6353887399464,244.6353887399464,244.6353887399464,244.6353887399464,244.6353887399464,244.6353887399464,244.6353887399464,244.6353887399464,244.6353887399464,244.6353887399464,244.6353887399464,244.6353887399464,244.6353887399464,244.6353887399464,244.6353887399464,244.6353887399464,244.6353887399464,244.6353887399464,244.6353887399464,244.6353887399464,244.6353887399464,244.6353887399464,244.6353887399464,244.6353887399464,244.6353887399464,244.6353887399464,244.6353887399464,244.6353887399464,244.6353887399464,244.6353887399464,244.6353887399464,244.6353887399464,244.6353887399464,244.6353887399464,244.6353887399464,244.6353887399464,260.0,209.0,218.0,228.0,213.0,244.6353887399464,236.0,244.6353887399464,244.6353887399464,267.0,166.0,244.6353887399464,244.6353887399464,244.6353887399464,244.6353887399464,220.0,177.0,236.0,244.6353887399464,244.6353887399464,244.6353887399464,244.6353887399464,244.6353887399464,244.6353887399464,244.6353887399464,244.6353887399464,244.6353887399464,186.0,100.0,228.0,244.6353887399464,171.0,230.0,244.6353887399464,244.6353887399464,281.0,244.6353887399464,203.0,244.6353887399464,244.6353887399464,244.6353887399464,244.6353887399464,244.6353887399464,277.0,244.6353887399464,233.0,244.6353887399464,244.6353887399464,240.0,244.6353887399464,244.6353887399464,153.0,224.0,244.6353887399464,244.6353887399464,244.6353887399464,316.0,244.6353887399464,244.6353887399464,218.0,244.6353887399464,311.0,244.6353887399464,244.6353887399464,244.6353887399464,270.0,244.6353887399464,244.6353887399464,217.0,214.0,214.0,252.0,220.0,214.0,203.0,244.6353887399464,339.0,216.0,276.0,458.0,241.0,384.0,297.0,248.0,308.0,208.0,227.0,210.0,245.0,225.0,240.0,244.6353887399464,198.0,195.0,267.0,161.0,258.0,244.6353887399464,244.6353887399464,195.0,235.0,244.6353887399464,305.0,223.0,282.0,349.0,160.0,160.0,236.0,312.0,283.0,142.0,211.0,218.0,306.0,186.0,252.0,222.0,244.6353887399464,244.6353887399464,258.0,202.0,197.0,204.0,113.0,274.0,192.0,298.0,272.0,220.0,200.0,261.0,181.0,260.0,220.0,221.0,216.0,175.0,219.0,310.0,208.0,232.0,273.0,203.0,182.0,274.0,204.0,270.0,292.0,171.0,221.0,289.0,217.0,223.0,110.0,193.0,123.0,210.0,282.0,170.0,369.0,173.0,289.0,152.0,208.0,216.0,271.0,244.0,285.0,243.0,240.0,219.0,237.0,165.0,213.0,287.0,258.0,256.0,186.0,264.0,185.0,226.0,203.0,207.0,284.0,337.0,310.0,254.0,258.0,254.0,300.0,170.0,310.0,333.0,139.0,223.0,385.0,254.0,322.0,564.0,261.0,263.0,269.0,177.0,256.0,239.0,293.0,407.0,234.0,226.0,235.0,234.0,303.0,149.0,311.0,203.0,211.0,199.0,229.0,245.0,303.0,204.0,288.0,275.0,243.0,295.0,230.0,265.0,229.0,228.0,215.0,326.0,200.0,256.0,207.0,273.0,180.0,222.0,223.0,209.0,233.0,197.0,218.0,211.0,149.0,197.0,246.0,225.0,315.0,205.0,417.0,195.0,234.0,198.0,166.0,178.0,249.0,281.0,126.0,305.0,226.0,240.0,233.0,276.0,261.0,319.0,242.0,243.0,260.0,354.0,245.0,197.0,223.0,309.0,208.0,199.0,209.0,236.0,218.0,198.0,270.0,214.0,201.0,244.0,208.0,270.0,306.0,243.0,221.0,330.0,266.0,206.0,212.0,275.0,302.0,234.0,313.0,244.0,141.0,237.0,269.0,289.0,254.0,274.0,222.0,258.0,177.0,160.0,327.0,235.0,305.0,304.0,295.0,271.0,249.0,288.0,226.0,283.0,188.0,286.0,274.0,360.0,273.0,201.0,267.0,196.0,201.0,230.0,269.0,212.0,226.0,246.0,232.0,177.0,277.0,249.0,210.0,207.0,212.0,271.0,233.0,213.0,283.0,282.0,230.0,167.0,224.0,268.0,250.0,219.0,267.0,303.0,256.0,204.0,217.0,308.0,193.0,228.0,231.0,244.0,262.0,259.0,211.0,325.0,254.0,197.0,236.0,282.0,234.0,254.0,299.0,211.0,182.0,294.0,298.0,231.0,254.0,196.0,240.0,409.0,172.0,265.0,246.0,315.0,184.0,233.0,394.0,269.0,239.0,174.0,309.0,282.0,255.0,250.0,248.0,214.0,239.0,304.0,277.0,300.0,258.0,299.0,289.0,298.0,318.0,240.0,309.0,250.0,288.0,245.0,213.0,216.0,204.0,204.0,252.0,227.0,258.0,220.0,239.0,254.0,168.0,330.0,183.0,203.0,263.0,341.0,283.0,186.0,307.0,219.0,260.0,255.0,231.0,164.0,234.0,177.0,257.0,325.0,274.0,321.0,264.0,268.0,308.0,253.0,248.0,269.0,185.0,282.0,188.0,219.0,290.0,175.0,212.0,302.0,243.0,353.0,335.0,247.0,340.0,206.0,284.0,266.0,229.0,199.0,263.0,294.0,192.0,286.0,216.0,223.0,247.0,204.0,204.0,227.0,278.0,220.0,232.0,197.0,335.0,253.0,205.0,192.0,203.0,318.0,225.0,220.0,221.0,240.0,212.0,342.0,169.0,187.0,197.0,157.0,176.0,241.0,264.0,193.0,131.0,236.0,175.0],\"y0\":\" \",\"yaxis\":\"y\",\"type\":\"box\"}],                        {\"template\":{\"data\":{\"bar\":[{\"error_x\":{\"color\":\"#2a3f5f\"},\"error_y\":{\"color\":\"#2a3f5f\"},\"marker\":{\"line\":{\"color\":\"#E5ECF6\",\"width\":0.5},\"pattern\":{\"fillmode\":\"overlay\",\"size\":10,\"solidity\":0.2}},\"type\":\"bar\"}],\"barpolar\":[{\"marker\":{\"line\":{\"color\":\"#E5ECF6\",\"width\":0.5},\"pattern\":{\"fillmode\":\"overlay\",\"size\":10,\"solidity\":0.2}},\"type\":\"barpolar\"}],\"carpet\":[{\"aaxis\":{\"endlinecolor\":\"#2a3f5f\",\"gridcolor\":\"white\",\"linecolor\":\"white\",\"minorgridcolor\":\"white\",\"startlinecolor\":\"#2a3f5f\"},\"baxis\":{\"endlinecolor\":\"#2a3f5f\",\"gridcolor\":\"white\",\"linecolor\":\"white\",\"minorgridcolor\":\"white\",\"startlinecolor\":\"#2a3f5f\"},\"type\":\"carpet\"}],\"choropleth\":[{\"colorbar\":{\"outlinewidth\":0,\"ticks\":\"\"},\"type\":\"choropleth\"}],\"contour\":[{\"colorbar\":{\"outlinewidth\":0,\"ticks\":\"\"},\"colorscale\":[[0.0,\"#0d0887\"],[0.1111111111111111,\"#46039f\"],[0.2222222222222222,\"#7201a8\"],[0.3333333333333333,\"#9c179e\"],[0.4444444444444444,\"#bd3786\"],[0.5555555555555556,\"#d8576b\"],[0.6666666666666666,\"#ed7953\"],[0.7777777777777778,\"#fb9f3a\"],[0.8888888888888888,\"#fdca26\"],[1.0,\"#f0f921\"]],\"type\":\"contour\"}],\"contourcarpet\":[{\"colorbar\":{\"outlinewidth\":0,\"ticks\":\"\"},\"type\":\"contourcarpet\"}],\"heatmap\":[{\"colorbar\":{\"outlinewidth\":0,\"ticks\":\"\"},\"colorscale\":[[0.0,\"#0d0887\"],[0.1111111111111111,\"#46039f\"],[0.2222222222222222,\"#7201a8\"],[0.3333333333333333,\"#9c179e\"],[0.4444444444444444,\"#bd3786\"],[0.5555555555555556,\"#d8576b\"],[0.6666666666666666,\"#ed7953\"],[0.7777777777777778,\"#fb9f3a\"],[0.8888888888888888,\"#fdca26\"],[1.0,\"#f0f921\"]],\"type\":\"heatmap\"}],\"heatmapgl\":[{\"colorbar\":{\"outlinewidth\":0,\"ticks\":\"\"},\"colorscale\":[[0.0,\"#0d0887\"],[0.1111111111111111,\"#46039f\"],[0.2222222222222222,\"#7201a8\"],[0.3333333333333333,\"#9c179e\"],[0.4444444444444444,\"#bd3786\"],[0.5555555555555556,\"#d8576b\"],[0.6666666666666666,\"#ed7953\"],[0.7777777777777778,\"#fb9f3a\"],[0.8888888888888888,\"#fdca26\"],[1.0,\"#f0f921\"]],\"type\":\"heatmapgl\"}],\"histogram\":[{\"marker\":{\"pattern\":{\"fillmode\":\"overlay\",\"size\":10,\"solidity\":0.2}},\"type\":\"histogram\"}],\"histogram2d\":[{\"colorbar\":{\"outlinewidth\":0,\"ticks\":\"\"},\"colorscale\":[[0.0,\"#0d0887\"],[0.1111111111111111,\"#46039f\"],[0.2222222222222222,\"#7201a8\"],[0.3333333333333333,\"#9c179e\"],[0.4444444444444444,\"#bd3786\"],[0.5555555555555556,\"#d8576b\"],[0.6666666666666666,\"#ed7953\"],[0.7777777777777778,\"#fb9f3a\"],[0.8888888888888888,\"#fdca26\"],[1.0,\"#f0f921\"]],\"type\":\"histogram2d\"}],\"histogram2dcontour\":[{\"colorbar\":{\"outlinewidth\":0,\"ticks\":\"\"},\"colorscale\":[[0.0,\"#0d0887\"],[0.1111111111111111,\"#46039f\"],[0.2222222222222222,\"#7201a8\"],[0.3333333333333333,\"#9c179e\"],[0.4444444444444444,\"#bd3786\"],[0.5555555555555556,\"#d8576b\"],[0.6666666666666666,\"#ed7953\"],[0.7777777777777778,\"#fb9f3a\"],[0.8888888888888888,\"#fdca26\"],[1.0,\"#f0f921\"]],\"type\":\"histogram2dcontour\"}],\"mesh3d\":[{\"colorbar\":{\"outlinewidth\":0,\"ticks\":\"\"},\"type\":\"mesh3d\"}],\"parcoords\":[{\"line\":{\"colorbar\":{\"outlinewidth\":0,\"ticks\":\"\"}},\"type\":\"parcoords\"}],\"pie\":[{\"automargin\":true,\"type\":\"pie\"}],\"scatter\":[{\"marker\":{\"colorbar\":{\"outlinewidth\":0,\"ticks\":\"\"}},\"type\":\"scatter\"}],\"scatter3d\":[{\"line\":{\"colorbar\":{\"outlinewidth\":0,\"ticks\":\"\"}},\"marker\":{\"colorbar\":{\"outlinewidth\":0,\"ticks\":\"\"}},\"type\":\"scatter3d\"}],\"scattercarpet\":[{\"marker\":{\"colorbar\":{\"outlinewidth\":0,\"ticks\":\"\"}},\"type\":\"scattercarpet\"}],\"scattergeo\":[{\"marker\":{\"colorbar\":{\"outlinewidth\":0,\"ticks\":\"\"}},\"type\":\"scattergeo\"}],\"scattergl\":[{\"marker\":{\"colorbar\":{\"outlinewidth\":0,\"ticks\":\"\"}},\"type\":\"scattergl\"}],\"scattermapbox\":[{\"marker\":{\"colorbar\":{\"outlinewidth\":0,\"ticks\":\"\"}},\"type\":\"scattermapbox\"}],\"scatterpolar\":[{\"marker\":{\"colorbar\":{\"outlinewidth\":0,\"ticks\":\"\"}},\"type\":\"scatterpolar\"}],\"scatterpolargl\":[{\"marker\":{\"colorbar\":{\"outlinewidth\":0,\"ticks\":\"\"}},\"type\":\"scatterpolargl\"}],\"scatterternary\":[{\"marker\":{\"colorbar\":{\"outlinewidth\":0,\"ticks\":\"\"}},\"type\":\"scatterternary\"}],\"surface\":[{\"colorbar\":{\"outlinewidth\":0,\"ticks\":\"\"},\"colorscale\":[[0.0,\"#0d0887\"],[0.1111111111111111,\"#46039f\"],[0.2222222222222222,\"#7201a8\"],[0.3333333333333333,\"#9c179e\"],[0.4444444444444444,\"#bd3786\"],[0.5555555555555556,\"#d8576b\"],[0.6666666666666666,\"#ed7953\"],[0.7777777777777778,\"#fb9f3a\"],[0.8888888888888888,\"#fdca26\"],[1.0,\"#f0f921\"]],\"type\":\"surface\"}],\"table\":[{\"cells\":{\"fill\":{\"color\":\"#EBF0F8\"},\"line\":{\"color\":\"white\"}},\"header\":{\"fill\":{\"color\":\"#C8D4E3\"},\"line\":{\"color\":\"white\"}},\"type\":\"table\"}]},\"layout\":{\"annotationdefaults\":{\"arrowcolor\":\"#2a3f5f\",\"arrowhead\":0,\"arrowwidth\":1},\"autotypenumbers\":\"strict\",\"coloraxis\":{\"colorbar\":{\"outlinewidth\":0,\"ticks\":\"\"}},\"colorscale\":{\"diverging\":[[0,\"#8e0152\"],[0.1,\"#c51b7d\"],[0.2,\"#de77ae\"],[0.3,\"#f1b6da\"],[0.4,\"#fde0ef\"],[0.5,\"#f7f7f7\"],[0.6,\"#e6f5d0\"],[0.7,\"#b8e186\"],[0.8,\"#7fbc41\"],[0.9,\"#4d9221\"],[1,\"#276419\"]],\"sequential\":[[0.0,\"#0d0887\"],[0.1111111111111111,\"#46039f\"],[0.2222222222222222,\"#7201a8\"],[0.3333333333333333,\"#9c179e\"],[0.4444444444444444,\"#bd3786\"],[0.5555555555555556,\"#d8576b\"],[0.6666666666666666,\"#ed7953\"],[0.7777777777777778,\"#fb9f3a\"],[0.8888888888888888,\"#fdca26\"],[1.0,\"#f0f921\"]],\"sequentialminus\":[[0.0,\"#0d0887\"],[0.1111111111111111,\"#46039f\"],[0.2222222222222222,\"#7201a8\"],[0.3333333333333333,\"#9c179e\"],[0.4444444444444444,\"#bd3786\"],[0.5555555555555556,\"#d8576b\"],[0.6666666666666666,\"#ed7953\"],[0.7777777777777778,\"#fb9f3a\"],[0.8888888888888888,\"#fdca26\"],[1.0,\"#f0f921\"]]},\"colorway\":[\"#636efa\",\"#EF553B\",\"#00cc96\",\"#ab63fa\",\"#FFA15A\",\"#19d3f3\",\"#FF6692\",\"#B6E880\",\"#FF97FF\",\"#FECB52\"],\"font\":{\"color\":\"#2a3f5f\"},\"geo\":{\"bgcolor\":\"white\",\"lakecolor\":\"white\",\"landcolor\":\"#E5ECF6\",\"showlakes\":true,\"showland\":true,\"subunitcolor\":\"white\"},\"hoverlabel\":{\"align\":\"left\"},\"hovermode\":\"closest\",\"mapbox\":{\"style\":\"light\"},\"paper_bgcolor\":\"white\",\"plot_bgcolor\":\"#E5ECF6\",\"polar\":{\"angularaxis\":{\"gridcolor\":\"white\",\"linecolor\":\"white\",\"ticks\":\"\"},\"bgcolor\":\"#E5ECF6\",\"radialaxis\":{\"gridcolor\":\"white\",\"linecolor\":\"white\",\"ticks\":\"\"}},\"scene\":{\"xaxis\":{\"backgroundcolor\":\"#E5ECF6\",\"gridcolor\":\"white\",\"gridwidth\":2,\"linecolor\":\"white\",\"showbackground\":true,\"ticks\":\"\",\"zerolinecolor\":\"white\"},\"yaxis\":{\"backgroundcolor\":\"#E5ECF6\",\"gridcolor\":\"white\",\"gridwidth\":2,\"linecolor\":\"white\",\"showbackground\":true,\"ticks\":\"\",\"zerolinecolor\":\"white\"},\"zaxis\":{\"backgroundcolor\":\"#E5ECF6\",\"gridcolor\":\"white\",\"gridwidth\":2,\"linecolor\":\"white\",\"showbackground\":true,\"ticks\":\"\",\"zerolinecolor\":\"white\"}},\"shapedefaults\":{\"line\":{\"color\":\"#2a3f5f\"}},\"ternary\":{\"aaxis\":{\"gridcolor\":\"white\",\"linecolor\":\"white\",\"ticks\":\"\"},\"baxis\":{\"gridcolor\":\"white\",\"linecolor\":\"white\",\"ticks\":\"\"},\"bgcolor\":\"#E5ECF6\",\"caxis\":{\"gridcolor\":\"white\",\"linecolor\":\"white\",\"ticks\":\"\"}},\"title\":{\"x\":0.05},\"xaxis\":{\"automargin\":true,\"gridcolor\":\"white\",\"linecolor\":\"white\",\"ticks\":\"\",\"title\":{\"standoff\":15},\"zerolinecolor\":\"white\",\"zerolinewidth\":2},\"yaxis\":{\"automargin\":true,\"gridcolor\":\"white\",\"linecolor\":\"white\",\"ticks\":\"\",\"title\":{\"standoff\":15},\"zerolinecolor\":\"white\",\"zerolinewidth\":2}}},\"xaxis\":{\"anchor\":\"y\",\"domain\":[0.0,1.0]},\"yaxis\":{\"anchor\":\"x\",\"domain\":[0.0,1.0],\"title\":{\"text\":\"Cholesterol\"}},\"legend\":{\"tracegroupgap\":0},\"margin\":{\"t\":60},\"boxmode\":\"group\"},                        {\"responsive\": true}                    ).then(function(){\n",
              "                            \n",
              "var gd = document.getElementById('7437c0a6-ee37-4541-be80-96b0cc7537fb');\n",
              "var x = new MutationObserver(function (mutations, observer) {{\n",
              "        var display = window.getComputedStyle(gd).display;\n",
              "        if (!display || display === 'none') {{\n",
              "            console.log([gd, 'removed!']);\n",
              "            Plotly.purge(gd);\n",
              "            observer.disconnect();\n",
              "        }}\n",
              "}});\n",
              "\n",
              "// Listen for the removal of the full notebook cells\n",
              "var notebookContainer = gd.closest('#notebook-container');\n",
              "if (notebookContainer) {{\n",
              "    x.observe(notebookContainer, {childList: true});\n",
              "}}\n",
              "\n",
              "// Listen for the clearing of the current output cell\n",
              "var outputEl = gd.closest('.output');\n",
              "if (outputEl) {{\n",
              "    x.observe(outputEl, {childList: true});\n",
              "}}\n",
              "\n",
              "                        })                };                            </script>        </div>\n",
              "</body>\n",
              "</html>"
            ]
          },
          "metadata": {}
        }
      ]
    },
    {
      "cell_type": "code",
      "source": [
        "# Frequência cardiaca máxima\n",
        "px.box ( dados2, y = \"MaxHR\")"
      ],
      "metadata": {
        "colab": {
          "base_uri": "https://localhost:8080/",
          "height": 0
        },
        "id": "1FDdlhJObJ9n",
        "outputId": "e71619fd-a9ad-4776-8148-15f64c3abb87"
      },
      "execution_count": 36,
      "outputs": [
        {
          "output_type": "display_data",
          "data": {
            "text/html": [
              "<html>\n",
              "<head><meta charset=\"utf-8\" /></head>\n",
              "<body>\n",
              "    <div>            <script src=\"https://cdnjs.cloudflare.com/ajax/libs/mathjax/2.7.5/MathJax.js?config=TeX-AMS-MML_SVG\"></script><script type=\"text/javascript\">if (window.MathJax) {MathJax.Hub.Config({SVG: {font: \"STIX-Web\"}});}</script>                <script type=\"text/javascript\">window.PlotlyConfig = {MathJaxConfig: 'local'};</script>\n",
              "        <script src=\"https://cdn.plot.ly/plotly-2.8.3.min.js\"></script>                <div id=\"d6febed2-bb14-40b1-a6ec-b61a828f1a55\" class=\"plotly-graph-div\" style=\"height:525px; width:100%;\"></div>            <script type=\"text/javascript\">                                    window.PLOTLYENV=window.PLOTLYENV || {};                                    if (document.getElementById(\"d6febed2-bb14-40b1-a6ec-b61a828f1a55\")) {                    Plotly.newPlot(                        \"d6febed2-bb14-40b1-a6ec-b61a828f1a55\",                        [{\"alignmentgroup\":\"True\",\"hovertemplate\":\"MaxHR=%{y}<extra></extra>\",\"legendgroup\":\"\",\"marker\":{\"color\":\"#636efa\"},\"name\":\"\",\"notched\":false,\"offsetgroup\":\"\",\"orientation\":\"v\",\"showlegend\":false,\"x0\":\" \",\"xaxis\":\"x\",\"y\":[172,156,98,108,122,170,170,142,130,120,142,99,145,140,137,150,166,165,125,160,142,142,164,150,138,178,112,118,127,145,130,114,122,130,154,155,87,142,148,130,130,100,168,170,120,120,168,170,184,170,121,98,122,150,140,170,153,140,134,96,174,175,144,125,145,130,144,184,82,170,145,135,150,115,128,116,130,150,138,170,160,154,115,165,125,94,112,142,155,110,160,140,148,92,180,140,138,160,140,144,115,100,130,152,124,140,110,168,135,106,124,92,125,150,135,150,170,130,185,180,170,139,140,110,150,110,190,175,140,152,130,150,122,124,120,175,175,146,118,130,94,125,158,155,150,132,155,176,160,125,120,100,150,140,160,150,150,130,100,130,119,96,174,150,140,175,140,118,100,160,160,188,162,172,134,135,105,150,150,90,120,150,124,140,130,92,110,138,110,120,120,116,160,110,180,116,132,136,116,98,150,150,146,150,100,140,180,140,185,140,110,140,128,164,98,170,150,137,150,170,112,150,125,185,137,150,140,134,170,184,158,167,129,142,140,160,118,136,99,102,155,142,143,118,103,137,150,150,130,120,135,115,115,152,96,130,150,172,120,155,165,138,115,125,145,175,110,150,91,145,140,165,130,134,180,100,150,126,126,155,135,122,160,160,170,120,140,132,156,180,138,135,148,93,127,110,139,131,92,149,149,150,120,123,126,127,155,120,138,182,154,110,176,154,141,123,148,121,77,136,175,109,166,128,133,128,138,119,82,130,143,82,179,144,170,134,114,154,149,145,122,114,113,120,104,130,115,128,104,125,120,140,100,100,92,125,113,95,128,115,72,124,99,148,97,140,117,120,120,86,63,108,98,115,105,121,118,122,157,156,99,120,145,156,155,105,99,135,83,145,60,92,115,120,98,150,143,105,122,70,110,163,67,128,120,130,100,72,94,122,78,150,103,98,110,90,112,127,140,149,99,120,105,140,141,157,140,117,120,120,148,86,84,125,120,118,124,106,111,116,180,129,125,140,120,124,117,110,105,110,122,118,133,123,131,80,165,86,111,118,84,117,107,128,160,125,130,97,161,106,130,140,122,130,120,139,108,148,123,110,118,125,106,112,128,180,144,135,140,102,108,145,127,110,140,69,148,130,130,140,138,140,138,112,131,112,80,150,110,126,88,153,150,120,160,132,120,110,121,128,135,120,117,150,144,113,135,127,109,128,115,102,140,135,122,119,130,112,100,122,120,105,129,120,139,162,100,140,135,73,86,108,116,160,118,112,122,124,102,137,141,154,126,160,115,128,115,105,110,119,109,135,130,112,126,120,110,119,110,130,159,84,126,116,120,122,165,122,94,133,110,150,130,113,140,100,136,127,98,96,123,98,112,151,96,108,128,138,126,154,137,100,135,93,109,160,141,105,121,140,142,142,170,154,161,111,180,145,159,125,120,155,144,178,129,180,181,143,159,139,152,157,165,130,150,138,170,140,126,150,138,125,150,186,181,163,179,156,134,165,126,177,120,114,125,184,157,179,175,168,125,96,143,103,173,142,169,171,150,112,186,152,149,152,140,163,143,116,142,147,148,179,173,178,105,130,111,168,126,178,140,145,163,128,164,169,109,108,168,118,151,156,133,162,175,71,163,124,147,166,143,157,162,138,117,153,161,170,162,162,144,133,114,103,139,116,88,151,152,163,99,169,158,160,169,132,178,96,165,160,172,144,192,168,132,182,163,125,195,95,160,114,173,172,179,158,167,122,149,172,111,170,162,165,182,154,155,130,161,154,159,152,152,174,131,146,125,115,174,106,122,147,163,163,194,150,158,122,173,162,105,147,157,112,160,125,156,156,175,161,122,158,151,162,151,171,141,173,145,178,160,154,131,187,159,166,165,131,202,172,172,154,147,170,126,127,174,132,182,132,97,136,162,190,146,140,185,161,146,145,160,120,156,172,150,182,143,160,142,144,158,148,155,142,113,188,153,123,157,162,137,132,158,171,172,132,160,171,168,162,173,153,148,108,115,169,143,156,162,155,152,152,164,131,143,179,130,174,161,140,146,144,163,169,150,166,144,144,136,182,90,123,132,141,115,174,173],\"y0\":\" \",\"yaxis\":\"y\",\"type\":\"box\"}],                        {\"template\":{\"data\":{\"bar\":[{\"error_x\":{\"color\":\"#2a3f5f\"},\"error_y\":{\"color\":\"#2a3f5f\"},\"marker\":{\"line\":{\"color\":\"#E5ECF6\",\"width\":0.5},\"pattern\":{\"fillmode\":\"overlay\",\"size\":10,\"solidity\":0.2}},\"type\":\"bar\"}],\"barpolar\":[{\"marker\":{\"line\":{\"color\":\"#E5ECF6\",\"width\":0.5},\"pattern\":{\"fillmode\":\"overlay\",\"size\":10,\"solidity\":0.2}},\"type\":\"barpolar\"}],\"carpet\":[{\"aaxis\":{\"endlinecolor\":\"#2a3f5f\",\"gridcolor\":\"white\",\"linecolor\":\"white\",\"minorgridcolor\":\"white\",\"startlinecolor\":\"#2a3f5f\"},\"baxis\":{\"endlinecolor\":\"#2a3f5f\",\"gridcolor\":\"white\",\"linecolor\":\"white\",\"minorgridcolor\":\"white\",\"startlinecolor\":\"#2a3f5f\"},\"type\":\"carpet\"}],\"choropleth\":[{\"colorbar\":{\"outlinewidth\":0,\"ticks\":\"\"},\"type\":\"choropleth\"}],\"contour\":[{\"colorbar\":{\"outlinewidth\":0,\"ticks\":\"\"},\"colorscale\":[[0.0,\"#0d0887\"],[0.1111111111111111,\"#46039f\"],[0.2222222222222222,\"#7201a8\"],[0.3333333333333333,\"#9c179e\"],[0.4444444444444444,\"#bd3786\"],[0.5555555555555556,\"#d8576b\"],[0.6666666666666666,\"#ed7953\"],[0.7777777777777778,\"#fb9f3a\"],[0.8888888888888888,\"#fdca26\"],[1.0,\"#f0f921\"]],\"type\":\"contour\"}],\"contourcarpet\":[{\"colorbar\":{\"outlinewidth\":0,\"ticks\":\"\"},\"type\":\"contourcarpet\"}],\"heatmap\":[{\"colorbar\":{\"outlinewidth\":0,\"ticks\":\"\"},\"colorscale\":[[0.0,\"#0d0887\"],[0.1111111111111111,\"#46039f\"],[0.2222222222222222,\"#7201a8\"],[0.3333333333333333,\"#9c179e\"],[0.4444444444444444,\"#bd3786\"],[0.5555555555555556,\"#d8576b\"],[0.6666666666666666,\"#ed7953\"],[0.7777777777777778,\"#fb9f3a\"],[0.8888888888888888,\"#fdca26\"],[1.0,\"#f0f921\"]],\"type\":\"heatmap\"}],\"heatmapgl\":[{\"colorbar\":{\"outlinewidth\":0,\"ticks\":\"\"},\"colorscale\":[[0.0,\"#0d0887\"],[0.1111111111111111,\"#46039f\"],[0.2222222222222222,\"#7201a8\"],[0.3333333333333333,\"#9c179e\"],[0.4444444444444444,\"#bd3786\"],[0.5555555555555556,\"#d8576b\"],[0.6666666666666666,\"#ed7953\"],[0.7777777777777778,\"#fb9f3a\"],[0.8888888888888888,\"#fdca26\"],[1.0,\"#f0f921\"]],\"type\":\"heatmapgl\"}],\"histogram\":[{\"marker\":{\"pattern\":{\"fillmode\":\"overlay\",\"size\":10,\"solidity\":0.2}},\"type\":\"histogram\"}],\"histogram2d\":[{\"colorbar\":{\"outlinewidth\":0,\"ticks\":\"\"},\"colorscale\":[[0.0,\"#0d0887\"],[0.1111111111111111,\"#46039f\"],[0.2222222222222222,\"#7201a8\"],[0.3333333333333333,\"#9c179e\"],[0.4444444444444444,\"#bd3786\"],[0.5555555555555556,\"#d8576b\"],[0.6666666666666666,\"#ed7953\"],[0.7777777777777778,\"#fb9f3a\"],[0.8888888888888888,\"#fdca26\"],[1.0,\"#f0f921\"]],\"type\":\"histogram2d\"}],\"histogram2dcontour\":[{\"colorbar\":{\"outlinewidth\":0,\"ticks\":\"\"},\"colorscale\":[[0.0,\"#0d0887\"],[0.1111111111111111,\"#46039f\"],[0.2222222222222222,\"#7201a8\"],[0.3333333333333333,\"#9c179e\"],[0.4444444444444444,\"#bd3786\"],[0.5555555555555556,\"#d8576b\"],[0.6666666666666666,\"#ed7953\"],[0.7777777777777778,\"#fb9f3a\"],[0.8888888888888888,\"#fdca26\"],[1.0,\"#f0f921\"]],\"type\":\"histogram2dcontour\"}],\"mesh3d\":[{\"colorbar\":{\"outlinewidth\":0,\"ticks\":\"\"},\"type\":\"mesh3d\"}],\"parcoords\":[{\"line\":{\"colorbar\":{\"outlinewidth\":0,\"ticks\":\"\"}},\"type\":\"parcoords\"}],\"pie\":[{\"automargin\":true,\"type\":\"pie\"}],\"scatter\":[{\"marker\":{\"colorbar\":{\"outlinewidth\":0,\"ticks\":\"\"}},\"type\":\"scatter\"}],\"scatter3d\":[{\"line\":{\"colorbar\":{\"outlinewidth\":0,\"ticks\":\"\"}},\"marker\":{\"colorbar\":{\"outlinewidth\":0,\"ticks\":\"\"}},\"type\":\"scatter3d\"}],\"scattercarpet\":[{\"marker\":{\"colorbar\":{\"outlinewidth\":0,\"ticks\":\"\"}},\"type\":\"scattercarpet\"}],\"scattergeo\":[{\"marker\":{\"colorbar\":{\"outlinewidth\":0,\"ticks\":\"\"}},\"type\":\"scattergeo\"}],\"scattergl\":[{\"marker\":{\"colorbar\":{\"outlinewidth\":0,\"ticks\":\"\"}},\"type\":\"scattergl\"}],\"scattermapbox\":[{\"marker\":{\"colorbar\":{\"outlinewidth\":0,\"ticks\":\"\"}},\"type\":\"scattermapbox\"}],\"scatterpolar\":[{\"marker\":{\"colorbar\":{\"outlinewidth\":0,\"ticks\":\"\"}},\"type\":\"scatterpolar\"}],\"scatterpolargl\":[{\"marker\":{\"colorbar\":{\"outlinewidth\":0,\"ticks\":\"\"}},\"type\":\"scatterpolargl\"}],\"scatterternary\":[{\"marker\":{\"colorbar\":{\"outlinewidth\":0,\"ticks\":\"\"}},\"type\":\"scatterternary\"}],\"surface\":[{\"colorbar\":{\"outlinewidth\":0,\"ticks\":\"\"},\"colorscale\":[[0.0,\"#0d0887\"],[0.1111111111111111,\"#46039f\"],[0.2222222222222222,\"#7201a8\"],[0.3333333333333333,\"#9c179e\"],[0.4444444444444444,\"#bd3786\"],[0.5555555555555556,\"#d8576b\"],[0.6666666666666666,\"#ed7953\"],[0.7777777777777778,\"#fb9f3a\"],[0.8888888888888888,\"#fdca26\"],[1.0,\"#f0f921\"]],\"type\":\"surface\"}],\"table\":[{\"cells\":{\"fill\":{\"color\":\"#EBF0F8\"},\"line\":{\"color\":\"white\"}},\"header\":{\"fill\":{\"color\":\"#C8D4E3\"},\"line\":{\"color\":\"white\"}},\"type\":\"table\"}]},\"layout\":{\"annotationdefaults\":{\"arrowcolor\":\"#2a3f5f\",\"arrowhead\":0,\"arrowwidth\":1},\"autotypenumbers\":\"strict\",\"coloraxis\":{\"colorbar\":{\"outlinewidth\":0,\"ticks\":\"\"}},\"colorscale\":{\"diverging\":[[0,\"#8e0152\"],[0.1,\"#c51b7d\"],[0.2,\"#de77ae\"],[0.3,\"#f1b6da\"],[0.4,\"#fde0ef\"],[0.5,\"#f7f7f7\"],[0.6,\"#e6f5d0\"],[0.7,\"#b8e186\"],[0.8,\"#7fbc41\"],[0.9,\"#4d9221\"],[1,\"#276419\"]],\"sequential\":[[0.0,\"#0d0887\"],[0.1111111111111111,\"#46039f\"],[0.2222222222222222,\"#7201a8\"],[0.3333333333333333,\"#9c179e\"],[0.4444444444444444,\"#bd3786\"],[0.5555555555555556,\"#d8576b\"],[0.6666666666666666,\"#ed7953\"],[0.7777777777777778,\"#fb9f3a\"],[0.8888888888888888,\"#fdca26\"],[1.0,\"#f0f921\"]],\"sequentialminus\":[[0.0,\"#0d0887\"],[0.1111111111111111,\"#46039f\"],[0.2222222222222222,\"#7201a8\"],[0.3333333333333333,\"#9c179e\"],[0.4444444444444444,\"#bd3786\"],[0.5555555555555556,\"#d8576b\"],[0.6666666666666666,\"#ed7953\"],[0.7777777777777778,\"#fb9f3a\"],[0.8888888888888888,\"#fdca26\"],[1.0,\"#f0f921\"]]},\"colorway\":[\"#636efa\",\"#EF553B\",\"#00cc96\",\"#ab63fa\",\"#FFA15A\",\"#19d3f3\",\"#FF6692\",\"#B6E880\",\"#FF97FF\",\"#FECB52\"],\"font\":{\"color\":\"#2a3f5f\"},\"geo\":{\"bgcolor\":\"white\",\"lakecolor\":\"white\",\"landcolor\":\"#E5ECF6\",\"showlakes\":true,\"showland\":true,\"subunitcolor\":\"white\"},\"hoverlabel\":{\"align\":\"left\"},\"hovermode\":\"closest\",\"mapbox\":{\"style\":\"light\"},\"paper_bgcolor\":\"white\",\"plot_bgcolor\":\"#E5ECF6\",\"polar\":{\"angularaxis\":{\"gridcolor\":\"white\",\"linecolor\":\"white\",\"ticks\":\"\"},\"bgcolor\":\"#E5ECF6\",\"radialaxis\":{\"gridcolor\":\"white\",\"linecolor\":\"white\",\"ticks\":\"\"}},\"scene\":{\"xaxis\":{\"backgroundcolor\":\"#E5ECF6\",\"gridcolor\":\"white\",\"gridwidth\":2,\"linecolor\":\"white\",\"showbackground\":true,\"ticks\":\"\",\"zerolinecolor\":\"white\"},\"yaxis\":{\"backgroundcolor\":\"#E5ECF6\",\"gridcolor\":\"white\",\"gridwidth\":2,\"linecolor\":\"white\",\"showbackground\":true,\"ticks\":\"\",\"zerolinecolor\":\"white\"},\"zaxis\":{\"backgroundcolor\":\"#E5ECF6\",\"gridcolor\":\"white\",\"gridwidth\":2,\"linecolor\":\"white\",\"showbackground\":true,\"ticks\":\"\",\"zerolinecolor\":\"white\"}},\"shapedefaults\":{\"line\":{\"color\":\"#2a3f5f\"}},\"ternary\":{\"aaxis\":{\"gridcolor\":\"white\",\"linecolor\":\"white\",\"ticks\":\"\"},\"baxis\":{\"gridcolor\":\"white\",\"linecolor\":\"white\",\"ticks\":\"\"},\"bgcolor\":\"#E5ECF6\",\"caxis\":{\"gridcolor\":\"white\",\"linecolor\":\"white\",\"ticks\":\"\"}},\"title\":{\"x\":0.05},\"xaxis\":{\"automargin\":true,\"gridcolor\":\"white\",\"linecolor\":\"white\",\"ticks\":\"\",\"title\":{\"standoff\":15},\"zerolinecolor\":\"white\",\"zerolinewidth\":2},\"yaxis\":{\"automargin\":true,\"gridcolor\":\"white\",\"linecolor\":\"white\",\"ticks\":\"\",\"title\":{\"standoff\":15},\"zerolinecolor\":\"white\",\"zerolinewidth\":2}}},\"xaxis\":{\"anchor\":\"y\",\"domain\":[0.0,1.0]},\"yaxis\":{\"anchor\":\"x\",\"domain\":[0.0,1.0],\"title\":{\"text\":\"MaxHR\"}},\"legend\":{\"tracegroupgap\":0},\"margin\":{\"t\":60},\"boxmode\":\"group\"},                        {\"responsive\": true}                    ).then(function(){\n",
              "                            \n",
              "var gd = document.getElementById('d6febed2-bb14-40b1-a6ec-b61a828f1a55');\n",
              "var x = new MutationObserver(function (mutations, observer) {{\n",
              "        var display = window.getComputedStyle(gd).display;\n",
              "        if (!display || display === 'none') {{\n",
              "            console.log([gd, 'removed!']);\n",
              "            Plotly.purge(gd);\n",
              "            observer.disconnect();\n",
              "        }}\n",
              "}});\n",
              "\n",
              "// Listen for the removal of the full notebook cells\n",
              "var notebookContainer = gd.closest('#notebook-container');\n",
              "if (notebookContainer) {{\n",
              "    x.observe(notebookContainer, {childList: true});\n",
              "}}\n",
              "\n",
              "// Listen for the clearing of the current output cell\n",
              "var outputEl = gd.closest('.output');\n",
              "if (outputEl) {{\n",
              "    x.observe(outputEl, {childList: true});\n",
              "}}\n",
              "\n",
              "                        })                };                            </script>        </div>\n",
              "</body>\n",
              "</html>"
            ]
          },
          "metadata": {}
        }
      ]
    },
    {
      "cell_type": "markdown",
      "source": [
        "#SALVANDO ( EXPORTANDO ) O DATAFRAME TRATADO\n",
        "\n",
        "________________________________________________________________________________"
      ],
      "metadata": {
        "id": "rue6IPkAbmQQ"
      }
    },
    {
      "cell_type": "code",
      "source": [
        "dados2.to_csv(\"heart_tratado.csv\",sep = \";\", encoding = \"utf-8\",  index = False)"
      ],
      "metadata": {
        "id": "vAX6-E89bue8"
      },
      "execution_count": 37,
      "outputs": []
    },
    {
      "cell_type": "markdown",
      "source": [
        "# PRÉ PROCESSAMENTO\n",
        "--------------------------------------------------------------------------------\n",
        "\n",
        "--------------------------------------------------------------------------------\n"
      ],
      "metadata": {
        "id": "QTUew3hSsqnH"
      }
    },
    {
      "cell_type": "markdown",
      "source": [
        "##TRANSFORMANDO AS VERIAVEIS CATEGORICAS NOMINAIS EM VARIAVEIS CATEGORICAS ORDINAIS"
      ],
      "metadata": {
        "id": "dV_VpFTjApm-"
      }
    },
    {
      "cell_type": "code",
      "source": [
        "df2 = pd.DataFrame.copy(dados2) # copiando o DataFrame sem manter relacionamento entre eles"
      ],
      "metadata": {
        "id": "im5hlYT3syDp"
      },
      "execution_count": 38,
      "outputs": []
    },
    {
      "cell_type": "code",
      "source": [
        "df2.mode()"
      ],
      "metadata": {
        "colab": {
          "base_uri": "https://localhost:8080/",
          "height": 0
        },
        "id": "BgPCD5jMBP8U",
        "outputId": "298bdd2e-f9d4-48a9-9129-1199ad2ae243"
      },
      "execution_count": 39,
      "outputs": [
        {
          "output_type": "execute_result",
          "data": {
            "text/plain": [
              "   Age Sex ChestPainType  RestingBP  Cholesterol  FastingBS RestingECG  MaxHR  \\\n",
              "0   54   M           ASY        120   244.635389          0     Normal    150   \n",
              "\n",
              "  ExerciseAngina  Oldpeak ST_Slope  HeartDisease  \n",
              "0              N      0.0     Flat             1  "
            ],
            "text/html": [
              "\n",
              "  <div id=\"df-8ec75803-7ec2-4b01-b327-62fc9266d93e\">\n",
              "    <div class=\"colab-df-container\">\n",
              "      <div>\n",
              "<style scoped>\n",
              "    .dataframe tbody tr th:only-of-type {\n",
              "        vertical-align: middle;\n",
              "    }\n",
              "\n",
              "    .dataframe tbody tr th {\n",
              "        vertical-align: top;\n",
              "    }\n",
              "\n",
              "    .dataframe thead th {\n",
              "        text-align: right;\n",
              "    }\n",
              "</style>\n",
              "<table border=\"1\" class=\"dataframe\">\n",
              "  <thead>\n",
              "    <tr style=\"text-align: right;\">\n",
              "      <th></th>\n",
              "      <th>Age</th>\n",
              "      <th>Sex</th>\n",
              "      <th>ChestPainType</th>\n",
              "      <th>RestingBP</th>\n",
              "      <th>Cholesterol</th>\n",
              "      <th>FastingBS</th>\n",
              "      <th>RestingECG</th>\n",
              "      <th>MaxHR</th>\n",
              "      <th>ExerciseAngina</th>\n",
              "      <th>Oldpeak</th>\n",
              "      <th>ST_Slope</th>\n",
              "      <th>HeartDisease</th>\n",
              "    </tr>\n",
              "  </thead>\n",
              "  <tbody>\n",
              "    <tr>\n",
              "      <th>0</th>\n",
              "      <td>54</td>\n",
              "      <td>M</td>\n",
              "      <td>ASY</td>\n",
              "      <td>120</td>\n",
              "      <td>244.635389</td>\n",
              "      <td>0</td>\n",
              "      <td>Normal</td>\n",
              "      <td>150</td>\n",
              "      <td>N</td>\n",
              "      <td>0.0</td>\n",
              "      <td>Flat</td>\n",
              "      <td>1</td>\n",
              "    </tr>\n",
              "  </tbody>\n",
              "</table>\n",
              "</div>\n",
              "      <button class=\"colab-df-convert\" onclick=\"convertToInteractive('df-8ec75803-7ec2-4b01-b327-62fc9266d93e')\"\n",
              "              title=\"Convert this dataframe to an interactive table.\"\n",
              "              style=\"display:none;\">\n",
              "        \n",
              "  <svg xmlns=\"http://www.w3.org/2000/svg\" height=\"24px\"viewBox=\"0 0 24 24\"\n",
              "       width=\"24px\">\n",
              "    <path d=\"M0 0h24v24H0V0z\" fill=\"none\"/>\n",
              "    <path d=\"M18.56 5.44l.94 2.06.94-2.06 2.06-.94-2.06-.94-.94-2.06-.94 2.06-2.06.94zm-11 1L8.5 8.5l.94-2.06 2.06-.94-2.06-.94L8.5 2.5l-.94 2.06-2.06.94zm10 10l.94 2.06.94-2.06 2.06-.94-2.06-.94-.94-2.06-.94 2.06-2.06.94z\"/><path d=\"M17.41 7.96l-1.37-1.37c-.4-.4-.92-.59-1.43-.59-.52 0-1.04.2-1.43.59L10.3 9.45l-7.72 7.72c-.78.78-.78 2.05 0 2.83L4 21.41c.39.39.9.59 1.41.59.51 0 1.02-.2 1.41-.59l7.78-7.78 2.81-2.81c.8-.78.8-2.07 0-2.86zM5.41 20L4 18.59l7.72-7.72 1.47 1.35L5.41 20z\"/>\n",
              "  </svg>\n",
              "      </button>\n",
              "      \n",
              "  <style>\n",
              "    .colab-df-container {\n",
              "      display:flex;\n",
              "      flex-wrap:wrap;\n",
              "      gap: 12px;\n",
              "    }\n",
              "\n",
              "    .colab-df-convert {\n",
              "      background-color: #E8F0FE;\n",
              "      border: none;\n",
              "      border-radius: 50%;\n",
              "      cursor: pointer;\n",
              "      display: none;\n",
              "      fill: #1967D2;\n",
              "      height: 32px;\n",
              "      padding: 0 0 0 0;\n",
              "      width: 32px;\n",
              "    }\n",
              "\n",
              "    .colab-df-convert:hover {\n",
              "      background-color: #E2EBFA;\n",
              "      box-shadow: 0px 1px 2px rgba(60, 64, 67, 0.3), 0px 1px 3px 1px rgba(60, 64, 67, 0.15);\n",
              "      fill: #174EA6;\n",
              "    }\n",
              "\n",
              "    [theme=dark] .colab-df-convert {\n",
              "      background-color: #3B4455;\n",
              "      fill: #D2E3FC;\n",
              "    }\n",
              "\n",
              "    [theme=dark] .colab-df-convert:hover {\n",
              "      background-color: #434B5C;\n",
              "      box-shadow: 0px 1px 3px 1px rgba(0, 0, 0, 0.15);\n",
              "      filter: drop-shadow(0px 1px 2px rgba(0, 0, 0, 0.3));\n",
              "      fill: #FFFFFF;\n",
              "    }\n",
              "  </style>\n",
              "\n",
              "      <script>\n",
              "        const buttonEl =\n",
              "          document.querySelector('#df-8ec75803-7ec2-4b01-b327-62fc9266d93e button.colab-df-convert');\n",
              "        buttonEl.style.display =\n",
              "          google.colab.kernel.accessAllowed ? 'block' : 'none';\n",
              "\n",
              "        async function convertToInteractive(key) {\n",
              "          const element = document.querySelector('#df-8ec75803-7ec2-4b01-b327-62fc9266d93e');\n",
              "          const dataTable =\n",
              "            await google.colab.kernel.invokeFunction('convertToInteractive',\n",
              "                                                     [key], {});\n",
              "          if (!dataTable) return;\n",
              "\n",
              "          const docLinkHtml = 'Like what you see? Visit the ' +\n",
              "            '<a target=\"_blank\" href=https://colab.research.google.com/notebooks/data_table.ipynb>data table notebook</a>'\n",
              "            + ' to learn more about interactive tables.';\n",
              "          element.innerHTML = '';\n",
              "          dataTable['output_type'] = 'display_data';\n",
              "          await google.colab.output.renderOutput(dataTable, element);\n",
              "          const docLink = document.createElement('div');\n",
              "          docLink.innerHTML = docLinkHtml;\n",
              "          element.appendChild(docLink);\n",
              "        }\n",
              "      </script>\n",
              "    </div>\n",
              "  </div>\n",
              "  "
            ]
          },
          "metadata": {},
          "execution_count": 39
        }
      ]
    },
    {
      "cell_type": "code",
      "source": [
        "df2 [\"Sex\"].replace({\"M\":0,\"F\":1},inplace=True)  # altera na coluna Sex o M para 0 e o F para 1\n",
        "df2[\"ChestPainType\"].replace({\"TA\":0,\"ATA\":1,\"NAP\":2,\"ASY\":3},inplace=True)\n",
        "df2[\"RestingECG\"].replace({\"Normal\":0,\"ST\":1,\"LVH\":2},inplace=True)\n",
        "df2[\"ExerciseAngina\"].replace({\"N\":0,\"Y\":1},inplace=True)\n",
        "df2[\"ST_Slope\"].replace({\"Up\":0,\"Flat\":1,\"Down\":2},inplace=True)"
      ],
      "metadata": {
        "id": "L7fCRQpLBIuK"
      },
      "execution_count": 40,
      "outputs": []
    },
    {
      "cell_type": "code",
      "source": [
        "df2.head()"
      ],
      "metadata": {
        "colab": {
          "base_uri": "https://localhost:8080/",
          "height": 0
        },
        "id": "SgZDiWR9DqSM",
        "outputId": "b98f11e0-4eec-4cc1-a98a-f256e7628a31"
      },
      "execution_count": 41,
      "outputs": [
        {
          "output_type": "execute_result",
          "data": {
            "text/plain": [
              "   Age  Sex  ChestPainType  RestingBP  Cholesterol  FastingBS  RestingECG  \\\n",
              "0   40    0              1        140        289.0          0           0   \n",
              "1   49    1              2        160        180.0          0           0   \n",
              "2   37    0              1        130        283.0          0           1   \n",
              "3   48    1              3        138        214.0          0           0   \n",
              "4   54    0              2        150        195.0          0           0   \n",
              "\n",
              "   MaxHR  ExerciseAngina  Oldpeak  ST_Slope  HeartDisease  \n",
              "0    172               0      0.0         0             0  \n",
              "1    156               0      1.0         1             1  \n",
              "2     98               0      0.0         0             0  \n",
              "3    108               1      1.5         1             1  \n",
              "4    122               0      0.0         0             0  "
            ],
            "text/html": [
              "\n",
              "  <div id=\"df-a58cde34-cf9c-47c2-978c-8efe18591353\">\n",
              "    <div class=\"colab-df-container\">\n",
              "      <div>\n",
              "<style scoped>\n",
              "    .dataframe tbody tr th:only-of-type {\n",
              "        vertical-align: middle;\n",
              "    }\n",
              "\n",
              "    .dataframe tbody tr th {\n",
              "        vertical-align: top;\n",
              "    }\n",
              "\n",
              "    .dataframe thead th {\n",
              "        text-align: right;\n",
              "    }\n",
              "</style>\n",
              "<table border=\"1\" class=\"dataframe\">\n",
              "  <thead>\n",
              "    <tr style=\"text-align: right;\">\n",
              "      <th></th>\n",
              "      <th>Age</th>\n",
              "      <th>Sex</th>\n",
              "      <th>ChestPainType</th>\n",
              "      <th>RestingBP</th>\n",
              "      <th>Cholesterol</th>\n",
              "      <th>FastingBS</th>\n",
              "      <th>RestingECG</th>\n",
              "      <th>MaxHR</th>\n",
              "      <th>ExerciseAngina</th>\n",
              "      <th>Oldpeak</th>\n",
              "      <th>ST_Slope</th>\n",
              "      <th>HeartDisease</th>\n",
              "    </tr>\n",
              "  </thead>\n",
              "  <tbody>\n",
              "    <tr>\n",
              "      <th>0</th>\n",
              "      <td>40</td>\n",
              "      <td>0</td>\n",
              "      <td>1</td>\n",
              "      <td>140</td>\n",
              "      <td>289.0</td>\n",
              "      <td>0</td>\n",
              "      <td>0</td>\n",
              "      <td>172</td>\n",
              "      <td>0</td>\n",
              "      <td>0.0</td>\n",
              "      <td>0</td>\n",
              "      <td>0</td>\n",
              "    </tr>\n",
              "    <tr>\n",
              "      <th>1</th>\n",
              "      <td>49</td>\n",
              "      <td>1</td>\n",
              "      <td>2</td>\n",
              "      <td>160</td>\n",
              "      <td>180.0</td>\n",
              "      <td>0</td>\n",
              "      <td>0</td>\n",
              "      <td>156</td>\n",
              "      <td>0</td>\n",
              "      <td>1.0</td>\n",
              "      <td>1</td>\n",
              "      <td>1</td>\n",
              "    </tr>\n",
              "    <tr>\n",
              "      <th>2</th>\n",
              "      <td>37</td>\n",
              "      <td>0</td>\n",
              "      <td>1</td>\n",
              "      <td>130</td>\n",
              "      <td>283.0</td>\n",
              "      <td>0</td>\n",
              "      <td>1</td>\n",
              "      <td>98</td>\n",
              "      <td>0</td>\n",
              "      <td>0.0</td>\n",
              "      <td>0</td>\n",
              "      <td>0</td>\n",
              "    </tr>\n",
              "    <tr>\n",
              "      <th>3</th>\n",
              "      <td>48</td>\n",
              "      <td>1</td>\n",
              "      <td>3</td>\n",
              "      <td>138</td>\n",
              "      <td>214.0</td>\n",
              "      <td>0</td>\n",
              "      <td>0</td>\n",
              "      <td>108</td>\n",
              "      <td>1</td>\n",
              "      <td>1.5</td>\n",
              "      <td>1</td>\n",
              "      <td>1</td>\n",
              "    </tr>\n",
              "    <tr>\n",
              "      <th>4</th>\n",
              "      <td>54</td>\n",
              "      <td>0</td>\n",
              "      <td>2</td>\n",
              "      <td>150</td>\n",
              "      <td>195.0</td>\n",
              "      <td>0</td>\n",
              "      <td>0</td>\n",
              "      <td>122</td>\n",
              "      <td>0</td>\n",
              "      <td>0.0</td>\n",
              "      <td>0</td>\n",
              "      <td>0</td>\n",
              "    </tr>\n",
              "  </tbody>\n",
              "</table>\n",
              "</div>\n",
              "      <button class=\"colab-df-convert\" onclick=\"convertToInteractive('df-a58cde34-cf9c-47c2-978c-8efe18591353')\"\n",
              "              title=\"Convert this dataframe to an interactive table.\"\n",
              "              style=\"display:none;\">\n",
              "        \n",
              "  <svg xmlns=\"http://www.w3.org/2000/svg\" height=\"24px\"viewBox=\"0 0 24 24\"\n",
              "       width=\"24px\">\n",
              "    <path d=\"M0 0h24v24H0V0z\" fill=\"none\"/>\n",
              "    <path d=\"M18.56 5.44l.94 2.06.94-2.06 2.06-.94-2.06-.94-.94-2.06-.94 2.06-2.06.94zm-11 1L8.5 8.5l.94-2.06 2.06-.94-2.06-.94L8.5 2.5l-.94 2.06-2.06.94zm10 10l.94 2.06.94-2.06 2.06-.94-2.06-.94-.94-2.06-.94 2.06-2.06.94z\"/><path d=\"M17.41 7.96l-1.37-1.37c-.4-.4-.92-.59-1.43-.59-.52 0-1.04.2-1.43.59L10.3 9.45l-7.72 7.72c-.78.78-.78 2.05 0 2.83L4 21.41c.39.39.9.59 1.41.59.51 0 1.02-.2 1.41-.59l7.78-7.78 2.81-2.81c.8-.78.8-2.07 0-2.86zM5.41 20L4 18.59l7.72-7.72 1.47 1.35L5.41 20z\"/>\n",
              "  </svg>\n",
              "      </button>\n",
              "      \n",
              "  <style>\n",
              "    .colab-df-container {\n",
              "      display:flex;\n",
              "      flex-wrap:wrap;\n",
              "      gap: 12px;\n",
              "    }\n",
              "\n",
              "    .colab-df-convert {\n",
              "      background-color: #E8F0FE;\n",
              "      border: none;\n",
              "      border-radius: 50%;\n",
              "      cursor: pointer;\n",
              "      display: none;\n",
              "      fill: #1967D2;\n",
              "      height: 32px;\n",
              "      padding: 0 0 0 0;\n",
              "      width: 32px;\n",
              "    }\n",
              "\n",
              "    .colab-df-convert:hover {\n",
              "      background-color: #E2EBFA;\n",
              "      box-shadow: 0px 1px 2px rgba(60, 64, 67, 0.3), 0px 1px 3px 1px rgba(60, 64, 67, 0.15);\n",
              "      fill: #174EA6;\n",
              "    }\n",
              "\n",
              "    [theme=dark] .colab-df-convert {\n",
              "      background-color: #3B4455;\n",
              "      fill: #D2E3FC;\n",
              "    }\n",
              "\n",
              "    [theme=dark] .colab-df-convert:hover {\n",
              "      background-color: #434B5C;\n",
              "      box-shadow: 0px 1px 3px 1px rgba(0, 0, 0, 0.15);\n",
              "      filter: drop-shadow(0px 1px 2px rgba(0, 0, 0, 0.3));\n",
              "      fill: #FFFFFF;\n",
              "    }\n",
              "  </style>\n",
              "\n",
              "      <script>\n",
              "        const buttonEl =\n",
              "          document.querySelector('#df-a58cde34-cf9c-47c2-978c-8efe18591353 button.colab-df-convert');\n",
              "        buttonEl.style.display =\n",
              "          google.colab.kernel.accessAllowed ? 'block' : 'none';\n",
              "\n",
              "        async function convertToInteractive(key) {\n",
              "          const element = document.querySelector('#df-a58cde34-cf9c-47c2-978c-8efe18591353');\n",
              "          const dataTable =\n",
              "            await google.colab.kernel.invokeFunction('convertToInteractive',\n",
              "                                                     [key], {});\n",
              "          if (!dataTable) return;\n",
              "\n",
              "          const docLinkHtml = 'Like what you see? Visit the ' +\n",
              "            '<a target=\"_blank\" href=https://colab.research.google.com/notebooks/data_table.ipynb>data table notebook</a>'\n",
              "            + ' to learn more about interactive tables.';\n",
              "          element.innerHTML = '';\n",
              "          dataTable['output_type'] = 'display_data';\n",
              "          await google.colab.output.renderOutput(dataTable, element);\n",
              "          const docLink = document.createElement('div');\n",
              "          docLink.innerHTML = docLinkHtml;\n",
              "          element.appendChild(docLink);\n",
              "        }\n",
              "      </script>\n",
              "    </div>\n",
              "  </div>\n",
              "  "
            ]
          },
          "metadata": {},
          "execution_count": 41
        }
      ]
    },
    {
      "cell_type": "code",
      "source": [
        "df2.dtypes   # todas as colunas agora possuem dados numéricos int64 ou float64 ideais para o modelo"
      ],
      "metadata": {
        "colab": {
          "base_uri": "https://localhost:8080/"
        },
        "id": "o86XptifEFFG",
        "outputId": "53232af9-315b-4a90-ce3a-2cdb2f2e9082"
      },
      "execution_count": 42,
      "outputs": [
        {
          "output_type": "execute_result",
          "data": {
            "text/plain": [
              "Age                 int64\n",
              "Sex                 int64\n",
              "ChestPainType       int64\n",
              "RestingBP           int64\n",
              "Cholesterol       float64\n",
              "FastingBS           int64\n",
              "RestingECG          int64\n",
              "MaxHR               int64\n",
              "ExerciseAngina      int64\n",
              "Oldpeak           float64\n",
              "ST_Slope            int64\n",
              "HeartDisease        int64\n",
              "dtype: object"
            ]
          },
          "metadata": {},
          "execution_count": 42
        }
      ]
    },
    {
      "cell_type": "markdown",
      "source": [
        "LEGENDA\n",
        "--------------------------------------------------------------------------------\n",
        "\n",
        "* Age = idade (anos)\n",
        "\n",
        "* Sex = sexo (0=M; 1=F)\n",
        "\n",
        "* Chest Pain Type = tipo de dor no peito (0=TA:angina típica; 1=ATA:angina atípica; 2=NAP:dor não anginosa; 3=ASY:assintomático)\n",
        "\n",
        "* Resting BP = pressão sanguínea em repouso (mmHg)\n",
        "\n",
        "* Cholesterol = colesterol sérico (mg/dl)\n",
        "\n",
        "* Fasting BS = açúcar no sangue em jejum (mg/dl)\n",
        "          0: Fasting BS < 120 mg/dl (não diabético)\n",
        "          1: Fasting BS >= 120 mg/dl, (diabético)\n",
        "\n",
        "* Resting ECG = eletrocardiograma em repouso (0=Normal; 1=ST:Anormalidade da onda ST-T; 2=LVH: Hipertrofia ventricular esquerda)\n",
        "\n",
        "* Max HR = frequência cardíaca máxima\n",
        "\n",
        "* Exercise Angina = Angina induzida por exercício (0=Não; 1=Sim)\n",
        "\n",
        "* Old Peak = Depressão de ST induzida por exercício em relação ao repouso\n",
        "\n",
        "* ST_Slope = Inclinação do segmento ST (0=UP; 1=Flat; 2=Down)\n",
        "\n",
        "* Heart Disease = Doença cardíaca (0=Não possui doença cardíaca; 1=Possui doença cardíaca)\n"
      ],
      "metadata": {
        "id": "b6E0UY3nF3V9"
      }
    },
    {
      "cell_type": "markdown",
      "source": [
        "##ATRIBUTOS PREVISORES E ALVO\n",
        "--------------------------------------------------------------------------------\n"
      ],
      "metadata": {
        "id": "23vqld4WyzZ1"
      }
    },
    {
      "cell_type": "code",
      "source": [
        "df2.shape"
      ],
      "metadata": {
        "id": "ynzL8vzgEH07",
        "colab": {
          "base_uri": "https://localhost:8080/"
        },
        "outputId": "22bc1553-2000-43d3-f066-b5b55331d8b1"
      },
      "execution_count": 43,
      "outputs": [
        {
          "output_type": "execute_result",
          "data": {
            "text/plain": [
              "(917, 12)"
            ]
          },
          "metadata": {},
          "execution_count": 43
        }
      ]
    },
    {
      "cell_type": "code",
      "source": [
        "previsores=df2.iloc[:,0:11].values   # criando um array somente com os valores menos a ultima coluna"
      ],
      "metadata": {
        "id": "QgvDOCYk0Y6w"
      },
      "execution_count": 44,
      "outputs": []
    },
    {
      "cell_type": "code",
      "source": [
        "previsores"
      ],
      "metadata": {
        "colab": {
          "base_uri": "https://localhost:8080/"
        },
        "id": "Xhy_WwVD0iS4",
        "outputId": "30748c3b-a4d9-43ea-83d5-667a485c0699"
      },
      "execution_count": 45,
      "outputs": [
        {
          "output_type": "execute_result",
          "data": {
            "text/plain": [
              "array([[40. ,  0. ,  1. , ...,  0. ,  0. ,  0. ],\n",
              "       [49. ,  1. ,  2. , ...,  0. ,  1. ,  1. ],\n",
              "       [37. ,  0. ,  1. , ...,  0. ,  0. ,  0. ],\n",
              "       ...,\n",
              "       [57. ,  0. ,  3. , ...,  1. ,  1.2,  1. ],\n",
              "       [57. ,  1. ,  1. , ...,  0. ,  0. ,  1. ],\n",
              "       [38. ,  0. ,  2. , ...,  0. ,  0. ,  0. ]])"
            ]
          },
          "metadata": {},
          "execution_count": 45
        }
      ]
    },
    {
      "cell_type": "code",
      "source": [
        "previsores.shape"
      ],
      "metadata": {
        "colab": {
          "base_uri": "https://localhost:8080/"
        },
        "id": "9R0K0sSw08PA",
        "outputId": "b5c40466-911c-4727-b791-3ff6030f262c"
      },
      "execution_count": 46,
      "outputs": [
        {
          "output_type": "execute_result",
          "data": {
            "text/plain": [
              "(917, 11)"
            ]
          },
          "metadata": {},
          "execution_count": 46
        }
      ]
    },
    {
      "cell_type": "code",
      "source": [
        "alvo = df2.iloc[:,11].values   # criando um array com os resultados alvo"
      ],
      "metadata": {
        "id": "rhTnW4vB1aGv"
      },
      "execution_count": 47,
      "outputs": []
    },
    {
      "cell_type": "code",
      "source": [
        "alvo"
      ],
      "metadata": {
        "colab": {
          "base_uri": "https://localhost:8080/"
        },
        "id": "Zuq1xmgT1uYA",
        "outputId": "b3f6a82e-a6c9-4159-ba3e-dc2995403441"
      },
      "execution_count": 48,
      "outputs": [
        {
          "output_type": "execute_result",
          "data": {
            "text/plain": [
              "array([0, 1, 0, 1, 0, 0, 0, 0, 1, 0, 0, 1, 0, 1, 0, 0, 1, 0, 1, 1, 0, 0,\n",
              "       0, 1, 0, 0, 0, 0, 0, 0, 1, 0, 1, 1, 0, 0, 1, 0, 0, 0, 0, 1, 0, 0,\n",
              "       1, 0, 0, 0, 0, 1, 1, 1, 0, 0, 0, 0, 1, 1, 0, 1, 0, 0, 0, 1, 0, 0,\n",
              "       0, 0, 1, 0, 1, 0, 1, 0, 1, 0, 1, 0, 0, 1, 0, 0, 1, 0, 1, 1, 1, 0,\n",
              "       1, 0, 0, 0, 0, 1, 0, 1, 0, 0, 0, 0, 1, 0, 1, 1, 1, 0, 0, 0, 0, 0,\n",
              "       0, 1, 0, 0, 0, 1, 1, 1, 0, 1, 1, 0, 0, 1, 0, 0, 0, 0, 0, 0, 0, 1,\n",
              "       1, 1, 0, 1, 0, 0, 1, 1, 1, 1, 1, 0, 1, 0, 0, 0, 0, 1, 0, 0, 0, 0,\n",
              "       0, 1, 1, 0, 1, 0, 1, 1, 0, 0, 0, 1, 1, 0, 0, 0, 0, 0, 0, 0, 1, 1,\n",
              "       1, 0, 0, 0, 1, 0, 1, 0, 0, 1, 0, 1, 0, 1, 0, 0, 0, 0, 0, 0, 0, 0,\n",
              "       1, 0, 0, 0, 0, 0, 0, 0, 0, 1, 0, 1, 1, 1, 0, 0, 1, 0, 1, 0, 0, 0,\n",
              "       1, 1, 0, 0, 0, 1, 0, 1, 0, 0, 0, 0, 0, 0, 0, 0, 1, 1, 1, 1, 0, 1,\n",
              "       1, 0, 1, 0, 1, 1, 1, 1, 1, 1, 0, 0, 1, 0, 0, 0, 0, 0, 0, 0, 1, 1,\n",
              "       1, 0, 1, 0, 1, 0, 0, 0, 1, 0, 0, 0, 1, 1, 0, 0, 0, 1, 0, 0, 0, 0,\n",
              "       0, 0, 0, 0, 0, 0, 0, 1, 1, 1, 1, 1, 1, 1, 1, 0, 1, 1, 1, 1, 1, 0,\n",
              "       1, 1, 0, 1, 1, 1, 0, 1, 1, 1, 1, 1, 1, 1, 1, 1, 1, 1, 0, 1, 1, 1,\n",
              "       1, 1, 0, 1, 1, 1, 0, 1, 1, 1, 1, 1, 1, 1, 1, 1, 1, 1, 1, 1, 1, 1,\n",
              "       1, 1, 1, 1, 1, 1, 1, 1, 1, 1, 1, 1, 0, 1, 1, 1, 1, 1, 1, 1, 1, 1,\n",
              "       1, 1, 1, 1, 1, 1, 1, 1, 1, 1, 1, 1, 1, 1, 1, 1, 1, 1, 1, 1, 1, 1,\n",
              "       1, 1, 1, 1, 1, 1, 1, 1, 1, 1, 1, 1, 1, 1, 1, 1, 1, 1, 1, 1, 1, 0,\n",
              "       1, 1, 0, 0, 1, 0, 1, 1, 0, 1, 1, 1, 1, 0, 1, 1, 0, 0, 1, 1, 1, 0,\n",
              "       1, 1, 1, 1, 1, 1, 1, 1, 1, 1, 1, 1, 0, 1, 0, 1, 1, 1, 0, 1, 1, 1,\n",
              "       0, 1, 0, 1, 0, 1, 0, 1, 1, 1, 1, 0, 1, 0, 1, 1, 1, 1, 1, 1, 1, 1,\n",
              "       1, 0, 1, 0, 1, 1, 1, 1, 1, 1, 1, 0, 1, 1, 1, 1, 1, 1, 0, 1, 1, 1,\n",
              "       0, 1, 1, 0, 1, 0, 1, 1, 0, 1, 1, 1, 1, 0, 1, 1, 1, 0, 0, 1, 0, 1,\n",
              "       1, 1, 1, 1, 1, 1, 1, 1, 1, 1, 0, 1, 1, 1, 1, 0, 0, 1, 1, 1, 0, 1,\n",
              "       0, 1, 1, 0, 1, 0, 1, 1, 1, 0, 0, 0, 1, 1, 1, 0, 1, 1, 1, 1, 1, 1,\n",
              "       1, 1, 1, 1, 1, 1, 1, 1, 1, 1, 0, 1, 1, 1, 0, 1, 1, 0, 0, 1, 1, 1,\n",
              "       1, 1, 0, 1, 1, 0, 1, 1, 1, 0, 0, 1, 1, 1, 1, 1, 0, 1, 0, 1, 1, 0,\n",
              "       1, 0, 0, 0, 1, 1, 1, 1, 0, 0, 0, 1, 0, 0, 1, 1, 0, 0, 1, 0, 0, 0,\n",
              "       0, 0, 0, 0, 1, 0, 1, 0, 0, 1, 1, 1, 1, 1, 0, 0, 1, 0, 0, 0, 1, 0,\n",
              "       1, 1, 1, 1, 1, 0, 0, 0, 0, 0, 1, 0, 1, 1, 0, 1, 0, 0, 0, 1, 0, 1,\n",
              "       0, 1, 1, 0, 0, 0, 0, 1, 0, 0, 0, 0, 1, 1, 1, 0, 0, 0, 0, 0, 0, 1,\n",
              "       0, 1, 1, 1, 1, 1, 0, 1, 0, 0, 0, 1, 0, 1, 1, 1, 0, 1, 1, 0, 1, 0,\n",
              "       1, 0, 0, 0, 1, 1, 0, 1, 1, 1, 1, 0, 0, 0, 1, 0, 0, 1, 1, 1, 0, 1,\n",
              "       0, 0, 0, 1, 0, 0, 1, 0, 1, 0, 1, 1, 1, 1, 1, 0, 0, 0, 0, 0, 0, 0,\n",
              "       1, 0, 0, 1, 1, 1, 0, 1, 0, 0, 0, 0, 0, 1, 0, 1, 1, 0, 0, 1, 1, 1,\n",
              "       1, 0, 0, 1, 1, 0, 0, 0, 1, 0, 0, 1, 0, 1, 0, 1, 0, 0, 0, 0, 0, 1,\n",
              "       0, 1, 1, 1, 1, 0, 0, 0, 1, 0, 1, 0, 0, 1, 0, 0, 0, 0, 0, 0, 1, 1,\n",
              "       0, 1, 0, 0, 1, 1, 0, 0, 1, 1, 0, 1, 0, 1, 0, 1, 0, 0, 1, 0, 0, 1,\n",
              "       0, 1, 1, 0, 1, 1, 1, 0, 1, 0, 0, 0, 0, 1, 1, 0, 0, 1, 1, 0, 1, 0,\n",
              "       0, 0, 0, 1, 0, 0, 1, 1, 1, 0, 0, 0, 1, 0, 1, 0, 1, 0, 1, 1, 1, 0,\n",
              "       0, 0, 1, 0, 1, 1, 1, 0, 1, 1, 1, 1, 1, 1, 0])"
            ]
          },
          "metadata": {},
          "execution_count": 48
        }
      ]
    },
    {
      "cell_type": "code",
      "source": [
        "alvo.shape"
      ],
      "metadata": {
        "colab": {
          "base_uri": "https://localhost:8080/"
        },
        "id": "NGdVFIfb3mzH",
        "outputId": "e376e6a5-3ad4-4ba1-d157-2d97fb67be96"
      },
      "execution_count": 49,
      "outputs": [
        {
          "output_type": "execute_result",
          "data": {
            "text/plain": [
              "(917,)"
            ]
          },
          "metadata": {},
          "execution_count": 49
        }
      ]
    },
    {
      "cell_type": "markdown",
      "source": [
        "#ANÁLISE DAS ESCALAS DOS ATRIBUTOS\n",
        "--------------------------------------------------------------------------------\n",
        "--------------------------------------------------------------------------------\n",
        "\n",
        "\n",
        "PADRONIZAÇÃO ( utiliza a média e o desvio padrão como referência )\n",
        "\n",
        "NORMALIZAÇÃO ( utiliza os valores máximo e mínimo como referência )"
      ],
      "metadata": {
        "id": "uT4ymF2Y4NlO"
      }
    },
    {
      "cell_type": "code",
      "source": [
        "df2.describe()"
      ],
      "metadata": {
        "colab": {
          "base_uri": "https://localhost:8080/",
          "height": 0
        },
        "id": "RG5fIfyw4_e3",
        "outputId": "f870dc1d-7e83-4bf9-dc38-30074a8fb9b4"
      },
      "execution_count": 50,
      "outputs": [
        {
          "output_type": "execute_result",
          "data": {
            "text/plain": [
              "              Age         Sex  ChestPainType   RestingBP  Cholesterol  \\\n",
              "count  917.000000  917.000000     917.000000  917.000000   917.000000   \n",
              "mean    53.509269    0.210469       2.251908  132.540894   244.635389   \n",
              "std      9.437636    0.407864       0.931502   17.999749    53.347125   \n",
              "min     28.000000    0.000000       0.000000   80.000000    85.000000   \n",
              "25%     47.000000    0.000000       2.000000  120.000000   214.000000   \n",
              "50%     54.000000    0.000000       3.000000  130.000000   244.635389   \n",
              "75%     60.000000    0.000000       3.000000  140.000000   267.000000   \n",
              "max     77.000000    1.000000       3.000000  200.000000   603.000000   \n",
              "\n",
              "        FastingBS  RestingECG       MaxHR  ExerciseAngina     Oldpeak  \\\n",
              "count  917.000000  917.000000  917.000000      917.000000  917.000000   \n",
              "mean     0.233370    0.604144  136.789531        0.404580    0.886696   \n",
              "std      0.423206    0.806161   25.467129        0.491078    1.066960   \n",
              "min      0.000000    0.000000   60.000000        0.000000   -2.600000   \n",
              "25%      0.000000    0.000000  120.000000        0.000000    0.000000   \n",
              "50%      0.000000    0.000000  138.000000        0.000000    0.600000   \n",
              "75%      0.000000    1.000000  156.000000        1.000000    1.500000   \n",
              "max      1.000000    2.000000  202.000000        1.000000    6.200000   \n",
              "\n",
              "        ST_Slope  HeartDisease  \n",
              "count  917.00000    917.000000  \n",
              "mean     0.63795      0.552890  \n",
              "std      0.60727      0.497466  \n",
              "min      0.00000      0.000000  \n",
              "25%      0.00000      0.000000  \n",
              "50%      1.00000      1.000000  \n",
              "75%      1.00000      1.000000  \n",
              "max      2.00000      1.000000  "
            ],
            "text/html": [
              "\n",
              "  <div id=\"df-c4e063b2-89cf-47e5-b55e-77f7f70dcc3e\">\n",
              "    <div class=\"colab-df-container\">\n",
              "      <div>\n",
              "<style scoped>\n",
              "    .dataframe tbody tr th:only-of-type {\n",
              "        vertical-align: middle;\n",
              "    }\n",
              "\n",
              "    .dataframe tbody tr th {\n",
              "        vertical-align: top;\n",
              "    }\n",
              "\n",
              "    .dataframe thead th {\n",
              "        text-align: right;\n",
              "    }\n",
              "</style>\n",
              "<table border=\"1\" class=\"dataframe\">\n",
              "  <thead>\n",
              "    <tr style=\"text-align: right;\">\n",
              "      <th></th>\n",
              "      <th>Age</th>\n",
              "      <th>Sex</th>\n",
              "      <th>ChestPainType</th>\n",
              "      <th>RestingBP</th>\n",
              "      <th>Cholesterol</th>\n",
              "      <th>FastingBS</th>\n",
              "      <th>RestingECG</th>\n",
              "      <th>MaxHR</th>\n",
              "      <th>ExerciseAngina</th>\n",
              "      <th>Oldpeak</th>\n",
              "      <th>ST_Slope</th>\n",
              "      <th>HeartDisease</th>\n",
              "    </tr>\n",
              "  </thead>\n",
              "  <tbody>\n",
              "    <tr>\n",
              "      <th>count</th>\n",
              "      <td>917.000000</td>\n",
              "      <td>917.000000</td>\n",
              "      <td>917.000000</td>\n",
              "      <td>917.000000</td>\n",
              "      <td>917.000000</td>\n",
              "      <td>917.000000</td>\n",
              "      <td>917.000000</td>\n",
              "      <td>917.000000</td>\n",
              "      <td>917.000000</td>\n",
              "      <td>917.000000</td>\n",
              "      <td>917.00000</td>\n",
              "      <td>917.000000</td>\n",
              "    </tr>\n",
              "    <tr>\n",
              "      <th>mean</th>\n",
              "      <td>53.509269</td>\n",
              "      <td>0.210469</td>\n",
              "      <td>2.251908</td>\n",
              "      <td>132.540894</td>\n",
              "      <td>244.635389</td>\n",
              "      <td>0.233370</td>\n",
              "      <td>0.604144</td>\n",
              "      <td>136.789531</td>\n",
              "      <td>0.404580</td>\n",
              "      <td>0.886696</td>\n",
              "      <td>0.63795</td>\n",
              "      <td>0.552890</td>\n",
              "    </tr>\n",
              "    <tr>\n",
              "      <th>std</th>\n",
              "      <td>9.437636</td>\n",
              "      <td>0.407864</td>\n",
              "      <td>0.931502</td>\n",
              "      <td>17.999749</td>\n",
              "      <td>53.347125</td>\n",
              "      <td>0.423206</td>\n",
              "      <td>0.806161</td>\n",
              "      <td>25.467129</td>\n",
              "      <td>0.491078</td>\n",
              "      <td>1.066960</td>\n",
              "      <td>0.60727</td>\n",
              "      <td>0.497466</td>\n",
              "    </tr>\n",
              "    <tr>\n",
              "      <th>min</th>\n",
              "      <td>28.000000</td>\n",
              "      <td>0.000000</td>\n",
              "      <td>0.000000</td>\n",
              "      <td>80.000000</td>\n",
              "      <td>85.000000</td>\n",
              "      <td>0.000000</td>\n",
              "      <td>0.000000</td>\n",
              "      <td>60.000000</td>\n",
              "      <td>0.000000</td>\n",
              "      <td>-2.600000</td>\n",
              "      <td>0.00000</td>\n",
              "      <td>0.000000</td>\n",
              "    </tr>\n",
              "    <tr>\n",
              "      <th>25%</th>\n",
              "      <td>47.000000</td>\n",
              "      <td>0.000000</td>\n",
              "      <td>2.000000</td>\n",
              "      <td>120.000000</td>\n",
              "      <td>214.000000</td>\n",
              "      <td>0.000000</td>\n",
              "      <td>0.000000</td>\n",
              "      <td>120.000000</td>\n",
              "      <td>0.000000</td>\n",
              "      <td>0.000000</td>\n",
              "      <td>0.00000</td>\n",
              "      <td>0.000000</td>\n",
              "    </tr>\n",
              "    <tr>\n",
              "      <th>50%</th>\n",
              "      <td>54.000000</td>\n",
              "      <td>0.000000</td>\n",
              "      <td>3.000000</td>\n",
              "      <td>130.000000</td>\n",
              "      <td>244.635389</td>\n",
              "      <td>0.000000</td>\n",
              "      <td>0.000000</td>\n",
              "      <td>138.000000</td>\n",
              "      <td>0.000000</td>\n",
              "      <td>0.600000</td>\n",
              "      <td>1.00000</td>\n",
              "      <td>1.000000</td>\n",
              "    </tr>\n",
              "    <tr>\n",
              "      <th>75%</th>\n",
              "      <td>60.000000</td>\n",
              "      <td>0.000000</td>\n",
              "      <td>3.000000</td>\n",
              "      <td>140.000000</td>\n",
              "      <td>267.000000</td>\n",
              "      <td>0.000000</td>\n",
              "      <td>1.000000</td>\n",
              "      <td>156.000000</td>\n",
              "      <td>1.000000</td>\n",
              "      <td>1.500000</td>\n",
              "      <td>1.00000</td>\n",
              "      <td>1.000000</td>\n",
              "    </tr>\n",
              "    <tr>\n",
              "      <th>max</th>\n",
              "      <td>77.000000</td>\n",
              "      <td>1.000000</td>\n",
              "      <td>3.000000</td>\n",
              "      <td>200.000000</td>\n",
              "      <td>603.000000</td>\n",
              "      <td>1.000000</td>\n",
              "      <td>2.000000</td>\n",
              "      <td>202.000000</td>\n",
              "      <td>1.000000</td>\n",
              "      <td>6.200000</td>\n",
              "      <td>2.00000</td>\n",
              "      <td>1.000000</td>\n",
              "    </tr>\n",
              "  </tbody>\n",
              "</table>\n",
              "</div>\n",
              "      <button class=\"colab-df-convert\" onclick=\"convertToInteractive('df-c4e063b2-89cf-47e5-b55e-77f7f70dcc3e')\"\n",
              "              title=\"Convert this dataframe to an interactive table.\"\n",
              "              style=\"display:none;\">\n",
              "        \n",
              "  <svg xmlns=\"http://www.w3.org/2000/svg\" height=\"24px\"viewBox=\"0 0 24 24\"\n",
              "       width=\"24px\">\n",
              "    <path d=\"M0 0h24v24H0V0z\" fill=\"none\"/>\n",
              "    <path d=\"M18.56 5.44l.94 2.06.94-2.06 2.06-.94-2.06-.94-.94-2.06-.94 2.06-2.06.94zm-11 1L8.5 8.5l.94-2.06 2.06-.94-2.06-.94L8.5 2.5l-.94 2.06-2.06.94zm10 10l.94 2.06.94-2.06 2.06-.94-2.06-.94-.94-2.06-.94 2.06-2.06.94z\"/><path d=\"M17.41 7.96l-1.37-1.37c-.4-.4-.92-.59-1.43-.59-.52 0-1.04.2-1.43.59L10.3 9.45l-7.72 7.72c-.78.78-.78 2.05 0 2.83L4 21.41c.39.39.9.59 1.41.59.51 0 1.02-.2 1.41-.59l7.78-7.78 2.81-2.81c.8-.78.8-2.07 0-2.86zM5.41 20L4 18.59l7.72-7.72 1.47 1.35L5.41 20z\"/>\n",
              "  </svg>\n",
              "      </button>\n",
              "      \n",
              "  <style>\n",
              "    .colab-df-container {\n",
              "      display:flex;\n",
              "      flex-wrap:wrap;\n",
              "      gap: 12px;\n",
              "    }\n",
              "\n",
              "    .colab-df-convert {\n",
              "      background-color: #E8F0FE;\n",
              "      border: none;\n",
              "      border-radius: 50%;\n",
              "      cursor: pointer;\n",
              "      display: none;\n",
              "      fill: #1967D2;\n",
              "      height: 32px;\n",
              "      padding: 0 0 0 0;\n",
              "      width: 32px;\n",
              "    }\n",
              "\n",
              "    .colab-df-convert:hover {\n",
              "      background-color: #E2EBFA;\n",
              "      box-shadow: 0px 1px 2px rgba(60, 64, 67, 0.3), 0px 1px 3px 1px rgba(60, 64, 67, 0.15);\n",
              "      fill: #174EA6;\n",
              "    }\n",
              "\n",
              "    [theme=dark] .colab-df-convert {\n",
              "      background-color: #3B4455;\n",
              "      fill: #D2E3FC;\n",
              "    }\n",
              "\n",
              "    [theme=dark] .colab-df-convert:hover {\n",
              "      background-color: #434B5C;\n",
              "      box-shadow: 0px 1px 3px 1px rgba(0, 0, 0, 0.15);\n",
              "      filter: drop-shadow(0px 1px 2px rgba(0, 0, 0, 0.3));\n",
              "      fill: #FFFFFF;\n",
              "    }\n",
              "  </style>\n",
              "\n",
              "      <script>\n",
              "        const buttonEl =\n",
              "          document.querySelector('#df-c4e063b2-89cf-47e5-b55e-77f7f70dcc3e button.colab-df-convert');\n",
              "        buttonEl.style.display =\n",
              "          google.colab.kernel.accessAllowed ? 'block' : 'none';\n",
              "\n",
              "        async function convertToInteractive(key) {\n",
              "          const element = document.querySelector('#df-c4e063b2-89cf-47e5-b55e-77f7f70dcc3e');\n",
              "          const dataTable =\n",
              "            await google.colab.kernel.invokeFunction('convertToInteractive',\n",
              "                                                     [key], {});\n",
              "          if (!dataTable) return;\n",
              "\n",
              "          const docLinkHtml = 'Like what you see? Visit the ' +\n",
              "            '<a target=\"_blank\" href=https://colab.research.google.com/notebooks/data_table.ipynb>data table notebook</a>'\n",
              "            + ' to learn more about interactive tables.';\n",
              "          element.innerHTML = '';\n",
              "          dataTable['output_type'] = 'display_data';\n",
              "          await google.colab.output.renderOutput(dataTable, element);\n",
              "          const docLink = document.createElement('div');\n",
              "          docLink.innerHTML = docLinkHtml;\n",
              "          element.appendChild(docLink);\n",
              "        }\n",
              "      </script>\n",
              "    </div>\n",
              "  </div>\n",
              "  "
            ]
          },
          "metadata": {},
          "execution_count": 50
        }
      ]
    },
    {
      "cell_type": "code",
      "source": [
        "# importando o SKLEARN e seu subpacote StandardScaler para fazer a conversão de escalas baseado em PADRONIZAÇÃO\n",
        "from sklearn.preprocessing import StandardScaler"
      ],
      "metadata": {
        "id": "HEWbwlOL5yw8"
      },
      "execution_count": 51,
      "outputs": []
    },
    {
      "cell_type": "code",
      "source": [
        "# Criando uma nova variavel para receber a conversão\n",
        "previsores_esc = StandardScaler().fit_transform(previsores)"
      ],
      "metadata": {
        "id": "UjzDctXt6JjN"
      },
      "execution_count": 52,
      "outputs": []
    },
    {
      "cell_type": "code",
      "source": [
        "previsores_esc"
      ],
      "metadata": {
        "colab": {
          "base_uri": "https://localhost:8080/"
        },
        "id": "45cYqVQg8byb",
        "outputId": "46555291-6bb7-4466-f3bc-dd2d7a7adff1"
      },
      "execution_count": 53,
      "outputs": [
        {
          "output_type": "execute_result",
          "data": {
            "text/plain": [
              "array([[-1.43220634, -0.51630861, -1.34470119, ..., -0.82431012,\n",
              "        -0.83150225, -1.05109458],\n",
              "       [-0.47805725,  1.9368261 , -0.27058012, ..., -0.82431012,\n",
              "         0.10625149,  0.59651863],\n",
              "       [-1.75025603, -0.51630861, -1.34470119, ..., -0.82431012,\n",
              "        -0.83150225, -1.05109458],\n",
              "       ...,\n",
              "       [ 0.37007527, -0.51630861,  0.80354095, ...,  1.21313565,\n",
              "         0.29380223,  0.59651863],\n",
              "       [ 0.37007527,  1.9368261 , -1.34470119, ..., -0.82431012,\n",
              "        -0.83150225,  0.59651863],\n",
              "       [-1.64423947, -0.51630861, -0.27058012, ..., -0.82431012,\n",
              "        -0.83150225, -1.05109458]])"
            ]
          },
          "metadata": {},
          "execution_count": 53
        }
      ]
    },
    {
      "cell_type": "code",
      "source": [
        "previsoresdf = pd.DataFrame(previsores_esc)"
      ],
      "metadata": {
        "id": "JLO4220d8nBl"
      },
      "execution_count": 54,
      "outputs": []
    },
    {
      "cell_type": "code",
      "source": [
        "previsoresdf"
      ],
      "metadata": {
        "colab": {
          "base_uri": "https://localhost:8080/",
          "height": 0
        },
        "id": "KDuSJHvq8x1b",
        "outputId": "cdceb78f-51dc-404c-e007-38df904cab64"
      },
      "execution_count": 55,
      "outputs": [
        {
          "output_type": "execute_result",
          "data": {
            "text/plain": [
              "           0         1         2         3         4         5         6   \\\n",
              "0   -1.432206 -0.516309 -1.344701  0.414627  0.832075 -0.551733 -0.749818   \n",
              "1   -0.478057  1.936826 -0.270580  1.526360 -1.212261 -0.551733 -0.749818   \n",
              "2   -1.750256 -0.516309 -1.344701 -0.141240  0.719543 -0.551733  0.491306   \n",
              "3   -0.584074  1.936826  0.803541  0.303453 -0.574578 -0.551733 -0.749818   \n",
              "4    0.052026 -0.516309 -0.270580  0.970493 -0.930931 -0.551733 -0.749818   \n",
              "..        ...       ...       ...       ...       ...       ...       ...   \n",
              "912 -0.902124 -0.516309 -2.418822 -1.252973  0.363191 -0.551733 -0.749818   \n",
              "913  1.536257 -0.516309  0.803541  0.636973 -0.968441  1.812470 -0.749818   \n",
              "914  0.370075 -0.516309  0.803541 -0.141240 -2.131275 -0.551733 -0.749818   \n",
              "915  0.370075  1.936826 -1.344701 -0.141240 -0.161960 -0.551733  1.732430   \n",
              "916 -1.644239 -0.516309 -0.270580  0.303453 -1.306038 -0.551733 -0.749818   \n",
              "\n",
              "           7         8         9         10  \n",
              "0    1.383339 -0.824310 -0.831502 -1.051095  \n",
              "1    0.754736 -0.824310  0.106251  0.596519  \n",
              "2   -1.523953 -0.824310 -0.831502 -1.051095  \n",
              "3   -1.131075  1.213136  0.575128  0.596519  \n",
              "4   -0.581047 -0.824310 -0.831502 -1.051095  \n",
              "..        ...       ...       ...       ...  \n",
              "912 -0.188170 -0.824310  0.293802  0.596519  \n",
              "913  0.165420 -0.824310  2.356860  0.596519  \n",
              "914 -0.856061  1.213136  0.293802  0.596519  \n",
              "915  1.461915 -0.824310 -0.831502  0.596519  \n",
              "916  1.422627 -0.824310 -0.831502 -1.051095  \n",
              "\n",
              "[917 rows x 11 columns]"
            ],
            "text/html": [
              "\n",
              "  <div id=\"df-682f68b8-3c6b-4f58-907f-5517f7abca37\">\n",
              "    <div class=\"colab-df-container\">\n",
              "      <div>\n",
              "<style scoped>\n",
              "    .dataframe tbody tr th:only-of-type {\n",
              "        vertical-align: middle;\n",
              "    }\n",
              "\n",
              "    .dataframe tbody tr th {\n",
              "        vertical-align: top;\n",
              "    }\n",
              "\n",
              "    .dataframe thead th {\n",
              "        text-align: right;\n",
              "    }\n",
              "</style>\n",
              "<table border=\"1\" class=\"dataframe\">\n",
              "  <thead>\n",
              "    <tr style=\"text-align: right;\">\n",
              "      <th></th>\n",
              "      <th>0</th>\n",
              "      <th>1</th>\n",
              "      <th>2</th>\n",
              "      <th>3</th>\n",
              "      <th>4</th>\n",
              "      <th>5</th>\n",
              "      <th>6</th>\n",
              "      <th>7</th>\n",
              "      <th>8</th>\n",
              "      <th>9</th>\n",
              "      <th>10</th>\n",
              "    </tr>\n",
              "  </thead>\n",
              "  <tbody>\n",
              "    <tr>\n",
              "      <th>0</th>\n",
              "      <td>-1.432206</td>\n",
              "      <td>-0.516309</td>\n",
              "      <td>-1.344701</td>\n",
              "      <td>0.414627</td>\n",
              "      <td>0.832075</td>\n",
              "      <td>-0.551733</td>\n",
              "      <td>-0.749818</td>\n",
              "      <td>1.383339</td>\n",
              "      <td>-0.824310</td>\n",
              "      <td>-0.831502</td>\n",
              "      <td>-1.051095</td>\n",
              "    </tr>\n",
              "    <tr>\n",
              "      <th>1</th>\n",
              "      <td>-0.478057</td>\n",
              "      <td>1.936826</td>\n",
              "      <td>-0.270580</td>\n",
              "      <td>1.526360</td>\n",
              "      <td>-1.212261</td>\n",
              "      <td>-0.551733</td>\n",
              "      <td>-0.749818</td>\n",
              "      <td>0.754736</td>\n",
              "      <td>-0.824310</td>\n",
              "      <td>0.106251</td>\n",
              "      <td>0.596519</td>\n",
              "    </tr>\n",
              "    <tr>\n",
              "      <th>2</th>\n",
              "      <td>-1.750256</td>\n",
              "      <td>-0.516309</td>\n",
              "      <td>-1.344701</td>\n",
              "      <td>-0.141240</td>\n",
              "      <td>0.719543</td>\n",
              "      <td>-0.551733</td>\n",
              "      <td>0.491306</td>\n",
              "      <td>-1.523953</td>\n",
              "      <td>-0.824310</td>\n",
              "      <td>-0.831502</td>\n",
              "      <td>-1.051095</td>\n",
              "    </tr>\n",
              "    <tr>\n",
              "      <th>3</th>\n",
              "      <td>-0.584074</td>\n",
              "      <td>1.936826</td>\n",
              "      <td>0.803541</td>\n",
              "      <td>0.303453</td>\n",
              "      <td>-0.574578</td>\n",
              "      <td>-0.551733</td>\n",
              "      <td>-0.749818</td>\n",
              "      <td>-1.131075</td>\n",
              "      <td>1.213136</td>\n",
              "      <td>0.575128</td>\n",
              "      <td>0.596519</td>\n",
              "    </tr>\n",
              "    <tr>\n",
              "      <th>4</th>\n",
              "      <td>0.052026</td>\n",
              "      <td>-0.516309</td>\n",
              "      <td>-0.270580</td>\n",
              "      <td>0.970493</td>\n",
              "      <td>-0.930931</td>\n",
              "      <td>-0.551733</td>\n",
              "      <td>-0.749818</td>\n",
              "      <td>-0.581047</td>\n",
              "      <td>-0.824310</td>\n",
              "      <td>-0.831502</td>\n",
              "      <td>-1.051095</td>\n",
              "    </tr>\n",
              "    <tr>\n",
              "      <th>...</th>\n",
              "      <td>...</td>\n",
              "      <td>...</td>\n",
              "      <td>...</td>\n",
              "      <td>...</td>\n",
              "      <td>...</td>\n",
              "      <td>...</td>\n",
              "      <td>...</td>\n",
              "      <td>...</td>\n",
              "      <td>...</td>\n",
              "      <td>...</td>\n",
              "      <td>...</td>\n",
              "    </tr>\n",
              "    <tr>\n",
              "      <th>912</th>\n",
              "      <td>-0.902124</td>\n",
              "      <td>-0.516309</td>\n",
              "      <td>-2.418822</td>\n",
              "      <td>-1.252973</td>\n",
              "      <td>0.363191</td>\n",
              "      <td>-0.551733</td>\n",
              "      <td>-0.749818</td>\n",
              "      <td>-0.188170</td>\n",
              "      <td>-0.824310</td>\n",
              "      <td>0.293802</td>\n",
              "      <td>0.596519</td>\n",
              "    </tr>\n",
              "    <tr>\n",
              "      <th>913</th>\n",
              "      <td>1.536257</td>\n",
              "      <td>-0.516309</td>\n",
              "      <td>0.803541</td>\n",
              "      <td>0.636973</td>\n",
              "      <td>-0.968441</td>\n",
              "      <td>1.812470</td>\n",
              "      <td>-0.749818</td>\n",
              "      <td>0.165420</td>\n",
              "      <td>-0.824310</td>\n",
              "      <td>2.356860</td>\n",
              "      <td>0.596519</td>\n",
              "    </tr>\n",
              "    <tr>\n",
              "      <th>914</th>\n",
              "      <td>0.370075</td>\n",
              "      <td>-0.516309</td>\n",
              "      <td>0.803541</td>\n",
              "      <td>-0.141240</td>\n",
              "      <td>-2.131275</td>\n",
              "      <td>-0.551733</td>\n",
              "      <td>-0.749818</td>\n",
              "      <td>-0.856061</td>\n",
              "      <td>1.213136</td>\n",
              "      <td>0.293802</td>\n",
              "      <td>0.596519</td>\n",
              "    </tr>\n",
              "    <tr>\n",
              "      <th>915</th>\n",
              "      <td>0.370075</td>\n",
              "      <td>1.936826</td>\n",
              "      <td>-1.344701</td>\n",
              "      <td>-0.141240</td>\n",
              "      <td>-0.161960</td>\n",
              "      <td>-0.551733</td>\n",
              "      <td>1.732430</td>\n",
              "      <td>1.461915</td>\n",
              "      <td>-0.824310</td>\n",
              "      <td>-0.831502</td>\n",
              "      <td>0.596519</td>\n",
              "    </tr>\n",
              "    <tr>\n",
              "      <th>916</th>\n",
              "      <td>-1.644239</td>\n",
              "      <td>-0.516309</td>\n",
              "      <td>-0.270580</td>\n",
              "      <td>0.303453</td>\n",
              "      <td>-1.306038</td>\n",
              "      <td>-0.551733</td>\n",
              "      <td>-0.749818</td>\n",
              "      <td>1.422627</td>\n",
              "      <td>-0.824310</td>\n",
              "      <td>-0.831502</td>\n",
              "      <td>-1.051095</td>\n",
              "    </tr>\n",
              "  </tbody>\n",
              "</table>\n",
              "<p>917 rows × 11 columns</p>\n",
              "</div>\n",
              "      <button class=\"colab-df-convert\" onclick=\"convertToInteractive('df-682f68b8-3c6b-4f58-907f-5517f7abca37')\"\n",
              "              title=\"Convert this dataframe to an interactive table.\"\n",
              "              style=\"display:none;\">\n",
              "        \n",
              "  <svg xmlns=\"http://www.w3.org/2000/svg\" height=\"24px\"viewBox=\"0 0 24 24\"\n",
              "       width=\"24px\">\n",
              "    <path d=\"M0 0h24v24H0V0z\" fill=\"none\"/>\n",
              "    <path d=\"M18.56 5.44l.94 2.06.94-2.06 2.06-.94-2.06-.94-.94-2.06-.94 2.06-2.06.94zm-11 1L8.5 8.5l.94-2.06 2.06-.94-2.06-.94L8.5 2.5l-.94 2.06-2.06.94zm10 10l.94 2.06.94-2.06 2.06-.94-2.06-.94-.94-2.06-.94 2.06-2.06.94z\"/><path d=\"M17.41 7.96l-1.37-1.37c-.4-.4-.92-.59-1.43-.59-.52 0-1.04.2-1.43.59L10.3 9.45l-7.72 7.72c-.78.78-.78 2.05 0 2.83L4 21.41c.39.39.9.59 1.41.59.51 0 1.02-.2 1.41-.59l7.78-7.78 2.81-2.81c.8-.78.8-2.07 0-2.86zM5.41 20L4 18.59l7.72-7.72 1.47 1.35L5.41 20z\"/>\n",
              "  </svg>\n",
              "      </button>\n",
              "      \n",
              "  <style>\n",
              "    .colab-df-container {\n",
              "      display:flex;\n",
              "      flex-wrap:wrap;\n",
              "      gap: 12px;\n",
              "    }\n",
              "\n",
              "    .colab-df-convert {\n",
              "      background-color: #E8F0FE;\n",
              "      border: none;\n",
              "      border-radius: 50%;\n",
              "      cursor: pointer;\n",
              "      display: none;\n",
              "      fill: #1967D2;\n",
              "      height: 32px;\n",
              "      padding: 0 0 0 0;\n",
              "      width: 32px;\n",
              "    }\n",
              "\n",
              "    .colab-df-convert:hover {\n",
              "      background-color: #E2EBFA;\n",
              "      box-shadow: 0px 1px 2px rgba(60, 64, 67, 0.3), 0px 1px 3px 1px rgba(60, 64, 67, 0.15);\n",
              "      fill: #174EA6;\n",
              "    }\n",
              "\n",
              "    [theme=dark] .colab-df-convert {\n",
              "      background-color: #3B4455;\n",
              "      fill: #D2E3FC;\n",
              "    }\n",
              "\n",
              "    [theme=dark] .colab-df-convert:hover {\n",
              "      background-color: #434B5C;\n",
              "      box-shadow: 0px 1px 3px 1px rgba(0, 0, 0, 0.15);\n",
              "      filter: drop-shadow(0px 1px 2px rgba(0, 0, 0, 0.3));\n",
              "      fill: #FFFFFF;\n",
              "    }\n",
              "  </style>\n",
              "\n",
              "      <script>\n",
              "        const buttonEl =\n",
              "          document.querySelector('#df-682f68b8-3c6b-4f58-907f-5517f7abca37 button.colab-df-convert');\n",
              "        buttonEl.style.display =\n",
              "          google.colab.kernel.accessAllowed ? 'block' : 'none';\n",
              "\n",
              "        async function convertToInteractive(key) {\n",
              "          const element = document.querySelector('#df-682f68b8-3c6b-4f58-907f-5517f7abca37');\n",
              "          const dataTable =\n",
              "            await google.colab.kernel.invokeFunction('convertToInteractive',\n",
              "                                                     [key], {});\n",
              "          if (!dataTable) return;\n",
              "\n",
              "          const docLinkHtml = 'Like what you see? Visit the ' +\n",
              "            '<a target=\"_blank\" href=https://colab.research.google.com/notebooks/data_table.ipynb>data table notebook</a>'\n",
              "            + ' to learn more about interactive tables.';\n",
              "          element.innerHTML = '';\n",
              "          dataTable['output_type'] = 'display_data';\n",
              "          await google.colab.output.renderOutput(dataTable, element);\n",
              "          const docLink = document.createElement('div');\n",
              "          docLink.innerHTML = docLinkHtml;\n",
              "          element.appendChild(docLink);\n",
              "        }\n",
              "      </script>\n",
              "    </div>\n",
              "  </div>\n",
              "  "
            ]
          },
          "metadata": {},
          "execution_count": 55
        }
      ]
    },
    {
      "cell_type": "code",
      "source": [
        "previsoresdf.describe()"
      ],
      "metadata": {
        "colab": {
          "base_uri": "https://localhost:8080/",
          "height": 0
        },
        "id": "FW6mArZC80Hq",
        "outputId": "f41851ca-0d26-47b0-bd85-8caa05381cfd"
      },
      "execution_count": 56,
      "outputs": [
        {
          "output_type": "execute_result",
          "data": {
            "text/plain": [
              "                 0             1             2             3             4   \\\n",
              "count  9.170000e+02  9.170000e+02  9.170000e+02  9.170000e+02  9.170000e+02   \n",
              "mean   1.859654e-16  7.748558e-18  1.046055e-16  7.767929e-16 -1.869340e-16   \n",
              "std    1.000546e+00  1.000546e+00  1.000546e+00  1.000546e+00  1.000546e+00   \n",
              "min   -2.704405e+00 -5.163086e-01 -2.418822e+00 -2.920572e+00 -2.994023e+00   \n",
              "25%   -6.900904e-01 -5.163086e-01 -2.705801e-01 -6.971063e-01 -5.745784e-01   \n",
              "50%    5.202558e-02 -5.163086e-01  8.035410e-01 -1.412398e-01  0.000000e+00   \n",
              "75%    6.881250e-01 -5.163086e-01  8.035410e-01  4.146267e-01  4.194568e-01   \n",
              "max    2.490407e+00  1.936826e+00  8.035410e-01  3.749826e+00  6.721265e+00   \n",
              "\n",
              "                 5           6             7             8             9   \\\n",
              "count  9.170000e+02  917.000000  9.170000e+02  9.170000e+02  9.170000e+02   \n",
              "mean   4.649135e-17    0.000000 -5.114048e-16 -1.046055e-16  7.748558e-17   \n",
              "std    1.000546e+00    1.000546  1.000546e+00  1.000546e+00  1.000546e+00   \n",
              "min   -5.517333e-01   -0.749818 -3.016886e+00 -8.243101e-01 -3.269662e+00   \n",
              "25%   -5.517333e-01   -0.749818 -6.596226e-01 -8.243101e-01 -8.315022e-01   \n",
              "50%   -5.517333e-01   -0.749818  4.755658e-02 -8.243101e-01 -2.688500e-01   \n",
              "75%   -5.517333e-01    0.491306  7.547357e-01  1.213136e+00  5.751284e-01   \n",
              "max    1.812470e+00    1.732430  2.561971e+00  1.213136e+00  4.982571e+00   \n",
              "\n",
              "                 10  \n",
              "count  9.170000e+02  \n",
              "mean  -3.874279e-17  \n",
              "std    1.000546e+00  \n",
              "min   -1.051095e+00  \n",
              "25%   -1.051095e+00  \n",
              "50%    5.965186e-01  \n",
              "75%    5.965186e-01  \n",
              "max    2.244132e+00  "
            ],
            "text/html": [
              "\n",
              "  <div id=\"df-590ec293-0742-41ec-9d19-daef703af168\">\n",
              "    <div class=\"colab-df-container\">\n",
              "      <div>\n",
              "<style scoped>\n",
              "    .dataframe tbody tr th:only-of-type {\n",
              "        vertical-align: middle;\n",
              "    }\n",
              "\n",
              "    .dataframe tbody tr th {\n",
              "        vertical-align: top;\n",
              "    }\n",
              "\n",
              "    .dataframe thead th {\n",
              "        text-align: right;\n",
              "    }\n",
              "</style>\n",
              "<table border=\"1\" class=\"dataframe\">\n",
              "  <thead>\n",
              "    <tr style=\"text-align: right;\">\n",
              "      <th></th>\n",
              "      <th>0</th>\n",
              "      <th>1</th>\n",
              "      <th>2</th>\n",
              "      <th>3</th>\n",
              "      <th>4</th>\n",
              "      <th>5</th>\n",
              "      <th>6</th>\n",
              "      <th>7</th>\n",
              "      <th>8</th>\n",
              "      <th>9</th>\n",
              "      <th>10</th>\n",
              "    </tr>\n",
              "  </thead>\n",
              "  <tbody>\n",
              "    <tr>\n",
              "      <th>count</th>\n",
              "      <td>9.170000e+02</td>\n",
              "      <td>9.170000e+02</td>\n",
              "      <td>9.170000e+02</td>\n",
              "      <td>9.170000e+02</td>\n",
              "      <td>9.170000e+02</td>\n",
              "      <td>9.170000e+02</td>\n",
              "      <td>917.000000</td>\n",
              "      <td>9.170000e+02</td>\n",
              "      <td>9.170000e+02</td>\n",
              "      <td>9.170000e+02</td>\n",
              "      <td>9.170000e+02</td>\n",
              "    </tr>\n",
              "    <tr>\n",
              "      <th>mean</th>\n",
              "      <td>1.859654e-16</td>\n",
              "      <td>7.748558e-18</td>\n",
              "      <td>1.046055e-16</td>\n",
              "      <td>7.767929e-16</td>\n",
              "      <td>-1.869340e-16</td>\n",
              "      <td>4.649135e-17</td>\n",
              "      <td>0.000000</td>\n",
              "      <td>-5.114048e-16</td>\n",
              "      <td>-1.046055e-16</td>\n",
              "      <td>7.748558e-17</td>\n",
              "      <td>-3.874279e-17</td>\n",
              "    </tr>\n",
              "    <tr>\n",
              "      <th>std</th>\n",
              "      <td>1.000546e+00</td>\n",
              "      <td>1.000546e+00</td>\n",
              "      <td>1.000546e+00</td>\n",
              "      <td>1.000546e+00</td>\n",
              "      <td>1.000546e+00</td>\n",
              "      <td>1.000546e+00</td>\n",
              "      <td>1.000546</td>\n",
              "      <td>1.000546e+00</td>\n",
              "      <td>1.000546e+00</td>\n",
              "      <td>1.000546e+00</td>\n",
              "      <td>1.000546e+00</td>\n",
              "    </tr>\n",
              "    <tr>\n",
              "      <th>min</th>\n",
              "      <td>-2.704405e+00</td>\n",
              "      <td>-5.163086e-01</td>\n",
              "      <td>-2.418822e+00</td>\n",
              "      <td>-2.920572e+00</td>\n",
              "      <td>-2.994023e+00</td>\n",
              "      <td>-5.517333e-01</td>\n",
              "      <td>-0.749818</td>\n",
              "      <td>-3.016886e+00</td>\n",
              "      <td>-8.243101e-01</td>\n",
              "      <td>-3.269662e+00</td>\n",
              "      <td>-1.051095e+00</td>\n",
              "    </tr>\n",
              "    <tr>\n",
              "      <th>25%</th>\n",
              "      <td>-6.900904e-01</td>\n",
              "      <td>-5.163086e-01</td>\n",
              "      <td>-2.705801e-01</td>\n",
              "      <td>-6.971063e-01</td>\n",
              "      <td>-5.745784e-01</td>\n",
              "      <td>-5.517333e-01</td>\n",
              "      <td>-0.749818</td>\n",
              "      <td>-6.596226e-01</td>\n",
              "      <td>-8.243101e-01</td>\n",
              "      <td>-8.315022e-01</td>\n",
              "      <td>-1.051095e+00</td>\n",
              "    </tr>\n",
              "    <tr>\n",
              "      <th>50%</th>\n",
              "      <td>5.202558e-02</td>\n",
              "      <td>-5.163086e-01</td>\n",
              "      <td>8.035410e-01</td>\n",
              "      <td>-1.412398e-01</td>\n",
              "      <td>0.000000e+00</td>\n",
              "      <td>-5.517333e-01</td>\n",
              "      <td>-0.749818</td>\n",
              "      <td>4.755658e-02</td>\n",
              "      <td>-8.243101e-01</td>\n",
              "      <td>-2.688500e-01</td>\n",
              "      <td>5.965186e-01</td>\n",
              "    </tr>\n",
              "    <tr>\n",
              "      <th>75%</th>\n",
              "      <td>6.881250e-01</td>\n",
              "      <td>-5.163086e-01</td>\n",
              "      <td>8.035410e-01</td>\n",
              "      <td>4.146267e-01</td>\n",
              "      <td>4.194568e-01</td>\n",
              "      <td>-5.517333e-01</td>\n",
              "      <td>0.491306</td>\n",
              "      <td>7.547357e-01</td>\n",
              "      <td>1.213136e+00</td>\n",
              "      <td>5.751284e-01</td>\n",
              "      <td>5.965186e-01</td>\n",
              "    </tr>\n",
              "    <tr>\n",
              "      <th>max</th>\n",
              "      <td>2.490407e+00</td>\n",
              "      <td>1.936826e+00</td>\n",
              "      <td>8.035410e-01</td>\n",
              "      <td>3.749826e+00</td>\n",
              "      <td>6.721265e+00</td>\n",
              "      <td>1.812470e+00</td>\n",
              "      <td>1.732430</td>\n",
              "      <td>2.561971e+00</td>\n",
              "      <td>1.213136e+00</td>\n",
              "      <td>4.982571e+00</td>\n",
              "      <td>2.244132e+00</td>\n",
              "    </tr>\n",
              "  </tbody>\n",
              "</table>\n",
              "</div>\n",
              "      <button class=\"colab-df-convert\" onclick=\"convertToInteractive('df-590ec293-0742-41ec-9d19-daef703af168')\"\n",
              "              title=\"Convert this dataframe to an interactive table.\"\n",
              "              style=\"display:none;\">\n",
              "        \n",
              "  <svg xmlns=\"http://www.w3.org/2000/svg\" height=\"24px\"viewBox=\"0 0 24 24\"\n",
              "       width=\"24px\">\n",
              "    <path d=\"M0 0h24v24H0V0z\" fill=\"none\"/>\n",
              "    <path d=\"M18.56 5.44l.94 2.06.94-2.06 2.06-.94-2.06-.94-.94-2.06-.94 2.06-2.06.94zm-11 1L8.5 8.5l.94-2.06 2.06-.94-2.06-.94L8.5 2.5l-.94 2.06-2.06.94zm10 10l.94 2.06.94-2.06 2.06-.94-2.06-.94-.94-2.06-.94 2.06-2.06.94z\"/><path d=\"M17.41 7.96l-1.37-1.37c-.4-.4-.92-.59-1.43-.59-.52 0-1.04.2-1.43.59L10.3 9.45l-7.72 7.72c-.78.78-.78 2.05 0 2.83L4 21.41c.39.39.9.59 1.41.59.51 0 1.02-.2 1.41-.59l7.78-7.78 2.81-2.81c.8-.78.8-2.07 0-2.86zM5.41 20L4 18.59l7.72-7.72 1.47 1.35L5.41 20z\"/>\n",
              "  </svg>\n",
              "      </button>\n",
              "      \n",
              "  <style>\n",
              "    .colab-df-container {\n",
              "      display:flex;\n",
              "      flex-wrap:wrap;\n",
              "      gap: 12px;\n",
              "    }\n",
              "\n",
              "    .colab-df-convert {\n",
              "      background-color: #E8F0FE;\n",
              "      border: none;\n",
              "      border-radius: 50%;\n",
              "      cursor: pointer;\n",
              "      display: none;\n",
              "      fill: #1967D2;\n",
              "      height: 32px;\n",
              "      padding: 0 0 0 0;\n",
              "      width: 32px;\n",
              "    }\n",
              "\n",
              "    .colab-df-convert:hover {\n",
              "      background-color: #E2EBFA;\n",
              "      box-shadow: 0px 1px 2px rgba(60, 64, 67, 0.3), 0px 1px 3px 1px rgba(60, 64, 67, 0.15);\n",
              "      fill: #174EA6;\n",
              "    }\n",
              "\n",
              "    [theme=dark] .colab-df-convert {\n",
              "      background-color: #3B4455;\n",
              "      fill: #D2E3FC;\n",
              "    }\n",
              "\n",
              "    [theme=dark] .colab-df-convert:hover {\n",
              "      background-color: #434B5C;\n",
              "      box-shadow: 0px 1px 3px 1px rgba(0, 0, 0, 0.15);\n",
              "      filter: drop-shadow(0px 1px 2px rgba(0, 0, 0, 0.3));\n",
              "      fill: #FFFFFF;\n",
              "    }\n",
              "  </style>\n",
              "\n",
              "      <script>\n",
              "        const buttonEl =\n",
              "          document.querySelector('#df-590ec293-0742-41ec-9d19-daef703af168 button.colab-df-convert');\n",
              "        buttonEl.style.display =\n",
              "          google.colab.kernel.accessAllowed ? 'block' : 'none';\n",
              "\n",
              "        async function convertToInteractive(key) {\n",
              "          const element = document.querySelector('#df-590ec293-0742-41ec-9d19-daef703af168');\n",
              "          const dataTable =\n",
              "            await google.colab.kernel.invokeFunction('convertToInteractive',\n",
              "                                                     [key], {});\n",
              "          if (!dataTable) return;\n",
              "\n",
              "          const docLinkHtml = 'Like what you see? Visit the ' +\n",
              "            '<a target=\"_blank\" href=https://colab.research.google.com/notebooks/data_table.ipynb>data table notebook</a>'\n",
              "            + ' to learn more about interactive tables.';\n",
              "          element.innerHTML = '';\n",
              "          dataTable['output_type'] = 'display_data';\n",
              "          await google.colab.output.renderOutput(dataTable, element);\n",
              "          const docLink = document.createElement('div');\n",
              "          docLink.innerHTML = docLinkHtml;\n",
              "          element.appendChild(docLink);\n",
              "        }\n",
              "      </script>\n",
              "    </div>\n",
              "  </div>\n",
              "  "
            ]
          },
          "metadata": {},
          "execution_count": 56
        }
      ]
    },
    {
      "cell_type": "markdown",
      "source": [
        "##CODIFICAÇÃO DE VARIAVEIS CATEGORICAS  -  JEITO MAIS FACIL\n",
        "\n",
        "--------------------------------------------------------------------------------"
      ],
      "metadata": {
        "id": "X62YudWl9jvN"
      }
    },
    {
      "cell_type": "markdown",
      "source": [
        "LabelEncoder: transformação de variaveis categóricas em numéricas de forma mais facil "
      ],
      "metadata": {
        "id": "6JYz7ZzO9oqX"
      }
    },
    {
      "cell_type": "code",
      "source": [
        "from sklearn.preprocessing import LabelEncoder"
      ],
      "metadata": {
        "id": "2o7SLeeT970V"
      },
      "execution_count": 57,
      "outputs": []
    },
    {
      "cell_type": "code",
      "source": [
        "previsores2 = dados2.iloc[:,0:11].values   # criando uma nova variavel para receber os dados e manter a integridade dos dados originais"
      ],
      "metadata": {
        "id": "De2VftEw_I6s"
      },
      "execution_count": 58,
      "outputs": []
    },
    {
      "cell_type": "code",
      "source": [
        "previsores2"
      ],
      "metadata": {
        "colab": {
          "base_uri": "https://localhost:8080/"
        },
        "id": "4tZc4QGW_qX9",
        "outputId": "02e0456a-b8be-442e-a551-361f23b6cb8e"
      },
      "execution_count": 59,
      "outputs": [
        {
          "output_type": "execute_result",
          "data": {
            "text/plain": [
              "array([[40, 'M', 'ATA', ..., 'N', 0.0, 'Up'],\n",
              "       [49, 'F', 'NAP', ..., 'N', 1.0, 'Flat'],\n",
              "       [37, 'M', 'ATA', ..., 'N', 0.0, 'Up'],\n",
              "       ...,\n",
              "       [57, 'M', 'ASY', ..., 'Y', 1.2, 'Flat'],\n",
              "       [57, 'F', 'ATA', ..., 'N', 0.0, 'Flat'],\n",
              "       [38, 'M', 'NAP', ..., 'N', 0.0, 'Up']], dtype=object)"
            ]
          },
          "metadata": {},
          "execution_count": 59
        }
      ]
    },
    {
      "cell_type": "code",
      "source": [
        "# convertendo as variaveis categoricas da coluna 1 em numéricas\n",
        "previsores2[:,1] = LabelEncoder().fit_transform(previsores2[:,1]) "
      ],
      "metadata": {
        "id": "jgVry4lm_49f"
      },
      "execution_count": 60,
      "outputs": []
    },
    {
      "cell_type": "code",
      "source": [
        "# fazendo o mesmo com as demais colunas com variaveis categoricas nominais\n",
        "previsores2[:,2] = LabelEncoder().fit_transform(previsores[:,2])\n",
        "previsores2[:,6] = LabelEncoder().fit_transform(previsores[:,6])\n",
        "previsores2[:,8] = LabelEncoder().fit_transform(previsores[:,8])\n",
        "previsores2[:,10] = LabelEncoder().fit_transform(previsores[:,10])\n"
      ],
      "metadata": {
        "id": "mItiI1SgA8QQ"
      },
      "execution_count": 61,
      "outputs": []
    },
    {
      "cell_type": "code",
      "source": [
        "previsores2.shape"
      ],
      "metadata": {
        "colab": {
          "base_uri": "https://localhost:8080/"
        },
        "id": "PH7TF1nbBng3",
        "outputId": "08af43ca-003d-4896-da68-994e819af3c0"
      },
      "execution_count": 62,
      "outputs": [
        {
          "output_type": "execute_result",
          "data": {
            "text/plain": [
              "(917, 11)"
            ]
          },
          "metadata": {},
          "execution_count": 62
        }
      ]
    },
    {
      "cell_type": "markdown",
      "source": [
        "###OneHotEnconder: criação de variaveis Dummy ( ficticia )\n"
      ],
      "metadata": {
        "id": "VSaJKqQ0CdUZ"
      }
    },
    {
      "cell_type": "code",
      "source": [
        "from sklearn.preprocessing import OneHotEncoder"
      ],
      "metadata": {
        "id": "ogF9xI4ZUF_M"
      },
      "execution_count": 63,
      "outputs": []
    },
    {
      "cell_type": "code",
      "source": [
        "from sklearn.compose import ColumnTransformer"
      ],
      "metadata": {
        "id": "6hGx-hgYUWhJ"
      },
      "execution_count": 64,
      "outputs": []
    },
    {
      "cell_type": "markdown",
      "source": [
        "Parâmetros ColumnTransformer:\n",
        "\n",
        "* name: nome dado a transformação\n",
        "* transformer: tipo de estimador (OneHotEncoder)\n",
        "* columns: colunas que serão transformadas\n",
        "* remainder: o que acontecerá com os restantes das colunas não relacionadas:\n",
        "\n",
        "1 - drop ( exclui as outras colunas )\n",
        "\n",
        "2 - passthrough ( mantem as outras colunas )\n",
        "\n",
        "Drop é Default\n",
        "\n",
        "* sparse_threshold: parâmetro de classificação de matrizes esparsas. Default é 0.3.\n",
        "* n_jobs: número de trabalhos a serem executados em paralelo. default é nenhum.\n",
        "* transformer_weights: definição de pesos aos transformadores.\n",
        "* verbose: default é False. se for True a execução é apresentada na tela."
      ],
      "metadata": {
        "id": "1MS7ZkzDUknz"
      }
    },
    {
      "cell_type": "code",
      "source": [
        "previsores3 = ColumnTransformer(transformers=[('OneHot',OneHotEncoder(),[1,2,6,8,10])],remainder=\"passthrough\").fit_transform(previsores2)"
      ],
      "metadata": {
        "id": "IvZZhudYXj_n"
      },
      "execution_count": 65,
      "outputs": []
    },
    {
      "cell_type": "code",
      "source": [
        "previsores3"
      ],
      "metadata": {
        "colab": {
          "base_uri": "https://localhost:8080/"
        },
        "id": "wGmRc9kmYv2f",
        "outputId": "c334e2be-e703-49d6-ee68-29d97b8f09c1"
      },
      "execution_count": 66,
      "outputs": [
        {
          "output_type": "execute_result",
          "data": {
            "text/plain": [
              "array([[0.0, 1.0, 0.0, ..., 0, 172, 0.0],\n",
              "       [1.0, 0.0, 0.0, ..., 0, 156, 1.0],\n",
              "       [0.0, 1.0, 0.0, ..., 0, 98, 0.0],\n",
              "       ...,\n",
              "       [0.0, 1.0, 0.0, ..., 0, 115, 1.2],\n",
              "       [1.0, 0.0, 0.0, ..., 0, 174, 0.0],\n",
              "       [0.0, 1.0, 0.0, ..., 0, 173, 0.0]], dtype=object)"
            ]
          },
          "metadata": {},
          "execution_count": 66
        }
      ]
    },
    {
      "cell_type": "code",
      "source": [
        "previsores3.shape"
      ],
      "metadata": {
        "colab": {
          "base_uri": "https://localhost:8080/"
        },
        "id": "4NBLH083ZhKx",
        "outputId": "496a21c9-e55d-49b5-a16a-92b506e16263"
      },
      "execution_count": 67,
      "outputs": [
        {
          "output_type": "execute_result",
          "data": {
            "text/plain": [
              "(917, 20)"
            ]
          },
          "metadata": {},
          "execution_count": 67
        }
      ]
    },
    {
      "cell_type": "code",
      "source": [
        "previsores3df = pd.DataFrame(previsores3)"
      ],
      "metadata": {
        "id": "v52S8I2wZwJq"
      },
      "execution_count": 68,
      "outputs": []
    },
    {
      "cell_type": "code",
      "source": [
        "previsores3df.head()"
      ],
      "metadata": {
        "colab": {
          "base_uri": "https://localhost:8080/",
          "height": 0
        },
        "id": "vO0dh8bSZ5em",
        "outputId": "e4374b59-2378-4238-dc46-ccbef612d288"
      },
      "execution_count": 69,
      "outputs": [
        {
          "output_type": "execute_result",
          "data": {
            "text/plain": [
              "    0    1    2    3    4    5    6    7    8    9    10   11   12   13  14  \\\n",
              "0  0.0  1.0  0.0  1.0  0.0  0.0  1.0  0.0  0.0  1.0  0.0  1.0  0.0  0.0  40   \n",
              "1  1.0  0.0  0.0  0.0  1.0  0.0  1.0  0.0  0.0  1.0  0.0  0.0  1.0  0.0  49   \n",
              "2  0.0  1.0  0.0  1.0  0.0  0.0  0.0  1.0  0.0  1.0  0.0  1.0  0.0  0.0  37   \n",
              "3  1.0  0.0  0.0  0.0  0.0  1.0  1.0  0.0  0.0  0.0  1.0  0.0  1.0  0.0  48   \n",
              "4  0.0  1.0  0.0  0.0  1.0  0.0  1.0  0.0  0.0  1.0  0.0  1.0  0.0  0.0  54   \n",
              "\n",
              "    15     16 17   18   19  \n",
              "0  140  289.0  0  172  0.0  \n",
              "1  160  180.0  0  156  1.0  \n",
              "2  130  283.0  0   98  0.0  \n",
              "3  138  214.0  0  108  1.5  \n",
              "4  150  195.0  0  122  0.0  "
            ],
            "text/html": [
              "\n",
              "  <div id=\"df-1671570d-7734-4c16-8d9e-6e594a114738\">\n",
              "    <div class=\"colab-df-container\">\n",
              "      <div>\n",
              "<style scoped>\n",
              "    .dataframe tbody tr th:only-of-type {\n",
              "        vertical-align: middle;\n",
              "    }\n",
              "\n",
              "    .dataframe tbody tr th {\n",
              "        vertical-align: top;\n",
              "    }\n",
              "\n",
              "    .dataframe thead th {\n",
              "        text-align: right;\n",
              "    }\n",
              "</style>\n",
              "<table border=\"1\" class=\"dataframe\">\n",
              "  <thead>\n",
              "    <tr style=\"text-align: right;\">\n",
              "      <th></th>\n",
              "      <th>0</th>\n",
              "      <th>1</th>\n",
              "      <th>2</th>\n",
              "      <th>3</th>\n",
              "      <th>4</th>\n",
              "      <th>5</th>\n",
              "      <th>6</th>\n",
              "      <th>7</th>\n",
              "      <th>8</th>\n",
              "      <th>9</th>\n",
              "      <th>10</th>\n",
              "      <th>11</th>\n",
              "      <th>12</th>\n",
              "      <th>13</th>\n",
              "      <th>14</th>\n",
              "      <th>15</th>\n",
              "      <th>16</th>\n",
              "      <th>17</th>\n",
              "      <th>18</th>\n",
              "      <th>19</th>\n",
              "    </tr>\n",
              "  </thead>\n",
              "  <tbody>\n",
              "    <tr>\n",
              "      <th>0</th>\n",
              "      <td>0.0</td>\n",
              "      <td>1.0</td>\n",
              "      <td>0.0</td>\n",
              "      <td>1.0</td>\n",
              "      <td>0.0</td>\n",
              "      <td>0.0</td>\n",
              "      <td>1.0</td>\n",
              "      <td>0.0</td>\n",
              "      <td>0.0</td>\n",
              "      <td>1.0</td>\n",
              "      <td>0.0</td>\n",
              "      <td>1.0</td>\n",
              "      <td>0.0</td>\n",
              "      <td>0.0</td>\n",
              "      <td>40</td>\n",
              "      <td>140</td>\n",
              "      <td>289.0</td>\n",
              "      <td>0</td>\n",
              "      <td>172</td>\n",
              "      <td>0.0</td>\n",
              "    </tr>\n",
              "    <tr>\n",
              "      <th>1</th>\n",
              "      <td>1.0</td>\n",
              "      <td>0.0</td>\n",
              "      <td>0.0</td>\n",
              "      <td>0.0</td>\n",
              "      <td>1.0</td>\n",
              "      <td>0.0</td>\n",
              "      <td>1.0</td>\n",
              "      <td>0.0</td>\n",
              "      <td>0.0</td>\n",
              "      <td>1.0</td>\n",
              "      <td>0.0</td>\n",
              "      <td>0.0</td>\n",
              "      <td>1.0</td>\n",
              "      <td>0.0</td>\n",
              "      <td>49</td>\n",
              "      <td>160</td>\n",
              "      <td>180.0</td>\n",
              "      <td>0</td>\n",
              "      <td>156</td>\n",
              "      <td>1.0</td>\n",
              "    </tr>\n",
              "    <tr>\n",
              "      <th>2</th>\n",
              "      <td>0.0</td>\n",
              "      <td>1.0</td>\n",
              "      <td>0.0</td>\n",
              "      <td>1.0</td>\n",
              "      <td>0.0</td>\n",
              "      <td>0.0</td>\n",
              "      <td>0.0</td>\n",
              "      <td>1.0</td>\n",
              "      <td>0.0</td>\n",
              "      <td>1.0</td>\n",
              "      <td>0.0</td>\n",
              "      <td>1.0</td>\n",
              "      <td>0.0</td>\n",
              "      <td>0.0</td>\n",
              "      <td>37</td>\n",
              "      <td>130</td>\n",
              "      <td>283.0</td>\n",
              "      <td>0</td>\n",
              "      <td>98</td>\n",
              "      <td>0.0</td>\n",
              "    </tr>\n",
              "    <tr>\n",
              "      <th>3</th>\n",
              "      <td>1.0</td>\n",
              "      <td>0.0</td>\n",
              "      <td>0.0</td>\n",
              "      <td>0.0</td>\n",
              "      <td>0.0</td>\n",
              "      <td>1.0</td>\n",
              "      <td>1.0</td>\n",
              "      <td>0.0</td>\n",
              "      <td>0.0</td>\n",
              "      <td>0.0</td>\n",
              "      <td>1.0</td>\n",
              "      <td>0.0</td>\n",
              "      <td>1.0</td>\n",
              "      <td>0.0</td>\n",
              "      <td>48</td>\n",
              "      <td>138</td>\n",
              "      <td>214.0</td>\n",
              "      <td>0</td>\n",
              "      <td>108</td>\n",
              "      <td>1.5</td>\n",
              "    </tr>\n",
              "    <tr>\n",
              "      <th>4</th>\n",
              "      <td>0.0</td>\n",
              "      <td>1.0</td>\n",
              "      <td>0.0</td>\n",
              "      <td>0.0</td>\n",
              "      <td>1.0</td>\n",
              "      <td>0.0</td>\n",
              "      <td>1.0</td>\n",
              "      <td>0.0</td>\n",
              "      <td>0.0</td>\n",
              "      <td>1.0</td>\n",
              "      <td>0.0</td>\n",
              "      <td>1.0</td>\n",
              "      <td>0.0</td>\n",
              "      <td>0.0</td>\n",
              "      <td>54</td>\n",
              "      <td>150</td>\n",
              "      <td>195.0</td>\n",
              "      <td>0</td>\n",
              "      <td>122</td>\n",
              "      <td>0.0</td>\n",
              "    </tr>\n",
              "  </tbody>\n",
              "</table>\n",
              "</div>\n",
              "      <button class=\"colab-df-convert\" onclick=\"convertToInteractive('df-1671570d-7734-4c16-8d9e-6e594a114738')\"\n",
              "              title=\"Convert this dataframe to an interactive table.\"\n",
              "              style=\"display:none;\">\n",
              "        \n",
              "  <svg xmlns=\"http://www.w3.org/2000/svg\" height=\"24px\"viewBox=\"0 0 24 24\"\n",
              "       width=\"24px\">\n",
              "    <path d=\"M0 0h24v24H0V0z\" fill=\"none\"/>\n",
              "    <path d=\"M18.56 5.44l.94 2.06.94-2.06 2.06-.94-2.06-.94-.94-2.06-.94 2.06-2.06.94zm-11 1L8.5 8.5l.94-2.06 2.06-.94-2.06-.94L8.5 2.5l-.94 2.06-2.06.94zm10 10l.94 2.06.94-2.06 2.06-.94-2.06-.94-.94-2.06-.94 2.06-2.06.94z\"/><path d=\"M17.41 7.96l-1.37-1.37c-.4-.4-.92-.59-1.43-.59-.52 0-1.04.2-1.43.59L10.3 9.45l-7.72 7.72c-.78.78-.78 2.05 0 2.83L4 21.41c.39.39.9.59 1.41.59.51 0 1.02-.2 1.41-.59l7.78-7.78 2.81-2.81c.8-.78.8-2.07 0-2.86zM5.41 20L4 18.59l7.72-7.72 1.47 1.35L5.41 20z\"/>\n",
              "  </svg>\n",
              "      </button>\n",
              "      \n",
              "  <style>\n",
              "    .colab-df-container {\n",
              "      display:flex;\n",
              "      flex-wrap:wrap;\n",
              "      gap: 12px;\n",
              "    }\n",
              "\n",
              "    .colab-df-convert {\n",
              "      background-color: #E8F0FE;\n",
              "      border: none;\n",
              "      border-radius: 50%;\n",
              "      cursor: pointer;\n",
              "      display: none;\n",
              "      fill: #1967D2;\n",
              "      height: 32px;\n",
              "      padding: 0 0 0 0;\n",
              "      width: 32px;\n",
              "    }\n",
              "\n",
              "    .colab-df-convert:hover {\n",
              "      background-color: #E2EBFA;\n",
              "      box-shadow: 0px 1px 2px rgba(60, 64, 67, 0.3), 0px 1px 3px 1px rgba(60, 64, 67, 0.15);\n",
              "      fill: #174EA6;\n",
              "    }\n",
              "\n",
              "    [theme=dark] .colab-df-convert {\n",
              "      background-color: #3B4455;\n",
              "      fill: #D2E3FC;\n",
              "    }\n",
              "\n",
              "    [theme=dark] .colab-df-convert:hover {\n",
              "      background-color: #434B5C;\n",
              "      box-shadow: 0px 1px 3px 1px rgba(0, 0, 0, 0.15);\n",
              "      filter: drop-shadow(0px 1px 2px rgba(0, 0, 0, 0.3));\n",
              "      fill: #FFFFFF;\n",
              "    }\n",
              "  </style>\n",
              "\n",
              "      <script>\n",
              "        const buttonEl =\n",
              "          document.querySelector('#df-1671570d-7734-4c16-8d9e-6e594a114738 button.colab-df-convert');\n",
              "        buttonEl.style.display =\n",
              "          google.colab.kernel.accessAllowed ? 'block' : 'none';\n",
              "\n",
              "        async function convertToInteractive(key) {\n",
              "          const element = document.querySelector('#df-1671570d-7734-4c16-8d9e-6e594a114738');\n",
              "          const dataTable =\n",
              "            await google.colab.kernel.invokeFunction('convertToInteractive',\n",
              "                                                     [key], {});\n",
              "          if (!dataTable) return;\n",
              "\n",
              "          const docLinkHtml = 'Like what you see? Visit the ' +\n",
              "            '<a target=\"_blank\" href=https://colab.research.google.com/notebooks/data_table.ipynb>data table notebook</a>'\n",
              "            + ' to learn more about interactive tables.';\n",
              "          element.innerHTML = '';\n",
              "          dataTable['output_type'] = 'display_data';\n",
              "          await google.colab.output.renderOutput(dataTable, element);\n",
              "          const docLink = document.createElement('div');\n",
              "          docLink.innerHTML = docLinkHtml;\n",
              "          element.appendChild(docLink);\n",
              "        }\n",
              "      </script>\n",
              "    </div>\n",
              "  </div>\n",
              "  "
            ]
          },
          "metadata": {},
          "execution_count": 69
        }
      ]
    },
    {
      "cell_type": "markdown",
      "source": [
        "#ESCALONAMENTO\n",
        "--------------------------------------------------------------------------------"
      ],
      "metadata": {
        "id": "KywuOYDJaUyA"
      }
    },
    {
      "cell_type": "code",
      "source": [
        "previsores3_esc=StandardScaler().fit_transform(previsores3)\n",
        "previsores3_esc"
      ],
      "metadata": {
        "colab": {
          "base_uri": "https://localhost:8080/"
        },
        "id": "_j1mm0OhabfK",
        "outputId": "2eca56bf-fe0b-4df8-bd90-3e04b495b1e1"
      },
      "execution_count": 70,
      "outputs": [
        {
          "output_type": "execute_result",
          "data": {
            "text/plain": [
              "array([[-0.51630861,  0.51630861, -0.22981048, ..., -0.55173333,\n",
              "         1.38333943, -0.83150225],\n",
              "       [ 1.9368261 , -1.9368261 , -0.22981048, ..., -0.55173333,\n",
              "         0.75473573,  0.10625149],\n",
              "       [-0.51630861,  0.51630861, -0.22981048, ..., -0.55173333,\n",
              "        -1.52395266, -0.83150225],\n",
              "       ...,\n",
              "       [-0.51630861,  0.51630861, -0.22981048, ..., -0.55173333,\n",
              "        -0.85606123,  0.29380223],\n",
              "       [ 1.9368261 , -1.9368261 , -0.22981048, ..., -0.55173333,\n",
              "         1.46191489, -0.83150225],\n",
              "       [-0.51630861,  0.51630861, -0.22981048, ..., -0.55173333,\n",
              "         1.42262716, -0.83150225]])"
            ]
          },
          "metadata": {},
          "execution_count": 70
        }
      ]
    },
    {
      "cell_type": "code",
      "source": [
        "previsores3df=pd.DataFrame(previsores3_esc)"
      ],
      "metadata": {
        "id": "gyIMwb1RbGKa"
      },
      "execution_count": 71,
      "outputs": []
    },
    {
      "cell_type": "code",
      "source": [
        "previsores3df"
      ],
      "metadata": {
        "colab": {
          "base_uri": "https://localhost:8080/",
          "height": 0
        },
        "id": "XPgYirYpbQlA",
        "outputId": "120a10b1-7608-4dd7-d1c9-90742b547b35"
      },
      "execution_count": 72,
      "outputs": [
        {
          "output_type": "execute_result",
          "data": {
            "text/plain": [
              "           0         1         2         3         4         5         6   \\\n",
              "0   -0.516309  0.516309 -0.229810  2.073784 -0.531524 -1.085425  0.815013   \n",
              "1    1.936826 -1.936826 -0.229810 -0.482210  1.881384 -1.085425  0.815013   \n",
              "2   -0.516309  0.516309 -0.229810  2.073784 -0.531524 -1.085425 -1.226974   \n",
              "3    1.936826 -1.936826 -0.229810 -0.482210 -0.531524  0.921298  0.815013   \n",
              "4   -0.516309  0.516309 -0.229810 -0.482210  1.881384 -1.085425  0.815013   \n",
              "..        ...       ...       ...       ...       ...       ...       ...   \n",
              "912 -0.516309  0.516309  4.351412 -0.482210 -0.531524 -1.085425  0.815013   \n",
              "913 -0.516309  0.516309 -0.229810 -0.482210 -0.531524  0.921298  0.815013   \n",
              "914 -0.516309  0.516309 -0.229810 -0.482210 -0.531524  0.921298  0.815013   \n",
              "915  1.936826 -1.936826 -0.229810  2.073784 -0.531524 -1.085425 -1.226974   \n",
              "916 -0.516309  0.516309 -0.229810 -0.482210  1.881384 -1.085425  0.815013   \n",
              "\n",
              "           7         8         9         10        11        12        13  \\\n",
              "0   -0.490781 -0.507826  0.824310 -0.824310  1.149573 -1.001091 -0.271607   \n",
              "1   -0.490781 -0.507826  0.824310 -0.824310 -0.869888  0.998910 -0.271607   \n",
              "2    2.037569 -0.507826  0.824310 -0.824310  1.149573 -1.001091 -0.271607   \n",
              "3   -0.490781 -0.507826 -1.213136  1.213136 -0.869888  0.998910 -0.271607   \n",
              "4   -0.490781 -0.507826  0.824310 -0.824310  1.149573 -1.001091 -0.271607   \n",
              "..        ...       ...       ...       ...       ...       ...       ...   \n",
              "912 -0.490781 -0.507826  0.824310 -0.824310 -0.869888  0.998910 -0.271607   \n",
              "913 -0.490781 -0.507826  0.824310 -0.824310 -0.869888  0.998910 -0.271607   \n",
              "914 -0.490781 -0.507826 -1.213136  1.213136 -0.869888  0.998910 -0.271607   \n",
              "915 -0.490781  1.969177  0.824310 -0.824310 -0.869888  0.998910 -0.271607   \n",
              "916 -0.490781 -0.507826  0.824310 -0.824310  1.149573 -1.001091 -0.271607   \n",
              "\n",
              "           14        15        16        17        18        19  \n",
              "0   -1.432206  0.414627  0.832075 -0.551733  1.383339 -0.831502  \n",
              "1   -0.478057  1.526360 -1.212261 -0.551733  0.754736  0.106251  \n",
              "2   -1.750256 -0.141240  0.719543 -0.551733 -1.523953 -0.831502  \n",
              "3   -0.584074  0.303453 -0.574578 -0.551733 -1.131075  0.575128  \n",
              "4    0.052026  0.970493 -0.930931 -0.551733 -0.581047 -0.831502  \n",
              "..        ...       ...       ...       ...       ...       ...  \n",
              "912 -0.902124 -1.252973  0.363191 -0.551733 -0.188170  0.293802  \n",
              "913  1.536257  0.636973 -0.968441  1.812470  0.165420  2.356860  \n",
              "914  0.370075 -0.141240 -2.131275 -0.551733 -0.856061  0.293802  \n",
              "915  0.370075 -0.141240 -0.161960 -0.551733  1.461915 -0.831502  \n",
              "916 -1.644239  0.303453 -1.306038 -0.551733  1.422627 -0.831502  \n",
              "\n",
              "[917 rows x 20 columns]"
            ],
            "text/html": [
              "\n",
              "  <div id=\"df-c3c6d772-6621-48b0-9e4d-0fe6aea10dcd\">\n",
              "    <div class=\"colab-df-container\">\n",
              "      <div>\n",
              "<style scoped>\n",
              "    .dataframe tbody tr th:only-of-type {\n",
              "        vertical-align: middle;\n",
              "    }\n",
              "\n",
              "    .dataframe tbody tr th {\n",
              "        vertical-align: top;\n",
              "    }\n",
              "\n",
              "    .dataframe thead th {\n",
              "        text-align: right;\n",
              "    }\n",
              "</style>\n",
              "<table border=\"1\" class=\"dataframe\">\n",
              "  <thead>\n",
              "    <tr style=\"text-align: right;\">\n",
              "      <th></th>\n",
              "      <th>0</th>\n",
              "      <th>1</th>\n",
              "      <th>2</th>\n",
              "      <th>3</th>\n",
              "      <th>4</th>\n",
              "      <th>5</th>\n",
              "      <th>6</th>\n",
              "      <th>7</th>\n",
              "      <th>8</th>\n",
              "      <th>9</th>\n",
              "      <th>10</th>\n",
              "      <th>11</th>\n",
              "      <th>12</th>\n",
              "      <th>13</th>\n",
              "      <th>14</th>\n",
              "      <th>15</th>\n",
              "      <th>16</th>\n",
              "      <th>17</th>\n",
              "      <th>18</th>\n",
              "      <th>19</th>\n",
              "    </tr>\n",
              "  </thead>\n",
              "  <tbody>\n",
              "    <tr>\n",
              "      <th>0</th>\n",
              "      <td>-0.516309</td>\n",
              "      <td>0.516309</td>\n",
              "      <td>-0.229810</td>\n",
              "      <td>2.073784</td>\n",
              "      <td>-0.531524</td>\n",
              "      <td>-1.085425</td>\n",
              "      <td>0.815013</td>\n",
              "      <td>-0.490781</td>\n",
              "      <td>-0.507826</td>\n",
              "      <td>0.824310</td>\n",
              "      <td>-0.824310</td>\n",
              "      <td>1.149573</td>\n",
              "      <td>-1.001091</td>\n",
              "      <td>-0.271607</td>\n",
              "      <td>-1.432206</td>\n",
              "      <td>0.414627</td>\n",
              "      <td>0.832075</td>\n",
              "      <td>-0.551733</td>\n",
              "      <td>1.383339</td>\n",
              "      <td>-0.831502</td>\n",
              "    </tr>\n",
              "    <tr>\n",
              "      <th>1</th>\n",
              "      <td>1.936826</td>\n",
              "      <td>-1.936826</td>\n",
              "      <td>-0.229810</td>\n",
              "      <td>-0.482210</td>\n",
              "      <td>1.881384</td>\n",
              "      <td>-1.085425</td>\n",
              "      <td>0.815013</td>\n",
              "      <td>-0.490781</td>\n",
              "      <td>-0.507826</td>\n",
              "      <td>0.824310</td>\n",
              "      <td>-0.824310</td>\n",
              "      <td>-0.869888</td>\n",
              "      <td>0.998910</td>\n",
              "      <td>-0.271607</td>\n",
              "      <td>-0.478057</td>\n",
              "      <td>1.526360</td>\n",
              "      <td>-1.212261</td>\n",
              "      <td>-0.551733</td>\n",
              "      <td>0.754736</td>\n",
              "      <td>0.106251</td>\n",
              "    </tr>\n",
              "    <tr>\n",
              "      <th>2</th>\n",
              "      <td>-0.516309</td>\n",
              "      <td>0.516309</td>\n",
              "      <td>-0.229810</td>\n",
              "      <td>2.073784</td>\n",
              "      <td>-0.531524</td>\n",
              "      <td>-1.085425</td>\n",
              "      <td>-1.226974</td>\n",
              "      <td>2.037569</td>\n",
              "      <td>-0.507826</td>\n",
              "      <td>0.824310</td>\n",
              "      <td>-0.824310</td>\n",
              "      <td>1.149573</td>\n",
              "      <td>-1.001091</td>\n",
              "      <td>-0.271607</td>\n",
              "      <td>-1.750256</td>\n",
              "      <td>-0.141240</td>\n",
              "      <td>0.719543</td>\n",
              "      <td>-0.551733</td>\n",
              "      <td>-1.523953</td>\n",
              "      <td>-0.831502</td>\n",
              "    </tr>\n",
              "    <tr>\n",
              "      <th>3</th>\n",
              "      <td>1.936826</td>\n",
              "      <td>-1.936826</td>\n",
              "      <td>-0.229810</td>\n",
              "      <td>-0.482210</td>\n",
              "      <td>-0.531524</td>\n",
              "      <td>0.921298</td>\n",
              "      <td>0.815013</td>\n",
              "      <td>-0.490781</td>\n",
              "      <td>-0.507826</td>\n",
              "      <td>-1.213136</td>\n",
              "      <td>1.213136</td>\n",
              "      <td>-0.869888</td>\n",
              "      <td>0.998910</td>\n",
              "      <td>-0.271607</td>\n",
              "      <td>-0.584074</td>\n",
              "      <td>0.303453</td>\n",
              "      <td>-0.574578</td>\n",
              "      <td>-0.551733</td>\n",
              "      <td>-1.131075</td>\n",
              "      <td>0.575128</td>\n",
              "    </tr>\n",
              "    <tr>\n",
              "      <th>4</th>\n",
              "      <td>-0.516309</td>\n",
              "      <td>0.516309</td>\n",
              "      <td>-0.229810</td>\n",
              "      <td>-0.482210</td>\n",
              "      <td>1.881384</td>\n",
              "      <td>-1.085425</td>\n",
              "      <td>0.815013</td>\n",
              "      <td>-0.490781</td>\n",
              "      <td>-0.507826</td>\n",
              "      <td>0.824310</td>\n",
              "      <td>-0.824310</td>\n",
              "      <td>1.149573</td>\n",
              "      <td>-1.001091</td>\n",
              "      <td>-0.271607</td>\n",
              "      <td>0.052026</td>\n",
              "      <td>0.970493</td>\n",
              "      <td>-0.930931</td>\n",
              "      <td>-0.551733</td>\n",
              "      <td>-0.581047</td>\n",
              "      <td>-0.831502</td>\n",
              "    </tr>\n",
              "    <tr>\n",
              "      <th>...</th>\n",
              "      <td>...</td>\n",
              "      <td>...</td>\n",
              "      <td>...</td>\n",
              "      <td>...</td>\n",
              "      <td>...</td>\n",
              "      <td>...</td>\n",
              "      <td>...</td>\n",
              "      <td>...</td>\n",
              "      <td>...</td>\n",
              "      <td>...</td>\n",
              "      <td>...</td>\n",
              "      <td>...</td>\n",
              "      <td>...</td>\n",
              "      <td>...</td>\n",
              "      <td>...</td>\n",
              "      <td>...</td>\n",
              "      <td>...</td>\n",
              "      <td>...</td>\n",
              "      <td>...</td>\n",
              "      <td>...</td>\n",
              "    </tr>\n",
              "    <tr>\n",
              "      <th>912</th>\n",
              "      <td>-0.516309</td>\n",
              "      <td>0.516309</td>\n",
              "      <td>4.351412</td>\n",
              "      <td>-0.482210</td>\n",
              "      <td>-0.531524</td>\n",
              "      <td>-1.085425</td>\n",
              "      <td>0.815013</td>\n",
              "      <td>-0.490781</td>\n",
              "      <td>-0.507826</td>\n",
              "      <td>0.824310</td>\n",
              "      <td>-0.824310</td>\n",
              "      <td>-0.869888</td>\n",
              "      <td>0.998910</td>\n",
              "      <td>-0.271607</td>\n",
              "      <td>-0.902124</td>\n",
              "      <td>-1.252973</td>\n",
              "      <td>0.363191</td>\n",
              "      <td>-0.551733</td>\n",
              "      <td>-0.188170</td>\n",
              "      <td>0.293802</td>\n",
              "    </tr>\n",
              "    <tr>\n",
              "      <th>913</th>\n",
              "      <td>-0.516309</td>\n",
              "      <td>0.516309</td>\n",
              "      <td>-0.229810</td>\n",
              "      <td>-0.482210</td>\n",
              "      <td>-0.531524</td>\n",
              "      <td>0.921298</td>\n",
              "      <td>0.815013</td>\n",
              "      <td>-0.490781</td>\n",
              "      <td>-0.507826</td>\n",
              "      <td>0.824310</td>\n",
              "      <td>-0.824310</td>\n",
              "      <td>-0.869888</td>\n",
              "      <td>0.998910</td>\n",
              "      <td>-0.271607</td>\n",
              "      <td>1.536257</td>\n",
              "      <td>0.636973</td>\n",
              "      <td>-0.968441</td>\n",
              "      <td>1.812470</td>\n",
              "      <td>0.165420</td>\n",
              "      <td>2.356860</td>\n",
              "    </tr>\n",
              "    <tr>\n",
              "      <th>914</th>\n",
              "      <td>-0.516309</td>\n",
              "      <td>0.516309</td>\n",
              "      <td>-0.229810</td>\n",
              "      <td>-0.482210</td>\n",
              "      <td>-0.531524</td>\n",
              "      <td>0.921298</td>\n",
              "      <td>0.815013</td>\n",
              "      <td>-0.490781</td>\n",
              "      <td>-0.507826</td>\n",
              "      <td>-1.213136</td>\n",
              "      <td>1.213136</td>\n",
              "      <td>-0.869888</td>\n",
              "      <td>0.998910</td>\n",
              "      <td>-0.271607</td>\n",
              "      <td>0.370075</td>\n",
              "      <td>-0.141240</td>\n",
              "      <td>-2.131275</td>\n",
              "      <td>-0.551733</td>\n",
              "      <td>-0.856061</td>\n",
              "      <td>0.293802</td>\n",
              "    </tr>\n",
              "    <tr>\n",
              "      <th>915</th>\n",
              "      <td>1.936826</td>\n",
              "      <td>-1.936826</td>\n",
              "      <td>-0.229810</td>\n",
              "      <td>2.073784</td>\n",
              "      <td>-0.531524</td>\n",
              "      <td>-1.085425</td>\n",
              "      <td>-1.226974</td>\n",
              "      <td>-0.490781</td>\n",
              "      <td>1.969177</td>\n",
              "      <td>0.824310</td>\n",
              "      <td>-0.824310</td>\n",
              "      <td>-0.869888</td>\n",
              "      <td>0.998910</td>\n",
              "      <td>-0.271607</td>\n",
              "      <td>0.370075</td>\n",
              "      <td>-0.141240</td>\n",
              "      <td>-0.161960</td>\n",
              "      <td>-0.551733</td>\n",
              "      <td>1.461915</td>\n",
              "      <td>-0.831502</td>\n",
              "    </tr>\n",
              "    <tr>\n",
              "      <th>916</th>\n",
              "      <td>-0.516309</td>\n",
              "      <td>0.516309</td>\n",
              "      <td>-0.229810</td>\n",
              "      <td>-0.482210</td>\n",
              "      <td>1.881384</td>\n",
              "      <td>-1.085425</td>\n",
              "      <td>0.815013</td>\n",
              "      <td>-0.490781</td>\n",
              "      <td>-0.507826</td>\n",
              "      <td>0.824310</td>\n",
              "      <td>-0.824310</td>\n",
              "      <td>1.149573</td>\n",
              "      <td>-1.001091</td>\n",
              "      <td>-0.271607</td>\n",
              "      <td>-1.644239</td>\n",
              "      <td>0.303453</td>\n",
              "      <td>-1.306038</td>\n",
              "      <td>-0.551733</td>\n",
              "      <td>1.422627</td>\n",
              "      <td>-0.831502</td>\n",
              "    </tr>\n",
              "  </tbody>\n",
              "</table>\n",
              "<p>917 rows × 20 columns</p>\n",
              "</div>\n",
              "      <button class=\"colab-df-convert\" onclick=\"convertToInteractive('df-c3c6d772-6621-48b0-9e4d-0fe6aea10dcd')\"\n",
              "              title=\"Convert this dataframe to an interactive table.\"\n",
              "              style=\"display:none;\">\n",
              "        \n",
              "  <svg xmlns=\"http://www.w3.org/2000/svg\" height=\"24px\"viewBox=\"0 0 24 24\"\n",
              "       width=\"24px\">\n",
              "    <path d=\"M0 0h24v24H0V0z\" fill=\"none\"/>\n",
              "    <path d=\"M18.56 5.44l.94 2.06.94-2.06 2.06-.94-2.06-.94-.94-2.06-.94 2.06-2.06.94zm-11 1L8.5 8.5l.94-2.06 2.06-.94-2.06-.94L8.5 2.5l-.94 2.06-2.06.94zm10 10l.94 2.06.94-2.06 2.06-.94-2.06-.94-.94-2.06-.94 2.06-2.06.94z\"/><path d=\"M17.41 7.96l-1.37-1.37c-.4-.4-.92-.59-1.43-.59-.52 0-1.04.2-1.43.59L10.3 9.45l-7.72 7.72c-.78.78-.78 2.05 0 2.83L4 21.41c.39.39.9.59 1.41.59.51 0 1.02-.2 1.41-.59l7.78-7.78 2.81-2.81c.8-.78.8-2.07 0-2.86zM5.41 20L4 18.59l7.72-7.72 1.47 1.35L5.41 20z\"/>\n",
              "  </svg>\n",
              "      </button>\n",
              "      \n",
              "  <style>\n",
              "    .colab-df-container {\n",
              "      display:flex;\n",
              "      flex-wrap:wrap;\n",
              "      gap: 12px;\n",
              "    }\n",
              "\n",
              "    .colab-df-convert {\n",
              "      background-color: #E8F0FE;\n",
              "      border: none;\n",
              "      border-radius: 50%;\n",
              "      cursor: pointer;\n",
              "      display: none;\n",
              "      fill: #1967D2;\n",
              "      height: 32px;\n",
              "      padding: 0 0 0 0;\n",
              "      width: 32px;\n",
              "    }\n",
              "\n",
              "    .colab-df-convert:hover {\n",
              "      background-color: #E2EBFA;\n",
              "      box-shadow: 0px 1px 2px rgba(60, 64, 67, 0.3), 0px 1px 3px 1px rgba(60, 64, 67, 0.15);\n",
              "      fill: #174EA6;\n",
              "    }\n",
              "\n",
              "    [theme=dark] .colab-df-convert {\n",
              "      background-color: #3B4455;\n",
              "      fill: #D2E3FC;\n",
              "    }\n",
              "\n",
              "    [theme=dark] .colab-df-convert:hover {\n",
              "      background-color: #434B5C;\n",
              "      box-shadow: 0px 1px 3px 1px rgba(0, 0, 0, 0.15);\n",
              "      filter: drop-shadow(0px 1px 2px rgba(0, 0, 0, 0.3));\n",
              "      fill: #FFFFFF;\n",
              "    }\n",
              "  </style>\n",
              "\n",
              "      <script>\n",
              "        const buttonEl =\n",
              "          document.querySelector('#df-c3c6d772-6621-48b0-9e4d-0fe6aea10dcd button.colab-df-convert');\n",
              "        buttonEl.style.display =\n",
              "          google.colab.kernel.accessAllowed ? 'block' : 'none';\n",
              "\n",
              "        async function convertToInteractive(key) {\n",
              "          const element = document.querySelector('#df-c3c6d772-6621-48b0-9e4d-0fe6aea10dcd');\n",
              "          const dataTable =\n",
              "            await google.colab.kernel.invokeFunction('convertToInteractive',\n",
              "                                                     [key], {});\n",
              "          if (!dataTable) return;\n",
              "\n",
              "          const docLinkHtml = 'Like what you see? Visit the ' +\n",
              "            '<a target=\"_blank\" href=https://colab.research.google.com/notebooks/data_table.ipynb>data table notebook</a>'\n",
              "            + ' to learn more about interactive tables.';\n",
              "          element.innerHTML = '';\n",
              "          dataTable['output_type'] = 'display_data';\n",
              "          await google.colab.output.renderOutput(dataTable, element);\n",
              "          const docLink = document.createElement('div');\n",
              "          docLink.innerHTML = docLinkHtml;\n",
              "          element.appendChild(docLink);\n",
              "        }\n",
              "      </script>\n",
              "    </div>\n",
              "  </div>\n",
              "  "
            ]
          },
          "metadata": {},
          "execution_count": 72
        }
      ]
    },
    {
      "cell_type": "markdown",
      "source": [
        "RESUMO DO PRE PROCESSAMENTO:\n",
        "--------------------------------------------------------------------------------\n",
        "\n",
        "* alvo : variavel que se pretende atingir ( tem ou não a doença cardiaca )\n",
        "* previsores : conjunto de variaveis previsoras com as variaveis categoricas transformadas em numericas manualmente sem escalonar\n",
        "* previsores_esc : conjunto de variaveis previsoras com as variaveis categoricas transformadas em numericas , escalonada.\n",
        "* previsores2 : conjunto de variaveis previsoras com as variaveis categoricas transformadas em numericas pelo LabelEncoder\n",
        "* previsores3 : conjunto de variaveis previsoras transformadas pelo LabelEncoder e OneHotEncoder, sem escalonar.\n",
        "* previsores3_esc: conjunto de variaveis previsoras transformadas pelo LabelEncoder e OneHotEncoder escalonada.\n"
      ],
      "metadata": {
        "id": "ZnHCH2CQbxJa"
      }
    },
    {
      "cell_type": "markdown",
      "source": [
        "#REDUÇÃO DE DIMENSIONALIDADE\n",
        "--------------------------------------------------------------------------------\n",
        "--------------------------------------------------------------------------------\n",
        "\n",
        "\n",
        "oBJETIVO E SELECIONAR OS MELHORES COMPONENTES  ( ATRIBUTOS ) PARA O TREINAMENTO DE ALGORITMOS ATRAVES DA ANALISE DAS CORRELAÇÕES ENTRE VARIAVEIS.\n",
        "\n"
      ],
      "metadata": {
        "id": "Ms0obJ7admmr"
      }
    },
    {
      "cell_type": "markdown",
      "source": [
        "## ANALISE DOS COMPONENTES PRINCIPAIS ( PCA )\n",
        "\n",
        "**Seleção de características:** Seleciona os melhores atributos e utiliza sem transformação\n",
        "**Extração de caracteristicas:** encontra os relacionamentos dos melhores atributos e cria novos atributos. \n",
        "\n",
        "É um algoritmo de aprendizagem não supervisionada. Aplica-se a dados linearmente separaveis.\n"
      ],
      "metadata": {
        "id": "jl9ACPrYhHt1"
      }
    },
    {
      "cell_type": "code",
      "source": [
        "# é o mais utilizado\n",
        "from sklearn.decomposition import PCA\n"
      ],
      "metadata": {
        "id": "UtERyxu-gyg7"
      },
      "execution_count": 73,
      "outputs": []
    },
    {
      "cell_type": "code",
      "source": [
        "pca = PCA(n_components=8, svd_solver=\"arpack\")"
      ],
      "metadata": {
        "id": "0HGfcj9jiK0A"
      },
      "execution_count": 74,
      "outputs": []
    },
    {
      "cell_type": "code",
      "source": [
        "previsores_pca = pca.fit_transform(previsores2)"
      ],
      "metadata": {
        "id": "6_n3AFMgibFA"
      },
      "execution_count": 75,
      "outputs": []
    },
    {
      "cell_type": "code",
      "source": [
        "previsores_pca.shape"
      ],
      "metadata": {
        "colab": {
          "base_uri": "https://localhost:8080/"
        },
        "id": "tf7CcaoTin-A",
        "outputId": "e0f54201-4b6d-4a4e-a7e1-73412fa6804f"
      },
      "execution_count": 76,
      "outputs": [
        {
          "output_type": "execute_result",
          "data": {
            "text/plain": [
              "(917, 8)"
            ]
          },
          "metadata": {},
          "execution_count": 76
        }
      ]
    },
    {
      "cell_type": "markdown",
      "source": [
        "## KERNEL PCA\n",
        "\n",
        "É um algoritmo de aprendizagem não supervisionada\n",
        "\n",
        "Aplica se tambem a dados linearmente não separaveis"
      ],
      "metadata": {
        "id": "onUnk-dqWjG4"
      }
    },
    {
      "cell_type": "code",
      "source": [
        "from sklearn.decomposition import KernelPCA"
      ],
      "metadata": {
        "id": "LfcjF6V9XTEs"
      },
      "execution_count": 77,
      "outputs": []
    },
    {
      "cell_type": "code",
      "source": [
        "kpca = KernelPCA(n_components=4, kernel=\"rbf\")"
      ],
      "metadata": {
        "id": "QG1O5PDFXkYE"
      },
      "execution_count": 78,
      "outputs": []
    },
    {
      "cell_type": "code",
      "source": [
        "previsores_kernel= kpca.fit_transform(previsores2)"
      ],
      "metadata": {
        "id": "qP6ut5eWX-Pf"
      },
      "execution_count": 79,
      "outputs": []
    },
    {
      "cell_type": "code",
      "source": [
        "previsores_kernel.shape"
      ],
      "metadata": {
        "colab": {
          "base_uri": "https://localhost:8080/"
        },
        "id": "rfvgglzfYNY4",
        "outputId": "b27fb6c9-5e18-4e23-d1af-8feeccad4a08"
      },
      "execution_count": 80,
      "outputs": [
        {
          "output_type": "execute_result",
          "data": {
            "text/plain": [
              "(917, 4)"
            ]
          },
          "metadata": {},
          "execution_count": 80
        }
      ]
    },
    {
      "cell_type": "code",
      "source": [
        "previsores_kernel"
      ],
      "metadata": {
        "colab": {
          "base_uri": "https://localhost:8080/"
        },
        "id": "7ckoTbZuYR-A",
        "outputId": "0f0821ad-feae-4c51-b74e-1f3cc6772406"
      },
      "execution_count": 81,
      "outputs": [
        {
          "output_type": "execute_result",
          "data": {
            "text/plain": [
              "array([[-0.00161313, -0.00266007, -0.00186814, -0.00263223],\n",
              "       [-0.00161382, -0.00266122, -0.00186901, -0.00263352],\n",
              "       [-0.0016132 , -0.00266017, -0.00186822, -0.00263235],\n",
              "       ...,\n",
              "       [-0.00161315, -0.00266009, -0.00186816, -0.00263225],\n",
              "       [-0.00161325, -0.00266026, -0.00186829, -0.00263245],\n",
              "       [-0.00161314, -0.00266007, -0.00186814, -0.00263224]])"
            ]
          },
          "metadata": {},
          "execution_count": 81
        }
      ]
    },
    {
      "cell_type": "markdown",
      "source": [
        "## Analise do Discrimante Linear ( LDA : Linear Discriminat Analysis )\n",
        "\n",
        "Algoritmo de aprendizagem supervisionada pois utiliza a classe como referencia para seleção. \n",
        "\n",
        "*Aplicado em situações com muitos atributos previsores e tambem com o atributo alvo de muitas classes.* ❎"
      ],
      "metadata": {
        "id": "1mq2BuvFYxwd"
      }
    },
    {
      "cell_type": "code",
      "source": [
        "from sklearn.discriminant_analysis import LinearDiscriminantAnalysis"
      ],
      "metadata": {
        "id": "_EOSBYfpZYz7"
      },
      "execution_count": 82,
      "outputs": []
    },
    {
      "cell_type": "code",
      "source": [
        "lda = LinearDiscriminantAnalysis(n_components=1)\n"
      ],
      "metadata": {
        "id": "7LuIOyttZjWj"
      },
      "execution_count": 83,
      "outputs": []
    },
    {
      "cell_type": "code",
      "source": [
        "previsores_lda = lda.fit_transform(previsores2, alvo)"
      ],
      "metadata": {
        "id": "QvZBkjq5ZviF"
      },
      "execution_count": 84,
      "outputs": []
    },
    {
      "cell_type": "code",
      "source": [
        "previsores_lda"
      ],
      "metadata": {
        "id": "DqWwhYVBaANb",
        "colab": {
          "base_uri": "https://localhost:8080/"
        },
        "outputId": "b9809f48-c16b-40e6-cff5-a4bc391095d9"
      },
      "execution_count": 85,
      "outputs": [
        {
          "output_type": "execute_result",
          "data": {
            "text/plain": [
              "array([[-1.84039906e+00],\n",
              "       [-1.02850026e+00],\n",
              "       [-1.31942421e+00],\n",
              "       [ 5.44796136e-01],\n",
              "       [-1.07056148e+00],\n",
              "       [-1.33498689e+00],\n",
              "       [-2.65709986e+00],\n",
              "       [-1.71006712e+00],\n",
              "       [ 1.05406169e+00],\n",
              "       [-2.19691693e+00],\n",
              "       [-2.10336229e+00],\n",
              "       [ 5.60819162e-01],\n",
              "       [-1.82642106e+00],\n",
              "       [ 1.02429254e+00],\n",
              "       [-2.04219711e+00],\n",
              "       [-1.21482688e+00],\n",
              "       [-2.02616486e-01],\n",
              "       [-2.71291883e+00],\n",
              "       [ 4.99934678e-01],\n",
              "       [-4.11374508e-01],\n",
              "       [-2.98063459e+00],\n",
              "       [-7.04338045e-01],\n",
              "       [-2.65710181e+00],\n",
              "       [ 4.75746736e-01],\n",
              "       [-1.28657725e+00],\n",
              "       [-1.62448979e+00],\n",
              "       [ 1.63352464e+00],\n",
              "       [-1.39514243e+00],\n",
              "       [-1.90715060e+00],\n",
              "       [-1.76263888e+00],\n",
              "       [ 3.45010914e-01],\n",
              "       [-1.07924898e+00],\n",
              "       [ 6.51134898e-01],\n",
              "       [ 4.33824846e-01],\n",
              "       [-2.60569643e+00],\n",
              "       [-1.85455855e+00],\n",
              "       [ 2.39630035e+00],\n",
              "       [-2.47176887e+00],\n",
              "       [-1.92388552e+00],\n",
              "       [ 3.38017188e-01],\n",
              "       [-2.27325583e+00],\n",
              "       [ 8.73426311e-02],\n",
              "       [-1.87150626e+00],\n",
              "       [-1.33550917e+00],\n",
              "       [ 9.96326549e-01],\n",
              "       [ 9.27922312e-01],\n",
              "       [-1.09083347e+00],\n",
              "       [-1.88291142e+00],\n",
              "       [-3.72803870e-01],\n",
              "       [-5.03532224e-02],\n",
              "       [ 1.32452375e+00],\n",
              "       [ 6.51492054e-01],\n",
              "       [-8.89697929e-01],\n",
              "       [-2.52100827e+00],\n",
              "       [ 2.60070583e-01],\n",
              "       [-2.63939068e+00],\n",
              "       [ 9.15634004e-01],\n",
              "       [-2.35800647e-01],\n",
              "       [-2.36865345e-01],\n",
              "       [ 1.52940304e+00],\n",
              "       [-1.92333679e+00],\n",
              "       [-2.20061041e+00],\n",
              "       [-8.19942991e-01],\n",
              "       [ 1.15672101e+00],\n",
              "       [-2.52975400e+00],\n",
              "       [-2.38970352e+00],\n",
              "       [-1.46583740e+00],\n",
              "       [-2.14767368e+00],\n",
              "       [ 2.05770693e+00],\n",
              "       [-6.78382687e-01],\n",
              "       [ 2.21683868e-01],\n",
              "       [-1.68081091e+00],\n",
              "       [ 6.87619732e-03],\n",
              "       [-1.39842000e+00],\n",
              "       [ 1.29959968e+00],\n",
              "       [-1.13654590e+00],\n",
              "       [ 6.17375347e-01],\n",
              "       [-1.79220870e+00],\n",
              "       [-1.16113335e+00],\n",
              "       [-1.05185445e-01],\n",
              "       [-1.27383571e+00],\n",
              "       [-1.73097883e+00],\n",
              "       [ 4.67374051e-01],\n",
              "       [-1.83243179e+00],\n",
              "       [ 1.81985414e+00],\n",
              "       [ 1.32183078e+00],\n",
              "       [ 2.26987983e+00],\n",
              "       [-4.72591559e-01],\n",
              "       [-1.22243494e+00],\n",
              "       [ 1.19721579e+00],\n",
              "       [-2.63868508e+00],\n",
              "       [-7.04341843e-01],\n",
              "       [-2.50755980e+00],\n",
              "       [ 1.66073913e+00],\n",
              "       [-2.44407390e+00],\n",
              "       [ 1.28960138e+00],\n",
              "       [-1.70378134e+00],\n",
              "       [-8.71445317e-01],\n",
              "       [-9.89013879e-01],\n",
              "       [-1.68375177e+00],\n",
              "       [ 1.39118009e+00],\n",
              "       [-5.43690689e-01],\n",
              "       [ 6.91868604e-02],\n",
              "       [ 1.89514823e+00],\n",
              "       [ 1.63755797e-01],\n",
              "       [-8.79010681e-01],\n",
              "       [-1.27074346e+00],\n",
              "       [-1.95076279e+00],\n",
              "       [-8.82809512e-01],\n",
              "       [-1.35129372e+00],\n",
              "       [-1.20076624e+00],\n",
              "       [ 1.83200531e+00],\n",
              "       [ 7.50276436e-01],\n",
              "       [-1.67546895e+00],\n",
              "       [-1.96027121e+00],\n",
              "       [ 3.25395309e-02],\n",
              "       [-6.63393029e-02],\n",
              "       [ 1.32648317e+00],\n",
              "       [-3.41933406e+00],\n",
              "       [-1.68711815e+00],\n",
              "       [-5.86957215e-01],\n",
              "       [-1.87957254e+00],\n",
              "       [-7.91600967e-01],\n",
              "       [ 7.36479139e-03],\n",
              "       [-1.67025119e+00],\n",
              "       [-1.38731127e+00],\n",
              "       [-3.01512029e+00],\n",
              "       [-1.61156161e+00],\n",
              "       [-1.74483914e+00],\n",
              "       [ 4.81958644e-01],\n",
              "       [-1.08136521e+00],\n",
              "       [ 6.52609322e-01],\n",
              "       [ 1.70993327e+00],\n",
              "       [ 1.30194693e+00],\n",
              "       [ 5.99909266e-01],\n",
              "       [-5.10048655e-01],\n",
              "       [-2.74908130e+00],\n",
              "       [-1.41603621e+00],\n",
              "       [ 9.36159090e-01],\n",
              "       [ 1.26678742e+00],\n",
              "       [ 1.84649862e+00],\n",
              "       [ 1.59826767e+00],\n",
              "       [ 1.36202046e+00],\n",
              "       [-8.14004401e-01],\n",
              "       [-1.27535066e+00],\n",
              "       [-7.37295388e-01],\n",
              "       [-1.89101502e+00],\n",
              "       [-2.69754416e+00],\n",
              "       [-1.92518241e+00],\n",
              "       [ 2.44925724e+00],\n",
              "       [-1.60300826e+00],\n",
              "       [-1.53884139e+00],\n",
              "       [-1.71675808e+00],\n",
              "       [-6.74734189e-01],\n",
              "       [-1.75946428e+00],\n",
              "       [ 2.20408473e+00],\n",
              "       [ 7.45959644e-01],\n",
              "       [-7.55029769e-01],\n",
              "       [ 1.53933732e+00],\n",
              "       [-1.37393694e+00],\n",
              "       [ 1.81658404e+00],\n",
              "       [ 1.12596469e+00],\n",
              "       [-1.81817993e+00],\n",
              "       [-1.85701276e+00],\n",
              "       [-2.38767562e+00],\n",
              "       [-3.71801076e-01],\n",
              "       [ 1.71880646e+00],\n",
              "       [-1.46882558e+00],\n",
              "       [-4.12092029e-01],\n",
              "       [-1.37239254e+00],\n",
              "       [-1.94037509e+00],\n",
              "       [-1.60965932e+00],\n",
              "       [-1.62161018e+00],\n",
              "       [-1.51076079e+00],\n",
              "       [ 1.31517443e+00],\n",
              "       [ 1.28355792e+00],\n",
              "       [ 7.05280034e-01],\n",
              "       [-1.54742081e+00],\n",
              "       [-1.43375054e+00],\n",
              "       [-1.16001210e+00],\n",
              "       [ 1.33197741e+00],\n",
              "       [-1.72913879e+00],\n",
              "       [ 1.62972472e+00],\n",
              "       [ 9.74122683e-01],\n",
              "       [-2.11394381e+00],\n",
              "       [ 8.25493572e-01],\n",
              "       [-1.33399233e+00],\n",
              "       [ 1.60940333e+00],\n",
              "       [ 6.26303218e-01],\n",
              "       [ 1.45746842e+00],\n",
              "       [-4.53668904e-01],\n",
              "       [-1.42503675e+00],\n",
              "       [-1.78840020e+00],\n",
              "       [-1.07356040e+00],\n",
              "       [-2.86023744e+00],\n",
              "       [-2.60464811e+00],\n",
              "       [ 4.90259320e-01],\n",
              "       [-1.57625284e+00],\n",
              "       [ 1.04924267e+00],\n",
              "       [-1.25581344e+00],\n",
              "       [-2.19172686e+00],\n",
              "       [-1.32586770e+00],\n",
              "       [-1.39993083e+00],\n",
              "       [-2.67173544e+00],\n",
              "       [-1.38921941e+00],\n",
              "       [-8.45325271e-02],\n",
              "       [-1.90691336e+00],\n",
              "       [-8.11441763e-01],\n",
              "       [-2.28149562e+00],\n",
              "       [ 1.63176631e-01],\n",
              "       [ 1.05008307e+00],\n",
              "       [-2.48109062e-01],\n",
              "       [-1.55853899e-01],\n",
              "       [-2.10831964e+00],\n",
              "       [ 1.41307213e+00],\n",
              "       [-3.12313852e+00],\n",
              "       [ 7.00709510e-02],\n",
              "       [-1.19561000e+00],\n",
              "       [-1.73311569e+00],\n",
              "       [-1.94671877e+00],\n",
              "       [ 3.36528340e-01],\n",
              "       [ 3.57785777e-01],\n",
              "       [-1.94450110e+00],\n",
              "       [-1.56014270e+00],\n",
              "       [-9.11200446e-01],\n",
              "       [ 1.77750370e-01],\n",
              "       [-1.26321638e+00],\n",
              "       [ 9.63009993e-01],\n",
              "       [-1.84194846e+00],\n",
              "       [-2.02523169e+00],\n",
              "       [-8.39209603e-01],\n",
              "       [-1.38933901e+00],\n",
              "       [-2.34924070e+00],\n",
              "       [-8.34941602e-01],\n",
              "       [-2.21350335e+00],\n",
              "       [-1.76594087e-01],\n",
              "       [ 1.61616144e+00],\n",
              "       [-9.70592911e-01],\n",
              "       [ 1.73820652e+00],\n",
              "       [ 1.60403081e+00],\n",
              "       [-1.53640925e+00],\n",
              "       [ 1.25264240e+00],\n",
              "       [ 1.11287229e+00],\n",
              "       [-2.24780087e+00],\n",
              "       [ 1.38759438e+00],\n",
              "       [-1.82514909e+00],\n",
              "       [ 5.95666405e-01],\n",
              "       [ 2.75148033e+00],\n",
              "       [ 1.04304035e+00],\n",
              "       [ 1.34302841e+00],\n",
              "       [ 6.25814181e-01],\n",
              "       [ 7.16087966e-01],\n",
              "       [ 2.84827251e-01],\n",
              "       [-1.39983791e+00],\n",
              "       [ 1.59797331e+00],\n",
              "       [-1.81019149e+00],\n",
              "       [-2.13640914e+00],\n",
              "       [-1.63071474e+00],\n",
              "       [-1.74196086e+00],\n",
              "       [-2.34487723e+00],\n",
              "       [-1.10120115e+00],\n",
              "       [-2.23008343e+00],\n",
              "       [ 9.82223872e-01],\n",
              "       [ 1.62431238e-01],\n",
              "       [ 4.57367702e-01],\n",
              "       [-1.70428272e+00],\n",
              "       [ 1.36409258e+00],\n",
              "       [-1.90800668e+00],\n",
              "       [ 1.42311587e+00],\n",
              "       [-7.45653274e-01],\n",
              "       [-8.22107998e-01],\n",
              "       [-2.81970573e+00],\n",
              "       [ 1.42265135e+00],\n",
              "       [-1.13203280e+00],\n",
              "       [-2.54664495e+00],\n",
              "       [-7.88977270e-01],\n",
              "       [-1.18090983e-01],\n",
              "       [ 1.26650749e+00],\n",
              "       [ 6.70049598e-01],\n",
              "       [-2.44009739e+00],\n",
              "       [-1.05976401e+00],\n",
              "       [ 6.55392160e-01],\n",
              "       [-1.11705077e+00],\n",
              "       [-2.34653120e+00],\n",
              "       [-8.02928668e-01],\n",
              "       [-1.91187514e+00],\n",
              "       [-7.88515936e-01],\n",
              "       [-1.67197987e+00],\n",
              "       [-2.04940364e+00],\n",
              "       [-2.17549417e+00],\n",
              "       [-1.27200875e+00],\n",
              "       [-2.15968317e+00],\n",
              "       [-8.84390798e-01],\n",
              "       [ 1.29387862e+00],\n",
              "       [-1.38330305e+00],\n",
              "       [ 1.10026225e+00],\n",
              "       [ 1.66896143e+00],\n",
              "       [ 9.21163083e-01],\n",
              "       [ 1.18065592e+00],\n",
              "       [ 1.66221951e-01],\n",
              "       [ 9.68297192e-01],\n",
              "       [-1.60027749e+00],\n",
              "       [ 3.34304578e-01],\n",
              "       [ 2.18471469e+00],\n",
              "       [ 1.27349221e+00],\n",
              "       [ 1.69928457e-01],\n",
              "       [ 7.61599737e-01],\n",
              "       [ 5.38815039e-01],\n",
              "       [ 4.74969122e-02],\n",
              "       [ 1.57107328e+00],\n",
              "       [-5.25587867e-01],\n",
              "       [ 2.20312694e-01],\n",
              "       [-1.51546202e-01],\n",
              "       [-2.89479590e-01],\n",
              "       [ 2.06101868e+00],\n",
              "       [-4.17156437e-01],\n",
              "       [ 4.00472667e-01],\n",
              "       [ 1.09336198e+00],\n",
              "       [ 1.82015341e+00],\n",
              "       [ 4.03005021e-01],\n",
              "       [ 6.35871980e-01],\n",
              "       [ 9.66771337e-01],\n",
              "       [-6.86842467e-01],\n",
              "       [ 3.01904113e+00],\n",
              "       [ 3.95373579e-01],\n",
              "       [ 2.18529575e+00],\n",
              "       [-1.25134062e+00],\n",
              "       [ 9.51092340e-01],\n",
              "       [ 2.04227740e+00],\n",
              "       [ 2.79268153e+00],\n",
              "       [-9.83435777e-02],\n",
              "       [ 2.13475487e-01],\n",
              "       [-1.79362379e+00],\n",
              "       [-2.26301554e-01],\n",
              "       [-4.18896378e-01],\n",
              "       [-4.80975508e-01],\n",
              "       [ 4.47563554e-01],\n",
              "       [ 5.78625711e-01],\n",
              "       [ 3.25354173e-01],\n",
              "       [ 1.20560098e+00],\n",
              "       [ 2.06796372e+00],\n",
              "       [ 2.92585315e+00],\n",
              "       [ 1.32991667e+00],\n",
              "       [ 1.01160275e+00],\n",
              "       [ 1.10765707e+00],\n",
              "       [ 4.08649120e-01],\n",
              "       [ 4.26419440e-01],\n",
              "       [ 8.98535159e-01],\n",
              "       [ 1.56220771e+00],\n",
              "       [ 1.66853242e+00],\n",
              "       [ 1.00158654e+00],\n",
              "       [ 7.80365665e-04],\n",
              "       [ 1.96258718e+00],\n",
              "       [ 1.40241393e+00],\n",
              "       [-2.93662175e-01],\n",
              "       [-8.55072115e-01],\n",
              "       [ 1.26678728e+00],\n",
              "       [-3.54058957e-01],\n",
              "       [ 4.00183364e-01],\n",
              "       [-8.49529321e-02],\n",
              "       [ 1.06231616e+00],\n",
              "       [ 1.01313000e+00],\n",
              "       [ 1.54921399e-01],\n",
              "       [ 1.72792935e-01],\n",
              "       [ 9.61398159e-02],\n",
              "       [ 4.89178501e-01],\n",
              "       [ 1.48475379e+00],\n",
              "       [ 2.30526978e-01],\n",
              "       [ 1.41763119e+00],\n",
              "       [ 1.73094576e+00],\n",
              "       [ 6.72654620e-01],\n",
              "       [ 1.58682986e+00],\n",
              "       [ 4.31017165e-01],\n",
              "       [ 1.29090462e+00],\n",
              "       [ 2.12330425e+00],\n",
              "       [-1.57299297e+00],\n",
              "       [ 7.74793354e-01],\n",
              "       [ 1.35542571e+00],\n",
              "       [ 1.88452190e+00],\n",
              "       [-1.89339471e-01],\n",
              "       [ 1.38978921e+00],\n",
              "       [ 1.07244023e+00],\n",
              "       [ 1.09096588e+00],\n",
              "       [-8.02311779e-01],\n",
              "       [ 9.20000168e-02],\n",
              "       [ 1.23553383e+00],\n",
              "       [ 1.14047135e+00],\n",
              "       [ 1.11994891e+00],\n",
              "       [ 6.72441527e-01],\n",
              "       [ 1.12142876e+00],\n",
              "       [ 8.17128060e-01],\n",
              "       [ 1.35047479e+00],\n",
              "       [ 4.86167917e-01],\n",
              "       [ 1.73674394e+00],\n",
              "       [ 2.27058875e+00],\n",
              "       [ 6.98284256e-01],\n",
              "       [-1.16693197e+00],\n",
              "       [ 1.91730930e+00],\n",
              "       [ 9.64857356e-01],\n",
              "       [ 1.13731643e+00],\n",
              "       [ 3.64437782e-01],\n",
              "       [ 6.96875398e-01],\n",
              "       [ 1.65744717e+00],\n",
              "       [ 1.96876750e+00],\n",
              "       [ 1.16817918e+00],\n",
              "       [ 1.67498983e+00],\n",
              "       [ 1.88255850e+00],\n",
              "       [ 1.99989744e+00],\n",
              "       [ 1.22106051e+00],\n",
              "       [ 1.30839707e+00],\n",
              "       [ 1.78315365e+00],\n",
              "       [ 1.13967504e+00],\n",
              "       [ 1.99731824e+00],\n",
              "       [ 4.12143505e-01],\n",
              "       [ 2.27863457e+00],\n",
              "       [ 6.16655429e-01],\n",
              "       [ 1.72987258e+00],\n",
              "       [-7.27957621e-01],\n",
              "       [ 2.08851896e+00],\n",
              "       [ 3.30082007e-01],\n",
              "       [ 1.65162130e+00],\n",
              "       [-1.00743273e+00],\n",
              "       [ 1.91690535e+00],\n",
              "       [ 8.41541355e-01],\n",
              "       [ 5.26779457e-01],\n",
              "       [ 8.97740695e-02],\n",
              "       [-1.71256610e+00],\n",
              "       [ 1.29886466e+00],\n",
              "       [ 1.14706170e+00],\n",
              "       [ 8.62282634e-01],\n",
              "       [ 1.68653177e+00],\n",
              "       [-2.93869112e-01],\n",
              "       [ 2.67729711e+00],\n",
              "       [ 1.23817440e+00],\n",
              "       [ 1.62577714e+00],\n",
              "       [ 2.18921264e-01],\n",
              "       [-4.15277652e-01],\n",
              "       [ 1.53632221e+00],\n",
              "       [ 7.40595669e-01],\n",
              "       [-7.87339435e-01],\n",
              "       [-9.46988657e-01],\n",
              "       [ 1.24592084e+00],\n",
              "       [ 1.85128561e+00],\n",
              "       [ 1.58405757e+00],\n",
              "       [ 1.04091458e+00],\n",
              "       [ 8.40375653e-01],\n",
              "       [ 1.31513445e+00],\n",
              "       [ 5.60471448e-01],\n",
              "       [ 2.06467981e+00],\n",
              "       [ 1.91317216e+00],\n",
              "       [ 1.30278768e+00],\n",
              "       [ 1.44622147e+00],\n",
              "       [ 3.76967064e-01],\n",
              "       [ 1.84152949e+00],\n",
              "       [ 3.72320241e-01],\n",
              "       [ 9.27670212e-01],\n",
              "       [ 5.82768160e-01],\n",
              "       [ 1.60437510e+00],\n",
              "       [-6.10985237e-01],\n",
              "       [ 2.13882910e+00],\n",
              "       [ 1.38305961e+00],\n",
              "       [ 2.21468587e+00],\n",
              "       [-4.85584774e-01],\n",
              "       [ 1.84197975e+00],\n",
              "       [-1.38743531e+00],\n",
              "       [ 9.87280567e-01],\n",
              "       [-2.19906148e+00],\n",
              "       [ 5.02390396e-01],\n",
              "       [ 1.36342777e-01],\n",
              "       [ 4.62492407e-01],\n",
              "       [ 1.58504070e+00],\n",
              "       [ 1.84762927e+00],\n",
              "       [ 1.72239196e+00],\n",
              "       [-1.44859248e+00],\n",
              "       [ 1.83984149e+00],\n",
              "       [-6.47872269e-02],\n",
              "       [ 3.06875566e+00],\n",
              "       [ 1.97472428e+00],\n",
              "       [ 1.10837702e+00],\n",
              "       [ 1.24114448e+00],\n",
              "       [ 2.08538125e+00],\n",
              "       [-6.97059472e-01],\n",
              "       [ 2.36989495e+00],\n",
              "       [ 1.37019924e+00],\n",
              "       [ 9.93713992e-01],\n",
              "       [-1.24103413e+00],\n",
              "       [ 1.19904181e+00],\n",
              "       [-1.84776090e+00],\n",
              "       [ 1.36698988e+00],\n",
              "       [ 9.55338140e-01],\n",
              "       [ 1.27075405e+00],\n",
              "       [-6.60760101e-01],\n",
              "       [ 9.87088319e-01],\n",
              "       [ 1.55181368e+00],\n",
              "       [ 4.45379932e-01],\n",
              "       [ 2.90893209e+00],\n",
              "       [ 2.33902371e+00],\n",
              "       [ 2.01728402e+00],\n",
              "       [ 1.29017077e+00],\n",
              "       [ 2.59147334e+00],\n",
              "       [ 1.41734353e+00],\n",
              "       [ 1.30169590e+00],\n",
              "       [-3.91878429e-02],\n",
              "       [ 3.23645905e+00],\n",
              "       [ 1.40378291e+00],\n",
              "       [ 1.73094010e+00],\n",
              "       [-1.79626888e-01],\n",
              "       [ 2.05816970e+00],\n",
              "       [ 3.59059221e-01],\n",
              "       [-5.87422495e-01],\n",
              "       [ 2.44039404e+00],\n",
              "       [-1.54171651e+00],\n",
              "       [-2.34298259e-01],\n",
              "       [-5.63788046e-01],\n",
              "       [ 8.66775216e-01],\n",
              "       [ 5.35738817e-01],\n",
              "       [ 1.38844703e+00],\n",
              "       [ 2.35068159e+00],\n",
              "       [ 3.96729448e-01],\n",
              "       [ 4.42252522e-01],\n",
              "       [ 2.64765776e+00],\n",
              "       [ 4.86396969e-01],\n",
              "       [ 1.11033300e+00],\n",
              "       [-8.75368601e-01],\n",
              "       [-1.24350642e+00],\n",
              "       [ 1.62731294e+00],\n",
              "       [-1.37891309e+00],\n",
              "       [ 5.87120601e-01],\n",
              "       [ 1.44887559e+00],\n",
              "       [ 1.09847601e+00],\n",
              "       [ 2.24995325e+00],\n",
              "       [ 1.05624269e+00],\n",
              "       [ 1.28572295e+00],\n",
              "       [ 2.26925596e+00],\n",
              "       [ 1.23815615e+00],\n",
              "       [ 1.53647723e+00],\n",
              "       [ 3.43848807e+00],\n",
              "       [ 2.02003984e+00],\n",
              "       [-4.75814237e-01],\n",
              "       [ 7.97722251e-01],\n",
              "       [ 1.35919695e+00],\n",
              "       [ 7.13001111e-01],\n",
              "       [ 2.51380775e+00],\n",
              "       [-7.25030081e-01],\n",
              "       [-6.43512720e-01],\n",
              "       [ 1.99796887e-01],\n",
              "       [ 1.03237512e+00],\n",
              "       [-3.73375834e-01],\n",
              "       [-1.30024550e+00],\n",
              "       [ 1.16743659e+00],\n",
              "       [-7.23805177e-01],\n",
              "       [ 1.09191878e+00],\n",
              "       [ 8.11101235e-01],\n",
              "       [-6.69006999e-01],\n",
              "       [ 6.42881389e-01],\n",
              "       [ 3.33390732e+00],\n",
              "       [ 1.51736279e+00],\n",
              "       [ 8.35871656e-01],\n",
              "       [ 2.90937485e+00],\n",
              "       [-1.14949906e+00],\n",
              "       [-1.67900759e+00],\n",
              "       [ 1.22763557e+00],\n",
              "       [ 1.79583560e+00],\n",
              "       [ 1.83731589e+00],\n",
              "       [ 1.53033922e+00],\n",
              "       [ 1.05118478e+00],\n",
              "       [ 1.16938945e+00],\n",
              "       [ 2.27003134e+00],\n",
              "       [ 1.54603319e+00],\n",
              "       [ 2.30491041e+00],\n",
              "       [ 1.91880614e+00],\n",
              "       [ 1.04107654e+00],\n",
              "       [ 1.19810191e+00],\n",
              "       [ 2.08781286e+00],\n",
              "       [ 1.94405287e+00],\n",
              "       [ 1.50503324e+00],\n",
              "       [ 1.77095665e+00],\n",
              "       [ 2.45651561e+00],\n",
              "       [ 2.29592160e+00],\n",
              "       [ 1.63861970e+00],\n",
              "       [-1.55098257e-02],\n",
              "       [ 2.03431794e+00],\n",
              "       [-7.98441709e-01],\n",
              "       [ 2.08054956e+00],\n",
              "       [ 4.62321380e-01],\n",
              "       [ 1.34499980e+00],\n",
              "       [-3.57975706e-01],\n",
              "       [ 1.44185494e+00],\n",
              "       [ 9.18074131e-01],\n",
              "       [-1.56251109e+00],\n",
              "       [-5.47479775e-01],\n",
              "       [ 2.99200641e+00],\n",
              "       [ 1.07190849e+00],\n",
              "       [ 1.11407849e+00],\n",
              "       [ 1.59853724e+00],\n",
              "       [ 5.90964034e-01],\n",
              "       [-1.16633208e+00],\n",
              "       [ 2.19328860e+00],\n",
              "       [ 1.38626938e+00],\n",
              "       [ 1.36012542e+00],\n",
              "       [ 9.28068421e-01],\n",
              "       [ 9.53128103e-01],\n",
              "       [ 2.57953521e+00],\n",
              "       [ 2.08041067e-01],\n",
              "       [-3.10013599e-01],\n",
              "       [ 2.43057936e+00],\n",
              "       [ 2.01675425e+00],\n",
              "       [ 8.93572190e-01],\n",
              "       [ 3.91164222e-01],\n",
              "       [ 1.74355315e-01],\n",
              "       [-2.09066716e+00],\n",
              "       [ 1.14563769e+00],\n",
              "       [ 3.51082799e-01],\n",
              "       [ 4.37963012e-01],\n",
              "       [ 1.13477095e+00],\n",
              "       [-2.12652314e-01],\n",
              "       [-1.51518802e+00],\n",
              "       [ 1.28483889e+00],\n",
              "       [-1.31805335e+00],\n",
              "       [-6.99129337e-01],\n",
              "       [ 1.24992898e+00],\n",
              "       [ 1.09928067e+00],\n",
              "       [ 3.71430113e-01],\n",
              "       [ 4.42729512e-01],\n",
              "       [ 1.73386930e-01],\n",
              "       [ 1.88099403e-01],\n",
              "       [-1.49304316e+00],\n",
              "       [-6.71669266e-01],\n",
              "       [-1.46256932e+00],\n",
              "       [-2.32796398e-01],\n",
              "       [ 1.42277259e+00],\n",
              "       [ 2.85512826e+00],\n",
              "       [-1.61201739e-01],\n",
              "       [-1.57913961e+00],\n",
              "       [ 1.48909912e+00],\n",
              "       [-9.45302145e-01],\n",
              "       [ 1.17324166e-01],\n",
              "       [-8.63799659e-01],\n",
              "       [-1.06775863e+00],\n",
              "       [-1.85967488e+00],\n",
              "       [ 2.61106014e-02],\n",
              "       [-1.85923554e+00],\n",
              "       [ 1.42776214e-02],\n",
              "       [-1.03497351e+00],\n",
              "       [-2.10971189e-01],\n",
              "       [-1.69744242e-01],\n",
              "       [-2.32321636e+00],\n",
              "       [ 2.67016332e+00],\n",
              "       [ 1.09589160e+00],\n",
              "       [ 5.47121143e-01],\n",
              "       [ 3.26955060e-01],\n",
              "       [-1.76592983e+00],\n",
              "       [-1.42343632e+00],\n",
              "       [-1.11896389e+00],\n",
              "       [-1.11328519e+00],\n",
              "       [-1.65686945e+00],\n",
              "       [-7.97593936e-01],\n",
              "       [-1.25054824e+00],\n",
              "       [ 8.30781614e-01],\n",
              "       [-6.71160621e-01],\n",
              "       [-1.10461635e+00],\n",
              "       [-1.14294118e+00],\n",
              "       [ 2.88209515e-01],\n",
              "       [-6.83582673e-02],\n",
              "       [ 1.35776936e+00],\n",
              "       [-1.35923159e+00],\n",
              "       [-8.28489510e-01],\n",
              "       [-2.65589826e+00],\n",
              "       [-1.63895446e+00],\n",
              "       [-2.77987178e+00],\n",
              "       [ 1.56822265e+00],\n",
              "       [-1.01938426e+00],\n",
              "       [ 2.26025107e-01],\n",
              "       [-2.21912560e-02],\n",
              "       [-8.63727612e-01],\n",
              "       [ 4.04312210e-01],\n",
              "       [-1.48906526e+00],\n",
              "       [-2.81343444e+00],\n",
              "       [ 8.83997810e-01],\n",
              "       [ 1.34053552e+00],\n",
              "       [-3.30490004e-01],\n",
              "       [-1.59649193e+00],\n",
              "       [-1.09286637e+00],\n",
              "       [-1.33169081e+00],\n",
              "       [ 1.55955254e+00],\n",
              "       [-6.75270183e-01],\n",
              "       [-1.43564659e+00],\n",
              "       [-5.14673357e-01],\n",
              "       [-1.42016572e+00],\n",
              "       [ 9.37116291e-01],\n",
              "       [ 1.19862635e+00],\n",
              "       [-2.44864741e+00],\n",
              "       [-1.39137536e+00],\n",
              "       [-1.76481768e+00],\n",
              "       [ 8.31403893e-01],\n",
              "       [ 1.00766386e+00],\n",
              "       [ 4.48331563e-01],\n",
              "       [-2.07997207e-01],\n",
              "       [ 1.16128872e+00],\n",
              "       [-2.21589108e+00],\n",
              "       [-9.26042776e-01],\n",
              "       [ 6.81933460e-01],\n",
              "       [-2.51930827e+00],\n",
              "       [ 7.84514921e-01],\n",
              "       [-1.09744701e+00],\n",
              "       [-1.45955502e+00],\n",
              "       [ 1.55216716e+00],\n",
              "       [ 1.05869586e+00],\n",
              "       [-8.28017506e-01],\n",
              "       [ 1.22465629e+00],\n",
              "       [ 4.01461344e-01],\n",
              "       [-8.53308034e-01],\n",
              "       [-1.62099867e+00],\n",
              "       [-2.38076796e+00],\n",
              "       [-1.42916163e+00],\n",
              "       [ 9.67914394e-01],\n",
              "       [-1.63254691e+00],\n",
              "       [ 1.35110284e+00],\n",
              "       [ 5.13848960e-01],\n",
              "       [ 1.39519064e-01],\n",
              "       [ 5.16559602e-01],\n",
              "       [-9.66392241e-02],\n",
              "       [-2.70020114e-01],\n",
              "       [-1.65132309e+00],\n",
              "       [ 1.12983786e+00],\n",
              "       [-1.83564916e+00],\n",
              "       [-1.40249226e+00],\n",
              "       [-1.37137944e+00],\n",
              "       [-1.77506458e+00],\n",
              "       [-1.57351304e+00],\n",
              "       [-6.38870699e-01],\n",
              "       [ 2.68354766e+00],\n",
              "       [-2.20455086e-01],\n",
              "       [ 3.13322744e+00],\n",
              "       [-2.62913045e-02],\n",
              "       [ 1.70061885e+00],\n",
              "       [ 1.59311832e+00],\n",
              "       [-1.50279206e+00],\n",
              "       [ 7.71657978e-01],\n",
              "       [-2.10958372e+00],\n",
              "       [ 1.58067994e+00],\n",
              "       [-1.24170143e+00],\n",
              "       [-1.67966759e+00],\n",
              "       [ 6.96550735e-01],\n",
              "       [ 2.87014474e-01],\n",
              "       [ 6.25506469e-02],\n",
              "       [-1.09207164e+00],\n",
              "       [ 2.60746533e+00],\n",
              "       [-1.02831659e+00],\n",
              "       [ 5.81453044e-01],\n",
              "       [-1.96862054e+00],\n",
              "       [ 1.76047870e+00],\n",
              "       [-2.84665739e+00],\n",
              "       [-2.90303694e-01],\n",
              "       [ 6.87434055e-01],\n",
              "       [-9.00636205e-01],\n",
              "       [-3.24645507e-01],\n",
              "       [-1.07788412e+00],\n",
              "       [-1.80920989e+00],\n",
              "       [ 1.61338259e+00],\n",
              "       [-9.28407983e-01],\n",
              "       [ 1.18823188e+00],\n",
              "       [-8.33634300e-01],\n",
              "       [-1.53358673e+00],\n",
              "       [-1.55667037e+00],\n",
              "       [-9.34866837e-01],\n",
              "       [-2.08410315e+00],\n",
              "       [ 1.06923690e-01],\n",
              "       [-1.86700669e+00],\n",
              "       [-2.76481258e+00],\n",
              "       [ 2.96386398e+00],\n",
              "       [-1.74916838e+00],\n",
              "       [-1.01835381e+00],\n",
              "       [ 9.03689028e-01],\n",
              "       [-2.64176535e-01],\n",
              "       [ 3.52426723e-01],\n",
              "       [-1.67293925e+00],\n",
              "       [ 1.55275679e+00],\n",
              "       [-1.03459835e+00],\n",
              "       [-6.09801084e-01],\n",
              "       [-1.62660808e+00],\n",
              "       [ 1.41414331e+00],\n",
              "       [ 4.09485582e-02],\n",
              "       [-2.91558410e-01],\n",
              "       [-2.08102297e-01],\n",
              "       [ 2.37162350e-01],\n",
              "       [ 1.31844910e+00],\n",
              "       [-4.89835064e-01],\n",
              "       [-2.53543780e+00],\n",
              "       [ 8.48150224e-01],\n",
              "       [ 1.82682434e+00],\n",
              "       [ 2.89783424e-01],\n",
              "       [ 8.34889565e-01],\n",
              "       [-1.43939039e+00],\n",
              "       [ 9.84114640e-01],\n",
              "       [ 7.13984233e-01],\n",
              "       [-1.06471607e+00],\n",
              "       [-3.67273815e-01],\n",
              "       [-7.21913940e-01],\n",
              "       [-9.49857904e-01],\n",
              "       [ 1.45021852e+00],\n",
              "       [-1.61395501e-01],\n",
              "       [-1.01014299e-01],\n",
              "       [ 1.35199655e+00],\n",
              "       [-6.48004182e-01],\n",
              "       [ 2.38787243e+00],\n",
              "       [-1.64302446e+00],\n",
              "       [-2.03686300e-01],\n",
              "       [-7.95022895e-01],\n",
              "       [-1.29286830e+00],\n",
              "       [-2.21557127e-01],\n",
              "       [-9.32791299e-01],\n",
              "       [-2.46727177e+00],\n",
              "       [ 7.86682474e-02],\n",
              "       [-9.33233076e-01],\n",
              "       [-7.96787875e-01],\n",
              "       [ 1.44342668e+00],\n",
              "       [ 7.52894612e-02],\n",
              "       [ 1.15278119e+00],\n",
              "       [-4.22932978e-01],\n",
              "       [-1.94066818e+00],\n",
              "       [ 4.49519444e-01],\n",
              "       [ 9.91666781e-01],\n",
              "       [ 8.39937994e-01],\n",
              "       [-1.01373629e+00],\n",
              "       [ 6.43608474e-01],\n",
              "       [-1.28024249e+00],\n",
              "       [ 1.33493989e+00],\n",
              "       [-2.27697628e+00],\n",
              "       [-2.49071198e+00],\n",
              "       [-2.03956327e+00],\n",
              "       [-7.00985243e-01],\n",
              "       [-1.72460796e-01],\n",
              "       [-1.95139337e+00],\n",
              "       [ 1.42694638e+00],\n",
              "       [ 9.23478301e-01],\n",
              "       [-1.21507674e+00],\n",
              "       [ 1.21961984e+00],\n",
              "       [-1.77024377e+00],\n",
              "       [-7.61341878e-01],\n",
              "       [-3.69080240e-01],\n",
              "       [ 1.44817050e+00],\n",
              "       [-1.98506531e+00],\n",
              "       [-1.59365269e+00],\n",
              "       [ 4.67502186e-01],\n",
              "       [ 2.56157917e-01],\n",
              "       [-1.07812320e+00],\n",
              "       [-1.95897410e-01],\n",
              "       [ 6.89429176e-02],\n",
              "       [ 1.40149142e+00],\n",
              "       [-1.60062140e+00],\n",
              "       [ 1.28312786e+00],\n",
              "       [-1.25758238e+00],\n",
              "       [-1.69476787e+00],\n",
              "       [ 1.55859566e+00],\n",
              "       [-1.39333816e+00],\n",
              "       [-4.36719005e-01],\n",
              "       [ 9.94847797e-01],\n",
              "       [-1.53773752e+00],\n",
              "       [ 2.24238324e-01],\n",
              "       [-6.64830738e-01],\n",
              "       [-1.67573446e+00],\n",
              "       [ 1.57168284e-01],\n",
              "       [ 1.51148247e+00],\n",
              "       [ 5.45866802e-01],\n",
              "       [-2.04213879e+00],\n",
              "       [-7.98204232e-01],\n",
              "       [-1.09956839e+00],\n",
              "       [-3.43231862e-01],\n",
              "       [-2.18559934e+00],\n",
              "       [ 1.37220773e+00],\n",
              "       [ 1.35277380e+00],\n",
              "       [-1.04500368e+00],\n",
              "       [-7.24911696e-01],\n",
              "       [-1.97576600e+00],\n",
              "       [ 1.36123522e+00],\n",
              "       [-4.04059886e-01],\n",
              "       [-1.72571151e+00],\n",
              "       [ 1.19802484e-01],\n",
              "       [-6.01016354e-01],\n",
              "       [-1.89921998e+00],\n",
              "       [-1.15807766e+00],\n",
              "       [ 1.75562920e-01],\n",
              "       [ 1.62668300e+00],\n",
              "       [-1.75595733e+00],\n",
              "       [-1.40838656e+00],\n",
              "       [ 1.49980586e+00],\n",
              "       [ 1.50691827e+00],\n",
              "       [-2.10038422e+00],\n",
              "       [-9.87213592e-01],\n",
              "       [-8.74992930e-01],\n",
              "       [-1.20516286e+00],\n",
              "       [-1.70901570e+00],\n",
              "       [-4.23529432e-01],\n",
              "       [ 1.52089998e+00],\n",
              "       [-1.47942286e+00],\n",
              "       [ 4.95080325e-01],\n",
              "       [-2.08891851e+00],\n",
              "       [-8.59476697e-01],\n",
              "       [ 2.04008746e+00],\n",
              "       [ 1.30614013e+00],\n",
              "       [-6.53160566e-01],\n",
              "       [-1.76820092e+00],\n",
              "       [ 3.41614935e-02],\n",
              "       [-6.27550220e-02],\n",
              "       [-2.16868830e+00],\n",
              "       [ 2.04831982e+00],\n",
              "       [ 6.17226533e-01],\n",
              "       [ 1.31200028e-01],\n",
              "       [-2.17148865e+00],\n",
              "       [ 1.42189072e+00],\n",
              "       [ 3.24503695e-01],\n",
              "       [-9.11005558e-01],\n",
              "       [ 1.47563409e+00],\n",
              "       [ 1.10520362e+00],\n",
              "       [-1.64664310e+00],\n",
              "       [-1.61864611e+00]])"
            ]
          },
          "metadata": {},
          "execution_count": 85
        }
      ]
    },
    {
      "cell_type": "markdown",
      "source": [
        "# SALVANDO AS VARIÁVEIS ( atributos )\n",
        "--------------------------------------------------------------------------------"
      ],
      "metadata": {
        "id": "cnNjm7kurFdQ"
      }
    },
    {
      "cell_type": "code",
      "source": [
        "import pickle"
      ],
      "metadata": {
        "id": "cfJOm-GCrWdo"
      },
      "execution_count": 86,
      "outputs": []
    },
    {
      "cell_type": "code",
      "source": [
        "# criando arquivo\n",
        "arq1 = open(\"heart.pk1\",\"wb\")  # quando cria \"wb\", quando lê o arquivo \"rb\""
      ],
      "metadata": {
        "id": "AMXPQmx7vIyJ"
      },
      "execution_count": 87,
      "outputs": []
    },
    {
      "cell_type": "code",
      "source": [
        "# salvando a variável no arquivo\n",
        "pickle.dump(alvo, arq1)"
      ],
      "metadata": {
        "id": "YFOETUsZvc2e"
      },
      "execution_count": 88,
      "outputs": []
    },
    {
      "cell_type": "code",
      "source": [
        "# fechar arquivo\n",
        "arq1.close()"
      ],
      "metadata": {
        "id": "sjBACYAwvt9v"
      },
      "execution_count": 89,
      "outputs": []
    },
    {
      "cell_type": "code",
      "source": [
        "# lendo o arquivo\n",
        "arq1 = open(\"heart.pk1\",\"rb\")"
      ],
      "metadata": {
        "id": "90md7PjEv5IG"
      },
      "execution_count": 90,
      "outputs": []
    },
    {
      "cell_type": "code",
      "source": [
        "# chamando a variável\n",
        "alvo = pickle.load(arq1)"
      ],
      "metadata": {
        "id": "8rJ6Aa0RwIPB"
      },
      "execution_count": 91,
      "outputs": []
    },
    {
      "cell_type": "code",
      "source": [
        "alvo"
      ],
      "metadata": {
        "colab": {
          "base_uri": "https://localhost:8080/"
        },
        "id": "VzbJJcqUwU8_",
        "outputId": "c0ae2972-84f6-4253-a336-f4463eaa999c"
      },
      "execution_count": 92,
      "outputs": [
        {
          "output_type": "execute_result",
          "data": {
            "text/plain": [
              "array([0, 1, 0, 1, 0, 0, 0, 0, 1, 0, 0, 1, 0, 1, 0, 0, 1, 0, 1, 1, 0, 0,\n",
              "       0, 1, 0, 0, 0, 0, 0, 0, 1, 0, 1, 1, 0, 0, 1, 0, 0, 0, 0, 1, 0, 0,\n",
              "       1, 0, 0, 0, 0, 1, 1, 1, 0, 0, 0, 0, 1, 1, 0, 1, 0, 0, 0, 1, 0, 0,\n",
              "       0, 0, 1, 0, 1, 0, 1, 0, 1, 0, 1, 0, 0, 1, 0, 0, 1, 0, 1, 1, 1, 0,\n",
              "       1, 0, 0, 0, 0, 1, 0, 1, 0, 0, 0, 0, 1, 0, 1, 1, 1, 0, 0, 0, 0, 0,\n",
              "       0, 1, 0, 0, 0, 1, 1, 1, 0, 1, 1, 0, 0, 1, 0, 0, 0, 0, 0, 0, 0, 1,\n",
              "       1, 1, 0, 1, 0, 0, 1, 1, 1, 1, 1, 0, 1, 0, 0, 0, 0, 1, 0, 0, 0, 0,\n",
              "       0, 1, 1, 0, 1, 0, 1, 1, 0, 0, 0, 1, 1, 0, 0, 0, 0, 0, 0, 0, 1, 1,\n",
              "       1, 0, 0, 0, 1, 0, 1, 0, 0, 1, 0, 1, 0, 1, 0, 0, 0, 0, 0, 0, 0, 0,\n",
              "       1, 0, 0, 0, 0, 0, 0, 0, 0, 1, 0, 1, 1, 1, 0, 0, 1, 0, 1, 0, 0, 0,\n",
              "       1, 1, 0, 0, 0, 1, 0, 1, 0, 0, 0, 0, 0, 0, 0, 0, 1, 1, 1, 1, 0, 1,\n",
              "       1, 0, 1, 0, 1, 1, 1, 1, 1, 1, 0, 0, 1, 0, 0, 0, 0, 0, 0, 0, 1, 1,\n",
              "       1, 0, 1, 0, 1, 0, 0, 0, 1, 0, 0, 0, 1, 1, 0, 0, 0, 1, 0, 0, 0, 0,\n",
              "       0, 0, 0, 0, 0, 0, 0, 1, 1, 1, 1, 1, 1, 1, 1, 0, 1, 1, 1, 1, 1, 0,\n",
              "       1, 1, 0, 1, 1, 1, 0, 1, 1, 1, 1, 1, 1, 1, 1, 1, 1, 1, 0, 1, 1, 1,\n",
              "       1, 1, 0, 1, 1, 1, 0, 1, 1, 1, 1, 1, 1, 1, 1, 1, 1, 1, 1, 1, 1, 1,\n",
              "       1, 1, 1, 1, 1, 1, 1, 1, 1, 1, 1, 1, 0, 1, 1, 1, 1, 1, 1, 1, 1, 1,\n",
              "       1, 1, 1, 1, 1, 1, 1, 1, 1, 1, 1, 1, 1, 1, 1, 1, 1, 1, 1, 1, 1, 1,\n",
              "       1, 1, 1, 1, 1, 1, 1, 1, 1, 1, 1, 1, 1, 1, 1, 1, 1, 1, 1, 1, 1, 0,\n",
              "       1, 1, 0, 0, 1, 0, 1, 1, 0, 1, 1, 1, 1, 0, 1, 1, 0, 0, 1, 1, 1, 0,\n",
              "       1, 1, 1, 1, 1, 1, 1, 1, 1, 1, 1, 1, 0, 1, 0, 1, 1, 1, 0, 1, 1, 1,\n",
              "       0, 1, 0, 1, 0, 1, 0, 1, 1, 1, 1, 0, 1, 0, 1, 1, 1, 1, 1, 1, 1, 1,\n",
              "       1, 0, 1, 0, 1, 1, 1, 1, 1, 1, 1, 0, 1, 1, 1, 1, 1, 1, 0, 1, 1, 1,\n",
              "       0, 1, 1, 0, 1, 0, 1, 1, 0, 1, 1, 1, 1, 0, 1, 1, 1, 0, 0, 1, 0, 1,\n",
              "       1, 1, 1, 1, 1, 1, 1, 1, 1, 1, 0, 1, 1, 1, 1, 0, 0, 1, 1, 1, 0, 1,\n",
              "       0, 1, 1, 0, 1, 0, 1, 1, 1, 0, 0, 0, 1, 1, 1, 0, 1, 1, 1, 1, 1, 1,\n",
              "       1, 1, 1, 1, 1, 1, 1, 1, 1, 1, 0, 1, 1, 1, 0, 1, 1, 0, 0, 1, 1, 1,\n",
              "       1, 1, 0, 1, 1, 0, 1, 1, 1, 0, 0, 1, 1, 1, 1, 1, 0, 1, 0, 1, 1, 0,\n",
              "       1, 0, 0, 0, 1, 1, 1, 1, 0, 0, 0, 1, 0, 0, 1, 1, 0, 0, 1, 0, 0, 0,\n",
              "       0, 0, 0, 0, 1, 0, 1, 0, 0, 1, 1, 1, 1, 1, 0, 0, 1, 0, 0, 0, 1, 0,\n",
              "       1, 1, 1, 1, 1, 0, 0, 0, 0, 0, 1, 0, 1, 1, 0, 1, 0, 0, 0, 1, 0, 1,\n",
              "       0, 1, 1, 0, 0, 0, 0, 1, 0, 0, 0, 0, 1, 1, 1, 0, 0, 0, 0, 0, 0, 1,\n",
              "       0, 1, 1, 1, 1, 1, 0, 1, 0, 0, 0, 1, 0, 1, 1, 1, 0, 1, 1, 0, 1, 0,\n",
              "       1, 0, 0, 0, 1, 1, 0, 1, 1, 1, 1, 0, 0, 0, 1, 0, 0, 1, 1, 1, 0, 1,\n",
              "       0, 0, 0, 1, 0, 0, 1, 0, 1, 0, 1, 1, 1, 1, 1, 0, 0, 0, 0, 0, 0, 0,\n",
              "       1, 0, 0, 1, 1, 1, 0, 1, 0, 0, 0, 0, 0, 1, 0, 1, 1, 0, 0, 1, 1, 1,\n",
              "       1, 0, 0, 1, 1, 0, 0, 0, 1, 0, 0, 1, 0, 1, 0, 1, 0, 0, 0, 0, 0, 1,\n",
              "       0, 1, 1, 1, 1, 0, 0, 0, 1, 0, 1, 0, 0, 1, 0, 0, 0, 0, 0, 0, 1, 1,\n",
              "       0, 1, 0, 0, 1, 1, 0, 0, 1, 1, 0, 1, 0, 1, 0, 1, 0, 0, 1, 0, 0, 1,\n",
              "       0, 1, 1, 0, 1, 1, 1, 0, 1, 0, 0, 0, 0, 1, 1, 0, 0, 1, 1, 0, 1, 0,\n",
              "       0, 0, 0, 1, 0, 0, 1, 1, 1, 0, 0, 0, 1, 0, 1, 0, 1, 0, 1, 1, 1, 0,\n",
              "       0, 0, 1, 0, 1, 1, 1, 0, 1, 1, 1, 1, 1, 1, 0])"
            ]
          },
          "metadata": {},
          "execution_count": 92
        }
      ]
    },
    {
      "cell_type": "markdown",
      "source": [],
      "metadata": {
        "id": "NqZWIm7-71uG"
      }
    },
    {
      "cell_type": "markdown",
      "source": [
        "# SEPARANDO BASE DE TREINO E TESTE\n",
        "--------------------------------------------------------------------------------\n"
      ],
      "metadata": {
        "id": "W59xZsxx73LL"
      }
    },
    {
      "cell_type": "code",
      "source": [
        "from sklearn.model_selection import train_test_split"
      ],
      "metadata": {
        "id": "qArvOU5L8FAm"
      },
      "execution_count": 93,
      "outputs": []
    },
    {
      "cell_type": "markdown",
      "source": [
        "Parâmetros do Train_Test_Split:\n",
        "* arrays : nomes dos atributos previsores e alvo\n",
        "* test_size : tamanho em porcentagem dos dados de teste. Default é none.\n",
        "* train_size : tamanho em porcentagem dos dados de treinamento. Default é none.\n",
        "* randon_state : nomeação de um estado aleatório\n",
        "* shuffle : embaralhamento dos dados aleatórios. Associado com random _state ocorre o mesmo embaralhamento sempre. Default é True.\n",
        "* stratify : possibilidade de dividir os dados de forma estratificada. Default é none. ( Nesse caso é mantida a proporção, isto é, se tem 30% de zeros e 70% de 1 no DataFrame, na separação em treinamento e teste se manterá essa proporção ).\n"
      ],
      "metadata": {
        "id": "APGFgbmF8VAD"
      }
    },
    {
      "cell_type": "code",
      "source": [
        "# x_treino,x_teste,y_treino,y_teste = train_test_split(previsores3_esc,alvo,test_size=0.3,random_state=0)"
      ],
      "metadata": {
        "id": "zY3p11bZ_dKs"
      },
      "execution_count": 94,
      "outputs": []
    },
    {
      "cell_type": "code",
      "source": [
        "x_treino,x_teste,y_treino,y_teste = train_test_split(previsores ,alvo,test_size=0.3,random_state=0)"
      ],
      "metadata": {
        "id": "vX45zQqfLm0i"
      },
      "execution_count": 95,
      "outputs": []
    },
    {
      "cell_type": "code",
      "source": [
        "x_treino.shape"
      ],
      "metadata": {
        "colab": {
          "base_uri": "https://localhost:8080/"
        },
        "id": "bMFYpHEa_4bD",
        "outputId": "a112e0ba-17bc-492c-d786-39c6bfdc44a5"
      },
      "execution_count": 96,
      "outputs": [
        {
          "output_type": "execute_result",
          "data": {
            "text/plain": [
              "(641, 11)"
            ]
          },
          "metadata": {},
          "execution_count": 96
        }
      ]
    },
    {
      "cell_type": "code",
      "source": [
        "x_teste.shape"
      ],
      "metadata": {
        "colab": {
          "base_uri": "https://localhost:8080/"
        },
        "id": "inuhPz1M_8X1",
        "outputId": "b1d2d9c8-12c3-4abc-98dc-4673b15ecd5c"
      },
      "execution_count": 97,
      "outputs": [
        {
          "output_type": "execute_result",
          "data": {
            "text/plain": [
              "(276, 11)"
            ]
          },
          "metadata": {},
          "execution_count": 97
        }
      ]
    },
    {
      "cell_type": "code",
      "source": [
        "y_teste.shape"
      ],
      "metadata": {
        "colab": {
          "base_uri": "https://localhost:8080/"
        },
        "id": "5Nch3pLTADm0",
        "outputId": "02c83452-835d-4076-ef6c-89862e23a4b2"
      },
      "execution_count": 98,
      "outputs": [
        {
          "output_type": "execute_result",
          "data": {
            "text/plain": [
              "(276,)"
            ]
          },
          "metadata": {},
          "execution_count": 98
        }
      ]
    },
    {
      "cell_type": "markdown",
      "source": [
        "# NAIVE BAYES\n",
        "--------------------------------------------------------------------------------\n",
        "--------------------------------------------------------------------------------\n"
      ],
      "metadata": {
        "id": "-XNIOHnJBBYZ"
      }
    },
    {
      "cell_type": "code",
      "source": [
        "# Treinamento do algotitmo\n",
        "from sklearn.naive_bayes import GaussianNB"
      ],
      "metadata": {
        "id": "b4mfkO4iJU0D"
      },
      "execution_count": 163,
      "outputs": []
    },
    {
      "cell_type": "code",
      "source": [
        "naive = GaussianNB()"
      ],
      "metadata": {
        "id": "0zRaiUPoJuQi"
      },
      "execution_count": 164,
      "outputs": []
    },
    {
      "cell_type": "code",
      "source": [
        "naive.fit(x_treino,y_treino)"
      ],
      "metadata": {
        "colab": {
          "base_uri": "https://localhost:8080/"
        },
        "id": "PFFY4Z2lJ0Hw",
        "outputId": "2ae5c762-d8b9-45b6-d9e8-174563a9f35b"
      },
      "execution_count": 165,
      "outputs": [
        {
          "output_type": "execute_result",
          "data": {
            "text/plain": [
              "GaussianNB()"
            ]
          },
          "metadata": {},
          "execution_count": 165
        }
      ]
    },
    {
      "cell_type": "code",
      "source": [
        "previsoes_naive = naive.predict(x_teste)\n",
        "previsoes_naive"
      ],
      "metadata": {
        "colab": {
          "base_uri": "https://localhost:8080/"
        },
        "id": "EPHvsY7dKO_D",
        "outputId": "f990d43b-d2a8-4e67-fb11-3b4f9a55b824"
      },
      "execution_count": 166,
      "outputs": [
        {
          "output_type": "execute_result",
          "data": {
            "text/plain": [
              "array([1, 1, 1, 0, 0, 0, 0, 0, 0, 0, 1, 1, 1, 1, 0, 1, 1, 1, 1, 0, 1, 1,\n",
              "       1, 0, 0, 0, 1, 1, 0, 1, 1, 0, 0, 0, 1, 0, 0, 0, 1, 0, 0, 1, 1, 1,\n",
              "       1, 0, 0, 1, 0, 1, 0, 0, 0, 1, 1, 0, 0, 0, 0, 0, 1, 0, 1, 0, 1, 1,\n",
              "       1, 0, 1, 0, 1, 1, 0, 1, 1, 1, 1, 1, 1, 1, 0, 1, 0, 0, 1, 1, 1, 1,\n",
              "       1, 0, 1, 0, 0, 0, 1, 0, 1, 0, 0, 0, 0, 0, 1, 1, 0, 1, 1, 0, 0, 1,\n",
              "       1, 1, 1, 1, 1, 1, 0, 1, 1, 1, 1, 1, 1, 0, 1, 1, 0, 1, 0, 1, 0, 1,\n",
              "       1, 1, 1, 1, 1, 1, 1, 0, 0, 1, 0, 1, 0, 0, 1, 1, 0, 0, 0, 1, 0, 0,\n",
              "       1, 0, 1, 1, 1, 0, 1, 1, 1, 0, 1, 0, 1, 0, 1, 0, 1, 1, 0, 0, 0, 1,\n",
              "       1, 0, 0, 1, 1, 1, 0, 1, 1, 1, 0, 1, 1, 0, 0, 0, 1, 1, 1, 1, 0, 0,\n",
              "       1, 0, 1, 1, 0, 1, 1, 0, 0, 0, 1, 0, 1, 1, 0, 0, 0, 0, 1, 0, 1, 1,\n",
              "       1, 0, 0, 1, 1, 1, 0, 1, 1, 1, 0, 1, 1, 1, 0, 1, 1, 1, 0, 1, 1, 0,\n",
              "       1, 0, 0, 0, 0, 0, 1, 0, 1, 0, 1, 0, 0, 0, 1, 0, 0, 1, 0, 1, 1, 0,\n",
              "       0, 0, 0, 0, 1, 0, 0, 0, 1, 1, 1, 0])"
            ]
          },
          "metadata": {},
          "execution_count": 166
        }
      ]
    },
    {
      "cell_type": "code",
      "source": [
        "from sklearn.metrics import accuracy_score, confusion_matrix, classification_report"
      ],
      "metadata": {
        "id": "sFxyFcefMxhN"
      },
      "execution_count": 167,
      "outputs": []
    },
    {
      "cell_type": "code",
      "source": [
        "accuracy_score(y_teste, previsoes_naive)"
      ],
      "metadata": {
        "colab": {
          "base_uri": "https://localhost:8080/"
        },
        "id": "ZlPVvZ6qM_qz",
        "outputId": "05a5289d-bb69-486f-c92a-42e2a4dce85d"
      },
      "execution_count": 168,
      "outputs": [
        {
          "output_type": "execute_result",
          "data": {
            "text/plain": [
              "0.8442028985507246"
            ]
          },
          "metadata": {},
          "execution_count": 168
        }
      ]
    },
    {
      "cell_type": "code",
      "source": [
        "confusion_matrix(y_teste,previsoes_naive)"
      ],
      "metadata": {
        "colab": {
          "base_uri": "https://localhost:8080/"
        },
        "id": "zoSv-61INpQA",
        "outputId": "bcefb789-f0ff-4827-f460-ca332b3a82a6"
      },
      "execution_count": 169,
      "outputs": [
        {
          "output_type": "execute_result",
          "data": {
            "text/plain": [
              "array([[102,  19],\n",
              "       [ 24, 131]])"
            ]
          },
          "metadata": {},
          "execution_count": 169
        }
      ]
    },
    {
      "cell_type": "code",
      "source": [
        "print(classification_report(y_teste,previsoes_naive))"
      ],
      "metadata": {
        "colab": {
          "base_uri": "https://localhost:8080/"
        },
        "id": "7mrqQp78N2XB",
        "outputId": "4d3b23a9-656e-4e85-8ce6-3a2fb6944eda"
      },
      "execution_count": 170,
      "outputs": [
        {
          "output_type": "stream",
          "name": "stdout",
          "text": [
            "              precision    recall  f1-score   support\n",
            "\n",
            "           0       0.81      0.84      0.83       121\n",
            "           1       0.87      0.85      0.86       155\n",
            "\n",
            "    accuracy                           0.84       276\n",
            "   macro avg       0.84      0.84      0.84       276\n",
            "weighted avg       0.85      0.84      0.84       276\n",
            "\n"
          ]
        }
      ]
    },
    {
      "cell_type": "markdown",
      "source": [
        "Analise de dados treino"
      ],
      "metadata": {
        "id": "wUI1GODtTRoz"
      }
    },
    {
      "cell_type": "code",
      "source": [
        "previsoes_treino = naive.predict(x_treino)\n",
        "previsoes_treino"
      ],
      "metadata": {
        "colab": {
          "base_uri": "https://localhost:8080/"
        },
        "id": "F6MeTxjVTVTZ",
        "outputId": "9f0679cf-1195-4594-b3fb-dffba22707cb"
      },
      "execution_count": 171,
      "outputs": [
        {
          "output_type": "execute_result",
          "data": {
            "text/plain": [
              "array([0, 0, 1, 1, 1, 1, 0, 0, 0, 0, 1, 0, 1, 1, 1, 0, 0, 0, 0, 1, 0, 0,\n",
              "       1, 1, 1, 0, 0, 1, 0, 1, 1, 0, 1, 1, 0, 0, 1, 1, 0, 1, 0, 1, 0, 0,\n",
              "       1, 1, 0, 1, 1, 1, 0, 0, 1, 0, 1, 0, 0, 0, 1, 0, 0, 0, 0, 0, 1, 1,\n",
              "       0, 1, 1, 0, 1, 1, 1, 1, 0, 0, 0, 1, 0, 1, 1, 1, 1, 1, 0, 1, 1, 1,\n",
              "       1, 1, 0, 1, 0, 0, 1, 1, 1, 1, 1, 1, 1, 1, 0, 1, 1, 1, 1, 0, 0, 1,\n",
              "       0, 0, 1, 0, 1, 0, 1, 0, 1, 0, 0, 0, 0, 1, 0, 1, 0, 0, 0, 1, 1, 0,\n",
              "       1, 1, 0, 0, 1, 0, 1, 1, 0, 1, 1, 1, 1, 1, 1, 0, 0, 1, 1, 0, 1, 0,\n",
              "       1, 0, 1, 1, 1, 1, 1, 0, 0, 0, 0, 1, 1, 0, 0, 0, 0, 1, 1, 0, 1, 0,\n",
              "       0, 1, 1, 0, 0, 0, 0, 0, 0, 1, 1, 1, 1, 0, 0, 0, 1, 0, 0, 0, 1, 1,\n",
              "       0, 1, 0, 1, 0, 1, 1, 1, 1, 1, 1, 0, 0, 0, 1, 1, 1, 1, 1, 0, 0, 1,\n",
              "       1, 0, 0, 1, 1, 0, 1, 1, 1, 1, 0, 1, 0, 1, 1, 0, 1, 0, 0, 0, 1, 0,\n",
              "       1, 1, 1, 1, 1, 1, 1, 0, 1, 1, 0, 0, 0, 0, 0, 0, 1, 0, 0, 1, 1, 0,\n",
              "       1, 0, 1, 0, 1, 0, 1, 1, 0, 1, 0, 1, 1, 0, 0, 0, 1, 0, 0, 0, 1, 1,\n",
              "       0, 1, 1, 1, 1, 0, 1, 1, 0, 1, 0, 1, 0, 1, 1, 0, 0, 1, 0, 1, 0, 1,\n",
              "       1, 0, 1, 0, 1, 0, 1, 0, 1, 0, 1, 0, 1, 1, 1, 1, 0, 1, 1, 1, 1, 0,\n",
              "       0, 0, 1, 0, 0, 0, 0, 1, 0, 1, 1, 1, 1, 1, 1, 0, 1, 1, 0, 1, 0, 1,\n",
              "       0, 0, 0, 0, 0, 0, 1, 0, 0, 1, 0, 1, 1, 0, 0, 0, 0, 0, 1, 1, 0, 1,\n",
              "       0, 1, 1, 1, 0, 0, 1, 1, 0, 1, 0, 1, 0, 0, 0, 1, 0, 1, 1, 0, 1, 1,\n",
              "       0, 0, 0, 1, 1, 1, 1, 0, 1, 0, 1, 1, 1, 0, 0, 1, 0, 1, 1, 1, 0, 0,\n",
              "       0, 1, 1, 1, 0, 1, 1, 0, 1, 0, 0, 0, 0, 1, 0, 1, 1, 1, 1, 0, 1, 1,\n",
              "       0, 0, 1, 1, 1, 1, 0, 1, 0, 0, 1, 0, 1, 1, 1, 1, 0, 0, 0, 1, 0, 1,\n",
              "       1, 1, 1, 1, 1, 0, 1, 1, 1, 1, 1, 1, 1, 1, 1, 0, 0, 0, 1, 0, 0, 0,\n",
              "       0, 0, 1, 0, 1, 1, 0, 0, 0, 1, 1, 0, 1, 1, 1, 0, 1, 1, 0, 0, 1, 1,\n",
              "       1, 0, 0, 0, 1, 1, 1, 1, 0, 1, 0, 0, 1, 0, 1, 1, 1, 0, 0, 1, 1, 0,\n",
              "       1, 0, 1, 0, 1, 0, 1, 0, 1, 0, 1, 1, 0, 1, 0, 1, 1, 0, 0, 1, 1, 1,\n",
              "       0, 1, 1, 0, 1, 0, 1, 1, 1, 0, 1, 1, 0, 0, 0, 0, 1, 0, 0, 1, 0, 1,\n",
              "       1, 0, 0, 0, 1, 0, 0, 0, 0, 0, 0, 1, 1, 1, 1, 0, 1, 0, 0, 0, 0, 0,\n",
              "       0, 0, 1, 0, 0, 0, 0, 0, 0, 0, 1, 0, 0, 1, 0, 0, 1, 0, 0, 1, 0, 1,\n",
              "       1, 1, 1, 1, 1, 0, 1, 0, 1, 1, 1, 1, 0, 1, 1, 0, 0, 0, 1, 0, 1, 0,\n",
              "       0, 0, 1])"
            ]
          },
          "metadata": {},
          "execution_count": 171
        }
      ]
    },
    {
      "cell_type": "code",
      "source": [
        "accuracy_score(y_treino,previsoes_treino)"
      ],
      "metadata": {
        "colab": {
          "base_uri": "https://localhost:8080/"
        },
        "id": "L2wzUmVyTiCS",
        "outputId": "90fbf188-6c3a-4ab4-f390-0e1187f85a52"
      },
      "execution_count": 172,
      "outputs": [
        {
          "output_type": "execute_result",
          "data": {
            "text/plain": [
              "0.8361934477379095"
            ]
          },
          "metadata": {},
          "execution_count": 172
        }
      ]
    },
    {
      "cell_type": "code",
      "source": [
        "confusion_matrix(y_treino,previsoes_treino)"
      ],
      "metadata": {
        "colab": {
          "base_uri": "https://localhost:8080/"
        },
        "id": "5x8KYM2mTq9w",
        "outputId": "2dd18389-a29c-496f-b5d0-9620abcc5b4c"
      },
      "execution_count": 173,
      "outputs": [
        {
          "output_type": "execute_result",
          "data": {
            "text/plain": [
              "array([[243,  46],\n",
              "       [ 59, 293]])"
            ]
          },
          "metadata": {},
          "execution_count": 173
        }
      ]
    },
    {
      "cell_type": "markdown",
      "source": [
        "### Validação cruzada"
      ],
      "metadata": {
        "id": "H6NgAN1GWts6"
      }
    },
    {
      "cell_type": "code",
      "source": [
        "from sklearn.model_selection import KFold\n",
        "from sklearn.model_selection import cross_val_score"
      ],
      "metadata": {
        "id": "0utzlO9LWyvI"
      },
      "execution_count": 174,
      "outputs": []
    },
    {
      "cell_type": "code",
      "source": [
        "# separando os dados em Folds\n",
        "kfold = KFold(n_splits=30, shuffle=True, random_state=5)"
      ],
      "metadata": {
        "id": "2pzmheGnXVg5"
      },
      "execution_count": 175,
      "outputs": []
    },
    {
      "cell_type": "code",
      "source": [
        "# Criando o modelo\n",
        "modelo = GaussianNB()\n",
        "resultado = cross_val_score(modelo,previsores3_esc,alvo,cv=kfold)\n"
      ],
      "metadata": {
        "id": "BnrbhlSoXmaT"
      },
      "execution_count": 176,
      "outputs": []
    },
    {
      "cell_type": "code",
      "source": [
        "resultado"
      ],
      "metadata": {
        "colab": {
          "base_uri": "https://localhost:8080/"
        },
        "id": "-BKYaZgRYC4r",
        "outputId": "3e38ba2c-3f9e-47bc-e690-bbed0da904e2"
      },
      "execution_count": 177,
      "outputs": [
        {
          "output_type": "execute_result",
          "data": {
            "text/plain": [
              "array([0.87096774, 0.87096774, 0.90322581, 0.80645161, 0.77419355,\n",
              "       0.90322581, 0.70967742, 0.87096774, 0.77419355, 0.87096774,\n",
              "       0.90322581, 0.77419355, 0.93548387, 0.90322581, 0.87096774,\n",
              "       0.87096774, 0.87096774, 0.93333333, 0.93333333, 0.9       ,\n",
              "       0.76666667, 0.83333333, 0.8       , 0.7       , 0.83333333,\n",
              "       0.93333333, 0.86666667, 0.9       , 0.86666667, 0.8       ])"
            ]
          },
          "metadata": {},
          "execution_count": 177
        }
      ]
    },
    {
      "cell_type": "code",
      "source": [
        "# Usando a média e desvio padrão"
      ],
      "metadata": {
        "id": "i5UYTzFbYH2U"
      },
      "execution_count": 178,
      "outputs": []
    },
    {
      "cell_type": "code",
      "source": [
        "print(\"Acurácia Média: %.2f%%\" %(resultado.mean()*100))"
      ],
      "metadata": {
        "colab": {
          "base_uri": "https://localhost:8080/"
        },
        "id": "Etj5ioPKYLB7",
        "outputId": "d7c2b7f2-62ca-4d66-d23e-c3191150b5fc"
      },
      "execution_count": 179,
      "outputs": [
        {
          "output_type": "stream",
          "name": "stdout",
          "text": [
            "Acurácia Média: 85.17%\n"
          ]
        }
      ]
    },
    {
      "cell_type": "markdown",
      "source": [
        "# MAQUNA DE VETOR DE SUPORTE SVM\n",
        "--------------------------------------------------------------------------------\n",
        "--------------------------------------------------------------------------------\n"
      ],
      "metadata": {
        "id": "r4aiMqyqS1S_"
      }
    },
    {
      "cell_type": "code",
      "source": [
        "from sklearn.svm import SVC   # Importando a biblioteca SVM especifico para classificação ( SVC )"
      ],
      "metadata": {
        "id": "_P2mBlaHTSyK"
      },
      "execution_count": 180,
      "outputs": []
    },
    {
      "cell_type": "code",
      "source": [
        "svm = SVC(kernel='rbf',random_state=1, C=2) # Cria o vetor \"svm\". A configuração kernel para transformar os dados para aplicação da forma correta\n",
        "svm.fit(x_treino, y_treino)  # Criação do fit de treinamento"
      ],
      "metadata": {
        "colab": {
          "base_uri": "https://localhost:8080/"
        },
        "id": "lK5_605XUOUu",
        "outputId": "01319c00-fb44-4a78-bf5b-7bf6415d1ccb"
      },
      "execution_count": 181,
      "outputs": [
        {
          "output_type": "execute_result",
          "data": {
            "text/plain": [
              "SVC(C=2, random_state=1)"
            ]
          },
          "metadata": {},
          "execution_count": 181
        }
      ]
    },
    {
      "cell_type": "code",
      "source": [
        "previsoes_svm=svm.predict(x_teste)   # Criação do PREVISOR baseado no svm\n",
        "previsoes_svm # Visualiza o resultado"
      ],
      "metadata": {
        "colab": {
          "base_uri": "https://localhost:8080/"
        },
        "id": "_BJzFAe2Un_5",
        "outputId": "1d74bf83-8516-4a1a-cbc0-95be740fea50"
      },
      "execution_count": 182,
      "outputs": [
        {
          "output_type": "execute_result",
          "data": {
            "text/plain": [
              "array([0, 1, 1, 1, 1, 0, 0, 0, 0, 1, 1, 1, 1, 1, 1, 1, 1, 1, 0, 0, 1, 1,\n",
              "       1, 0, 1, 1, 0, 1, 0, 1, 1, 1, 0, 0, 1, 0, 0, 0, 1, 0, 0, 1, 1, 1,\n",
              "       1, 0, 0, 0, 1, 1, 0, 0, 1, 1, 1, 0, 0, 1, 1, 0, 1, 0, 0, 0, 1, 1,\n",
              "       1, 0, 1, 0, 0, 1, 0, 1, 1, 1, 0, 1, 1, 1, 0, 1, 0, 0, 1, 0, 1, 1,\n",
              "       1, 0, 1, 1, 0, 1, 1, 0, 1, 0, 1, 1, 1, 1, 1, 1, 0, 0, 0, 0, 0, 0,\n",
              "       1, 1, 1, 1, 0, 1, 0, 1, 1, 1, 1, 1, 1, 1, 1, 1, 1, 0, 0, 1, 0, 1,\n",
              "       1, 1, 1, 0, 1, 1, 1, 0, 1, 1, 0, 1, 0, 0, 1, 1, 0, 0, 0, 1, 1, 0,\n",
              "       1, 0, 1, 0, 1, 1, 1, 0, 1, 1, 1, 0, 1, 0, 1, 1, 1, 0, 0, 0, 0, 1,\n",
              "       1, 0, 1, 1, 1, 1, 1, 1, 0, 1, 1, 1, 1, 1, 0, 1, 1, 1, 1, 1, 0, 0,\n",
              "       1, 1, 1, 1, 0, 0, 1, 1, 1, 0, 1, 0, 0, 1, 1, 0, 0, 0, 1, 0, 1, 1,\n",
              "       1, 0, 1, 0, 1, 1, 0, 1, 1, 1, 0, 1, 1, 1, 1, 1, 0, 0, 1, 1, 1, 0,\n",
              "       1, 1, 0, 0, 0, 0, 1, 1, 1, 0, 1, 1, 0, 1, 1, 0, 1, 1, 1, 1, 1, 1,\n",
              "       0, 1, 0, 0, 1, 0, 1, 0, 0, 1, 0, 0])"
            ]
          },
          "metadata": {},
          "execution_count": 182
        }
      ]
    },
    {
      "cell_type": "code",
      "source": [
        "y_teste # Visualiza a base y de teste"
      ],
      "metadata": {
        "colab": {
          "base_uri": "https://localhost:8080/"
        },
        "id": "MsosHvTPU6cI",
        "outputId": "d2a2dd2d-c67e-4283-9027-a5810d5228a4"
      },
      "execution_count": 183,
      "outputs": [
        {
          "output_type": "execute_result",
          "data": {
            "text/plain": [
              "array([1, 0, 1, 0, 0, 0, 0, 0, 0, 0, 1, 0, 1, 1, 0, 1, 1, 1, 1, 0, 1, 1,\n",
              "       1, 0, 0, 0, 1, 1, 0, 0, 1, 0, 0, 0, 1, 0, 1, 0, 1, 0, 0, 1, 1, 1,\n",
              "       1, 0, 0, 1, 1, 1, 1, 0, 0, 1, 1, 0, 0, 0, 1, 0, 1, 1, 1, 0, 1, 1,\n",
              "       1, 0, 1, 0, 1, 1, 1, 1, 1, 1, 1, 1, 1, 0, 0, 1, 0, 0, 1, 1, 0, 1,\n",
              "       1, 0, 1, 0, 0, 1, 1, 0, 1, 0, 0, 0, 0, 1, 1, 1, 0, 1, 0, 0, 0, 1,\n",
              "       0, 1, 1, 1, 0, 1, 1, 1, 1, 1, 1, 1, 1, 0, 0, 1, 0, 1, 0, 1, 0, 1,\n",
              "       0, 1, 0, 0, 0, 1, 1, 0, 1, 1, 0, 1, 0, 0, 1, 1, 1, 0, 1, 1, 0, 0,\n",
              "       0, 0, 1, 1, 1, 0, 1, 1, 1, 0, 1, 0, 1, 0, 1, 0, 1, 1, 0, 0, 1, 0,\n",
              "       0, 1, 0, 1, 1, 1, 0, 1, 1, 1, 0, 1, 1, 0, 0, 0, 1, 1, 1, 1, 1, 0,\n",
              "       1, 0, 1, 1, 0, 1, 1, 0, 0, 0, 1, 0, 1, 1, 0, 1, 0, 1, 1, 1, 1, 1,\n",
              "       1, 1, 0, 0, 0, 1, 0, 1, 1, 1, 0, 1, 0, 1, 1, 1, 1, 1, 0, 1, 1, 0,\n",
              "       1, 0, 1, 0, 0, 0, 1, 0, 1, 0, 1, 1, 0, 0, 1, 0, 0, 1, 0, 1, 1, 0,\n",
              "       0, 0, 0, 0, 1, 0, 0, 1, 1, 1, 1, 1])"
            ]
          },
          "metadata": {},
          "execution_count": 183
        }
      ]
    },
    {
      "cell_type": "code",
      "source": [
        "print(\"Acurácia: %.2f%%\" % (accuracy_score(y_teste, previsoes_svm)*100.0))"
      ],
      "metadata": {
        "colab": {
          "base_uri": "https://localhost:8080/"
        },
        "id": "pJl1y89lXXhf",
        "outputId": "6fcd29a7-15d9-4a64-e43e-89a2cd091b53"
      },
      "execution_count": 184,
      "outputs": [
        {
          "output_type": "stream",
          "name": "stdout",
          "text": [
            "Acurácia: 67.03%\n"
          ]
        }
      ]
    },
    {
      "cell_type": "code",
      "source": [
        "confusion_matrix(y_teste, previsoes_svm)"
      ],
      "metadata": {
        "colab": {
          "base_uri": "https://localhost:8080/"
        },
        "id": "X0kmBw8fYIsn",
        "outputId": "0d47ab60-323b-4c92-bd9d-25dcedbcc515"
      },
      "execution_count": 185,
      "outputs": [
        {
          "output_type": "execute_result",
          "data": {
            "text/plain": [
              "array([[ 68,  53],\n",
              "       [ 38, 117]])"
            ]
          },
          "metadata": {},
          "execution_count": 185
        }
      ]
    },
    {
      "cell_type": "code",
      "source": [
        "print(classification_report(y_teste, previsoes_svm))"
      ],
      "metadata": {
        "colab": {
          "base_uri": "https://localhost:8080/"
        },
        "id": "umcXzq3nYRPW",
        "outputId": "27379ae6-f31c-4612-e502-30fb622f7cea"
      },
      "execution_count": 186,
      "outputs": [
        {
          "output_type": "stream",
          "name": "stdout",
          "text": [
            "              precision    recall  f1-score   support\n",
            "\n",
            "           0       0.64      0.56      0.60       121\n",
            "           1       0.69      0.75      0.72       155\n",
            "\n",
            "    accuracy                           0.67       276\n",
            "   macro avg       0.66      0.66      0.66       276\n",
            "weighted avg       0.67      0.67      0.67       276\n",
            "\n"
          ]
        }
      ]
    },
    {
      "cell_type": "markdown",
      "source": [
        "## Analise dados de treino\n",
        "--------------------------------------------------------------------------------\n"
      ],
      "metadata": {
        "id": "p5hZaMUZs4NL"
      }
    },
    {
      "cell_type": "code",
      "source": [
        "previsoes_treino = svm.predict(x_treino)\n",
        "previsoes_treino"
      ],
      "metadata": {
        "id": "mbuyNXdos-yJ",
        "colab": {
          "base_uri": "https://localhost:8080/"
        },
        "outputId": "616f6e44-ed7d-4927-ff65-4375cdee08e9"
      },
      "execution_count": 187,
      "outputs": [
        {
          "output_type": "execute_result",
          "data": {
            "text/plain": [
              "array([1, 0, 1, 1, 0, 0, 1, 0, 0, 1, 1, 0, 1, 1, 1, 0, 0, 1, 0, 1, 0, 0,\n",
              "       1, 0, 1, 0, 0, 1, 1, 1, 1, 0, 1, 1, 0, 0, 1, 1, 0, 1, 0, 1, 0, 0,\n",
              "       1, 1, 0, 1, 1, 1, 1, 0, 1, 0, 1, 0, 1, 1, 0, 0, 0, 1, 0, 0, 1, 1,\n",
              "       1, 1, 1, 0, 0, 1, 1, 1, 0, 0, 1, 1, 0, 1, 1, 1, 1, 1, 0, 1, 1, 1,\n",
              "       1, 1, 1, 0, 0, 1, 1, 1, 1, 1, 1, 1, 0, 1, 1, 0, 1, 1, 1, 0, 0, 1,\n",
              "       0, 0, 1, 0, 1, 0, 0, 1, 1, 0, 0, 0, 0, 1, 0, 1, 1, 0, 1, 1, 1, 0,\n",
              "       1, 1, 0, 1, 0, 0, 1, 1, 0, 1, 1, 1, 1, 1, 1, 1, 1, 1, 1, 1, 1, 1,\n",
              "       1, 0, 1, 0, 1, 1, 1, 0, 0, 0, 0, 1, 1, 1, 0, 1, 0, 1, 1, 0, 1, 1,\n",
              "       0, 1, 1, 0, 1, 0, 0, 0, 0, 1, 1, 1, 1, 1, 0, 1, 1, 1, 0, 0, 1, 1,\n",
              "       1, 1, 0, 1, 0, 1, 1, 0, 0, 0, 0, 1, 0, 1, 1, 1, 1, 1, 1, 0, 1, 1,\n",
              "       0, 0, 1, 1, 1, 0, 1, 1, 1, 1, 1, 1, 1, 1, 1, 0, 1, 0, 0, 0, 1, 0,\n",
              "       1, 0, 0, 1, 1, 1, 1, 1, 1, 1, 0, 1, 0, 0, 0, 0, 1, 0, 0, 0, 1, 0,\n",
              "       1, 1, 1, 0, 1, 0, 0, 1, 1, 0, 0, 1, 1, 0, 0, 0, 1, 0, 0, 0, 1, 1,\n",
              "       0, 1, 1, 1, 1, 0, 1, 0, 1, 0, 0, 0, 0, 1, 1, 1, 0, 1, 0, 1, 0, 1,\n",
              "       1, 0, 1, 0, 0, 0, 1, 0, 1, 0, 1, 0, 1, 1, 1, 1, 0, 1, 1, 0, 1, 1,\n",
              "       1, 1, 1, 0, 1, 1, 0, 1, 0, 1, 1, 1, 1, 1, 1, 0, 1, 1, 0, 0, 0, 1,\n",
              "       0, 0, 1, 1, 0, 0, 1, 1, 0, 0, 1, 1, 1, 0, 0, 0, 0, 1, 1, 0, 0, 1,\n",
              "       1, 1, 1, 1, 0, 0, 1, 1, 0, 1, 0, 1, 0, 0, 0, 0, 1, 1, 0, 0, 1, 1,\n",
              "       0, 1, 1, 1, 1, 1, 1, 1, 1, 1, 0, 1, 1, 0, 0, 1, 1, 1, 1, 1, 0, 1,\n",
              "       1, 1, 1, 1, 1, 1, 0, 0, 1, 1, 1, 0, 0, 1, 0, 0, 1, 1, 1, 0, 1, 1,\n",
              "       0, 0, 1, 1, 0, 1, 0, 1, 1, 1, 1, 0, 1, 1, 1, 1, 0, 0, 1, 1, 0, 1,\n",
              "       1, 1, 1, 1, 1, 0, 1, 0, 1, 1, 1, 1, 0, 1, 1, 0, 0, 0, 1, 0, 1, 0,\n",
              "       1, 0, 0, 1, 1, 0, 1, 1, 0, 1, 1, 0, 1, 1, 1, 0, 1, 1, 0, 1, 1, 1,\n",
              "       1, 1, 0, 0, 0, 1, 0, 1, 0, 1, 1, 0, 1, 0, 1, 1, 0, 0, 0, 1, 1, 0,\n",
              "       1, 0, 0, 1, 1, 1, 1, 0, 0, 0, 1, 1, 0, 1, 0, 0, 0, 0, 0, 1, 0, 0,\n",
              "       0, 0, 1, 0, 1, 0, 1, 1, 1, 1, 1, 0, 1, 0, 1, 1, 1, 0, 0, 1, 0, 1,\n",
              "       1, 1, 1, 0, 1, 1, 0, 1, 1, 1, 1, 0, 1, 1, 1, 1, 1, 0, 1, 1, 1, 0,\n",
              "       0, 0, 1, 0, 0, 1, 1, 1, 0, 0, 1, 1, 0, 1, 0, 0, 1, 0, 0, 1, 0, 0,\n",
              "       1, 1, 0, 1, 0, 0, 0, 1, 1, 1, 1, 1, 0, 1, 1, 0, 1, 1, 1, 0, 1, 0,\n",
              "       1, 1, 1])"
            ]
          },
          "metadata": {},
          "execution_count": 187
        }
      ]
    },
    {
      "cell_type": "code",
      "source": [
        "accuracy_score(y_treino, previsoes_treino)\n",
        "confusion_matrix(y_treino,previsoes_treino)"
      ],
      "metadata": {
        "colab": {
          "base_uri": "https://localhost:8080/"
        },
        "id": "M3pDawGVtNwJ",
        "outputId": "8381cf60-9339-4c05-93ac-2ecce2603192"
      },
      "execution_count": 188,
      "outputs": [
        {
          "output_type": "execute_result",
          "data": {
            "text/plain": [
              "array([[181, 108],\n",
              "       [ 75, 277]])"
            ]
          },
          "metadata": {},
          "execution_count": 188
        }
      ]
    },
    {
      "cell_type": "markdown",
      "source": [
        "## Validação Cruzada\n",
        "--------------------------------------------------------------------------------\n"
      ],
      "metadata": {
        "id": "kNi3nrrYv8kS"
      }
    },
    {
      "cell_type": "code",
      "source": [
        "from sklearn.model_selection import KFold\n",
        "from sklearn.model_selection import cross_val_score"
      ],
      "metadata": {
        "id": "VV-p62QIx6LR"
      },
      "execution_count": 189,
      "outputs": []
    },
    {
      "cell_type": "code",
      "source": [
        "# separando os dados em Folds\n",
        "kfold = KFold(n_splits=30, shuffle=True, random_state=5)"
      ],
      "metadata": {
        "id": "L6cHmuDOwBxl"
      },
      "execution_count": 190,
      "outputs": []
    },
    {
      "cell_type": "code",
      "source": [
        "#Criando o modelo\n",
        "modelo=SVC(kernel=\"rbf\",random_state=1,C=2.0)\n",
        "resultado=cross_val_score(modelo, previsores3_esc,alvo,cv=kfold)"
      ],
      "metadata": {
        "id": "PaoxioxAv7e7"
      },
      "execution_count": 191,
      "outputs": []
    },
    {
      "cell_type": "code",
      "source": [
        "# Usando a média e o desvio padrão\n",
        "print(\" A Acurácia Média: %.2f%%\" % (resultado.mean()*100))"
      ],
      "metadata": {
        "colab": {
          "base_uri": "https://localhost:8080/"
        },
        "id": "ymo2dXFky2j9",
        "outputId": "1a9ea255-51c9-4018-96dd-9baa89d43806"
      },
      "execution_count": 192,
      "outputs": [
        {
          "output_type": "stream",
          "name": "stdout",
          "text": [
            " A Acurácia Média: 85.72%\n"
          ]
        }
      ]
    },
    {
      "cell_type": "markdown",
      "source": [
        "# REGRESSÃO LOGISTICA\n",
        "--------------------------------------------------------------------------------\n",
        "--------------------------------------------------------------------------------\n"
      ],
      "metadata": {
        "id": "oWA-fnm7F8wr"
      }
    },
    {
      "cell_type": "code",
      "source": [
        "from sklearn.model_selection import train_test_split"
      ],
      "metadata": {
        "id": "3F5UyYLAGKdz"
      },
      "execution_count": 193,
      "outputs": []
    },
    {
      "cell_type": "markdown",
      "source": [
        "### Parâmetros do train_test_split\n",
        "-----------------------------------\n",
        "\n",
        "arrays: nome dos atributos previsores e alvo\n",
        "\n",
        "test_size: tamanho em porcentagem dos dados de teste. Default é none.\n",
        "\n",
        "train_size: tamanho em porcentagem dos dados de treino. Default é none.\n",
        "\n",
        "randon_state : nomeação de um estado aleatório\n",
        "\n",
        "shufle: embaralhamento dos dados aleatórios. Associado com random_state ocorre o mesmo embaralhamento sempre.\n",
        "\n",
        "stratify : possibilidade de dividir os dados de forma estratificada. Default é none( nesse caso é manttida a proporção )"
      ],
      "metadata": {
        "id": "Tjlo95i0B3zz"
      }
    },
    {
      "cell_type": "code",
      "source": [
        "x_treino, x_teste, y_treino, y_teste = train_test_split(previsores, alvo, test_size=0.3, random_state=0)"
      ],
      "metadata": {
        "id": "enqC_k05DI48"
      },
      "execution_count": 194,
      "outputs": []
    },
    {
      "cell_type": "code",
      "source": [
        "x_treino.shape"
      ],
      "metadata": {
        "colab": {
          "base_uri": "https://localhost:8080/"
        },
        "id": "fwiCu-jeDgET",
        "outputId": "50ad0857-415e-4400-f8d2-462057f14e1a"
      },
      "execution_count": 195,
      "outputs": [
        {
          "output_type": "execute_result",
          "data": {
            "text/plain": [
              "(641, 11)"
            ]
          },
          "metadata": {},
          "execution_count": 195
        }
      ]
    },
    {
      "cell_type": "code",
      "source": [
        "y_treino.shape"
      ],
      "metadata": {
        "colab": {
          "base_uri": "https://localhost:8080/"
        },
        "id": "Rh9Gqem3DqVK",
        "outputId": "77738da9-d6a5-4682-8690-cf0f65bc0cf6"
      },
      "execution_count": 196,
      "outputs": [
        {
          "output_type": "execute_result",
          "data": {
            "text/plain": [
              "(641,)"
            ]
          },
          "metadata": {},
          "execution_count": 196
        }
      ]
    },
    {
      "cell_type": "code",
      "source": [
        "from sklearn.linear_model import LogisticRegression   # Importando biblioteca LogisticRegression"
      ],
      "metadata": {
        "id": "KnpvjtuhD4GT"
      },
      "execution_count": 197,
      "outputs": []
    },
    {
      "cell_type": "code",
      "source": [
        "logistica = LogisticRegression(random_state=1,max_iter=200, penalty=\"l2\", tol=0.0001,C=1,solver=\"lbfgs\")\n",
        "logistica.fit(x_treino,y_treino)"
      ],
      "metadata": {
        "colab": {
          "base_uri": "https://localhost:8080/"
        },
        "id": "GSBJsjRoEJia",
        "outputId": "95e94358-9278-4a54-9e76-e1c5a5363cca"
      },
      "execution_count": 198,
      "outputs": [
        {
          "output_type": "stream",
          "name": "stderr",
          "text": [
            "/usr/local/lib/python3.7/dist-packages/sklearn/linear_model/_logistic.py:818: ConvergenceWarning:\n",
            "\n",
            "lbfgs failed to converge (status=1):\n",
            "STOP: TOTAL NO. of ITERATIONS REACHED LIMIT.\n",
            "\n",
            "Increase the number of iterations (max_iter) or scale the data as shown in:\n",
            "    https://scikit-learn.org/stable/modules/preprocessing.html\n",
            "Please also refer to the documentation for alternative solver options:\n",
            "    https://scikit-learn.org/stable/modules/linear_model.html#logistic-regression\n",
            "\n"
          ]
        },
        {
          "output_type": "execute_result",
          "data": {
            "text/plain": [
              "LogisticRegression(C=1, max_iter=200, random_state=1)"
            ]
          },
          "metadata": {},
          "execution_count": 198
        }
      ]
    },
    {
      "cell_type": "code",
      "source": [
        "logistica.intercept_  # Verifica o resultado do Intercepto"
      ],
      "metadata": {
        "colab": {
          "base_uri": "https://localhost:8080/"
        },
        "id": "DcJvN5NBFYJ6",
        "outputId": "661c25dc-52ab-4a5c-f8c5-df046b028313"
      },
      "execution_count": 199,
      "outputs": [
        {
          "output_type": "execute_result",
          "data": {
            "text/plain": [
              "array([-0.38252081])"
            ]
          },
          "metadata": {},
          "execution_count": 199
        }
      ]
    },
    {
      "cell_type": "code",
      "source": [
        "logistica.coef_  # Verifica o resultado dos coefientes"
      ],
      "metadata": {
        "colab": {
          "base_uri": "https://localhost:8080/"
        },
        "id": "YbJsCi58FiMi",
        "outputId": "751b1320-2865-4176-ade4-df9ac7f89142"
      },
      "execution_count": 200,
      "outputs": [
        {
          "output_type": "execute_result",
          "data": {
            "text/plain": [
              "array([[-0.00288297, -1.26887413,  0.58309009, -0.00254355,  0.00334229,\n",
              "         0.97794865,  0.18613216, -0.01884256,  1.02840587,  0.26422546,\n",
              "         1.56839988]])"
            ]
          },
          "metadata": {},
          "execution_count": 200
        }
      ]
    },
    {
      "cell_type": "code",
      "source": [
        "previsoes_logistica = logistica.predict(x_teste)\n",
        "previsoes_logistica"
      ],
      "metadata": {
        "colab": {
          "base_uri": "https://localhost:8080/"
        },
        "id": "1m4zwhMwFFUz",
        "outputId": "9d475658-2142-419a-900e-cbf69d5d545b"
      },
      "execution_count": 201,
      "outputs": [
        {
          "output_type": "execute_result",
          "data": {
            "text/plain": [
              "array([1, 1, 1, 0, 0, 0, 0, 0, 0, 0, 1, 1, 1, 1, 0, 1, 1, 1, 1, 0, 1, 1,\n",
              "       1, 0, 0, 0, 1, 1, 1, 1, 1, 0, 0, 0, 1, 0, 0, 0, 1, 0, 0, 1, 1, 1,\n",
              "       1, 0, 0, 1, 0, 1, 1, 0, 0, 1, 1, 0, 0, 0, 0, 0, 1, 1, 1, 0, 1, 1,\n",
              "       1, 0, 1, 0, 1, 1, 0, 1, 1, 1, 1, 1, 1, 1, 1, 1, 0, 0, 1, 1, 1, 1,\n",
              "       1, 0, 1, 0, 0, 0, 1, 0, 1, 0, 0, 0, 0, 1, 1, 1, 0, 1, 1, 0, 0, 1,\n",
              "       1, 1, 1, 1, 1, 1, 0, 1, 1, 1, 1, 1, 1, 0, 1, 1, 0, 1, 0, 1, 0, 1,\n",
              "       1, 1, 1, 1, 1, 1, 1, 0, 0, 1, 0, 1, 0, 0, 1, 1, 1, 1, 0, 1, 1, 0,\n",
              "       1, 0, 1, 1, 1, 0, 1, 1, 1, 0, 1, 0, 1, 0, 1, 0, 1, 1, 0, 0, 0, 1,\n",
              "       1, 0, 0, 1, 1, 1, 0, 1, 1, 1, 0, 1, 1, 0, 0, 0, 1, 1, 1, 1, 0, 0,\n",
              "       1, 0, 1, 1, 0, 1, 1, 0, 0, 0, 1, 0, 1, 1, 0, 0, 0, 0, 1, 0, 1, 1,\n",
              "       1, 0, 0, 1, 1, 1, 0, 1, 1, 1, 0, 1, 1, 1, 0, 1, 1, 1, 0, 1, 1, 0,\n",
              "       1, 0, 1, 0, 0, 0, 1, 0, 1, 0, 1, 0, 0, 0, 1, 0, 0, 1, 0, 1, 1, 0,\n",
              "       0, 1, 0, 0, 1, 0, 0, 1, 1, 1, 1, 1])"
            ]
          },
          "metadata": {},
          "execution_count": 201
        }
      ]
    },
    {
      "cell_type": "code",
      "source": [
        "print(\"Acurácia: %.2f%%\" % (accuracy_score(y_teste,previsoes_logistica)*100))"
      ],
      "metadata": {
        "colab": {
          "base_uri": "https://localhost:8080/"
        },
        "id": "uMLqbE1MFVqG",
        "outputId": "6e5e5fbf-d0f0-4678-9171-0652fd97dd62"
      },
      "execution_count": 202,
      "outputs": [
        {
          "output_type": "stream",
          "name": "stdout",
          "text": [
            "Acurácia: 85.14%\n"
          ]
        }
      ]
    },
    {
      "cell_type": "code",
      "source": [
        "confusion_matrix(y_teste,previsoes_logistica)"
      ],
      "metadata": {
        "colab": {
          "base_uri": "https://localhost:8080/"
        },
        "id": "Pn0HALluFyZM",
        "outputId": "e68bcdff-ca36-4d82-b362-29838e71e9ee"
      },
      "execution_count": 203,
      "outputs": [
        {
          "output_type": "execute_result",
          "data": {
            "text/plain": [
              "array([[ 97,  24],\n",
              "       [ 17, 138]])"
            ]
          },
          "metadata": {},
          "execution_count": 203
        }
      ]
    },
    {
      "cell_type": "code",
      "source": [
        "print(classification_report(y_teste,previsoes_logistica))"
      ],
      "metadata": {
        "colab": {
          "base_uri": "https://localhost:8080/"
        },
        "id": "RVeQvtUMF_eO",
        "outputId": "2f3465bf-9f47-47b6-a70c-5296ff20b0ad"
      },
      "execution_count": 204,
      "outputs": [
        {
          "output_type": "stream",
          "name": "stdout",
          "text": [
            "              precision    recall  f1-score   support\n",
            "\n",
            "           0       0.85      0.80      0.83       121\n",
            "           1       0.85      0.89      0.87       155\n",
            "\n",
            "    accuracy                           0.85       276\n",
            "   macro avg       0.85      0.85      0.85       276\n",
            "weighted avg       0.85      0.85      0.85       276\n",
            "\n"
          ]
        }
      ]
    },
    {
      "cell_type": "markdown",
      "source": [
        "## Analise dados de treino"
      ],
      "metadata": {
        "id": "qQZ3tZXkGZmE"
      }
    },
    {
      "cell_type": "code",
      "source": [
        "previsoes_treino= logistica.predict(x_treino)   # Criando Dataframe para receber dados treino\n",
        "previsoes_treino"
      ],
      "metadata": {
        "colab": {
          "base_uri": "https://localhost:8080/"
        },
        "id": "sVIex6QAGeOJ",
        "outputId": "436b895e-7c8c-48fc-f0ee-a5f988d1842c"
      },
      "execution_count": 205,
      "outputs": [
        {
          "output_type": "execute_result",
          "data": {
            "text/plain": [
              "array([1, 0, 1, 1, 1, 1, 0, 0, 0, 0, 1, 0, 1, 1, 1, 0, 0, 0, 0, 1, 1, 1,\n",
              "       1, 1, 1, 0, 0, 1, 0, 1, 1, 0, 1, 1, 0, 0, 1, 1, 0, 1, 0, 1, 0, 0,\n",
              "       1, 1, 0, 1, 1, 1, 0, 0, 1, 0, 1, 0, 1, 0, 1, 0, 0, 0, 1, 0, 1, 1,\n",
              "       0, 1, 1, 0, 1, 1, 1, 1, 0, 0, 0, 1, 0, 1, 1, 1, 1, 1, 0, 1, 1, 1,\n",
              "       1, 1, 0, 1, 0, 0, 1, 1, 1, 1, 1, 1, 0, 1, 0, 1, 1, 1, 1, 0, 0, 1,\n",
              "       0, 0, 1, 0, 1, 0, 1, 0, 1, 0, 0, 0, 0, 1, 0, 1, 0, 0, 1, 1, 1, 0,\n",
              "       1, 1, 0, 1, 0, 0, 1, 1, 0, 1, 1, 1, 1, 1, 0, 0, 0, 1, 1, 0, 1, 0,\n",
              "       1, 0, 1, 1, 1, 1, 1, 0, 0, 0, 0, 0, 1, 1, 0, 0, 0, 1, 1, 0, 1, 0,\n",
              "       0, 1, 1, 0, 0, 0, 0, 0, 0, 1, 1, 1, 1, 0, 0, 0, 1, 0, 0, 1, 1, 0,\n",
              "       1, 1, 0, 1, 0, 1, 1, 1, 1, 1, 1, 0, 0, 0, 1, 1, 1, 1, 1, 0, 0, 1,\n",
              "       1, 0, 0, 1, 1, 0, 1, 1, 1, 1, 0, 1, 0, 1, 1, 0, 1, 0, 1, 0, 1, 0,\n",
              "       1, 1, 0, 1, 1, 1, 1, 0, 1, 1, 0, 0, 0, 0, 0, 0, 1, 0, 1, 1, 1, 0,\n",
              "       1, 0, 1, 0, 1, 0, 1, 1, 0, 1, 0, 1, 1, 1, 0, 0, 1, 0, 0, 0, 1, 1,\n",
              "       1, 1, 1, 1, 1, 0, 1, 1, 0, 1, 0, 1, 0, 1, 1, 0, 0, 1, 0, 1, 1, 1,\n",
              "       1, 0, 1, 0, 1, 0, 1, 0, 1, 0, 1, 0, 1, 1, 1, 1, 0, 1, 1, 1, 1, 0,\n",
              "       0, 0, 1, 0, 0, 0, 1, 1, 0, 1, 1, 1, 1, 1, 1, 0, 1, 1, 0, 1, 0, 1,\n",
              "       0, 0, 0, 0, 0, 0, 1, 1, 0, 1, 0, 1, 1, 0, 0, 0, 0, 0, 1, 1, 0, 1,\n",
              "       0, 1, 1, 1, 0, 1, 1, 1, 0, 1, 0, 1, 0, 0, 0, 1, 0, 0, 1, 0, 1, 1,\n",
              "       0, 0, 0, 1, 1, 1, 1, 0, 1, 0, 1, 1, 1, 0, 0, 1, 0, 1, 1, 1, 0, 0,\n",
              "       0, 1, 1, 1, 0, 1, 1, 0, 1, 0, 0, 0, 0, 1, 1, 1, 1, 1, 1, 0, 1, 1,\n",
              "       0, 0, 1, 1, 1, 1, 0, 1, 0, 0, 1, 0, 1, 1, 1, 1, 0, 0, 0, 1, 0, 1,\n",
              "       1, 1, 1, 1, 1, 0, 1, 1, 1, 1, 1, 1, 1, 1, 1, 0, 0, 0, 1, 0, 0, 0,\n",
              "       0, 0, 1, 0, 1, 1, 0, 0, 0, 1, 1, 0, 1, 1, 1, 0, 1, 1, 0, 0, 1, 1,\n",
              "       1, 1, 0, 0, 1, 1, 1, 1, 0, 1, 0, 0, 1, 0, 1, 1, 1, 0, 0, 1, 1, 0,\n",
              "       1, 0, 1, 0, 1, 0, 1, 0, 1, 0, 1, 1, 0, 1, 1, 1, 1, 0, 0, 1, 1, 0,\n",
              "       0, 1, 1, 0, 1, 0, 1, 1, 1, 0, 1, 1, 0, 0, 0, 1, 1, 0, 0, 1, 0, 1,\n",
              "       1, 1, 0, 0, 1, 0, 0, 0, 0, 1, 0, 1, 1, 1, 1, 0, 1, 0, 0, 0, 0, 1,\n",
              "       0, 0, 1, 0, 0, 1, 0, 0, 0, 0, 1, 1, 0, 1, 0, 1, 1, 1, 1, 1, 0, 1,\n",
              "       1, 1, 0, 1, 1, 0, 1, 0, 1, 1, 1, 1, 0, 1, 1, 0, 0, 1, 1, 0, 1, 0,\n",
              "       0, 0, 1])"
            ]
          },
          "metadata": {},
          "execution_count": 205
        }
      ]
    },
    {
      "cell_type": "code",
      "source": [
        "print(\"Acurácia: %.2f%%\" % (accuracy_score(y_treino,previsoes_treino)*100))   # Verifica a acurácio da base treino"
      ],
      "metadata": {
        "colab": {
          "base_uri": "https://localhost:8080/"
        },
        "id": "OGf05_onHGf0",
        "outputId": "ba876c15-4798-4e95-8cac-ab633bbc6550"
      },
      "execution_count": 206,
      "outputs": [
        {
          "output_type": "stream",
          "name": "stdout",
          "text": [
            "Acurácia: 85.49%\n"
          ]
        }
      ]
    },
    {
      "cell_type": "code",
      "source": [
        "confusion_matrix(y_treino,previsoes_treino)"
      ],
      "metadata": {
        "colab": {
          "base_uri": "https://localhost:8080/"
        },
        "id": "VLmfdDr0HltK",
        "outputId": "02b90a08-1200-45b3-a66a-ccc4acf06b88"
      },
      "execution_count": 207,
      "outputs": [
        {
          "output_type": "execute_result",
          "data": {
            "text/plain": [
              "array([[238,  51],\n",
              "       [ 42, 310]])"
            ]
          },
          "metadata": {},
          "execution_count": 207
        }
      ]
    },
    {
      "cell_type": "code",
      "source": [
        "print(classification_report(y_treino,previsoes_treino))"
      ],
      "metadata": {
        "colab": {
          "base_uri": "https://localhost:8080/"
        },
        "id": "yx0chzOXHpiS",
        "outputId": "046a45ce-7440-42cd-a841-6d603fea82c1"
      },
      "execution_count": 208,
      "outputs": [
        {
          "output_type": "stream",
          "name": "stdout",
          "text": [
            "              precision    recall  f1-score   support\n",
            "\n",
            "           0       0.85      0.82      0.84       289\n",
            "           1       0.86      0.88      0.87       352\n",
            "\n",
            "    accuracy                           0.85       641\n",
            "   macro avg       0.85      0.85      0.85       641\n",
            "weighted avg       0.85      0.85      0.85       641\n",
            "\n"
          ]
        }
      ]
    },
    {
      "cell_type": "markdown",
      "source": [
        "## Validação Cruzada"
      ],
      "metadata": {
        "id": "aySCyx7aH1O0"
      }
    },
    {
      "cell_type": "code",
      "source": [
        "from sklearn.model_selection import KFold\n",
        "from sklearn.model_selection import cross_val_score"
      ],
      "metadata": {
        "id": "Bpaitdf4H4ft"
      },
      "execution_count": 209,
      "outputs": []
    },
    {
      "cell_type": "code",
      "source": [
        "# separando os dados em Folds\n",
        "kfold = KFold(n_splits=30, shuffle=True, random_state=5)"
      ],
      "metadata": {
        "id": "6YS23Q5rI46r"
      },
      "execution_count": 210,
      "outputs": []
    },
    {
      "cell_type": "code",
      "source": [
        "#Criando o modelo\n",
        "modelo=LogisticRegression(random_state=1,max_iter=200, penalty=\"l2\", tol=0.0001,C=1,solver=\"lbfgs\")\n",
        "resultado=cross_val_score(modelo, previsores3_esc,alvo,cv=kfold)"
      ],
      "metadata": {
        "id": "1YOnHGNmI-4q"
      },
      "execution_count": 211,
      "outputs": []
    },
    {
      "cell_type": "code",
      "source": [
        "# Usando a média e o desvio padrão\n",
        "print(\" A Acurácia Média: %.2f%%\" % (resultado.mean()*100))"
      ],
      "metadata": {
        "colab": {
          "base_uri": "https://localhost:8080/"
        },
        "id": "yrrGS622JC-i",
        "outputId": "f8d9cb5a-1514-46e5-8cb8-ab477a7be880"
      },
      "execution_count": 212,
      "outputs": [
        {
          "output_type": "stream",
          "name": "stdout",
          "text": [
            " A Acurácia Média: 85.83%\n"
          ]
        }
      ]
    },
    {
      "cell_type": "markdown",
      "source": [],
      "metadata": {
        "id": "rKZ0OsxzqkhG"
      }
    },
    {
      "cell_type": "markdown",
      "source": [
        "# K NN\n",
        "--------------------------------------------------------------------------------\n",
        "--------------------------------------------------------------------------------\n"
      ],
      "metadata": {
        "id": "NzfcjHY0qnYO"
      }
    },
    {
      "cell_type": "code",
      "source": [
        "from sklearn.neighbors import KNeighborsClassifier   # Importando a biblioteca"
      ],
      "metadata": {
        "id": "sztrQnp0qtxs"
      },
      "execution_count": 213,
      "outputs": []
    },
    {
      "cell_type": "code",
      "source": [
        "knn = KNeighborsClassifier(n_neighbors=5, metric='minkowski',p=2,)  #configurando o KNN\n",
        "knn.fit(x_treino,y_treino)   # Criando o modelo de treino"
      ],
      "metadata": {
        "colab": {
          "base_uri": "https://localhost:8080/"
        },
        "id": "PmKaNLpywFjG",
        "outputId": "862dc3ab-ee06-4eba-8e11-91349632c909"
      },
      "execution_count": 214,
      "outputs": [
        {
          "output_type": "execute_result",
          "data": {
            "text/plain": [
              "KNeighborsClassifier()"
            ]
          },
          "metadata": {},
          "execution_count": 214
        }
      ]
    },
    {
      "cell_type": "code",
      "source": [
        "previsoes_knn = knn.predict(x_teste)\n",
        "previsoes_knn"
      ],
      "metadata": {
        "colab": {
          "base_uri": "https://localhost:8080/"
        },
        "id": "8srgS_hFxiVm",
        "outputId": "7e47ca0f-b2df-4609-a4f6-678d7d3dd842"
      },
      "execution_count": 215,
      "outputs": [
        {
          "output_type": "execute_result",
          "data": {
            "text/plain": [
              "array([1, 1, 1, 1, 1, 0, 0, 0, 1, 1, 1, 0, 1, 1, 1, 1, 1, 1, 0, 0, 1, 1,\n",
              "       1, 1, 0, 1, 1, 1, 1, 0, 1, 0, 0, 0, 1, 0, 0, 0, 1, 0, 0, 1, 0, 1,\n",
              "       1, 0, 0, 0, 1, 1, 1, 1, 0, 1, 1, 1, 0, 1, 1, 0, 1, 0, 0, 0, 1, 1,\n",
              "       1, 0, 1, 0, 0, 0, 1, 1, 1, 1, 1, 1, 1, 0, 0, 0, 1, 0, 1, 0, 1, 1,\n",
              "       1, 0, 0, 0, 0, 0, 1, 0, 1, 0, 1, 1, 0, 1, 1, 1, 1, 0, 0, 0, 0, 0,\n",
              "       1, 1, 1, 1, 0, 1, 0, 1, 1, 1, 1, 1, 1, 1, 0, 1, 1, 0, 0, 1, 0, 1,\n",
              "       1, 0, 1, 1, 1, 1, 1, 0, 1, 1, 0, 1, 0, 0, 1, 1, 0, 1, 0, 1, 1, 0,\n",
              "       1, 0, 1, 1, 0, 1, 1, 0, 1, 1, 1, 0, 1, 0, 1, 1, 1, 1, 0, 1, 0, 1,\n",
              "       1, 0, 0, 0, 1, 1, 1, 1, 0, 1, 1, 1, 1, 1, 0, 1, 1, 1, 1, 1, 0, 0,\n",
              "       1, 1, 0, 1, 0, 0, 1, 1, 0, 1, 1, 0, 0, 0, 0, 0, 0, 0, 0, 0, 1, 1,\n",
              "       1, 0, 1, 0, 1, 1, 0, 1, 1, 1, 0, 1, 1, 1, 0, 1, 0, 0, 1, 1, 0, 0,\n",
              "       1, 0, 1, 1, 0, 0, 1, 1, 1, 0, 1, 1, 0, 1, 1, 0, 0, 1, 1, 1, 0, 1,\n",
              "       0, 1, 0, 0, 0, 0, 0, 0, 0, 1, 0, 0])"
            ]
          },
          "metadata": {},
          "execution_count": 215
        }
      ]
    },
    {
      "cell_type": "code",
      "source": [
        "print(\"Acuracia: %.2f%%\" % (accuracy_score(y_teste,previsoes_knn)*100))"
      ],
      "metadata": {
        "colab": {
          "base_uri": "https://localhost:8080/"
        },
        "id": "XAXPpnucwryU",
        "outputId": "00bb54e1-c66b-4f3d-e504-efa33001ec2c"
      },
      "execution_count": 216,
      "outputs": [
        {
          "output_type": "stream",
          "name": "stdout",
          "text": [
            "Acuracia: 65.58%\n"
          ]
        }
      ]
    },
    {
      "cell_type": "code",
      "source": [
        "confusion_matrix(y_teste,previsoes_knn)"
      ],
      "metadata": {
        "colab": {
          "base_uri": "https://localhost:8080/"
        },
        "id": "UnNF01XIx5TO",
        "outputId": "67172f2b-9b8d-478a-e190-571a5e231b8d"
      },
      "execution_count": 217,
      "outputs": [
        {
          "output_type": "execute_result",
          "data": {
            "text/plain": [
              "array([[ 71,  50],\n",
              "       [ 45, 110]])"
            ]
          },
          "metadata": {},
          "execution_count": 217
        }
      ]
    },
    {
      "cell_type": "code",
      "source": [
        "    print(classification_report(y_teste,previsoes_knn))"
      ],
      "metadata": {
        "colab": {
          "base_uri": "https://localhost:8080/"
        },
        "id": "m5zBUdASyFYO",
        "outputId": "1ff03261-74b9-4b78-ed8f-92ccfe6a6342"
      },
      "execution_count": 218,
      "outputs": [
        {
          "output_type": "stream",
          "name": "stdout",
          "text": [
            "              precision    recall  f1-score   support\n",
            "\n",
            "           0       0.61      0.59      0.60       121\n",
            "           1       0.69      0.71      0.70       155\n",
            "\n",
            "    accuracy                           0.66       276\n",
            "   macro avg       0.65      0.65      0.65       276\n",
            "weighted avg       0.65      0.66      0.65       276\n",
            "\n"
          ]
        }
      ]
    },
    {
      "cell_type": "markdown",
      "source": [
        "## Analise do treino"
      ],
      "metadata": {
        "id": "wfcu2oWZyRL2"
      }
    },
    {
      "cell_type": "code",
      "source": [
        "previsoes_treino= knn.predict(x_treino)   # Criando Dataframe para receber dados treino\n",
        "previsoes_treino"
      ],
      "metadata": {
        "colab": {
          "base_uri": "https://localhost:8080/"
        },
        "id": "bmHBBEKjyU5s",
        "outputId": "7d082252-a9ea-48fd-adec-5a7ca749ca03"
      },
      "execution_count": 219,
      "outputs": [
        {
          "output_type": "execute_result",
          "data": {
            "text/plain": [
              "array([1, 0, 1, 1, 1, 1, 1, 0, 0, 1, 1, 0, 1, 1, 1, 0, 0, 0, 0, 1, 0, 0,\n",
              "       1, 0, 1, 0, 0, 1, 1, 1, 1, 0, 1, 1, 0, 0, 1, 1, 0, 0, 0, 1, 0, 0,\n",
              "       1, 1, 0, 1, 1, 1, 0, 0, 1, 0, 1, 0, 0, 0, 1, 0, 0, 0, 1, 0, 1, 0,\n",
              "       1, 1, 1, 0, 1, 1, 1, 1, 0, 0, 0, 1, 0, 1, 1, 1, 1, 1, 0, 1, 1, 1,\n",
              "       1, 1, 1, 0, 0, 1, 1, 1, 0, 1, 1, 1, 1, 1, 1, 0, 0, 1, 1, 0, 1, 1,\n",
              "       0, 0, 1, 0, 1, 0, 1, 1, 1, 0, 0, 0, 0, 1, 1, 1, 0, 0, 1, 1, 1, 0,\n",
              "       1, 1, 0, 1, 0, 0, 1, 1, 0, 1, 1, 1, 1, 1, 0, 1, 1, 1, 1, 1, 1, 1,\n",
              "       1, 0, 1, 0, 1, 1, 1, 0, 0, 0, 0, 1, 1, 1, 0, 1, 0, 1, 1, 0, 1, 1,\n",
              "       0, 1, 1, 0, 1, 0, 0, 0, 0, 1, 1, 1, 1, 1, 0, 1, 1, 1, 0, 0, 1, 1,\n",
              "       1, 1, 1, 1, 0, 1, 0, 0, 1, 0, 0, 1, 0, 1, 1, 1, 1, 1, 1, 0, 1, 0,\n",
              "       1, 1, 0, 0, 1, 0, 1, 1, 1, 1, 1, 1, 1, 1, 1, 0, 1, 1, 1, 1, 1, 0,\n",
              "       1, 1, 0, 0, 0, 0, 1, 1, 1, 1, 0, 0, 0, 0, 0, 0, 0, 0, 1, 0, 1, 0,\n",
              "       1, 0, 1, 1, 1, 1, 1, 1, 1, 0, 0, 1, 1, 1, 0, 0, 1, 0, 0, 0, 1, 1,\n",
              "       0, 1, 1, 1, 1, 0, 1, 1, 1, 0, 0, 0, 0, 1, 1, 0, 0, 1, 0, 1, 1, 1,\n",
              "       1, 0, 1, 0, 0, 0, 1, 0, 1, 1, 1, 0, 0, 1, 1, 1, 0, 1, 1, 1, 1, 1,\n",
              "       0, 1, 1, 0, 0, 0, 0, 1, 0, 1, 1, 1, 1, 1, 1, 0, 1, 1, 0, 1, 0, 1,\n",
              "       0, 1, 1, 0, 0, 1, 1, 1, 0, 0, 0, 1, 1, 0, 0, 0, 0, 0, 1, 1, 1, 1,\n",
              "       1, 1, 1, 1, 1, 1, 1, 1, 0, 1, 0, 1, 0, 0, 1, 0, 0, 0, 1, 1, 1, 1,\n",
              "       0, 1, 1, 1, 0, 1, 1, 0, 1, 1, 1, 1, 1, 0, 0, 1, 1, 1, 1, 0, 0, 0,\n",
              "       1, 1, 1, 1, 1, 1, 1, 0, 1, 1, 1, 0, 0, 1, 1, 0, 1, 1, 1, 1, 1, 1,\n",
              "       0, 0, 1, 1, 0, 1, 0, 1, 0, 0, 1, 0, 1, 1, 1, 1, 0, 0, 0, 1, 0, 1,\n",
              "       1, 1, 1, 1, 1, 0, 1, 0, 0, 1, 1, 1, 0, 1, 1, 0, 0, 0, 0, 0, 1, 0,\n",
              "       0, 0, 1, 1, 1, 1, 0, 1, 0, 1, 1, 0, 1, 1, 1, 0, 1, 1, 0, 1, 1, 1,\n",
              "       1, 0, 0, 0, 0, 1, 0, 1, 1, 1, 1, 0, 1, 0, 1, 1, 1, 1, 0, 1, 1, 1,\n",
              "       1, 0, 0, 1, 1, 0, 1, 0, 0, 0, 0, 1, 0, 1, 0, 1, 1, 1, 0, 1, 0, 1,\n",
              "       0, 0, 1, 0, 1, 0, 1, 0, 1, 0, 1, 1, 1, 0, 1, 1, 1, 0, 1, 1, 0, 1,\n",
              "       1, 1, 1, 0, 0, 1, 0, 0, 0, 0, 1, 0, 1, 1, 0, 0, 1, 0, 1, 0, 0, 0,\n",
              "       0, 0, 1, 0, 0, 1, 1, 0, 0, 0, 1, 1, 0, 0, 0, 1, 1, 0, 0, 1, 0, 0,\n",
              "       1, 1, 0, 1, 1, 0, 1, 0, 1, 1, 1, 1, 0, 1, 1, 0, 1, 1, 1, 0, 1, 0,\n",
              "       1, 0, 1])"
            ]
          },
          "metadata": {},
          "execution_count": 219
        }
      ]
    },
    {
      "cell_type": "code",
      "source": [
        "print(\"Acurácia: %.2f%%\" % (accuracy_score(y_treino,previsoes_treino)*100))   # Verifica a acurácio da base treino"
      ],
      "metadata": {
        "colab": {
          "base_uri": "https://localhost:8080/"
        },
        "id": "o48R4zTayYzM",
        "outputId": "16d61fe4-0de8-4214-8b95-e59b79373184"
      },
      "execution_count": 220,
      "outputs": [
        {
          "output_type": "stream",
          "name": "stdout",
          "text": [
            "Acurácia: 79.10%\n"
          ]
        }
      ]
    },
    {
      "cell_type": "code",
      "source": [
        "confusion_matrix(y_teste,previsoes_knn)"
      ],
      "metadata": {
        "colab": {
          "base_uri": "https://localhost:8080/"
        },
        "id": "mNGT1zTIyeA2",
        "outputId": "766f45d3-e7df-4c90-905c-f2abd1431146"
      },
      "execution_count": 221,
      "outputs": [
        {
          "output_type": "execute_result",
          "data": {
            "text/plain": [
              "array([[ 71,  50],\n",
              "       [ 45, 110]])"
            ]
          },
          "metadata": {},
          "execution_count": 221
        }
      ]
    },
    {
      "cell_type": "code",
      "source": [
        "print(classification_report(y_teste,previsoes_knn))"
      ],
      "metadata": {
        "colab": {
          "base_uri": "https://localhost:8080/"
        },
        "id": "rzZ6Ac2_yfl8",
        "outputId": "e8e6e0a0-51f1-4882-be21-9a5bcc5fd429"
      },
      "execution_count": 222,
      "outputs": [
        {
          "output_type": "stream",
          "name": "stdout",
          "text": [
            "              precision    recall  f1-score   support\n",
            "\n",
            "           0       0.61      0.59      0.60       121\n",
            "           1       0.69      0.71      0.70       155\n",
            "\n",
            "    accuracy                           0.66       276\n",
            "   macro avg       0.65      0.65      0.65       276\n",
            "weighted avg       0.65      0.66      0.65       276\n",
            "\n"
          ]
        }
      ]
    },
    {
      "cell_type": "markdown",
      "source": [
        "## Validação cruzada"
      ],
      "metadata": {
        "id": "xidlkF630s60"
      }
    },
    {
      "cell_type": "code",
      "source": [
        "from sklearn.model_selection import KFold\n",
        "from sklearn.model_selection import cross_val_score"
      ],
      "metadata": {
        "id": "-qfGHeYM028L"
      },
      "execution_count": 223,
      "outputs": []
    },
    {
      "cell_type": "code",
      "source": [
        "# separando os dados em Folds\n",
        "kfold = KFold(n_splits=30, shuffle=True, random_state=5)"
      ],
      "metadata": {
        "id": "oTGgRwem059v"
      },
      "execution_count": 224,
      "outputs": []
    },
    {
      "cell_type": "code",
      "source": [
        "#Criando o modelo\n",
        "modelo=KNeighborsClassifier(n_neighbors=7, metric='minkowski',p=1)\n",
        "resultado=cross_val_score(modelo, previsores3_esc,alvo,cv=kfold)"
      ],
      "metadata": {
        "id": "tyeJK2_x09Tr"
      },
      "execution_count": 225,
      "outputs": []
    },
    {
      "cell_type": "code",
      "source": [
        "# Usando a média e o desvio padrão\n",
        "print(\" A Acurácia Média: %.2f%%\" % (resultado.mean()*100))"
      ],
      "metadata": {
        "colab": {
          "base_uri": "https://localhost:8080/"
        },
        "id": "M3Q1wjzf2CXM",
        "outputId": "71a586c9-4c17-4e59-b799-de264ffcfaad"
      },
      "execution_count": 226,
      "outputs": [
        {
          "output_type": "stream",
          "name": "stdout",
          "text": [
            " A Acurácia Média: 85.84%\n"
          ]
        }
      ]
    },
    {
      "cell_type": "markdown",
      "source": [],
      "metadata": {
        "id": "960mERvymI5S"
      }
    },
    {
      "cell_type": "markdown",
      "source": [
        "# ARVORE DE DECISÃO\n",
        "--------------------------------------------------------------------------------\n",
        "--------------------------------------------------------------------------------\n"
      ],
      "metadata": {
        "id": "WFU9XiiemKIh"
      }
    },
    {
      "cell_type": "code",
      "source": [
        "from sklearn.tree import DecisionTreeClassifier"
      ],
      "metadata": {
        "id": "TZu6iVilmyDS"
      },
      "execution_count": 227,
      "outputs": []
    },
    {
      "cell_type": "code",
      "source": [
        "arvore = DecisionTreeClassifier(criterion='entropy',random_state=0,max_depth=3)\n",
        "arvore.fit(x_treino,y_treino)"
      ],
      "metadata": {
        "colab": {
          "base_uri": "https://localhost:8080/"
        },
        "id": "GcqtLaTipn57",
        "outputId": "b44de17a-1ee8-42ab-f0c7-6d46eae652b9"
      },
      "execution_count": 228,
      "outputs": [
        {
          "output_type": "execute_result",
          "data": {
            "text/plain": [
              "DecisionTreeClassifier(criterion='entropy', max_depth=3, random_state=0)"
            ]
          },
          "metadata": {},
          "execution_count": 228
        }
      ]
    },
    {
      "cell_type": "code",
      "source": [
        "previsoes_arvore = arvore.predict(x_teste)\n",
        "previsoes_arvore"
      ],
      "metadata": {
        "id": "S_ENQ7aHqQwr",
        "colab": {
          "base_uri": "https://localhost:8080/"
        },
        "outputId": "e616b03a-785e-40b3-a4bd-f58992126d00"
      },
      "execution_count": 229,
      "outputs": [
        {
          "output_type": "execute_result",
          "data": {
            "text/plain": [
              "array([1, 1, 1, 0, 0, 0, 1, 0, 0, 0, 1, 1, 1, 1, 0, 1, 1, 1, 1, 0, 1, 1,\n",
              "       0, 0, 0, 0, 1, 1, 0, 1, 1, 0, 0, 0, 1, 0, 0, 0, 1, 0, 0, 1, 1, 1,\n",
              "       1, 0, 0, 1, 0, 1, 1, 0, 0, 0, 1, 0, 0, 0, 0, 0, 1, 1, 0, 0, 1, 1,\n",
              "       1, 0, 1, 0, 1, 1, 0, 1, 1, 1, 0, 1, 1, 1, 1, 1, 0, 0, 1, 1, 1, 1,\n",
              "       1, 0, 1, 0, 0, 0, 0, 0, 1, 0, 0, 0, 0, 1, 1, 1, 0, 1, 0, 0, 0, 0,\n",
              "       0, 1, 1, 1, 0, 1, 1, 1, 1, 1, 1, 1, 1, 0, 0, 1, 0, 1, 0, 1, 0, 1,\n",
              "       1, 1, 0, 0, 0, 1, 0, 0, 0, 1, 0, 1, 0, 0, 1, 0, 1, 0, 0, 1, 1, 0,\n",
              "       1, 0, 1, 0, 1, 0, 1, 0, 1, 0, 1, 0, 1, 0, 1, 0, 1, 0, 0, 0, 1, 1,\n",
              "       1, 0, 0, 1, 1, 1, 0, 1, 1, 1, 0, 1, 1, 0, 1, 0, 1, 0, 1, 0, 0, 0,\n",
              "       1, 0, 1, 1, 0, 1, 1, 0, 0, 0, 1, 0, 1, 1, 0, 0, 0, 0, 1, 0, 1, 1,\n",
              "       1, 1, 0, 1, 1, 1, 0, 1, 1, 1, 0, 1, 1, 1, 0, 1, 0, 1, 0, 1, 1, 0,\n",
              "       1, 0, 0, 0, 0, 0, 1, 0, 1, 0, 1, 0, 0, 0, 1, 0, 0, 1, 0, 1, 1, 0,\n",
              "       0, 0, 0, 0, 1, 0, 0, 1, 1, 1, 1, 1])"
            ]
          },
          "metadata": {},
          "execution_count": 229
        }
      ]
    },
    {
      "cell_type": "code",
      "source": [
        "y_teste"
      ],
      "metadata": {
        "id": "b9iycNwCqgVp",
        "colab": {
          "base_uri": "https://localhost:8080/"
        },
        "outputId": "90e4e087-0ddd-42c9-9560-2f40a830a8d0"
      },
      "execution_count": 230,
      "outputs": [
        {
          "output_type": "execute_result",
          "data": {
            "text/plain": [
              "array([1, 0, 1, 0, 0, 0, 0, 0, 0, 0, 1, 0, 1, 1, 0, 1, 1, 1, 1, 0, 1, 1,\n",
              "       1, 0, 0, 0, 1, 1, 0, 0, 1, 0, 0, 0, 1, 0, 1, 0, 1, 0, 0, 1, 1, 1,\n",
              "       1, 0, 0, 1, 1, 1, 1, 0, 0, 1, 1, 0, 0, 0, 1, 0, 1, 1, 1, 0, 1, 1,\n",
              "       1, 0, 1, 0, 1, 1, 1, 1, 1, 1, 1, 1, 1, 0, 0, 1, 0, 0, 1, 1, 0, 1,\n",
              "       1, 0, 1, 0, 0, 1, 1, 0, 1, 0, 0, 0, 0, 1, 1, 1, 0, 1, 0, 0, 0, 1,\n",
              "       0, 1, 1, 1, 0, 1, 1, 1, 1, 1, 1, 1, 1, 0, 0, 1, 0, 1, 0, 1, 0, 1,\n",
              "       0, 1, 0, 0, 0, 1, 1, 0, 1, 1, 0, 1, 0, 0, 1, 1, 1, 0, 1, 1, 0, 0,\n",
              "       0, 0, 1, 1, 1, 0, 1, 1, 1, 0, 1, 0, 1, 0, 1, 0, 1, 1, 0, 0, 1, 0,\n",
              "       0, 1, 0, 1, 1, 1, 0, 1, 1, 1, 0, 1, 1, 0, 0, 0, 1, 1, 1, 1, 1, 0,\n",
              "       1, 0, 1, 1, 0, 1, 1, 0, 0, 0, 1, 0, 1, 1, 0, 1, 0, 1, 1, 1, 1, 1,\n",
              "       1, 1, 0, 0, 0, 1, 0, 1, 1, 1, 0, 1, 0, 1, 1, 1, 1, 1, 0, 1, 1, 0,\n",
              "       1, 0, 1, 0, 0, 0, 1, 0, 1, 0, 1, 1, 0, 0, 1, 0, 0, 1, 0, 1, 1, 0,\n",
              "       0, 0, 0, 0, 1, 0, 0, 1, 1, 1, 1, 1])"
            ]
          },
          "metadata": {},
          "execution_count": 230
        }
      ]
    },
    {
      "cell_type": "code",
      "source": [
        "print(\"Acurácia: %.2f%%\" % (accuracy_score(y_teste,previsoes_arvore)*100))"
      ],
      "metadata": {
        "id": "3SQdzIXnqmXR",
        "colab": {
          "base_uri": "https://localhost:8080/"
        },
        "outputId": "d33b947e-bb51-4661-b4f9-d3cb5d9fdc94"
      },
      "execution_count": 231,
      "outputs": [
        {
          "output_type": "stream",
          "name": "stdout",
          "text": [
            "Acurácia: 83.70%\n"
          ]
        }
      ]
    },
    {
      "cell_type": "code",
      "source": [
        "confusion_matrix(y_teste,previsoes_arvore)"
      ],
      "metadata": {
        "id": "hVozKgZwrT1x",
        "colab": {
          "base_uri": "https://localhost:8080/"
        },
        "outputId": "e5bfb9a5-72ba-4be6-8a94-9bf59c15d126"
      },
      "execution_count": 232,
      "outputs": [
        {
          "output_type": "execute_result",
          "data": {
            "text/plain": [
              "array([[105,  16],\n",
              "       [ 29, 126]])"
            ]
          },
          "metadata": {},
          "execution_count": 232
        }
      ]
    },
    {
      "cell_type": "code",
      "source": [
        "print(classification_report(y_teste,previsoes_arvore))"
      ],
      "metadata": {
        "id": "_-dTdPkKrh2L",
        "colab": {
          "base_uri": "https://localhost:8080/"
        },
        "outputId": "0cb1c691-ab2c-427e-f40c-4764a0bdb027"
      },
      "execution_count": 233,
      "outputs": [
        {
          "output_type": "stream",
          "name": "stdout",
          "text": [
            "              precision    recall  f1-score   support\n",
            "\n",
            "           0       0.78      0.87      0.82       121\n",
            "           1       0.89      0.81      0.85       155\n",
            "\n",
            "    accuracy                           0.84       276\n",
            "   macro avg       0.84      0.84      0.84       276\n",
            "weighted avg       0.84      0.84      0.84       276\n",
            "\n"
          ]
        }
      ]
    },
    {
      "cell_type": "markdown",
      "source": [
        "## Analise de treino"
      ],
      "metadata": {
        "id": "cHszGX2LrvAh"
      }
    },
    {
      "cell_type": "code",
      "source": [
        "previsoes_treino=arvore.predict(x_treino)\n",
        "previsoes_treino"
      ],
      "metadata": {
        "id": "puEAuPkyrxWy",
        "colab": {
          "base_uri": "https://localhost:8080/"
        },
        "outputId": "edb70da3-8a93-4849-8ed9-fb51a4fe69c7"
      },
      "execution_count": 234,
      "outputs": [
        {
          "output_type": "execute_result",
          "data": {
            "text/plain": [
              "array([1, 0, 1, 1, 1, 0, 0, 0, 0, 0, 1, 0, 1, 1, 1, 0, 0, 0, 0, 1, 0, 1,\n",
              "       1, 1, 1, 0, 0, 1, 0, 1, 1, 0, 1, 1, 0, 0, 0, 1, 0, 1, 0, 1, 0, 0,\n",
              "       1, 1, 0, 1, 1, 1, 1, 0, 1, 0, 1, 0, 1, 0, 1, 0, 0, 0, 0, 0, 1, 1,\n",
              "       0, 1, 1, 0, 0, 1, 1, 1, 0, 0, 0, 1, 0, 1, 1, 1, 1, 1, 0, 1, 1, 1,\n",
              "       1, 1, 0, 0, 0, 0, 1, 1, 1, 1, 1, 1, 0, 0, 0, 1, 1, 1, 1, 0, 0, 1,\n",
              "       0, 0, 1, 0, 1, 0, 1, 0, 1, 0, 0, 0, 0, 1, 0, 1, 0, 0, 1, 1, 1, 0,\n",
              "       0, 1, 0, 0, 1, 0, 1, 1, 0, 1, 1, 1, 1, 1, 1, 0, 0, 1, 1, 0, 1, 0,\n",
              "       1, 0, 1, 1, 1, 0, 1, 0, 0, 0, 0, 0, 1, 0, 0, 0, 0, 1, 1, 0, 1, 1,\n",
              "       0, 1, 1, 0, 0, 0, 0, 0, 0, 1, 1, 1, 1, 0, 0, 0, 1, 0, 0, 1, 1, 1,\n",
              "       1, 1, 0, 0, 0, 1, 1, 0, 0, 1, 1, 0, 0, 0, 1, 1, 1, 1, 1, 0, 0, 1,\n",
              "       1, 0, 0, 1, 1, 0, 1, 1, 1, 1, 1, 1, 0, 1, 1, 0, 1, 0, 1, 0, 1, 0,\n",
              "       1, 1, 1, 0, 1, 1, 1, 1, 1, 1, 0, 0, 0, 0, 0, 0, 0, 0, 0, 0, 1, 0,\n",
              "       1, 0, 1, 0, 1, 0, 1, 1, 0, 0, 0, 1, 1, 0, 0, 0, 1, 0, 0, 0, 1, 1,\n",
              "       0, 0, 1, 1, 1, 0, 1, 1, 1, 1, 0, 0, 0, 1, 1, 0, 0, 1, 0, 0, 1, 1,\n",
              "       1, 0, 1, 0, 0, 0, 1, 0, 1, 0, 1, 0, 1, 1, 1, 1, 0, 1, 1, 1, 1, 0,\n",
              "       0, 0, 1, 0, 0, 0, 1, 1, 0, 1, 1, 1, 1, 1, 1, 1, 1, 1, 0, 1, 0, 1,\n",
              "       0, 0, 0, 1, 0, 0, 1, 1, 0, 0, 0, 1, 1, 0, 0, 0, 0, 0, 1, 1, 0, 1,\n",
              "       0, 1, 1, 1, 0, 0, 1, 1, 0, 1, 0, 1, 0, 0, 0, 1, 0, 0, 1, 0, 1, 1,\n",
              "       0, 0, 1, 1, 1, 1, 1, 0, 1, 0, 1, 1, 1, 0, 0, 1, 0, 1, 1, 1, 0, 0,\n",
              "       0, 1, 1, 0, 0, 1, 1, 0, 0, 1, 0, 0, 0, 1, 1, 0, 1, 1, 1, 0, 1, 1,\n",
              "       0, 0, 1, 1, 0, 1, 0, 1, 0, 0, 1, 0, 1, 1, 1, 1, 0, 0, 1, 1, 0, 1,\n",
              "       1, 1, 1, 1, 1, 0, 1, 0, 1, 1, 1, 1, 0, 1, 1, 0, 0, 0, 1, 0, 0, 0,\n",
              "       0, 0, 1, 0, 1, 1, 1, 0, 0, 1, 1, 0, 1, 1, 1, 0, 1, 1, 0, 0, 1, 1,\n",
              "       1, 1, 0, 0, 1, 1, 0, 1, 0, 1, 0, 0, 0, 0, 1, 1, 0, 1, 0, 1, 1, 0,\n",
              "       1, 0, 1, 0, 1, 0, 1, 0, 0, 0, 1, 1, 0, 1, 1, 0, 1, 0, 0, 1, 1, 0,\n",
              "       0, 0, 1, 0, 1, 0, 1, 1, 1, 0, 1, 1, 1, 0, 0, 0, 1, 0, 0, 1, 0, 1,\n",
              "       1, 1, 0, 0, 1, 0, 0, 1, 0, 1, 0, 1, 1, 1, 1, 0, 1, 0, 0, 0, 0, 0,\n",
              "       0, 0, 0, 0, 0, 1, 0, 0, 0, 0, 1, 0, 1, 1, 0, 1, 1, 1, 1, 1, 0, 1,\n",
              "       1, 1, 0, 1, 1, 0, 1, 0, 1, 1, 0, 1, 0, 1, 1, 0, 0, 1, 1, 0, 1, 0,\n",
              "       1, 0, 1])"
            ]
          },
          "metadata": {},
          "execution_count": 234
        }
      ]
    },
    {
      "cell_type": "code",
      "source": [
        "accuracy_score(y_treino,previsoes_treino)"
      ],
      "metadata": {
        "id": "Rjx-cZZEr-RJ",
        "colab": {
          "base_uri": "https://localhost:8080/"
        },
        "outputId": "478f8bdc-4e43-4a8e-e17e-d8a06404454d"
      },
      "execution_count": 235,
      "outputs": [
        {
          "output_type": "execute_result",
          "data": {
            "text/plain": [
              "0.8517940717628705"
            ]
          },
          "metadata": {},
          "execution_count": 235
        }
      ]
    },
    {
      "cell_type": "code",
      "source": [
        "confusion_matrix(y_treino,previsoes_treino)"
      ],
      "metadata": {
        "id": "NYheKVY9sSOJ",
        "colab": {
          "base_uri": "https://localhost:8080/"
        },
        "outputId": "d75fc363-93ea-425e-bd0e-c5bf5b10f1dd"
      },
      "execution_count": 236,
      "outputs": [
        {
          "output_type": "execute_result",
          "data": {
            "text/plain": [
              "array([[249,  40],\n",
              "       [ 55, 297]])"
            ]
          },
          "metadata": {},
          "execution_count": 236
        }
      ]
    },
    {
      "cell_type": "markdown",
      "source": [
        "## VALIDAÇÃO CRUZADA\n",
        "--------------------------------------------------------------------------------\n"
      ],
      "metadata": {
        "id": "6Sup0M4CvavS"
      }
    },
    {
      "cell_type": "code",
      "source": [
        "from sklearn.model_selection import KFold\n",
        "from sklearn.model_selection import cross_val_score"
      ],
      "metadata": {
        "id": "mOPs406uvguI"
      },
      "execution_count": 237,
      "outputs": []
    },
    {
      "cell_type": "code",
      "source": [
        "# separando os dados em Folds\n",
        "kfold = KFold(n_splits=30, shuffle=True, random_state=5)"
      ],
      "metadata": {
        "id": "irlB4Hf2vnbM"
      },
      "execution_count": 238,
      "outputs": []
    },
    {
      "cell_type": "code",
      "source": [
        "#Criando o modelo\n",
        "modelo=DecisionTreeClassifier(criterion='entropy',random_state=0,max_depth=3)\n",
        "resultado=cross_val_score(modelo, previsores3_esc,alvo,cv=kfold)"
      ],
      "metadata": {
        "id": "rstN2nRovqLa"
      },
      "execution_count": 239,
      "outputs": []
    },
    {
      "cell_type": "code",
      "source": [
        "# Usando a média e o desvio padrão\n",
        "print(\" A Acurácia Média: %.2f%%\" % (resultado.mean()*100))"
      ],
      "metadata": {
        "id": "JGHIFQVJvu75",
        "colab": {
          "base_uri": "https://localhost:8080/"
        },
        "outputId": "2f2a9891-aed3-41c7-9c57-d325467351ad"
      },
      "execution_count": 240,
      "outputs": [
        {
          "output_type": "stream",
          "name": "stdout",
          "text": [
            " A Acurácia Média: 83.32%\n"
          ]
        }
      ]
    },
    {
      "cell_type": "markdown",
      "source": [
        "# XGBOOST\n",
        "--------------------------------------------------------------------------------\n",
        "--------------------------------------------------------------------------------\n"
      ],
      "metadata": {
        "id": "cgG--deNbS1w"
      }
    },
    {
      "cell_type": "code",
      "source": [
        "from xgboost import XGBClassifier"
      ],
      "metadata": {
        "id": "DIsfIQL2bdzP"
      },
      "execution_count": 241,
      "outputs": []
    },
    {
      "cell_type": "code",
      "source": [
        "xg=XGBClassifier(max_depth=2,learning_rate=0.1,n_estimators=200,objective='binary:logistic',random_state=3)\n",
        "xg.fit(x_treino, y_treino)"
      ],
      "metadata": {
        "colab": {
          "base_uri": "https://localhost:8080/"
        },
        "id": "sURS67A_cYsd",
        "outputId": "4e5878ab-dfbd-47d3-e38a-e8b3e310b179"
      },
      "execution_count": 242,
      "outputs": [
        {
          "output_type": "execute_result",
          "data": {
            "text/plain": [
              "XGBClassifier(max_depth=2, n_estimators=200, random_state=3)"
            ]
          },
          "metadata": {},
          "execution_count": 242
        }
      ]
    },
    {
      "cell_type": "code",
      "source": [
        "previsoes_xg = xg.predict(x_teste)\n",
        "previsoes_xg "
      ],
      "metadata": {
        "colab": {
          "base_uri": "https://localhost:8080/"
        },
        "id": "yCKPuUGlc_Eg",
        "outputId": "a3778d66-2bdf-4f9c-c735-c59a4aaa87a7"
      },
      "execution_count": 243,
      "outputs": [
        {
          "output_type": "execute_result",
          "data": {
            "text/plain": [
              "array([1, 1, 1, 0, 0, 0, 0, 0, 0, 0, 1, 1, 1, 1, 1, 1, 1, 1, 1, 0, 1, 1,\n",
              "       1, 0, 0, 0, 1, 1, 0, 1, 1, 0, 0, 0, 1, 0, 0, 0, 1, 0, 0, 1, 1, 1,\n",
              "       1, 0, 0, 1, 0, 1, 1, 0, 0, 0, 1, 0, 0, 0, 1, 0, 1, 1, 1, 0, 1, 1,\n",
              "       1, 0, 1, 0, 1, 1, 0, 1, 1, 1, 1, 1, 1, 1, 1, 1, 0, 0, 1, 1, 1, 1,\n",
              "       1, 0, 1, 0, 0, 0, 1, 0, 1, 0, 0, 0, 0, 1, 1, 1, 0, 1, 0, 0, 0, 1,\n",
              "       0, 1, 1, 1, 0, 1, 0, 1, 1, 1, 1, 1, 1, 0, 1, 0, 0, 1, 0, 1, 0, 1,\n",
              "       1, 1, 0, 0, 0, 1, 1, 0, 0, 1, 0, 1, 1, 0, 1, 1, 1, 0, 0, 1, 1, 0,\n",
              "       1, 0, 1, 1, 1, 0, 1, 1, 1, 1, 1, 0, 1, 0, 1, 0, 1, 1, 0, 0, 1, 0,\n",
              "       1, 0, 0, 1, 1, 1, 0, 1, 1, 1, 0, 1, 1, 0, 1, 0, 1, 0, 1, 1, 0, 0,\n",
              "       1, 0, 1, 1, 0, 1, 1, 0, 0, 0, 1, 0, 1, 1, 0, 1, 0, 0, 1, 0, 1, 1,\n",
              "       1, 0, 0, 0, 1, 1, 0, 1, 0, 1, 0, 1, 1, 1, 0, 1, 1, 1, 0, 1, 1, 0,\n",
              "       1, 0, 0, 0, 0, 0, 1, 0, 1, 0, 1, 1, 0, 0, 1, 0, 0, 1, 0, 0, 1, 0,\n",
              "       1, 0, 0, 0, 1, 0, 0, 1, 1, 1, 1, 1])"
            ]
          },
          "metadata": {},
          "execution_count": 243
        }
      ]
    },
    {
      "cell_type": "code",
      "source": [
        "print ('Acurácia: %.2f%%' % (accuracy_score(y_teste,previsoes_xg)*100))"
      ],
      "metadata": {
        "id": "rmtR5KW-dJAn",
        "colab": {
          "base_uri": "https://localhost:8080/"
        },
        "outputId": "c7b05065-6fef-474b-c088-2068768146ed"
      },
      "execution_count": 244,
      "outputs": [
        {
          "output_type": "stream",
          "name": "stdout",
          "text": [
            "Acurácia: 86.59%\n"
          ]
        }
      ]
    },
    {
      "cell_type": "code",
      "source": [
        "confusion_matrix(y_teste,previsoes_xg)"
      ],
      "metadata": {
        "colab": {
          "base_uri": "https://localhost:8080/"
        },
        "id": "4CtSaA3B90bc",
        "outputId": "facb3812-1493-4a0c-8878-7c3d3de015ed"
      },
      "execution_count": 245,
      "outputs": [
        {
          "output_type": "execute_result",
          "data": {
            "text/plain": [
              "array([[103,  18],\n",
              "       [ 19, 136]])"
            ]
          },
          "metadata": {},
          "execution_count": 245
        }
      ]
    },
    {
      "cell_type": "code",
      "source": [
        "print(classification_report(y_teste,previsoes_xg))"
      ],
      "metadata": {
        "colab": {
          "base_uri": "https://localhost:8080/"
        },
        "id": "Bg-I_eKj9-56",
        "outputId": "cb16e9c0-d4e2-4f3e-a130-06e5cdf80868"
      },
      "execution_count": 246,
      "outputs": [
        {
          "output_type": "stream",
          "name": "stdout",
          "text": [
            "              precision    recall  f1-score   support\n",
            "\n",
            "           0       0.84      0.85      0.85       121\n",
            "           1       0.88      0.88      0.88       155\n",
            "\n",
            "    accuracy                           0.87       276\n",
            "   macro avg       0.86      0.86      0.86       276\n",
            "weighted avg       0.87      0.87      0.87       276\n",
            "\n"
          ]
        }
      ]
    },
    {
      "cell_type": "markdown",
      "source": [
        "## Analise de treino\n",
        "--------------------------------------------------------------------------------\n"
      ],
      "metadata": {
        "id": "PmYb-2Uc-EHq"
      }
    },
    {
      "cell_type": "code",
      "source": [
        "previsoes_treino=xg.predict(x_treino)\n",
        "previsoes_treino"
      ],
      "metadata": {
        "colab": {
          "base_uri": "https://localhost:8080/"
        },
        "id": "hgRObV1u-kM-",
        "outputId": "f3c5e2d7-4a3d-4de3-e1d6-2c604bac4cfb"
      },
      "execution_count": 247,
      "outputs": [
        {
          "output_type": "execute_result",
          "data": {
            "text/plain": [
              "array([1, 0, 1, 1, 1, 1, 0, 0, 0, 0, 1, 0, 1, 1, 1, 0, 0, 0, 0, 1, 0, 1,\n",
              "       1, 1, 1, 0, 0, 1, 1, 1, 1, 0, 1, 1, 0, 0, 1, 1, 0, 1, 0, 1, 0, 0,\n",
              "       1, 1, 0, 1, 1, 1, 0, 0, 1, 0, 1, 0, 1, 0, 1, 0, 0, 0, 1, 0, 1, 1,\n",
              "       0, 0, 1, 0, 1, 1, 1, 1, 0, 0, 1, 1, 1, 1, 1, 1, 1, 1, 0, 1, 1, 1,\n",
              "       1, 1, 0, 0, 0, 0, 1, 1, 1, 1, 1, 1, 1, 1, 0, 1, 1, 1, 1, 0, 1, 1,\n",
              "       0, 0, 1, 0, 1, 0, 1, 0, 1, 0, 0, 0, 0, 1, 0, 1, 1, 0, 1, 1, 1, 0,\n",
              "       1, 1, 0, 0, 1, 0, 1, 0, 0, 1, 1, 1, 1, 1, 0, 0, 0, 1, 1, 0, 1, 0,\n",
              "       1, 0, 1, 1, 1, 0, 1, 0, 0, 0, 1, 0, 1, 0, 0, 0, 0, 1, 1, 0, 1, 0,\n",
              "       0, 1, 1, 0, 0, 0, 0, 0, 0, 1, 1, 1, 1, 1, 0, 0, 1, 0, 0, 1, 1, 1,\n",
              "       1, 1, 0, 0, 0, 1, 1, 1, 1, 1, 0, 0, 1, 0, 1, 1, 1, 1, 1, 0, 0, 1,\n",
              "       1, 0, 0, 1, 1, 1, 1, 1, 1, 1, 1, 1, 0, 1, 1, 0, 1, 0, 1, 0, 1, 0,\n",
              "       1, 1, 1, 1, 1, 1, 1, 1, 1, 1, 0, 0, 0, 0, 0, 0, 0, 0, 0, 0, 1, 0,\n",
              "       1, 0, 1, 1, 1, 0, 1, 1, 0, 0, 0, 1, 1, 0, 0, 0, 1, 0, 0, 0, 1, 1,\n",
              "       1, 1, 1, 1, 1, 0, 1, 1, 0, 1, 0, 0, 0, 1, 1, 0, 0, 1, 0, 1, 1, 1,\n",
              "       1, 0, 1, 0, 1, 0, 1, 0, 1, 1, 1, 0, 1, 1, 1, 1, 0, 1, 1, 1, 1, 0,\n",
              "       0, 0, 1, 0, 0, 0, 1, 1, 0, 1, 1, 1, 1, 1, 1, 0, 1, 1, 0, 1, 0, 1,\n",
              "       0, 0, 0, 1, 0, 1, 1, 1, 0, 1, 0, 1, 1, 0, 0, 0, 0, 0, 1, 1, 0, 1,\n",
              "       0, 1, 1, 1, 0, 1, 1, 1, 0, 1, 0, 1, 0, 0, 1, 1, 0, 1, 1, 1, 1, 1,\n",
              "       0, 0, 0, 1, 1, 1, 1, 0, 1, 1, 1, 1, 0, 0, 0, 1, 0, 1, 1, 1, 0, 0,\n",
              "       0, 1, 1, 0, 0, 1, 1, 0, 1, 0, 0, 0, 0, 1, 1, 0, 1, 1, 1, 1, 1, 1,\n",
              "       0, 0, 1, 1, 0, 1, 0, 1, 0, 0, 1, 0, 1, 1, 1, 1, 0, 0, 0, 1, 0, 1,\n",
              "       1, 1, 1, 1, 1, 0, 1, 0, 1, 1, 1, 1, 1, 1, 1, 0, 0, 0, 1, 0, 0, 0,\n",
              "       0, 0, 1, 0, 1, 1, 0, 0, 0, 1, 1, 0, 0, 1, 1, 0, 1, 1, 0, 0, 1, 1,\n",
              "       1, 1, 0, 0, 1, 1, 1, 1, 0, 1, 0, 0, 1, 0, 1, 1, 1, 1, 0, 1, 1, 0,\n",
              "       1, 0, 1, 0, 1, 0, 1, 0, 1, 0, 1, 1, 0, 1, 1, 1, 1, 0, 0, 1, 1, 0,\n",
              "       0, 1, 1, 0, 1, 0, 1, 1, 1, 0, 1, 1, 0, 1, 0, 1, 1, 0, 1, 1, 0, 1,\n",
              "       1, 1, 0, 0, 1, 0, 0, 0, 0, 0, 0, 1, 1, 1, 1, 0, 1, 0, 0, 0, 0, 0,\n",
              "       0, 0, 1, 0, 0, 0, 0, 0, 0, 0, 1, 0, 1, 1, 1, 1, 1, 1, 1, 1, 0, 1,\n",
              "       1, 1, 0, 1, 1, 0, 1, 1, 1, 1, 1, 1, 0, 1, 1, 0, 0, 1, 1, 0, 1, 0,\n",
              "       1, 0, 1])"
            ]
          },
          "metadata": {},
          "execution_count": 247
        }
      ]
    },
    {
      "cell_type": "code",
      "source": [
        "print ('Acurácia: %.2f%%' % (accuracy_score(y_treino,previsoes_treino)*100))"
      ],
      "metadata": {
        "colab": {
          "base_uri": "https://localhost:8080/"
        },
        "id": "L3xwsV27_MEF",
        "outputId": "0c635d71-8d1f-4bf6-800c-3ba75643351f"
      },
      "execution_count": 248,
      "outputs": [
        {
          "output_type": "stream",
          "name": "stdout",
          "text": [
            "Acurácia: 92.04%\n"
          ]
        }
      ]
    },
    {
      "cell_type": "code",
      "source": [
        "confusion_matrix(y_treino,previsoes_treino)"
      ],
      "metadata": {
        "colab": {
          "base_uri": "https://localhost:8080/"
        },
        "id": "LCwn8WTGAn-0",
        "outputId": "63f2dfdd-f417-4508-8ea3-2f6a572df904"
      },
      "execution_count": 249,
      "outputs": [
        {
          "output_type": "execute_result",
          "data": {
            "text/plain": [
              "array([[256,  33],\n",
              "       [ 18, 334]])"
            ]
          },
          "metadata": {},
          "execution_count": 249
        }
      ]
    },
    {
      "cell_type": "code",
      "source": [
        "print(classification_report(y_treino,previsoes_treino))"
      ],
      "metadata": {
        "colab": {
          "base_uri": "https://localhost:8080/"
        },
        "id": "BzDoD761Axaq",
        "outputId": "f82047b7-85f3-494a-ea7e-2c822dc94e02"
      },
      "execution_count": 250,
      "outputs": [
        {
          "output_type": "stream",
          "name": "stdout",
          "text": [
            "              precision    recall  f1-score   support\n",
            "\n",
            "           0       0.93      0.89      0.91       289\n",
            "           1       0.91      0.95      0.93       352\n",
            "\n",
            "    accuracy                           0.92       641\n",
            "   macro avg       0.92      0.92      0.92       641\n",
            "weighted avg       0.92      0.92      0.92       641\n",
            "\n"
          ]
        }
      ]
    },
    {
      "cell_type": "markdown",
      "source": [
        "## Validação cruzada"
      ],
      "metadata": {
        "id": "gCLptVorBaLv"
      }
    },
    {
      "cell_type": "code",
      "source": [
        "from sklearn.model_selection import KFold\t\t\n",
        "from sklearn.model_selection import cross_val_score\t\t\n",
        "kfold = KFold(n_splits=30, shuffle=True, random_state=5)\t\t\n",
        "modelo=XGBClassifier(max_depth=2,learning_rate=0.05,n_estimators=250,objective='binary:logistic',random_state=3)\t\t\n",
        "resultado=cross_val_score(modelo, previsores,alvo,cv=kfold)\t\t\n",
        "print(\" A Acurácia Média: %.2f%%\" % (resultado.mean()*100))\t\t"
      ],
      "metadata": {
        "colab": {
          "base_uri": "https://localhost:8080/"
        },
        "id": "tXlBQqo6Bdqi",
        "outputId": "2a9a05a5-3cdf-4f38-9b18-459f8688d752"
      },
      "execution_count": 251,
      "outputs": [
        {
          "output_type": "stream",
          "name": "stdout",
          "text": [
            " A Acurácia Média: 87.13%\n"
          ]
        }
      ]
    },
    {
      "cell_type": "markdown",
      "source": [
        "# CATBOOST\n",
        "--------------------------------------------------------------------------------\n",
        "--------------------------------------------------------------------------------\n"
      ],
      "metadata": {
        "id": "V4P671W15e2L"
      }
    },
    {
      "cell_type": "code",
      "source": [
        "# iNSTALAÇÃO\n",
        "!pip install catboost"
      ],
      "metadata": {
        "colab": {
          "base_uri": "https://localhost:8080/"
        },
        "id": "eOsVnyld6b76",
        "outputId": "54479e9b-d34a-497d-972d-85712cbc533d"
      },
      "execution_count": 252,
      "outputs": [
        {
          "output_type": "stream",
          "name": "stdout",
          "text": [
            "Looking in indexes: https://pypi.org/simple, https://us-python.pkg.dev/colab-wheels/public/simple/\n",
            "Collecting catboost\n",
            "  Downloading catboost-1.1.1-cp37-none-manylinux1_x86_64.whl (76.6 MB)\n",
            "\u001b[K     |████████████████████████████████| 76.6 MB 1.1 MB/s \n",
            "\u001b[?25hRequirement already satisfied: numpy>=1.16.0 in /usr/local/lib/python3.7/dist-packages (from catboost) (1.21.6)\n",
            "Requirement already satisfied: scipy in /usr/local/lib/python3.7/dist-packages (from catboost) (1.7.3)\n",
            "Requirement already satisfied: pandas>=0.24.0 in /usr/local/lib/python3.7/dist-packages (from catboost) (1.3.5)\n",
            "Requirement already satisfied: matplotlib in /usr/local/lib/python3.7/dist-packages (from catboost) (3.2.2)\n",
            "Requirement already satisfied: plotly in /usr/local/lib/python3.7/dist-packages (from catboost) (5.5.0)\n",
            "Requirement already satisfied: six in /usr/local/lib/python3.7/dist-packages (from catboost) (1.15.0)\n",
            "Requirement already satisfied: graphviz in /usr/local/lib/python3.7/dist-packages (from catboost) (0.10.1)\n",
            "Requirement already satisfied: python-dateutil>=2.7.3 in /usr/local/lib/python3.7/dist-packages (from pandas>=0.24.0->catboost) (2.8.2)\n",
            "Requirement already satisfied: pytz>=2017.3 in /usr/local/lib/python3.7/dist-packages (from pandas>=0.24.0->catboost) (2022.5)\n",
            "Requirement already satisfied: kiwisolver>=1.0.1 in /usr/local/lib/python3.7/dist-packages (from matplotlib->catboost) (1.4.4)\n",
            "Requirement already satisfied: cycler>=0.10 in /usr/local/lib/python3.7/dist-packages (from matplotlib->catboost) (0.11.0)\n",
            "Requirement already satisfied: pyparsing!=2.0.4,!=2.1.2,!=2.1.6,>=2.0.1 in /usr/local/lib/python3.7/dist-packages (from matplotlib->catboost) (3.0.9)\n",
            "Requirement already satisfied: typing-extensions in /usr/local/lib/python3.7/dist-packages (from kiwisolver>=1.0.1->matplotlib->catboost) (4.1.1)\n",
            "Requirement already satisfied: tenacity>=6.2.0 in /usr/local/lib/python3.7/dist-packages (from plotly->catboost) (8.1.0)\n",
            "Installing collected packages: catboost\n",
            "Successfully installed catboost-1.1.1\n"
          ]
        }
      ]
    },
    {
      "cell_type": "code",
      "source": [
        "from catboost import CatBoostClassifier"
      ],
      "metadata": {
        "id": "AxyMhxvx-yDJ"
      },
      "execution_count": 253,
      "outputs": []
    },
    {
      "cell_type": "code",
      "source": [
        "dados2"
      ],
      "metadata": {
        "colab": {
          "base_uri": "https://localhost:8080/",
          "height": 0
        },
        "id": "gAkXcAUv-66_",
        "outputId": "6940835c-2075-47f7-8306-c52b9981fa49"
      },
      "execution_count": 254,
      "outputs": [
        {
          "output_type": "execute_result",
          "data": {
            "text/plain": [
              "     Age Sex ChestPainType  RestingBP  Cholesterol  FastingBS RestingECG  \\\n",
              "0     40   M           ATA        140        289.0          0     Normal   \n",
              "1     49   F           NAP        160        180.0          0     Normal   \n",
              "2     37   M           ATA        130        283.0          0         ST   \n",
              "3     48   F           ASY        138        214.0          0     Normal   \n",
              "4     54   M           NAP        150        195.0          0     Normal   \n",
              "..   ...  ..           ...        ...          ...        ...        ...   \n",
              "913   45   M            TA        110        264.0          0     Normal   \n",
              "914   68   M           ASY        144        193.0          1     Normal   \n",
              "915   57   M           ASY        130        131.0          0     Normal   \n",
              "916   57   F           ATA        130        236.0          0        LVH   \n",
              "917   38   M           NAP        138        175.0          0     Normal   \n",
              "\n",
              "     MaxHR ExerciseAngina  Oldpeak ST_Slope  HeartDisease  \n",
              "0      172              N      0.0       Up             0  \n",
              "1      156              N      1.0     Flat             1  \n",
              "2       98              N      0.0       Up             0  \n",
              "3      108              Y      1.5     Flat             1  \n",
              "4      122              N      0.0       Up             0  \n",
              "..     ...            ...      ...      ...           ...  \n",
              "913    132              N      1.2     Flat             1  \n",
              "914    141              N      3.4     Flat             1  \n",
              "915    115              Y      1.2     Flat             1  \n",
              "916    174              N      0.0     Flat             1  \n",
              "917    173              N      0.0       Up             0  \n",
              "\n",
              "[917 rows x 12 columns]"
            ],
            "text/html": [
              "\n",
              "  <div id=\"df-39710bb3-2acc-49b8-8750-bc2701cd54dc\">\n",
              "    <div class=\"colab-df-container\">\n",
              "      <div>\n",
              "<style scoped>\n",
              "    .dataframe tbody tr th:only-of-type {\n",
              "        vertical-align: middle;\n",
              "    }\n",
              "\n",
              "    .dataframe tbody tr th {\n",
              "        vertical-align: top;\n",
              "    }\n",
              "\n",
              "    .dataframe thead th {\n",
              "        text-align: right;\n",
              "    }\n",
              "</style>\n",
              "<table border=\"1\" class=\"dataframe\">\n",
              "  <thead>\n",
              "    <tr style=\"text-align: right;\">\n",
              "      <th></th>\n",
              "      <th>Age</th>\n",
              "      <th>Sex</th>\n",
              "      <th>ChestPainType</th>\n",
              "      <th>RestingBP</th>\n",
              "      <th>Cholesterol</th>\n",
              "      <th>FastingBS</th>\n",
              "      <th>RestingECG</th>\n",
              "      <th>MaxHR</th>\n",
              "      <th>ExerciseAngina</th>\n",
              "      <th>Oldpeak</th>\n",
              "      <th>ST_Slope</th>\n",
              "      <th>HeartDisease</th>\n",
              "    </tr>\n",
              "  </thead>\n",
              "  <tbody>\n",
              "    <tr>\n",
              "      <th>0</th>\n",
              "      <td>40</td>\n",
              "      <td>M</td>\n",
              "      <td>ATA</td>\n",
              "      <td>140</td>\n",
              "      <td>289.0</td>\n",
              "      <td>0</td>\n",
              "      <td>Normal</td>\n",
              "      <td>172</td>\n",
              "      <td>N</td>\n",
              "      <td>0.0</td>\n",
              "      <td>Up</td>\n",
              "      <td>0</td>\n",
              "    </tr>\n",
              "    <tr>\n",
              "      <th>1</th>\n",
              "      <td>49</td>\n",
              "      <td>F</td>\n",
              "      <td>NAP</td>\n",
              "      <td>160</td>\n",
              "      <td>180.0</td>\n",
              "      <td>0</td>\n",
              "      <td>Normal</td>\n",
              "      <td>156</td>\n",
              "      <td>N</td>\n",
              "      <td>1.0</td>\n",
              "      <td>Flat</td>\n",
              "      <td>1</td>\n",
              "    </tr>\n",
              "    <tr>\n",
              "      <th>2</th>\n",
              "      <td>37</td>\n",
              "      <td>M</td>\n",
              "      <td>ATA</td>\n",
              "      <td>130</td>\n",
              "      <td>283.0</td>\n",
              "      <td>0</td>\n",
              "      <td>ST</td>\n",
              "      <td>98</td>\n",
              "      <td>N</td>\n",
              "      <td>0.0</td>\n",
              "      <td>Up</td>\n",
              "      <td>0</td>\n",
              "    </tr>\n",
              "    <tr>\n",
              "      <th>3</th>\n",
              "      <td>48</td>\n",
              "      <td>F</td>\n",
              "      <td>ASY</td>\n",
              "      <td>138</td>\n",
              "      <td>214.0</td>\n",
              "      <td>0</td>\n",
              "      <td>Normal</td>\n",
              "      <td>108</td>\n",
              "      <td>Y</td>\n",
              "      <td>1.5</td>\n",
              "      <td>Flat</td>\n",
              "      <td>1</td>\n",
              "    </tr>\n",
              "    <tr>\n",
              "      <th>4</th>\n",
              "      <td>54</td>\n",
              "      <td>M</td>\n",
              "      <td>NAP</td>\n",
              "      <td>150</td>\n",
              "      <td>195.0</td>\n",
              "      <td>0</td>\n",
              "      <td>Normal</td>\n",
              "      <td>122</td>\n",
              "      <td>N</td>\n",
              "      <td>0.0</td>\n",
              "      <td>Up</td>\n",
              "      <td>0</td>\n",
              "    </tr>\n",
              "    <tr>\n",
              "      <th>...</th>\n",
              "      <td>...</td>\n",
              "      <td>...</td>\n",
              "      <td>...</td>\n",
              "      <td>...</td>\n",
              "      <td>...</td>\n",
              "      <td>...</td>\n",
              "      <td>...</td>\n",
              "      <td>...</td>\n",
              "      <td>...</td>\n",
              "      <td>...</td>\n",
              "      <td>...</td>\n",
              "      <td>...</td>\n",
              "    </tr>\n",
              "    <tr>\n",
              "      <th>913</th>\n",
              "      <td>45</td>\n",
              "      <td>M</td>\n",
              "      <td>TA</td>\n",
              "      <td>110</td>\n",
              "      <td>264.0</td>\n",
              "      <td>0</td>\n",
              "      <td>Normal</td>\n",
              "      <td>132</td>\n",
              "      <td>N</td>\n",
              "      <td>1.2</td>\n",
              "      <td>Flat</td>\n",
              "      <td>1</td>\n",
              "    </tr>\n",
              "    <tr>\n",
              "      <th>914</th>\n",
              "      <td>68</td>\n",
              "      <td>M</td>\n",
              "      <td>ASY</td>\n",
              "      <td>144</td>\n",
              "      <td>193.0</td>\n",
              "      <td>1</td>\n",
              "      <td>Normal</td>\n",
              "      <td>141</td>\n",
              "      <td>N</td>\n",
              "      <td>3.4</td>\n",
              "      <td>Flat</td>\n",
              "      <td>1</td>\n",
              "    </tr>\n",
              "    <tr>\n",
              "      <th>915</th>\n",
              "      <td>57</td>\n",
              "      <td>M</td>\n",
              "      <td>ASY</td>\n",
              "      <td>130</td>\n",
              "      <td>131.0</td>\n",
              "      <td>0</td>\n",
              "      <td>Normal</td>\n",
              "      <td>115</td>\n",
              "      <td>Y</td>\n",
              "      <td>1.2</td>\n",
              "      <td>Flat</td>\n",
              "      <td>1</td>\n",
              "    </tr>\n",
              "    <tr>\n",
              "      <th>916</th>\n",
              "      <td>57</td>\n",
              "      <td>F</td>\n",
              "      <td>ATA</td>\n",
              "      <td>130</td>\n",
              "      <td>236.0</td>\n",
              "      <td>0</td>\n",
              "      <td>LVH</td>\n",
              "      <td>174</td>\n",
              "      <td>N</td>\n",
              "      <td>0.0</td>\n",
              "      <td>Flat</td>\n",
              "      <td>1</td>\n",
              "    </tr>\n",
              "    <tr>\n",
              "      <th>917</th>\n",
              "      <td>38</td>\n",
              "      <td>M</td>\n",
              "      <td>NAP</td>\n",
              "      <td>138</td>\n",
              "      <td>175.0</td>\n",
              "      <td>0</td>\n",
              "      <td>Normal</td>\n",
              "      <td>173</td>\n",
              "      <td>N</td>\n",
              "      <td>0.0</td>\n",
              "      <td>Up</td>\n",
              "      <td>0</td>\n",
              "    </tr>\n",
              "  </tbody>\n",
              "</table>\n",
              "<p>917 rows × 12 columns</p>\n",
              "</div>\n",
              "      <button class=\"colab-df-convert\" onclick=\"convertToInteractive('df-39710bb3-2acc-49b8-8750-bc2701cd54dc')\"\n",
              "              title=\"Convert this dataframe to an interactive table.\"\n",
              "              style=\"display:none;\">\n",
              "        \n",
              "  <svg xmlns=\"http://www.w3.org/2000/svg\" height=\"24px\"viewBox=\"0 0 24 24\"\n",
              "       width=\"24px\">\n",
              "    <path d=\"M0 0h24v24H0V0z\" fill=\"none\"/>\n",
              "    <path d=\"M18.56 5.44l.94 2.06.94-2.06 2.06-.94-2.06-.94-.94-2.06-.94 2.06-2.06.94zm-11 1L8.5 8.5l.94-2.06 2.06-.94-2.06-.94L8.5 2.5l-.94 2.06-2.06.94zm10 10l.94 2.06.94-2.06 2.06-.94-2.06-.94-.94-2.06-.94 2.06-2.06.94z\"/><path d=\"M17.41 7.96l-1.37-1.37c-.4-.4-.92-.59-1.43-.59-.52 0-1.04.2-1.43.59L10.3 9.45l-7.72 7.72c-.78.78-.78 2.05 0 2.83L4 21.41c.39.39.9.59 1.41.59.51 0 1.02-.2 1.41-.59l7.78-7.78 2.81-2.81c.8-.78.8-2.07 0-2.86zM5.41 20L4 18.59l7.72-7.72 1.47 1.35L5.41 20z\"/>\n",
              "  </svg>\n",
              "      </button>\n",
              "      \n",
              "  <style>\n",
              "    .colab-df-container {\n",
              "      display:flex;\n",
              "      flex-wrap:wrap;\n",
              "      gap: 12px;\n",
              "    }\n",
              "\n",
              "    .colab-df-convert {\n",
              "      background-color: #E8F0FE;\n",
              "      border: none;\n",
              "      border-radius: 50%;\n",
              "      cursor: pointer;\n",
              "      display: none;\n",
              "      fill: #1967D2;\n",
              "      height: 32px;\n",
              "      padding: 0 0 0 0;\n",
              "      width: 32px;\n",
              "    }\n",
              "\n",
              "    .colab-df-convert:hover {\n",
              "      background-color: #E2EBFA;\n",
              "      box-shadow: 0px 1px 2px rgba(60, 64, 67, 0.3), 0px 1px 3px 1px rgba(60, 64, 67, 0.15);\n",
              "      fill: #174EA6;\n",
              "    }\n",
              "\n",
              "    [theme=dark] .colab-df-convert {\n",
              "      background-color: #3B4455;\n",
              "      fill: #D2E3FC;\n",
              "    }\n",
              "\n",
              "    [theme=dark] .colab-df-convert:hover {\n",
              "      background-color: #434B5C;\n",
              "      box-shadow: 0px 1px 3px 1px rgba(0, 0, 0, 0.15);\n",
              "      filter: drop-shadow(0px 1px 2px rgba(0, 0, 0, 0.3));\n",
              "      fill: #FFFFFF;\n",
              "    }\n",
              "  </style>\n",
              "\n",
              "      <script>\n",
              "        const buttonEl =\n",
              "          document.querySelector('#df-39710bb3-2acc-49b8-8750-bc2701cd54dc button.colab-df-convert');\n",
              "        buttonEl.style.display =\n",
              "          google.colab.kernel.accessAllowed ? 'block' : 'none';\n",
              "\n",
              "        async function convertToInteractive(key) {\n",
              "          const element = document.querySelector('#df-39710bb3-2acc-49b8-8750-bc2701cd54dc');\n",
              "          const dataTable =\n",
              "            await google.colab.kernel.invokeFunction('convertToInteractive',\n",
              "                                                     [key], {});\n",
              "          if (!dataTable) return;\n",
              "\n",
              "          const docLinkHtml = 'Like what you see? Visit the ' +\n",
              "            '<a target=\"_blank\" href=https://colab.research.google.com/notebooks/data_table.ipynb>data table notebook</a>'\n",
              "            + ' to learn more about interactive tables.';\n",
              "          element.innerHTML = '';\n",
              "          dataTable['output_type'] = 'display_data';\n",
              "          await google.colab.output.renderOutput(dataTable, element);\n",
              "          const docLink = document.createElement('div');\n",
              "          docLink.innerHTML = docLinkHtml;\n",
              "          element.appendChild(docLink);\n",
              "        }\n",
              "      </script>\n",
              "    </div>\n",
              "  </div>\n",
              "  "
            ]
          },
          "metadata": {},
          "execution_count": 254
        }
      ]
    },
    {
      "cell_type": "code",
      "source": [
        "previsores4= dados2.iloc[:,0:11]"
      ],
      "metadata": {
        "id": "VcgZusKU_SoP"
      },
      "execution_count": 255,
      "outputs": []
    },
    {
      "cell_type": "code",
      "source": [
        "alvo4= dados2.iloc[:,11]"
      ],
      "metadata": {
        "id": "5mw4UvUbAv-v"
      },
      "execution_count": 256,
      "outputs": []
    },
    {
      "cell_type": "code",
      "source": [
        "alvo4.head()"
      ],
      "metadata": {
        "colab": {
          "base_uri": "https://localhost:8080/"
        },
        "id": "QK7h_5o2BCjG",
        "outputId": "26c6e296-87ec-4105-b29e-98697c0267a0"
      },
      "execution_count": 257,
      "outputs": [
        {
          "output_type": "execute_result",
          "data": {
            "text/plain": [
              "0    0\n",
              "1    1\n",
              "2    0\n",
              "3    1\n",
              "4    0\n",
              "Name: HeartDisease, dtype: int64"
            ]
          },
          "metadata": {},
          "execution_count": 257
        }
      ]
    },
    {
      "cell_type": "code",
      "source": [
        "previsores4.head()"
      ],
      "metadata": {
        "colab": {
          "base_uri": "https://localhost:8080/",
          "height": 0
        },
        "id": "vfPa0rF3_caX",
        "outputId": "1418292e-a021-4c80-cc20-10c9df887579"
      },
      "execution_count": 258,
      "outputs": [
        {
          "output_type": "execute_result",
          "data": {
            "text/plain": [
              "   Age Sex ChestPainType  RestingBP  Cholesterol  FastingBS RestingECG  MaxHR  \\\n",
              "0   40   M           ATA        140        289.0          0     Normal    172   \n",
              "1   49   F           NAP        160        180.0          0     Normal    156   \n",
              "2   37   M           ATA        130        283.0          0         ST     98   \n",
              "3   48   F           ASY        138        214.0          0     Normal    108   \n",
              "4   54   M           NAP        150        195.0          0     Normal    122   \n",
              "\n",
              "  ExerciseAngina  Oldpeak ST_Slope  \n",
              "0              N      0.0       Up  \n",
              "1              N      1.0     Flat  \n",
              "2              N      0.0       Up  \n",
              "3              Y      1.5     Flat  \n",
              "4              N      0.0       Up  "
            ],
            "text/html": [
              "\n",
              "  <div id=\"df-25f12677-29bb-4877-b059-f356259c401e\">\n",
              "    <div class=\"colab-df-container\">\n",
              "      <div>\n",
              "<style scoped>\n",
              "    .dataframe tbody tr th:only-of-type {\n",
              "        vertical-align: middle;\n",
              "    }\n",
              "\n",
              "    .dataframe tbody tr th {\n",
              "        vertical-align: top;\n",
              "    }\n",
              "\n",
              "    .dataframe thead th {\n",
              "        text-align: right;\n",
              "    }\n",
              "</style>\n",
              "<table border=\"1\" class=\"dataframe\">\n",
              "  <thead>\n",
              "    <tr style=\"text-align: right;\">\n",
              "      <th></th>\n",
              "      <th>Age</th>\n",
              "      <th>Sex</th>\n",
              "      <th>ChestPainType</th>\n",
              "      <th>RestingBP</th>\n",
              "      <th>Cholesterol</th>\n",
              "      <th>FastingBS</th>\n",
              "      <th>RestingECG</th>\n",
              "      <th>MaxHR</th>\n",
              "      <th>ExerciseAngina</th>\n",
              "      <th>Oldpeak</th>\n",
              "      <th>ST_Slope</th>\n",
              "    </tr>\n",
              "  </thead>\n",
              "  <tbody>\n",
              "    <tr>\n",
              "      <th>0</th>\n",
              "      <td>40</td>\n",
              "      <td>M</td>\n",
              "      <td>ATA</td>\n",
              "      <td>140</td>\n",
              "      <td>289.0</td>\n",
              "      <td>0</td>\n",
              "      <td>Normal</td>\n",
              "      <td>172</td>\n",
              "      <td>N</td>\n",
              "      <td>0.0</td>\n",
              "      <td>Up</td>\n",
              "    </tr>\n",
              "    <tr>\n",
              "      <th>1</th>\n",
              "      <td>49</td>\n",
              "      <td>F</td>\n",
              "      <td>NAP</td>\n",
              "      <td>160</td>\n",
              "      <td>180.0</td>\n",
              "      <td>0</td>\n",
              "      <td>Normal</td>\n",
              "      <td>156</td>\n",
              "      <td>N</td>\n",
              "      <td>1.0</td>\n",
              "      <td>Flat</td>\n",
              "    </tr>\n",
              "    <tr>\n",
              "      <th>2</th>\n",
              "      <td>37</td>\n",
              "      <td>M</td>\n",
              "      <td>ATA</td>\n",
              "      <td>130</td>\n",
              "      <td>283.0</td>\n",
              "      <td>0</td>\n",
              "      <td>ST</td>\n",
              "      <td>98</td>\n",
              "      <td>N</td>\n",
              "      <td>0.0</td>\n",
              "      <td>Up</td>\n",
              "    </tr>\n",
              "    <tr>\n",
              "      <th>3</th>\n",
              "      <td>48</td>\n",
              "      <td>F</td>\n",
              "      <td>ASY</td>\n",
              "      <td>138</td>\n",
              "      <td>214.0</td>\n",
              "      <td>0</td>\n",
              "      <td>Normal</td>\n",
              "      <td>108</td>\n",
              "      <td>Y</td>\n",
              "      <td>1.5</td>\n",
              "      <td>Flat</td>\n",
              "    </tr>\n",
              "    <tr>\n",
              "      <th>4</th>\n",
              "      <td>54</td>\n",
              "      <td>M</td>\n",
              "      <td>NAP</td>\n",
              "      <td>150</td>\n",
              "      <td>195.0</td>\n",
              "      <td>0</td>\n",
              "      <td>Normal</td>\n",
              "      <td>122</td>\n",
              "      <td>N</td>\n",
              "      <td>0.0</td>\n",
              "      <td>Up</td>\n",
              "    </tr>\n",
              "  </tbody>\n",
              "</table>\n",
              "</div>\n",
              "      <button class=\"colab-df-convert\" onclick=\"convertToInteractive('df-25f12677-29bb-4877-b059-f356259c401e')\"\n",
              "              title=\"Convert this dataframe to an interactive table.\"\n",
              "              style=\"display:none;\">\n",
              "        \n",
              "  <svg xmlns=\"http://www.w3.org/2000/svg\" height=\"24px\"viewBox=\"0 0 24 24\"\n",
              "       width=\"24px\">\n",
              "    <path d=\"M0 0h24v24H0V0z\" fill=\"none\"/>\n",
              "    <path d=\"M18.56 5.44l.94 2.06.94-2.06 2.06-.94-2.06-.94-.94-2.06-.94 2.06-2.06.94zm-11 1L8.5 8.5l.94-2.06 2.06-.94-2.06-.94L8.5 2.5l-.94 2.06-2.06.94zm10 10l.94 2.06.94-2.06 2.06-.94-2.06-.94-.94-2.06-.94 2.06-2.06.94z\"/><path d=\"M17.41 7.96l-1.37-1.37c-.4-.4-.92-.59-1.43-.59-.52 0-1.04.2-1.43.59L10.3 9.45l-7.72 7.72c-.78.78-.78 2.05 0 2.83L4 21.41c.39.39.9.59 1.41.59.51 0 1.02-.2 1.41-.59l7.78-7.78 2.81-2.81c.8-.78.8-2.07 0-2.86zM5.41 20L4 18.59l7.72-7.72 1.47 1.35L5.41 20z\"/>\n",
              "  </svg>\n",
              "      </button>\n",
              "      \n",
              "  <style>\n",
              "    .colab-df-container {\n",
              "      display:flex;\n",
              "      flex-wrap:wrap;\n",
              "      gap: 12px;\n",
              "    }\n",
              "\n",
              "    .colab-df-convert {\n",
              "      background-color: #E8F0FE;\n",
              "      border: none;\n",
              "      border-radius: 50%;\n",
              "      cursor: pointer;\n",
              "      display: none;\n",
              "      fill: #1967D2;\n",
              "      height: 32px;\n",
              "      padding: 0 0 0 0;\n",
              "      width: 32px;\n",
              "    }\n",
              "\n",
              "    .colab-df-convert:hover {\n",
              "      background-color: #E2EBFA;\n",
              "      box-shadow: 0px 1px 2px rgba(60, 64, 67, 0.3), 0px 1px 3px 1px rgba(60, 64, 67, 0.15);\n",
              "      fill: #174EA6;\n",
              "    }\n",
              "\n",
              "    [theme=dark] .colab-df-convert {\n",
              "      background-color: #3B4455;\n",
              "      fill: #D2E3FC;\n",
              "    }\n",
              "\n",
              "    [theme=dark] .colab-df-convert:hover {\n",
              "      background-color: #434B5C;\n",
              "      box-shadow: 0px 1px 3px 1px rgba(0, 0, 0, 0.15);\n",
              "      filter: drop-shadow(0px 1px 2px rgba(0, 0, 0, 0.3));\n",
              "      fill: #FFFFFF;\n",
              "    }\n",
              "  </style>\n",
              "\n",
              "      <script>\n",
              "        const buttonEl =\n",
              "          document.querySelector('#df-25f12677-29bb-4877-b059-f356259c401e button.colab-df-convert');\n",
              "        buttonEl.style.display =\n",
              "          google.colab.kernel.accessAllowed ? 'block' : 'none';\n",
              "\n",
              "        async function convertToInteractive(key) {\n",
              "          const element = document.querySelector('#df-25f12677-29bb-4877-b059-f356259c401e');\n",
              "          const dataTable =\n",
              "            await google.colab.kernel.invokeFunction('convertToInteractive',\n",
              "                                                     [key], {});\n",
              "          if (!dataTable) return;\n",
              "\n",
              "          const docLinkHtml = 'Like what you see? Visit the ' +\n",
              "            '<a target=\"_blank\" href=https://colab.research.google.com/notebooks/data_table.ipynb>data table notebook</a>'\n",
              "            + ' to learn more about interactive tables.';\n",
              "          element.innerHTML = '';\n",
              "          dataTable['output_type'] = 'display_data';\n",
              "          await google.colab.output.renderOutput(dataTable, element);\n",
              "          const docLink = document.createElement('div');\n",
              "          docLink.innerHTML = docLinkHtml;\n",
              "          element.appendChild(docLink);\n",
              "        }\n",
              "      </script>\n",
              "    </div>\n",
              "  </div>\n",
              "  "
            ]
          },
          "metadata": {},
          "execution_count": 258
        }
      ]
    },
    {
      "cell_type": "code",
      "source": [
        "from sklearn.model_selection import train_test_split"
      ],
      "metadata": {
        "id": "n-2xhY9C_9pC"
      },
      "execution_count": 259,
      "outputs": []
    },
    {
      "cell_type": "code",
      "source": [
        "x_treino,x_teste,y_treino,y_teste = train_test_split(previsores4,alvo4,test_size=0.3,random_state=0)"
      ],
      "metadata": {
        "id": "Uc77UYz1AI7S"
      },
      "execution_count": 260,
      "outputs": []
    },
    {
      "cell_type": "code",
      "source": [
        "categoricas=['Sex','ChestPainType','RestingECG','ExerciseAngina','ST_Slope']"
      ],
      "metadata": {
        "id": "suMeE0LCAoFT"
      },
      "execution_count": 261,
      "outputs": []
    },
    {
      "cell_type": "code",
      "source": [
        "catboost= CatBoostClassifier(task_type='CPU',iterations=120, learning_rate=0.1,depth=8,random_state=5,eval_metric='Accuracy')"
      ],
      "metadata": {
        "id": "dyb63TLcCP66"
      },
      "execution_count": 262,
      "outputs": []
    },
    {
      "cell_type": "code",
      "source": [
        "catboost.fit(x_treino,y_treino,cat_features=categoricas,plot=True,eval_set=(x_teste,y_teste))"
      ],
      "metadata": {
        "colab": {
          "base_uri": "https://localhost:8080/",
          "referenced_widgets": [
            "12d6839f80324b4baca6b43547ea826e"
          ],
          "height": 0
        },
        "id": "KYrXKrrDC5YD",
        "outputId": "4ea7c9b2-1a6d-43b2-d309-22aa511318e7"
      },
      "execution_count": 263,
      "outputs": [
        {
          "output_type": "display_data",
          "data": {
            "text/plain": [
              "MetricVisualizer(layout=Layout(align_self='stretch', height='500px'))"
            ],
            "application/vnd.jupyter.widget-view+json": {
              "version_major": 2,
              "version_minor": 0,
              "model_id": "12d6839f80324b4baca6b43547ea826e"
            }
          },
          "metadata": {}
        },
        {
          "output_type": "stream",
          "name": "stdout",
          "text": [
            "0:\tlearn: 0.8861154\ttest: 0.7789855\tbest: 0.7789855 (0)\ttotal: 53.7ms\tremaining: 6.39s\n",
            "1:\tlearn: 0.8689548\ttest: 0.7934783\tbest: 0.7934783 (1)\ttotal: 58.4ms\tremaining: 3.44s\n",
            "2:\tlearn: 0.8471139\ttest: 0.7971014\tbest: 0.7971014 (2)\ttotal: 60.4ms\tremaining: 2.36s\n",
            "3:\tlearn: 0.8549142\ttest: 0.8043478\tbest: 0.8043478 (3)\ttotal: 64ms\tremaining: 1.85s\n",
            "4:\tlearn: 0.8517941\ttest: 0.8043478\tbest: 0.8043478 (3)\ttotal: 67.8ms\tremaining: 1.56s\n",
            "5:\tlearn: 0.8486739\ttest: 0.8043478\tbest: 0.8043478 (3)\ttotal: 71.4ms\tremaining: 1.36s\n",
            "6:\tlearn: 0.8580343\ttest: 0.8115942\tbest: 0.8115942 (6)\ttotal: 75.1ms\tremaining: 1.21s\n",
            "7:\tlearn: 0.8642746\ttest: 0.8043478\tbest: 0.8115942 (6)\ttotal: 78.8ms\tremaining: 1.1s\n",
            "8:\tlearn: 0.8533541\ttest: 0.8043478\tbest: 0.8115942 (6)\ttotal: 82.5ms\tremaining: 1.02s\n",
            "9:\tlearn: 0.8611544\ttest: 0.8115942\tbest: 0.8115942 (6)\ttotal: 86.2ms\tremaining: 948ms\n",
            "10:\tlearn: 0.8642746\ttest: 0.8079710\tbest: 0.8115942 (6)\ttotal: 89.7ms\tremaining: 889ms\n",
            "11:\tlearn: 0.8658346\ttest: 0.8043478\tbest: 0.8115942 (6)\ttotal: 93.6ms\tremaining: 843ms\n",
            "12:\tlearn: 0.8689548\ttest: 0.8043478\tbest: 0.8115942 (6)\ttotal: 97.8ms\tremaining: 805ms\n",
            "13:\tlearn: 0.8611544\ttest: 0.8007246\tbest: 0.8115942 (6)\ttotal: 99.1ms\tremaining: 751ms\n",
            "14:\tlearn: 0.8611544\ttest: 0.8007246\tbest: 0.8115942 (6)\ttotal: 103ms\tremaining: 722ms\n",
            "15:\tlearn: 0.8658346\ttest: 0.7971014\tbest: 0.8115942 (6)\ttotal: 106ms\tremaining: 690ms\n",
            "16:\tlearn: 0.8673947\ttest: 0.7971014\tbest: 0.8115942 (6)\ttotal: 110ms\tremaining: 664ms\n",
            "17:\tlearn: 0.8689548\ttest: 0.8007246\tbest: 0.8115942 (6)\ttotal: 113ms\tremaining: 641ms\n",
            "18:\tlearn: 0.8720749\ttest: 0.8007246\tbest: 0.8115942 (6)\ttotal: 117ms\tremaining: 620ms\n",
            "19:\tlearn: 0.8767551\ttest: 0.8007246\tbest: 0.8115942 (6)\ttotal: 121ms\tremaining: 603ms\n",
            "20:\tlearn: 0.8767551\ttest: 0.8079710\tbest: 0.8115942 (6)\ttotal: 124ms\tremaining: 586ms\n",
            "21:\tlearn: 0.8798752\ttest: 0.8079710\tbest: 0.8115942 (6)\ttotal: 128ms\tremaining: 570ms\n",
            "22:\tlearn: 0.8814353\ttest: 0.8079710\tbest: 0.8115942 (6)\ttotal: 132ms\tremaining: 555ms\n",
            "23:\tlearn: 0.8814353\ttest: 0.8079710\tbest: 0.8115942 (6)\ttotal: 135ms\tremaining: 539ms\n",
            "24:\tlearn: 0.8814353\ttest: 0.8079710\tbest: 0.8115942 (6)\ttotal: 138ms\tremaining: 525ms\n",
            "25:\tlearn: 0.8829953\ttest: 0.8115942\tbest: 0.8115942 (6)\ttotal: 141ms\tremaining: 511ms\n",
            "26:\tlearn: 0.8845554\ttest: 0.8152174\tbest: 0.8152174 (26)\ttotal: 145ms\tremaining: 498ms\n",
            "27:\tlearn: 0.8829953\ttest: 0.8152174\tbest: 0.8152174 (26)\ttotal: 145ms\tremaining: 478ms\n",
            "28:\tlearn: 0.8861154\ttest: 0.8115942\tbest: 0.8152174 (26)\ttotal: 149ms\tremaining: 468ms\n",
            "29:\tlearn: 0.8939158\ttest: 0.8115942\tbest: 0.8152174 (26)\ttotal: 153ms\tremaining: 458ms\n",
            "30:\tlearn: 0.8954758\ttest: 0.8115942\tbest: 0.8152174 (26)\ttotal: 161ms\tremaining: 462ms\n",
            "31:\tlearn: 0.8954758\ttest: 0.8152174\tbest: 0.8152174 (26)\ttotal: 172ms\tremaining: 473ms\n",
            "32:\tlearn: 0.8970359\ttest: 0.8115942\tbest: 0.8152174 (26)\ttotal: 179ms\tremaining: 471ms\n",
            "33:\tlearn: 0.9001560\ttest: 0.8152174\tbest: 0.8152174 (26)\ttotal: 182ms\tremaining: 461ms\n",
            "34:\tlearn: 0.9048362\ttest: 0.8188406\tbest: 0.8188406 (34)\ttotal: 186ms\tremaining: 452ms\n",
            "35:\tlearn: 0.9095164\ttest: 0.8297101\tbest: 0.8297101 (35)\ttotal: 190ms\tremaining: 443ms\n",
            "36:\tlearn: 0.9110764\ttest: 0.8224638\tbest: 0.8297101 (35)\ttotal: 194ms\tremaining: 435ms\n",
            "37:\tlearn: 0.9157566\ttest: 0.8260870\tbest: 0.8297101 (35)\ttotal: 197ms\tremaining: 426ms\n",
            "38:\tlearn: 0.9157566\ttest: 0.8333333\tbest: 0.8333333 (38)\ttotal: 199ms\tremaining: 413ms\n",
            "39:\tlearn: 0.9173167\ttest: 0.8333333\tbest: 0.8333333 (38)\ttotal: 202ms\tremaining: 404ms\n",
            "40:\tlearn: 0.9141966\ttest: 0.8369565\tbest: 0.8369565 (40)\ttotal: 204ms\tremaining: 392ms\n",
            "41:\tlearn: 0.9141966\ttest: 0.8405797\tbest: 0.8405797 (41)\ttotal: 207ms\tremaining: 384ms\n",
            "42:\tlearn: 0.9173167\ttest: 0.8442029\tbest: 0.8442029 (42)\ttotal: 210ms\tremaining: 377ms\n",
            "43:\tlearn: 0.9173167\ttest: 0.8514493\tbest: 0.8514493 (43)\ttotal: 214ms\tremaining: 369ms\n",
            "44:\tlearn: 0.9173167\ttest: 0.8478261\tbest: 0.8514493 (43)\ttotal: 217ms\tremaining: 362ms\n",
            "45:\tlearn: 0.9188768\ttest: 0.8478261\tbest: 0.8514493 (43)\ttotal: 221ms\tremaining: 355ms\n",
            "46:\tlearn: 0.9204368\ttest: 0.8514493\tbest: 0.8514493 (43)\ttotal: 224ms\tremaining: 348ms\n",
            "47:\tlearn: 0.9204368\ttest: 0.8550725\tbest: 0.8550725 (47)\ttotal: 228ms\tremaining: 342ms\n",
            "48:\tlearn: 0.9219969\ttest: 0.8623188\tbest: 0.8623188 (48)\ttotal: 231ms\tremaining: 335ms\n",
            "49:\tlearn: 0.9188768\ttest: 0.8623188\tbest: 0.8623188 (48)\ttotal: 233ms\tremaining: 326ms\n",
            "50:\tlearn: 0.9204368\ttest: 0.8659420\tbest: 0.8659420 (50)\ttotal: 242ms\tremaining: 327ms\n",
            "51:\tlearn: 0.9235569\ttest: 0.8659420\tbest: 0.8659420 (50)\ttotal: 244ms\tremaining: 320ms\n",
            "52:\tlearn: 0.9235569\ttest: 0.8659420\tbest: 0.8659420 (50)\ttotal: 246ms\tremaining: 310ms\n",
            "53:\tlearn: 0.9251170\ttest: 0.8659420\tbest: 0.8659420 (50)\ttotal: 249ms\tremaining: 304ms\n",
            "54:\tlearn: 0.9235569\ttest: 0.8695652\tbest: 0.8695652 (54)\ttotal: 253ms\tremaining: 299ms\n",
            "55:\tlearn: 0.9204368\ttest: 0.8695652\tbest: 0.8695652 (54)\ttotal: 257ms\tremaining: 294ms\n",
            "56:\tlearn: 0.9219969\ttest: 0.8695652\tbest: 0.8695652 (54)\ttotal: 261ms\tremaining: 289ms\n",
            "57:\tlearn: 0.9251170\ttest: 0.8695652\tbest: 0.8695652 (54)\ttotal: 265ms\tremaining: 283ms\n",
            "58:\tlearn: 0.9266771\ttest: 0.8695652\tbest: 0.8695652 (54)\ttotal: 268ms\tremaining: 277ms\n",
            "59:\tlearn: 0.9282371\ttest: 0.8695652\tbest: 0.8695652 (54)\ttotal: 272ms\tremaining: 272ms\n",
            "60:\tlearn: 0.9282371\ttest: 0.8695652\tbest: 0.8695652 (54)\ttotal: 275ms\tremaining: 266ms\n",
            "61:\tlearn: 0.9282371\ttest: 0.8695652\tbest: 0.8695652 (54)\ttotal: 279ms\tremaining: 261ms\n",
            "62:\tlearn: 0.9251170\ttest: 0.8695652\tbest: 0.8695652 (54)\ttotal: 282ms\tremaining: 256ms\n",
            "63:\tlearn: 0.9251170\ttest: 0.8695652\tbest: 0.8695652 (54)\ttotal: 286ms\tremaining: 250ms\n",
            "64:\tlearn: 0.9251170\ttest: 0.8695652\tbest: 0.8695652 (54)\ttotal: 287ms\tremaining: 243ms\n",
            "65:\tlearn: 0.9251170\ttest: 0.8695652\tbest: 0.8695652 (54)\ttotal: 291ms\tremaining: 238ms\n",
            "66:\tlearn: 0.9251170\ttest: 0.8695652\tbest: 0.8695652 (54)\ttotal: 294ms\tremaining: 233ms\n",
            "67:\tlearn: 0.9266771\ttest: 0.8695652\tbest: 0.8695652 (54)\ttotal: 296ms\tremaining: 226ms\n",
            "68:\tlearn: 0.9266771\ttest: 0.8695652\tbest: 0.8695652 (54)\ttotal: 297ms\tremaining: 219ms\n",
            "69:\tlearn: 0.9266771\ttest: 0.8695652\tbest: 0.8695652 (54)\ttotal: 298ms\tremaining: 213ms\n",
            "70:\tlearn: 0.9266771\ttest: 0.8695652\tbest: 0.8695652 (54)\ttotal: 302ms\tremaining: 209ms\n",
            "71:\tlearn: 0.9266771\ttest: 0.8695652\tbest: 0.8695652 (54)\ttotal: 304ms\tremaining: 203ms\n",
            "72:\tlearn: 0.9266771\ttest: 0.8695652\tbest: 0.8695652 (54)\ttotal: 305ms\tremaining: 196ms\n",
            "73:\tlearn: 0.9251170\ttest: 0.8695652\tbest: 0.8695652 (54)\ttotal: 309ms\tremaining: 192ms\n",
            "74:\tlearn: 0.9251170\ttest: 0.8695652\tbest: 0.8695652 (54)\ttotal: 311ms\tremaining: 186ms\n",
            "75:\tlearn: 0.9266771\ttest: 0.8695652\tbest: 0.8695652 (54)\ttotal: 312ms\tremaining: 181ms\n",
            "76:\tlearn: 0.9266771\ttest: 0.8695652\tbest: 0.8695652 (54)\ttotal: 316ms\tremaining: 177ms\n",
            "77:\tlearn: 0.9266771\ttest: 0.8695652\tbest: 0.8695652 (54)\ttotal: 320ms\tremaining: 172ms\n",
            "78:\tlearn: 0.9266771\ttest: 0.8659420\tbest: 0.8695652 (54)\ttotal: 323ms\tremaining: 168ms\n",
            "79:\tlearn: 0.9266771\ttest: 0.8659420\tbest: 0.8695652 (54)\ttotal: 325ms\tremaining: 162ms\n",
            "80:\tlearn: 0.9266771\ttest: 0.8659420\tbest: 0.8695652 (54)\ttotal: 328ms\tremaining: 158ms\n",
            "81:\tlearn: 0.9266771\ttest: 0.8659420\tbest: 0.8695652 (54)\ttotal: 331ms\tremaining: 153ms\n",
            "82:\tlearn: 0.9266771\ttest: 0.8659420\tbest: 0.8695652 (54)\ttotal: 334ms\tremaining: 149ms\n",
            "83:\tlearn: 0.9266771\ttest: 0.8659420\tbest: 0.8695652 (54)\ttotal: 338ms\tremaining: 145ms\n",
            "84:\tlearn: 0.9297972\ttest: 0.8659420\tbest: 0.8695652 (54)\ttotal: 341ms\tremaining: 141ms\n",
            "85:\tlearn: 0.9297972\ttest: 0.8659420\tbest: 0.8695652 (54)\ttotal: 345ms\tremaining: 137ms\n",
            "86:\tlearn: 0.9282371\ttest: 0.8659420\tbest: 0.8695652 (54)\ttotal: 349ms\tremaining: 132ms\n",
            "87:\tlearn: 0.9282371\ttest: 0.8659420\tbest: 0.8695652 (54)\ttotal: 353ms\tremaining: 128ms\n",
            "88:\tlearn: 0.9282371\ttest: 0.8659420\tbest: 0.8695652 (54)\ttotal: 357ms\tremaining: 124ms\n",
            "89:\tlearn: 0.9282371\ttest: 0.8659420\tbest: 0.8695652 (54)\ttotal: 358ms\tremaining: 119ms\n",
            "90:\tlearn: 0.9282371\ttest: 0.8659420\tbest: 0.8695652 (54)\ttotal: 361ms\tremaining: 115ms\n",
            "91:\tlearn: 0.9282371\ttest: 0.8659420\tbest: 0.8695652 (54)\ttotal: 365ms\tremaining: 111ms\n",
            "92:\tlearn: 0.9282371\ttest: 0.8659420\tbest: 0.8695652 (54)\ttotal: 367ms\tremaining: 107ms\n",
            "93:\tlearn: 0.9282371\ttest: 0.8659420\tbest: 0.8695652 (54)\ttotal: 371ms\tremaining: 103ms\n",
            "94:\tlearn: 0.9282371\ttest: 0.8659420\tbest: 0.8695652 (54)\ttotal: 375ms\tremaining: 98.6ms\n",
            "95:\tlearn: 0.9282371\ttest: 0.8659420\tbest: 0.8695652 (54)\ttotal: 378ms\tremaining: 94.5ms\n",
            "96:\tlearn: 0.9282371\ttest: 0.8659420\tbest: 0.8695652 (54)\ttotal: 382ms\tremaining: 90.5ms\n",
            "97:\tlearn: 0.9282371\ttest: 0.8659420\tbest: 0.8695652 (54)\ttotal: 385ms\tremaining: 86.5ms\n",
            "98:\tlearn: 0.9282371\ttest: 0.8659420\tbest: 0.8695652 (54)\ttotal: 389ms\tremaining: 82.5ms\n",
            "99:\tlearn: 0.9297972\ttest: 0.8659420\tbest: 0.8695652 (54)\ttotal: 393ms\tremaining: 78.6ms\n",
            "100:\tlearn: 0.9282371\ttest: 0.8659420\tbest: 0.8695652 (54)\ttotal: 397ms\tremaining: 74.6ms\n",
            "101:\tlearn: 0.9282371\ttest: 0.8659420\tbest: 0.8695652 (54)\ttotal: 401ms\tremaining: 70.7ms\n",
            "102:\tlearn: 0.9282371\ttest: 0.8659420\tbest: 0.8695652 (54)\ttotal: 404ms\tremaining: 66.7ms\n",
            "103:\tlearn: 0.9282371\ttest: 0.8623188\tbest: 0.8695652 (54)\ttotal: 408ms\tremaining: 62.8ms\n",
            "104:\tlearn: 0.9282371\ttest: 0.8623188\tbest: 0.8695652 (54)\ttotal: 412ms\tremaining: 58.8ms\n",
            "105:\tlearn: 0.9282371\ttest: 0.8623188\tbest: 0.8695652 (54)\ttotal: 417ms\tremaining: 55.1ms\n",
            "106:\tlearn: 0.9282371\ttest: 0.8659420\tbest: 0.8695652 (54)\ttotal: 422ms\tremaining: 51.2ms\n",
            "107:\tlearn: 0.9282371\ttest: 0.8659420\tbest: 0.8695652 (54)\ttotal: 425ms\tremaining: 47.2ms\n",
            "108:\tlearn: 0.9282371\ttest: 0.8659420\tbest: 0.8695652 (54)\ttotal: 433ms\tremaining: 43.7ms\n",
            "109:\tlearn: 0.9282371\ttest: 0.8659420\tbest: 0.8695652 (54)\ttotal: 439ms\tremaining: 39.9ms\n",
            "110:\tlearn: 0.9297972\ttest: 0.8659420\tbest: 0.8695652 (54)\ttotal: 442ms\tremaining: 35.9ms\n",
            "111:\tlearn: 0.9297972\ttest: 0.8659420\tbest: 0.8695652 (54)\ttotal: 451ms\tremaining: 32.2ms\n",
            "112:\tlearn: 0.9282371\ttest: 0.8659420\tbest: 0.8695652 (54)\ttotal: 454ms\tremaining: 28.1ms\n",
            "113:\tlearn: 0.9282371\ttest: 0.8659420\tbest: 0.8695652 (54)\ttotal: 457ms\tremaining: 24.1ms\n",
            "114:\tlearn: 0.9282371\ttest: 0.8659420\tbest: 0.8695652 (54)\ttotal: 460ms\tremaining: 20ms\n",
            "115:\tlearn: 0.9282371\ttest: 0.8659420\tbest: 0.8695652 (54)\ttotal: 463ms\tremaining: 15.9ms\n",
            "116:\tlearn: 0.9297972\ttest: 0.8659420\tbest: 0.8695652 (54)\ttotal: 466ms\tremaining: 11.9ms\n",
            "117:\tlearn: 0.9297972\ttest: 0.8659420\tbest: 0.8695652 (54)\ttotal: 469ms\tremaining: 7.95ms\n",
            "118:\tlearn: 0.9297972\ttest: 0.8659420\tbest: 0.8695652 (54)\ttotal: 473ms\tremaining: 3.97ms\n",
            "119:\tlearn: 0.9297972\ttest: 0.8659420\tbest: 0.8695652 (54)\ttotal: 476ms\tremaining: 0us\n",
            "\n",
            "bestTest = 0.8695652174\n",
            "bestIteration = 54\n",
            "\n",
            "Shrink model to first 55 iterations.\n"
          ]
        },
        {
          "output_type": "execute_result",
          "data": {
            "text/plain": [
              "<catboost.core.CatBoostClassifier at 0x7fbf6ffbae10>"
            ]
          },
          "metadata": {},
          "execution_count": 263
        }
      ]
    },
    {
      "cell_type": "code",
      "source": [
        "previsoes_cat = catboost.predict(x_teste)\n",
        "previsoes_cat"
      ],
      "metadata": {
        "colab": {
          "base_uri": "https://localhost:8080/"
        },
        "id": "h0-JHWOyEgvH",
        "outputId": "b365a742-31d8-4fca-8245-d3bf86bfcbee"
      },
      "execution_count": 264,
      "outputs": [
        {
          "output_type": "execute_result",
          "data": {
            "text/plain": [
              "array([1, 1, 1, 0, 0, 0, 0, 0, 0, 0, 1, 1, 1, 1, 0, 1, 1, 1, 1, 0, 1, 1,\n",
              "       1, 0, 0, 0, 1, 1, 1, 1, 1, 0, 0, 0, 1, 0, 0, 0, 1, 0, 0, 1, 1, 1,\n",
              "       1, 0, 0, 1, 0, 1, 1, 0, 0, 0, 1, 0, 0, 0, 1, 0, 1, 1, 1, 0, 1, 1,\n",
              "       1, 0, 1, 0, 1, 1, 0, 1, 1, 1, 1, 1, 1, 1, 1, 1, 0, 0, 1, 1, 1, 1,\n",
              "       1, 0, 1, 0, 0, 0, 1, 0, 1, 0, 0, 0, 0, 1, 1, 1, 0, 1, 0, 0, 0, 1,\n",
              "       0, 1, 1, 1, 0, 1, 0, 1, 1, 1, 1, 1, 1, 0, 1, 1, 0, 1, 0, 1, 0, 1,\n",
              "       1, 1, 0, 1, 1, 1, 1, 0, 0, 1, 0, 1, 0, 0, 1, 1, 1, 0, 0, 1, 1, 0,\n",
              "       1, 0, 1, 1, 1, 0, 1, 1, 1, 0, 1, 0, 1, 0, 1, 0, 1, 1, 0, 0, 1, 0,\n",
              "       1, 0, 0, 1, 1, 1, 0, 1, 1, 1, 0, 1, 1, 0, 1, 0, 1, 1, 1, 1, 0, 0,\n",
              "       1, 0, 1, 1, 0, 1, 1, 0, 0, 0, 1, 0, 1, 1, 0, 1, 0, 0, 1, 0, 1, 1,\n",
              "       1, 0, 0, 1, 1, 1, 0, 1, 0, 1, 0, 1, 1, 1, 0, 1, 1, 1, 0, 1, 1, 0,\n",
              "       1, 0, 0, 0, 0, 0, 1, 0, 1, 0, 1, 0, 0, 0, 1, 0, 0, 1, 0, 1, 0, 0,\n",
              "       0, 0, 0, 0, 1, 0, 0, 1, 1, 1, 1, 1])"
            ]
          },
          "metadata": {},
          "execution_count": 264
        }
      ]
    },
    {
      "cell_type": "code",
      "source": [
        "print ('Acurácia: %.2f%%' % (accuracy_score(y_teste,previsoes_cat)*100))"
      ],
      "metadata": {
        "colab": {
          "base_uri": "https://localhost:8080/"
        },
        "id": "zTyTGlufEvOh",
        "outputId": "5fcfda37-ec8d-41c8-f5af-5cea3fff4de1"
      },
      "execution_count": 265,
      "outputs": [
        {
          "output_type": "stream",
          "name": "stdout",
          "text": [
            "Acurácia: 86.96%\n"
          ]
        }
      ]
    },
    {
      "cell_type": "code",
      "source": [
        "confusion_matrix(y_teste,previsoes_cat)"
      ],
      "metadata": {
        "colab": {
          "base_uri": "https://localhost:8080/"
        },
        "id": "baN8x96wFDMj",
        "outputId": "95f9d938-c06b-4bf2-8cef-c73ff44c6a50"
      },
      "execution_count": 266,
      "outputs": [
        {
          "output_type": "execute_result",
          "data": {
            "text/plain": [
              "array([[103,  18],\n",
              "       [ 18, 137]])"
            ]
          },
          "metadata": {},
          "execution_count": 266
        }
      ]
    },
    {
      "cell_type": "markdown",
      "source": [
        "## Analise dados Treino"
      ],
      "metadata": {
        "id": "68IRfZf3FPGG"
      }
    },
    {
      "cell_type": "code",
      "source": [
        "previsoes_treino = catboost.predict(x_treino)\n",
        "previsoes_treino"
      ],
      "metadata": {
        "colab": {
          "base_uri": "https://localhost:8080/"
        },
        "id": "LlHOIqXPFTZ3",
        "outputId": "58513a47-a4ed-44c1-86ad-da24140b50a9"
      },
      "execution_count": 267,
      "outputs": [
        {
          "output_type": "execute_result",
          "data": {
            "text/plain": [
              "array([1, 0, 1, 1, 1, 1, 0, 0, 0, 0, 1, 0, 1, 1, 1, 0, 0, 0, 0, 1, 0, 1,\n",
              "       1, 1, 1, 0, 0, 1, 1, 1, 1, 0, 1, 1, 0, 0, 1, 1, 0, 1, 0, 1, 0, 0,\n",
              "       1, 1, 0, 1, 1, 1, 1, 0, 1, 0, 1, 0, 1, 0, 1, 0, 0, 0, 0, 0, 1, 1,\n",
              "       0, 0, 1, 0, 1, 1, 1, 1, 0, 0, 1, 1, 1, 1, 1, 1, 1, 1, 0, 1, 1, 1,\n",
              "       1, 1, 0, 1, 0, 0, 1, 1, 1, 1, 1, 1, 1, 1, 0, 1, 1, 1, 1, 0, 1, 1,\n",
              "       0, 0, 1, 0, 1, 0, 1, 0, 1, 0, 0, 0, 0, 1, 0, 1, 0, 0, 1, 1, 1, 0,\n",
              "       1, 1, 0, 1, 1, 0, 1, 1, 0, 1, 1, 1, 1, 1, 0, 0, 0, 1, 1, 0, 1, 0,\n",
              "       1, 0, 1, 1, 1, 0, 1, 0, 0, 0, 1, 0, 1, 0, 0, 0, 0, 1, 1, 0, 1, 0,\n",
              "       0, 1, 1, 0, 0, 0, 0, 0, 0, 1, 1, 1, 1, 1, 0, 0, 1, 0, 0, 1, 1, 1,\n",
              "       1, 1, 0, 0, 0, 1, 1, 0, 1, 1, 1, 0, 1, 0, 1, 1, 1, 0, 1, 0, 0, 1,\n",
              "       1, 0, 0, 1, 1, 1, 1, 1, 1, 1, 1, 1, 0, 1, 1, 0, 1, 0, 1, 0, 1, 0,\n",
              "       1, 1, 0, 1, 1, 1, 1, 1, 0, 1, 0, 0, 0, 0, 0, 0, 0, 0, 1, 0, 1, 0,\n",
              "       1, 0, 1, 0, 1, 0, 1, 1, 0, 0, 0, 1, 1, 0, 0, 0, 1, 0, 0, 0, 1, 1,\n",
              "       1, 1, 1, 1, 1, 0, 1, 1, 0, 1, 0, 1, 0, 1, 1, 0, 0, 1, 0, 0, 1, 1,\n",
              "       1, 0, 1, 0, 1, 0, 1, 0, 1, 1, 1, 0, 1, 1, 1, 1, 0, 1, 1, 1, 1, 0,\n",
              "       0, 0, 1, 0, 0, 0, 1, 1, 0, 1, 1, 1, 1, 1, 1, 0, 1, 1, 0, 1, 0, 1,\n",
              "       0, 0, 0, 1, 0, 1, 1, 1, 0, 1, 0, 1, 1, 0, 0, 0, 0, 0, 1, 1, 0, 1,\n",
              "       0, 1, 1, 1, 0, 1, 1, 1, 0, 1, 0, 1, 0, 0, 1, 1, 0, 0, 1, 1, 1, 1,\n",
              "       0, 0, 0, 1, 1, 1, 1, 0, 1, 1, 1, 1, 1, 0, 0, 1, 0, 1, 1, 1, 0, 0,\n",
              "       0, 1, 1, 0, 0, 1, 1, 0, 1, 1, 0, 0, 0, 1, 1, 0, 1, 1, 1, 1, 1, 1,\n",
              "       0, 0, 1, 1, 0, 1, 0, 1, 0, 0, 1, 0, 1, 1, 1, 1, 0, 0, 0, 1, 0, 1,\n",
              "       1, 1, 1, 1, 1, 0, 1, 0, 1, 1, 1, 1, 1, 1, 1, 0, 0, 0, 1, 0, 0, 0,\n",
              "       0, 0, 1, 0, 1, 1, 0, 0, 0, 1, 1, 0, 1, 1, 1, 0, 1, 1, 0, 0, 1, 1,\n",
              "       1, 1, 0, 0, 1, 1, 1, 1, 0, 1, 0, 0, 1, 0, 1, 1, 1, 1, 0, 1, 1, 0,\n",
              "       1, 0, 1, 0, 1, 0, 1, 0, 1, 0, 1, 1, 0, 1, 1, 1, 1, 0, 0, 1, 1, 0,\n",
              "       0, 1, 1, 0, 1, 0, 1, 1, 1, 0, 1, 1, 0, 1, 0, 1, 1, 0, 0, 1, 0, 1,\n",
              "       1, 1, 0, 0, 1, 0, 0, 0, 0, 1, 0, 1, 1, 1, 1, 0, 1, 0, 0, 0, 0, 0,\n",
              "       0, 0, 1, 0, 0, 1, 0, 0, 0, 0, 1, 0, 1, 1, 0, 1, 1, 1, 1, 1, 0, 1,\n",
              "       1, 1, 0, 1, 1, 0, 1, 1, 1, 1, 1, 1, 0, 1, 1, 0, 0, 1, 1, 0, 1, 0,\n",
              "       0, 0, 1])"
            ]
          },
          "metadata": {},
          "execution_count": 267
        }
      ]
    },
    {
      "cell_type": "code",
      "source": [
        "print ('Acurácia: %.2f%%' % (accuracy_score(y_treino,previsoes_treino)*100))"
      ],
      "metadata": {
        "colab": {
          "base_uri": "https://localhost:8080/"
        },
        "id": "4mZjEeq8FekU",
        "outputId": "85f41708-7821-4e23-e087-a4a55d5dfd98"
      },
      "execution_count": 268,
      "outputs": [
        {
          "output_type": "stream",
          "name": "stdout",
          "text": [
            "Acurácia: 91.73%\n"
          ]
        }
      ]
    },
    {
      "cell_type": "code",
      "source": [
        "confusion_matrix(y_treino,previsoes_treino)"
      ],
      "metadata": {
        "colab": {
          "base_uri": "https://localhost:8080/"
        },
        "id": "_8pyJPPjFqOD",
        "outputId": "ad79f3b3-f681-4841-96f2-1dfe28f8aa51"
      },
      "execution_count": 269,
      "outputs": [
        {
          "output_type": "execute_result",
          "data": {
            "text/plain": [
              "array([[255,  34],\n",
              "       [ 19, 333]])"
            ]
          },
          "metadata": {},
          "execution_count": 269
        }
      ]
    },
    {
      "cell_type": "markdown",
      "source": [
        "## VALIDAÇÃO CRUZADA\n",
        "--------------------------------------------------------------------------------\n"
      ],
      "metadata": {
        "id": "7cO7wVKkHGfL"
      }
    },
    {
      "cell_type": "code",
      "source": [
        "from sklearn.model_selection import KFold\t\t\n",
        "from sklearn.model_selection import cross_val_score\t\t\n",
        "kfold = KFold(n_splits=30, shuffle=True, random_state=5)\t\t\n",
        "modelo=CatBoostClassifier(task_type='CPU',iterations=100, learning_rate=0.1,depth=8,random_state=8,eval_metric='Accuracy')\t\t\n",
        "resultado=cross_val_score(modelo, previsores,alvo,cv=kfold)\t\t\n",
        "print(\" A Acurácia Média: %.2f%%\" % (resultado.mean()*100))"
      ],
      "metadata": {
        "colab": {
          "base_uri": "https://localhost:8080/"
        },
        "id": "V5rNeqqWHLpu",
        "outputId": "63fd2bd0-bd2d-4626-840f-d09d56285e22"
      },
      "execution_count": 270,
      "outputs": [
        {
          "output_type": "stream",
          "name": "stdout",
          "text": [
            "0:\tlearn: 0.8769752\ttotal: 10.1ms\tremaining: 995ms\n",
            "1:\tlearn: 0.8544018\ttotal: 10.9ms\tremaining: 532ms\n",
            "2:\tlearn: 0.8623025\ttotal: 13.8ms\tremaining: 447ms\n",
            "3:\tlearn: 0.8668172\ttotal: 16.4ms\tremaining: 395ms\n",
            "4:\tlearn: 0.8735892\ttotal: 18.7ms\tremaining: 355ms\n",
            "5:\tlearn: 0.8735892\ttotal: 21ms\tremaining: 329ms\n",
            "6:\tlearn: 0.8826185\ttotal: 23.4ms\tremaining: 310ms\n",
            "7:\tlearn: 0.8803612\ttotal: 25.7ms\tremaining: 296ms\n",
            "8:\tlearn: 0.8803612\ttotal: 28.1ms\tremaining: 284ms\n",
            "9:\tlearn: 0.8814898\ttotal: 30.3ms\tremaining: 272ms\n",
            "10:\tlearn: 0.8871332\ttotal: 32.8ms\tremaining: 265ms\n",
            "11:\tlearn: 0.8871332\ttotal: 35.3ms\tremaining: 259ms\n",
            "12:\tlearn: 0.8882619\ttotal: 38.2ms\tremaining: 255ms\n",
            "13:\tlearn: 0.8950339\ttotal: 40.7ms\tremaining: 250ms\n",
            "14:\tlearn: 0.8905192\ttotal: 44.2ms\tremaining: 250ms\n",
            "15:\tlearn: 0.8916479\ttotal: 46.9ms\tremaining: 246ms\n",
            "16:\tlearn: 0.8916479\ttotal: 49.6ms\tremaining: 242ms\n",
            "17:\tlearn: 0.8961625\ttotal: 52.3ms\tremaining: 238ms\n",
            "18:\tlearn: 0.8927765\ttotal: 55.2ms\tremaining: 236ms\n",
            "19:\tlearn: 0.8961625\ttotal: 57.6ms\tremaining: 230ms\n",
            "20:\tlearn: 0.8984199\ttotal: 59.1ms\tremaining: 222ms\n",
            "21:\tlearn: 0.9006772\ttotal: 61.5ms\tremaining: 218ms\n",
            "22:\tlearn: 0.9018059\ttotal: 66.3ms\tremaining: 222ms\n",
            "23:\tlearn: 0.9029345\ttotal: 68.9ms\tremaining: 218ms\n",
            "24:\tlearn: 0.9018059\ttotal: 71.2ms\tremaining: 214ms\n",
            "25:\tlearn: 0.9051919\ttotal: 73.6ms\tremaining: 210ms\n",
            "26:\tlearn: 0.9040632\ttotal: 76ms\tremaining: 206ms\n",
            "27:\tlearn: 0.9063205\ttotal: 78.3ms\tremaining: 201ms\n",
            "28:\tlearn: 0.9051919\ttotal: 81ms\tremaining: 198ms\n",
            "29:\tlearn: 0.9063205\ttotal: 83.7ms\tremaining: 195ms\n",
            "30:\tlearn: 0.9063205\ttotal: 86.4ms\tremaining: 192ms\n",
            "31:\tlearn: 0.9097065\ttotal: 89.1ms\tremaining: 189ms\n",
            "32:\tlearn: 0.9108352\ttotal: 91.8ms\tremaining: 186ms\n",
            "33:\tlearn: 0.9130926\ttotal: 94.7ms\tremaining: 184ms\n",
            "34:\tlearn: 0.9130926\ttotal: 97.3ms\tremaining: 181ms\n",
            "35:\tlearn: 0.9164786\ttotal: 100ms\tremaining: 178ms\n",
            "36:\tlearn: 0.9164786\ttotal: 103ms\tremaining: 175ms\n",
            "37:\tlearn: 0.9176072\ttotal: 105ms\tremaining: 172ms\n",
            "38:\tlearn: 0.9198646\ttotal: 108ms\tremaining: 169ms\n",
            "39:\tlearn: 0.9209932\ttotal: 112ms\tremaining: 168ms\n",
            "40:\tlearn: 0.9198646\ttotal: 114ms\tremaining: 165ms\n",
            "41:\tlearn: 0.9221219\ttotal: 121ms\tremaining: 167ms\n",
            "42:\tlearn: 0.9232506\ttotal: 124ms\tremaining: 165ms\n",
            "43:\tlearn: 0.9243792\ttotal: 127ms\tremaining: 162ms\n",
            "44:\tlearn: 0.9243792\ttotal: 130ms\tremaining: 159ms\n",
            "45:\tlearn: 0.9232506\ttotal: 132ms\tremaining: 155ms\n",
            "46:\tlearn: 0.9255079\ttotal: 135ms\tremaining: 152ms\n",
            "47:\tlearn: 0.9255079\ttotal: 138ms\tremaining: 150ms\n",
            "48:\tlearn: 0.9243792\ttotal: 143ms\tremaining: 149ms\n",
            "49:\tlearn: 0.9255079\ttotal: 147ms\tremaining: 147ms\n",
            "50:\tlearn: 0.9277652\ttotal: 150ms\tremaining: 144ms\n",
            "51:\tlearn: 0.9266366\ttotal: 153ms\tremaining: 142ms\n",
            "52:\tlearn: 0.9266366\ttotal: 157ms\tremaining: 139ms\n",
            "53:\tlearn: 0.9277652\ttotal: 162ms\tremaining: 138ms\n",
            "54:\tlearn: 0.9288939\ttotal: 165ms\tremaining: 135ms\n",
            "55:\tlearn: 0.9288939\ttotal: 169ms\tremaining: 133ms\n",
            "56:\tlearn: 0.9288939\ttotal: 172ms\tremaining: 129ms\n",
            "57:\tlearn: 0.9288939\ttotal: 174ms\tremaining: 126ms\n",
            "58:\tlearn: 0.9300226\ttotal: 177ms\tremaining: 123ms\n",
            "59:\tlearn: 0.9311512\ttotal: 180ms\tremaining: 120ms\n",
            "60:\tlearn: 0.9311512\ttotal: 183ms\tremaining: 117ms\n",
            "61:\tlearn: 0.9311512\ttotal: 186ms\tremaining: 114ms\n",
            "62:\tlearn: 0.9300226\ttotal: 188ms\tremaining: 111ms\n",
            "63:\tlearn: 0.9311512\ttotal: 193ms\tremaining: 109ms\n",
            "64:\tlearn: 0.9322799\ttotal: 199ms\tremaining: 107ms\n",
            "65:\tlearn: 0.9334086\ttotal: 202ms\tremaining: 104ms\n",
            "66:\tlearn: 0.9334086\ttotal: 204ms\tremaining: 101ms\n",
            "67:\tlearn: 0.9334086\ttotal: 207ms\tremaining: 97.6ms\n",
            "68:\tlearn: 0.9345372\ttotal: 210ms\tremaining: 94.4ms\n",
            "69:\tlearn: 0.9345372\ttotal: 213ms\tremaining: 91.2ms\n",
            "70:\tlearn: 0.9356659\ttotal: 216ms\tremaining: 88ms\n",
            "71:\tlearn: 0.9356659\ttotal: 218ms\tremaining: 84.9ms\n",
            "72:\tlearn: 0.9356659\ttotal: 221ms\tremaining: 81.8ms\n",
            "73:\tlearn: 0.9356659\ttotal: 224ms\tremaining: 78.7ms\n",
            "74:\tlearn: 0.9367946\ttotal: 227ms\tremaining: 75.7ms\n",
            "75:\tlearn: 0.9379233\ttotal: 231ms\tremaining: 72.8ms\n",
            "76:\tlearn: 0.9379233\ttotal: 234ms\tremaining: 69.9ms\n",
            "77:\tlearn: 0.9379233\ttotal: 237ms\tremaining: 66.8ms\n",
            "78:\tlearn: 0.9379233\ttotal: 240ms\tremaining: 63.8ms\n",
            "79:\tlearn: 0.9379233\ttotal: 243ms\tremaining: 60.7ms\n",
            "80:\tlearn: 0.9379233\ttotal: 246ms\tremaining: 57.6ms\n",
            "81:\tlearn: 0.9379233\ttotal: 247ms\tremaining: 54.2ms\n",
            "82:\tlearn: 0.9367946\ttotal: 250ms\tremaining: 51.2ms\n",
            "83:\tlearn: 0.9367946\ttotal: 254ms\tremaining: 48.4ms\n",
            "84:\tlearn: 0.9379233\ttotal: 259ms\tremaining: 45.6ms\n",
            "85:\tlearn: 0.9379233\ttotal: 262ms\tremaining: 42.6ms\n",
            "86:\tlearn: 0.9379233\ttotal: 264ms\tremaining: 39.5ms\n",
            "87:\tlearn: 0.9379233\ttotal: 267ms\tremaining: 36.4ms\n",
            "88:\tlearn: 0.9379233\ttotal: 270ms\tremaining: 33.3ms\n",
            "89:\tlearn: 0.9390519\ttotal: 273ms\tremaining: 30.3ms\n",
            "90:\tlearn: 0.9390519\ttotal: 276ms\tremaining: 27.3ms\n",
            "91:\tlearn: 0.9390519\ttotal: 278ms\tremaining: 24.2ms\n",
            "92:\tlearn: 0.9390519\ttotal: 281ms\tremaining: 21.2ms\n",
            "93:\tlearn: 0.9390519\ttotal: 284ms\tremaining: 18.1ms\n",
            "94:\tlearn: 0.9390519\ttotal: 287ms\tremaining: 15.1ms\n",
            "95:\tlearn: 0.9390519\ttotal: 289ms\tremaining: 12.1ms\n",
            "96:\tlearn: 0.9390519\ttotal: 292ms\tremaining: 9.03ms\n",
            "97:\tlearn: 0.9401806\ttotal: 295ms\tremaining: 6.01ms\n",
            "98:\tlearn: 0.9401806\ttotal: 297ms\tremaining: 3ms\n",
            "99:\tlearn: 0.9401806\ttotal: 300ms\tremaining: 0us\n",
            "0:\tlearn: 0.8792325\ttotal: 3.35ms\tremaining: 331ms\n",
            "1:\tlearn: 0.8566591\ttotal: 4.99ms\tremaining: 245ms\n",
            "2:\tlearn: 0.8690745\ttotal: 7.79ms\tremaining: 252ms\n",
            "3:\tlearn: 0.8656885\ttotal: 9.33ms\tremaining: 224ms\n",
            "4:\tlearn: 0.8589165\ttotal: 10.3ms\tremaining: 196ms\n",
            "5:\tlearn: 0.8600451\ttotal: 11.6ms\tremaining: 182ms\n",
            "6:\tlearn: 0.8668172\ttotal: 14.3ms\tremaining: 190ms\n",
            "7:\tlearn: 0.8724605\ttotal: 17.1ms\tremaining: 197ms\n",
            "8:\tlearn: 0.8735892\ttotal: 19.8ms\tremaining: 200ms\n",
            "9:\tlearn: 0.8781038\ttotal: 22.6ms\tremaining: 203ms\n",
            "10:\tlearn: 0.8781038\ttotal: 25.3ms\tremaining: 205ms\n",
            "11:\tlearn: 0.8792325\ttotal: 28.1ms\tremaining: 206ms\n",
            "12:\tlearn: 0.8826185\ttotal: 30.7ms\tremaining: 206ms\n",
            "13:\tlearn: 0.8792325\ttotal: 33.5ms\tremaining: 206ms\n",
            "14:\tlearn: 0.8792325\ttotal: 36.2ms\tremaining: 205ms\n",
            "15:\tlearn: 0.8837472\ttotal: 38.8ms\tremaining: 204ms\n",
            "16:\tlearn: 0.8781038\ttotal: 40.7ms\tremaining: 199ms\n",
            "17:\tlearn: 0.8848758\ttotal: 43.4ms\tremaining: 198ms\n",
            "18:\tlearn: 0.8893905\ttotal: 46ms\tremaining: 196ms\n",
            "19:\tlearn: 0.8927765\ttotal: 53.8ms\tremaining: 215ms\n",
            "20:\tlearn: 0.8950339\ttotal: 57ms\tremaining: 215ms\n",
            "21:\tlearn: 0.8984199\ttotal: 59.9ms\tremaining: 212ms\n",
            "22:\tlearn: 0.9040632\ttotal: 62.8ms\tremaining: 210ms\n",
            "23:\tlearn: 0.9074492\ttotal: 65.5ms\tremaining: 207ms\n",
            "24:\tlearn: 0.9051919\ttotal: 68.2ms\tremaining: 205ms\n",
            "25:\tlearn: 0.9074492\ttotal: 70.9ms\tremaining: 202ms\n",
            "26:\tlearn: 0.9074492\ttotal: 73.6ms\tremaining: 199ms\n",
            "27:\tlearn: 0.9074492\ttotal: 76.3ms\tremaining: 196ms\n",
            "28:\tlearn: 0.9074492\ttotal: 79.1ms\tremaining: 194ms\n",
            "29:\tlearn: 0.9085779\ttotal: 81.8ms\tremaining: 191ms\n",
            "30:\tlearn: 0.9119639\ttotal: 84.5ms\tremaining: 188ms\n",
            "31:\tlearn: 0.9108352\ttotal: 87.5ms\tremaining: 186ms\n",
            "32:\tlearn: 0.9142212\ttotal: 90.5ms\tremaining: 184ms\n",
            "33:\tlearn: 0.9153499\ttotal: 93.5ms\tremaining: 182ms\n",
            "34:\tlearn: 0.9130926\ttotal: 96.3ms\tremaining: 179ms\n",
            "35:\tlearn: 0.9119639\ttotal: 99.1ms\tremaining: 176ms\n",
            "36:\tlearn: 0.9142212\ttotal: 102ms\tremaining: 174ms\n",
            "37:\tlearn: 0.9142212\ttotal: 105ms\tremaining: 171ms\n",
            "38:\tlearn: 0.9130926\ttotal: 108ms\tremaining: 168ms\n",
            "39:\tlearn: 0.9153499\ttotal: 112ms\tremaining: 168ms\n",
            "40:\tlearn: 0.9142212\ttotal: 112ms\tremaining: 162ms\n",
            "41:\tlearn: 0.9176072\ttotal: 116ms\tremaining: 161ms\n",
            "42:\tlearn: 0.9153499\ttotal: 120ms\tremaining: 159ms\n",
            "43:\tlearn: 0.9176072\ttotal: 123ms\tremaining: 157ms\n",
            "44:\tlearn: 0.9198646\ttotal: 126ms\tremaining: 154ms\n",
            "45:\tlearn: 0.9198646\ttotal: 127ms\tremaining: 149ms\n",
            "46:\tlearn: 0.9187359\ttotal: 130ms\tremaining: 146ms\n",
            "47:\tlearn: 0.9221219\ttotal: 132ms\tremaining: 143ms\n",
            "48:\tlearn: 0.9232506\ttotal: 135ms\tremaining: 140ms\n",
            "49:\tlearn: 0.9232506\ttotal: 138ms\tremaining: 138ms\n",
            "50:\tlearn: 0.9266366\ttotal: 140ms\tremaining: 135ms\n",
            "51:\tlearn: 0.9266366\ttotal: 143ms\tremaining: 132ms\n",
            "52:\tlearn: 0.9288939\ttotal: 146ms\tremaining: 129ms\n",
            "53:\tlearn: 0.9300226\ttotal: 152ms\tremaining: 129ms\n",
            "54:\tlearn: 0.9288939\ttotal: 157ms\tremaining: 129ms\n",
            "55:\tlearn: 0.9300226\ttotal: 160ms\tremaining: 126ms\n",
            "56:\tlearn: 0.9288939\ttotal: 163ms\tremaining: 123ms\n",
            "57:\tlearn: 0.9277652\ttotal: 166ms\tremaining: 120ms\n",
            "58:\tlearn: 0.9288939\ttotal: 169ms\tremaining: 117ms\n",
            "59:\tlearn: 0.9300226\ttotal: 172ms\tremaining: 115ms\n",
            "60:\tlearn: 0.9288939\ttotal: 175ms\tremaining: 112ms\n",
            "61:\tlearn: 0.9311512\ttotal: 178ms\tremaining: 109ms\n",
            "62:\tlearn: 0.9300226\ttotal: 181ms\tremaining: 106ms\n",
            "63:\tlearn: 0.9277652\ttotal: 184ms\tremaining: 103ms\n",
            "64:\tlearn: 0.9277652\ttotal: 185ms\tremaining: 99.4ms\n",
            "65:\tlearn: 0.9277652\ttotal: 187ms\tremaining: 96.4ms\n",
            "66:\tlearn: 0.9300226\ttotal: 190ms\tremaining: 93.5ms\n",
            "67:\tlearn: 0.9300226\ttotal: 198ms\tremaining: 93.3ms\n",
            "68:\tlearn: 0.9300226\ttotal: 204ms\tremaining: 91.5ms\n",
            "69:\tlearn: 0.9311512\ttotal: 206ms\tremaining: 88.3ms\n",
            "70:\tlearn: 0.9300226\ttotal: 208ms\tremaining: 85.1ms\n",
            "71:\tlearn: 0.9300226\ttotal: 211ms\tremaining: 81.9ms\n",
            "72:\tlearn: 0.9322799\ttotal: 213ms\tremaining: 78.8ms\n",
            "73:\tlearn: 0.9322799\ttotal: 215ms\tremaining: 75.7ms\n",
            "74:\tlearn: 0.9311512\ttotal: 218ms\tremaining: 72.5ms\n",
            "75:\tlearn: 0.9300226\ttotal: 218ms\tremaining: 69ms\n",
            "76:\tlearn: 0.9300226\ttotal: 221ms\tremaining: 65.9ms\n",
            "77:\tlearn: 0.9288939\ttotal: 223ms\tremaining: 62.9ms\n",
            "78:\tlearn: 0.9311512\ttotal: 225ms\tremaining: 59.9ms\n",
            "79:\tlearn: 0.9300226\ttotal: 228ms\tremaining: 56.9ms\n",
            "80:\tlearn: 0.9311512\ttotal: 231ms\tremaining: 54.1ms\n",
            "81:\tlearn: 0.9311512\ttotal: 233ms\tremaining: 51.2ms\n",
            "82:\tlearn: 0.9311512\ttotal: 236ms\tremaining: 48.2ms\n",
            "83:\tlearn: 0.9345372\ttotal: 240ms\tremaining: 45.7ms\n",
            "84:\tlearn: 0.9356659\ttotal: 243ms\tremaining: 42.8ms\n",
            "85:\tlearn: 0.9356659\ttotal: 247ms\tremaining: 40.1ms\n",
            "86:\tlearn: 0.9367946\ttotal: 251ms\tremaining: 37.4ms\n",
            "87:\tlearn: 0.9379233\ttotal: 255ms\tremaining: 34.8ms\n",
            "88:\tlearn: 0.9390519\ttotal: 259ms\tremaining: 32.1ms\n",
            "89:\tlearn: 0.9379233\ttotal: 263ms\tremaining: 29.3ms\n",
            "90:\tlearn: 0.9390519\ttotal: 266ms\tremaining: 26.3ms\n",
            "91:\tlearn: 0.9401806\ttotal: 273ms\tremaining: 23.7ms\n",
            "92:\tlearn: 0.9401806\ttotal: 276ms\tremaining: 20.7ms\n",
            "93:\tlearn: 0.9390519\ttotal: 282ms\tremaining: 18ms\n",
            "94:\tlearn: 0.9401806\ttotal: 294ms\tremaining: 15.5ms\n",
            "95:\tlearn: 0.9413093\ttotal: 298ms\tremaining: 12.4ms\n",
            "96:\tlearn: 0.9413093\ttotal: 306ms\tremaining: 9.45ms\n",
            "97:\tlearn: 0.9413093\ttotal: 314ms\tremaining: 6.41ms\n",
            "98:\tlearn: 0.9413093\ttotal: 322ms\tremaining: 3.25ms\n",
            "99:\tlearn: 0.9413093\ttotal: 331ms\tremaining: 0us\n",
            "0:\tlearn: 0.8769752\ttotal: 3.15ms\tremaining: 312ms\n",
            "1:\tlearn: 0.8566591\ttotal: 4.02ms\tremaining: 197ms\n",
            "2:\tlearn: 0.8645598\ttotal: 7.25ms\tremaining: 234ms\n",
            "3:\tlearn: 0.8600451\ttotal: 8.88ms\tremaining: 213ms\n",
            "4:\tlearn: 0.8555305\ttotal: 9.74ms\tremaining: 185ms\n",
            "5:\tlearn: 0.8544018\ttotal: 11.6ms\tremaining: 181ms\n",
            "6:\tlearn: 0.8634312\ttotal: 14.3ms\tremaining: 189ms\n",
            "7:\tlearn: 0.8645598\ttotal: 17ms\tremaining: 195ms\n",
            "8:\tlearn: 0.8702032\ttotal: 21.2ms\tremaining: 214ms\n",
            "9:\tlearn: 0.8735892\ttotal: 23.6ms\tremaining: 212ms\n",
            "10:\tlearn: 0.8724605\ttotal: 26.2ms\tremaining: 212ms\n",
            "11:\tlearn: 0.8758465\ttotal: 29.6ms\tremaining: 217ms\n",
            "12:\tlearn: 0.8758465\ttotal: 33ms\tremaining: 221ms\n",
            "13:\tlearn: 0.8758465\ttotal: 35.9ms\tremaining: 221ms\n",
            "14:\tlearn: 0.8781038\ttotal: 38.3ms\tremaining: 217ms\n",
            "15:\tlearn: 0.8781038\ttotal: 42.1ms\tremaining: 221ms\n",
            "16:\tlearn: 0.8871332\ttotal: 45ms\tremaining: 219ms\n",
            "17:\tlearn: 0.8916479\ttotal: 47.3ms\tremaining: 216ms\n",
            "18:\tlearn: 0.8972912\ttotal: 50.1ms\tremaining: 213ms\n",
            "19:\tlearn: 0.8984199\ttotal: 53.3ms\tremaining: 213ms\n",
            "20:\tlearn: 0.8972912\ttotal: 56.1ms\tremaining: 211ms\n",
            "21:\tlearn: 0.8939052\ttotal: 58.5ms\tremaining: 208ms\n",
            "22:\tlearn: 0.8995485\ttotal: 61.2ms\tremaining: 205ms\n",
            "23:\tlearn: 0.8995485\ttotal: 64.6ms\tremaining: 205ms\n",
            "24:\tlearn: 0.8995485\ttotal: 67.1ms\tremaining: 201ms\n",
            "25:\tlearn: 0.9018059\ttotal: 69.6ms\tremaining: 198ms\n",
            "26:\tlearn: 0.8995485\ttotal: 73.2ms\tremaining: 198ms\n",
            "27:\tlearn: 0.9018059\ttotal: 76ms\tremaining: 195ms\n",
            "28:\tlearn: 0.8995485\ttotal: 76.6ms\tremaining: 188ms\n",
            "29:\tlearn: 0.9040632\ttotal: 79.1ms\tremaining: 185ms\n",
            "30:\tlearn: 0.9029345\ttotal: 82.3ms\tremaining: 183ms\n",
            "31:\tlearn: 0.9040632\ttotal: 85.2ms\tremaining: 181ms\n",
            "32:\tlearn: 0.9085779\ttotal: 86ms\tremaining: 175ms\n",
            "33:\tlearn: 0.9085779\ttotal: 88.7ms\tremaining: 172ms\n",
            "34:\tlearn: 0.9085779\ttotal: 92.4ms\tremaining: 172ms\n",
            "35:\tlearn: 0.9097065\ttotal: 95.7ms\tremaining: 170ms\n",
            "36:\tlearn: 0.9097065\ttotal: 98.9ms\tremaining: 168ms\n",
            "37:\tlearn: 0.9108352\ttotal: 102ms\tremaining: 167ms\n",
            "38:\tlearn: 0.9097065\ttotal: 105ms\tremaining: 164ms\n",
            "39:\tlearn: 0.9108352\ttotal: 114ms\tremaining: 171ms\n",
            "40:\tlearn: 0.9119639\ttotal: 136ms\tremaining: 195ms\n",
            "41:\tlearn: 0.9119639\ttotal: 144ms\tremaining: 198ms\n",
            "42:\tlearn: 0.9119639\ttotal: 152ms\tremaining: 201ms\n",
            "43:\tlearn: 0.9108352\ttotal: 154ms\tremaining: 196ms\n",
            "44:\tlearn: 0.9130926\ttotal: 159ms\tremaining: 194ms\n",
            "45:\tlearn: 0.9119639\ttotal: 163ms\tremaining: 192ms\n",
            "46:\tlearn: 0.9130926\ttotal: 167ms\tremaining: 188ms\n",
            "47:\tlearn: 0.9153499\ttotal: 170ms\tremaining: 184ms\n",
            "48:\tlearn: 0.9153499\ttotal: 173ms\tremaining: 180ms\n",
            "49:\tlearn: 0.9187359\ttotal: 177ms\tremaining: 177ms\n",
            "50:\tlearn: 0.9176072\ttotal: 189ms\tremaining: 182ms\n",
            "51:\tlearn: 0.9187359\ttotal: 197ms\tremaining: 182ms\n",
            "52:\tlearn: 0.9187359\ttotal: 202ms\tremaining: 179ms\n",
            "53:\tlearn: 0.9187359\ttotal: 211ms\tremaining: 179ms\n",
            "54:\tlearn: 0.9198646\ttotal: 218ms\tremaining: 179ms\n",
            "55:\tlearn: 0.9221219\ttotal: 222ms\tremaining: 175ms\n",
            "56:\tlearn: 0.9232506\ttotal: 231ms\tremaining: 174ms\n",
            "57:\tlearn: 0.9255079\ttotal: 239ms\tremaining: 173ms\n",
            "58:\tlearn: 0.9266366\ttotal: 243ms\tremaining: 169ms\n",
            "59:\tlearn: 0.9288939\ttotal: 251ms\tremaining: 167ms\n",
            "60:\tlearn: 0.9311512\ttotal: 261ms\tremaining: 167ms\n",
            "61:\tlearn: 0.9300226\ttotal: 269ms\tremaining: 165ms\n",
            "62:\tlearn: 0.9311512\ttotal: 273ms\tremaining: 160ms\n",
            "63:\tlearn: 0.9311512\ttotal: 281ms\tremaining: 158ms\n",
            "64:\tlearn: 0.9311512\ttotal: 289ms\tremaining: 155ms\n",
            "65:\tlearn: 0.9311512\ttotal: 292ms\tremaining: 150ms\n",
            "66:\tlearn: 0.9311512\ttotal: 296ms\tremaining: 146ms\n",
            "67:\tlearn: 0.9311512\ttotal: 305ms\tremaining: 143ms\n",
            "68:\tlearn: 0.9300226\ttotal: 308ms\tremaining: 139ms\n",
            "69:\tlearn: 0.9300226\ttotal: 317ms\tremaining: 136ms\n",
            "70:\tlearn: 0.9311512\ttotal: 327ms\tremaining: 133ms\n",
            "71:\tlearn: 0.9322799\ttotal: 335ms\tremaining: 130ms\n",
            "72:\tlearn: 0.9322799\ttotal: 339ms\tremaining: 125ms\n",
            "73:\tlearn: 0.9334086\ttotal: 346ms\tremaining: 122ms\n",
            "74:\tlearn: 0.9322799\ttotal: 349ms\tremaining: 116ms\n",
            "75:\tlearn: 0.9345372\ttotal: 352ms\tremaining: 111ms\n",
            "76:\tlearn: 0.9367946\ttotal: 356ms\tremaining: 106ms\n",
            "77:\tlearn: 0.9367946\ttotal: 364ms\tremaining: 103ms\n",
            "78:\tlearn: 0.9367946\ttotal: 367ms\tremaining: 97.7ms\n",
            "79:\tlearn: 0.9379233\ttotal: 376ms\tremaining: 94ms\n",
            "80:\tlearn: 0.9379233\ttotal: 384ms\tremaining: 90.1ms\n",
            "81:\tlearn: 0.9367946\ttotal: 393ms\tremaining: 86.4ms\n",
            "82:\tlearn: 0.9367946\ttotal: 400ms\tremaining: 81.9ms\n",
            "83:\tlearn: 0.9379233\ttotal: 406ms\tremaining: 77.4ms\n",
            "84:\tlearn: 0.9367946\ttotal: 412ms\tremaining: 72.7ms\n",
            "85:\tlearn: 0.9367946\ttotal: 417ms\tremaining: 67.8ms\n",
            "86:\tlearn: 0.9367946\ttotal: 423ms\tremaining: 63.2ms\n",
            "87:\tlearn: 0.9367946\ttotal: 426ms\tremaining: 58.1ms\n",
            "88:\tlearn: 0.9367946\ttotal: 430ms\tremaining: 53.2ms\n",
            "89:\tlearn: 0.9367946\ttotal: 437ms\tremaining: 48.6ms\n",
            "90:\tlearn: 0.9367946\ttotal: 443ms\tremaining: 43.9ms\n",
            "91:\tlearn: 0.9379233\ttotal: 447ms\tremaining: 38.9ms\n",
            "92:\tlearn: 0.9379233\ttotal: 451ms\tremaining: 33.9ms\n",
            "93:\tlearn: 0.9379233\ttotal: 456ms\tremaining: 29.1ms\n",
            "94:\tlearn: 0.9379233\ttotal: 462ms\tremaining: 24.3ms\n",
            "95:\tlearn: 0.9379233\ttotal: 471ms\tremaining: 19.6ms\n",
            "96:\tlearn: 0.9379233\ttotal: 482ms\tremaining: 14.9ms\n",
            "97:\tlearn: 0.9379233\ttotal: 488ms\tremaining: 9.96ms\n",
            "98:\tlearn: 0.9379233\ttotal: 491ms\tremaining: 4.96ms\n",
            "99:\tlearn: 0.9379233\ttotal: 493ms\tremaining: 0us\n",
            "0:\tlearn: 0.8781038\ttotal: 3.23ms\tremaining: 320ms\n",
            "1:\tlearn: 0.8589165\ttotal: 4.05ms\tremaining: 199ms\n",
            "2:\tlearn: 0.8668172\ttotal: 9.28ms\tremaining: 300ms\n",
            "3:\tlearn: 0.8724605\ttotal: 17.2ms\tremaining: 413ms\n",
            "4:\tlearn: 0.8803612\ttotal: 20.4ms\tremaining: 388ms\n",
            "5:\tlearn: 0.8769752\ttotal: 22.9ms\tremaining: 359ms\n",
            "6:\tlearn: 0.8803612\ttotal: 25.4ms\tremaining: 338ms\n",
            "7:\tlearn: 0.8826185\ttotal: 28.1ms\tremaining: 323ms\n",
            "8:\tlearn: 0.8860045\ttotal: 30.9ms\tremaining: 313ms\n",
            "9:\tlearn: 0.8860045\ttotal: 33.4ms\tremaining: 300ms\n",
            "10:\tlearn: 0.8860045\ttotal: 36.1ms\tremaining: 292ms\n",
            "11:\tlearn: 0.8882619\ttotal: 39.1ms\tremaining: 286ms\n",
            "12:\tlearn: 0.8893905\ttotal: 41.4ms\tremaining: 277ms\n",
            "13:\tlearn: 0.8814898\ttotal: 42.2ms\tremaining: 259ms\n",
            "14:\tlearn: 0.8871332\ttotal: 44.6ms\tremaining: 253ms\n",
            "15:\tlearn: 0.8837472\ttotal: 47.3ms\tremaining: 248ms\n",
            "16:\tlearn: 0.8916479\ttotal: 49.7ms\tremaining: 243ms\n",
            "17:\tlearn: 0.8905192\ttotal: 52.3ms\tremaining: 238ms\n",
            "18:\tlearn: 0.8972912\ttotal: 54.8ms\tremaining: 233ms\n",
            "19:\tlearn: 0.8972912\ttotal: 57.5ms\tremaining: 230ms\n",
            "20:\tlearn: 0.8995485\ttotal: 59.8ms\tremaining: 225ms\n",
            "21:\tlearn: 0.8961625\ttotal: 62.1ms\tremaining: 220ms\n",
            "22:\tlearn: 0.9018059\ttotal: 64.9ms\tremaining: 217ms\n",
            "23:\tlearn: 0.9006772\ttotal: 67.6ms\tremaining: 214ms\n",
            "24:\tlearn: 0.9029345\ttotal: 69.9ms\tremaining: 210ms\n",
            "25:\tlearn: 0.9029345\ttotal: 72.3ms\tremaining: 206ms\n",
            "26:\tlearn: 0.9006772\ttotal: 74.9ms\tremaining: 203ms\n",
            "27:\tlearn: 0.9006772\ttotal: 77.3ms\tremaining: 199ms\n",
            "28:\tlearn: 0.9051919\ttotal: 79.7ms\tremaining: 195ms\n",
            "29:\tlearn: 0.9040632\ttotal: 80ms\tremaining: 187ms\n",
            "30:\tlearn: 0.9085779\ttotal: 82.7ms\tremaining: 184ms\n",
            "31:\tlearn: 0.9097065\ttotal: 85.4ms\tremaining: 182ms\n",
            "32:\tlearn: 0.9097065\ttotal: 87.7ms\tremaining: 178ms\n",
            "33:\tlearn: 0.9108352\ttotal: 90.2ms\tremaining: 175ms\n",
            "34:\tlearn: 0.9176072\ttotal: 92.6ms\tremaining: 172ms\n",
            "35:\tlearn: 0.9176072\ttotal: 95.3ms\tremaining: 169ms\n",
            "36:\tlearn: 0.9187359\ttotal: 97.6ms\tremaining: 166ms\n",
            "37:\tlearn: 0.9187359\ttotal: 99.8ms\tremaining: 163ms\n",
            "38:\tlearn: 0.9187359\ttotal: 100ms\tremaining: 157ms\n",
            "39:\tlearn: 0.9187359\ttotal: 103ms\tremaining: 154ms\n",
            "40:\tlearn: 0.9187359\ttotal: 105ms\tremaining: 152ms\n",
            "41:\tlearn: 0.9187359\ttotal: 108ms\tremaining: 149ms\n",
            "42:\tlearn: 0.9187359\ttotal: 110ms\tremaining: 146ms\n",
            "43:\tlearn: 0.9187359\ttotal: 112ms\tremaining: 143ms\n",
            "44:\tlearn: 0.9198646\ttotal: 115ms\tremaining: 141ms\n",
            "45:\tlearn: 0.9198646\ttotal: 118ms\tremaining: 138ms\n",
            "46:\tlearn: 0.9198646\ttotal: 120ms\tremaining: 136ms\n",
            "47:\tlearn: 0.9198646\ttotal: 124ms\tremaining: 134ms\n",
            "48:\tlearn: 0.9198646\ttotal: 127ms\tremaining: 132ms\n",
            "49:\tlearn: 0.9209932\ttotal: 129ms\tremaining: 129ms\n",
            "50:\tlearn: 0.9221219\ttotal: 132ms\tremaining: 127ms\n",
            "51:\tlearn: 0.9221219\ttotal: 134ms\tremaining: 124ms\n",
            "52:\tlearn: 0.9232506\ttotal: 137ms\tremaining: 121ms\n",
            "53:\tlearn: 0.9232506\ttotal: 139ms\tremaining: 119ms\n",
            "54:\tlearn: 0.9221219\ttotal: 142ms\tremaining: 116ms\n",
            "55:\tlearn: 0.9232506\ttotal: 145ms\tremaining: 114ms\n",
            "56:\tlearn: 0.9243792\ttotal: 147ms\tremaining: 111ms\n",
            "57:\tlearn: 0.9243792\ttotal: 153ms\tremaining: 111ms\n",
            "58:\tlearn: 0.9232506\ttotal: 157ms\tremaining: 109ms\n",
            "59:\tlearn: 0.9243792\ttotal: 161ms\tremaining: 107ms\n",
            "60:\tlearn: 0.9243792\ttotal: 167ms\tremaining: 107ms\n",
            "61:\tlearn: 0.9243792\ttotal: 170ms\tremaining: 104ms\n",
            "62:\tlearn: 0.9243792\ttotal: 173ms\tremaining: 101ms\n",
            "63:\tlearn: 0.9243792\ttotal: 176ms\tremaining: 98.8ms\n",
            "64:\tlearn: 0.9243792\ttotal: 178ms\tremaining: 96.1ms\n",
            "65:\tlearn: 0.9243792\ttotal: 182ms\tremaining: 93.7ms\n",
            "66:\tlearn: 0.9255079\ttotal: 185ms\tremaining: 90.9ms\n",
            "67:\tlearn: 0.9255079\ttotal: 187ms\tremaining: 88ms\n",
            "68:\tlearn: 0.9255079\ttotal: 190ms\tremaining: 85.3ms\n",
            "69:\tlearn: 0.9255079\ttotal: 192ms\tremaining: 82.4ms\n",
            "70:\tlearn: 0.9266366\ttotal: 195ms\tremaining: 79.7ms\n",
            "71:\tlearn: 0.9255079\ttotal: 197ms\tremaining: 76.8ms\n",
            "72:\tlearn: 0.9277652\ttotal: 201ms\tremaining: 74.2ms\n",
            "73:\tlearn: 0.9266366\ttotal: 203ms\tremaining: 71.3ms\n",
            "74:\tlearn: 0.9288939\ttotal: 206ms\tremaining: 68.6ms\n",
            "75:\tlearn: 0.9288939\ttotal: 208ms\tremaining: 65.7ms\n",
            "76:\tlearn: 0.9277652\ttotal: 211ms\tremaining: 63ms\n",
            "77:\tlearn: 0.9288939\ttotal: 213ms\tremaining: 60.2ms\n",
            "78:\tlearn: 0.9288939\ttotal: 216ms\tremaining: 57.4ms\n",
            "79:\tlearn: 0.9288939\ttotal: 219ms\tremaining: 54.7ms\n",
            "80:\tlearn: 0.9311512\ttotal: 221ms\tremaining: 51.9ms\n",
            "81:\tlearn: 0.9322799\ttotal: 224ms\tremaining: 49.1ms\n",
            "82:\tlearn: 0.9311512\ttotal: 226ms\tremaining: 46.3ms\n",
            "83:\tlearn: 0.9322799\ttotal: 229ms\tremaining: 43.6ms\n",
            "84:\tlearn: 0.9322799\ttotal: 231ms\tremaining: 40.8ms\n",
            "85:\tlearn: 0.9322799\ttotal: 234ms\tremaining: 38ms\n",
            "86:\tlearn: 0.9322799\ttotal: 236ms\tremaining: 35.3ms\n",
            "87:\tlearn: 0.9334086\ttotal: 239ms\tremaining: 32.6ms\n",
            "88:\tlearn: 0.9334086\ttotal: 242ms\tremaining: 29.9ms\n",
            "89:\tlearn: 0.9334086\ttotal: 244ms\tremaining: 27.1ms\n",
            "90:\tlearn: 0.9334086\ttotal: 247ms\tremaining: 24.4ms\n",
            "91:\tlearn: 0.9356659\ttotal: 249ms\tremaining: 21.7ms\n",
            "92:\tlearn: 0.9345372\ttotal: 250ms\tremaining: 18.8ms\n",
            "93:\tlearn: 0.9356659\ttotal: 253ms\tremaining: 16.1ms\n",
            "94:\tlearn: 0.9356659\ttotal: 255ms\tremaining: 13.4ms\n",
            "95:\tlearn: 0.9356659\ttotal: 258ms\tremaining: 10.7ms\n",
            "96:\tlearn: 0.9356659\ttotal: 260ms\tremaining: 8.05ms\n",
            "97:\tlearn: 0.9367946\ttotal: 263ms\tremaining: 5.36ms\n",
            "98:\tlearn: 0.9367946\ttotal: 267ms\tremaining: 2.69ms\n",
            "99:\tlearn: 0.9379233\ttotal: 274ms\tremaining: 0us\n",
            "0:\tlearn: 0.8769752\ttotal: 3.11ms\tremaining: 308ms\n",
            "1:\tlearn: 0.8589165\ttotal: 4.06ms\tremaining: 199ms\n",
            "2:\tlearn: 0.8645598\ttotal: 6.64ms\tremaining: 215ms\n",
            "3:\tlearn: 0.8724605\ttotal: 9.04ms\tremaining: 217ms\n",
            "4:\tlearn: 0.8769752\ttotal: 11.3ms\tremaining: 216ms\n",
            "5:\tlearn: 0.8724605\ttotal: 12.7ms\tremaining: 199ms\n",
            "6:\tlearn: 0.8781038\ttotal: 15.2ms\tremaining: 203ms\n",
            "7:\tlearn: 0.8781038\ttotal: 17.8ms\tremaining: 205ms\n",
            "8:\tlearn: 0.8860045\ttotal: 20.3ms\tremaining: 206ms\n",
            "9:\tlearn: 0.8893905\ttotal: 23.1ms\tremaining: 208ms\n",
            "10:\tlearn: 0.8916479\ttotal: 25.9ms\tremaining: 210ms\n",
            "11:\tlearn: 0.8961625\ttotal: 28.5ms\tremaining: 209ms\n",
            "12:\tlearn: 0.8939052\ttotal: 30.9ms\tremaining: 207ms\n",
            "13:\tlearn: 0.8984199\ttotal: 33.7ms\tremaining: 207ms\n",
            "14:\tlearn: 0.9018059\ttotal: 36.4ms\tremaining: 206ms\n",
            "15:\tlearn: 0.8984199\ttotal: 38.8ms\tremaining: 204ms\n",
            "16:\tlearn: 0.8972912\ttotal: 41.5ms\tremaining: 203ms\n",
            "17:\tlearn: 0.8995485\ttotal: 44.1ms\tremaining: 201ms\n",
            "18:\tlearn: 0.8972912\ttotal: 46.6ms\tremaining: 199ms\n",
            "19:\tlearn: 0.8995485\ttotal: 49ms\tremaining: 196ms\n",
            "20:\tlearn: 0.9040632\ttotal: 50.9ms\tremaining: 191ms\n",
            "21:\tlearn: 0.9051919\ttotal: 53.2ms\tremaining: 189ms\n",
            "22:\tlearn: 0.9085779\ttotal: 58.7ms\tremaining: 196ms\n",
            "23:\tlearn: 0.9085779\ttotal: 63ms\tremaining: 200ms\n",
            "24:\tlearn: 0.9074492\ttotal: 65.4ms\tremaining: 196ms\n",
            "25:\tlearn: 0.9119639\ttotal: 67.8ms\tremaining: 193ms\n",
            "26:\tlearn: 0.9130926\ttotal: 70.5ms\tremaining: 190ms\n",
            "27:\tlearn: 0.9164786\ttotal: 72.9ms\tremaining: 188ms\n",
            "28:\tlearn: 0.9176072\ttotal: 75.2ms\tremaining: 184ms\n",
            "29:\tlearn: 0.9164786\ttotal: 77.5ms\tremaining: 181ms\n",
            "30:\tlearn: 0.9176072\ttotal: 80.1ms\tremaining: 178ms\n",
            "31:\tlearn: 0.9187359\ttotal: 82.6ms\tremaining: 176ms\n",
            "32:\tlearn: 0.9176072\ttotal: 85.4ms\tremaining: 173ms\n",
            "33:\tlearn: 0.9176072\ttotal: 88.1ms\tremaining: 171ms\n",
            "34:\tlearn: 0.9187359\ttotal: 90.8ms\tremaining: 169ms\n",
            "35:\tlearn: 0.9209932\ttotal: 93.8ms\tremaining: 167ms\n",
            "36:\tlearn: 0.9209932\ttotal: 94.6ms\tremaining: 161ms\n",
            "37:\tlearn: 0.9198646\ttotal: 97ms\tremaining: 158ms\n",
            "38:\tlearn: 0.9187359\ttotal: 100ms\tremaining: 156ms\n",
            "39:\tlearn: 0.9187359\ttotal: 103ms\tremaining: 154ms\n",
            "40:\tlearn: 0.9187359\ttotal: 105ms\tremaining: 151ms\n",
            "41:\tlearn: 0.9209932\ttotal: 108ms\tremaining: 149ms\n",
            "42:\tlearn: 0.9221219\ttotal: 111ms\tremaining: 147ms\n",
            "43:\tlearn: 0.9243792\ttotal: 113ms\tremaining: 144ms\n",
            "44:\tlearn: 0.9232506\ttotal: 116ms\tremaining: 141ms\n",
            "45:\tlearn: 0.9232506\ttotal: 119ms\tremaining: 139ms\n",
            "46:\tlearn: 0.9232506\ttotal: 121ms\tremaining: 137ms\n",
            "47:\tlearn: 0.9243792\ttotal: 124ms\tremaining: 134ms\n",
            "48:\tlearn: 0.9255079\ttotal: 126ms\tremaining: 131ms\n",
            "49:\tlearn: 0.9266366\ttotal: 129ms\tremaining: 129ms\n",
            "50:\tlearn: 0.9266366\ttotal: 131ms\tremaining: 126ms\n",
            "51:\tlearn: 0.9266366\ttotal: 134ms\tremaining: 123ms\n",
            "52:\tlearn: 0.9266366\ttotal: 136ms\tremaining: 121ms\n",
            "53:\tlearn: 0.9266366\ttotal: 139ms\tremaining: 118ms\n",
            "54:\tlearn: 0.9266366\ttotal: 141ms\tremaining: 115ms\n",
            "55:\tlearn: 0.9266366\ttotal: 143ms\tremaining: 113ms\n",
            "56:\tlearn: 0.9288939\ttotal: 146ms\tremaining: 110ms\n",
            "57:\tlearn: 0.9288939\ttotal: 148ms\tremaining: 107ms\n",
            "58:\tlearn: 0.9288939\ttotal: 151ms\tremaining: 105ms\n",
            "59:\tlearn: 0.9311512\ttotal: 153ms\tremaining: 102ms\n",
            "60:\tlearn: 0.9300226\ttotal: 156ms\tremaining: 99.6ms\n",
            "61:\tlearn: 0.9345372\ttotal: 158ms\tremaining: 96.9ms\n",
            "62:\tlearn: 0.9311512\ttotal: 160ms\tremaining: 94.3ms\n",
            "63:\tlearn: 0.9334086\ttotal: 163ms\tremaining: 91.6ms\n",
            "64:\tlearn: 0.9345372\ttotal: 165ms\tremaining: 89.1ms\n",
            "65:\tlearn: 0.9356659\ttotal: 168ms\tremaining: 86.5ms\n",
            "66:\tlearn: 0.9356659\ttotal: 170ms\tremaining: 83.9ms\n",
            "67:\tlearn: 0.9356659\ttotal: 173ms\tremaining: 81.3ms\n",
            "68:\tlearn: 0.9379233\ttotal: 176ms\tremaining: 78.9ms\n",
            "69:\tlearn: 0.9379233\ttotal: 178ms\tremaining: 76.3ms\n",
            "70:\tlearn: 0.9390519\ttotal: 180ms\tremaining: 73.6ms\n",
            "71:\tlearn: 0.9367946\ttotal: 182ms\tremaining: 71ms\n",
            "72:\tlearn: 0.9379233\ttotal: 185ms\tremaining: 68.5ms\n",
            "73:\tlearn: 0.9390519\ttotal: 188ms\tremaining: 65.9ms\n",
            "74:\tlearn: 0.9390519\ttotal: 190ms\tremaining: 63.3ms\n",
            "75:\tlearn: 0.9401806\ttotal: 192ms\tremaining: 60.7ms\n",
            "76:\tlearn: 0.9413093\ttotal: 195ms\tremaining: 58.3ms\n",
            "77:\tlearn: 0.9413093\ttotal: 198ms\tremaining: 55.8ms\n",
            "78:\tlearn: 0.9401806\ttotal: 200ms\tremaining: 53.2ms\n",
            "79:\tlearn: 0.9401806\ttotal: 203ms\tremaining: 50.6ms\n",
            "80:\tlearn: 0.9401806\ttotal: 205ms\tremaining: 48.1ms\n",
            "81:\tlearn: 0.9413093\ttotal: 208ms\tremaining: 45.6ms\n",
            "82:\tlearn: 0.9413093\ttotal: 210ms\tremaining: 43ms\n",
            "83:\tlearn: 0.9401806\ttotal: 215ms\tremaining: 40.9ms\n",
            "84:\tlearn: 0.9401806\ttotal: 219ms\tremaining: 38.7ms\n",
            "85:\tlearn: 0.9413093\ttotal: 224ms\tremaining: 36.5ms\n",
            "86:\tlearn: 0.9413093\ttotal: 227ms\tremaining: 33.9ms\n",
            "87:\tlearn: 0.9401806\ttotal: 229ms\tremaining: 31.3ms\n",
            "88:\tlearn: 0.9390519\ttotal: 232ms\tremaining: 28.6ms\n",
            "89:\tlearn: 0.9390519\ttotal: 234ms\tremaining: 26ms\n",
            "90:\tlearn: 0.9401806\ttotal: 237ms\tremaining: 23.4ms\n",
            "91:\tlearn: 0.9401806\ttotal: 239ms\tremaining: 20.8ms\n",
            "92:\tlearn: 0.9401806\ttotal: 241ms\tremaining: 18.1ms\n",
            "93:\tlearn: 0.9424379\ttotal: 243ms\tremaining: 15.5ms\n",
            "94:\tlearn: 0.9424379\ttotal: 246ms\tremaining: 12.9ms\n",
            "95:\tlearn: 0.9424379\ttotal: 248ms\tremaining: 10.3ms\n",
            "96:\tlearn: 0.9435666\ttotal: 250ms\tremaining: 7.74ms\n",
            "97:\tlearn: 0.9424379\ttotal: 253ms\tremaining: 5.16ms\n",
            "98:\tlearn: 0.9424379\ttotal: 255ms\tremaining: 2.58ms\n",
            "99:\tlearn: 0.9446953\ttotal: 258ms\tremaining: 0us\n",
            "0:\tlearn: 0.8814898\ttotal: 2.95ms\tremaining: 292ms\n",
            "1:\tlearn: 0.8634312\ttotal: 3.82ms\tremaining: 187ms\n",
            "2:\tlearn: 0.8690745\ttotal: 6.19ms\tremaining: 200ms\n",
            "3:\tlearn: 0.8679458\ttotal: 8.9ms\tremaining: 214ms\n",
            "4:\tlearn: 0.8702032\ttotal: 11.4ms\tremaining: 216ms\n",
            "5:\tlearn: 0.8735892\ttotal: 14.3ms\tremaining: 224ms\n",
            "6:\tlearn: 0.8735892\ttotal: 16.8ms\tremaining: 223ms\n",
            "7:\tlearn: 0.8758465\ttotal: 19.3ms\tremaining: 222ms\n",
            "8:\tlearn: 0.8803612\ttotal: 21.9ms\tremaining: 222ms\n",
            "9:\tlearn: 0.8893905\ttotal: 24.3ms\tremaining: 219ms\n",
            "10:\tlearn: 0.8893905\ttotal: 26.7ms\tremaining: 216ms\n",
            "11:\tlearn: 0.8905192\ttotal: 29.1ms\tremaining: 214ms\n",
            "12:\tlearn: 0.8916479\ttotal: 31.7ms\tremaining: 212ms\n",
            "13:\tlearn: 0.8927765\ttotal: 34.1ms\tremaining: 209ms\n",
            "14:\tlearn: 0.8916479\ttotal: 35.1ms\tremaining: 199ms\n",
            "15:\tlearn: 0.8927765\ttotal: 37.5ms\tremaining: 197ms\n",
            "16:\tlearn: 0.8950339\ttotal: 39.9ms\tremaining: 195ms\n",
            "17:\tlearn: 0.8950339\ttotal: 42.4ms\tremaining: 193ms\n",
            "18:\tlearn: 0.8939052\ttotal: 44.6ms\tremaining: 190ms\n",
            "19:\tlearn: 0.8950339\ttotal: 46.9ms\tremaining: 188ms\n",
            "20:\tlearn: 0.8972912\ttotal: 49.4ms\tremaining: 186ms\n",
            "21:\tlearn: 0.8984199\ttotal: 51.9ms\tremaining: 184ms\n",
            "22:\tlearn: 0.8961625\ttotal: 54.2ms\tremaining: 181ms\n",
            "23:\tlearn: 0.8995485\ttotal: 56.5ms\tremaining: 179ms\n",
            "24:\tlearn: 0.8984199\ttotal: 59ms\tremaining: 177ms\n",
            "25:\tlearn: 0.9006772\ttotal: 61.6ms\tremaining: 175ms\n",
            "26:\tlearn: 0.9018059\ttotal: 63.9ms\tremaining: 173ms\n",
            "27:\tlearn: 0.9051919\ttotal: 66.2ms\tremaining: 170ms\n",
            "28:\tlearn: 0.9085779\ttotal: 69.3ms\tremaining: 170ms\n",
            "29:\tlearn: 0.9108352\ttotal: 71.9ms\tremaining: 168ms\n",
            "30:\tlearn: 0.9119639\ttotal: 74.2ms\tremaining: 165ms\n",
            "31:\tlearn: 0.9130926\ttotal: 76.6ms\tremaining: 163ms\n",
            "32:\tlearn: 0.9130926\ttotal: 79.6ms\tremaining: 162ms\n",
            "33:\tlearn: 0.9130926\ttotal: 82.2ms\tremaining: 160ms\n",
            "34:\tlearn: 0.9153499\ttotal: 84.7ms\tremaining: 157ms\n",
            "35:\tlearn: 0.9153499\ttotal: 87.1ms\tremaining: 155ms\n",
            "36:\tlearn: 0.9164786\ttotal: 89.6ms\tremaining: 153ms\n",
            "37:\tlearn: 0.9176072\ttotal: 91.9ms\tremaining: 150ms\n",
            "38:\tlearn: 0.9176072\ttotal: 94.4ms\tremaining: 148ms\n",
            "39:\tlearn: 0.9198646\ttotal: 97.2ms\tremaining: 146ms\n",
            "40:\tlearn: 0.9198646\ttotal: 100ms\tremaining: 144ms\n",
            "41:\tlearn: 0.9198646\ttotal: 103ms\tremaining: 142ms\n",
            "42:\tlearn: 0.9198646\ttotal: 105ms\tremaining: 140ms\n",
            "43:\tlearn: 0.9187359\ttotal: 108ms\tremaining: 138ms\n",
            "44:\tlearn: 0.9187359\ttotal: 111ms\tremaining: 136ms\n",
            "45:\tlearn: 0.9187359\ttotal: 113ms\tremaining: 133ms\n",
            "46:\tlearn: 0.9221219\ttotal: 116ms\tremaining: 131ms\n",
            "47:\tlearn: 0.9209932\ttotal: 129ms\tremaining: 140ms\n",
            "48:\tlearn: 0.9232506\ttotal: 139ms\tremaining: 145ms\n",
            "49:\tlearn: 0.9232506\ttotal: 152ms\tremaining: 152ms\n",
            "50:\tlearn: 0.9266366\ttotal: 158ms\tremaining: 151ms\n",
            "51:\tlearn: 0.9266366\ttotal: 163ms\tremaining: 151ms\n",
            "52:\tlearn: 0.9288939\ttotal: 171ms\tremaining: 152ms\n",
            "53:\tlearn: 0.9277652\ttotal: 181ms\tremaining: 155ms\n",
            "54:\tlearn: 0.9277652\ttotal: 188ms\tremaining: 154ms\n",
            "55:\tlearn: 0.9277652\ttotal: 193ms\tremaining: 152ms\n",
            "56:\tlearn: 0.9300226\ttotal: 195ms\tremaining: 147ms\n",
            "57:\tlearn: 0.9300226\ttotal: 198ms\tremaining: 143ms\n",
            "58:\tlearn: 0.9311512\ttotal: 201ms\tremaining: 139ms\n",
            "59:\tlearn: 0.9300226\ttotal: 203ms\tremaining: 135ms\n",
            "60:\tlearn: 0.9311512\ttotal: 206ms\tremaining: 131ms\n",
            "61:\tlearn: 0.9300226\ttotal: 209ms\tremaining: 128ms\n",
            "62:\tlearn: 0.9300226\ttotal: 212ms\tremaining: 124ms\n",
            "63:\tlearn: 0.9300226\ttotal: 214ms\tremaining: 121ms\n",
            "64:\tlearn: 0.9300226\ttotal: 217ms\tremaining: 117ms\n",
            "65:\tlearn: 0.9300226\ttotal: 220ms\tremaining: 113ms\n",
            "66:\tlearn: 0.9300226\ttotal: 222ms\tremaining: 109ms\n",
            "67:\tlearn: 0.9311512\ttotal: 224ms\tremaining: 106ms\n",
            "68:\tlearn: 0.9322799\ttotal: 227ms\tremaining: 102ms\n",
            "69:\tlearn: 0.9311512\ttotal: 230ms\tremaining: 98.4ms\n",
            "70:\tlearn: 0.9311512\ttotal: 232ms\tremaining: 94.7ms\n",
            "71:\tlearn: 0.9322799\ttotal: 234ms\tremaining: 91.1ms\n",
            "72:\tlearn: 0.9322799\ttotal: 237ms\tremaining: 87.5ms\n",
            "73:\tlearn: 0.9322799\ttotal: 239ms\tremaining: 84.1ms\n",
            "74:\tlearn: 0.9311512\ttotal: 242ms\tremaining: 80.5ms\n",
            "75:\tlearn: 0.9334086\ttotal: 244ms\tremaining: 77.1ms\n",
            "76:\tlearn: 0.9334086\ttotal: 245ms\tremaining: 73.2ms\n",
            "77:\tlearn: 0.9334086\ttotal: 246ms\tremaining: 69.3ms\n",
            "78:\tlearn: 0.9311512\ttotal: 248ms\tremaining: 66ms\n",
            "79:\tlearn: 0.9345372\ttotal: 251ms\tremaining: 62.6ms\n",
            "80:\tlearn: 0.9345372\ttotal: 252ms\tremaining: 59ms\n",
            "81:\tlearn: 0.9345372\ttotal: 254ms\tremaining: 55.7ms\n",
            "82:\tlearn: 0.9345372\ttotal: 256ms\tremaining: 52.5ms\n",
            "83:\tlearn: 0.9345372\ttotal: 257ms\tremaining: 49ms\n",
            "84:\tlearn: 0.9345372\ttotal: 260ms\tremaining: 45.9ms\n",
            "85:\tlearn: 0.9322799\ttotal: 262ms\tremaining: 42.7ms\n",
            "86:\tlearn: 0.9334086\ttotal: 269ms\tremaining: 40.2ms\n",
            "87:\tlearn: 0.9334086\ttotal: 270ms\tremaining: 36.8ms\n",
            "88:\tlearn: 0.9311512\ttotal: 273ms\tremaining: 33.7ms\n",
            "89:\tlearn: 0.9311512\ttotal: 275ms\tremaining: 30.5ms\n",
            "90:\tlearn: 0.9322799\ttotal: 282ms\tremaining: 27.9ms\n",
            "91:\tlearn: 0.9322799\ttotal: 285ms\tremaining: 24.8ms\n",
            "92:\tlearn: 0.9334086\ttotal: 288ms\tremaining: 21.7ms\n",
            "93:\tlearn: 0.9345372\ttotal: 290ms\tremaining: 18.5ms\n",
            "94:\tlearn: 0.9345372\ttotal: 293ms\tremaining: 15.4ms\n",
            "95:\tlearn: 0.9345372\ttotal: 295ms\tremaining: 12.3ms\n",
            "96:\tlearn: 0.9356659\ttotal: 296ms\tremaining: 9.16ms\n",
            "97:\tlearn: 0.9356659\ttotal: 298ms\tremaining: 6.09ms\n",
            "98:\tlearn: 0.9356659\ttotal: 299ms\tremaining: 3.02ms\n",
            "99:\tlearn: 0.9356659\ttotal: 302ms\tremaining: 0us\n",
            "0:\tlearn: 0.8724605\ttotal: 2.71ms\tremaining: 268ms\n",
            "1:\tlearn: 0.8656885\ttotal: 4.17ms\tremaining: 204ms\n",
            "2:\tlearn: 0.8735892\ttotal: 6.57ms\tremaining: 213ms\n",
            "3:\tlearn: 0.8735892\ttotal: 8.34ms\tremaining: 200ms\n",
            "4:\tlearn: 0.8668172\ttotal: 9.16ms\tremaining: 174ms\n",
            "5:\tlearn: 0.8656885\ttotal: 10.3ms\tremaining: 162ms\n",
            "6:\tlearn: 0.8713318\ttotal: 13.2ms\tremaining: 176ms\n",
            "7:\tlearn: 0.8735892\ttotal: 15.9ms\tremaining: 183ms\n",
            "8:\tlearn: 0.8781038\ttotal: 19.4ms\tremaining: 196ms\n",
            "9:\tlearn: 0.8803612\ttotal: 22.2ms\tremaining: 200ms\n",
            "10:\tlearn: 0.8882619\ttotal: 24.6ms\tremaining: 199ms\n",
            "11:\tlearn: 0.8905192\ttotal: 27.1ms\tremaining: 199ms\n",
            "12:\tlearn: 0.8882619\ttotal: 30.3ms\tremaining: 203ms\n",
            "13:\tlearn: 0.8916479\ttotal: 33.6ms\tremaining: 207ms\n",
            "14:\tlearn: 0.8916479\ttotal: 36.3ms\tremaining: 206ms\n",
            "15:\tlearn: 0.8961625\ttotal: 39.6ms\tremaining: 208ms\n",
            "16:\tlearn: 0.8961625\ttotal: 43ms\tremaining: 210ms\n",
            "17:\tlearn: 0.8995485\ttotal: 45.7ms\tremaining: 208ms\n",
            "18:\tlearn: 0.8995485\ttotal: 48.8ms\tremaining: 208ms\n",
            "19:\tlearn: 0.9040632\ttotal: 52.1ms\tremaining: 208ms\n",
            "20:\tlearn: 0.9029345\ttotal: 55.8ms\tremaining: 210ms\n",
            "21:\tlearn: 0.9040632\ttotal: 59.1ms\tremaining: 209ms\n",
            "22:\tlearn: 0.9063205\ttotal: 69.7ms\tremaining: 233ms\n",
            "23:\tlearn: 0.9063205\ttotal: 72.8ms\tremaining: 230ms\n",
            "24:\tlearn: 0.9119639\ttotal: 75.5ms\tremaining: 227ms\n",
            "25:\tlearn: 0.9097065\ttotal: 79.3ms\tremaining: 226ms\n",
            "26:\tlearn: 0.9108352\ttotal: 83.7ms\tremaining: 226ms\n",
            "27:\tlearn: 0.9130926\ttotal: 93.6ms\tremaining: 241ms\n",
            "28:\tlearn: 0.9130926\ttotal: 96.1ms\tremaining: 235ms\n",
            "29:\tlearn: 0.9130926\ttotal: 99.7ms\tremaining: 233ms\n",
            "30:\tlearn: 0.9130926\ttotal: 108ms\tremaining: 240ms\n",
            "31:\tlearn: 0.9142212\ttotal: 117ms\tremaining: 249ms\n",
            "32:\tlearn: 0.9142212\ttotal: 119ms\tremaining: 241ms\n",
            "33:\tlearn: 0.9142212\ttotal: 131ms\tremaining: 254ms\n",
            "34:\tlearn: 0.9164786\ttotal: 138ms\tremaining: 256ms\n",
            "35:\tlearn: 0.9164786\ttotal: 151ms\tremaining: 268ms\n",
            "36:\tlearn: 0.9187359\ttotal: 154ms\tremaining: 262ms\n",
            "37:\tlearn: 0.9187359\ttotal: 157ms\tremaining: 256ms\n",
            "38:\tlearn: 0.9209932\ttotal: 161ms\tremaining: 253ms\n",
            "39:\tlearn: 0.9209932\ttotal: 164ms\tremaining: 247ms\n",
            "40:\tlearn: 0.9221219\ttotal: 167ms\tremaining: 241ms\n",
            "41:\tlearn: 0.9221219\ttotal: 170ms\tremaining: 234ms\n",
            "42:\tlearn: 0.9232506\ttotal: 173ms\tremaining: 229ms\n",
            "43:\tlearn: 0.9232506\ttotal: 176ms\tremaining: 224ms\n",
            "44:\tlearn: 0.9243792\ttotal: 180ms\tremaining: 220ms\n",
            "45:\tlearn: 0.9243792\ttotal: 182ms\tremaining: 214ms\n",
            "46:\tlearn: 0.9255079\ttotal: 185ms\tremaining: 208ms\n",
            "47:\tlearn: 0.9266366\ttotal: 187ms\tremaining: 203ms\n",
            "48:\tlearn: 0.9255079\ttotal: 191ms\tremaining: 199ms\n",
            "49:\tlearn: 0.9266366\ttotal: 197ms\tremaining: 197ms\n",
            "50:\tlearn: 0.9288939\ttotal: 201ms\tremaining: 193ms\n",
            "51:\tlearn: 0.9288939\ttotal: 206ms\tremaining: 190ms\n",
            "52:\tlearn: 0.9266366\ttotal: 214ms\tremaining: 190ms\n",
            "53:\tlearn: 0.9277652\ttotal: 218ms\tremaining: 186ms\n",
            "54:\tlearn: 0.9300226\ttotal: 226ms\tremaining: 185ms\n",
            "55:\tlearn: 0.9300226\ttotal: 234ms\tremaining: 184ms\n",
            "56:\tlearn: 0.9322799\ttotal: 241ms\tremaining: 182ms\n",
            "57:\tlearn: 0.9322799\ttotal: 247ms\tremaining: 179ms\n",
            "58:\tlearn: 0.9334086\ttotal: 255ms\tremaining: 177ms\n",
            "59:\tlearn: 0.9345372\ttotal: 266ms\tremaining: 177ms\n",
            "60:\tlearn: 0.9345372\ttotal: 270ms\tremaining: 173ms\n",
            "61:\tlearn: 0.9345372\ttotal: 274ms\tremaining: 168ms\n",
            "62:\tlearn: 0.9356659\ttotal: 277ms\tremaining: 163ms\n",
            "63:\tlearn: 0.9356659\ttotal: 280ms\tremaining: 157ms\n",
            "64:\tlearn: 0.9345372\ttotal: 283ms\tremaining: 152ms\n",
            "65:\tlearn: 0.9356659\ttotal: 285ms\tremaining: 147ms\n",
            "66:\tlearn: 0.9356659\ttotal: 288ms\tremaining: 142ms\n",
            "67:\tlearn: 0.9367946\ttotal: 300ms\tremaining: 141ms\n",
            "68:\tlearn: 0.9367946\ttotal: 302ms\tremaining: 136ms\n",
            "69:\tlearn: 0.9367946\ttotal: 307ms\tremaining: 132ms\n",
            "70:\tlearn: 0.9367946\ttotal: 309ms\tremaining: 126ms\n",
            "71:\tlearn: 0.9367946\ttotal: 312ms\tremaining: 121ms\n",
            "72:\tlearn: 0.9379233\ttotal: 314ms\tremaining: 116ms\n",
            "73:\tlearn: 0.9379233\ttotal: 317ms\tremaining: 111ms\n",
            "74:\tlearn: 0.9379233\ttotal: 319ms\tremaining: 106ms\n",
            "75:\tlearn: 0.9379233\ttotal: 321ms\tremaining: 101ms\n",
            "76:\tlearn: 0.9379233\ttotal: 324ms\tremaining: 96.8ms\n",
            "77:\tlearn: 0.9379233\ttotal: 326ms\tremaining: 92ms\n",
            "78:\tlearn: 0.9401806\ttotal: 329ms\tremaining: 87.4ms\n",
            "79:\tlearn: 0.9401806\ttotal: 331ms\tremaining: 82.8ms\n",
            "80:\tlearn: 0.9401806\ttotal: 335ms\tremaining: 78.5ms\n",
            "81:\tlearn: 0.9401806\ttotal: 337ms\tremaining: 74ms\n",
            "82:\tlearn: 0.9401806\ttotal: 340ms\tremaining: 69.6ms\n",
            "83:\tlearn: 0.9413093\ttotal: 343ms\tremaining: 65.3ms\n",
            "84:\tlearn: 0.9390519\ttotal: 345ms\tremaining: 60.9ms\n",
            "85:\tlearn: 0.9413093\ttotal: 348ms\tremaining: 56.6ms\n",
            "86:\tlearn: 0.9413093\ttotal: 350ms\tremaining: 52.3ms\n",
            "87:\tlearn: 0.9424379\ttotal: 353ms\tremaining: 48.1ms\n",
            "88:\tlearn: 0.9424379\ttotal: 355ms\tremaining: 43.9ms\n",
            "89:\tlearn: 0.9424379\ttotal: 357ms\tremaining: 39.7ms\n",
            "90:\tlearn: 0.9413093\ttotal: 359ms\tremaining: 35.5ms\n",
            "91:\tlearn: 0.9413093\ttotal: 362ms\tremaining: 31.5ms\n",
            "92:\tlearn: 0.9413093\ttotal: 364ms\tremaining: 27.4ms\n",
            "93:\tlearn: 0.9413093\ttotal: 366ms\tremaining: 23.4ms\n",
            "94:\tlearn: 0.9413093\ttotal: 367ms\tremaining: 19.3ms\n",
            "95:\tlearn: 0.9413093\ttotal: 369ms\tremaining: 15.4ms\n",
            "96:\tlearn: 0.9413093\ttotal: 370ms\tremaining: 11.4ms\n",
            "97:\tlearn: 0.9413093\ttotal: 373ms\tremaining: 7.6ms\n",
            "98:\tlearn: 0.9424379\ttotal: 375ms\tremaining: 3.79ms\n",
            "99:\tlearn: 0.9424379\ttotal: 377ms\tremaining: 0us\n",
            "0:\tlearn: 0.8792325\ttotal: 2.45ms\tremaining: 243ms\n",
            "1:\tlearn: 0.8566591\ttotal: 6.18ms\tremaining: 303ms\n",
            "2:\tlearn: 0.8668172\ttotal: 9.65ms\tremaining: 312ms\n",
            "3:\tlearn: 0.8735892\ttotal: 13.3ms\tremaining: 320ms\n",
            "4:\tlearn: 0.8713318\ttotal: 16.2ms\tremaining: 307ms\n",
            "5:\tlearn: 0.8724605\ttotal: 18.5ms\tremaining: 290ms\n",
            "6:\tlearn: 0.8724605\ttotal: 20.9ms\tremaining: 278ms\n",
            "7:\tlearn: 0.8735892\ttotal: 24.8ms\tremaining: 286ms\n",
            "8:\tlearn: 0.8792325\ttotal: 28.2ms\tremaining: 285ms\n",
            "9:\tlearn: 0.8747178\ttotal: 31ms\tremaining: 279ms\n",
            "10:\tlearn: 0.8871332\ttotal: 33.6ms\tremaining: 272ms\n",
            "11:\tlearn: 0.8905192\ttotal: 36.2ms\tremaining: 265ms\n",
            "12:\tlearn: 0.8939052\ttotal: 38.6ms\tremaining: 259ms\n",
            "13:\tlearn: 0.8961625\ttotal: 41ms\tremaining: 252ms\n",
            "14:\tlearn: 0.8972912\ttotal: 42.1ms\tremaining: 238ms\n",
            "15:\tlearn: 0.8939052\ttotal: 44.7ms\tremaining: 235ms\n",
            "16:\tlearn: 0.8927765\ttotal: 47.3ms\tremaining: 231ms\n",
            "17:\tlearn: 0.8950339\ttotal: 49.6ms\tremaining: 226ms\n",
            "18:\tlearn: 0.8927765\ttotal: 52ms\tremaining: 222ms\n",
            "19:\tlearn: 0.8916479\ttotal: 54.9ms\tremaining: 220ms\n",
            "20:\tlearn: 0.8950339\ttotal: 56.4ms\tremaining: 212ms\n",
            "21:\tlearn: 0.8972912\ttotal: 58.8ms\tremaining: 209ms\n",
            "22:\tlearn: 0.8984199\ttotal: 61.2ms\tremaining: 205ms\n",
            "23:\tlearn: 0.9040632\ttotal: 64ms\tremaining: 203ms\n",
            "24:\tlearn: 0.9029345\ttotal: 66.4ms\tremaining: 199ms\n",
            "25:\tlearn: 0.9074492\ttotal: 68.7ms\tremaining: 196ms\n",
            "26:\tlearn: 0.9085779\ttotal: 71.1ms\tremaining: 192ms\n",
            "27:\tlearn: 0.9063205\ttotal: 74.4ms\tremaining: 191ms\n",
            "28:\tlearn: 0.9097065\ttotal: 76.8ms\tremaining: 188ms\n",
            "29:\tlearn: 0.9074492\ttotal: 79ms\tremaining: 184ms\n",
            "30:\tlearn: 0.9074492\ttotal: 81.6ms\tremaining: 182ms\n",
            "31:\tlearn: 0.9108352\ttotal: 84.1ms\tremaining: 179ms\n",
            "32:\tlearn: 0.9153499\ttotal: 86.5ms\tremaining: 176ms\n",
            "33:\tlearn: 0.9119639\ttotal: 88.9ms\tremaining: 173ms\n",
            "34:\tlearn: 0.9153499\ttotal: 98.9ms\tremaining: 184ms\n",
            "35:\tlearn: 0.9142212\ttotal: 103ms\tremaining: 183ms\n",
            "36:\tlearn: 0.9153499\ttotal: 106ms\tremaining: 180ms\n",
            "37:\tlearn: 0.9153499\ttotal: 108ms\tremaining: 176ms\n",
            "38:\tlearn: 0.9187359\ttotal: 110ms\tremaining: 173ms\n",
            "39:\tlearn: 0.9176072\ttotal: 113ms\tremaining: 170ms\n",
            "40:\tlearn: 0.9187359\ttotal: 116ms\tremaining: 167ms\n",
            "41:\tlearn: 0.9209932\ttotal: 118ms\tremaining: 163ms\n",
            "42:\tlearn: 0.9221219\ttotal: 120ms\tremaining: 160ms\n",
            "43:\tlearn: 0.9243792\ttotal: 123ms\tremaining: 156ms\n",
            "44:\tlearn: 0.9243792\ttotal: 125ms\tremaining: 153ms\n",
            "45:\tlearn: 0.9209932\ttotal: 128ms\tremaining: 150ms\n",
            "46:\tlearn: 0.9243792\ttotal: 130ms\tremaining: 147ms\n",
            "47:\tlearn: 0.9243792\ttotal: 133ms\tremaining: 144ms\n",
            "48:\tlearn: 0.9266366\ttotal: 135ms\tremaining: 141ms\n",
            "49:\tlearn: 0.9288939\ttotal: 138ms\tremaining: 138ms\n",
            "50:\tlearn: 0.9300226\ttotal: 141ms\tremaining: 135ms\n",
            "51:\tlearn: 0.9288939\ttotal: 144ms\tremaining: 133ms\n",
            "52:\tlearn: 0.9300226\ttotal: 146ms\tremaining: 130ms\n",
            "53:\tlearn: 0.9300226\ttotal: 148ms\tremaining: 126ms\n",
            "54:\tlearn: 0.9311512\ttotal: 151ms\tremaining: 123ms\n",
            "55:\tlearn: 0.9288939\ttotal: 153ms\tremaining: 120ms\n",
            "56:\tlearn: 0.9322799\ttotal: 156ms\tremaining: 117ms\n",
            "57:\tlearn: 0.9322799\ttotal: 158ms\tremaining: 114ms\n",
            "58:\tlearn: 0.9311512\ttotal: 160ms\tremaining: 111ms\n",
            "59:\tlearn: 0.9300226\ttotal: 163ms\tremaining: 109ms\n",
            "60:\tlearn: 0.9311512\ttotal: 166ms\tremaining: 106ms\n",
            "61:\tlearn: 0.9300226\ttotal: 168ms\tremaining: 103ms\n",
            "62:\tlearn: 0.9334086\ttotal: 171ms\tremaining: 100ms\n",
            "63:\tlearn: 0.9334086\ttotal: 173ms\tremaining: 97.6ms\n",
            "64:\tlearn: 0.9345372\ttotal: 176ms\tremaining: 94.7ms\n",
            "65:\tlearn: 0.9356659\ttotal: 178ms\tremaining: 91.8ms\n",
            "66:\tlearn: 0.9345372\ttotal: 181ms\tremaining: 89ms\n",
            "67:\tlearn: 0.9356659\ttotal: 183ms\tremaining: 86.1ms\n",
            "68:\tlearn: 0.9356659\ttotal: 185ms\tremaining: 83.2ms\n",
            "69:\tlearn: 0.9345372\ttotal: 187ms\tremaining: 80.4ms\n",
            "70:\tlearn: 0.9356659\ttotal: 190ms\tremaining: 77.7ms\n",
            "71:\tlearn: 0.9356659\ttotal: 192ms\tremaining: 74.9ms\n",
            "72:\tlearn: 0.9345372\ttotal: 195ms\tremaining: 72.1ms\n",
            "73:\tlearn: 0.9345372\ttotal: 197ms\tremaining: 69.3ms\n",
            "74:\tlearn: 0.9345372\ttotal: 200ms\tremaining: 66.6ms\n",
            "75:\tlearn: 0.9345372\ttotal: 201ms\tremaining: 63.4ms\n",
            "76:\tlearn: 0.9345372\ttotal: 203ms\tremaining: 60.7ms\n",
            "77:\tlearn: 0.9345372\ttotal: 205ms\tremaining: 57.9ms\n",
            "78:\tlearn: 0.9356659\ttotal: 208ms\tremaining: 55.2ms\n",
            "79:\tlearn: 0.9356659\ttotal: 212ms\tremaining: 53ms\n",
            "80:\tlearn: 0.9356659\ttotal: 215ms\tremaining: 50.5ms\n",
            "81:\tlearn: 0.9356659\ttotal: 218ms\tremaining: 47.8ms\n",
            "82:\tlearn: 0.9356659\ttotal: 221ms\tremaining: 45.4ms\n",
            "83:\tlearn: 0.9356659\ttotal: 224ms\tremaining: 42.7ms\n",
            "84:\tlearn: 0.9356659\ttotal: 227ms\tremaining: 40ms\n",
            "85:\tlearn: 0.9356659\ttotal: 229ms\tremaining: 37.2ms\n",
            "86:\tlearn: 0.9356659\ttotal: 231ms\tremaining: 34.6ms\n",
            "87:\tlearn: 0.9367946\ttotal: 234ms\tremaining: 31.9ms\n",
            "88:\tlearn: 0.9367946\ttotal: 236ms\tremaining: 29.2ms\n",
            "89:\tlearn: 0.9367946\ttotal: 238ms\tremaining: 26.5ms\n",
            "90:\tlearn: 0.9367946\ttotal: 241ms\tremaining: 23.8ms\n",
            "91:\tlearn: 0.9367946\ttotal: 243ms\tremaining: 21.1ms\n",
            "92:\tlearn: 0.9379233\ttotal: 245ms\tremaining: 18.4ms\n",
            "93:\tlearn: 0.9379233\ttotal: 247ms\tremaining: 15.8ms\n",
            "94:\tlearn: 0.9379233\ttotal: 250ms\tremaining: 13.2ms\n",
            "95:\tlearn: 0.9390519\ttotal: 252ms\tremaining: 10.5ms\n",
            "96:\tlearn: 0.9390519\ttotal: 254ms\tremaining: 7.87ms\n",
            "97:\tlearn: 0.9390519\ttotal: 257ms\tremaining: 5.24ms\n",
            "98:\tlearn: 0.9390519\ttotal: 259ms\tremaining: 2.62ms\n",
            "99:\tlearn: 0.9390519\ttotal: 262ms\tremaining: 0us\n",
            "0:\tlearn: 0.8769752\ttotal: 3.61ms\tremaining: 358ms\n",
            "1:\tlearn: 0.8600451\ttotal: 4.5ms\tremaining: 220ms\n",
            "2:\tlearn: 0.8668172\ttotal: 7.08ms\tremaining: 229ms\n",
            "3:\tlearn: 0.8668172\ttotal: 9.48ms\tremaining: 228ms\n",
            "4:\tlearn: 0.8758465\ttotal: 12.2ms\tremaining: 232ms\n",
            "5:\tlearn: 0.8803612\ttotal: 14.5ms\tremaining: 227ms\n",
            "6:\tlearn: 0.8792325\ttotal: 16.9ms\tremaining: 224ms\n",
            "7:\tlearn: 0.8781038\ttotal: 19.2ms\tremaining: 221ms\n",
            "8:\tlearn: 0.8803612\ttotal: 21.9ms\tremaining: 222ms\n",
            "9:\tlearn: 0.8848758\ttotal: 24.3ms\tremaining: 218ms\n",
            "10:\tlearn: 0.8848758\ttotal: 26.6ms\tremaining: 215ms\n",
            "11:\tlearn: 0.8905192\ttotal: 28.9ms\tremaining: 212ms\n",
            "12:\tlearn: 0.8950339\ttotal: 31.5ms\tremaining: 211ms\n",
            "13:\tlearn: 0.8972912\ttotal: 33.8ms\tremaining: 207ms\n",
            "14:\tlearn: 0.8950339\ttotal: 34.8ms\tremaining: 197ms\n",
            "15:\tlearn: 0.8961625\ttotal: 37.1ms\tremaining: 195ms\n",
            "16:\tlearn: 0.8972912\ttotal: 39.5ms\tremaining: 193ms\n",
            "17:\tlearn: 0.8984199\ttotal: 41.8ms\tremaining: 190ms\n",
            "18:\tlearn: 0.8995485\ttotal: 44.1ms\tremaining: 188ms\n",
            "19:\tlearn: 0.8972912\ttotal: 46.6ms\tremaining: 186ms\n",
            "20:\tlearn: 0.9051919\ttotal: 49.2ms\tremaining: 185ms\n",
            "21:\tlearn: 0.9040632\ttotal: 51.5ms\tremaining: 183ms\n",
            "22:\tlearn: 0.9040632\ttotal: 53.8ms\tremaining: 180ms\n",
            "23:\tlearn: 0.9063205\ttotal: 56.3ms\tremaining: 178ms\n",
            "24:\tlearn: 0.9051919\ttotal: 59.2ms\tremaining: 178ms\n",
            "25:\tlearn: 0.9074492\ttotal: 61.7ms\tremaining: 175ms\n",
            "26:\tlearn: 0.9085779\ttotal: 64.2ms\tremaining: 173ms\n",
            "27:\tlearn: 0.9142212\ttotal: 66.6ms\tremaining: 171ms\n",
            "28:\tlearn: 0.9108352\ttotal: 69.4ms\tremaining: 170ms\n",
            "29:\tlearn: 0.9108352\ttotal: 71.8ms\tremaining: 168ms\n",
            "30:\tlearn: 0.9130926\ttotal: 74.5ms\tremaining: 166ms\n",
            "31:\tlearn: 0.9153499\ttotal: 76.9ms\tremaining: 163ms\n",
            "32:\tlearn: 0.9142212\ttotal: 79.9ms\tremaining: 162ms\n",
            "33:\tlearn: 0.9142212\ttotal: 80.6ms\tremaining: 157ms\n",
            "34:\tlearn: 0.9153499\ttotal: 83.1ms\tremaining: 154ms\n",
            "35:\tlearn: 0.9198646\ttotal: 85.6ms\tremaining: 152ms\n",
            "36:\tlearn: 0.9198646\ttotal: 88.3ms\tremaining: 150ms\n",
            "37:\tlearn: 0.9221219\ttotal: 90.7ms\tremaining: 148ms\n",
            "38:\tlearn: 0.9198646\ttotal: 93.1ms\tremaining: 146ms\n",
            "39:\tlearn: 0.9221219\ttotal: 95.4ms\tremaining: 143ms\n",
            "40:\tlearn: 0.9221219\ttotal: 98.2ms\tremaining: 141ms\n",
            "41:\tlearn: 0.9232506\ttotal: 101ms\tremaining: 139ms\n",
            "42:\tlearn: 0.9277652\ttotal: 103ms\tremaining: 136ms\n",
            "43:\tlearn: 0.9277652\ttotal: 105ms\tremaining: 134ms\n",
            "44:\tlearn: 0.9277652\ttotal: 108ms\tremaining: 132ms\n",
            "45:\tlearn: 0.9266366\ttotal: 110ms\tremaining: 129ms\n",
            "46:\tlearn: 0.9266366\ttotal: 113ms\tremaining: 127ms\n",
            "47:\tlearn: 0.9277652\ttotal: 115ms\tremaining: 124ms\n",
            "48:\tlearn: 0.9277652\ttotal: 117ms\tremaining: 122ms\n",
            "49:\tlearn: 0.9266366\ttotal: 120ms\tremaining: 120ms\n",
            "50:\tlearn: 0.9288939\ttotal: 123ms\tremaining: 118ms\n",
            "51:\tlearn: 0.9288939\ttotal: 129ms\tremaining: 119ms\n",
            "52:\tlearn: 0.9300226\ttotal: 132ms\tremaining: 117ms\n",
            "53:\tlearn: 0.9334086\ttotal: 135ms\tremaining: 115ms\n",
            "54:\tlearn: 0.9334086\ttotal: 137ms\tremaining: 112ms\n",
            "55:\tlearn: 0.9334086\ttotal: 140ms\tremaining: 110ms\n",
            "56:\tlearn: 0.9334086\ttotal: 143ms\tremaining: 108ms\n",
            "57:\tlearn: 0.9334086\ttotal: 145ms\tremaining: 105ms\n",
            "58:\tlearn: 0.9334086\ttotal: 148ms\tremaining: 103ms\n",
            "59:\tlearn: 0.9334086\ttotal: 151ms\tremaining: 100ms\n",
            "60:\tlearn: 0.9356659\ttotal: 153ms\tremaining: 97.8ms\n",
            "61:\tlearn: 0.9356659\ttotal: 156ms\tremaining: 95.5ms\n",
            "62:\tlearn: 0.9356659\ttotal: 159ms\tremaining: 93.2ms\n",
            "63:\tlearn: 0.9390519\ttotal: 161ms\tremaining: 90.7ms\n",
            "64:\tlearn: 0.9390519\ttotal: 164ms\tremaining: 88.2ms\n",
            "65:\tlearn: 0.9390519\ttotal: 167ms\tremaining: 86ms\n",
            "66:\tlearn: 0.9401806\ttotal: 169ms\tremaining: 83.5ms\n",
            "67:\tlearn: 0.9390519\ttotal: 172ms\tremaining: 80.9ms\n",
            "68:\tlearn: 0.9390519\ttotal: 175ms\tremaining: 78.6ms\n",
            "69:\tlearn: 0.9390519\ttotal: 178ms\tremaining: 76.2ms\n",
            "70:\tlearn: 0.9401806\ttotal: 180ms\tremaining: 73.7ms\n",
            "71:\tlearn: 0.9401806\ttotal: 183ms\tremaining: 71.1ms\n",
            "72:\tlearn: 0.9424379\ttotal: 186ms\tremaining: 68.6ms\n",
            "73:\tlearn: 0.9424379\ttotal: 188ms\tremaining: 66.1ms\n",
            "74:\tlearn: 0.9424379\ttotal: 190ms\tremaining: 63.5ms\n",
            "75:\tlearn: 0.9424379\ttotal: 193ms\tremaining: 61ms\n",
            "76:\tlearn: 0.9435666\ttotal: 196ms\tremaining: 58.5ms\n",
            "77:\tlearn: 0.9413093\ttotal: 198ms\tremaining: 55.9ms\n",
            "78:\tlearn: 0.9424379\ttotal: 201ms\tremaining: 53.3ms\n",
            "79:\tlearn: 0.9413093\ttotal: 203ms\tremaining: 50.8ms\n",
            "80:\tlearn: 0.9401806\ttotal: 206ms\tremaining: 48.2ms\n",
            "81:\tlearn: 0.9446953\ttotal: 208ms\tremaining: 45.7ms\n",
            "82:\tlearn: 0.9446953\ttotal: 210ms\tremaining: 43.1ms\n",
            "83:\tlearn: 0.9435666\ttotal: 213ms\tremaining: 40.5ms\n",
            "84:\tlearn: 0.9435666\ttotal: 216ms\tremaining: 38ms\n",
            "85:\tlearn: 0.9424379\ttotal: 218ms\tremaining: 35.5ms\n",
            "86:\tlearn: 0.9424379\ttotal: 220ms\tremaining: 32.9ms\n",
            "87:\tlearn: 0.9424379\ttotal: 223ms\tremaining: 30.4ms\n",
            "88:\tlearn: 0.9424379\ttotal: 226ms\tremaining: 27.9ms\n",
            "89:\tlearn: 0.9424379\ttotal: 228ms\tremaining: 25.4ms\n",
            "90:\tlearn: 0.9424379\ttotal: 231ms\tremaining: 22.8ms\n",
            "91:\tlearn: 0.9424379\ttotal: 233ms\tremaining: 20.3ms\n",
            "92:\tlearn: 0.9424379\ttotal: 236ms\tremaining: 17.8ms\n",
            "93:\tlearn: 0.9424379\ttotal: 239ms\tremaining: 15.2ms\n",
            "94:\tlearn: 0.9424379\ttotal: 241ms\tremaining: 12.7ms\n",
            "95:\tlearn: 0.9435666\ttotal: 245ms\tremaining: 10.2ms\n",
            "96:\tlearn: 0.9424379\ttotal: 250ms\tremaining: 7.72ms\n",
            "97:\tlearn: 0.9435666\ttotal: 253ms\tremaining: 5.15ms\n",
            "98:\tlearn: 0.9446953\ttotal: 255ms\tremaining: 2.58ms\n",
            "99:\tlearn: 0.9458239\ttotal: 258ms\tremaining: 0us\n",
            "0:\tlearn: 0.8781038\ttotal: 2.43ms\tremaining: 241ms\n",
            "1:\tlearn: 0.8566591\ttotal: 3.27ms\tremaining: 160ms\n",
            "2:\tlearn: 0.8679458\ttotal: 4.08ms\tremaining: 132ms\n",
            "3:\tlearn: 0.8702032\ttotal: 5.55ms\tremaining: 133ms\n",
            "4:\tlearn: 0.8679458\ttotal: 6.22ms\tremaining: 118ms\n",
            "5:\tlearn: 0.8713318\ttotal: 8.88ms\tremaining: 139ms\n",
            "6:\tlearn: 0.8769752\ttotal: 11.3ms\tremaining: 150ms\n",
            "7:\tlearn: 0.8781038\ttotal: 13.6ms\tremaining: 156ms\n",
            "8:\tlearn: 0.8781038\ttotal: 16.1ms\tremaining: 163ms\n",
            "9:\tlearn: 0.8803612\ttotal: 18.7ms\tremaining: 168ms\n",
            "10:\tlearn: 0.8848758\ttotal: 21.1ms\tremaining: 171ms\n",
            "11:\tlearn: 0.8826185\ttotal: 23.5ms\tremaining: 172ms\n",
            "12:\tlearn: 0.8871332\ttotal: 25.9ms\tremaining: 174ms\n",
            "13:\tlearn: 0.8882619\ttotal: 28.9ms\tremaining: 178ms\n",
            "14:\tlearn: 0.8893905\ttotal: 31.5ms\tremaining: 179ms\n",
            "15:\tlearn: 0.8882619\ttotal: 34ms\tremaining: 179ms\n",
            "16:\tlearn: 0.8893905\ttotal: 36.6ms\tremaining: 179ms\n",
            "17:\tlearn: 0.8871332\ttotal: 37.7ms\tremaining: 172ms\n",
            "18:\tlearn: 0.8882619\ttotal: 40.1ms\tremaining: 171ms\n",
            "19:\tlearn: 0.8905192\ttotal: 42.5ms\tremaining: 170ms\n",
            "20:\tlearn: 0.8950339\ttotal: 45.1ms\tremaining: 170ms\n",
            "21:\tlearn: 0.8961625\ttotal: 48ms\tremaining: 170ms\n",
            "22:\tlearn: 0.8995485\ttotal: 54ms\tremaining: 181ms\n",
            "23:\tlearn: 0.9040632\ttotal: 58.9ms\tremaining: 186ms\n",
            "24:\tlearn: 0.9063205\ttotal: 61.2ms\tremaining: 184ms\n",
            "25:\tlearn: 0.9108352\ttotal: 63.6ms\tremaining: 181ms\n",
            "26:\tlearn: 0.9108352\ttotal: 66.3ms\tremaining: 179ms\n",
            "27:\tlearn: 0.9097065\ttotal: 69ms\tremaining: 177ms\n",
            "28:\tlearn: 0.9130926\ttotal: 71.5ms\tremaining: 175ms\n",
            "29:\tlearn: 0.9153499\ttotal: 74.2ms\tremaining: 173ms\n",
            "30:\tlearn: 0.9153499\ttotal: 76.8ms\tremaining: 171ms\n",
            "31:\tlearn: 0.9176072\ttotal: 79.3ms\tremaining: 169ms\n",
            "32:\tlearn: 0.9176072\ttotal: 81.7ms\tremaining: 166ms\n",
            "33:\tlearn: 0.9187359\ttotal: 86.1ms\tremaining: 167ms\n",
            "34:\tlearn: 0.9198646\ttotal: 88.6ms\tremaining: 165ms\n",
            "35:\tlearn: 0.9198646\ttotal: 91ms\tremaining: 162ms\n",
            "36:\tlearn: 0.9187359\ttotal: 93.4ms\tremaining: 159ms\n",
            "37:\tlearn: 0.9198646\ttotal: 96ms\tremaining: 157ms\n",
            "38:\tlearn: 0.9221219\ttotal: 98.3ms\tremaining: 154ms\n",
            "39:\tlearn: 0.9232506\ttotal: 101ms\tremaining: 151ms\n",
            "40:\tlearn: 0.9232506\ttotal: 103ms\tremaining: 148ms\n",
            "41:\tlearn: 0.9232506\ttotal: 106ms\tremaining: 146ms\n",
            "42:\tlearn: 0.9232506\ttotal: 108ms\tremaining: 143ms\n",
            "43:\tlearn: 0.9243792\ttotal: 110ms\tremaining: 140ms\n",
            "44:\tlearn: 0.9243792\ttotal: 112ms\tremaining: 137ms\n",
            "45:\tlearn: 0.9232506\ttotal: 115ms\tremaining: 135ms\n",
            "46:\tlearn: 0.9243792\ttotal: 117ms\tremaining: 132ms\n",
            "47:\tlearn: 0.9243792\ttotal: 120ms\tremaining: 130ms\n",
            "48:\tlearn: 0.9243792\ttotal: 122ms\tremaining: 127ms\n",
            "49:\tlearn: 0.9243792\ttotal: 128ms\tremaining: 128ms\n",
            "50:\tlearn: 0.9255079\ttotal: 131ms\tremaining: 125ms\n",
            "51:\tlearn: 0.9266366\ttotal: 133ms\tremaining: 123ms\n",
            "52:\tlearn: 0.9266366\ttotal: 136ms\tremaining: 120ms\n",
            "53:\tlearn: 0.9266366\ttotal: 138ms\tremaining: 118ms\n",
            "54:\tlearn: 0.9266366\ttotal: 140ms\tremaining: 115ms\n",
            "55:\tlearn: 0.9277652\ttotal: 143ms\tremaining: 112ms\n",
            "56:\tlearn: 0.9288939\ttotal: 146ms\tremaining: 110ms\n",
            "57:\tlearn: 0.9288939\ttotal: 148ms\tremaining: 107ms\n",
            "58:\tlearn: 0.9288939\ttotal: 151ms\tremaining: 105ms\n",
            "59:\tlearn: 0.9300226\ttotal: 153ms\tremaining: 102ms\n",
            "60:\tlearn: 0.9300226\ttotal: 156ms\tremaining: 99.5ms\n",
            "61:\tlearn: 0.9300226\ttotal: 158ms\tremaining: 96.8ms\n",
            "62:\tlearn: 0.9322799\ttotal: 160ms\tremaining: 94.1ms\n",
            "63:\tlearn: 0.9322799\ttotal: 163ms\tremaining: 91.6ms\n",
            "64:\tlearn: 0.9322799\ttotal: 165ms\tremaining: 89ms\n",
            "65:\tlearn: 0.9345372\ttotal: 168ms\tremaining: 86.4ms\n",
            "66:\tlearn: 0.9345372\ttotal: 170ms\tremaining: 83.9ms\n",
            "67:\tlearn: 0.9345372\ttotal: 173ms\tremaining: 81.6ms\n",
            "68:\tlearn: 0.9345372\ttotal: 176ms\tremaining: 79ms\n",
            "69:\tlearn: 0.9334086\ttotal: 178ms\tremaining: 76.4ms\n",
            "70:\tlearn: 0.9345372\ttotal: 181ms\tremaining: 74.1ms\n",
            "71:\tlearn: 0.9356659\ttotal: 184ms\tremaining: 71.5ms\n",
            "72:\tlearn: 0.9367946\ttotal: 186ms\tremaining: 68.8ms\n",
            "73:\tlearn: 0.9379233\ttotal: 188ms\tremaining: 66.2ms\n",
            "74:\tlearn: 0.9379233\ttotal: 191ms\tremaining: 63.7ms\n",
            "75:\tlearn: 0.9379233\ttotal: 193ms\tremaining: 61.1ms\n",
            "76:\tlearn: 0.9379233\ttotal: 196ms\tremaining: 58.6ms\n",
            "77:\tlearn: 0.9367946\ttotal: 199ms\tremaining: 56ms\n",
            "78:\tlearn: 0.9379233\ttotal: 201ms\tremaining: 53.4ms\n",
            "79:\tlearn: 0.9379233\ttotal: 203ms\tremaining: 50.9ms\n",
            "80:\tlearn: 0.9401806\ttotal: 206ms\tremaining: 48.3ms\n",
            "81:\tlearn: 0.9390519\ttotal: 208ms\tremaining: 45.7ms\n",
            "82:\tlearn: 0.9390519\ttotal: 211ms\tremaining: 43.3ms\n",
            "83:\tlearn: 0.9401806\ttotal: 214ms\tremaining: 40.7ms\n",
            "84:\tlearn: 0.9401806\ttotal: 216ms\tremaining: 38.1ms\n",
            "85:\tlearn: 0.9413093\ttotal: 218ms\tremaining: 35.6ms\n",
            "86:\tlearn: 0.9401806\ttotal: 221ms\tremaining: 33.1ms\n",
            "87:\tlearn: 0.9413093\ttotal: 224ms\tremaining: 30.5ms\n",
            "88:\tlearn: 0.9413093\ttotal: 226ms\tremaining: 27.9ms\n",
            "89:\tlearn: 0.9401806\ttotal: 229ms\tremaining: 25.4ms\n",
            "90:\tlearn: 0.9413093\ttotal: 231ms\tremaining: 22.9ms\n",
            "91:\tlearn: 0.9413093\ttotal: 234ms\tremaining: 20.3ms\n",
            "92:\tlearn: 0.9413093\ttotal: 236ms\tremaining: 17.8ms\n",
            "93:\tlearn: 0.9413093\ttotal: 239ms\tremaining: 15.3ms\n",
            "94:\tlearn: 0.9413093\ttotal: 242ms\tremaining: 12.7ms\n",
            "95:\tlearn: 0.9413093\ttotal: 245ms\tremaining: 10.2ms\n",
            "96:\tlearn: 0.9446953\ttotal: 247ms\tremaining: 7.64ms\n",
            "97:\tlearn: 0.9446953\ttotal: 250ms\tremaining: 5.11ms\n",
            "98:\tlearn: 0.9446953\ttotal: 253ms\tremaining: 2.56ms\n",
            "99:\tlearn: 0.9446953\ttotal: 255ms\tremaining: 0us\n",
            "0:\tlearn: 0.8758465\ttotal: 2.66ms\tremaining: 263ms\n",
            "1:\tlearn: 0.8544018\ttotal: 3.51ms\tremaining: 172ms\n",
            "2:\tlearn: 0.8656885\ttotal: 6.01ms\tremaining: 194ms\n",
            "3:\tlearn: 0.8668172\ttotal: 8.5ms\tremaining: 204ms\n",
            "4:\tlearn: 0.8792325\ttotal: 12.3ms\tremaining: 233ms\n",
            "5:\tlearn: 0.8781038\ttotal: 18.4ms\tremaining: 288ms\n",
            "6:\tlearn: 0.8814898\ttotal: 23.7ms\tremaining: 315ms\n",
            "7:\tlearn: 0.8826185\ttotal: 29.6ms\tremaining: 341ms\n",
            "8:\tlearn: 0.8826185\ttotal: 35.3ms\tremaining: 356ms\n",
            "9:\tlearn: 0.8882619\ttotal: 38ms\tremaining: 342ms\n",
            "10:\tlearn: 0.8916479\ttotal: 40.6ms\tremaining: 328ms\n",
            "11:\tlearn: 0.8927765\ttotal: 43.2ms\tremaining: 316ms\n",
            "12:\tlearn: 0.8961625\ttotal: 46.4ms\tremaining: 311ms\n",
            "13:\tlearn: 0.8972912\ttotal: 48.9ms\tremaining: 300ms\n",
            "14:\tlearn: 0.8961625\ttotal: 50ms\tremaining: 283ms\n",
            "15:\tlearn: 0.8950339\ttotal: 52.8ms\tremaining: 277ms\n",
            "16:\tlearn: 0.8984199\ttotal: 56.1ms\tremaining: 274ms\n",
            "17:\tlearn: 0.9018059\ttotal: 58.8ms\tremaining: 268ms\n",
            "18:\tlearn: 0.9018059\ttotal: 61.5ms\tremaining: 262ms\n",
            "19:\tlearn: 0.9029345\ttotal: 65.3ms\tremaining: 261ms\n",
            "20:\tlearn: 0.9006772\ttotal: 68ms\tremaining: 256ms\n",
            "21:\tlearn: 0.9051919\ttotal: 70.4ms\tremaining: 250ms\n",
            "22:\tlearn: 0.9063205\ttotal: 73.1ms\tremaining: 245ms\n",
            "23:\tlearn: 0.9085779\ttotal: 75.9ms\tremaining: 240ms\n",
            "24:\tlearn: 0.9085779\ttotal: 78.5ms\tremaining: 236ms\n",
            "25:\tlearn: 0.9085779\ttotal: 81ms\tremaining: 231ms\n",
            "26:\tlearn: 0.9063205\ttotal: 83.8ms\tremaining: 227ms\n",
            "27:\tlearn: 0.9097065\ttotal: 86.3ms\tremaining: 222ms\n",
            "28:\tlearn: 0.9074492\ttotal: 88.8ms\tremaining: 217ms\n",
            "29:\tlearn: 0.9097065\ttotal: 91.3ms\tremaining: 213ms\n",
            "30:\tlearn: 0.9142212\ttotal: 94.4ms\tremaining: 210ms\n",
            "31:\tlearn: 0.9153499\ttotal: 96.8ms\tremaining: 206ms\n",
            "32:\tlearn: 0.9176072\ttotal: 99.3ms\tremaining: 202ms\n",
            "33:\tlearn: 0.9153499\ttotal: 99.9ms\tremaining: 194ms\n",
            "34:\tlearn: 0.9142212\ttotal: 103ms\tremaining: 191ms\n",
            "35:\tlearn: 0.9164786\ttotal: 105ms\tremaining: 187ms\n",
            "36:\tlearn: 0.9176072\ttotal: 108ms\tremaining: 184ms\n",
            "37:\tlearn: 0.9198646\ttotal: 111ms\tremaining: 181ms\n",
            "38:\tlearn: 0.9198646\ttotal: 114ms\tremaining: 178ms\n",
            "39:\tlearn: 0.9209932\ttotal: 116ms\tremaining: 175ms\n",
            "40:\tlearn: 0.9209932\ttotal: 119ms\tremaining: 171ms\n",
            "41:\tlearn: 0.9209932\ttotal: 122ms\tremaining: 168ms\n",
            "42:\tlearn: 0.9221219\ttotal: 125ms\tremaining: 165ms\n",
            "43:\tlearn: 0.9232506\ttotal: 127ms\tremaining: 162ms\n",
            "44:\tlearn: 0.9221219\ttotal: 129ms\tremaining: 157ms\n",
            "45:\tlearn: 0.9221219\ttotal: 132ms\tremaining: 154ms\n",
            "46:\tlearn: 0.9209932\ttotal: 133ms\tremaining: 150ms\n",
            "47:\tlearn: 0.9221219\ttotal: 136ms\tremaining: 147ms\n",
            "48:\tlearn: 0.9221219\ttotal: 138ms\tremaining: 144ms\n",
            "49:\tlearn: 0.9232506\ttotal: 141ms\tremaining: 141ms\n",
            "50:\tlearn: 0.9232506\ttotal: 143ms\tremaining: 138ms\n",
            "51:\tlearn: 0.9232506\ttotal: 146ms\tremaining: 135ms\n",
            "52:\tlearn: 0.9243792\ttotal: 148ms\tremaining: 132ms\n",
            "53:\tlearn: 0.9243792\ttotal: 151ms\tremaining: 129ms\n",
            "54:\tlearn: 0.9266366\ttotal: 154ms\tremaining: 126ms\n",
            "55:\tlearn: 0.9266366\ttotal: 156ms\tremaining: 123ms\n",
            "56:\tlearn: 0.9277652\ttotal: 159ms\tremaining: 120ms\n",
            "57:\tlearn: 0.9266366\ttotal: 162ms\tremaining: 117ms\n",
            "58:\tlearn: 0.9277652\ttotal: 164ms\tremaining: 114ms\n",
            "59:\tlearn: 0.9277652\ttotal: 167ms\tremaining: 111ms\n",
            "60:\tlearn: 0.9300226\ttotal: 170ms\tremaining: 109ms\n",
            "61:\tlearn: 0.9311512\ttotal: 172ms\tremaining: 105ms\n",
            "62:\tlearn: 0.9311512\ttotal: 174ms\tremaining: 102ms\n",
            "63:\tlearn: 0.9322799\ttotal: 177ms\tremaining: 99.7ms\n",
            "64:\tlearn: 0.9345372\ttotal: 180ms\tremaining: 97.1ms\n",
            "65:\tlearn: 0.9356659\ttotal: 184ms\tremaining: 94.6ms\n",
            "66:\tlearn: 0.9367946\ttotal: 186ms\tremaining: 91.7ms\n",
            "67:\tlearn: 0.9379233\ttotal: 189ms\tremaining: 89ms\n",
            "68:\tlearn: 0.9379233\ttotal: 192ms\tremaining: 86.1ms\n",
            "69:\tlearn: 0.9367946\ttotal: 194ms\tremaining: 83.2ms\n",
            "70:\tlearn: 0.9367946\ttotal: 197ms\tremaining: 80.3ms\n",
            "71:\tlearn: 0.9379233\ttotal: 199ms\tremaining: 77.6ms\n",
            "72:\tlearn: 0.9401806\ttotal: 202ms\tremaining: 74.7ms\n",
            "73:\tlearn: 0.9401806\ttotal: 204ms\tremaining: 71.8ms\n",
            "74:\tlearn: 0.9401806\ttotal: 207ms\tremaining: 69.1ms\n",
            "75:\tlearn: 0.9401806\ttotal: 210ms\tremaining: 66.3ms\n",
            "76:\tlearn: 0.9390519\ttotal: 212ms\tremaining: 63.4ms\n",
            "77:\tlearn: 0.9390519\ttotal: 213ms\tremaining: 60ms\n",
            "78:\tlearn: 0.9390519\ttotal: 215ms\tremaining: 57.2ms\n",
            "79:\tlearn: 0.9390519\ttotal: 218ms\tremaining: 54.5ms\n",
            "80:\tlearn: 0.9390519\ttotal: 220ms\tremaining: 51.7ms\n",
            "81:\tlearn: 0.9390519\ttotal: 223ms\tremaining: 48.9ms\n",
            "82:\tlearn: 0.9401806\ttotal: 225ms\tremaining: 46.1ms\n",
            "83:\tlearn: 0.9401806\ttotal: 226ms\tremaining: 43.1ms\n",
            "84:\tlearn: 0.9401806\ttotal: 228ms\tremaining: 40.3ms\n",
            "85:\tlearn: 0.9401806\ttotal: 231ms\tremaining: 37.6ms\n",
            "86:\tlearn: 0.9390519\ttotal: 234ms\tremaining: 34.9ms\n",
            "87:\tlearn: 0.9390519\ttotal: 236ms\tremaining: 32.2ms\n",
            "88:\tlearn: 0.9390519\ttotal: 239ms\tremaining: 29.5ms\n",
            "89:\tlearn: 0.9390519\ttotal: 241ms\tremaining: 26.8ms\n",
            "90:\tlearn: 0.9390519\ttotal: 244ms\tremaining: 24.1ms\n",
            "91:\tlearn: 0.9390519\ttotal: 245ms\tremaining: 21.3ms\n",
            "92:\tlearn: 0.9390519\ttotal: 248ms\tremaining: 18.7ms\n",
            "93:\tlearn: 0.9379233\ttotal: 250ms\tremaining: 16ms\n",
            "94:\tlearn: 0.9379233\ttotal: 253ms\tremaining: 13.3ms\n",
            "95:\tlearn: 0.9379233\ttotal: 256ms\tremaining: 10.7ms\n",
            "96:\tlearn: 0.9379233\ttotal: 258ms\tremaining: 7.99ms\n",
            "97:\tlearn: 0.9390519\ttotal: 261ms\tremaining: 5.32ms\n",
            "98:\tlearn: 0.9390519\ttotal: 262ms\tremaining: 2.65ms\n",
            "99:\tlearn: 0.9390519\ttotal: 265ms\tremaining: 0us\n",
            "0:\tlearn: 0.8769752\ttotal: 8.48ms\tremaining: 839ms\n",
            "1:\tlearn: 0.8566591\ttotal: 9.36ms\tremaining: 458ms\n",
            "2:\tlearn: 0.8690745\ttotal: 11.9ms\tremaining: 384ms\n",
            "3:\tlearn: 0.8656885\ttotal: 14.1ms\tremaining: 338ms\n",
            "4:\tlearn: 0.8623025\ttotal: 14.7ms\tremaining: 280ms\n",
            "5:\tlearn: 0.8623025\ttotal: 15.8ms\tremaining: 248ms\n",
            "6:\tlearn: 0.8668172\ttotal: 18.4ms\tremaining: 245ms\n",
            "7:\tlearn: 0.8668172\ttotal: 20.9ms\tremaining: 241ms\n",
            "8:\tlearn: 0.8713318\ttotal: 23.7ms\tremaining: 240ms\n",
            "9:\tlearn: 0.8702032\ttotal: 26.1ms\tremaining: 235ms\n",
            "10:\tlearn: 0.8702032\ttotal: 28.7ms\tremaining: 232ms\n",
            "11:\tlearn: 0.8713318\ttotal: 31.4ms\tremaining: 230ms\n",
            "12:\tlearn: 0.8735892\ttotal: 34.4ms\tremaining: 230ms\n",
            "13:\tlearn: 0.8758465\ttotal: 36.9ms\tremaining: 226ms\n",
            "14:\tlearn: 0.8769752\ttotal: 43.5ms\tremaining: 247ms\n",
            "15:\tlearn: 0.8814898\ttotal: 47.3ms\tremaining: 248ms\n",
            "16:\tlearn: 0.8837472\ttotal: 50.4ms\tremaining: 246ms\n",
            "17:\tlearn: 0.8860045\ttotal: 53.4ms\tremaining: 243ms\n",
            "18:\tlearn: 0.8905192\ttotal: 56.2ms\tremaining: 240ms\n",
            "19:\tlearn: 0.8939052\ttotal: 59.6ms\tremaining: 238ms\n",
            "20:\tlearn: 0.8916479\ttotal: 62.6ms\tremaining: 236ms\n",
            "21:\tlearn: 0.8950339\ttotal: 66.1ms\tremaining: 234ms\n",
            "22:\tlearn: 0.8961625\ttotal: 69.1ms\tremaining: 231ms\n",
            "23:\tlearn: 0.8972912\ttotal: 72.1ms\tremaining: 228ms\n",
            "24:\tlearn: 0.9006772\ttotal: 74.6ms\tremaining: 224ms\n",
            "25:\tlearn: 0.8984199\ttotal: 77ms\tremaining: 219ms\n",
            "26:\tlearn: 0.9029345\ttotal: 79.6ms\tremaining: 215ms\n",
            "27:\tlearn: 0.9018059\ttotal: 82.7ms\tremaining: 213ms\n",
            "28:\tlearn: 0.9063205\ttotal: 83.3ms\tremaining: 204ms\n",
            "29:\tlearn: 0.9063205\ttotal: 85.8ms\tremaining: 200ms\n",
            "30:\tlearn: 0.9051919\ttotal: 88.3ms\tremaining: 197ms\n",
            "31:\tlearn: 0.9063205\ttotal: 91.3ms\tremaining: 194ms\n",
            "32:\tlearn: 0.9063205\ttotal: 92.1ms\tremaining: 187ms\n",
            "33:\tlearn: 0.9063205\ttotal: 94.7ms\tremaining: 184ms\n",
            "34:\tlearn: 0.9085779\ttotal: 97.3ms\tremaining: 181ms\n",
            "35:\tlearn: 0.9097065\ttotal: 100ms\tremaining: 178ms\n",
            "36:\tlearn: 0.9074492\ttotal: 103ms\tremaining: 175ms\n",
            "37:\tlearn: 0.9074492\ttotal: 105ms\tremaining: 171ms\n",
            "38:\tlearn: 0.9108352\ttotal: 108ms\tremaining: 168ms\n",
            "39:\tlearn: 0.9130926\ttotal: 110ms\tremaining: 166ms\n",
            "40:\tlearn: 0.9142212\ttotal: 113ms\tremaining: 163ms\n",
            "41:\tlearn: 0.9153499\ttotal: 116ms\tremaining: 160ms\n",
            "42:\tlearn: 0.9176072\ttotal: 119ms\tremaining: 157ms\n",
            "43:\tlearn: 0.9153499\ttotal: 120ms\tremaining: 153ms\n",
            "44:\tlearn: 0.9164786\ttotal: 123ms\tremaining: 150ms\n",
            "45:\tlearn: 0.9187359\ttotal: 125ms\tremaining: 147ms\n",
            "46:\tlearn: 0.9176072\ttotal: 128ms\tremaining: 144ms\n",
            "47:\tlearn: 0.9176072\ttotal: 131ms\tremaining: 141ms\n",
            "48:\tlearn: 0.9176072\ttotal: 133ms\tremaining: 139ms\n",
            "49:\tlearn: 0.9164786\ttotal: 136ms\tremaining: 136ms\n",
            "50:\tlearn: 0.9176072\ttotal: 138ms\tremaining: 133ms\n",
            "51:\tlearn: 0.9187359\ttotal: 140ms\tremaining: 130ms\n",
            "52:\tlearn: 0.9187359\ttotal: 143ms\tremaining: 127ms\n",
            "53:\tlearn: 0.9187359\ttotal: 145ms\tremaining: 124ms\n",
            "54:\tlearn: 0.9209932\ttotal: 148ms\tremaining: 121ms\n",
            "55:\tlearn: 0.9209932\ttotal: 150ms\tremaining: 118ms\n",
            "56:\tlearn: 0.9221219\ttotal: 153ms\tremaining: 115ms\n",
            "57:\tlearn: 0.9232506\ttotal: 155ms\tremaining: 112ms\n",
            "58:\tlearn: 0.9221219\ttotal: 158ms\tremaining: 110ms\n",
            "59:\tlearn: 0.9255079\ttotal: 160ms\tremaining: 107ms\n",
            "60:\tlearn: 0.9255079\ttotal: 162ms\tremaining: 104ms\n",
            "61:\tlearn: 0.9243792\ttotal: 165ms\tremaining: 101ms\n",
            "62:\tlearn: 0.9243792\ttotal: 168ms\tremaining: 98.4ms\n",
            "63:\tlearn: 0.9266366\ttotal: 170ms\tremaining: 95.6ms\n",
            "64:\tlearn: 0.9255079\ttotal: 172ms\tremaining: 92.8ms\n",
            "65:\tlearn: 0.9266366\ttotal: 175ms\tremaining: 90.1ms\n",
            "66:\tlearn: 0.9277652\ttotal: 178ms\tremaining: 87.5ms\n",
            "67:\tlearn: 0.9311512\ttotal: 180ms\tremaining: 84.7ms\n",
            "68:\tlearn: 0.9288939\ttotal: 182ms\tremaining: 81.9ms\n",
            "69:\tlearn: 0.9277652\ttotal: 185ms\tremaining: 79.3ms\n",
            "70:\tlearn: 0.9288939\ttotal: 188ms\tremaining: 76.7ms\n",
            "71:\tlearn: 0.9266366\ttotal: 190ms\tremaining: 74ms\n",
            "72:\tlearn: 0.9277652\ttotal: 193ms\tremaining: 71.2ms\n",
            "73:\tlearn: 0.9300226\ttotal: 195ms\tremaining: 68.6ms\n",
            "74:\tlearn: 0.9288939\ttotal: 198ms\tremaining: 65.9ms\n",
            "75:\tlearn: 0.9300226\ttotal: 200ms\tremaining: 63.1ms\n",
            "76:\tlearn: 0.9345372\ttotal: 202ms\tremaining: 60.5ms\n",
            "77:\tlearn: 0.9345372\ttotal: 203ms\tremaining: 57.4ms\n",
            "78:\tlearn: 0.9356659\ttotal: 206ms\tremaining: 54.9ms\n",
            "79:\tlearn: 0.9367946\ttotal: 209ms\tremaining: 52.2ms\n",
            "80:\tlearn: 0.9356659\ttotal: 211ms\tremaining: 49.5ms\n",
            "81:\tlearn: 0.9367946\ttotal: 214ms\tremaining: 46.9ms\n",
            "82:\tlearn: 0.9379233\ttotal: 216ms\tremaining: 44.2ms\n",
            "83:\tlearn: 0.9367946\ttotal: 219ms\tremaining: 41.7ms\n",
            "84:\tlearn: 0.9367946\ttotal: 237ms\tremaining: 41.8ms\n",
            "85:\tlearn: 0.9345372\ttotal: 245ms\tremaining: 40ms\n",
            "86:\tlearn: 0.9356659\ttotal: 249ms\tremaining: 37.3ms\n",
            "87:\tlearn: 0.9356659\ttotal: 259ms\tremaining: 35.3ms\n",
            "88:\tlearn: 0.9356659\ttotal: 269ms\tremaining: 33.2ms\n",
            "89:\tlearn: 0.9356659\ttotal: 271ms\tremaining: 30.1ms\n",
            "90:\tlearn: 0.9345372\ttotal: 280ms\tremaining: 27.7ms\n",
            "91:\tlearn: 0.9345372\ttotal: 285ms\tremaining: 24.8ms\n",
            "92:\tlearn: 0.9356659\ttotal: 290ms\tremaining: 21.8ms\n",
            "93:\tlearn: 0.9356659\ttotal: 298ms\tremaining: 19ms\n",
            "94:\tlearn: 0.9356659\ttotal: 302ms\tremaining: 15.9ms\n",
            "95:\tlearn: 0.9367946\ttotal: 311ms\tremaining: 12.9ms\n",
            "96:\tlearn: 0.9367946\ttotal: 319ms\tremaining: 9.87ms\n",
            "97:\tlearn: 0.9367946\ttotal: 328ms\tremaining: 6.69ms\n",
            "98:\tlearn: 0.9379233\ttotal: 336ms\tremaining: 3.4ms\n",
            "99:\tlearn: 0.9379233\ttotal: 340ms\tremaining: 0us\n",
            "0:\tlearn: 0.8713318\ttotal: 5.33ms\tremaining: 527ms\n",
            "1:\tlearn: 0.8623025\ttotal: 9.62ms\tremaining: 472ms\n",
            "2:\tlearn: 0.8645598\ttotal: 15.8ms\tremaining: 512ms\n",
            "3:\tlearn: 0.8589165\ttotal: 25.5ms\tremaining: 613ms\n",
            "4:\tlearn: 0.8566591\ttotal: 26.7ms\tremaining: 507ms\n",
            "5:\tlearn: 0.8577878\ttotal: 28.3ms\tremaining: 443ms\n",
            "6:\tlearn: 0.8589165\ttotal: 43.8ms\tremaining: 582ms\n",
            "7:\tlearn: 0.8634312\ttotal: 50.3ms\tremaining: 578ms\n",
            "8:\tlearn: 0.8668172\ttotal: 58.2ms\tremaining: 589ms\n",
            "9:\tlearn: 0.8702032\ttotal: 67.6ms\tremaining: 609ms\n",
            "10:\tlearn: 0.8747178\ttotal: 71.7ms\tremaining: 580ms\n",
            "11:\tlearn: 0.8747178\ttotal: 85.3ms\tremaining: 626ms\n",
            "12:\tlearn: 0.8735892\ttotal: 89.2ms\tremaining: 597ms\n",
            "13:\tlearn: 0.8735892\ttotal: 98ms\tremaining: 602ms\n",
            "14:\tlearn: 0.8781038\ttotal: 106ms\tremaining: 600ms\n",
            "15:\tlearn: 0.8871332\ttotal: 124ms\tremaining: 653ms\n",
            "16:\tlearn: 0.8848758\ttotal: 127ms\tremaining: 619ms\n",
            "17:\tlearn: 0.8893905\ttotal: 141ms\tremaining: 644ms\n",
            "18:\tlearn: 0.8916479\ttotal: 154ms\tremaining: 657ms\n",
            "19:\tlearn: 0.8972912\ttotal: 160ms\tremaining: 640ms\n",
            "20:\tlearn: 0.8972912\ttotal: 171ms\tremaining: 644ms\n",
            "21:\tlearn: 0.9006772\ttotal: 178ms\tremaining: 632ms\n",
            "22:\tlearn: 0.9040632\ttotal: 190ms\tremaining: 635ms\n",
            "23:\tlearn: 0.9051919\ttotal: 195ms\tremaining: 619ms\n",
            "24:\tlearn: 0.9074492\ttotal: 206ms\tremaining: 618ms\n",
            "25:\tlearn: 0.9074492\ttotal: 212ms\tremaining: 604ms\n",
            "26:\tlearn: 0.9074492\ttotal: 224ms\tremaining: 606ms\n",
            "27:\tlearn: 0.9108352\ttotal: 235ms\tremaining: 604ms\n",
            "28:\tlearn: 0.9097065\ttotal: 241ms\tremaining: 590ms\n",
            "29:\tlearn: 0.9097065\ttotal: 259ms\tremaining: 603ms\n",
            "30:\tlearn: 0.9108352\ttotal: 276ms\tremaining: 613ms\n",
            "31:\tlearn: 0.9108352\ttotal: 281ms\tremaining: 598ms\n",
            "32:\tlearn: 0.9097065\ttotal: 282ms\tremaining: 573ms\n",
            "33:\tlearn: 0.9108352\ttotal: 287ms\tremaining: 556ms\n",
            "34:\tlearn: 0.9108352\ttotal: 294ms\tremaining: 546ms\n",
            "35:\tlearn: 0.9108352\ttotal: 299ms\tremaining: 532ms\n",
            "36:\tlearn: 0.9119639\ttotal: 306ms\tremaining: 521ms\n",
            "37:\tlearn: 0.9119639\ttotal: 308ms\tremaining: 503ms\n",
            "38:\tlearn: 0.9119639\ttotal: 313ms\tremaining: 490ms\n",
            "39:\tlearn: 0.9119639\ttotal: 322ms\tremaining: 483ms\n",
            "40:\tlearn: 0.9142212\ttotal: 325ms\tremaining: 467ms\n",
            "41:\tlearn: 0.9164786\ttotal: 327ms\tremaining: 452ms\n",
            "42:\tlearn: 0.9176072\ttotal: 336ms\tremaining: 446ms\n",
            "43:\tlearn: 0.9153499\ttotal: 339ms\tremaining: 431ms\n",
            "44:\tlearn: 0.9142212\ttotal: 347ms\tremaining: 424ms\n",
            "45:\tlearn: 0.9164786\ttotal: 355ms\tremaining: 416ms\n",
            "46:\tlearn: 0.9176072\ttotal: 357ms\tremaining: 403ms\n",
            "47:\tlearn: 0.9176072\ttotal: 360ms\tremaining: 389ms\n",
            "48:\tlearn: 0.9209932\ttotal: 362ms\tremaining: 377ms\n",
            "49:\tlearn: 0.9221219\ttotal: 365ms\tremaining: 365ms\n",
            "50:\tlearn: 0.9221219\ttotal: 367ms\tremaining: 353ms\n",
            "51:\tlearn: 0.9209932\ttotal: 377ms\tremaining: 348ms\n",
            "52:\tlearn: 0.9232506\ttotal: 379ms\tremaining: 336ms\n",
            "53:\tlearn: 0.9243792\ttotal: 390ms\tremaining: 332ms\n",
            "54:\tlearn: 0.9243792\ttotal: 393ms\tremaining: 321ms\n",
            "55:\tlearn: 0.9255079\ttotal: 395ms\tremaining: 310ms\n",
            "56:\tlearn: 0.9255079\ttotal: 405ms\tremaining: 305ms\n",
            "57:\tlearn: 0.9255079\ttotal: 412ms\tremaining: 299ms\n",
            "58:\tlearn: 0.9255079\ttotal: 415ms\tremaining: 288ms\n",
            "59:\tlearn: 0.9266366\ttotal: 417ms\tremaining: 278ms\n",
            "60:\tlearn: 0.9277652\ttotal: 423ms\tremaining: 270ms\n",
            "61:\tlearn: 0.9277652\ttotal: 430ms\tremaining: 263ms\n",
            "62:\tlearn: 0.9277652\ttotal: 435ms\tremaining: 256ms\n",
            "63:\tlearn: 0.9277652\ttotal: 449ms\tremaining: 253ms\n",
            "64:\tlearn: 0.9288939\ttotal: 452ms\tremaining: 243ms\n",
            "65:\tlearn: 0.9266366\ttotal: 482ms\tremaining: 248ms\n",
            "66:\tlearn: 0.9288939\ttotal: 485ms\tremaining: 239ms\n",
            "67:\tlearn: 0.9266366\ttotal: 497ms\tremaining: 234ms\n",
            "68:\tlearn: 0.9277652\ttotal: 499ms\tremaining: 224ms\n",
            "69:\tlearn: 0.9288939\ttotal: 521ms\tremaining: 223ms\n",
            "70:\tlearn: 0.9277652\ttotal: 531ms\tremaining: 217ms\n",
            "71:\tlearn: 0.9300226\ttotal: 535ms\tremaining: 208ms\n",
            "72:\tlearn: 0.9300226\ttotal: 568ms\tremaining: 210ms\n",
            "73:\tlearn: 0.9300226\ttotal: 602ms\tremaining: 212ms\n",
            "74:\tlearn: 0.9300226\ttotal: 608ms\tremaining: 203ms\n",
            "75:\tlearn: 0.9300226\ttotal: 623ms\tremaining: 197ms\n",
            "76:\tlearn: 0.9300226\ttotal: 627ms\tremaining: 187ms\n",
            "77:\tlearn: 0.9300226\ttotal: 651ms\tremaining: 184ms\n",
            "78:\tlearn: 0.9311512\ttotal: 666ms\tremaining: 177ms\n",
            "79:\tlearn: 0.9345372\ttotal: 675ms\tremaining: 169ms\n",
            "80:\tlearn: 0.9345372\ttotal: 690ms\tremaining: 162ms\n",
            "81:\tlearn: 0.9345372\ttotal: 697ms\tremaining: 153ms\n",
            "82:\tlearn: 0.9345372\ttotal: 700ms\tremaining: 143ms\n",
            "83:\tlearn: 0.9334086\ttotal: 702ms\tremaining: 134ms\n",
            "84:\tlearn: 0.9334086\ttotal: 710ms\tremaining: 125ms\n",
            "85:\tlearn: 0.9334086\ttotal: 713ms\tremaining: 116ms\n",
            "86:\tlearn: 0.9345372\ttotal: 715ms\tremaining: 107ms\n",
            "87:\tlearn: 0.9379233\ttotal: 739ms\tremaining: 101ms\n",
            "88:\tlearn: 0.9379233\ttotal: 752ms\tremaining: 92.9ms\n",
            "89:\tlearn: 0.9379233\ttotal: 766ms\tremaining: 85.1ms\n",
            "90:\tlearn: 0.9379233\ttotal: 768ms\tremaining: 76ms\n",
            "91:\tlearn: 0.9367946\ttotal: 791ms\tremaining: 68.8ms\n",
            "92:\tlearn: 0.9367946\ttotal: 803ms\tremaining: 60.5ms\n",
            "93:\tlearn: 0.9367946\ttotal: 814ms\tremaining: 52ms\n",
            "94:\tlearn: 0.9367946\ttotal: 827ms\tremaining: 43.5ms\n",
            "95:\tlearn: 0.9390519\ttotal: 834ms\tremaining: 34.7ms\n",
            "96:\tlearn: 0.9379233\ttotal: 841ms\tremaining: 26ms\n",
            "97:\tlearn: 0.9379233\ttotal: 859ms\tremaining: 17.5ms\n",
            "98:\tlearn: 0.9379233\ttotal: 865ms\tremaining: 8.74ms\n",
            "99:\tlearn: 0.9379233\ttotal: 878ms\tremaining: 0us\n",
            "0:\tlearn: 0.8735892\ttotal: 7.5ms\tremaining: 742ms\n",
            "1:\tlearn: 0.8611738\ttotal: 12.2ms\tremaining: 598ms\n",
            "2:\tlearn: 0.8690745\ttotal: 21.2ms\tremaining: 687ms\n",
            "3:\tlearn: 0.8735892\ttotal: 33.8ms\tremaining: 810ms\n",
            "4:\tlearn: 0.8769752\ttotal: 39ms\tremaining: 742ms\n",
            "5:\tlearn: 0.8724605\ttotal: 40.1ms\tremaining: 628ms\n",
            "6:\tlearn: 0.8735892\ttotal: 42.5ms\tremaining: 564ms\n",
            "7:\tlearn: 0.8792325\ttotal: 47ms\tremaining: 541ms\n",
            "8:\tlearn: 0.8814898\ttotal: 53.2ms\tremaining: 538ms\n",
            "9:\tlearn: 0.8837472\ttotal: 67.1ms\tremaining: 604ms\n",
            "10:\tlearn: 0.8871332\ttotal: 77.1ms\tremaining: 624ms\n",
            "11:\tlearn: 0.8905192\ttotal: 81.4ms\tremaining: 597ms\n",
            "12:\tlearn: 0.8860045\ttotal: 86.8ms\tremaining: 581ms\n",
            "13:\tlearn: 0.8939052\ttotal: 90.2ms\tremaining: 554ms\n",
            "14:\tlearn: 0.8927765\ttotal: 93.1ms\tremaining: 528ms\n",
            "15:\tlearn: 0.8893905\ttotal: 103ms\tremaining: 540ms\n",
            "16:\tlearn: 0.8961625\ttotal: 107ms\tremaining: 523ms\n",
            "17:\tlearn: 0.8984199\ttotal: 129ms\tremaining: 589ms\n",
            "18:\tlearn: 0.8984199\ttotal: 138ms\tremaining: 587ms\n",
            "19:\tlearn: 0.8961625\ttotal: 150ms\tremaining: 599ms\n",
            "20:\tlearn: 0.8984199\ttotal: 158ms\tremaining: 595ms\n",
            "21:\tlearn: 0.9040632\ttotal: 166ms\tremaining: 588ms\n",
            "22:\tlearn: 0.8984199\ttotal: 175ms\tremaining: 587ms\n",
            "23:\tlearn: 0.9018059\ttotal: 178ms\tremaining: 563ms\n",
            "24:\tlearn: 0.9006772\ttotal: 180ms\tremaining: 541ms\n",
            "25:\tlearn: 0.9040632\ttotal: 183ms\tremaining: 520ms\n",
            "26:\tlearn: 0.9097065\ttotal: 189ms\tremaining: 511ms\n",
            "27:\tlearn: 0.9119639\ttotal: 191ms\tremaining: 492ms\n",
            "28:\tlearn: 0.9130926\ttotal: 194ms\tremaining: 474ms\n",
            "29:\tlearn: 0.9119639\ttotal: 197ms\tremaining: 461ms\n",
            "30:\tlearn: 0.9119639\ttotal: 200ms\tremaining: 445ms\n",
            "31:\tlearn: 0.9142212\ttotal: 202ms\tremaining: 430ms\n",
            "32:\tlearn: 0.9130926\ttotal: 205ms\tremaining: 417ms\n",
            "33:\tlearn: 0.9119639\ttotal: 209ms\tremaining: 406ms\n",
            "34:\tlearn: 0.9142212\ttotal: 211ms\tremaining: 393ms\n",
            "35:\tlearn: 0.9164786\ttotal: 215ms\tremaining: 382ms\n",
            "36:\tlearn: 0.9176072\ttotal: 218ms\tremaining: 371ms\n",
            "37:\tlearn: 0.9198646\ttotal: 224ms\tremaining: 366ms\n",
            "38:\tlearn: 0.9198646\ttotal: 232ms\tremaining: 363ms\n",
            "39:\tlearn: 0.9198646\ttotal: 241ms\tremaining: 361ms\n",
            "40:\tlearn: 0.9198646\ttotal: 249ms\tremaining: 358ms\n",
            "41:\tlearn: 0.9209932\ttotal: 251ms\tremaining: 347ms\n",
            "42:\tlearn: 0.9232506\ttotal: 255ms\tremaining: 338ms\n",
            "43:\tlearn: 0.9221219\ttotal: 263ms\tremaining: 335ms\n",
            "44:\tlearn: 0.9255079\ttotal: 271ms\tremaining: 331ms\n",
            "45:\tlearn: 0.9243792\ttotal: 279ms\tremaining: 328ms\n",
            "46:\tlearn: 0.9255079\ttotal: 286ms\tremaining: 322ms\n",
            "47:\tlearn: 0.9255079\ttotal: 294ms\tremaining: 318ms\n",
            "48:\tlearn: 0.9243792\ttotal: 298ms\tremaining: 310ms\n",
            "49:\tlearn: 0.9255079\ttotal: 302ms\tremaining: 302ms\n",
            "50:\tlearn: 0.9277652\ttotal: 336ms\tremaining: 322ms\n",
            "51:\tlearn: 0.9243792\ttotal: 347ms\tremaining: 321ms\n",
            "52:\tlearn: 0.9277652\ttotal: 364ms\tremaining: 323ms\n",
            "53:\tlearn: 0.9288939\ttotal: 370ms\tremaining: 315ms\n",
            "54:\tlearn: 0.9288939\ttotal: 378ms\tremaining: 310ms\n",
            "55:\tlearn: 0.9300226\ttotal: 385ms\tremaining: 302ms\n",
            "56:\tlearn: 0.9300226\ttotal: 394ms\tremaining: 297ms\n",
            "57:\tlearn: 0.9300226\ttotal: 398ms\tremaining: 288ms\n",
            "58:\tlearn: 0.9322799\ttotal: 405ms\tremaining: 282ms\n",
            "59:\tlearn: 0.9322799\ttotal: 414ms\tremaining: 276ms\n",
            "60:\tlearn: 0.9311512\ttotal: 424ms\tremaining: 271ms\n",
            "61:\tlearn: 0.9334086\ttotal: 432ms\tremaining: 265ms\n",
            "62:\tlearn: 0.9334086\ttotal: 448ms\tremaining: 263ms\n",
            "63:\tlearn: 0.9334086\ttotal: 450ms\tremaining: 253ms\n",
            "64:\tlearn: 0.9345372\ttotal: 453ms\tremaining: 244ms\n",
            "65:\tlearn: 0.9345372\ttotal: 456ms\tremaining: 235ms\n",
            "66:\tlearn: 0.9334086\ttotal: 458ms\tremaining: 226ms\n",
            "67:\tlearn: 0.9334086\ttotal: 470ms\tremaining: 221ms\n",
            "68:\tlearn: 0.9367946\ttotal: 472ms\tremaining: 212ms\n",
            "69:\tlearn: 0.9356659\ttotal: 476ms\tremaining: 204ms\n",
            "70:\tlearn: 0.9356659\ttotal: 481ms\tremaining: 196ms\n",
            "71:\tlearn: 0.9356659\ttotal: 489ms\tremaining: 190ms\n",
            "72:\tlearn: 0.9367946\ttotal: 493ms\tremaining: 182ms\n",
            "73:\tlearn: 0.9367946\ttotal: 510ms\tremaining: 179ms\n",
            "74:\tlearn: 0.9356659\ttotal: 534ms\tremaining: 178ms\n",
            "75:\tlearn: 0.9367946\ttotal: 550ms\tremaining: 174ms\n",
            "76:\tlearn: 0.9379233\ttotal: 555ms\tremaining: 166ms\n",
            "77:\tlearn: 0.9367946\ttotal: 569ms\tremaining: 160ms\n",
            "78:\tlearn: 0.9367946\ttotal: 581ms\tremaining: 154ms\n",
            "79:\tlearn: 0.9379233\ttotal: 590ms\tremaining: 148ms\n",
            "80:\tlearn: 0.9390519\ttotal: 603ms\tremaining: 141ms\n",
            "81:\tlearn: 0.9390519\ttotal: 604ms\tremaining: 133ms\n",
            "82:\tlearn: 0.9401806\ttotal: 611ms\tremaining: 125ms\n",
            "83:\tlearn: 0.9401806\ttotal: 633ms\tremaining: 121ms\n",
            "84:\tlearn: 0.9401806\ttotal: 648ms\tremaining: 114ms\n",
            "85:\tlearn: 0.9401806\ttotal: 660ms\tremaining: 108ms\n",
            "86:\tlearn: 0.9401806\ttotal: 666ms\tremaining: 99.5ms\n",
            "87:\tlearn: 0.9401806\ttotal: 677ms\tremaining: 92.4ms\n",
            "88:\tlearn: 0.9424379\ttotal: 689ms\tremaining: 85.1ms\n",
            "89:\tlearn: 0.9424379\ttotal: 699ms\tremaining: 77.7ms\n",
            "90:\tlearn: 0.9401806\ttotal: 705ms\tremaining: 69.7ms\n",
            "91:\tlearn: 0.9401806\ttotal: 715ms\tremaining: 62.2ms\n",
            "92:\tlearn: 0.9413093\ttotal: 722ms\tremaining: 54.3ms\n",
            "93:\tlearn: 0.9413093\ttotal: 732ms\tremaining: 46.7ms\n",
            "94:\tlearn: 0.9413093\ttotal: 749ms\tremaining: 39.4ms\n",
            "95:\tlearn: 0.9413093\ttotal: 753ms\tremaining: 31.4ms\n",
            "96:\tlearn: 0.9413093\ttotal: 760ms\tremaining: 23.5ms\n",
            "97:\tlearn: 0.9413093\ttotal: 774ms\tremaining: 15.8ms\n",
            "98:\tlearn: 0.9424379\ttotal: 779ms\tremaining: 7.87ms\n",
            "99:\tlearn: 0.9424379\ttotal: 798ms\tremaining: 0us\n",
            "0:\tlearn: 0.8814898\ttotal: 22.6ms\tremaining: 2.23s\n",
            "1:\tlearn: 0.8634312\ttotal: 25.5ms\tremaining: 1.25s\n",
            "2:\tlearn: 0.8679458\ttotal: 33.1ms\tremaining: 1.07s\n",
            "3:\tlearn: 0.8758465\ttotal: 49.1ms\tremaining: 1.18s\n",
            "4:\tlearn: 0.8792325\ttotal: 82ms\tremaining: 1.56s\n",
            "5:\tlearn: 0.8769752\ttotal: 96.4ms\tremaining: 1.51s\n",
            "6:\tlearn: 0.8781038\ttotal: 117ms\tremaining: 1.55s\n",
            "7:\tlearn: 0.8735892\ttotal: 120ms\tremaining: 1.38s\n",
            "8:\tlearn: 0.8792325\ttotal: 136ms\tremaining: 1.38s\n",
            "9:\tlearn: 0.8826185\ttotal: 139ms\tremaining: 1.25s\n",
            "10:\tlearn: 0.8848758\ttotal: 162ms\tremaining: 1.31s\n",
            "11:\tlearn: 0.8882619\ttotal: 164ms\tremaining: 1.2s\n",
            "12:\tlearn: 0.8927765\ttotal: 178ms\tremaining: 1.19s\n",
            "13:\tlearn: 0.8927765\ttotal: 180ms\tremaining: 1.11s\n",
            "14:\tlearn: 0.8916479\ttotal: 181ms\tremaining: 1.03s\n",
            "15:\tlearn: 0.8916479\ttotal: 192ms\tremaining: 1s\n",
            "16:\tlearn: 0.8916479\ttotal: 194ms\tremaining: 948ms\n",
            "17:\tlearn: 0.8939052\ttotal: 197ms\tremaining: 896ms\n",
            "18:\tlearn: 0.8939052\ttotal: 200ms\tremaining: 854ms\n",
            "19:\tlearn: 0.8961625\ttotal: 209ms\tremaining: 837ms\n",
            "20:\tlearn: 0.8972912\ttotal: 212ms\tremaining: 797ms\n",
            "21:\tlearn: 0.8984199\ttotal: 272ms\tremaining: 963ms\n",
            "22:\tlearn: 0.8961625\ttotal: 273ms\tremaining: 913ms\n",
            "23:\tlearn: 0.8972912\ttotal: 299ms\tremaining: 946ms\n",
            "24:\tlearn: 0.8995485\ttotal: 308ms\tremaining: 925ms\n",
            "25:\tlearn: 0.9018059\ttotal: 328ms\tremaining: 933ms\n",
            "26:\tlearn: 0.8995485\ttotal: 332ms\tremaining: 897ms\n",
            "27:\tlearn: 0.9029345\ttotal: 345ms\tremaining: 887ms\n",
            "28:\tlearn: 0.9063205\ttotal: 352ms\tremaining: 861ms\n",
            "29:\tlearn: 0.9063205\ttotal: 355ms\tremaining: 828ms\n",
            "30:\tlearn: 0.9063205\ttotal: 368ms\tremaining: 820ms\n",
            "31:\tlearn: 0.9142212\ttotal: 381ms\tremaining: 809ms\n",
            "32:\tlearn: 0.9130926\ttotal: 412ms\tremaining: 836ms\n",
            "33:\tlearn: 0.9108352\ttotal: 415ms\tremaining: 805ms\n",
            "34:\tlearn: 0.9164786\ttotal: 428ms\tremaining: 795ms\n",
            "35:\tlearn: 0.9164786\ttotal: 430ms\tremaining: 765ms\n",
            "36:\tlearn: 0.9153499\ttotal: 432ms\tremaining: 736ms\n",
            "37:\tlearn: 0.9153499\ttotal: 456ms\tremaining: 744ms\n",
            "38:\tlearn: 0.9142212\ttotal: 470ms\tremaining: 736ms\n",
            "39:\tlearn: 0.9176072\ttotal: 473ms\tremaining: 709ms\n",
            "40:\tlearn: 0.9176072\ttotal: 476ms\tremaining: 685ms\n",
            "41:\tlearn: 0.9198646\ttotal: 493ms\tremaining: 681ms\n",
            "42:\tlearn: 0.9187359\ttotal: 504ms\tremaining: 668ms\n",
            "43:\tlearn: 0.9221219\ttotal: 523ms\tremaining: 665ms\n",
            "44:\tlearn: 0.9187359\ttotal: 536ms\tremaining: 655ms\n",
            "45:\tlearn: 0.9198646\ttotal: 544ms\tremaining: 638ms\n",
            "46:\tlearn: 0.9198646\ttotal: 547ms\tremaining: 617ms\n",
            "47:\tlearn: 0.9209932\ttotal: 564ms\tremaining: 611ms\n",
            "48:\tlearn: 0.9221219\ttotal: 583ms\tremaining: 607ms\n",
            "49:\tlearn: 0.9255079\ttotal: 595ms\tremaining: 595ms\n",
            "50:\tlearn: 0.9266366\ttotal: 597ms\tremaining: 574ms\n",
            "51:\tlearn: 0.9266366\ttotal: 631ms\tremaining: 583ms\n",
            "52:\tlearn: 0.9255079\ttotal: 639ms\tremaining: 567ms\n",
            "53:\tlearn: 0.9266366\ttotal: 642ms\tremaining: 547ms\n",
            "54:\tlearn: 0.9288939\ttotal: 644ms\tremaining: 527ms\n",
            "55:\tlearn: 0.9300226\ttotal: 647ms\tremaining: 508ms\n",
            "56:\tlearn: 0.9311512\ttotal: 651ms\tremaining: 491ms\n",
            "57:\tlearn: 0.9311512\ttotal: 669ms\tremaining: 484ms\n",
            "58:\tlearn: 0.9311512\ttotal: 672ms\tremaining: 467ms\n",
            "59:\tlearn: 0.9311512\ttotal: 683ms\tremaining: 456ms\n",
            "60:\tlearn: 0.9300226\ttotal: 686ms\tremaining: 439ms\n",
            "61:\tlearn: 0.9322799\ttotal: 730ms\tremaining: 447ms\n",
            "62:\tlearn: 0.9322799\ttotal: 734ms\tremaining: 431ms\n",
            "63:\tlearn: 0.9311512\ttotal: 751ms\tremaining: 422ms\n",
            "64:\tlearn: 0.9322799\ttotal: 760ms\tremaining: 409ms\n",
            "65:\tlearn: 0.9322799\ttotal: 769ms\tremaining: 396ms\n",
            "66:\tlearn: 0.9322799\ttotal: 773ms\tremaining: 381ms\n",
            "67:\tlearn: 0.9356659\ttotal: 822ms\tremaining: 387ms\n",
            "68:\tlearn: 0.9356659\ttotal: 846ms\tremaining: 380ms\n",
            "69:\tlearn: 0.9367946\ttotal: 877ms\tremaining: 376ms\n",
            "70:\tlearn: 0.9390519\ttotal: 894ms\tremaining: 365ms\n",
            "71:\tlearn: 0.9401806\ttotal: 924ms\tremaining: 359ms\n",
            "72:\tlearn: 0.9401806\ttotal: 927ms\tremaining: 343ms\n",
            "73:\tlearn: 0.9401806\ttotal: 934ms\tremaining: 328ms\n",
            "74:\tlearn: 0.9401806\ttotal: 937ms\tremaining: 312ms\n",
            "75:\tlearn: 0.9401806\ttotal: 939ms\tremaining: 297ms\n",
            "76:\tlearn: 0.9401806\ttotal: 945ms\tremaining: 282ms\n",
            "77:\tlearn: 0.9401806\ttotal: 948ms\tremaining: 267ms\n",
            "78:\tlearn: 0.9401806\ttotal: 974ms\tremaining: 259ms\n",
            "79:\tlearn: 0.9401806\ttotal: 979ms\tremaining: 245ms\n",
            "80:\tlearn: 0.9401806\ttotal: 982ms\tremaining: 230ms\n",
            "81:\tlearn: 0.9401806\ttotal: 984ms\tremaining: 216ms\n",
            "82:\tlearn: 0.9413093\ttotal: 988ms\tremaining: 202ms\n",
            "83:\tlearn: 0.9401806\ttotal: 1s\tremaining: 191ms\n",
            "84:\tlearn: 0.9401806\ttotal: 1s\tremaining: 177ms\n",
            "85:\tlearn: 0.9401806\ttotal: 1s\tremaining: 163ms\n",
            "86:\tlearn: 0.9390519\ttotal: 1.01s\tremaining: 151ms\n",
            "87:\tlearn: 0.9390519\ttotal: 1.02s\tremaining: 140ms\n",
            "88:\tlearn: 0.9390519\ttotal: 1.03s\tremaining: 128ms\n",
            "89:\tlearn: 0.9390519\ttotal: 1.06s\tremaining: 118ms\n",
            "90:\tlearn: 0.9401806\ttotal: 1.07s\tremaining: 106ms\n",
            "91:\tlearn: 0.9401806\ttotal: 1.08s\tremaining: 93.8ms\n",
            "92:\tlearn: 0.9390519\ttotal: 1.09s\tremaining: 82.2ms\n",
            "93:\tlearn: 0.9390519\ttotal: 1.1s\tremaining: 70ms\n",
            "94:\tlearn: 0.9390519\ttotal: 1.1s\tremaining: 58ms\n",
            "95:\tlearn: 0.9390519\ttotal: 1.11s\tremaining: 46.2ms\n",
            "96:\tlearn: 0.9390519\ttotal: 1.12s\tremaining: 34.6ms\n",
            "97:\tlearn: 0.9401806\ttotal: 1.12s\tremaining: 22.9ms\n",
            "98:\tlearn: 0.9401806\ttotal: 1.13s\tremaining: 11.4ms\n",
            "99:\tlearn: 0.9401806\ttotal: 1.15s\tremaining: 0us\n",
            "0:\tlearn: 0.8295711\ttotal: 654us\tremaining: 64.7ms\n",
            "1:\tlearn: 0.8340858\ttotal: 3.78ms\tremaining: 185ms\n",
            "2:\tlearn: 0.8498871\ttotal: 5.32ms\tremaining: 172ms\n",
            "3:\tlearn: 0.8465011\ttotal: 5.82ms\tremaining: 140ms\n",
            "4:\tlearn: 0.8544018\ttotal: 8.79ms\tremaining: 167ms\n",
            "5:\tlearn: 0.8656885\ttotal: 10.4ms\tremaining: 163ms\n",
            "6:\tlearn: 0.8702032\ttotal: 13.2ms\tremaining: 176ms\n",
            "7:\tlearn: 0.8724605\ttotal: 16.3ms\tremaining: 188ms\n",
            "8:\tlearn: 0.8747178\ttotal: 19.9ms\tremaining: 201ms\n",
            "9:\tlearn: 0.8758465\ttotal: 23.5ms\tremaining: 212ms\n",
            "10:\tlearn: 0.8826185\ttotal: 26.5ms\tremaining: 214ms\n",
            "11:\tlearn: 0.8814898\ttotal: 29.9ms\tremaining: 219ms\n",
            "12:\tlearn: 0.8860045\ttotal: 32.9ms\tremaining: 220ms\n",
            "13:\tlearn: 0.8803612\ttotal: 36.5ms\tremaining: 224ms\n",
            "14:\tlearn: 0.8826185\ttotal: 41.1ms\tremaining: 233ms\n",
            "15:\tlearn: 0.8871332\ttotal: 43.7ms\tremaining: 229ms\n",
            "16:\tlearn: 0.8939052\ttotal: 47ms\tremaining: 230ms\n",
            "17:\tlearn: 0.8961625\ttotal: 51ms\tremaining: 232ms\n",
            "18:\tlearn: 0.8961625\ttotal: 53.6ms\tremaining: 229ms\n",
            "19:\tlearn: 0.8972912\ttotal: 56.7ms\tremaining: 227ms\n",
            "20:\tlearn: 0.9029345\ttotal: 58.9ms\tremaining: 222ms\n",
            "21:\tlearn: 0.9040632\ttotal: 63.1ms\tremaining: 224ms\n",
            "22:\tlearn: 0.9085779\ttotal: 72.9ms\tremaining: 244ms\n",
            "23:\tlearn: 0.9051919\ttotal: 75.7ms\tremaining: 240ms\n",
            "24:\tlearn: 0.9097065\ttotal: 78.2ms\tremaining: 235ms\n",
            "25:\tlearn: 0.9097065\ttotal: 92ms\tremaining: 262ms\n",
            "26:\tlearn: 0.9119639\ttotal: 95.3ms\tremaining: 258ms\n",
            "27:\tlearn: 0.9130926\ttotal: 97.7ms\tremaining: 251ms\n",
            "28:\tlearn: 0.9119639\ttotal: 98.4ms\tremaining: 241ms\n",
            "29:\tlearn: 0.9153499\ttotal: 107ms\tremaining: 250ms\n",
            "30:\tlearn: 0.9198646\ttotal: 111ms\tremaining: 247ms\n",
            "31:\tlearn: 0.9164786\ttotal: 115ms\tremaining: 244ms\n",
            "32:\tlearn: 0.9164786\ttotal: 116ms\tremaining: 235ms\n",
            "33:\tlearn: 0.9187359\ttotal: 118ms\tremaining: 229ms\n",
            "34:\tlearn: 0.9187359\ttotal: 121ms\tremaining: 225ms\n",
            "35:\tlearn: 0.9209932\ttotal: 124ms\tremaining: 221ms\n",
            "36:\tlearn: 0.9209932\ttotal: 127ms\tremaining: 215ms\n",
            "37:\tlearn: 0.9232506\ttotal: 129ms\tremaining: 210ms\n",
            "38:\tlearn: 0.9221219\ttotal: 132ms\tremaining: 207ms\n",
            "39:\tlearn: 0.9221219\ttotal: 135ms\tremaining: 203ms\n",
            "40:\tlearn: 0.9255079\ttotal: 138ms\tremaining: 199ms\n",
            "41:\tlearn: 0.9266366\ttotal: 141ms\tremaining: 195ms\n",
            "42:\tlearn: 0.9266366\ttotal: 144ms\tremaining: 191ms\n",
            "43:\tlearn: 0.9277652\ttotal: 146ms\tremaining: 186ms\n",
            "44:\tlearn: 0.9300226\ttotal: 150ms\tremaining: 183ms\n",
            "45:\tlearn: 0.9300226\ttotal: 154ms\tremaining: 181ms\n",
            "46:\tlearn: 0.9288939\ttotal: 157ms\tremaining: 177ms\n",
            "47:\tlearn: 0.9322799\ttotal: 160ms\tremaining: 173ms\n",
            "48:\tlearn: 0.9322799\ttotal: 163ms\tremaining: 170ms\n",
            "49:\tlearn: 0.9322799\ttotal: 167ms\tremaining: 167ms\n",
            "50:\tlearn: 0.9334086\ttotal: 172ms\tremaining: 165ms\n",
            "51:\tlearn: 0.9334086\ttotal: 175ms\tremaining: 162ms\n",
            "52:\tlearn: 0.9334086\ttotal: 183ms\tremaining: 163ms\n",
            "53:\tlearn: 0.9334086\ttotal: 186ms\tremaining: 158ms\n",
            "54:\tlearn: 0.9334086\ttotal: 193ms\tremaining: 158ms\n",
            "55:\tlearn: 0.9334086\ttotal: 197ms\tremaining: 154ms\n",
            "56:\tlearn: 0.9334086\ttotal: 199ms\tremaining: 150ms\n",
            "57:\tlearn: 0.9334086\ttotal: 202ms\tremaining: 146ms\n",
            "58:\tlearn: 0.9334086\ttotal: 204ms\tremaining: 142ms\n",
            "59:\tlearn: 0.9345372\ttotal: 208ms\tremaining: 139ms\n",
            "60:\tlearn: 0.9345372\ttotal: 209ms\tremaining: 133ms\n",
            "61:\tlearn: 0.9345372\ttotal: 211ms\tremaining: 130ms\n",
            "62:\tlearn: 0.9334086\ttotal: 214ms\tremaining: 126ms\n",
            "63:\tlearn: 0.9345372\ttotal: 217ms\tremaining: 122ms\n",
            "64:\tlearn: 0.9345372\ttotal: 221ms\tremaining: 119ms\n",
            "65:\tlearn: 0.9345372\ttotal: 224ms\tremaining: 115ms\n",
            "66:\tlearn: 0.9367946\ttotal: 227ms\tremaining: 112ms\n",
            "67:\tlearn: 0.9379233\ttotal: 236ms\tremaining: 111ms\n",
            "68:\tlearn: 0.9379233\ttotal: 238ms\tremaining: 107ms\n",
            "69:\tlearn: 0.9379233\ttotal: 241ms\tremaining: 103ms\n",
            "70:\tlearn: 0.9379233\ttotal: 244ms\tremaining: 99.6ms\n",
            "71:\tlearn: 0.9379233\ttotal: 248ms\tremaining: 96.3ms\n",
            "72:\tlearn: 0.9379233\ttotal: 251ms\tremaining: 92.8ms\n",
            "73:\tlearn: 0.9390519\ttotal: 254ms\tremaining: 89.1ms\n",
            "74:\tlearn: 0.9390519\ttotal: 256ms\tremaining: 85.4ms\n",
            "75:\tlearn: 0.9401806\ttotal: 260ms\tremaining: 82.2ms\n",
            "76:\tlearn: 0.9401806\ttotal: 263ms\tremaining: 78.5ms\n",
            "77:\tlearn: 0.9401806\ttotal: 265ms\tremaining: 74.8ms\n",
            "78:\tlearn: 0.9390519\ttotal: 268ms\tremaining: 71.2ms\n",
            "79:\tlearn: 0.9390519\ttotal: 271ms\tremaining: 67.7ms\n",
            "80:\tlearn: 0.9390519\ttotal: 272ms\tremaining: 63.9ms\n",
            "81:\tlearn: 0.9390519\ttotal: 275ms\tremaining: 60.5ms\n",
            "82:\tlearn: 0.9390519\ttotal: 278ms\tremaining: 57ms\n",
            "83:\tlearn: 0.9390519\ttotal: 281ms\tremaining: 53.6ms\n",
            "84:\tlearn: 0.9390519\ttotal: 284ms\tremaining: 50.2ms\n",
            "85:\tlearn: 0.9401806\ttotal: 286ms\tremaining: 46.5ms\n",
            "86:\tlearn: 0.9390519\ttotal: 288ms\tremaining: 43.1ms\n",
            "87:\tlearn: 0.9413093\ttotal: 292ms\tremaining: 39.8ms\n",
            "88:\tlearn: 0.9413093\ttotal: 295ms\tremaining: 36.4ms\n",
            "89:\tlearn: 0.9413093\ttotal: 297ms\tremaining: 33ms\n",
            "90:\tlearn: 0.9413093\ttotal: 300ms\tremaining: 29.7ms\n",
            "91:\tlearn: 0.9413093\ttotal: 304ms\tremaining: 26.4ms\n",
            "92:\tlearn: 0.9413093\ttotal: 306ms\tremaining: 23.1ms\n",
            "93:\tlearn: 0.9413093\ttotal: 308ms\tremaining: 19.7ms\n",
            "94:\tlearn: 0.9413093\ttotal: 311ms\tremaining: 16.3ms\n",
            "95:\tlearn: 0.9413093\ttotal: 314ms\tremaining: 13.1ms\n",
            "96:\tlearn: 0.9413093\ttotal: 318ms\tremaining: 9.82ms\n",
            "97:\tlearn: 0.9413093\ttotal: 320ms\tremaining: 6.54ms\n",
            "98:\tlearn: 0.9413093\ttotal: 323ms\tremaining: 3.26ms\n",
            "99:\tlearn: 0.9413093\ttotal: 325ms\tremaining: 0us\n",
            "0:\tlearn: 0.8769752\ttotal: 12.8ms\tremaining: 1.26s\n",
            "1:\tlearn: 0.8566591\ttotal: 16.3ms\tremaining: 800ms\n",
            "2:\tlearn: 0.8656885\ttotal: 36.7ms\tremaining: 1.19s\n",
            "3:\tlearn: 0.8769752\ttotal: 43.4ms\tremaining: 1.04s\n",
            "4:\tlearn: 0.8803612\ttotal: 54.5ms\tremaining: 1.03s\n",
            "5:\tlearn: 0.8724605\ttotal: 59.2ms\tremaining: 927ms\n",
            "6:\tlearn: 0.8758465\ttotal: 74.8ms\tremaining: 994ms\n",
            "7:\tlearn: 0.8792325\ttotal: 93.3ms\tremaining: 1.07s\n",
            "8:\tlearn: 0.8803612\ttotal: 95.9ms\tremaining: 969ms\n",
            "9:\tlearn: 0.8837472\ttotal: 98.4ms\tremaining: 885ms\n",
            "10:\tlearn: 0.8882619\ttotal: 102ms\tremaining: 824ms\n",
            "11:\tlearn: 0.8893905\ttotal: 105ms\tremaining: 768ms\n",
            "12:\tlearn: 0.8927765\ttotal: 123ms\tremaining: 823ms\n",
            "13:\tlearn: 0.8927765\ttotal: 134ms\tremaining: 824ms\n",
            "14:\tlearn: 0.8961625\ttotal: 144ms\tremaining: 815ms\n",
            "15:\tlearn: 0.8939052\ttotal: 151ms\tremaining: 793ms\n",
            "16:\tlearn: 0.8972912\ttotal: 164ms\tremaining: 801ms\n",
            "17:\tlearn: 0.8984199\ttotal: 169ms\tremaining: 771ms\n",
            "18:\tlearn: 0.9018059\ttotal: 180ms\tremaining: 768ms\n",
            "19:\tlearn: 0.9040632\ttotal: 194ms\tremaining: 774ms\n",
            "20:\tlearn: 0.9051919\ttotal: 203ms\tremaining: 764ms\n",
            "21:\tlearn: 0.9040632\ttotal: 217ms\tremaining: 769ms\n",
            "22:\tlearn: 0.9040632\ttotal: 226ms\tremaining: 757ms\n",
            "23:\tlearn: 0.9074492\ttotal: 230ms\tremaining: 727ms\n",
            "24:\tlearn: 0.9063205\ttotal: 232ms\tremaining: 696ms\n",
            "25:\tlearn: 0.9085779\ttotal: 241ms\tremaining: 685ms\n",
            "26:\tlearn: 0.9085779\ttotal: 245ms\tremaining: 662ms\n",
            "27:\tlearn: 0.9108352\ttotal: 252ms\tremaining: 647ms\n",
            "28:\tlearn: 0.9108352\ttotal: 262ms\tremaining: 642ms\n",
            "29:\tlearn: 0.9108352\ttotal: 274ms\tremaining: 639ms\n",
            "30:\tlearn: 0.9108352\ttotal: 281ms\tremaining: 624ms\n",
            "31:\tlearn: 0.9142212\ttotal: 286ms\tremaining: 608ms\n",
            "32:\tlearn: 0.9142212\ttotal: 294ms\tremaining: 598ms\n",
            "33:\tlearn: 0.9187359\ttotal: 305ms\tremaining: 592ms\n",
            "34:\tlearn: 0.9198646\ttotal: 309ms\tremaining: 574ms\n",
            "35:\tlearn: 0.9187359\ttotal: 316ms\tremaining: 562ms\n",
            "36:\tlearn: 0.9209932\ttotal: 320ms\tremaining: 544ms\n",
            "37:\tlearn: 0.9198646\ttotal: 325ms\tremaining: 531ms\n",
            "38:\tlearn: 0.9221219\ttotal: 327ms\tremaining: 512ms\n",
            "39:\tlearn: 0.9187359\ttotal: 331ms\tremaining: 496ms\n",
            "40:\tlearn: 0.9198646\ttotal: 340ms\tremaining: 489ms\n",
            "41:\tlearn: 0.9187359\ttotal: 344ms\tremaining: 475ms\n",
            "42:\tlearn: 0.9198646\ttotal: 351ms\tremaining: 465ms\n",
            "43:\tlearn: 0.9187359\ttotal: 355ms\tremaining: 451ms\n",
            "44:\tlearn: 0.9221219\ttotal: 363ms\tremaining: 444ms\n",
            "45:\tlearn: 0.9176072\ttotal: 364ms\tremaining: 428ms\n",
            "46:\tlearn: 0.9209932\ttotal: 367ms\tremaining: 414ms\n",
            "47:\tlearn: 0.9221219\ttotal: 376ms\tremaining: 407ms\n",
            "48:\tlearn: 0.9221219\ttotal: 379ms\tremaining: 394ms\n",
            "49:\tlearn: 0.9221219\ttotal: 387ms\tremaining: 387ms\n",
            "50:\tlearn: 0.9232506\ttotal: 391ms\tremaining: 376ms\n",
            "51:\tlearn: 0.9221219\ttotal: 399ms\tremaining: 368ms\n",
            "52:\tlearn: 0.9243792\ttotal: 407ms\tremaining: 361ms\n",
            "53:\tlearn: 0.9243792\ttotal: 421ms\tremaining: 358ms\n",
            "54:\tlearn: 0.9243792\ttotal: 423ms\tremaining: 346ms\n",
            "55:\tlearn: 0.9232506\ttotal: 426ms\tremaining: 334ms\n",
            "56:\tlearn: 0.9243792\ttotal: 429ms\tremaining: 323ms\n",
            "57:\tlearn: 0.9243792\ttotal: 431ms\tremaining: 312ms\n",
            "58:\tlearn: 0.9243792\ttotal: 434ms\tremaining: 301ms\n",
            "59:\tlearn: 0.9255079\ttotal: 437ms\tremaining: 291ms\n",
            "60:\tlearn: 0.9255079\ttotal: 439ms\tremaining: 281ms\n",
            "61:\tlearn: 0.9266366\ttotal: 442ms\tremaining: 271ms\n",
            "62:\tlearn: 0.9266366\ttotal: 445ms\tremaining: 261ms\n",
            "63:\tlearn: 0.9277652\ttotal: 448ms\tremaining: 252ms\n",
            "64:\tlearn: 0.9266366\ttotal: 451ms\tremaining: 243ms\n",
            "65:\tlearn: 0.9288939\ttotal: 453ms\tremaining: 233ms\n",
            "66:\tlearn: 0.9300226\ttotal: 455ms\tremaining: 224ms\n",
            "67:\tlearn: 0.9322799\ttotal: 458ms\tremaining: 216ms\n",
            "68:\tlearn: 0.9288939\ttotal: 461ms\tremaining: 207ms\n",
            "69:\tlearn: 0.9288939\ttotal: 463ms\tremaining: 199ms\n",
            "70:\tlearn: 0.9288939\ttotal: 466ms\tremaining: 190ms\n",
            "71:\tlearn: 0.9322799\ttotal: 468ms\tremaining: 182ms\n",
            "72:\tlearn: 0.9311512\ttotal: 472ms\tremaining: 174ms\n",
            "73:\tlearn: 0.9311512\ttotal: 474ms\tremaining: 167ms\n",
            "74:\tlearn: 0.9322799\ttotal: 477ms\tremaining: 159ms\n",
            "75:\tlearn: 0.9322799\ttotal: 479ms\tremaining: 151ms\n",
            "76:\tlearn: 0.9322799\ttotal: 481ms\tremaining: 144ms\n",
            "77:\tlearn: 0.9322799\ttotal: 482ms\tremaining: 136ms\n",
            "78:\tlearn: 0.9322799\ttotal: 485ms\tremaining: 129ms\n",
            "79:\tlearn: 0.9322799\ttotal: 488ms\tremaining: 122ms\n",
            "80:\tlearn: 0.9322799\ttotal: 490ms\tremaining: 115ms\n",
            "81:\tlearn: 0.9334086\ttotal: 495ms\tremaining: 109ms\n",
            "82:\tlearn: 0.9334086\ttotal: 504ms\tremaining: 103ms\n",
            "83:\tlearn: 0.9345372\ttotal: 507ms\tremaining: 96.6ms\n",
            "84:\tlearn: 0.9345372\ttotal: 511ms\tremaining: 90.1ms\n",
            "85:\tlearn: 0.9334086\ttotal: 513ms\tremaining: 83.5ms\n",
            "86:\tlearn: 0.9334086\ttotal: 516ms\tremaining: 77.1ms\n",
            "87:\tlearn: 0.9334086\ttotal: 518ms\tremaining: 70.6ms\n",
            "88:\tlearn: 0.9334086\ttotal: 520ms\tremaining: 64.3ms\n",
            "89:\tlearn: 0.9345372\ttotal: 532ms\tremaining: 59.1ms\n",
            "90:\tlearn: 0.9334086\ttotal: 542ms\tremaining: 53.6ms\n",
            "91:\tlearn: 0.9334086\ttotal: 545ms\tremaining: 47.4ms\n",
            "92:\tlearn: 0.9334086\ttotal: 557ms\tremaining: 41.9ms\n",
            "93:\tlearn: 0.9334086\ttotal: 559ms\tremaining: 35.7ms\n",
            "94:\tlearn: 0.9334086\ttotal: 562ms\tremaining: 29.6ms\n",
            "95:\tlearn: 0.9334086\ttotal: 565ms\tremaining: 23.5ms\n",
            "96:\tlearn: 0.9334086\ttotal: 567ms\tremaining: 17.5ms\n",
            "97:\tlearn: 0.9334086\ttotal: 569ms\tremaining: 11.6ms\n",
            "98:\tlearn: 0.9334086\ttotal: 572ms\tremaining: 5.78ms\n",
            "99:\tlearn: 0.9334086\ttotal: 575ms\tremaining: 0us\n",
            "0:\tlearn: 0.8737317\ttotal: 8.16ms\tremaining: 808ms\n",
            "1:\tlearn: 0.8511838\ttotal: 11.2ms\tremaining: 548ms\n",
            "2:\tlearn: 0.8635851\ttotal: 14.7ms\tremaining: 474ms\n",
            "3:\tlearn: 0.8669673\ttotal: 17.5ms\tremaining: 420ms\n",
            "4:\tlearn: 0.8726043\ttotal: 20.1ms\tremaining: 382ms\n",
            "5:\tlearn: 0.8692221\ttotal: 21.7ms\tremaining: 340ms\n",
            "6:\tlearn: 0.8726043\ttotal: 24.8ms\tremaining: 330ms\n",
            "7:\tlearn: 0.8737317\ttotal: 29ms\tremaining: 333ms\n",
            "8:\tlearn: 0.8827508\ttotal: 32.1ms\tremaining: 324ms\n",
            "9:\tlearn: 0.8816234\ttotal: 35.1ms\tremaining: 316ms\n",
            "10:\tlearn: 0.8838782\ttotal: 38.3ms\tremaining: 310ms\n",
            "11:\tlearn: 0.8861330\ttotal: 41.2ms\tremaining: 302ms\n",
            "12:\tlearn: 0.8883878\ttotal: 44ms\tremaining: 295ms\n",
            "13:\tlearn: 0.8883878\ttotal: 47.8ms\tremaining: 294ms\n",
            "14:\tlearn: 0.8895152\ttotal: 50.2ms\tremaining: 285ms\n",
            "15:\tlearn: 0.8883878\ttotal: 53.3ms\tremaining: 280ms\n",
            "16:\tlearn: 0.8906426\ttotal: 56.5ms\tremaining: 276ms\n",
            "17:\tlearn: 0.8940248\ttotal: 58.8ms\tremaining: 268ms\n",
            "18:\tlearn: 0.8917700\ttotal: 62.2ms\tremaining: 265ms\n",
            "19:\tlearn: 0.8928974\ttotal: 65ms\tremaining: 260ms\n",
            "20:\tlearn: 0.8917700\ttotal: 66.7ms\tremaining: 251ms\n",
            "21:\tlearn: 0.8906426\ttotal: 69ms\tremaining: 245ms\n",
            "22:\tlearn: 0.8951522\ttotal: 71.9ms\tremaining: 241ms\n",
            "23:\tlearn: 0.8962796\ttotal: 75.3ms\tremaining: 239ms\n",
            "24:\tlearn: 0.8996618\ttotal: 80.1ms\tremaining: 240ms\n",
            "25:\tlearn: 0.9030440\ttotal: 85.5ms\tremaining: 243ms\n",
            "26:\tlearn: 0.9052988\ttotal: 88ms\tremaining: 238ms\n",
            "27:\tlearn: 0.9041714\ttotal: 90.8ms\tremaining: 233ms\n",
            "28:\tlearn: 0.9075536\ttotal: 94.5ms\tremaining: 231ms\n",
            "29:\tlearn: 0.9109357\ttotal: 96.9ms\tremaining: 226ms\n",
            "30:\tlearn: 0.9120631\ttotal: 99.3ms\tremaining: 221ms\n",
            "31:\tlearn: 0.9120631\ttotal: 102ms\tremaining: 217ms\n",
            "32:\tlearn: 0.9131905\ttotal: 105ms\tremaining: 214ms\n",
            "33:\tlearn: 0.9131905\ttotal: 108ms\tremaining: 209ms\n",
            "34:\tlearn: 0.9154453\ttotal: 111ms\tremaining: 207ms\n",
            "35:\tlearn: 0.9165727\ttotal: 117ms\tremaining: 208ms\n",
            "36:\tlearn: 0.9154453\ttotal: 125ms\tremaining: 213ms\n",
            "37:\tlearn: 0.9131905\ttotal: 129ms\tremaining: 210ms\n",
            "38:\tlearn: 0.9154453\ttotal: 137ms\tremaining: 214ms\n",
            "39:\tlearn: 0.9143179\ttotal: 145ms\tremaining: 218ms\n",
            "40:\tlearn: 0.9165727\ttotal: 153ms\tremaining: 220ms\n",
            "41:\tlearn: 0.9154453\ttotal: 157ms\tremaining: 216ms\n",
            "42:\tlearn: 0.9177001\ttotal: 159ms\tremaining: 211ms\n",
            "43:\tlearn: 0.9154453\ttotal: 162ms\tremaining: 206ms\n",
            "44:\tlearn: 0.9199549\ttotal: 165ms\tremaining: 201ms\n",
            "45:\tlearn: 0.9188275\ttotal: 167ms\tremaining: 197ms\n",
            "46:\tlearn: 0.9199549\ttotal: 171ms\tremaining: 193ms\n",
            "47:\tlearn: 0.9210823\ttotal: 174ms\tremaining: 188ms\n",
            "48:\tlearn: 0.9199549\ttotal: 176ms\tremaining: 183ms\n",
            "49:\tlearn: 0.9210823\ttotal: 178ms\tremaining: 178ms\n",
            "50:\tlearn: 0.9210823\ttotal: 192ms\tremaining: 184ms\n",
            "51:\tlearn: 0.9222097\ttotal: 194ms\tremaining: 179ms\n",
            "52:\tlearn: 0.9233371\ttotal: 197ms\tremaining: 175ms\n",
            "53:\tlearn: 0.9233371\ttotal: 199ms\tremaining: 170ms\n",
            "54:\tlearn: 0.9244645\ttotal: 213ms\tremaining: 175ms\n",
            "55:\tlearn: 0.9255919\ttotal: 216ms\tremaining: 170ms\n",
            "56:\tlearn: 0.9289741\ttotal: 219ms\tremaining: 165ms\n",
            "57:\tlearn: 0.9289741\ttotal: 229ms\tremaining: 166ms\n",
            "58:\tlearn: 0.9289741\ttotal: 232ms\tremaining: 161ms\n",
            "59:\tlearn: 0.9312289\ttotal: 240ms\tremaining: 160ms\n",
            "60:\tlearn: 0.9289741\ttotal: 242ms\tremaining: 155ms\n",
            "61:\tlearn: 0.9312289\ttotal: 248ms\tremaining: 152ms\n",
            "62:\tlearn: 0.9323563\ttotal: 251ms\tremaining: 147ms\n",
            "63:\tlearn: 0.9323563\ttotal: 261ms\tremaining: 147ms\n",
            "64:\tlearn: 0.9301015\ttotal: 264ms\tremaining: 142ms\n",
            "65:\tlearn: 0.9289741\ttotal: 266ms\tremaining: 137ms\n",
            "66:\tlearn: 0.9334837\ttotal: 275ms\tremaining: 136ms\n",
            "67:\tlearn: 0.9334837\ttotal: 300ms\tremaining: 141ms\n",
            "68:\tlearn: 0.9312289\ttotal: 319ms\tremaining: 143ms\n",
            "69:\tlearn: 0.9334837\ttotal: 321ms\tremaining: 138ms\n",
            "70:\tlearn: 0.9312289\ttotal: 337ms\tremaining: 138ms\n",
            "71:\tlearn: 0.9334837\ttotal: 340ms\tremaining: 132ms\n",
            "72:\tlearn: 0.9334837\ttotal: 358ms\tremaining: 132ms\n",
            "73:\tlearn: 0.9334837\ttotal: 362ms\tremaining: 127ms\n",
            "74:\tlearn: 0.9334837\ttotal: 364ms\tremaining: 121ms\n",
            "75:\tlearn: 0.9346110\ttotal: 375ms\tremaining: 118ms\n",
            "76:\tlearn: 0.9334837\ttotal: 377ms\tremaining: 113ms\n",
            "77:\tlearn: 0.9346110\ttotal: 397ms\tremaining: 112ms\n",
            "78:\tlearn: 0.9346110\ttotal: 402ms\tremaining: 107ms\n",
            "79:\tlearn: 0.9346110\ttotal: 407ms\tremaining: 102ms\n",
            "80:\tlearn: 0.9357384\ttotal: 415ms\tremaining: 97.4ms\n",
            "81:\tlearn: 0.9357384\ttotal: 423ms\tremaining: 92.8ms\n",
            "82:\tlearn: 0.9357384\ttotal: 439ms\tremaining: 90ms\n",
            "83:\tlearn: 0.9357384\ttotal: 453ms\tremaining: 86.3ms\n",
            "84:\tlearn: 0.9368658\ttotal: 460ms\tremaining: 81.1ms\n",
            "85:\tlearn: 0.9368658\ttotal: 463ms\tremaining: 75.4ms\n",
            "86:\tlearn: 0.9379932\ttotal: 487ms\tremaining: 72.8ms\n",
            "87:\tlearn: 0.9379932\ttotal: 506ms\tremaining: 69ms\n",
            "88:\tlearn: 0.9379932\ttotal: 514ms\tremaining: 63.5ms\n",
            "89:\tlearn: 0.9379932\ttotal: 524ms\tremaining: 58.2ms\n",
            "90:\tlearn: 0.9379932\ttotal: 538ms\tremaining: 53.2ms\n",
            "91:\tlearn: 0.9379932\ttotal: 544ms\tremaining: 47.3ms\n",
            "92:\tlearn: 0.9379932\ttotal: 545ms\tremaining: 41ms\n",
            "93:\tlearn: 0.9379932\ttotal: 552ms\tremaining: 35.3ms\n",
            "94:\tlearn: 0.9379932\ttotal: 558ms\tremaining: 29.4ms\n",
            "95:\tlearn: 0.9379932\ttotal: 561ms\tremaining: 23.4ms\n",
            "96:\tlearn: 0.9379932\ttotal: 563ms\tremaining: 17.4ms\n",
            "97:\tlearn: 0.9391206\ttotal: 596ms\tremaining: 12.2ms\n",
            "98:\tlearn: 0.9379932\ttotal: 602ms\tremaining: 6.08ms\n",
            "99:\tlearn: 0.9379932\ttotal: 614ms\tremaining: 0us\n",
            "0:\tlearn: 0.8714769\ttotal: 9.13ms\tremaining: 904ms\n",
            "1:\tlearn: 0.8523112\ttotal: 16.8ms\tremaining: 825ms\n",
            "2:\tlearn: 0.8613303\ttotal: 32.9ms\tremaining: 1.06s\n",
            "3:\tlearn: 0.8714769\ttotal: 51.7ms\tremaining: 1.24s\n",
            "4:\tlearn: 0.8748591\ttotal: 65.5ms\tremaining: 1.24s\n",
            "5:\tlearn: 0.8793687\ttotal: 76ms\tremaining: 1.19s\n",
            "6:\tlearn: 0.8782413\ttotal: 88ms\tremaining: 1.17s\n",
            "7:\tlearn: 0.8827508\ttotal: 103ms\tremaining: 1.19s\n",
            "8:\tlearn: 0.8827508\ttotal: 116ms\tremaining: 1.17s\n",
            "9:\tlearn: 0.8827508\ttotal: 136ms\tremaining: 1.22s\n",
            "10:\tlearn: 0.8850056\ttotal: 141ms\tremaining: 1.14s\n",
            "11:\tlearn: 0.8883878\ttotal: 149ms\tremaining: 1.1s\n",
            "12:\tlearn: 0.8895152\ttotal: 169ms\tremaining: 1.13s\n",
            "13:\tlearn: 0.8895152\ttotal: 172ms\tremaining: 1.06s\n",
            "14:\tlearn: 0.8895152\ttotal: 174ms\tremaining: 987ms\n",
            "15:\tlearn: 0.8906426\ttotal: 181ms\tremaining: 949ms\n",
            "16:\tlearn: 0.8940248\ttotal: 195ms\tremaining: 953ms\n",
            "17:\tlearn: 0.8940248\ttotal: 201ms\tremaining: 917ms\n",
            "18:\tlearn: 0.8906426\ttotal: 213ms\tremaining: 907ms\n",
            "19:\tlearn: 0.8940248\ttotal: 225ms\tremaining: 901ms\n",
            "20:\tlearn: 0.8940248\ttotal: 243ms\tremaining: 916ms\n",
            "21:\tlearn: 0.8974070\ttotal: 251ms\tremaining: 891ms\n",
            "22:\tlearn: 0.8974070\ttotal: 259ms\tremaining: 865ms\n",
            "23:\tlearn: 0.8962796\ttotal: 273ms\tremaining: 865ms\n",
            "24:\tlearn: 0.8951522\ttotal: 277ms\tremaining: 831ms\n",
            "25:\tlearn: 0.8974070\ttotal: 279ms\tremaining: 795ms\n",
            "26:\tlearn: 0.9019166\ttotal: 282ms\tremaining: 762ms\n",
            "27:\tlearn: 0.9064262\ttotal: 286ms\tremaining: 735ms\n",
            "28:\tlearn: 0.9052988\ttotal: 288ms\tremaining: 706ms\n",
            "29:\tlearn: 0.9052988\ttotal: 298ms\tremaining: 694ms\n",
            "30:\tlearn: 0.9064262\ttotal: 300ms\tremaining: 668ms\n",
            "31:\tlearn: 0.9064262\ttotal: 303ms\tremaining: 643ms\n",
            "32:\tlearn: 0.9064262\ttotal: 312ms\tremaining: 633ms\n",
            "33:\tlearn: 0.9098083\ttotal: 314ms\tremaining: 610ms\n",
            "34:\tlearn: 0.9098083\ttotal: 317ms\tremaining: 588ms\n",
            "35:\tlearn: 0.9120631\ttotal: 340ms\tremaining: 605ms\n",
            "36:\tlearn: 0.9131905\ttotal: 343ms\tremaining: 584ms\n",
            "37:\tlearn: 0.9131905\ttotal: 358ms\tremaining: 585ms\n",
            "38:\tlearn: 0.9154453\ttotal: 361ms\tremaining: 565ms\n",
            "39:\tlearn: 0.9165727\ttotal: 375ms\tremaining: 563ms\n",
            "40:\tlearn: 0.9177001\ttotal: 381ms\tremaining: 548ms\n",
            "41:\tlearn: 0.9165727\ttotal: 383ms\tremaining: 529ms\n",
            "42:\tlearn: 0.9154453\ttotal: 386ms\tremaining: 512ms\n",
            "43:\tlearn: 0.9165727\ttotal: 397ms\tremaining: 505ms\n",
            "44:\tlearn: 0.9188275\ttotal: 399ms\tremaining: 488ms\n",
            "45:\tlearn: 0.9177001\ttotal: 411ms\tremaining: 482ms\n",
            "46:\tlearn: 0.9222097\ttotal: 414ms\tremaining: 467ms\n",
            "47:\tlearn: 0.9210823\ttotal: 415ms\tremaining: 449ms\n",
            "48:\tlearn: 0.9199549\ttotal: 426ms\tremaining: 444ms\n",
            "49:\tlearn: 0.9188275\ttotal: 429ms\tremaining: 429ms\n",
            "50:\tlearn: 0.9210823\ttotal: 440ms\tremaining: 422ms\n",
            "51:\tlearn: 0.9222097\ttotal: 446ms\tremaining: 411ms\n",
            "52:\tlearn: 0.9255919\ttotal: 448ms\tremaining: 397ms\n",
            "53:\tlearn: 0.9267193\ttotal: 463ms\tremaining: 395ms\n",
            "54:\tlearn: 0.9278467\ttotal: 466ms\tremaining: 381ms\n",
            "55:\tlearn: 0.9267193\ttotal: 469ms\tremaining: 368ms\n",
            "56:\tlearn: 0.9289741\ttotal: 471ms\tremaining: 355ms\n",
            "57:\tlearn: 0.9278467\ttotal: 481ms\tremaining: 348ms\n",
            "58:\tlearn: 0.9301015\ttotal: 487ms\tremaining: 339ms\n",
            "59:\tlearn: 0.9312289\ttotal: 490ms\tremaining: 327ms\n",
            "60:\tlearn: 0.9323563\ttotal: 492ms\tremaining: 315ms\n",
            "61:\tlearn: 0.9334837\ttotal: 495ms\tremaining: 303ms\n",
            "62:\tlearn: 0.9323563\ttotal: 514ms\tremaining: 302ms\n",
            "63:\tlearn: 0.9323563\ttotal: 517ms\tremaining: 291ms\n",
            "64:\tlearn: 0.9323563\ttotal: 525ms\tremaining: 283ms\n",
            "65:\tlearn: 0.9323563\ttotal: 536ms\tremaining: 276ms\n",
            "66:\tlearn: 0.9323563\ttotal: 538ms\tremaining: 265ms\n",
            "67:\tlearn: 0.9323563\ttotal: 546ms\tremaining: 257ms\n",
            "68:\tlearn: 0.9334837\ttotal: 549ms\tremaining: 247ms\n",
            "69:\tlearn: 0.9334837\ttotal: 556ms\tremaining: 238ms\n",
            "70:\tlearn: 0.9357384\ttotal: 558ms\tremaining: 228ms\n",
            "71:\tlearn: 0.9346110\ttotal: 561ms\tremaining: 218ms\n",
            "72:\tlearn: 0.9346110\ttotal: 564ms\tremaining: 208ms\n",
            "73:\tlearn: 0.9346110\ttotal: 575ms\tremaining: 202ms\n",
            "74:\tlearn: 0.9346110\ttotal: 577ms\tremaining: 192ms\n",
            "75:\tlearn: 0.9357384\ttotal: 583ms\tremaining: 184ms\n",
            "76:\tlearn: 0.9357384\ttotal: 586ms\tremaining: 175ms\n",
            "77:\tlearn: 0.9357384\ttotal: 588ms\tremaining: 166ms\n",
            "78:\tlearn: 0.9357384\ttotal: 598ms\tremaining: 159ms\n",
            "79:\tlearn: 0.9346110\ttotal: 601ms\tremaining: 150ms\n",
            "80:\tlearn: 0.9357384\ttotal: 603ms\tremaining: 142ms\n",
            "81:\tlearn: 0.9357384\ttotal: 610ms\tremaining: 134ms\n",
            "82:\tlearn: 0.9357384\ttotal: 612ms\tremaining: 125ms\n",
            "83:\tlearn: 0.9368658\ttotal: 619ms\tremaining: 118ms\n",
            "84:\tlearn: 0.9379932\ttotal: 622ms\tremaining: 110ms\n",
            "85:\tlearn: 0.9379932\ttotal: 622ms\tremaining: 101ms\n",
            "86:\tlearn: 0.9368658\ttotal: 635ms\tremaining: 94.9ms\n",
            "87:\tlearn: 0.9368658\ttotal: 638ms\tremaining: 87ms\n",
            "88:\tlearn: 0.9368658\ttotal: 639ms\tremaining: 79ms\n",
            "89:\tlearn: 0.9368658\ttotal: 657ms\tremaining: 73ms\n",
            "90:\tlearn: 0.9368658\ttotal: 687ms\tremaining: 67.9ms\n",
            "91:\tlearn: 0.9379932\ttotal: 689ms\tremaining: 59.9ms\n",
            "92:\tlearn: 0.9379932\ttotal: 692ms\tremaining: 52.1ms\n",
            "93:\tlearn: 0.9379932\ttotal: 699ms\tremaining: 44.6ms\n",
            "94:\tlearn: 0.9379932\ttotal: 704ms\tremaining: 37.1ms\n",
            "95:\tlearn: 0.9379932\ttotal: 707ms\tremaining: 29.5ms\n",
            "96:\tlearn: 0.9391206\ttotal: 725ms\tremaining: 22.4ms\n",
            "97:\tlearn: 0.9391206\ttotal: 735ms\tremaining: 15ms\n",
            "98:\tlearn: 0.9391206\ttotal: 739ms\tremaining: 7.46ms\n",
            "99:\tlearn: 0.9402480\ttotal: 739ms\tremaining: 0us\n",
            "0:\tlearn: 0.8714769\ttotal: 18.6ms\tremaining: 1.84s\n",
            "1:\tlearn: 0.8613303\ttotal: 19.4ms\tremaining: 951ms\n",
            "2:\tlearn: 0.8658399\ttotal: 22.1ms\tremaining: 714ms\n",
            "3:\tlearn: 0.8793687\ttotal: 24.4ms\tremaining: 586ms\n",
            "4:\tlearn: 0.8793687\ttotal: 42.4ms\tremaining: 805ms\n",
            "5:\tlearn: 0.8793687\ttotal: 44.9ms\tremaining: 703ms\n",
            "6:\tlearn: 0.8816234\ttotal: 47.3ms\tremaining: 629ms\n",
            "7:\tlearn: 0.8838782\ttotal: 49.8ms\tremaining: 573ms\n",
            "8:\tlearn: 0.8861330\ttotal: 62.3ms\tremaining: 630ms\n",
            "9:\tlearn: 0.8895152\ttotal: 64.7ms\tremaining: 582ms\n",
            "10:\tlearn: 0.8928974\ttotal: 77.7ms\tremaining: 629ms\n",
            "11:\tlearn: 0.8917700\ttotal: 91.3ms\tremaining: 670ms\n",
            "12:\tlearn: 0.8917700\ttotal: 102ms\tremaining: 685ms\n",
            "13:\tlearn: 0.8974070\ttotal: 105ms\tremaining: 644ms\n",
            "14:\tlearn: 0.8928974\ttotal: 106ms\tremaining: 600ms\n",
            "15:\tlearn: 0.8951522\ttotal: 121ms\tremaining: 634ms\n",
            "16:\tlearn: 0.8951522\ttotal: 130ms\tremaining: 635ms\n",
            "17:\tlearn: 0.8962796\ttotal: 137ms\tremaining: 624ms\n",
            "18:\tlearn: 0.8974070\ttotal: 144ms\tremaining: 612ms\n",
            "19:\tlearn: 0.8996618\ttotal: 152ms\tremaining: 609ms\n",
            "20:\tlearn: 0.8996618\ttotal: 166ms\tremaining: 624ms\n",
            "21:\tlearn: 0.9007892\ttotal: 169ms\tremaining: 601ms\n",
            "22:\tlearn: 0.9019166\ttotal: 172ms\tremaining: 576ms\n",
            "23:\tlearn: 0.8985344\ttotal: 182ms\tremaining: 576ms\n",
            "24:\tlearn: 0.9007892\ttotal: 185ms\tremaining: 554ms\n",
            "25:\tlearn: 0.9030440\ttotal: 197ms\tremaining: 562ms\n",
            "26:\tlearn: 0.9041714\ttotal: 200ms\tremaining: 542ms\n",
            "27:\tlearn: 0.9052988\ttotal: 203ms\tremaining: 521ms\n",
            "28:\tlearn: 0.9064262\ttotal: 219ms\tremaining: 537ms\n",
            "29:\tlearn: 0.9064262\ttotal: 228ms\tremaining: 532ms\n",
            "30:\tlearn: 0.9041714\ttotal: 240ms\tremaining: 534ms\n",
            "31:\tlearn: 0.9052988\ttotal: 270ms\tremaining: 575ms\n",
            "32:\tlearn: 0.9098083\ttotal: 287ms\tremaining: 582ms\n",
            "33:\tlearn: 0.9098083\ttotal: 293ms\tremaining: 568ms\n",
            "34:\tlearn: 0.9098083\ttotal: 310ms\tremaining: 576ms\n",
            "35:\tlearn: 0.9109357\ttotal: 313ms\tremaining: 556ms\n",
            "36:\tlearn: 0.9131905\ttotal: 316ms\tremaining: 537ms\n",
            "37:\tlearn: 0.9154453\ttotal: 342ms\tremaining: 558ms\n",
            "38:\tlearn: 0.9154453\ttotal: 347ms\tremaining: 543ms\n",
            "39:\tlearn: 0.9154453\ttotal: 350ms\tremaining: 524ms\n",
            "40:\tlearn: 0.9154453\ttotal: 352ms\tremaining: 507ms\n",
            "41:\tlearn: 0.9165727\ttotal: 359ms\tremaining: 496ms\n",
            "42:\tlearn: 0.9154453\ttotal: 363ms\tremaining: 482ms\n",
            "43:\tlearn: 0.9165727\ttotal: 377ms\tremaining: 480ms\n",
            "44:\tlearn: 0.9165727\ttotal: 381ms\tremaining: 466ms\n",
            "45:\tlearn: 0.9177001\ttotal: 394ms\tremaining: 462ms\n",
            "46:\tlearn: 0.9188275\ttotal: 399ms\tremaining: 450ms\n",
            "47:\tlearn: 0.9199549\ttotal: 416ms\tremaining: 450ms\n",
            "48:\tlearn: 0.9210823\ttotal: 421ms\tremaining: 438ms\n",
            "49:\tlearn: 0.9188275\ttotal: 436ms\tremaining: 436ms\n",
            "50:\tlearn: 0.9210823\ttotal: 442ms\tremaining: 425ms\n",
            "51:\tlearn: 0.9222097\ttotal: 457ms\tremaining: 422ms\n",
            "52:\tlearn: 0.9233371\ttotal: 467ms\tremaining: 414ms\n",
            "53:\tlearn: 0.9255919\ttotal: 473ms\tremaining: 403ms\n",
            "54:\tlearn: 0.9267193\ttotal: 479ms\tremaining: 392ms\n",
            "55:\tlearn: 0.9244645\ttotal: 500ms\tremaining: 393ms\n",
            "56:\tlearn: 0.9244645\ttotal: 513ms\tremaining: 387ms\n",
            "57:\tlearn: 0.9244645\ttotal: 546ms\tremaining: 395ms\n",
            "58:\tlearn: 0.9244645\ttotal: 554ms\tremaining: 385ms\n",
            "59:\tlearn: 0.9278467\ttotal: 556ms\tremaining: 371ms\n",
            "60:\tlearn: 0.9278467\ttotal: 559ms\tremaining: 357ms\n",
            "61:\tlearn: 0.9278467\ttotal: 593ms\tremaining: 364ms\n",
            "62:\tlearn: 0.9278467\ttotal: 624ms\tremaining: 366ms\n",
            "63:\tlearn: 0.9278467\ttotal: 682ms\tremaining: 384ms\n",
            "64:\tlearn: 0.9301015\ttotal: 699ms\tremaining: 376ms\n",
            "65:\tlearn: 0.9289741\ttotal: 701ms\tremaining: 361ms\n",
            "66:\tlearn: 0.9301015\ttotal: 711ms\tremaining: 350ms\n",
            "67:\tlearn: 0.9301015\ttotal: 713ms\tremaining: 336ms\n",
            "68:\tlearn: 0.9289741\ttotal: 716ms\tremaining: 321ms\n",
            "69:\tlearn: 0.9301015\ttotal: 735ms\tremaining: 315ms\n",
            "70:\tlearn: 0.9301015\ttotal: 738ms\tremaining: 301ms\n",
            "71:\tlearn: 0.9312289\ttotal: 744ms\tremaining: 289ms\n",
            "72:\tlearn: 0.9312289\ttotal: 746ms\tremaining: 276ms\n",
            "73:\tlearn: 0.9346110\ttotal: 748ms\tremaining: 263ms\n",
            "74:\tlearn: 0.9346110\ttotal: 752ms\tremaining: 251ms\n",
            "75:\tlearn: 0.9334837\ttotal: 757ms\tremaining: 239ms\n",
            "76:\tlearn: 0.9346110\ttotal: 759ms\tremaining: 227ms\n",
            "77:\tlearn: 0.9346110\ttotal: 762ms\tremaining: 215ms\n",
            "78:\tlearn: 0.9357384\ttotal: 764ms\tremaining: 203ms\n",
            "79:\tlearn: 0.9357384\ttotal: 789ms\tremaining: 197ms\n",
            "80:\tlearn: 0.9357384\ttotal: 794ms\tremaining: 186ms\n",
            "81:\tlearn: 0.9357384\ttotal: 807ms\tremaining: 177ms\n",
            "82:\tlearn: 0.9368658\ttotal: 813ms\tremaining: 167ms\n",
            "83:\tlearn: 0.9368658\ttotal: 859ms\tremaining: 164ms\n",
            "84:\tlearn: 0.9368658\ttotal: 866ms\tremaining: 153ms\n",
            "85:\tlearn: 0.9368658\ttotal: 882ms\tremaining: 144ms\n",
            "86:\tlearn: 0.9368658\ttotal: 888ms\tremaining: 133ms\n",
            "87:\tlearn: 0.9368658\ttotal: 901ms\tremaining: 123ms\n",
            "88:\tlearn: 0.9357384\ttotal: 915ms\tremaining: 113ms\n",
            "89:\tlearn: 0.9368658\ttotal: 922ms\tremaining: 102ms\n",
            "90:\tlearn: 0.9379932\ttotal: 926ms\tremaining: 91.6ms\n",
            "91:\tlearn: 0.9379932\ttotal: 936ms\tremaining: 81.4ms\n",
            "92:\tlearn: 0.9379932\ttotal: 940ms\tremaining: 70.8ms\n",
            "93:\tlearn: 0.9379932\ttotal: 951ms\tremaining: 60.7ms\n",
            "94:\tlearn: 0.9379932\ttotal: 952ms\tremaining: 50.1ms\n",
            "95:\tlearn: 0.9379932\ttotal: 960ms\tremaining: 40ms\n",
            "96:\tlearn: 0.9379932\ttotal: 966ms\tremaining: 29.9ms\n",
            "97:\tlearn: 0.9379932\ttotal: 969ms\tremaining: 19.8ms\n",
            "98:\tlearn: 0.9368658\ttotal: 982ms\tremaining: 9.92ms\n",
            "99:\tlearn: 0.9368658\ttotal: 992ms\tremaining: 0us\n",
            "0:\tlearn: 0.8658399\ttotal: 7ms\tremaining: 693ms\n",
            "1:\tlearn: 0.8613303\ttotal: 9.17ms\tremaining: 449ms\n",
            "2:\tlearn: 0.8680947\ttotal: 17.7ms\tremaining: 572ms\n",
            "3:\tlearn: 0.8703495\ttotal: 24.3ms\tremaining: 583ms\n",
            "4:\tlearn: 0.8782413\ttotal: 28ms\tremaining: 532ms\n",
            "5:\tlearn: 0.8726043\ttotal: 30.4ms\tremaining: 476ms\n",
            "6:\tlearn: 0.8771139\ttotal: 38.3ms\tremaining: 509ms\n",
            "7:\tlearn: 0.8782413\ttotal: 49ms\tremaining: 563ms\n",
            "8:\tlearn: 0.8838782\ttotal: 56.7ms\tremaining: 574ms\n",
            "9:\tlearn: 0.8883878\ttotal: 63.3ms\tremaining: 569ms\n",
            "10:\tlearn: 0.8883878\ttotal: 78.7ms\tremaining: 636ms\n",
            "11:\tlearn: 0.8883878\ttotal: 83.6ms\tremaining: 613ms\n",
            "12:\tlearn: 0.8917700\ttotal: 93.1ms\tremaining: 623ms\n",
            "13:\tlearn: 0.8962796\ttotal: 97.4ms\tremaining: 598ms\n",
            "14:\tlearn: 0.8974070\ttotal: 105ms\tremaining: 596ms\n",
            "15:\tlearn: 0.8962796\ttotal: 118ms\tremaining: 619ms\n",
            "16:\tlearn: 0.8974070\ttotal: 128ms\tremaining: 624ms\n",
            "17:\tlearn: 0.8974070\ttotal: 138ms\tremaining: 628ms\n",
            "18:\tlearn: 0.8985344\ttotal: 144ms\tremaining: 615ms\n",
            "19:\tlearn: 0.9019166\ttotal: 151ms\tremaining: 604ms\n",
            "20:\tlearn: 0.8996618\ttotal: 171ms\tremaining: 644ms\n",
            "21:\tlearn: 0.8974070\ttotal: 178ms\tremaining: 633ms\n",
            "22:\tlearn: 0.8962796\ttotal: 187ms\tremaining: 624ms\n",
            "23:\tlearn: 0.9007892\ttotal: 195ms\tremaining: 617ms\n",
            "24:\tlearn: 0.9019166\ttotal: 212ms\tremaining: 636ms\n",
            "25:\tlearn: 0.9041714\ttotal: 226ms\tremaining: 644ms\n",
            "26:\tlearn: 0.9041714\ttotal: 233ms\tremaining: 631ms\n",
            "27:\tlearn: 0.9052988\ttotal: 245ms\tremaining: 631ms\n",
            "28:\tlearn: 0.9052988\ttotal: 259ms\tremaining: 634ms\n",
            "29:\tlearn: 0.9064262\ttotal: 266ms\tremaining: 621ms\n",
            "30:\tlearn: 0.9086809\ttotal: 271ms\tremaining: 604ms\n",
            "31:\tlearn: 0.9109357\ttotal: 276ms\tremaining: 586ms\n",
            "32:\tlearn: 0.9131905\ttotal: 283ms\tremaining: 575ms\n",
            "33:\tlearn: 0.9120631\ttotal: 291ms\tremaining: 565ms\n",
            "34:\tlearn: 0.9109357\ttotal: 299ms\tremaining: 555ms\n",
            "35:\tlearn: 0.9131905\ttotal: 306ms\tremaining: 545ms\n",
            "36:\tlearn: 0.9143179\ttotal: 326ms\tremaining: 554ms\n",
            "37:\tlearn: 0.9177001\ttotal: 330ms\tremaining: 538ms\n",
            "38:\tlearn: 0.9188275\ttotal: 338ms\tremaining: 529ms\n",
            "39:\tlearn: 0.9222097\ttotal: 346ms\tremaining: 519ms\n",
            "40:\tlearn: 0.9210823\ttotal: 355ms\tremaining: 511ms\n",
            "41:\tlearn: 0.9233371\ttotal: 358ms\tremaining: 494ms\n",
            "42:\tlearn: 0.9233371\ttotal: 364ms\tremaining: 482ms\n",
            "43:\tlearn: 0.9222097\ttotal: 369ms\tremaining: 469ms\n",
            "44:\tlearn: 0.9244645\ttotal: 376ms\tremaining: 460ms\n",
            "45:\tlearn: 0.9244645\ttotal: 384ms\tremaining: 450ms\n",
            "46:\tlearn: 0.9255919\ttotal: 391ms\tremaining: 441ms\n",
            "47:\tlearn: 0.9267193\ttotal: 399ms\tremaining: 433ms\n",
            "48:\tlearn: 0.9289741\ttotal: 408ms\tremaining: 425ms\n",
            "49:\tlearn: 0.9312289\ttotal: 412ms\tremaining: 412ms\n",
            "50:\tlearn: 0.9289741\ttotal: 416ms\tremaining: 400ms\n",
            "51:\tlearn: 0.9278467\ttotal: 420ms\tremaining: 388ms\n",
            "52:\tlearn: 0.9312289\ttotal: 429ms\tremaining: 380ms\n",
            "53:\tlearn: 0.9301015\ttotal: 436ms\tremaining: 371ms\n",
            "54:\tlearn: 0.9334837\ttotal: 445ms\tremaining: 364ms\n",
            "55:\tlearn: 0.9334837\ttotal: 451ms\tremaining: 354ms\n",
            "56:\tlearn: 0.9334837\ttotal: 462ms\tremaining: 349ms\n",
            "57:\tlearn: 0.9334837\ttotal: 466ms\tremaining: 338ms\n",
            "58:\tlearn: 0.9346110\ttotal: 475ms\tremaining: 330ms\n",
            "59:\tlearn: 0.9334837\ttotal: 483ms\tremaining: 322ms\n",
            "60:\tlearn: 0.9346110\ttotal: 489ms\tremaining: 313ms\n",
            "61:\tlearn: 0.9346110\ttotal: 496ms\tremaining: 304ms\n",
            "62:\tlearn: 0.9346110\ttotal: 504ms\tremaining: 296ms\n",
            "63:\tlearn: 0.9346110\ttotal: 507ms\tremaining: 285ms\n",
            "64:\tlearn: 0.9357384\ttotal: 516ms\tremaining: 278ms\n",
            "65:\tlearn: 0.9368658\ttotal: 524ms\tremaining: 270ms\n",
            "66:\tlearn: 0.9346110\ttotal: 535ms\tremaining: 263ms\n",
            "67:\tlearn: 0.9346110\ttotal: 543ms\tremaining: 256ms\n",
            "68:\tlearn: 0.9346110\ttotal: 549ms\tremaining: 246ms\n",
            "69:\tlearn: 0.9357384\ttotal: 555ms\tremaining: 238ms\n",
            "70:\tlearn: 0.9357384\ttotal: 562ms\tremaining: 230ms\n",
            "71:\tlearn: 0.9357384\ttotal: 569ms\tremaining: 221ms\n",
            "72:\tlearn: 0.9357384\ttotal: 575ms\tremaining: 213ms\n",
            "73:\tlearn: 0.9379932\ttotal: 582ms\tremaining: 205ms\n",
            "74:\tlearn: 0.9391206\ttotal: 586ms\tremaining: 195ms\n",
            "75:\tlearn: 0.9391206\ttotal: 594ms\tremaining: 188ms\n",
            "76:\tlearn: 0.9391206\ttotal: 597ms\tremaining: 178ms\n",
            "77:\tlearn: 0.9402480\ttotal: 599ms\tremaining: 169ms\n",
            "78:\tlearn: 0.9402480\ttotal: 603ms\tremaining: 160ms\n",
            "79:\tlearn: 0.9425028\ttotal: 606ms\tremaining: 152ms\n",
            "80:\tlearn: 0.9425028\ttotal: 609ms\tremaining: 143ms\n",
            "81:\tlearn: 0.9413754\ttotal: 612ms\tremaining: 134ms\n",
            "82:\tlearn: 0.9425028\ttotal: 615ms\tremaining: 126ms\n",
            "83:\tlearn: 0.9425028\ttotal: 618ms\tremaining: 118ms\n",
            "84:\tlearn: 0.9425028\ttotal: 621ms\tremaining: 110ms\n",
            "85:\tlearn: 0.9413754\ttotal: 624ms\tremaining: 102ms\n",
            "86:\tlearn: 0.9425028\ttotal: 627ms\tremaining: 93.7ms\n",
            "87:\tlearn: 0.9425028\ttotal: 636ms\tremaining: 86.7ms\n",
            "88:\tlearn: 0.9436302\ttotal: 640ms\tremaining: 79.1ms\n",
            "89:\tlearn: 0.9436302\ttotal: 642ms\tremaining: 71.3ms\n",
            "90:\tlearn: 0.9436302\ttotal: 644ms\tremaining: 63.7ms\n",
            "91:\tlearn: 0.9436302\ttotal: 651ms\tremaining: 56.6ms\n",
            "92:\tlearn: 0.9436302\ttotal: 660ms\tremaining: 49.6ms\n",
            "93:\tlearn: 0.9436302\ttotal: 662ms\tremaining: 42.3ms\n",
            "94:\tlearn: 0.9436302\ttotal: 671ms\tremaining: 35.3ms\n",
            "95:\tlearn: 0.9436302\ttotal: 675ms\tremaining: 28.1ms\n",
            "96:\tlearn: 0.9447576\ttotal: 680ms\tremaining: 21ms\n",
            "97:\tlearn: 0.9447576\ttotal: 682ms\tremaining: 13.9ms\n",
            "98:\tlearn: 0.9447576\ttotal: 694ms\tremaining: 7.01ms\n",
            "99:\tlearn: 0.9447576\ttotal: 705ms\tremaining: 0us\n",
            "0:\tlearn: 0.8771139\ttotal: 2.4ms\tremaining: 238ms\n",
            "1:\tlearn: 0.8556933\ttotal: 3.17ms\tremaining: 155ms\n",
            "2:\tlearn: 0.8658399\ttotal: 19.7ms\tremaining: 637ms\n",
            "3:\tlearn: 0.8669673\ttotal: 26.8ms\tremaining: 642ms\n",
            "4:\tlearn: 0.8782413\ttotal: 32.2ms\tremaining: 613ms\n",
            "5:\tlearn: 0.8759865\ttotal: 44.6ms\tremaining: 699ms\n",
            "6:\tlearn: 0.8804961\ttotal: 57.5ms\tremaining: 765ms\n",
            "7:\tlearn: 0.8838782\ttotal: 65.9ms\tremaining: 758ms\n",
            "8:\tlearn: 0.8850056\ttotal: 75.6ms\tremaining: 764ms\n",
            "9:\tlearn: 0.8872604\ttotal: 87.9ms\tremaining: 791ms\n",
            "10:\tlearn: 0.8872604\ttotal: 97.9ms\tremaining: 792ms\n",
            "11:\tlearn: 0.8917700\ttotal: 107ms\tremaining: 786ms\n",
            "12:\tlearn: 0.8951522\ttotal: 123ms\tremaining: 822ms\n",
            "13:\tlearn: 0.8985344\ttotal: 129ms\tremaining: 793ms\n",
            "14:\tlearn: 0.8951522\ttotal: 136ms\tremaining: 771ms\n",
            "15:\tlearn: 0.8928974\ttotal: 141ms\tremaining: 742ms\n",
            "16:\tlearn: 0.8928974\ttotal: 147ms\tremaining: 719ms\n",
            "17:\tlearn: 0.8951522\ttotal: 154ms\tremaining: 703ms\n",
            "18:\tlearn: 0.8940248\ttotal: 158ms\tremaining: 673ms\n",
            "19:\tlearn: 0.8985344\ttotal: 185ms\tremaining: 742ms\n",
            "20:\tlearn: 0.9019166\ttotal: 189ms\tremaining: 711ms\n",
            "21:\tlearn: 0.9052988\ttotal: 206ms\tremaining: 731ms\n",
            "22:\tlearn: 0.9052988\ttotal: 212ms\tremaining: 710ms\n",
            "23:\tlearn: 0.9052988\ttotal: 248ms\tremaining: 786ms\n",
            "24:\tlearn: 0.9064262\ttotal: 261ms\tremaining: 782ms\n",
            "25:\tlearn: 0.9075536\ttotal: 271ms\tremaining: 770ms\n",
            "26:\tlearn: 0.9120631\ttotal: 281ms\tremaining: 759ms\n",
            "27:\tlearn: 0.9109357\ttotal: 290ms\tremaining: 747ms\n",
            "28:\tlearn: 0.9120631\ttotal: 299ms\tremaining: 733ms\n",
            "29:\tlearn: 0.9120631\ttotal: 307ms\tremaining: 717ms\n",
            "30:\tlearn: 0.9143179\ttotal: 312ms\tremaining: 694ms\n",
            "31:\tlearn: 0.9143179\ttotal: 321ms\tremaining: 682ms\n",
            "32:\tlearn: 0.9154453\ttotal: 325ms\tremaining: 660ms\n",
            "33:\tlearn: 0.9154453\ttotal: 333ms\tremaining: 647ms\n",
            "34:\tlearn: 0.9154453\ttotal: 353ms\tremaining: 656ms\n",
            "35:\tlearn: 0.9154453\ttotal: 372ms\tremaining: 661ms\n",
            "36:\tlearn: 0.9165727\ttotal: 384ms\tremaining: 654ms\n",
            "37:\tlearn: 0.9165727\ttotal: 390ms\tremaining: 637ms\n",
            "38:\tlearn: 0.9199549\ttotal: 409ms\tremaining: 639ms\n",
            "39:\tlearn: 0.9199549\ttotal: 430ms\tremaining: 645ms\n",
            "40:\tlearn: 0.9210823\ttotal: 439ms\tremaining: 632ms\n",
            "41:\tlearn: 0.9222097\ttotal: 445ms\tremaining: 615ms\n",
            "42:\tlearn: 0.9177001\ttotal: 450ms\tremaining: 596ms\n",
            "43:\tlearn: 0.9188275\ttotal: 454ms\tremaining: 578ms\n",
            "44:\tlearn: 0.9188275\ttotal: 462ms\tremaining: 565ms\n",
            "45:\tlearn: 0.9210823\ttotal: 475ms\tremaining: 558ms\n",
            "46:\tlearn: 0.9244645\ttotal: 478ms\tremaining: 540ms\n",
            "47:\tlearn: 0.9233371\ttotal: 499ms\tremaining: 541ms\n",
            "48:\tlearn: 0.9233371\ttotal: 507ms\tremaining: 528ms\n",
            "49:\tlearn: 0.9233371\ttotal: 508ms\tremaining: 508ms\n",
            "50:\tlearn: 0.9278467\ttotal: 523ms\tremaining: 503ms\n",
            "51:\tlearn: 0.9255919\ttotal: 527ms\tremaining: 487ms\n",
            "52:\tlearn: 0.9267193\ttotal: 530ms\tremaining: 470ms\n",
            "53:\tlearn: 0.9255919\ttotal: 542ms\tremaining: 462ms\n",
            "54:\tlearn: 0.9278467\ttotal: 545ms\tremaining: 446ms\n",
            "55:\tlearn: 0.9278467\ttotal: 549ms\tremaining: 431ms\n",
            "56:\tlearn: 0.9278467\ttotal: 552ms\tremaining: 416ms\n",
            "57:\tlearn: 0.9278467\ttotal: 555ms\tremaining: 402ms\n",
            "58:\tlearn: 0.9278467\ttotal: 562ms\tremaining: 391ms\n",
            "59:\tlearn: 0.9289741\ttotal: 575ms\tremaining: 383ms\n",
            "60:\tlearn: 0.9289741\ttotal: 578ms\tremaining: 369ms\n",
            "61:\tlearn: 0.9289741\ttotal: 580ms\tremaining: 356ms\n",
            "62:\tlearn: 0.9301015\ttotal: 593ms\tremaining: 349ms\n",
            "63:\tlearn: 0.9312289\ttotal: 596ms\tremaining: 335ms\n",
            "64:\tlearn: 0.9301015\ttotal: 599ms\tremaining: 322ms\n",
            "65:\tlearn: 0.9323563\ttotal: 602ms\tremaining: 310ms\n",
            "66:\tlearn: 0.9312289\ttotal: 605ms\tremaining: 298ms\n",
            "67:\tlearn: 0.9323563\ttotal: 638ms\tremaining: 300ms\n",
            "68:\tlearn: 0.9312289\ttotal: 647ms\tremaining: 291ms\n",
            "69:\tlearn: 0.9334837\ttotal: 660ms\tremaining: 283ms\n",
            "70:\tlearn: 0.9312289\ttotal: 669ms\tremaining: 273ms\n",
            "71:\tlearn: 0.9312289\ttotal: 671ms\tremaining: 261ms\n",
            "72:\tlearn: 0.9334837\ttotal: 674ms\tremaining: 249ms\n",
            "73:\tlearn: 0.9346110\ttotal: 676ms\tremaining: 238ms\n",
            "74:\tlearn: 0.9346110\ttotal: 710ms\tremaining: 237ms\n",
            "75:\tlearn: 0.9357384\ttotal: 723ms\tremaining: 228ms\n",
            "76:\tlearn: 0.9346110\ttotal: 727ms\tremaining: 217ms\n",
            "77:\tlearn: 0.9346110\ttotal: 736ms\tremaining: 207ms\n",
            "78:\tlearn: 0.9368658\ttotal: 756ms\tremaining: 201ms\n",
            "79:\tlearn: 0.9368658\ttotal: 785ms\tremaining: 196ms\n",
            "80:\tlearn: 0.9368658\ttotal: 874ms\tremaining: 205ms\n",
            "81:\tlearn: 0.9368658\ttotal: 907ms\tremaining: 199ms\n",
            "82:\tlearn: 0.9368658\ttotal: 908ms\tremaining: 186ms\n",
            "83:\tlearn: 0.9368658\ttotal: 947ms\tremaining: 180ms\n",
            "84:\tlearn: 0.9368658\ttotal: 1.01s\tremaining: 178ms\n",
            "85:\tlearn: 0.9368658\ttotal: 1.02s\tremaining: 166ms\n",
            "86:\tlearn: 0.9368658\ttotal: 1.05s\tremaining: 157ms\n",
            "87:\tlearn: 0.9379932\ttotal: 1.07s\tremaining: 146ms\n",
            "88:\tlearn: 0.9379932\ttotal: 1.1s\tremaining: 136ms\n",
            "89:\tlearn: 0.9391206\ttotal: 1.14s\tremaining: 127ms\n",
            "90:\tlearn: 0.9413754\ttotal: 1.15s\tremaining: 113ms\n",
            "91:\tlearn: 0.9402480\ttotal: 1.16s\tremaining: 101ms\n",
            "92:\tlearn: 0.9391206\ttotal: 1.16s\tremaining: 87.4ms\n",
            "93:\tlearn: 0.9413754\ttotal: 1.16s\tremaining: 74.3ms\n",
            "94:\tlearn: 0.9413754\ttotal: 1.18s\tremaining: 62.3ms\n",
            "95:\tlearn: 0.9413754\ttotal: 1.19s\tremaining: 49.4ms\n",
            "96:\tlearn: 0.9402480\ttotal: 1.2s\tremaining: 37ms\n",
            "97:\tlearn: 0.9402480\ttotal: 1.2s\tremaining: 24.5ms\n",
            "98:\tlearn: 0.9402480\ttotal: 1.21s\tremaining: 12.2ms\n",
            "99:\tlearn: 0.9402480\ttotal: 1.23s\tremaining: 0us\n",
            "0:\tlearn: 0.8804961\ttotal: 4.68ms\tremaining: 464ms\n",
            "1:\tlearn: 0.8647125\ttotal: 5.5ms\tremaining: 269ms\n",
            "2:\tlearn: 0.8714769\ttotal: 17.1ms\tremaining: 554ms\n",
            "3:\tlearn: 0.8737317\ttotal: 19.7ms\tremaining: 473ms\n",
            "4:\tlearn: 0.8793687\ttotal: 22ms\tremaining: 418ms\n",
            "5:\tlearn: 0.8782413\ttotal: 43.7ms\tremaining: 685ms\n",
            "6:\tlearn: 0.8804961\ttotal: 46.9ms\tremaining: 623ms\n",
            "7:\tlearn: 0.8793687\ttotal: 49.5ms\tremaining: 569ms\n",
            "8:\tlearn: 0.8827508\ttotal: 72.8ms\tremaining: 736ms\n",
            "9:\tlearn: 0.8872604\ttotal: 83ms\tremaining: 747ms\n",
            "10:\tlearn: 0.8850056\ttotal: 155ms\tremaining: 1.25s\n",
            "11:\tlearn: 0.8850056\ttotal: 159ms\tremaining: 1.17s\n",
            "12:\tlearn: 0.8838782\ttotal: 174ms\tremaining: 1.16s\n",
            "13:\tlearn: 0.8838782\ttotal: 175ms\tremaining: 1.08s\n",
            "14:\tlearn: 0.8895152\ttotal: 181ms\tremaining: 1.03s\n",
            "15:\tlearn: 0.8861330\ttotal: 184ms\tremaining: 966ms\n",
            "16:\tlearn: 0.8883878\ttotal: 246ms\tremaining: 1.2s\n",
            "17:\tlearn: 0.8883878\ttotal: 248ms\tremaining: 1.13s\n",
            "18:\tlearn: 0.8906426\ttotal: 256ms\tremaining: 1.09s\n",
            "19:\tlearn: 0.8917700\ttotal: 258ms\tremaining: 1.03s\n",
            "20:\tlearn: 0.8928974\ttotal: 261ms\tremaining: 983ms\n",
            "21:\tlearn: 0.8962796\ttotal: 268ms\tremaining: 952ms\n",
            "22:\tlearn: 0.8974070\ttotal: 280ms\tremaining: 936ms\n",
            "23:\tlearn: 0.8985344\ttotal: 282ms\tremaining: 893ms\n",
            "24:\tlearn: 0.9030440\ttotal: 285ms\tremaining: 855ms\n",
            "25:\tlearn: 0.9075536\ttotal: 298ms\tremaining: 849ms\n",
            "26:\tlearn: 0.9041714\ttotal: 311ms\tremaining: 842ms\n",
            "27:\tlearn: 0.9052988\ttotal: 337ms\tremaining: 867ms\n",
            "28:\tlearn: 0.9075536\ttotal: 340ms\tremaining: 832ms\n",
            "29:\tlearn: 0.9086809\ttotal: 340ms\tremaining: 794ms\n",
            "30:\tlearn: 0.9098083\ttotal: 343ms\tremaining: 763ms\n",
            "31:\tlearn: 0.9075536\ttotal: 359ms\tremaining: 764ms\n",
            "32:\tlearn: 0.9086809\ttotal: 362ms\tremaining: 735ms\n",
            "33:\tlearn: 0.9086809\ttotal: 370ms\tremaining: 719ms\n",
            "34:\tlearn: 0.9131905\ttotal: 385ms\tremaining: 715ms\n",
            "35:\tlearn: 0.9098083\ttotal: 397ms\tremaining: 706ms\n",
            "36:\tlearn: 0.9109357\ttotal: 399ms\tremaining: 680ms\n",
            "37:\tlearn: 0.9131905\ttotal: 413ms\tremaining: 674ms\n",
            "38:\tlearn: 0.9109357\ttotal: 414ms\tremaining: 648ms\n",
            "39:\tlearn: 0.9131905\ttotal: 422ms\tremaining: 632ms\n",
            "40:\tlearn: 0.9120631\ttotal: 431ms\tremaining: 620ms\n",
            "41:\tlearn: 0.9120631\ttotal: 451ms\tremaining: 622ms\n",
            "42:\tlearn: 0.9120631\ttotal: 451ms\tremaining: 598ms\n",
            "43:\tlearn: 0.9120631\ttotal: 452ms\tremaining: 576ms\n",
            "44:\tlearn: 0.9109357\ttotal: 479ms\tremaining: 585ms\n",
            "45:\tlearn: 0.9165727\ttotal: 481ms\tremaining: 565ms\n",
            "46:\tlearn: 0.9154453\ttotal: 492ms\tremaining: 554ms\n",
            "47:\tlearn: 0.9165727\ttotal: 494ms\tremaining: 535ms\n",
            "48:\tlearn: 0.9165727\ttotal: 496ms\tremaining: 517ms\n",
            "49:\tlearn: 0.9165727\ttotal: 509ms\tremaining: 509ms\n",
            "50:\tlearn: 0.9165727\ttotal: 511ms\tremaining: 491ms\n",
            "51:\tlearn: 0.9165727\ttotal: 523ms\tremaining: 483ms\n",
            "52:\tlearn: 0.9165727\ttotal: 525ms\tremaining: 466ms\n",
            "53:\tlearn: 0.9143179\ttotal: 536ms\tremaining: 457ms\n",
            "54:\tlearn: 0.9177001\ttotal: 539ms\tremaining: 441ms\n",
            "55:\tlearn: 0.9199549\ttotal: 544ms\tremaining: 428ms\n",
            "56:\tlearn: 0.9199549\ttotal: 577ms\tremaining: 435ms\n",
            "57:\tlearn: 0.9210823\ttotal: 580ms\tremaining: 420ms\n",
            "58:\tlearn: 0.9222097\ttotal: 582ms\tremaining: 404ms\n",
            "59:\tlearn: 0.9233371\ttotal: 589ms\tremaining: 392ms\n",
            "60:\tlearn: 0.9233371\ttotal: 599ms\tremaining: 383ms\n",
            "61:\tlearn: 0.9222097\ttotal: 613ms\tremaining: 376ms\n",
            "62:\tlearn: 0.9233371\ttotal: 622ms\tremaining: 365ms\n",
            "63:\tlearn: 0.9222097\ttotal: 625ms\tremaining: 351ms\n",
            "64:\tlearn: 0.9222097\ttotal: 637ms\tremaining: 343ms\n",
            "65:\tlearn: 0.9210823\ttotal: 642ms\tremaining: 330ms\n",
            "66:\tlearn: 0.9210823\ttotal: 652ms\tremaining: 321ms\n",
            "67:\tlearn: 0.9244645\ttotal: 660ms\tremaining: 310ms\n",
            "68:\tlearn: 0.9244645\ttotal: 686ms\tremaining: 308ms\n",
            "69:\tlearn: 0.9267193\ttotal: 690ms\tremaining: 296ms\n",
            "70:\tlearn: 0.9255919\ttotal: 694ms\tremaining: 284ms\n",
            "71:\tlearn: 0.9289741\ttotal: 702ms\tremaining: 273ms\n",
            "72:\tlearn: 0.9278467\ttotal: 705ms\tremaining: 261ms\n",
            "73:\tlearn: 0.9289741\ttotal: 715ms\tremaining: 251ms\n",
            "74:\tlearn: 0.9301015\ttotal: 717ms\tremaining: 239ms\n",
            "75:\tlearn: 0.9301015\ttotal: 720ms\tremaining: 227ms\n",
            "76:\tlearn: 0.9312289\ttotal: 731ms\tremaining: 218ms\n",
            "77:\tlearn: 0.9312289\ttotal: 732ms\tremaining: 207ms\n",
            "78:\tlearn: 0.9323563\ttotal: 739ms\tremaining: 197ms\n",
            "79:\tlearn: 0.9323563\ttotal: 742ms\tremaining: 185ms\n",
            "80:\tlearn: 0.9323563\ttotal: 754ms\tremaining: 177ms\n",
            "81:\tlearn: 0.9323563\ttotal: 757ms\tremaining: 166ms\n",
            "82:\tlearn: 0.9334837\ttotal: 760ms\tremaining: 156ms\n",
            "83:\tlearn: 0.9357384\ttotal: 770ms\tremaining: 147ms\n",
            "84:\tlearn: 0.9357384\ttotal: 774ms\tremaining: 137ms\n",
            "85:\tlearn: 0.9357384\ttotal: 782ms\tremaining: 127ms\n",
            "86:\tlearn: 0.9346110\ttotal: 789ms\tremaining: 118ms\n",
            "87:\tlearn: 0.9368658\ttotal: 803ms\tremaining: 110ms\n",
            "88:\tlearn: 0.9368658\ttotal: 807ms\tremaining: 99.7ms\n",
            "89:\tlearn: 0.9346110\ttotal: 811ms\tremaining: 90.1ms\n",
            "90:\tlearn: 0.9346110\ttotal: 820ms\tremaining: 81.1ms\n",
            "91:\tlearn: 0.9357384\ttotal: 828ms\tremaining: 72ms\n",
            "92:\tlearn: 0.9346110\ttotal: 836ms\tremaining: 63ms\n",
            "93:\tlearn: 0.9334837\ttotal: 845ms\tremaining: 53.9ms\n",
            "94:\tlearn: 0.9334837\ttotal: 848ms\tremaining: 44.6ms\n",
            "95:\tlearn: 0.9334837\ttotal: 854ms\tremaining: 35.6ms\n",
            "96:\tlearn: 0.9334837\ttotal: 861ms\tremaining: 26.6ms\n",
            "97:\tlearn: 0.9357384\ttotal: 866ms\tremaining: 17.7ms\n",
            "98:\tlearn: 0.9357384\ttotal: 870ms\tremaining: 8.79ms\n",
            "99:\tlearn: 0.9357384\ttotal: 876ms\tremaining: 0us\n",
            "0:\tlearn: 0.8669673\ttotal: 4.58ms\tremaining: 454ms\n",
            "1:\tlearn: 0.8624577\ttotal: 9.97ms\tremaining: 489ms\n",
            "2:\tlearn: 0.8703495\ttotal: 14.7ms\tremaining: 476ms\n",
            "3:\tlearn: 0.8771139\ttotal: 24.7ms\tremaining: 592ms\n",
            "4:\tlearn: 0.8759865\ttotal: 29.8ms\tremaining: 566ms\n",
            "5:\tlearn: 0.8782413\ttotal: 39ms\tremaining: 610ms\n",
            "6:\tlearn: 0.8782413\ttotal: 45ms\tremaining: 597ms\n",
            "7:\tlearn: 0.8850056\ttotal: 53.6ms\tremaining: 616ms\n",
            "8:\tlearn: 0.8928974\ttotal: 60.3ms\tremaining: 609ms\n",
            "9:\tlearn: 0.8928974\ttotal: 68.4ms\tremaining: 616ms\n",
            "10:\tlearn: 0.8985344\ttotal: 82ms\tremaining: 664ms\n",
            "11:\tlearn: 0.8974070\ttotal: 89.2ms\tremaining: 654ms\n",
            "12:\tlearn: 0.8996618\ttotal: 94ms\tremaining: 629ms\n",
            "13:\tlearn: 0.8996618\ttotal: 103ms\tremaining: 632ms\n",
            "14:\tlearn: 0.8985344\ttotal: 104ms\tremaining: 592ms\n",
            "15:\tlearn: 0.8996618\ttotal: 113ms\tremaining: 593ms\n",
            "16:\tlearn: 0.9019166\ttotal: 122ms\tremaining: 594ms\n",
            "17:\tlearn: 0.9019166\ttotal: 130ms\tremaining: 592ms\n",
            "18:\tlearn: 0.9041714\ttotal: 134ms\tremaining: 571ms\n",
            "19:\tlearn: 0.9075536\ttotal: 142ms\tremaining: 568ms\n",
            "20:\tlearn: 0.9052988\ttotal: 149ms\tremaining: 562ms\n",
            "21:\tlearn: 0.9075536\ttotal: 153ms\tremaining: 543ms\n",
            "22:\tlearn: 0.9064262\ttotal: 162ms\tremaining: 543ms\n",
            "23:\tlearn: 0.9098083\ttotal: 171ms\tremaining: 542ms\n",
            "24:\tlearn: 0.9098083\ttotal: 180ms\tremaining: 540ms\n",
            "25:\tlearn: 0.9109357\ttotal: 190ms\tremaining: 542ms\n",
            "26:\tlearn: 0.9109357\ttotal: 198ms\tremaining: 536ms\n",
            "27:\tlearn: 0.9131905\ttotal: 203ms\tremaining: 523ms\n",
            "28:\tlearn: 0.9120631\ttotal: 221ms\tremaining: 541ms\n",
            "29:\tlearn: 0.9131905\ttotal: 234ms\tremaining: 547ms\n",
            "30:\tlearn: 0.9154453\ttotal: 242ms\tremaining: 539ms\n",
            "31:\tlearn: 0.9131905\ttotal: 253ms\tremaining: 538ms\n",
            "32:\tlearn: 0.9131905\ttotal: 264ms\tremaining: 536ms\n",
            "33:\tlearn: 0.9165727\ttotal: 277ms\tremaining: 538ms\n",
            "34:\tlearn: 0.9188275\ttotal: 283ms\tremaining: 525ms\n",
            "35:\tlearn: 0.9177001\ttotal: 296ms\tremaining: 527ms\n",
            "36:\tlearn: 0.9177001\ttotal: 297ms\tremaining: 506ms\n",
            "37:\tlearn: 0.9188275\ttotal: 323ms\tremaining: 526ms\n",
            "38:\tlearn: 0.9188275\ttotal: 332ms\tremaining: 520ms\n",
            "39:\tlearn: 0.9188275\ttotal: 341ms\tremaining: 512ms\n",
            "40:\tlearn: 0.9210823\ttotal: 345ms\tremaining: 497ms\n",
            "41:\tlearn: 0.9222097\ttotal: 371ms\tremaining: 513ms\n",
            "42:\tlearn: 0.9222097\ttotal: 384ms\tremaining: 509ms\n",
            "43:\tlearn: 0.9233371\ttotal: 395ms\tremaining: 503ms\n",
            "44:\tlearn: 0.9244645\ttotal: 399ms\tremaining: 487ms\n",
            "45:\tlearn: 0.9244645\ttotal: 418ms\tremaining: 490ms\n",
            "46:\tlearn: 0.9244645\ttotal: 438ms\tremaining: 494ms\n",
            "47:\tlearn: 0.9267193\ttotal: 456ms\tremaining: 493ms\n",
            "48:\tlearn: 0.9267193\ttotal: 470ms\tremaining: 489ms\n",
            "49:\tlearn: 0.9267193\ttotal: 486ms\tremaining: 486ms\n",
            "50:\tlearn: 0.9255919\ttotal: 502ms\tremaining: 482ms\n",
            "51:\tlearn: 0.9255919\ttotal: 517ms\tremaining: 477ms\n",
            "52:\tlearn: 0.9267193\ttotal: 529ms\tremaining: 469ms\n",
            "53:\tlearn: 0.9289741\ttotal: 534ms\tremaining: 455ms\n",
            "54:\tlearn: 0.9289741\ttotal: 548ms\tremaining: 449ms\n",
            "55:\tlearn: 0.9289741\ttotal: 586ms\tremaining: 460ms\n",
            "56:\tlearn: 0.9301015\ttotal: 598ms\tremaining: 451ms\n",
            "57:\tlearn: 0.9312289\ttotal: 619ms\tremaining: 448ms\n",
            "58:\tlearn: 0.9312289\ttotal: 622ms\tremaining: 432ms\n",
            "59:\tlearn: 0.9312289\ttotal: 630ms\tremaining: 420ms\n",
            "60:\tlearn: 0.9323563\ttotal: 633ms\tremaining: 405ms\n",
            "61:\tlearn: 0.9312289\ttotal: 635ms\tremaining: 389ms\n",
            "62:\tlearn: 0.9334837\ttotal: 646ms\tremaining: 380ms\n",
            "63:\tlearn: 0.9334837\ttotal: 649ms\tremaining: 365ms\n",
            "64:\tlearn: 0.9346110\ttotal: 653ms\tremaining: 351ms\n",
            "65:\tlearn: 0.9357384\ttotal: 667ms\tremaining: 344ms\n",
            "66:\tlearn: 0.9346110\ttotal: 670ms\tremaining: 330ms\n",
            "67:\tlearn: 0.9357384\ttotal: 672ms\tremaining: 316ms\n",
            "68:\tlearn: 0.9357384\ttotal: 677ms\tremaining: 304ms\n",
            "69:\tlearn: 0.9368658\ttotal: 680ms\tremaining: 291ms\n",
            "70:\tlearn: 0.9368658\ttotal: 683ms\tremaining: 279ms\n",
            "71:\tlearn: 0.9368658\ttotal: 686ms\tremaining: 267ms\n",
            "72:\tlearn: 0.9368658\ttotal: 688ms\tremaining: 255ms\n",
            "73:\tlearn: 0.9368658\ttotal: 691ms\tremaining: 243ms\n",
            "74:\tlearn: 0.9368658\ttotal: 694ms\tremaining: 231ms\n",
            "75:\tlearn: 0.9368658\ttotal: 696ms\tremaining: 220ms\n",
            "76:\tlearn: 0.9368658\ttotal: 702ms\tremaining: 210ms\n",
            "77:\tlearn: 0.9379932\ttotal: 704ms\tremaining: 199ms\n",
            "78:\tlearn: 0.9379932\ttotal: 707ms\tremaining: 188ms\n",
            "79:\tlearn: 0.9368658\ttotal: 710ms\tremaining: 177ms\n",
            "80:\tlearn: 0.9368658\ttotal: 712ms\tremaining: 167ms\n",
            "81:\tlearn: 0.9368658\ttotal: 714ms\tremaining: 157ms\n",
            "82:\tlearn: 0.9368658\ttotal: 717ms\tremaining: 147ms\n",
            "83:\tlearn: 0.9368658\ttotal: 720ms\tremaining: 137ms\n",
            "84:\tlearn: 0.9368658\ttotal: 721ms\tremaining: 127ms\n",
            "85:\tlearn: 0.9368658\ttotal: 723ms\tremaining: 118ms\n",
            "86:\tlearn: 0.9368658\ttotal: 725ms\tremaining: 108ms\n",
            "87:\tlearn: 0.9368658\ttotal: 728ms\tremaining: 99.2ms\n",
            "88:\tlearn: 0.9368658\ttotal: 730ms\tremaining: 90.2ms\n",
            "89:\tlearn: 0.9368658\ttotal: 735ms\tremaining: 81.6ms\n",
            "90:\tlearn: 0.9368658\ttotal: 745ms\tremaining: 73.7ms\n",
            "91:\tlearn: 0.9368658\ttotal: 748ms\tremaining: 65ms\n",
            "92:\tlearn: 0.9368658\ttotal: 751ms\tremaining: 56.5ms\n",
            "93:\tlearn: 0.9379932\ttotal: 755ms\tremaining: 48.2ms\n",
            "94:\tlearn: 0.9379932\ttotal: 755ms\tremaining: 39.8ms\n",
            "95:\tlearn: 0.9379932\ttotal: 758ms\tremaining: 31.6ms\n",
            "96:\tlearn: 0.9391206\ttotal: 760ms\tremaining: 23.5ms\n",
            "97:\tlearn: 0.9391206\ttotal: 763ms\tremaining: 15.6ms\n",
            "98:\tlearn: 0.9391206\ttotal: 766ms\tremaining: 7.74ms\n",
            "99:\tlearn: 0.9391206\ttotal: 769ms\tremaining: 0us\n",
            "0:\tlearn: 0.8759865\ttotal: 13.3ms\tremaining: 1.31s\n",
            "1:\tlearn: 0.8545660\ttotal: 16.4ms\tremaining: 805ms\n",
            "2:\tlearn: 0.8647125\ttotal: 29.2ms\tremaining: 945ms\n",
            "3:\tlearn: 0.8748591\ttotal: 36.4ms\tremaining: 873ms\n",
            "4:\tlearn: 0.8759865\ttotal: 49.2ms\tremaining: 935ms\n",
            "5:\tlearn: 0.8726043\ttotal: 57.9ms\tremaining: 907ms\n",
            "6:\tlearn: 0.8748591\ttotal: 63.5ms\tremaining: 844ms\n",
            "7:\tlearn: 0.8771139\ttotal: 82.5ms\tremaining: 948ms\n",
            "8:\tlearn: 0.8838782\ttotal: 86ms\tremaining: 869ms\n",
            "9:\tlearn: 0.8861330\ttotal: 89.1ms\tremaining: 802ms\n",
            "10:\tlearn: 0.8861330\ttotal: 91.9ms\tremaining: 743ms\n",
            "11:\tlearn: 0.8895152\ttotal: 94.5ms\tremaining: 693ms\n",
            "12:\tlearn: 0.8883878\ttotal: 103ms\tremaining: 688ms\n",
            "13:\tlearn: 0.8940248\ttotal: 108ms\tremaining: 662ms\n",
            "14:\tlearn: 0.8906426\ttotal: 111ms\tremaining: 627ms\n",
            "15:\tlearn: 0.8928974\ttotal: 114ms\tremaining: 596ms\n",
            "16:\tlearn: 0.8951522\ttotal: 116ms\tremaining: 568ms\n",
            "17:\tlearn: 0.8940248\ttotal: 119ms\tremaining: 542ms\n",
            "18:\tlearn: 0.8974070\ttotal: 122ms\tremaining: 519ms\n",
            "19:\tlearn: 0.8962796\ttotal: 126ms\tremaining: 504ms\n",
            "20:\tlearn: 0.9030440\ttotal: 129ms\tremaining: 484ms\n",
            "21:\tlearn: 0.9064262\ttotal: 131ms\tremaining: 465ms\n",
            "22:\tlearn: 0.9064262\ttotal: 134ms\tremaining: 447ms\n",
            "23:\tlearn: 0.9052988\ttotal: 136ms\tremaining: 432ms\n",
            "24:\tlearn: 0.9041714\ttotal: 140ms\tremaining: 421ms\n",
            "25:\tlearn: 0.9041714\ttotal: 143ms\tremaining: 407ms\n",
            "26:\tlearn: 0.9064262\ttotal: 146ms\tremaining: 394ms\n",
            "27:\tlearn: 0.9075536\ttotal: 148ms\tremaining: 381ms\n",
            "28:\tlearn: 0.9086809\ttotal: 151ms\tremaining: 369ms\n",
            "29:\tlearn: 0.9098083\ttotal: 154ms\tremaining: 360ms\n",
            "30:\tlearn: 0.9109357\ttotal: 157ms\tremaining: 349ms\n",
            "31:\tlearn: 0.9131905\ttotal: 159ms\tremaining: 338ms\n",
            "32:\tlearn: 0.9131905\ttotal: 162ms\tremaining: 329ms\n",
            "33:\tlearn: 0.9131905\ttotal: 163ms\tremaining: 316ms\n",
            "34:\tlearn: 0.9154453\ttotal: 165ms\tremaining: 307ms\n",
            "35:\tlearn: 0.9165727\ttotal: 170ms\tremaining: 302ms\n",
            "36:\tlearn: 0.9177001\ttotal: 172ms\tremaining: 293ms\n",
            "37:\tlearn: 0.9188275\ttotal: 175ms\tremaining: 285ms\n",
            "38:\tlearn: 0.9210823\ttotal: 181ms\tremaining: 283ms\n",
            "39:\tlearn: 0.9210823\ttotal: 185ms\tremaining: 278ms\n",
            "40:\tlearn: 0.9255919\ttotal: 188ms\tremaining: 271ms\n",
            "41:\tlearn: 0.9267193\ttotal: 191ms\tremaining: 264ms\n",
            "42:\tlearn: 0.9255919\ttotal: 194ms\tremaining: 257ms\n",
            "43:\tlearn: 0.9267193\ttotal: 197ms\tremaining: 251ms\n",
            "44:\tlearn: 0.9267193\ttotal: 207ms\tremaining: 253ms\n",
            "45:\tlearn: 0.9289741\ttotal: 211ms\tremaining: 248ms\n",
            "46:\tlearn: 0.9301015\ttotal: 214ms\tremaining: 241ms\n",
            "47:\tlearn: 0.9323563\ttotal: 217ms\tremaining: 235ms\n",
            "48:\tlearn: 0.9323563\ttotal: 219ms\tremaining: 228ms\n",
            "49:\tlearn: 0.9323563\ttotal: 223ms\tremaining: 223ms\n",
            "50:\tlearn: 0.9312289\ttotal: 226ms\tremaining: 217ms\n",
            "51:\tlearn: 0.9312289\ttotal: 228ms\tremaining: 211ms\n",
            "52:\tlearn: 0.9312289\ttotal: 231ms\tremaining: 205ms\n",
            "53:\tlearn: 0.9334837\ttotal: 234ms\tremaining: 200ms\n",
            "54:\tlearn: 0.9323563\ttotal: 239ms\tremaining: 195ms\n",
            "55:\tlearn: 0.9312289\ttotal: 244ms\tremaining: 192ms\n",
            "56:\tlearn: 0.9323563\ttotal: 265ms\tremaining: 200ms\n",
            "57:\tlearn: 0.9323563\ttotal: 274ms\tremaining: 198ms\n",
            "58:\tlearn: 0.9323563\ttotal: 281ms\tremaining: 195ms\n",
            "59:\tlearn: 0.9334837\ttotal: 286ms\tremaining: 191ms\n",
            "60:\tlearn: 0.9334837\ttotal: 294ms\tremaining: 188ms\n",
            "61:\tlearn: 0.9334837\ttotal: 301ms\tremaining: 185ms\n",
            "62:\tlearn: 0.9334837\ttotal: 308ms\tremaining: 181ms\n",
            "63:\tlearn: 0.9334837\ttotal: 312ms\tremaining: 175ms\n",
            "64:\tlearn: 0.9346110\ttotal: 314ms\tremaining: 169ms\n",
            "65:\tlearn: 0.9346110\ttotal: 317ms\tremaining: 163ms\n",
            "66:\tlearn: 0.9357384\ttotal: 320ms\tremaining: 158ms\n",
            "67:\tlearn: 0.9368658\ttotal: 324ms\tremaining: 152ms\n",
            "68:\tlearn: 0.9368658\ttotal: 326ms\tremaining: 147ms\n",
            "69:\tlearn: 0.9368658\ttotal: 330ms\tremaining: 141ms\n",
            "70:\tlearn: 0.9379932\ttotal: 332ms\tremaining: 136ms\n",
            "71:\tlearn: 0.9379932\ttotal: 335ms\tremaining: 130ms\n",
            "72:\tlearn: 0.9368658\ttotal: 339ms\tremaining: 126ms\n",
            "73:\tlearn: 0.9368658\ttotal: 343ms\tremaining: 120ms\n",
            "74:\tlearn: 0.9379932\ttotal: 345ms\tremaining: 115ms\n",
            "75:\tlearn: 0.9379932\ttotal: 348ms\tremaining: 110ms\n",
            "76:\tlearn: 0.9379932\ttotal: 352ms\tremaining: 105ms\n",
            "77:\tlearn: 0.9379932\ttotal: 355ms\tremaining: 100ms\n",
            "78:\tlearn: 0.9402480\ttotal: 358ms\tremaining: 95.1ms\n",
            "79:\tlearn: 0.9391206\ttotal: 360ms\tremaining: 90ms\n",
            "80:\tlearn: 0.9379932\ttotal: 363ms\tremaining: 85.3ms\n",
            "81:\tlearn: 0.9379932\ttotal: 367ms\tremaining: 80.6ms\n",
            "82:\tlearn: 0.9379932\ttotal: 371ms\tremaining: 75.9ms\n",
            "83:\tlearn: 0.9402480\ttotal: 373ms\tremaining: 71.1ms\n",
            "84:\tlearn: 0.9402480\ttotal: 377ms\tremaining: 66.5ms\n",
            "85:\tlearn: 0.9402480\ttotal: 378ms\tremaining: 61.5ms\n",
            "86:\tlearn: 0.9402480\ttotal: 381ms\tremaining: 56.9ms\n",
            "87:\tlearn: 0.9402480\ttotal: 384ms\tremaining: 52.3ms\n",
            "88:\tlearn: 0.9391206\ttotal: 387ms\tremaining: 47.8ms\n",
            "89:\tlearn: 0.9413754\ttotal: 394ms\tremaining: 43.8ms\n",
            "90:\tlearn: 0.9413754\ttotal: 398ms\tremaining: 39.3ms\n",
            "91:\tlearn: 0.9391206\ttotal: 410ms\tremaining: 35.7ms\n",
            "92:\tlearn: 0.9391206\ttotal: 413ms\tremaining: 31.1ms\n",
            "93:\tlearn: 0.9391206\ttotal: 416ms\tremaining: 26.5ms\n",
            "94:\tlearn: 0.9402480\ttotal: 419ms\tremaining: 22ms\n",
            "95:\tlearn: 0.9402480\ttotal: 431ms\tremaining: 18ms\n",
            "96:\tlearn: 0.9402480\ttotal: 434ms\tremaining: 13.4ms\n",
            "97:\tlearn: 0.9402480\ttotal: 440ms\tremaining: 8.98ms\n",
            "98:\tlearn: 0.9402480\ttotal: 443ms\tremaining: 4.47ms\n",
            "99:\tlearn: 0.9402480\ttotal: 445ms\tremaining: 0us\n",
            "0:\tlearn: 0.8308906\ttotal: 690us\tremaining: 68.3ms\n",
            "1:\tlearn: 0.8331454\ttotal: 3.6ms\tremaining: 176ms\n",
            "2:\tlearn: 0.8308906\ttotal: 4.23ms\tremaining: 137ms\n",
            "3:\tlearn: 0.8365276\ttotal: 5.22ms\tremaining: 125ms\n",
            "4:\tlearn: 0.8478016\ttotal: 8.75ms\tremaining: 166ms\n",
            "5:\tlearn: 0.8545660\ttotal: 29.5ms\tremaining: 463ms\n",
            "6:\tlearn: 0.8624577\ttotal: 40.7ms\tremaining: 540ms\n",
            "7:\tlearn: 0.8658399\ttotal: 81.3ms\tremaining: 935ms\n",
            "8:\tlearn: 0.8703495\ttotal: 92.1ms\tremaining: 931ms\n",
            "9:\tlearn: 0.8726043\ttotal: 111ms\tremaining: 1s\n",
            "10:\tlearn: 0.8714769\ttotal: 123ms\tremaining: 995ms\n",
            "11:\tlearn: 0.8726043\ttotal: 148ms\tremaining: 1.08s\n",
            "12:\tlearn: 0.8771139\ttotal: 172ms\tremaining: 1.15s\n",
            "13:\tlearn: 0.8737317\ttotal: 184ms\tremaining: 1.13s\n",
            "14:\tlearn: 0.8838782\ttotal: 199ms\tremaining: 1.13s\n",
            "15:\tlearn: 0.8861330\ttotal: 219ms\tremaining: 1.15s\n",
            "16:\tlearn: 0.8883878\ttotal: 229ms\tremaining: 1.12s\n",
            "17:\tlearn: 0.8895152\ttotal: 240ms\tremaining: 1.09s\n",
            "18:\tlearn: 0.8928974\ttotal: 250ms\tremaining: 1.07s\n",
            "19:\tlearn: 0.8940248\ttotal: 261ms\tremaining: 1.04s\n",
            "20:\tlearn: 0.8951522\ttotal: 276ms\tremaining: 1.04s\n",
            "21:\tlearn: 0.8951522\ttotal: 288ms\tremaining: 1.02s\n",
            "22:\tlearn: 0.8974070\ttotal: 298ms\tremaining: 996ms\n",
            "23:\tlearn: 0.9019166\ttotal: 300ms\tremaining: 950ms\n",
            "24:\tlearn: 0.9086809\ttotal: 320ms\tremaining: 961ms\n",
            "25:\tlearn: 0.9098083\ttotal: 333ms\tremaining: 947ms\n",
            "26:\tlearn: 0.9120631\ttotal: 349ms\tremaining: 945ms\n",
            "27:\tlearn: 0.9120631\ttotal: 352ms\tremaining: 905ms\n",
            "28:\tlearn: 0.9131905\ttotal: 353ms\tremaining: 864ms\n",
            "29:\tlearn: 0.9131905\ttotal: 369ms\tremaining: 862ms\n",
            "30:\tlearn: 0.9143179\ttotal: 372ms\tremaining: 827ms\n",
            "31:\tlearn: 0.9131905\ttotal: 394ms\tremaining: 838ms\n",
            "32:\tlearn: 0.9154453\ttotal: 395ms\tremaining: 802ms\n",
            "33:\tlearn: 0.9154453\ttotal: 405ms\tremaining: 787ms\n",
            "34:\tlearn: 0.9154453\ttotal: 416ms\tremaining: 772ms\n",
            "35:\tlearn: 0.9154453\ttotal: 435ms\tremaining: 774ms\n",
            "36:\tlearn: 0.9165727\ttotal: 442ms\tremaining: 753ms\n",
            "37:\tlearn: 0.9188275\ttotal: 507ms\tremaining: 827ms\n",
            "38:\tlearn: 0.9199549\ttotal: 509ms\tremaining: 797ms\n",
            "39:\tlearn: 0.9210823\ttotal: 522ms\tremaining: 782ms\n",
            "40:\tlearn: 0.9210823\ttotal: 534ms\tremaining: 768ms\n",
            "41:\tlearn: 0.9210823\ttotal: 553ms\tremaining: 763ms\n",
            "42:\tlearn: 0.9233371\ttotal: 555ms\tremaining: 736ms\n",
            "43:\tlearn: 0.9233371\ttotal: 556ms\tremaining: 707ms\n",
            "44:\tlearn: 0.9233371\ttotal: 558ms\tremaining: 682ms\n",
            "45:\tlearn: 0.9244645\ttotal: 572ms\tremaining: 672ms\n",
            "46:\tlearn: 0.9244645\ttotal: 587ms\tremaining: 662ms\n",
            "47:\tlearn: 0.9255919\ttotal: 590ms\tremaining: 639ms\n",
            "48:\tlearn: 0.9255919\ttotal: 604ms\tremaining: 629ms\n",
            "49:\tlearn: 0.9244645\ttotal: 614ms\tremaining: 614ms\n",
            "50:\tlearn: 0.9267193\ttotal: 630ms\tremaining: 605ms\n",
            "51:\tlearn: 0.9267193\ttotal: 632ms\tremaining: 584ms\n",
            "52:\tlearn: 0.9267193\ttotal: 635ms\tremaining: 563ms\n",
            "53:\tlearn: 0.9267193\ttotal: 649ms\tremaining: 553ms\n",
            "54:\tlearn: 0.9289741\ttotal: 660ms\tremaining: 540ms\n",
            "55:\tlearn: 0.9278467\ttotal: 663ms\tremaining: 521ms\n",
            "56:\tlearn: 0.9278467\ttotal: 683ms\tremaining: 515ms\n",
            "57:\tlearn: 0.9312289\ttotal: 699ms\tremaining: 506ms\n",
            "58:\tlearn: 0.9301015\ttotal: 702ms\tremaining: 488ms\n",
            "59:\tlearn: 0.9301015\ttotal: 719ms\tremaining: 479ms\n",
            "60:\tlearn: 0.9312289\ttotal: 722ms\tremaining: 461ms\n",
            "61:\tlearn: 0.9323563\ttotal: 744ms\tremaining: 456ms\n",
            "62:\tlearn: 0.9334837\ttotal: 747ms\tremaining: 439ms\n",
            "63:\tlearn: 0.9334837\ttotal: 769ms\tremaining: 432ms\n",
            "64:\tlearn: 0.9323563\ttotal: 771ms\tremaining: 415ms\n",
            "65:\tlearn: 0.9334837\ttotal: 778ms\tremaining: 401ms\n",
            "66:\tlearn: 0.9346110\ttotal: 780ms\tremaining: 384ms\n",
            "67:\tlearn: 0.9368658\ttotal: 797ms\tremaining: 375ms\n",
            "68:\tlearn: 0.9357384\ttotal: 809ms\tremaining: 364ms\n",
            "69:\tlearn: 0.9379932\ttotal: 812ms\tremaining: 348ms\n",
            "70:\tlearn: 0.9379932\ttotal: 827ms\tremaining: 338ms\n",
            "71:\tlearn: 0.9379932\ttotal: 829ms\tremaining: 323ms\n",
            "72:\tlearn: 0.9357384\ttotal: 860ms\tremaining: 318ms\n",
            "73:\tlearn: 0.9379932\ttotal: 867ms\tremaining: 305ms\n",
            "74:\tlearn: 0.9379932\ttotal: 872ms\tremaining: 291ms\n",
            "75:\tlearn: 0.9379932\ttotal: 888ms\tremaining: 280ms\n",
            "76:\tlearn: 0.9379932\ttotal: 890ms\tremaining: 266ms\n",
            "77:\tlearn: 0.9391206\ttotal: 910ms\tremaining: 257ms\n",
            "78:\tlearn: 0.9379932\ttotal: 927ms\tremaining: 246ms\n",
            "79:\tlearn: 0.9379932\ttotal: 944ms\tremaining: 236ms\n",
            "80:\tlearn: 0.9368658\ttotal: 947ms\tremaining: 222ms\n",
            "81:\tlearn: 0.9379932\ttotal: 963ms\tremaining: 211ms\n",
            "82:\tlearn: 0.9379932\ttotal: 974ms\tremaining: 200ms\n",
            "83:\tlearn: 0.9379932\ttotal: 977ms\tremaining: 186ms\n",
            "84:\tlearn: 0.9368658\ttotal: 1s\tremaining: 177ms\n",
            "85:\tlearn: 0.9368658\ttotal: 1.01s\tremaining: 165ms\n",
            "86:\tlearn: 0.9391206\ttotal: 1.03s\tremaining: 154ms\n",
            "87:\tlearn: 0.9391206\ttotal: 1.03s\tremaining: 141ms\n",
            "88:\tlearn: 0.9379932\ttotal: 1.09s\tremaining: 135ms\n",
            "89:\tlearn: 0.9379932\ttotal: 1.1s\tremaining: 122ms\n",
            "90:\tlearn: 0.9379932\ttotal: 1.11s\tremaining: 110ms\n",
            "91:\tlearn: 0.9391206\ttotal: 1.12s\tremaining: 97.7ms\n",
            "92:\tlearn: 0.9391206\ttotal: 1.14s\tremaining: 85.6ms\n",
            "93:\tlearn: 0.9379932\ttotal: 1.16s\tremaining: 73.8ms\n",
            "94:\tlearn: 0.9379932\ttotal: 1.17s\tremaining: 61.8ms\n",
            "95:\tlearn: 0.9391206\ttotal: 1.2s\tremaining: 50.1ms\n",
            "96:\tlearn: 0.9391206\ttotal: 1.21s\tremaining: 37.3ms\n",
            "97:\tlearn: 0.9391206\ttotal: 1.22s\tremaining: 24.9ms\n",
            "98:\tlearn: 0.9391206\ttotal: 1.22s\tremaining: 12.4ms\n",
            "99:\tlearn: 0.9402480\ttotal: 1.25s\tremaining: 0us\n",
            "0:\tlearn: 0.8669673\ttotal: 17.3ms\tremaining: 1.71s\n",
            "1:\tlearn: 0.8556933\ttotal: 18.4ms\tremaining: 901ms\n",
            "2:\tlearn: 0.8748591\ttotal: 34.1ms\tremaining: 1.1s\n",
            "3:\tlearn: 0.8737317\ttotal: 60.1ms\tremaining: 1.44s\n",
            "4:\tlearn: 0.8726043\ttotal: 83.9ms\tremaining: 1.59s\n",
            "5:\tlearn: 0.8692221\ttotal: 87.1ms\tremaining: 1.36s\n",
            "6:\tlearn: 0.8703495\ttotal: 104ms\tremaining: 1.39s\n",
            "7:\tlearn: 0.8726043\ttotal: 110ms\tremaining: 1.27s\n",
            "8:\tlearn: 0.8771139\ttotal: 125ms\tremaining: 1.26s\n",
            "9:\tlearn: 0.8782413\ttotal: 133ms\tremaining: 1.2s\n",
            "10:\tlearn: 0.8793687\ttotal: 150ms\tremaining: 1.21s\n",
            "11:\tlearn: 0.8883878\ttotal: 160ms\tremaining: 1.18s\n",
            "12:\tlearn: 0.8872604\ttotal: 171ms\tremaining: 1.14s\n",
            "13:\tlearn: 0.8906426\ttotal: 177ms\tremaining: 1.08s\n",
            "14:\tlearn: 0.8917700\ttotal: 192ms\tremaining: 1.09s\n",
            "15:\tlearn: 0.8895152\ttotal: 198ms\tremaining: 1.04s\n",
            "16:\tlearn: 0.8940248\ttotal: 210ms\tremaining: 1.03s\n",
            "17:\tlearn: 0.8940248\ttotal: 215ms\tremaining: 980ms\n",
            "18:\tlearn: 0.8917700\ttotal: 234ms\tremaining: 999ms\n",
            "19:\tlearn: 0.8940248\ttotal: 247ms\tremaining: 988ms\n",
            "20:\tlearn: 0.8996618\ttotal: 260ms\tremaining: 980ms\n",
            "21:\tlearn: 0.8962796\ttotal: 275ms\tremaining: 975ms\n",
            "22:\tlearn: 0.9007892\ttotal: 296ms\tremaining: 990ms\n",
            "23:\tlearn: 0.9030440\ttotal: 301ms\tremaining: 955ms\n",
            "24:\tlearn: 0.8962796\ttotal: 306ms\tremaining: 919ms\n",
            "25:\tlearn: 0.8974070\ttotal: 323ms\tremaining: 919ms\n",
            "26:\tlearn: 0.8962796\ttotal: 337ms\tremaining: 911ms\n",
            "27:\tlearn: 0.8996618\ttotal: 351ms\tremaining: 902ms\n",
            "28:\tlearn: 0.9019166\ttotal: 364ms\tremaining: 891ms\n",
            "29:\tlearn: 0.9064262\ttotal: 373ms\tremaining: 870ms\n",
            "30:\tlearn: 0.9064262\ttotal: 396ms\tremaining: 882ms\n",
            "31:\tlearn: 0.9064262\ttotal: 402ms\tremaining: 854ms\n",
            "32:\tlearn: 0.9086809\ttotal: 417ms\tremaining: 847ms\n",
            "33:\tlearn: 0.9098083\ttotal: 421ms\tremaining: 818ms\n",
            "34:\tlearn: 0.9086809\ttotal: 422ms\tremaining: 783ms\n",
            "35:\tlearn: 0.9120631\ttotal: 446ms\tremaining: 792ms\n",
            "36:\tlearn: 0.9143179\ttotal: 452ms\tremaining: 770ms\n",
            "37:\tlearn: 0.9154453\ttotal: 464ms\tremaining: 757ms\n",
            "38:\tlearn: 0.9131905\ttotal: 477ms\tremaining: 746ms\n",
            "39:\tlearn: 0.9154453\ttotal: 481ms\tremaining: 721ms\n",
            "40:\tlearn: 0.9154453\ttotal: 502ms\tremaining: 722ms\n",
            "41:\tlearn: 0.9154453\ttotal: 506ms\tremaining: 698ms\n",
            "42:\tlearn: 0.9165727\ttotal: 520ms\tremaining: 689ms\n",
            "43:\tlearn: 0.9177001\ttotal: 526ms\tremaining: 670ms\n",
            "44:\tlearn: 0.9199549\ttotal: 541ms\tremaining: 662ms\n",
            "45:\tlearn: 0.9210823\ttotal: 552ms\tremaining: 648ms\n",
            "46:\tlearn: 0.9210823\ttotal: 574ms\tremaining: 647ms\n",
            "47:\tlearn: 0.9210823\ttotal: 579ms\tremaining: 627ms\n",
            "48:\tlearn: 0.9222097\ttotal: 591ms\tremaining: 615ms\n",
            "49:\tlearn: 0.9222097\ttotal: 597ms\tremaining: 597ms\n",
            "50:\tlearn: 0.9199549\ttotal: 610ms\tremaining: 587ms\n",
            "51:\tlearn: 0.9199549\ttotal: 629ms\tremaining: 580ms\n",
            "52:\tlearn: 0.9199549\ttotal: 635ms\tremaining: 563ms\n",
            "53:\tlearn: 0.9210823\ttotal: 638ms\tremaining: 543ms\n",
            "54:\tlearn: 0.9210823\ttotal: 640ms\tremaining: 524ms\n",
            "55:\tlearn: 0.9210823\ttotal: 655ms\tremaining: 514ms\n",
            "56:\tlearn: 0.9222097\ttotal: 657ms\tremaining: 496ms\n",
            "57:\tlearn: 0.9255919\ttotal: 670ms\tremaining: 485ms\n",
            "58:\tlearn: 0.9267193\ttotal: 673ms\tremaining: 468ms\n",
            "59:\tlearn: 0.9278467\ttotal: 676ms\tremaining: 451ms\n",
            "60:\tlearn: 0.9278467\ttotal: 678ms\tremaining: 434ms\n",
            "61:\tlearn: 0.9289741\ttotal: 697ms\tremaining: 427ms\n",
            "62:\tlearn: 0.9289741\ttotal: 703ms\tremaining: 413ms\n",
            "63:\tlearn: 0.9289741\ttotal: 721ms\tremaining: 405ms\n",
            "64:\tlearn: 0.9301015\ttotal: 734ms\tremaining: 395ms\n",
            "65:\tlearn: 0.9301015\ttotal: 736ms\tremaining: 379ms\n",
            "66:\tlearn: 0.9301015\ttotal: 750ms\tremaining: 369ms\n",
            "67:\tlearn: 0.9301015\ttotal: 753ms\tremaining: 355ms\n",
            "68:\tlearn: 0.9312289\ttotal: 765ms\tremaining: 344ms\n",
            "69:\tlearn: 0.9312289\ttotal: 768ms\tremaining: 329ms\n",
            "70:\tlearn: 0.9323563\ttotal: 780ms\tremaining: 319ms\n",
            "71:\tlearn: 0.9323563\ttotal: 783ms\tremaining: 304ms\n",
            "72:\tlearn: 0.9323563\ttotal: 806ms\tremaining: 298ms\n",
            "73:\tlearn: 0.9323563\ttotal: 811ms\tremaining: 285ms\n",
            "74:\tlearn: 0.9323563\ttotal: 820ms\tremaining: 273ms\n",
            "75:\tlearn: 0.9323563\ttotal: 848ms\tremaining: 268ms\n",
            "76:\tlearn: 0.9323563\ttotal: 859ms\tremaining: 257ms\n",
            "77:\tlearn: 0.9334837\ttotal: 870ms\tremaining: 245ms\n",
            "78:\tlearn: 0.9334837\ttotal: 885ms\tremaining: 235ms\n",
            "79:\tlearn: 0.9334837\ttotal: 897ms\tremaining: 224ms\n",
            "80:\tlearn: 0.9334837\ttotal: 914ms\tremaining: 214ms\n",
            "81:\tlearn: 0.9334837\ttotal: 929ms\tremaining: 204ms\n",
            "82:\tlearn: 0.9334837\ttotal: 934ms\tremaining: 191ms\n",
            "83:\tlearn: 0.9334837\ttotal: 940ms\tremaining: 179ms\n",
            "84:\tlearn: 0.9334837\ttotal: 963ms\tremaining: 170ms\n",
            "85:\tlearn: 0.9334837\ttotal: 980ms\tremaining: 159ms\n",
            "86:\tlearn: 0.9334837\ttotal: 982ms\tremaining: 147ms\n",
            "87:\tlearn: 0.9334837\ttotal: 1.01s\tremaining: 138ms\n",
            "88:\tlearn: 0.9334837\ttotal: 1.01s\tremaining: 125ms\n",
            "89:\tlearn: 0.9334837\ttotal: 1.01s\tremaining: 113ms\n",
            "90:\tlearn: 0.9334837\ttotal: 1.02s\tremaining: 101ms\n",
            "91:\tlearn: 0.9334837\ttotal: 1.02s\tremaining: 88.8ms\n",
            "92:\tlearn: 0.9334837\ttotal: 1.02s\tremaining: 77.2ms\n",
            "93:\tlearn: 0.9334837\ttotal: 1.03s\tremaining: 65.7ms\n",
            "94:\tlearn: 0.9334837\ttotal: 1.03s\tremaining: 54.3ms\n",
            "95:\tlearn: 0.9334837\ttotal: 1.04s\tremaining: 43.6ms\n",
            "96:\tlearn: 0.9346110\ttotal: 1.05s\tremaining: 32.6ms\n",
            "97:\tlearn: 0.9346110\ttotal: 1.06s\tremaining: 21.6ms\n",
            "98:\tlearn: 0.9346110\ttotal: 1.07s\tremaining: 10.8ms\n",
            "99:\tlearn: 0.9379932\ttotal: 1.07s\tremaining: 0us\n",
            "0:\tlearn: 0.8624577\ttotal: 15.1ms\tremaining: 1.5s\n",
            "1:\tlearn: 0.8590755\ttotal: 15.9ms\tremaining: 781ms\n",
            "2:\tlearn: 0.8635851\ttotal: 39.7ms\tremaining: 1.28s\n",
            "3:\tlearn: 0.8737317\ttotal: 42.3ms\tremaining: 1.02s\n",
            "4:\tlearn: 0.8748591\ttotal: 68.2ms\tremaining: 1.3s\n",
            "5:\tlearn: 0.8726043\ttotal: 81.7ms\tremaining: 1.28s\n",
            "6:\tlearn: 0.8714769\ttotal: 84.3ms\tremaining: 1.12s\n",
            "7:\tlearn: 0.8782413\ttotal: 86.6ms\tremaining: 996ms\n",
            "8:\tlearn: 0.8827508\ttotal: 92.3ms\tremaining: 933ms\n",
            "9:\tlearn: 0.8861330\ttotal: 94.7ms\tremaining: 852ms\n",
            "10:\tlearn: 0.8861330\ttotal: 126ms\tremaining: 1.02s\n",
            "11:\tlearn: 0.8816234\ttotal: 131ms\tremaining: 958ms\n",
            "12:\tlearn: 0.8872604\ttotal: 138ms\tremaining: 923ms\n",
            "13:\tlearn: 0.8906426\ttotal: 144ms\tremaining: 888ms\n",
            "14:\tlearn: 0.8906426\ttotal: 146ms\tremaining: 825ms\n",
            "15:\tlearn: 0.8883878\ttotal: 148ms\tremaining: 777ms\n",
            "16:\tlearn: 0.8928974\ttotal: 151ms\tremaining: 738ms\n",
            "17:\tlearn: 0.8940248\ttotal: 154ms\tremaining: 704ms\n",
            "18:\tlearn: 0.8962796\ttotal: 157ms\tremaining: 669ms\n",
            "19:\tlearn: 0.8974070\ttotal: 165ms\tremaining: 660ms\n",
            "20:\tlearn: 0.8996618\ttotal: 172ms\tremaining: 647ms\n",
            "21:\tlearn: 0.9041714\ttotal: 202ms\tremaining: 715ms\n",
            "22:\tlearn: 0.9064262\ttotal: 212ms\tremaining: 710ms\n",
            "23:\tlearn: 0.9086809\ttotal: 224ms\tremaining: 709ms\n",
            "24:\tlearn: 0.9064262\ttotal: 229ms\tremaining: 688ms\n",
            "25:\tlearn: 0.9098083\ttotal: 233ms\tremaining: 664ms\n",
            "26:\tlearn: 0.9109357\ttotal: 236ms\tremaining: 637ms\n",
            "27:\tlearn: 0.9086809\ttotal: 239ms\tremaining: 613ms\n",
            "28:\tlearn: 0.9109357\ttotal: 241ms\tremaining: 590ms\n",
            "29:\tlearn: 0.9109357\ttotal: 245ms\tremaining: 572ms\n",
            "30:\tlearn: 0.9120631\ttotal: 248ms\tremaining: 551ms\n",
            "31:\tlearn: 0.9154453\ttotal: 250ms\tremaining: 532ms\n",
            "32:\tlearn: 0.9154453\ttotal: 253ms\tremaining: 513ms\n",
            "33:\tlearn: 0.9165727\ttotal: 255ms\tremaining: 495ms\n",
            "34:\tlearn: 0.9154453\ttotal: 259ms\tremaining: 481ms\n",
            "35:\tlearn: 0.9165727\ttotal: 261ms\tremaining: 464ms\n",
            "36:\tlearn: 0.9177001\ttotal: 264ms\tremaining: 449ms\n",
            "37:\tlearn: 0.9177001\ttotal: 266ms\tremaining: 434ms\n",
            "38:\tlearn: 0.9177001\ttotal: 269ms\tremaining: 421ms\n",
            "39:\tlearn: 0.9188275\ttotal: 273ms\tremaining: 409ms\n",
            "40:\tlearn: 0.9188275\ttotal: 275ms\tremaining: 396ms\n",
            "41:\tlearn: 0.9177001\ttotal: 278ms\tremaining: 383ms\n",
            "42:\tlearn: 0.9188275\ttotal: 278ms\tremaining: 369ms\n",
            "43:\tlearn: 0.9177001\ttotal: 281ms\tremaining: 357ms\n",
            "44:\tlearn: 0.9177001\ttotal: 283ms\tremaining: 346ms\n",
            "45:\tlearn: 0.9177001\ttotal: 287ms\tremaining: 337ms\n",
            "46:\tlearn: 0.9199549\ttotal: 290ms\tremaining: 327ms\n",
            "47:\tlearn: 0.9210823\ttotal: 293ms\tremaining: 317ms\n",
            "48:\tlearn: 0.9199549\ttotal: 293ms\tremaining: 305ms\n",
            "49:\tlearn: 0.9222097\ttotal: 296ms\tremaining: 296ms\n",
            "50:\tlearn: 0.9222097\ttotal: 298ms\tremaining: 287ms\n",
            "51:\tlearn: 0.9199549\ttotal: 301ms\tremaining: 277ms\n",
            "52:\tlearn: 0.9210823\ttotal: 341ms\tremaining: 303ms\n",
            "53:\tlearn: 0.9210823\ttotal: 350ms\tremaining: 298ms\n",
            "54:\tlearn: 0.9244645\ttotal: 364ms\tremaining: 298ms\n",
            "55:\tlearn: 0.9255919\ttotal: 370ms\tremaining: 291ms\n",
            "56:\tlearn: 0.9278467\ttotal: 376ms\tremaining: 284ms\n",
            "57:\tlearn: 0.9267193\ttotal: 380ms\tremaining: 275ms\n",
            "58:\tlearn: 0.9255919\ttotal: 392ms\tremaining: 272ms\n",
            "59:\tlearn: 0.9267193\ttotal: 396ms\tremaining: 264ms\n",
            "60:\tlearn: 0.9267193\ttotal: 406ms\tremaining: 260ms\n",
            "61:\tlearn: 0.9267193\ttotal: 411ms\tremaining: 252ms\n",
            "62:\tlearn: 0.9267193\ttotal: 420ms\tremaining: 246ms\n",
            "63:\tlearn: 0.9278467\ttotal: 426ms\tremaining: 239ms\n",
            "64:\tlearn: 0.9289741\ttotal: 433ms\tremaining: 233ms\n",
            "65:\tlearn: 0.9289741\ttotal: 441ms\tremaining: 227ms\n",
            "66:\tlearn: 0.9289741\ttotal: 449ms\tremaining: 221ms\n",
            "67:\tlearn: 0.9312289\ttotal: 457ms\tremaining: 215ms\n",
            "68:\tlearn: 0.9301015\ttotal: 463ms\tremaining: 208ms\n",
            "69:\tlearn: 0.9323563\ttotal: 467ms\tremaining: 200ms\n",
            "70:\tlearn: 0.9301015\ttotal: 475ms\tremaining: 194ms\n",
            "71:\tlearn: 0.9312289\ttotal: 488ms\tremaining: 190ms\n",
            "72:\tlearn: 0.9334837\ttotal: 494ms\tremaining: 183ms\n",
            "73:\tlearn: 0.9334837\ttotal: 500ms\tremaining: 176ms\n",
            "74:\tlearn: 0.9312289\ttotal: 508ms\tremaining: 169ms\n",
            "75:\tlearn: 0.9323563\ttotal: 520ms\tremaining: 164ms\n",
            "76:\tlearn: 0.9323563\ttotal: 529ms\tremaining: 158ms\n",
            "77:\tlearn: 0.9334837\ttotal: 536ms\tremaining: 151ms\n",
            "78:\tlearn: 0.9334837\ttotal: 544ms\tremaining: 145ms\n",
            "79:\tlearn: 0.9346110\ttotal: 552ms\tremaining: 138ms\n",
            "80:\tlearn: 0.9346110\ttotal: 562ms\tremaining: 132ms\n",
            "81:\tlearn: 0.9346110\ttotal: 567ms\tremaining: 124ms\n",
            "82:\tlearn: 0.9346110\ttotal: 575ms\tremaining: 118ms\n",
            "83:\tlearn: 0.9346110\ttotal: 576ms\tremaining: 110ms\n",
            "84:\tlearn: 0.9346110\ttotal: 583ms\tremaining: 103ms\n",
            "85:\tlearn: 0.9346110\ttotal: 587ms\tremaining: 95.6ms\n",
            "86:\tlearn: 0.9346110\ttotal: 595ms\tremaining: 89ms\n",
            "87:\tlearn: 0.9346110\ttotal: 600ms\tremaining: 81.9ms\n",
            "88:\tlearn: 0.9346110\ttotal: 606ms\tremaining: 74.9ms\n",
            "89:\tlearn: 0.9346110\ttotal: 614ms\tremaining: 68.2ms\n",
            "90:\tlearn: 0.9357384\ttotal: 622ms\tremaining: 61.6ms\n",
            "91:\tlearn: 0.9357384\ttotal: 626ms\tremaining: 54.5ms\n",
            "92:\tlearn: 0.9357384\ttotal: 635ms\tremaining: 47.8ms\n",
            "93:\tlearn: 0.9357384\ttotal: 643ms\tremaining: 41ms\n",
            "94:\tlearn: 0.9357384\ttotal: 651ms\tremaining: 34.3ms\n",
            "95:\tlearn: 0.9357384\ttotal: 656ms\tremaining: 27.3ms\n",
            "96:\tlearn: 0.9357384\ttotal: 665ms\tremaining: 20.6ms\n",
            "97:\tlearn: 0.9357384\ttotal: 675ms\tremaining: 13.8ms\n",
            "98:\tlearn: 0.9357384\ttotal: 679ms\tremaining: 6.86ms\n",
            "99:\tlearn: 0.9357384\ttotal: 687ms\tremaining: 0us\n",
            "0:\tlearn: 0.8771139\ttotal: 10.7ms\tremaining: 1.06s\n",
            "1:\tlearn: 0.8602029\ttotal: 13.4ms\tremaining: 655ms\n",
            "2:\tlearn: 0.8635851\ttotal: 28.4ms\tremaining: 919ms\n",
            "3:\tlearn: 0.8771139\ttotal: 39.9ms\tremaining: 958ms\n",
            "4:\tlearn: 0.8793687\ttotal: 48.3ms\tremaining: 917ms\n",
            "5:\tlearn: 0.8759865\ttotal: 56.8ms\tremaining: 890ms\n",
            "6:\tlearn: 0.8771139\ttotal: 76.6ms\tremaining: 1.02s\n",
            "7:\tlearn: 0.8827508\ttotal: 90.3ms\tremaining: 1.04s\n",
            "8:\tlearn: 0.8895152\ttotal: 115ms\tremaining: 1.17s\n",
            "9:\tlearn: 0.8895152\ttotal: 121ms\tremaining: 1.08s\n",
            "10:\tlearn: 0.8928974\ttotal: 137ms\tremaining: 1.11s\n",
            "11:\tlearn: 0.8951522\ttotal: 150ms\tremaining: 1.1s\n",
            "12:\tlearn: 0.8928974\ttotal: 162ms\tremaining: 1.08s\n",
            "13:\tlearn: 0.8951522\ttotal: 171ms\tremaining: 1.05s\n",
            "14:\tlearn: 0.8962796\ttotal: 179ms\tremaining: 1.01s\n",
            "15:\tlearn: 0.8917700\ttotal: 184ms\tremaining: 966ms\n",
            "16:\tlearn: 0.8940248\ttotal: 188ms\tremaining: 919ms\n",
            "17:\tlearn: 0.8940248\ttotal: 197ms\tremaining: 898ms\n",
            "18:\tlearn: 0.8985344\ttotal: 203ms\tremaining: 864ms\n",
            "19:\tlearn: 0.8996618\ttotal: 210ms\tremaining: 842ms\n",
            "20:\tlearn: 0.8996618\ttotal: 219ms\tremaining: 822ms\n",
            "21:\tlearn: 0.8996618\ttotal: 239ms\tremaining: 849ms\n",
            "22:\tlearn: 0.8974070\ttotal: 243ms\tremaining: 813ms\n",
            "23:\tlearn: 0.8985344\ttotal: 251ms\tremaining: 796ms\n",
            "24:\tlearn: 0.9052988\ttotal: 277ms\tremaining: 832ms\n",
            "25:\tlearn: 0.9019166\ttotal: 290ms\tremaining: 826ms\n",
            "26:\tlearn: 0.9075536\ttotal: 299ms\tremaining: 807ms\n",
            "27:\tlearn: 0.9075536\ttotal: 301ms\tremaining: 774ms\n",
            "28:\tlearn: 0.9086809\ttotal: 309ms\tremaining: 756ms\n",
            "29:\tlearn: 0.9086809\ttotal: 309ms\tremaining: 722ms\n",
            "30:\tlearn: 0.9098083\ttotal: 312ms\tremaining: 695ms\n",
            "31:\tlearn: 0.9098083\ttotal: 315ms\tremaining: 670ms\n",
            "32:\tlearn: 0.9143179\ttotal: 318ms\tremaining: 645ms\n",
            "33:\tlearn: 0.9131905\ttotal: 330ms\tremaining: 640ms\n",
            "34:\tlearn: 0.9143179\ttotal: 332ms\tremaining: 617ms\n",
            "35:\tlearn: 0.9143179\ttotal: 341ms\tremaining: 607ms\n",
            "36:\tlearn: 0.9165727\ttotal: 370ms\tremaining: 630ms\n",
            "37:\tlearn: 0.9188275\ttotal: 376ms\tremaining: 613ms\n",
            "38:\tlearn: 0.9177001\ttotal: 376ms\tremaining: 589ms\n",
            "39:\tlearn: 0.9199549\ttotal: 379ms\tremaining: 568ms\n",
            "40:\tlearn: 0.9199549\ttotal: 396ms\tremaining: 570ms\n",
            "41:\tlearn: 0.9199549\ttotal: 406ms\tremaining: 560ms\n",
            "42:\tlearn: 0.9210823\ttotal: 408ms\tremaining: 541ms\n",
            "43:\tlearn: 0.9210823\ttotal: 421ms\tremaining: 536ms\n",
            "44:\tlearn: 0.9222097\ttotal: 423ms\tremaining: 517ms\n",
            "45:\tlearn: 0.9233371\ttotal: 426ms\tremaining: 500ms\n",
            "46:\tlearn: 0.9244645\ttotal: 429ms\tremaining: 483ms\n",
            "47:\tlearn: 0.9244645\ttotal: 432ms\tremaining: 468ms\n",
            "48:\tlearn: 0.9233371\ttotal: 435ms\tremaining: 453ms\n",
            "49:\tlearn: 0.9244645\ttotal: 438ms\tremaining: 438ms\n",
            "50:\tlearn: 0.9255919\ttotal: 442ms\tremaining: 424ms\n",
            "51:\tlearn: 0.9244645\ttotal: 445ms\tremaining: 410ms\n",
            "52:\tlearn: 0.9244645\ttotal: 455ms\tremaining: 404ms\n",
            "53:\tlearn: 0.9244645\ttotal: 459ms\tremaining: 391ms\n",
            "54:\tlearn: 0.9233371\ttotal: 468ms\tremaining: 383ms\n",
            "55:\tlearn: 0.9244645\ttotal: 478ms\tremaining: 375ms\n",
            "56:\tlearn: 0.9267193\ttotal: 485ms\tremaining: 366ms\n",
            "57:\tlearn: 0.9255919\ttotal: 492ms\tremaining: 356ms\n",
            "58:\tlearn: 0.9255919\ttotal: 496ms\tremaining: 344ms\n",
            "59:\tlearn: 0.9244645\ttotal: 504ms\tremaining: 336ms\n",
            "60:\tlearn: 0.9244645\ttotal: 519ms\tremaining: 332ms\n",
            "61:\tlearn: 0.9255919\ttotal: 522ms\tremaining: 320ms\n",
            "62:\tlearn: 0.9267193\ttotal: 525ms\tremaining: 308ms\n",
            "63:\tlearn: 0.9267193\ttotal: 531ms\tremaining: 299ms\n",
            "64:\tlearn: 0.9255919\ttotal: 534ms\tremaining: 288ms\n",
            "65:\tlearn: 0.9267193\ttotal: 543ms\tremaining: 280ms\n",
            "66:\tlearn: 0.9267193\ttotal: 545ms\tremaining: 268ms\n",
            "67:\tlearn: 0.9244645\ttotal: 554ms\tremaining: 261ms\n",
            "68:\tlearn: 0.9267193\ttotal: 557ms\tremaining: 250ms\n",
            "69:\tlearn: 0.9267193\ttotal: 568ms\tremaining: 243ms\n",
            "70:\tlearn: 0.9278467\ttotal: 577ms\tremaining: 236ms\n",
            "71:\tlearn: 0.9289741\ttotal: 582ms\tremaining: 227ms\n",
            "72:\tlearn: 0.9278467\ttotal: 592ms\tremaining: 219ms\n",
            "73:\tlearn: 0.9312289\ttotal: 596ms\tremaining: 210ms\n",
            "74:\tlearn: 0.9301015\ttotal: 606ms\tremaining: 202ms\n",
            "75:\tlearn: 0.9289741\ttotal: 620ms\tremaining: 196ms\n",
            "76:\tlearn: 0.9312289\ttotal: 624ms\tremaining: 187ms\n",
            "77:\tlearn: 0.9301015\ttotal: 633ms\tremaining: 179ms\n",
            "78:\tlearn: 0.9312289\ttotal: 639ms\tremaining: 170ms\n",
            "79:\tlearn: 0.9301015\ttotal: 648ms\tremaining: 162ms\n",
            "80:\tlearn: 0.9301015\ttotal: 656ms\tremaining: 154ms\n",
            "81:\tlearn: 0.9301015\ttotal: 665ms\tremaining: 146ms\n",
            "82:\tlearn: 0.9301015\ttotal: 672ms\tremaining: 138ms\n",
            "83:\tlearn: 0.9301015\ttotal: 680ms\tremaining: 129ms\n",
            "84:\tlearn: 0.9301015\ttotal: 684ms\tremaining: 121ms\n",
            "85:\tlearn: 0.9301015\ttotal: 691ms\tremaining: 113ms\n",
            "86:\tlearn: 0.9301015\ttotal: 695ms\tremaining: 104ms\n",
            "87:\tlearn: 0.9323563\ttotal: 704ms\tremaining: 96.1ms\n",
            "88:\tlearn: 0.9323563\ttotal: 713ms\tremaining: 88.1ms\n",
            "89:\tlearn: 0.9323563\ttotal: 721ms\tremaining: 80.2ms\n",
            "90:\tlearn: 0.9323563\ttotal: 730ms\tremaining: 72.2ms\n",
            "91:\tlearn: 0.9323563\ttotal: 738ms\tremaining: 64.2ms\n",
            "92:\tlearn: 0.9323563\ttotal: 742ms\tremaining: 55.9ms\n",
            "93:\tlearn: 0.9323563\ttotal: 751ms\tremaining: 47.9ms\n",
            "94:\tlearn: 0.9323563\ttotal: 760ms\tremaining: 40ms\n",
            "95:\tlearn: 0.9323563\ttotal: 769ms\tremaining: 32ms\n",
            "96:\tlearn: 0.9346110\ttotal: 777ms\tremaining: 24ms\n",
            "97:\tlearn: 0.9368658\ttotal: 782ms\tremaining: 16ms\n",
            "98:\tlearn: 0.9357384\ttotal: 794ms\tremaining: 8.02ms\n",
            "99:\tlearn: 0.9357384\ttotal: 797ms\tremaining: 0us\n",
            "0:\tlearn: 0.8748591\ttotal: 48.9ms\tremaining: 4.84s\n",
            "1:\tlearn: 0.8590755\ttotal: 49.8ms\tremaining: 2.44s\n",
            "2:\tlearn: 0.8658399\ttotal: 79.7ms\tremaining: 2.58s\n",
            "3:\tlearn: 0.8703495\ttotal: 97.7ms\tremaining: 2.35s\n",
            "4:\tlearn: 0.8816234\ttotal: 134ms\tremaining: 2.55s\n",
            "5:\tlearn: 0.8793687\ttotal: 159ms\tremaining: 2.49s\n",
            "6:\tlearn: 0.8850056\ttotal: 177ms\tremaining: 2.35s\n",
            "7:\tlearn: 0.8861330\ttotal: 198ms\tremaining: 2.28s\n",
            "8:\tlearn: 0.8872604\ttotal: 201ms\tremaining: 2.03s\n",
            "9:\tlearn: 0.8838782\ttotal: 204ms\tremaining: 1.83s\n",
            "10:\tlearn: 0.8872604\ttotal: 206ms\tremaining: 1.67s\n",
            "11:\tlearn: 0.8906426\ttotal: 218ms\tremaining: 1.6s\n",
            "12:\tlearn: 0.8917700\ttotal: 220ms\tremaining: 1.48s\n",
            "13:\tlearn: 0.8951522\ttotal: 223ms\tremaining: 1.37s\n",
            "14:\tlearn: 0.8951522\ttotal: 254ms\tremaining: 1.44s\n",
            "15:\tlearn: 0.8951522\ttotal: 256ms\tremaining: 1.34s\n",
            "16:\tlearn: 0.8951522\ttotal: 258ms\tremaining: 1.26s\n",
            "17:\tlearn: 0.8974070\ttotal: 314ms\tremaining: 1.43s\n",
            "18:\tlearn: 0.8962796\ttotal: 369ms\tremaining: 1.57s\n",
            "19:\tlearn: 0.8974070\ttotal: 387ms\tremaining: 1.55s\n",
            "20:\tlearn: 0.8974070\ttotal: 438ms\tremaining: 1.65s\n",
            "21:\tlearn: 0.8951522\ttotal: 452ms\tremaining: 1.6s\n",
            "22:\tlearn: 0.8962796\ttotal: 464ms\tremaining: 1.55s\n",
            "23:\tlearn: 0.8996618\ttotal: 469ms\tremaining: 1.49s\n",
            "24:\tlearn: 0.8974070\ttotal: 470ms\tremaining: 1.41s\n",
            "25:\tlearn: 0.9007892\ttotal: 479ms\tremaining: 1.36s\n",
            "26:\tlearn: 0.9030440\ttotal: 489ms\tremaining: 1.32s\n",
            "27:\tlearn: 0.9041714\ttotal: 504ms\tremaining: 1.3s\n",
            "28:\tlearn: 0.9030440\ttotal: 514ms\tremaining: 1.26s\n",
            "29:\tlearn: 0.9007892\ttotal: 515ms\tremaining: 1.2s\n",
            "30:\tlearn: 0.9007892\ttotal: 541ms\tremaining: 1.2s\n",
            "31:\tlearn: 0.9007892\ttotal: 545ms\tremaining: 1.16s\n",
            "32:\tlearn: 0.9030440\ttotal: 546ms\tremaining: 1.11s\n",
            "33:\tlearn: 0.9041714\ttotal: 575ms\tremaining: 1.12s\n",
            "34:\tlearn: 0.9030440\ttotal: 595ms\tremaining: 1.1s\n",
            "35:\tlearn: 0.9052988\ttotal: 850ms\tremaining: 1.51s\n",
            "36:\tlearn: 0.9052988\ttotal: 854ms\tremaining: 1.45s\n",
            "37:\tlearn: 0.9064262\ttotal: 876ms\tremaining: 1.43s\n",
            "38:\tlearn: 0.9086809\ttotal: 883ms\tremaining: 1.38s\n",
            "39:\tlearn: 0.9120631\ttotal: 900ms\tremaining: 1.35s\n",
            "40:\tlearn: 0.9131905\ttotal: 907ms\tremaining: 1.3s\n",
            "41:\tlearn: 0.9131905\ttotal: 912ms\tremaining: 1.26s\n",
            "42:\tlearn: 0.9131905\ttotal: 929ms\tremaining: 1.23s\n",
            "43:\tlearn: 0.9165727\ttotal: 933ms\tremaining: 1.19s\n",
            "44:\tlearn: 0.9165727\ttotal: 950ms\tremaining: 1.16s\n",
            "45:\tlearn: 0.9165727\ttotal: 956ms\tremaining: 1.12s\n",
            "46:\tlearn: 0.9165727\ttotal: 975ms\tremaining: 1.1s\n",
            "47:\tlearn: 0.9177001\ttotal: 981ms\tremaining: 1.06s\n",
            "48:\tlearn: 0.9177001\ttotal: 995ms\tremaining: 1.03s\n",
            "49:\tlearn: 0.9210823\ttotal: 1s\tremaining: 1s\n",
            "50:\tlearn: 0.9210823\ttotal: 1.01s\tremaining: 973ms\n",
            "51:\tlearn: 0.9233371\ttotal: 1.02s\tremaining: 946ms\n",
            "52:\tlearn: 0.9222097\ttotal: 1.04s\tremaining: 923ms\n",
            "53:\tlearn: 0.9233371\ttotal: 1.05s\tremaining: 898ms\n",
            "54:\tlearn: 0.9233371\ttotal: 1.06s\tremaining: 869ms\n",
            "55:\tlearn: 0.9255919\ttotal: 1.09s\tremaining: 854ms\n",
            "56:\tlearn: 0.9267193\ttotal: 1.09s\tremaining: 822ms\n",
            "57:\tlearn: 0.9278467\ttotal: 1.1s\tremaining: 798ms\n",
            "58:\tlearn: 0.9278467\ttotal: 1.11s\tremaining: 774ms\n",
            "59:\tlearn: 0.9301015\ttotal: 1.12s\tremaining: 746ms\n",
            "60:\tlearn: 0.9278467\ttotal: 1.13s\tremaining: 722ms\n",
            "61:\tlearn: 0.9312289\ttotal: 1.13s\tremaining: 695ms\n",
            "62:\tlearn: 0.9301015\ttotal: 1.14s\tremaining: 668ms\n",
            "63:\tlearn: 0.9312289\ttotal: 1.15s\tremaining: 647ms\n",
            "64:\tlearn: 0.9312289\ttotal: 1.15s\tremaining: 620ms\n",
            "65:\tlearn: 0.9346110\ttotal: 1.17s\tremaining: 604ms\n",
            "66:\tlearn: 0.9357384\ttotal: 1.23s\tremaining: 608ms\n",
            "67:\tlearn: 0.9323563\ttotal: 1.25s\tremaining: 588ms\n",
            "68:\tlearn: 0.9346110\ttotal: 1.25s\tremaining: 564ms\n",
            "69:\tlearn: 0.9346110\ttotal: 1.27s\tremaining: 543ms\n",
            "70:\tlearn: 0.9334837\ttotal: 1.28s\tremaining: 523ms\n",
            "71:\tlearn: 0.9357384\ttotal: 1.29s\tremaining: 501ms\n",
            "72:\tlearn: 0.9357384\ttotal: 1.3s\tremaining: 481ms\n",
            "73:\tlearn: 0.9357384\ttotal: 1.31s\tremaining: 461ms\n",
            "74:\tlearn: 0.9357384\ttotal: 1.32s\tremaining: 441ms\n",
            "75:\tlearn: 0.9357384\ttotal: 1.34s\tremaining: 424ms\n",
            "76:\tlearn: 0.9357384\ttotal: 1.35s\tremaining: 403ms\n",
            "77:\tlearn: 0.9357384\ttotal: 1.36s\tremaining: 385ms\n",
            "78:\tlearn: 0.9346110\ttotal: 1.37s\tremaining: 364ms\n",
            "79:\tlearn: 0.9357384\ttotal: 1.37s\tremaining: 343ms\n",
            "80:\tlearn: 0.9334837\ttotal: 1.4s\tremaining: 328ms\n",
            "81:\tlearn: 0.9346110\ttotal: 1.4s\tremaining: 308ms\n",
            "82:\tlearn: 0.9357384\ttotal: 1.41s\tremaining: 289ms\n",
            "83:\tlearn: 0.9346110\ttotal: 1.42s\tremaining: 270ms\n",
            "84:\tlearn: 0.9346110\ttotal: 1.42s\tremaining: 250ms\n",
            "85:\tlearn: 0.9368658\ttotal: 1.42s\tremaining: 231ms\n",
            "86:\tlearn: 0.9391206\ttotal: 1.43s\tremaining: 213ms\n",
            "87:\tlearn: 0.9379932\ttotal: 1.43s\tremaining: 195ms\n",
            "88:\tlearn: 0.9379932\ttotal: 1.44s\tremaining: 178ms\n",
            "89:\tlearn: 0.9379932\ttotal: 1.45s\tremaining: 161ms\n",
            "90:\tlearn: 0.9379932\ttotal: 1.46s\tremaining: 144ms\n",
            "91:\tlearn: 0.9379932\ttotal: 1.46s\tremaining: 127ms\n",
            "92:\tlearn: 0.9379932\ttotal: 1.46s\tremaining: 110ms\n",
            "93:\tlearn: 0.9379932\ttotal: 1.47s\tremaining: 93.6ms\n",
            "94:\tlearn: 0.9379932\ttotal: 1.47s\tremaining: 77.3ms\n",
            "95:\tlearn: 0.9379932\ttotal: 1.47s\tremaining: 61.3ms\n",
            "96:\tlearn: 0.9379932\ttotal: 1.48s\tremaining: 45.6ms\n",
            "97:\tlearn: 0.9391206\ttotal: 1.48s\tremaining: 30.2ms\n",
            "98:\tlearn: 0.9391206\ttotal: 1.48s\tremaining: 15ms\n",
            "99:\tlearn: 0.9391206\ttotal: 1.49s\tremaining: 0us\n",
            " A Acurácia Média: 87.46%\n"
          ]
        }
      ]
    },
    {
      "cell_type": "code",
      "source": [
        "print(\" A Acurácia Média: %.2f%%\" % (resultado.mean()*100))"
      ],
      "metadata": {
        "colab": {
          "base_uri": "https://localhost:8080/"
        },
        "id": "Lw8M_HxHIR2w",
        "outputId": "e4efb112-cfc3-489b-e089-64e2c99efe20"
      },
      "execution_count": 271,
      "outputs": [
        {
          "output_type": "stream",
          "name": "stdout",
          "text": [
            " A Acurácia Média: 87.46%\n"
          ]
        }
      ]
    },
    {
      "cell_type": "markdown",
      "source": [
        "# SALVANDO DADOS PARA O DEPLOY\n",
        "--------------------------------------------------------------------------------\n",
        "--------------------------------------------------------------------------------\n"
      ],
      "metadata": {
        "id": "52dwetOX0bBe"
      }
    },
    {
      "cell_type": "markdown",
      "source": [
        "## É preciso identificar o melhor modelo e separar o melhor previsor e alvo para salvar em arquivo csv "
      ],
      "metadata": {
        "id": "3HP-L4iL14B5"
      }
    },
    {
      "cell_type": "code",
      "source": [
        "previsores"
      ],
      "metadata": {
        "colab": {
          "base_uri": "https://localhost:8080/"
        },
        "id": "v_37adzs0zgE",
        "outputId": "14287d1c-8f2b-4946-f072-48aae7fc77e3"
      },
      "execution_count": 272,
      "outputs": [
        {
          "output_type": "execute_result",
          "data": {
            "text/plain": [
              "array([[40. ,  0. ,  1. , ...,  0. ,  0. ,  0. ],\n",
              "       [49. ,  1. ,  2. , ...,  0. ,  1. ,  1. ],\n",
              "       [37. ,  0. ,  1. , ...,  0. ,  0. ,  0. ],\n",
              "       ...,\n",
              "       [57. ,  0. ,  3. , ...,  1. ,  1.2,  1. ],\n",
              "       [57. ,  1. ,  1. , ...,  0. ,  0. ,  1. ],\n",
              "       [38. ,  0. ,  2. , ...,  0. ,  0. ,  0. ]])"
            ]
          },
          "metadata": {},
          "execution_count": 272
        }
      ]
    },
    {
      "cell_type": "code",
      "source": [
        "alvo"
      ],
      "metadata": {
        "id": "KW4ANWVb2I7R",
        "colab": {
          "base_uri": "https://localhost:8080/"
        },
        "outputId": "3cca66a8-6a38-4554-d541-b55253051431"
      },
      "execution_count": 273,
      "outputs": [
        {
          "output_type": "execute_result",
          "data": {
            "text/plain": [
              "array([0, 1, 0, 1, 0, 0, 0, 0, 1, 0, 0, 1, 0, 1, 0, 0, 1, 0, 1, 1, 0, 0,\n",
              "       0, 1, 0, 0, 0, 0, 0, 0, 1, 0, 1, 1, 0, 0, 1, 0, 0, 0, 0, 1, 0, 0,\n",
              "       1, 0, 0, 0, 0, 1, 1, 1, 0, 0, 0, 0, 1, 1, 0, 1, 0, 0, 0, 1, 0, 0,\n",
              "       0, 0, 1, 0, 1, 0, 1, 0, 1, 0, 1, 0, 0, 1, 0, 0, 1, 0, 1, 1, 1, 0,\n",
              "       1, 0, 0, 0, 0, 1, 0, 1, 0, 0, 0, 0, 1, 0, 1, 1, 1, 0, 0, 0, 0, 0,\n",
              "       0, 1, 0, 0, 0, 1, 1, 1, 0, 1, 1, 0, 0, 1, 0, 0, 0, 0, 0, 0, 0, 1,\n",
              "       1, 1, 0, 1, 0, 0, 1, 1, 1, 1, 1, 0, 1, 0, 0, 0, 0, 1, 0, 0, 0, 0,\n",
              "       0, 1, 1, 0, 1, 0, 1, 1, 0, 0, 0, 1, 1, 0, 0, 0, 0, 0, 0, 0, 1, 1,\n",
              "       1, 0, 0, 0, 1, 0, 1, 0, 0, 1, 0, 1, 0, 1, 0, 0, 0, 0, 0, 0, 0, 0,\n",
              "       1, 0, 0, 0, 0, 0, 0, 0, 0, 1, 0, 1, 1, 1, 0, 0, 1, 0, 1, 0, 0, 0,\n",
              "       1, 1, 0, 0, 0, 1, 0, 1, 0, 0, 0, 0, 0, 0, 0, 0, 1, 1, 1, 1, 0, 1,\n",
              "       1, 0, 1, 0, 1, 1, 1, 1, 1, 1, 0, 0, 1, 0, 0, 0, 0, 0, 0, 0, 1, 1,\n",
              "       1, 0, 1, 0, 1, 0, 0, 0, 1, 0, 0, 0, 1, 1, 0, 0, 0, 1, 0, 0, 0, 0,\n",
              "       0, 0, 0, 0, 0, 0, 0, 1, 1, 1, 1, 1, 1, 1, 1, 0, 1, 1, 1, 1, 1, 0,\n",
              "       1, 1, 0, 1, 1, 1, 0, 1, 1, 1, 1, 1, 1, 1, 1, 1, 1, 1, 0, 1, 1, 1,\n",
              "       1, 1, 0, 1, 1, 1, 0, 1, 1, 1, 1, 1, 1, 1, 1, 1, 1, 1, 1, 1, 1, 1,\n",
              "       1, 1, 1, 1, 1, 1, 1, 1, 1, 1, 1, 1, 0, 1, 1, 1, 1, 1, 1, 1, 1, 1,\n",
              "       1, 1, 1, 1, 1, 1, 1, 1, 1, 1, 1, 1, 1, 1, 1, 1, 1, 1, 1, 1, 1, 1,\n",
              "       1, 1, 1, 1, 1, 1, 1, 1, 1, 1, 1, 1, 1, 1, 1, 1, 1, 1, 1, 1, 1, 0,\n",
              "       1, 1, 0, 0, 1, 0, 1, 1, 0, 1, 1, 1, 1, 0, 1, 1, 0, 0, 1, 1, 1, 0,\n",
              "       1, 1, 1, 1, 1, 1, 1, 1, 1, 1, 1, 1, 0, 1, 0, 1, 1, 1, 0, 1, 1, 1,\n",
              "       0, 1, 0, 1, 0, 1, 0, 1, 1, 1, 1, 0, 1, 0, 1, 1, 1, 1, 1, 1, 1, 1,\n",
              "       1, 0, 1, 0, 1, 1, 1, 1, 1, 1, 1, 0, 1, 1, 1, 1, 1, 1, 0, 1, 1, 1,\n",
              "       0, 1, 1, 0, 1, 0, 1, 1, 0, 1, 1, 1, 1, 0, 1, 1, 1, 0, 0, 1, 0, 1,\n",
              "       1, 1, 1, 1, 1, 1, 1, 1, 1, 1, 0, 1, 1, 1, 1, 0, 0, 1, 1, 1, 0, 1,\n",
              "       0, 1, 1, 0, 1, 0, 1, 1, 1, 0, 0, 0, 1, 1, 1, 0, 1, 1, 1, 1, 1, 1,\n",
              "       1, 1, 1, 1, 1, 1, 1, 1, 1, 1, 0, 1, 1, 1, 0, 1, 1, 0, 0, 1, 1, 1,\n",
              "       1, 1, 0, 1, 1, 0, 1, 1, 1, 0, 0, 1, 1, 1, 1, 1, 0, 1, 0, 1, 1, 0,\n",
              "       1, 0, 0, 0, 1, 1, 1, 1, 0, 0, 0, 1, 0, 0, 1, 1, 0, 0, 1, 0, 0, 0,\n",
              "       0, 0, 0, 0, 1, 0, 1, 0, 0, 1, 1, 1, 1, 1, 0, 0, 1, 0, 0, 0, 1, 0,\n",
              "       1, 1, 1, 1, 1, 0, 0, 0, 0, 0, 1, 0, 1, 1, 0, 1, 0, 0, 0, 1, 0, 1,\n",
              "       0, 1, 1, 0, 0, 0, 0, 1, 0, 0, 0, 0, 1, 1, 1, 0, 0, 0, 0, 0, 0, 1,\n",
              "       0, 1, 1, 1, 1, 1, 0, 1, 0, 0, 0, 1, 0, 1, 1, 1, 0, 1, 1, 0, 1, 0,\n",
              "       1, 0, 0, 0, 1, 1, 0, 1, 1, 1, 1, 0, 0, 0, 1, 0, 0, 1, 1, 1, 0, 1,\n",
              "       0, 0, 0, 1, 0, 0, 1, 0, 1, 0, 1, 1, 1, 1, 1, 0, 0, 0, 0, 0, 0, 0,\n",
              "       1, 0, 0, 1, 1, 1, 0, 1, 0, 0, 0, 0, 0, 1, 0, 1, 1, 0, 0, 1, 1, 1,\n",
              "       1, 0, 0, 1, 1, 0, 0, 0, 1, 0, 0, 1, 0, 1, 0, 1, 0, 0, 0, 0, 0, 1,\n",
              "       0, 1, 1, 1, 1, 0, 0, 0, 1, 0, 1, 0, 0, 1, 0, 0, 0, 0, 0, 0, 1, 1,\n",
              "       0, 1, 0, 0, 1, 1, 0, 0, 1, 1, 0, 1, 0, 1, 0, 1, 0, 0, 1, 0, 0, 1,\n",
              "       0, 1, 1, 0, 1, 1, 1, 0, 1, 0, 0, 0, 0, 1, 1, 0, 0, 1, 1, 0, 1, 0,\n",
              "       0, 0, 0, 1, 0, 0, 1, 1, 1, 0, 0, 0, 1, 0, 1, 0, 1, 0, 1, 1, 1, 0,\n",
              "       0, 0, 1, 0, 1, 1, 1, 0, 1, 1, 1, 1, 1, 1, 0])"
            ]
          },
          "metadata": {},
          "execution_count": 273
        }
      ]
    },
    {
      "cell_type": "code",
      "source": [
        "np.savetxt('previsores.csv', previsores, delimiter=',')"
      ],
      "metadata": {
        "id": "Ghn3THBL2MNJ"
      },
      "execution_count": 274,
      "outputs": []
    },
    {
      "cell_type": "code",
      "source": [
        "np.savetxt('alvo.csv', alvo, delimiter=',')"
      ],
      "metadata": {
        "id": "Sa_JUnNF2boJ"
      },
      "execution_count": 275,
      "outputs": []
    }
  ]
}