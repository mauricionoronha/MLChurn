{
  "nbformat": 4,
  "nbformat_minor": 0,
  "metadata": {
    "colab": {
      "provenance": [],
      "toc_visible": true,
      "mount_file_id": "1uKdjgV-ovkd5ozQzmzMmRIrh_XosN9so",
      "authorship_tag": "ABX9TyMkiJ4JXBcKNyhw0HGdWuWh"
    },
    "kernelspec": {
      "name": "python3",
      "display_name": "Python 3"
    },
    "language_info": {
      "name": "python"
    }
  },
  "cells": [
    {
      "cell_type": "markdown",
      "source": [
        "# CARREGANDO BIBLIOTECAS E ARQUIVOS\n",
        "-------------------------------------------------------------\n",
        "-------------------------------------------------------------\n"
      ],
      "metadata": {
        "id": "x5qE2vxKBpl1"
      }
    },
    {
      "cell_type": "code",
      "execution_count": 2,
      "metadata": {
        "id": "J9yHRWoqBe9g"
      },
      "outputs": [],
      "source": [
        "#Importando bibliotecas\n",
        "import numpy as np\t\t\n",
        "import pandas as pd\t\t\n",
        "import plotly.express as px\t\t\n",
        "import seaborn as sns\t\t\n",
        "import pickle\t\t\n",
        "from sklearn.preprocessing import StandardScaler\t\t\n",
        "from sklearn.preprocessing import LabelEncoder\t\t\n",
        "from sklearn.preprocessing import OneHotEncoder\t\t\n",
        "from sklearn.compose import ColumnTransformer\t\t\n",
        "from sklearn.decomposition import PCA\t\t\n",
        "from sklearn.discriminant_analysis import LinearDiscriminantAnalysis\t\t\n",
        "from sklearn.model_selection import train_test_split\t\t"
      ]
    },
    {
      "cell_type": "markdown",
      "source": [
        "## Importando os dados e fazendo verificações iniciais\n",
        "-------------------------------------------------------------"
      ],
      "metadata": {
        "id": "vV4M_Zs7yt0q"
      }
    },
    {
      "cell_type": "code",
      "source": [
        "dados = pd.read_excel(\"/content/drive/MyDrive/MACHINE_LEARNNING/telecom_users.xlsx\")\t\t"
      ],
      "metadata": {
        "id": "IqLV1kp4B8SL"
      },
      "execution_count": 3,
      "outputs": []
    },
    {
      "cell_type": "code",
      "source": [
        "dados.head()"
      ],
      "metadata": {
        "colab": {
          "base_uri": "https://localhost:8080/",
          "height": 386
        },
        "id": "LcRZuR4gEJaz",
        "outputId": "bce45c93-5285-4bbe-9bef-5967bd99b550"
      },
      "execution_count": 4,
      "outputs": [
        {
          "output_type": "execute_result",
          "data": {
            "text/plain": [
              "    IDCliente     Genero Dependentes  MesesComoCliente ServicoTelefone  \\\n",
              "0  0002-ORFBO   Feminino         Sim                 9             Sim   \n",
              "1  0003-MKNFE  Masculino         Nao                 9             Sim   \n",
              "2  0004-TLHLJ  Masculino         Nao                 4             Sim   \n",
              "3  0011-IGKFF  Masculino         Nao                13             Sim   \n",
              "4  0013-EXCHZ   Feminino         Nao                 3             Sim   \n",
              "\n",
              "   ValorTelefone MultiplasLinhas ServicoInternet  ValorInternet  \\\n",
              "0           54.9             Nao             DSL           94.9   \n",
              "1           54.9             Sim             DSL           94.9   \n",
              "2           54.9             Nao           Fibra          129.9   \n",
              "3           54.9             Nao           Fibra          129.9   \n",
              "4           54.9             Nao           Fibra          129.9   \n",
              "\n",
              "  ServicoSegurancaOnline  ...  ServicoSuporteTecnico ServicoStreamingTV  \\\n",
              "0                    Nao  ...                    Sim                Sim   \n",
              "1                    Nao  ...                    Nao                Nao   \n",
              "2                    Nao  ...                    Nao                Nao   \n",
              "3                    Nao  ...                    Nao                Sim   \n",
              "4                    Nao  ...                    Sim                Sim   \n",
              "\n",
              "   ValorServiçoStreaming ServicoFilmes ValorServicoFilmes TipoContrato  \\\n",
              "0                   39.9           Nao                0.0        Anual   \n",
              "1                    0.0           Sim               19.9       Mensal   \n",
              "2                    0.0           Nao                0.0       Mensal   \n",
              "3                   39.9           Sim               19.9       Mensal   \n",
              "4                   39.9           Nao                0.0       Mensal   \n",
              "\n",
              "   FaturaDigital    FormaPagamento  ValorMensal Churn  \n",
              "0            Sim    BoletoImpresso        199.6   Nao  \n",
              "1            Nao    BoletoImpresso        169.7   Nao  \n",
              "2            Sim  BoletoEletronico        184.8   Sim  \n",
              "3            Sim  BoletoEletronico        254.5   Sim  \n",
              "4            Sim    BoletoImpresso        224.7   Sim  \n",
              "\n",
              "[5 rows x 24 columns]"
            ],
            "text/html": [
              "\n",
              "  <div id=\"df-3d13d700-a2f9-484d-882f-76b8c4a3ce6d\">\n",
              "    <div class=\"colab-df-container\">\n",
              "      <div>\n",
              "<style scoped>\n",
              "    .dataframe tbody tr th:only-of-type {\n",
              "        vertical-align: middle;\n",
              "    }\n",
              "\n",
              "    .dataframe tbody tr th {\n",
              "        vertical-align: top;\n",
              "    }\n",
              "\n",
              "    .dataframe thead th {\n",
              "        text-align: right;\n",
              "    }\n",
              "</style>\n",
              "<table border=\"1\" class=\"dataframe\">\n",
              "  <thead>\n",
              "    <tr style=\"text-align: right;\">\n",
              "      <th></th>\n",
              "      <th>IDCliente</th>\n",
              "      <th>Genero</th>\n",
              "      <th>Dependentes</th>\n",
              "      <th>MesesComoCliente</th>\n",
              "      <th>ServicoTelefone</th>\n",
              "      <th>ValorTelefone</th>\n",
              "      <th>MultiplasLinhas</th>\n",
              "      <th>ServicoInternet</th>\n",
              "      <th>ValorInternet</th>\n",
              "      <th>ServicoSegurancaOnline</th>\n",
              "      <th>...</th>\n",
              "      <th>ServicoSuporteTecnico</th>\n",
              "      <th>ServicoStreamingTV</th>\n",
              "      <th>ValorServiçoStreaming</th>\n",
              "      <th>ServicoFilmes</th>\n",
              "      <th>ValorServicoFilmes</th>\n",
              "      <th>TipoContrato</th>\n",
              "      <th>FaturaDigital</th>\n",
              "      <th>FormaPagamento</th>\n",
              "      <th>ValorMensal</th>\n",
              "      <th>Churn</th>\n",
              "    </tr>\n",
              "  </thead>\n",
              "  <tbody>\n",
              "    <tr>\n",
              "      <th>0</th>\n",
              "      <td>0002-ORFBO</td>\n",
              "      <td>Feminino</td>\n",
              "      <td>Sim</td>\n",
              "      <td>9</td>\n",
              "      <td>Sim</td>\n",
              "      <td>54.9</td>\n",
              "      <td>Nao</td>\n",
              "      <td>DSL</td>\n",
              "      <td>94.9</td>\n",
              "      <td>Nao</td>\n",
              "      <td>...</td>\n",
              "      <td>Sim</td>\n",
              "      <td>Sim</td>\n",
              "      <td>39.9</td>\n",
              "      <td>Nao</td>\n",
              "      <td>0.0</td>\n",
              "      <td>Anual</td>\n",
              "      <td>Sim</td>\n",
              "      <td>BoletoImpresso</td>\n",
              "      <td>199.6</td>\n",
              "      <td>Nao</td>\n",
              "    </tr>\n",
              "    <tr>\n",
              "      <th>1</th>\n",
              "      <td>0003-MKNFE</td>\n",
              "      <td>Masculino</td>\n",
              "      <td>Nao</td>\n",
              "      <td>9</td>\n",
              "      <td>Sim</td>\n",
              "      <td>54.9</td>\n",
              "      <td>Sim</td>\n",
              "      <td>DSL</td>\n",
              "      <td>94.9</td>\n",
              "      <td>Nao</td>\n",
              "      <td>...</td>\n",
              "      <td>Nao</td>\n",
              "      <td>Nao</td>\n",
              "      <td>0.0</td>\n",
              "      <td>Sim</td>\n",
              "      <td>19.9</td>\n",
              "      <td>Mensal</td>\n",
              "      <td>Nao</td>\n",
              "      <td>BoletoImpresso</td>\n",
              "      <td>169.7</td>\n",
              "      <td>Nao</td>\n",
              "    </tr>\n",
              "    <tr>\n",
              "      <th>2</th>\n",
              "      <td>0004-TLHLJ</td>\n",
              "      <td>Masculino</td>\n",
              "      <td>Nao</td>\n",
              "      <td>4</td>\n",
              "      <td>Sim</td>\n",
              "      <td>54.9</td>\n",
              "      <td>Nao</td>\n",
              "      <td>Fibra</td>\n",
              "      <td>129.9</td>\n",
              "      <td>Nao</td>\n",
              "      <td>...</td>\n",
              "      <td>Nao</td>\n",
              "      <td>Nao</td>\n",
              "      <td>0.0</td>\n",
              "      <td>Nao</td>\n",
              "      <td>0.0</td>\n",
              "      <td>Mensal</td>\n",
              "      <td>Sim</td>\n",
              "      <td>BoletoEletronico</td>\n",
              "      <td>184.8</td>\n",
              "      <td>Sim</td>\n",
              "    </tr>\n",
              "    <tr>\n",
              "      <th>3</th>\n",
              "      <td>0011-IGKFF</td>\n",
              "      <td>Masculino</td>\n",
              "      <td>Nao</td>\n",
              "      <td>13</td>\n",
              "      <td>Sim</td>\n",
              "      <td>54.9</td>\n",
              "      <td>Nao</td>\n",
              "      <td>Fibra</td>\n",
              "      <td>129.9</td>\n",
              "      <td>Nao</td>\n",
              "      <td>...</td>\n",
              "      <td>Nao</td>\n",
              "      <td>Sim</td>\n",
              "      <td>39.9</td>\n",
              "      <td>Sim</td>\n",
              "      <td>19.9</td>\n",
              "      <td>Mensal</td>\n",
              "      <td>Sim</td>\n",
              "      <td>BoletoEletronico</td>\n",
              "      <td>254.5</td>\n",
              "      <td>Sim</td>\n",
              "    </tr>\n",
              "    <tr>\n",
              "      <th>4</th>\n",
              "      <td>0013-EXCHZ</td>\n",
              "      <td>Feminino</td>\n",
              "      <td>Nao</td>\n",
              "      <td>3</td>\n",
              "      <td>Sim</td>\n",
              "      <td>54.9</td>\n",
              "      <td>Nao</td>\n",
              "      <td>Fibra</td>\n",
              "      <td>129.9</td>\n",
              "      <td>Nao</td>\n",
              "      <td>...</td>\n",
              "      <td>Sim</td>\n",
              "      <td>Sim</td>\n",
              "      <td>39.9</td>\n",
              "      <td>Nao</td>\n",
              "      <td>0.0</td>\n",
              "      <td>Mensal</td>\n",
              "      <td>Sim</td>\n",
              "      <td>BoletoImpresso</td>\n",
              "      <td>224.7</td>\n",
              "      <td>Sim</td>\n",
              "    </tr>\n",
              "  </tbody>\n",
              "</table>\n",
              "<p>5 rows × 24 columns</p>\n",
              "</div>\n",
              "      <button class=\"colab-df-convert\" onclick=\"convertToInteractive('df-3d13d700-a2f9-484d-882f-76b8c4a3ce6d')\"\n",
              "              title=\"Convert this dataframe to an interactive table.\"\n",
              "              style=\"display:none;\">\n",
              "        \n",
              "  <svg xmlns=\"http://www.w3.org/2000/svg\" height=\"24px\"viewBox=\"0 0 24 24\"\n",
              "       width=\"24px\">\n",
              "    <path d=\"M0 0h24v24H0V0z\" fill=\"none\"/>\n",
              "    <path d=\"M18.56 5.44l.94 2.06.94-2.06 2.06-.94-2.06-.94-.94-2.06-.94 2.06-2.06.94zm-11 1L8.5 8.5l.94-2.06 2.06-.94-2.06-.94L8.5 2.5l-.94 2.06-2.06.94zm10 10l.94 2.06.94-2.06 2.06-.94-2.06-.94-.94-2.06-.94 2.06-2.06.94z\"/><path d=\"M17.41 7.96l-1.37-1.37c-.4-.4-.92-.59-1.43-.59-.52 0-1.04.2-1.43.59L10.3 9.45l-7.72 7.72c-.78.78-.78 2.05 0 2.83L4 21.41c.39.39.9.59 1.41.59.51 0 1.02-.2 1.41-.59l7.78-7.78 2.81-2.81c.8-.78.8-2.07 0-2.86zM5.41 20L4 18.59l7.72-7.72 1.47 1.35L5.41 20z\"/>\n",
              "  </svg>\n",
              "      </button>\n",
              "      \n",
              "  <style>\n",
              "    .colab-df-container {\n",
              "      display:flex;\n",
              "      flex-wrap:wrap;\n",
              "      gap: 12px;\n",
              "    }\n",
              "\n",
              "    .colab-df-convert {\n",
              "      background-color: #E8F0FE;\n",
              "      border: none;\n",
              "      border-radius: 50%;\n",
              "      cursor: pointer;\n",
              "      display: none;\n",
              "      fill: #1967D2;\n",
              "      height: 32px;\n",
              "      padding: 0 0 0 0;\n",
              "      width: 32px;\n",
              "    }\n",
              "\n",
              "    .colab-df-convert:hover {\n",
              "      background-color: #E2EBFA;\n",
              "      box-shadow: 0px 1px 2px rgba(60, 64, 67, 0.3), 0px 1px 3px 1px rgba(60, 64, 67, 0.15);\n",
              "      fill: #174EA6;\n",
              "    }\n",
              "\n",
              "    [theme=dark] .colab-df-convert {\n",
              "      background-color: #3B4455;\n",
              "      fill: #D2E3FC;\n",
              "    }\n",
              "\n",
              "    [theme=dark] .colab-df-convert:hover {\n",
              "      background-color: #434B5C;\n",
              "      box-shadow: 0px 1px 3px 1px rgba(0, 0, 0, 0.15);\n",
              "      filter: drop-shadow(0px 1px 2px rgba(0, 0, 0, 0.3));\n",
              "      fill: #FFFFFF;\n",
              "    }\n",
              "  </style>\n",
              "\n",
              "      <script>\n",
              "        const buttonEl =\n",
              "          document.querySelector('#df-3d13d700-a2f9-484d-882f-76b8c4a3ce6d button.colab-df-convert');\n",
              "        buttonEl.style.display =\n",
              "          google.colab.kernel.accessAllowed ? 'block' : 'none';\n",
              "\n",
              "        async function convertToInteractive(key) {\n",
              "          const element = document.querySelector('#df-3d13d700-a2f9-484d-882f-76b8c4a3ce6d');\n",
              "          const dataTable =\n",
              "            await google.colab.kernel.invokeFunction('convertToInteractive',\n",
              "                                                     [key], {});\n",
              "          if (!dataTable) return;\n",
              "\n",
              "          const docLinkHtml = 'Like what you see? Visit the ' +\n",
              "            '<a target=\"_blank\" href=https://colab.research.google.com/notebooks/data_table.ipynb>data table notebook</a>'\n",
              "            + ' to learn more about interactive tables.';\n",
              "          element.innerHTML = '';\n",
              "          dataTable['output_type'] = 'display_data';\n",
              "          await google.colab.output.renderOutput(dataTable, element);\n",
              "          const docLink = document.createElement('div');\n",
              "          docLink.innerHTML = docLinkHtml;\n",
              "          element.appendChild(docLink);\n",
              "        }\n",
              "      </script>\n",
              "    </div>\n",
              "  </div>\n",
              "  "
            ]
          },
          "metadata": {},
          "execution_count": 4
        }
      ]
    },
    {
      "cell_type": "code",
      "source": [
        "dados=dados.drop([\"IDCliente\"],axis=1 )\t\t# Eliminando a coluna IDCliente"
      ],
      "metadata": {
        "id": "Ucdr9CPb07Zd"
      },
      "execution_count": 5,
      "outputs": []
    },
    {
      "cell_type": "code",
      "source": [],
      "metadata": {
        "id": "KvnsiJq8fX_o"
      },
      "execution_count": 5,
      "outputs": []
    },
    {
      "cell_type": "markdown",
      "source": [
        "## Analise de variáveis\n",
        "--------------------------------------------------------------------------------\n"
      ],
      "metadata": {
        "id": "jXMnUwZF_7vN"
      }
    },
    {
      "cell_type": "code",
      "source": [
        "dados.dtypes  # Visualizando o tipo de dado por coluna"
      ],
      "metadata": {
        "colab": {
          "base_uri": "https://localhost:8080/"
        },
        "id": "RGOHYsgb1WB7",
        "outputId": "f6a9c3a1-dea2-499e-f2c6-0a65a3193dec"
      },
      "execution_count": 6,
      "outputs": [
        {
          "output_type": "execute_result",
          "data": {
            "text/plain": [
              "Genero                     object\n",
              "Dependentes                object\n",
              "MesesComoCliente            int64\n",
              "ServicoTelefone            object\n",
              "ValorTelefone             float64\n",
              "MultiplasLinhas            object\n",
              "ServicoInternet            object\n",
              "ValorInternet             float64\n",
              "ServicoSegurancaOnline     object\n",
              "ValorSegurancaOnline      float64\n",
              "ServicoBackupOnline        object\n",
              "ValorBackupOnline         float64\n",
              "ProtecaoEquipamento        object\n",
              "ServicoSuporteTecnico      object\n",
              "ServicoStreamingTV         object\n",
              "ValorServiçoStreaming     float64\n",
              "ServicoFilmes              object\n",
              "ValorServicoFilmes        float64\n",
              "TipoContrato               object\n",
              "FaturaDigital              object\n",
              "FormaPagamento             object\n",
              "ValorMensal               float64\n",
              "Churn                      object\n",
              "dtype: object"
            ]
          },
          "metadata": {},
          "execution_count": 6
        }
      ]
    },
    {
      "cell_type": "code",
      "source": [
        "dados[\"Genero\"].value_counts()  # Contabilizando clientes masculinos e femininos"
      ],
      "metadata": {
        "colab": {
          "base_uri": "https://localhost:8080/"
        },
        "id": "iLQbq9x7AS6n",
        "outputId": "2976e450-5d0f-4fe9-f8b3-bfc1f3f2ab76"
      },
      "execution_count": 7,
      "outputs": [
        {
          "output_type": "execute_result",
          "data": {
            "text/plain": [
              "Masculino    3050\n",
              "Feminino     2936\n",
              "Name: Genero, dtype: int64"
            ]
          },
          "metadata": {},
          "execution_count": 7
        }
      ]
    },
    {
      "cell_type": "code",
      "source": [
        "# Contabilizando cancelamentos\n",
        "display(dados[\"Churn\"].value_counts(normalize=True).map(\"{:.1%}\".format))"
      ],
      "metadata": {
        "colab": {
          "base_uri": "https://localhost:8080/",
          "height": 69
        },
        "id": "XE-PXMioAsKC",
        "outputId": "39b499c7-0a7a-41a9-9037-091f47629040"
      },
      "execution_count": 8,
      "outputs": [
        {
          "output_type": "display_data",
          "data": {
            "text/plain": [
              "Nao    73.5%\n",
              "Sim    26.5%\n",
              "Name: Churn, dtype: object"
            ]
          },
          "metadata": {}
        }
      ]
    },
    {
      "cell_type": "code",
      "source": [
        "#Contabilizando dependentes\n",
        "display(dados[\"Dependentes\"].value_counts(normalize=True).map(\"{:.1%}\".format))"
      ],
      "metadata": {
        "colab": {
          "base_uri": "https://localhost:8080/",
          "height": 69
        },
        "id": "N7IFjp5JCJYr",
        "outputId": "9e088718-f8fd-448e-d05f-00a9e430f22a"
      },
      "execution_count": 9,
      "outputs": [
        {
          "output_type": "display_data",
          "data": {
            "text/plain": [
              "Nao    70.1%\n",
              "Sim    29.9%\n",
              "Name: Dependentes, dtype: object"
            ]
          },
          "metadata": {}
        }
      ]
    },
    {
      "cell_type": "code",
      "source": [
        "# Contabilizando formas de pagamento\n",
        "display(dados[\"FormaPagamento\"].value_counts(normalize=True).map(\"{:.1%}\".format))"
      ],
      "metadata": {
        "colab": {
          "base_uri": "https://localhost:8080/",
          "height": 104
        },
        "id": "k8IYns4OCyHZ",
        "outputId": "e76a6efa-6cc0-4632-d2f9-d48a5eea38b1"
      },
      "execution_count": 10,
      "outputs": [
        {
          "output_type": "display_data",
          "data": {
            "text/plain": [
              "BoletoEletronico    33.5%\n",
              "BoletoImpresso      22.9%\n",
              "DebitoAutomatico    21.9%\n",
              "CartaoCredito       21.8%\n",
              "Name: FormaPagamento, dtype: object"
            ]
          },
          "metadata": {}
        }
      ]
    },
    {
      "cell_type": "code",
      "source": [
        "display(dados[\"FaturaDigital\"].value_counts(normalize=True).map(\"{:.1%}\".format))"
      ],
      "metadata": {
        "colab": {
          "base_uri": "https://localhost:8080/",
          "height": 69
        },
        "id": "lApaZi9Yah8V",
        "outputId": "7155f1af-ffbe-4b2d-f540-e7290615ed9f"
      },
      "execution_count": 11,
      "outputs": [
        {
          "output_type": "display_data",
          "data": {
            "text/plain": [
              "Sim    58.9%\n",
              "Nao    41.1%\n",
              "Name: FaturaDigital, dtype: object"
            ]
          },
          "metadata": {}
        }
      ]
    },
    {
      "cell_type": "markdown",
      "source": [
        "# VERIFICANDO VALORES MISSING\n",
        "-------------------------------------------------------------\n",
        "-------------------------------------------------------------\n"
      ],
      "metadata": {
        "id": "aAEJ9cMfc1RY"
      }
    },
    {
      "cell_type": "code",
      "source": [
        "# Relação de quantidade\n",
        "dados.isnull().sum()  # Soma por categoria ( coluna ) todos os valores nulos ( NAN )"
      ],
      "metadata": {
        "colab": {
          "base_uri": "https://localhost:8080/"
        },
        "id": "QdK1pl05c-XC",
        "outputId": "38cbb4d6-f0e5-4e83-f1dd-7f19e9f83dfc"
      },
      "execution_count": 20,
      "outputs": [
        {
          "output_type": "execute_result",
          "data": {
            "text/plain": [
              "Genero                    0\n",
              "Dependentes               1\n",
              "MesesComoCliente          0\n",
              "ServicoTelefone           0\n",
              "ValorTelefone             0\n",
              "MultiplasLinhas           0\n",
              "ServicoInternet           0\n",
              "ValorInternet             0\n",
              "ServicoSegurancaOnline    0\n",
              "ValorSegurancaOnline      0\n",
              "ServicoBackupOnline       0\n",
              "ValorBackupOnline         0\n",
              "ProtecaoEquipamento       0\n",
              "ServicoSuporteTecnico     0\n",
              "ServicoStreamingTV        0\n",
              "ValorServiçoStreaming     0\n",
              "ServicoFilmes             0\n",
              "ValorServicoFilmes        0\n",
              "TipoContrato              0\n",
              "FaturaDigital             0\n",
              "FormaPagamento            0\n",
              "ValorMensal               0\n",
              "Churn                     1\n",
              "dtype: int64"
            ]
          },
          "metadata": {},
          "execution_count": 20
        }
      ]
    },
    {
      "cell_type": "code",
      "source": [
        "# Eliminando dados NAN ( quantidade:2, insignificante para o modelo)\n",
        "dados2 = dados.dropna() # Criando novo dataframe para mantar a integridade do dataframe original"
      ],
      "metadata": {
        "id": "whXVFGwIgiBY"
      },
      "execution_count": 21,
      "outputs": []
    },
    {
      "cell_type": "code",
      "source": [
        "dados2.isnull().sum() "
      ],
      "metadata": {
        "colab": {
          "base_uri": "https://localhost:8080/"
        },
        "id": "irdlGD3Bha3Z",
        "outputId": "cc771905-0838-437a-8686-93c50c290fdb"
      },
      "execution_count": 24,
      "outputs": [
        {
          "output_type": "execute_result",
          "data": {
            "text/plain": [
              "Genero                    0\n",
              "Dependentes               0\n",
              "MesesComoCliente          0\n",
              "ServicoTelefone           0\n",
              "ValorTelefone             0\n",
              "MultiplasLinhas           0\n",
              "ServicoInternet           0\n",
              "ValorInternet             0\n",
              "ServicoSegurancaOnline    0\n",
              "ValorSegurancaOnline      0\n",
              "ServicoBackupOnline       0\n",
              "ValorBackupOnline         0\n",
              "ProtecaoEquipamento       0\n",
              "ServicoSuporteTecnico     0\n",
              "ServicoStreamingTV        0\n",
              "ValorServiçoStreaming     0\n",
              "ServicoFilmes             0\n",
              "ValorServicoFilmes        0\n",
              "TipoContrato              0\n",
              "FaturaDigital             0\n",
              "FormaPagamento            0\n",
              "ValorMensal               0\n",
              "Churn                     0\n",
              "dtype: int64"
            ]
          },
          "metadata": {},
          "execution_count": 24
        }
      ]
    }
  ]
}